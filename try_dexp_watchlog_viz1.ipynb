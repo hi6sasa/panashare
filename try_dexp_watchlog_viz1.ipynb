{
 "cells": [
  {
   "cell_type": "code",
   "execution_count": 2,
   "metadata": {},
   "outputs": [],
   "source": [
    "from io import StringIO\n",
    "import pandas as pd"
   ]
  },
  {
   "cell_type": "code",
   "execution_count": 3,
   "metadata": {
    "scrolled": true
   },
   "outputs": [
    {
     "name": "stdout",
     "output_type": "stream",
     "text": [
      "20\n",
      "60\n",
      "None\n",
      "None\n"
     ]
    }
   ],
   "source": [
    "print(pd.get_option(\"display.max_columns\"))\n",
    "print(pd.get_option(\"display.max_rows\"))\n",
    "print(pd.set_option('display.max_columns', 1000))\n",
    "print(pd.set_option('display.max_rows', 1000))"
   ]
  },
  {
   "cell_type": "code",
   "execution_count": 6,
   "metadata": {},
   "outputs": [
    {
     "data": {
      "text/html": [
       "<div>\n",
       "<style scoped>\n",
       "    .dataframe tbody tr th:only-of-type {\n",
       "        vertical-align: middle;\n",
       "    }\n",
       "\n",
       "    .dataframe tbody tr th {\n",
       "        vertical-align: top;\n",
       "    }\n",
       "\n",
       "    .dataframe thead th {\n",
       "        text-align: right;\n",
       "    }\n",
       "</style>\n",
       "<table border=\"1\" class=\"dataframe\">\n",
       "  <thead>\n",
       "    <tr style=\"text-align: right;\">\n",
       "      <th></th>\n",
       "      <th>氏名コード</th>\n",
       "      <th>所属コード</th>\n",
       "      <th>開始日時</th>\n",
       "      <th>終了日時</th>\n",
       "      <th>取得件数</th>\n",
       "      <th>検索SQL</th>\n",
       "    </tr>\n",
       "  </thead>\n",
       "  <tbody>\n",
       "    <tr>\n",
       "      <th>0</th>\n",
       "      <td>123</td>\n",
       "      <td>4000123</td>\n",
       "      <td>20230101</td>\n",
       "      <td>20230102</td>\n",
       "      <td>20</td>\n",
       "      <td>select hanbai1tbl.name from hanbai1tbl where h...</td>\n",
       "    </tr>\n",
       "    <tr>\n",
       "      <th>1</th>\n",
       "      <td>456</td>\n",
       "      <td>7000123</td>\n",
       "      <td>20230101</td>\n",
       "      <td>20230102</td>\n",
       "      <td>30</td>\n",
       "      <td>select nwi1tbl.name from nw1tbl</td>\n",
       "    </tr>\n",
       "    <tr>\n",
       "      <th>2</th>\n",
       "      <td>789</td>\n",
       "      <td>2000111</td>\n",
       "      <td>20230101</td>\n",
       "      <td>20230102</td>\n",
       "      <td>2</td>\n",
       "      <td>select hanbai1tbl.name from hanbai1tbl,hanbai2...</td>\n",
       "    </tr>\n",
       "    <tr>\n",
       "      <th>3</th>\n",
       "      <td>741</td>\n",
       "      <td>3000123</td>\n",
       "      <td>20230101</td>\n",
       "      <td>20230102</td>\n",
       "      <td>100</td>\n",
       "      <td>select nwi1tbl.name from nw1tbl</td>\n",
       "    </tr>\n",
       "  </tbody>\n",
       "</table>\n",
       "</div>"
      ],
      "text/plain": [
       "   氏名コード    所属コード      開始日時      終了日時  取得件数  \\\n",
       "0    123  4000123  20230101  20230102    20   \n",
       "1    456  7000123  20230101  20230102    30   \n",
       "2    789  2000111  20230101  20230102     2   \n",
       "3    741  3000123  20230101  20230102   100   \n",
       "\n",
       "                                               検索SQL  \n",
       "0  select hanbai1tbl.name from hanbai1tbl where h...  \n",
       "1                    select nwi1tbl.name from nw1tbl  \n",
       "2  select hanbai1tbl.name from hanbai1tbl,hanbai2...  \n",
       "3                    select nwi1tbl.name from nw1tbl  "
      ]
     },
     "execution_count": 6,
     "metadata": {},
     "output_type": "execute_result"
    }
   ],
   "source": [
    "df= pd.read_excel('../data/dexp_watch_dummy.xls')\n",
    "df.head()\n"
   ]
  },
  {
   "cell_type": "markdown",
   "metadata": {},
   "source": [
    "- re.IGNORECASE フラグを設定すると、パターンの中で記述したアルファベットの大文字と小文字を区別しなくなります。\n",
    "−　https://www.megasoft.co.jp/mifes/seiki/meta.html\n",
    "-  ソース　https://note.com/ai_memo/n/n2e959f0ae2bc"
   ]
  },
  {
   "cell_type": "code",
   "execution_count": 12,
   "metadata": {},
   "outputs": [
    {
     "name": "stdout",
     "output_type": "stream",
     "text": [
      "['hanbai1tbl']\n",
      "['nw1tbl']\n",
      "['hanbai1tbl,hanbai2tbl']\n",
      "['nw1tbl']\n"
     ]
    }
   ],
   "source": [
    "import re\n",
    "\n",
    "for sql_text in df['検索SQL']:\n",
    "\n",
    "    # 正規表現を使用して、SQL文からテーブル名を抽出する\n",
    "    table_names = re.findall(r\"\\bFROM\\s+([^\\s;]+)\", sql_text, flags=re.IGNORECASE) + \\\n",
    "                  re.findall(r\"\\bJOIN\\s+([^\\s;]+)\", sql_text, flags=re.IGNORECASE)\n",
    "\n",
    "    # ユニークなテーブル名のリストを表示する\n",
    "    print(list(set(table_names)))"
   ]
  },
  {
   "cell_type": "code",
   "execution_count": 24,
   "metadata": {},
   "outputs": [
    {
     "name": "stdout",
     "output_type": "stream",
     "text": [
      "<class 'pandas.core.frame.DataFrame'>\n",
      "RangeIndex: 957 entries, 0 to 956\n",
      "Data columns (total 3 columns):\n",
      " #   Column  Non-Null Count  Dtype \n",
      "---  ------  --------------  ----- \n",
      " 0   業種別     957 non-null    object\n",
      " 1   groupe  957 non-null    object\n",
      " 2   value   957 non-null    object\n",
      "dtypes: object(3)\n",
      "memory usage: 22.6+ KB\n"
     ]
    },
    {
     "data": {
      "text/plain": [
       "(None,\n",
       "                 業種別 groupe value\n",
       " 0                合計  集計企業数  2263\n",
       " 1             製造業　計  集計企業数   551\n",
       " 2  食料品、飲料・たばこ・飼料製造業  集計企業数    84\n",
       " 3              繊維工業  集計企業数    14\n",
       " 4     パルプ・紙・紙加工品製造業  集計企業数    15)"
      ]
     },
     "execution_count": 24,
     "metadata": {},
     "output_type": "execute_result"
    }
   ],
   "source": [
    "#melt\n",
    "\n",
    "df_v4_1tbl_melt = df_v4_1tbl.melt(id_vars=['業種別'],var_name=\"groupe\")\n",
    "\n",
    "df_v4_2tbl_melt = df_v4_2tbl.melt(id_vars=['業種別'],var_name=\"groupe\")\n",
    "\n",
    "df_v4_1tbl_melt.info(),df_v4_1tbl_melt.head()\n",
    "#df_v4_2tbl_melt.info(),df_v4_2tbl_melt.head()\n",
    "\n",
    "#df_v4_1tbl_melt.info(),df_v4_1tbl_melt.groupby(\"groupe\").count()"
   ]
  },
  {
   "cell_type": "code",
   "execution_count": 25,
   "metadata": {},
   "outputs": [],
   "source": [
    "#可視化必要データへベース加工整形\n",
    "#df_v4_1tbl_melt exclusive '合計'　'製造業　計'　'非製造業　計'\n",
    "df_v4_1tbl_melt = df_v4_1tbl_melt[df_v4_1tbl_melt['業種別'] !=  '合計'] \n",
    "df_v4_1tbl_melt = df_v4_1tbl_melt[df_v4_1tbl_melt['業種別'] !=  '製造業　計'] \n",
    "df_v4_1tbl_melt = df_v4_1tbl_melt[df_v4_1tbl_melt['業種別'] !=  '非製造業　計'] \n",
    "\n",
    "#df_v4_2tbl_melt exclusive '合計'　'製造業　計'　'非製造業　計'\n",
    "df_v4_2tbl_melt = df_v4_2tbl_melt[df_v4_2tbl_melt['業種別'] !=  '合計'] \n",
    "df_v4_2tbl_melt = df_v4_2tbl_melt[df_v4_2tbl_melt['業種別'] !=  '製造業　計'] \n",
    "df_v4_2tbl_melt = df_v4_2tbl_melt[df_v4_2tbl_melt['業種別'] !=  '非製造業　計'] "
   ]
  },
  {
   "cell_type": "markdown",
   "metadata": {},
   "source": [
    "## 可視化"
   ]
  },
  {
   "cell_type": "code",
   "execution_count": 26,
   "metadata": {},
   "outputs": [],
   "source": [
    "import plotly.express as px\n",
    "import plotly.graph_objects as go\n",
    "from plotly.subplots import make_subplots"
   ]
  },
  {
   "cell_type": "markdown",
   "metadata": {},
   "source": [
    "## IT関係諸経費内訳"
   ]
  },
  {
   "cell_type": "markdown",
   "metadata": {},
   "source": [
    "## 産業における1企業当たりIt関係諸経費"
   ]
  },
  {
   "cell_type": "code",
   "execution_count": 28,
   "metadata": {
    "scrolled": true
   },
   "outputs": [
    {
     "data": {
      "application/vnd.plotly.v1+json": {
       "config": {
        "plotlyServerURL": "https://plot.ly"
       },
       "data": [
        {
         "alignmentgroup": "True",
         "hovertemplate": "業種別=%{x}<br>value=%{y}<extra></extra>",
         "legendgroup": "食料品、飲料・たばこ・飼料製造業",
         "marker": {
          "color": "#636efa",
          "pattern": {
           "shape": ""
          }
         },
         "name": "食料品、飲料・たばこ・飼料製造業",
         "offsetgroup": "食料品、飲料・たばこ・飼料製造業",
         "orientation": "v",
         "showlegend": true,
         "textposition": "auto",
         "type": "bar",
         "x": [
          "食料品、飲料・たばこ・飼料製造業"
         ],
         "xaxis": "x",
         "y": [
          529.336142857143
         ],
         "yaxis": "y"
        },
        {
         "alignmentgroup": "True",
         "hovertemplate": "業種別=%{x}<br>value=%{y}<extra></extra>",
         "legendgroup": "繊維工業",
         "marker": {
          "color": "#EF553B",
          "pattern": {
           "shape": ""
          }
         },
         "name": "繊維工業",
         "offsetgroup": "繊維工業",
         "orientation": "v",
         "showlegend": true,
         "textposition": "auto",
         "type": "bar",
         "x": [
          "繊維工業"
         ],
         "xaxis": "x",
         "y": [
          36.22222222222222
         ],
         "yaxis": "y"
        },
        {
         "alignmentgroup": "True",
         "hovertemplate": "業種別=%{x}<br>value=%{y}<extra></extra>",
         "legendgroup": "パルプ・紙・紙加工品製造業",
         "marker": {
          "color": "#00cc96",
          "pattern": {
           "shape": ""
          }
         },
         "name": "パルプ・紙・紙加工品製造業",
         "offsetgroup": "パルプ・紙・紙加工品製造業",
         "orientation": "v",
         "showlegend": true,
         "textposition": "auto",
         "type": "bar",
         "x": [
          "パルプ・紙・紙加工品製造業"
         ],
         "xaxis": "x",
         "y": [
          383.9230769230769
         ],
         "yaxis": "y"
        },
        {
         "alignmentgroup": "True",
         "hovertemplate": "業種別=%{x}<br>value=%{y}<extra></extra>",
         "legendgroup": "化学工業",
         "marker": {
          "color": "#ab63fa",
          "pattern": {
           "shape": ""
          }
         },
         "name": "化学工業",
         "offsetgroup": "化学工業",
         "orientation": "v",
         "showlegend": true,
         "textposition": "auto",
         "type": "bar",
         "x": [
          "化学工業"
         ],
         "xaxis": "x",
         "y": [
          1405.7083333333333
         ],
         "yaxis": "y"
        },
        {
         "alignmentgroup": "True",
         "hovertemplate": "業種別=%{x}<br>value=%{y}<extra></extra>",
         "legendgroup": "石油・石炭・ﾌﾟﾗｽﾁｯｸ製品製造業",
         "marker": {
          "color": "#FFA15A",
          "pattern": {
           "shape": ""
          }
         },
         "name": "石油・石炭・ﾌﾟﾗｽﾁｯｸ製品製造業",
         "offsetgroup": "石油・石炭・ﾌﾟﾗｽﾁｯｸ製品製造業",
         "orientation": "v",
         "showlegend": true,
         "textposition": "auto",
         "type": "bar",
         "x": [
          "石油・石炭・ﾌﾟﾗｽﾁｯｸ製品製造業"
         ],
         "xaxis": "x",
         "y": [
          4778.227272727273
         ],
         "yaxis": "y"
        },
        {
         "alignmentgroup": "True",
         "hovertemplate": "業種別=%{x}<br>value=%{y}<extra></extra>",
         "legendgroup": "窯業・土石製品製造業",
         "marker": {
          "color": "#19d3f3",
          "pattern": {
           "shape": ""
          }
         },
         "name": "窯業・土石製品製造業",
         "offsetgroup": "窯業・土石製品製造業",
         "orientation": "v",
         "showlegend": true,
         "textposition": "auto",
         "type": "bar",
         "x": [
          "窯業・土石製品製造業"
         ],
         "xaxis": "x",
         "y": [
          434.1111111111111
         ],
         "yaxis": "y"
        },
        {
         "alignmentgroup": "True",
         "hovertemplate": "業種別=%{x}<br>value=%{y}<extra></extra>",
         "legendgroup": "鉄鋼業",
         "marker": {
          "color": "#FF6692",
          "pattern": {
           "shape": ""
          }
         },
         "name": "鉄鋼業",
         "offsetgroup": "鉄鋼業",
         "orientation": "v",
         "showlegend": true,
         "textposition": "auto",
         "type": "bar",
         "x": [
          "鉄鋼業"
         ],
         "xaxis": "x",
         "y": [
          1746.3157894736842
         ],
         "yaxis": "y"
        },
        {
         "alignmentgroup": "True",
         "hovertemplate": "業種別=%{x}<br>value=%{y}<extra></extra>",
         "legendgroup": "非鉄金属製品・金属製品製造業",
         "marker": {
          "color": "#B6E880",
          "pattern": {
           "shape": ""
          }
         },
         "name": "非鉄金属製品・金属製品製造業",
         "offsetgroup": "非鉄金属製品・金属製品製造業",
         "orientation": "v",
         "showlegend": true,
         "textposition": "auto",
         "type": "bar",
         "x": [
          "非鉄金属製品・金属製品製造業"
         ],
         "xaxis": "x",
         "y": [
          606.7051282051282
         ],
         "yaxis": "y"
        },
        {
         "alignmentgroup": "True",
         "hovertemplate": "業種別=%{x}<br>value=%{y}<extra></extra>",
         "legendgroup": "電気機械器具製造業",
         "marker": {
          "color": "#FF97FF",
          "pattern": {
           "shape": ""
          }
         },
         "name": "電気機械器具製造業",
         "offsetgroup": "電気機械器具製造業",
         "orientation": "v",
         "showlegend": true,
         "textposition": "auto",
         "type": "bar",
         "x": [
          "電気機械器具製造業"
         ],
         "xaxis": "x",
         "y": [
          1182.388888888889
         ],
         "yaxis": "y"
        },
        {
         "alignmentgroup": "True",
         "hovertemplate": "業種別=%{x}<br>value=%{y}<extra></extra>",
         "legendgroup": "情報通信機械器具製造業",
         "marker": {
          "color": "#FECB52",
          "pattern": {
           "shape": ""
          }
         },
         "name": "情報通信機械器具製造業",
         "offsetgroup": "情報通信機械器具製造業",
         "orientation": "v",
         "showlegend": true,
         "textposition": "auto",
         "type": "bar",
         "x": [
          "情報通信機械器具製造業"
         ],
         "xaxis": "x",
         "y": [
          1883.5875000000003
         ],
         "yaxis": "y"
        },
        {
         "alignmentgroup": "True",
         "hovertemplate": "業種別=%{x}<br>value=%{y}<extra></extra>",
         "legendgroup": "輸送用機械器具製造業",
         "marker": {
          "color": "#636efa",
          "pattern": {
           "shape": ""
          }
         },
         "name": "輸送用機械器具製造業",
         "offsetgroup": "輸送用機械器具製造業",
         "orientation": "v",
         "showlegend": true,
         "textposition": "auto",
         "type": "bar",
         "x": [
          "輸送用機械器具製造業"
         ],
         "xaxis": "x",
         "y": [
          3855.5178571428573
         ],
         "yaxis": "y"
        },
        {
         "alignmentgroup": "True",
         "hovertemplate": "業種別=%{x}<br>value=%{y}<extra></extra>",
         "legendgroup": "その他機械器具製造業",
         "marker": {
          "color": "#EF553B",
          "pattern": {
           "shape": ""
          }
         },
         "name": "その他機械器具製造業",
         "offsetgroup": "その他機械器具製造業",
         "orientation": "v",
         "showlegend": true,
         "textposition": "auto",
         "type": "bar",
         "x": [
          "その他機械器具製造業"
         ],
         "xaxis": "x",
         "y": [
          737.016129032258
         ],
         "yaxis": "y"
        },
        {
         "alignmentgroup": "True",
         "hovertemplate": "業種別=%{x}<br>value=%{y}<extra></extra>",
         "legendgroup": "その他の製造業",
         "marker": {
          "color": "#00cc96",
          "pattern": {
           "shape": ""
          }
         },
         "name": "その他の製造業",
         "offsetgroup": "その他の製造業",
         "orientation": "v",
         "showlegend": true,
         "textposition": "auto",
         "type": "bar",
         "x": [
          "その他の製造業"
         ],
         "xaxis": "x",
         "y": [
          709.078947368421
         ],
         "yaxis": "y"
        },
        {
         "alignmentgroup": "True",
         "hovertemplate": "業種別=%{x}<br>value=%{y}<extra></extra>",
         "legendgroup": "農林漁業・同協同組合、鉱業",
         "marker": {
          "color": "#ab63fa",
          "pattern": {
           "shape": ""
          }
         },
         "name": "農林漁業・同協同組合、鉱業",
         "offsetgroup": "農林漁業・同協同組合、鉱業",
         "orientation": "v",
         "showlegend": true,
         "textposition": "auto",
         "type": "bar",
         "x": [
          "農林漁業・同協同組合、鉱業"
         ],
         "xaxis": "x",
         "y": [
          14.75
         ],
         "yaxis": "y"
        },
        {
         "alignmentgroup": "True",
         "hovertemplate": "業種別=%{x}<br>value=%{y}<extra></extra>",
         "legendgroup": "建設業",
         "marker": {
          "color": "#FFA15A",
          "pattern": {
           "shape": ""
          }
         },
         "name": "建設業",
         "offsetgroup": "建設業",
         "orientation": "v",
         "showlegend": true,
         "textposition": "auto",
         "type": "bar",
         "x": [
          "建設業"
         ],
         "xaxis": "x",
         "y": [
          267.85310734463275
         ],
         "yaxis": "y"
        },
        {
         "alignmentgroup": "True",
         "hovertemplate": "業種別=%{x}<br>value=%{y}<extra></extra>",
         "legendgroup": "電気・ガス・熱供給・水道業",
         "marker": {
          "color": "#19d3f3",
          "pattern": {
           "shape": ""
          }
         },
         "name": "電気・ガス・熱供給・水道業",
         "offsetgroup": "電気・ガス・熱供給・水道業",
         "orientation": "v",
         "showlegend": true,
         "textposition": "auto",
         "type": "bar",
         "x": [
          "電気・ガス・熱供給・水道業"
         ],
         "xaxis": "x",
         "y": [
          2435.2105263157896
         ],
         "yaxis": "y"
        },
        {
         "alignmentgroup": "True",
         "hovertemplate": "業種別=%{x}<br>value=%{y}<extra></extra>",
         "legendgroup": "映像・音声情報制作・放送・通信業",
         "marker": {
          "color": "#FF6692",
          "pattern": {
           "shape": ""
          }
         },
         "name": "映像・音声情報制作・放送・通信業",
         "offsetgroup": "映像・音声情報制作・放送・通信業",
         "orientation": "v",
         "showlegend": true,
         "textposition": "auto",
         "type": "bar",
         "x": [
          "映像・音声情報制作・放送・通信業"
         ],
         "xaxis": "x",
         "y": [
          4433.318181818182
         ],
         "yaxis": "y"
        },
        {
         "alignmentgroup": "True",
         "hovertemplate": "業種別=%{x}<br>value=%{y}<extra></extra>",
         "legendgroup": "新聞・出版業",
         "marker": {
          "color": "#B6E880",
          "pattern": {
           "shape": ""
          }
         },
         "name": "新聞・出版業",
         "offsetgroup": "新聞・出版業",
         "orientation": "v",
         "showlegend": true,
         "textposition": "auto",
         "type": "bar",
         "x": [
          "新聞・出版業"
         ],
         "xaxis": "x",
         "y": [
          433.57142857142856
         ],
         "yaxis": "y"
        },
        {
         "alignmentgroup": "True",
         "hovertemplate": "業種別=%{x}<br>value=%{y}<extra></extra>",
         "legendgroup": "情報サービス業",
         "marker": {
          "color": "#FF97FF",
          "pattern": {
           "shape": ""
          }
         },
         "name": "情報サービス業",
         "offsetgroup": "情報サービス業",
         "orientation": "v",
         "showlegend": true,
         "textposition": "auto",
         "type": "bar",
         "x": [
          "情報サービス業"
         ],
         "xaxis": "x",
         "y": [
          769.0294736842105
         ],
         "yaxis": "y"
        },
        {
         "alignmentgroup": "True",
         "hovertemplate": "業種別=%{x}<br>value=%{y}<extra></extra>",
         "legendgroup": "運輸業・郵便業",
         "marker": {
          "color": "#FECB52",
          "pattern": {
           "shape": ""
          }
         },
         "name": "運輸業・郵便業",
         "offsetgroup": "運輸業・郵便業",
         "orientation": "v",
         "showlegend": true,
         "textposition": "auto",
         "type": "bar",
         "x": [
          "運輸業・郵便業"
         ],
         "xaxis": "x",
         "y": [
          622.4555555555556
         ],
         "yaxis": "y"
        },
        {
         "alignmentgroup": "True",
         "hovertemplate": "業種別=%{x}<br>value=%{y}<extra></extra>",
         "legendgroup": "卸売業",
         "marker": {
          "color": "#636efa",
          "pattern": {
           "shape": ""
          }
         },
         "name": "卸売業",
         "offsetgroup": "卸売業",
         "orientation": "v",
         "showlegend": true,
         "textposition": "auto",
         "type": "bar",
         "x": [
          "卸売業"
         ],
         "xaxis": "x",
         "y": [
          678.5035460992908
         ],
         "yaxis": "y"
        },
        {
         "alignmentgroup": "True",
         "hovertemplate": "業種別=%{x}<br>value=%{y}<extra></extra>",
         "legendgroup": "小売業",
         "marker": {
          "color": "#EF553B",
          "pattern": {
           "shape": ""
          }
         },
         "name": "小売業",
         "offsetgroup": "小売業",
         "orientation": "v",
         "showlegend": true,
         "textposition": "auto",
         "type": "bar",
         "x": [
          "小売業"
         ],
         "xaxis": "x",
         "y": [
          422.2625
         ],
         "yaxis": "y"
        },
        {
         "alignmentgroup": "True",
         "hovertemplate": "業種別=%{x}<br>value=%{y}<extra></extra>",
         "legendgroup": "金融業・保険業",
         "marker": {
          "color": "#00cc96",
          "pattern": {
           "shape": ""
          }
         },
         "name": "金融業・保険業",
         "offsetgroup": "金融業・保険業",
         "orientation": "v",
         "showlegend": true,
         "textposition": "auto",
         "type": "bar",
         "x": [
          "金融業・保険業"
         ],
         "xaxis": "x",
         "y": [
          3163.214492753623
         ],
         "yaxis": "y"
        },
        {
         "alignmentgroup": "True",
         "hovertemplate": "業種別=%{x}<br>value=%{y}<extra></extra>",
         "legendgroup": "医療業（国・公立除く）",
         "marker": {
          "color": "#ab63fa",
          "pattern": {
           "shape": ""
          }
         },
         "name": "医療業（国・公立除く）",
         "offsetgroup": "医療業（国・公立除く）",
         "orientation": "v",
         "showlegend": true,
         "textposition": "auto",
         "type": "bar",
         "x": [
          "医療業（国・公立除く）"
         ],
         "xaxis": "x",
         "y": [
          179.66666666666666
         ],
         "yaxis": "y"
        },
        {
         "alignmentgroup": "True",
         "hovertemplate": "業種別=%{x}<br>value=%{y}<extra></extra>",
         "legendgroup": "教育（国・公立除く）、学習支援業",
         "marker": {
          "color": "#FFA15A",
          "pattern": {
           "shape": ""
          }
         },
         "name": "教育（国・公立除く）、学習支援業",
         "offsetgroup": "教育（国・公立除く）、学習支援業",
         "orientation": "v",
         "showlegend": true,
         "textposition": "auto",
         "type": "bar",
         "x": [
          "教育（国・公立除く）、学習支援業"
         ],
         "xaxis": "x",
         "y": [
          26.5
         ],
         "yaxis": "y"
        },
        {
         "alignmentgroup": "True",
         "hovertemplate": "業種別=%{x}<br>value=%{y}<extra></extra>",
         "legendgroup": "その他の非製造業",
         "marker": {
          "color": "#19d3f3",
          "pattern": {
           "shape": ""
          }
         },
         "name": "その他の非製造業",
         "offsetgroup": "その他の非製造業",
         "orientation": "v",
         "showlegend": true,
         "textposition": "auto",
         "type": "bar",
         "x": [
          "その他の非製造業"
         ],
         "xaxis": "x",
         "y": [
          296.24004474272937
         ],
         "yaxis": "y"
        }
       ],
       "layout": {
        "barmode": "relative",
        "legend": {
         "title": {
          "text": "業種別"
         },
         "tracegroupgap": 0
        },
        "margin": {
         "t": 60
        },
        "template": {
         "data": {
          "bar": [
           {
            "error_x": {
             "color": "#2a3f5f"
            },
            "error_y": {
             "color": "#2a3f5f"
            },
            "marker": {
             "line": {
              "color": "#E5ECF6",
              "width": 0.5
             },
             "pattern": {
              "fillmode": "overlay",
              "size": 10,
              "solidity": 0.2
             }
            },
            "type": "bar"
           }
          ],
          "barpolar": [
           {
            "marker": {
             "line": {
              "color": "#E5ECF6",
              "width": 0.5
             },
             "pattern": {
              "fillmode": "overlay",
              "size": 10,
              "solidity": 0.2
             }
            },
            "type": "barpolar"
           }
          ],
          "carpet": [
           {
            "aaxis": {
             "endlinecolor": "#2a3f5f",
             "gridcolor": "white",
             "linecolor": "white",
             "minorgridcolor": "white",
             "startlinecolor": "#2a3f5f"
            },
            "baxis": {
             "endlinecolor": "#2a3f5f",
             "gridcolor": "white",
             "linecolor": "white",
             "minorgridcolor": "white",
             "startlinecolor": "#2a3f5f"
            },
            "type": "carpet"
           }
          ],
          "choropleth": [
           {
            "colorbar": {
             "outlinewidth": 0,
             "ticks": ""
            },
            "type": "choropleth"
           }
          ],
          "contour": [
           {
            "colorbar": {
             "outlinewidth": 0,
             "ticks": ""
            },
            "colorscale": [
             [
              0,
              "#0d0887"
             ],
             [
              0.1111111111111111,
              "#46039f"
             ],
             [
              0.2222222222222222,
              "#7201a8"
             ],
             [
              0.3333333333333333,
              "#9c179e"
             ],
             [
              0.4444444444444444,
              "#bd3786"
             ],
             [
              0.5555555555555556,
              "#d8576b"
             ],
             [
              0.6666666666666666,
              "#ed7953"
             ],
             [
              0.7777777777777778,
              "#fb9f3a"
             ],
             [
              0.8888888888888888,
              "#fdca26"
             ],
             [
              1,
              "#f0f921"
             ]
            ],
            "type": "contour"
           }
          ],
          "contourcarpet": [
           {
            "colorbar": {
             "outlinewidth": 0,
             "ticks": ""
            },
            "type": "contourcarpet"
           }
          ],
          "heatmap": [
           {
            "colorbar": {
             "outlinewidth": 0,
             "ticks": ""
            },
            "colorscale": [
             [
              0,
              "#0d0887"
             ],
             [
              0.1111111111111111,
              "#46039f"
             ],
             [
              0.2222222222222222,
              "#7201a8"
             ],
             [
              0.3333333333333333,
              "#9c179e"
             ],
             [
              0.4444444444444444,
              "#bd3786"
             ],
             [
              0.5555555555555556,
              "#d8576b"
             ],
             [
              0.6666666666666666,
              "#ed7953"
             ],
             [
              0.7777777777777778,
              "#fb9f3a"
             ],
             [
              0.8888888888888888,
              "#fdca26"
             ],
             [
              1,
              "#f0f921"
             ]
            ],
            "type": "heatmap"
           }
          ],
          "heatmapgl": [
           {
            "colorbar": {
             "outlinewidth": 0,
             "ticks": ""
            },
            "colorscale": [
             [
              0,
              "#0d0887"
             ],
             [
              0.1111111111111111,
              "#46039f"
             ],
             [
              0.2222222222222222,
              "#7201a8"
             ],
             [
              0.3333333333333333,
              "#9c179e"
             ],
             [
              0.4444444444444444,
              "#bd3786"
             ],
             [
              0.5555555555555556,
              "#d8576b"
             ],
             [
              0.6666666666666666,
              "#ed7953"
             ],
             [
              0.7777777777777778,
              "#fb9f3a"
             ],
             [
              0.8888888888888888,
              "#fdca26"
             ],
             [
              1,
              "#f0f921"
             ]
            ],
            "type": "heatmapgl"
           }
          ],
          "histogram": [
           {
            "marker": {
             "pattern": {
              "fillmode": "overlay",
              "size": 10,
              "solidity": 0.2
             }
            },
            "type": "histogram"
           }
          ],
          "histogram2d": [
           {
            "colorbar": {
             "outlinewidth": 0,
             "ticks": ""
            },
            "colorscale": [
             [
              0,
              "#0d0887"
             ],
             [
              0.1111111111111111,
              "#46039f"
             ],
             [
              0.2222222222222222,
              "#7201a8"
             ],
             [
              0.3333333333333333,
              "#9c179e"
             ],
             [
              0.4444444444444444,
              "#bd3786"
             ],
             [
              0.5555555555555556,
              "#d8576b"
             ],
             [
              0.6666666666666666,
              "#ed7953"
             ],
             [
              0.7777777777777778,
              "#fb9f3a"
             ],
             [
              0.8888888888888888,
              "#fdca26"
             ],
             [
              1,
              "#f0f921"
             ]
            ],
            "type": "histogram2d"
           }
          ],
          "histogram2dcontour": [
           {
            "colorbar": {
             "outlinewidth": 0,
             "ticks": ""
            },
            "colorscale": [
             [
              0,
              "#0d0887"
             ],
             [
              0.1111111111111111,
              "#46039f"
             ],
             [
              0.2222222222222222,
              "#7201a8"
             ],
             [
              0.3333333333333333,
              "#9c179e"
             ],
             [
              0.4444444444444444,
              "#bd3786"
             ],
             [
              0.5555555555555556,
              "#d8576b"
             ],
             [
              0.6666666666666666,
              "#ed7953"
             ],
             [
              0.7777777777777778,
              "#fb9f3a"
             ],
             [
              0.8888888888888888,
              "#fdca26"
             ],
             [
              1,
              "#f0f921"
             ]
            ],
            "type": "histogram2dcontour"
           }
          ],
          "mesh3d": [
           {
            "colorbar": {
             "outlinewidth": 0,
             "ticks": ""
            },
            "type": "mesh3d"
           }
          ],
          "parcoords": [
           {
            "line": {
             "colorbar": {
              "outlinewidth": 0,
              "ticks": ""
             }
            },
            "type": "parcoords"
           }
          ],
          "pie": [
           {
            "automargin": true,
            "type": "pie"
           }
          ],
          "scatter": [
           {
            "marker": {
             "colorbar": {
              "outlinewidth": 0,
              "ticks": ""
             }
            },
            "type": "scatter"
           }
          ],
          "scatter3d": [
           {
            "line": {
             "colorbar": {
              "outlinewidth": 0,
              "ticks": ""
             }
            },
            "marker": {
             "colorbar": {
              "outlinewidth": 0,
              "ticks": ""
             }
            },
            "type": "scatter3d"
           }
          ],
          "scattercarpet": [
           {
            "marker": {
             "colorbar": {
              "outlinewidth": 0,
              "ticks": ""
             }
            },
            "type": "scattercarpet"
           }
          ],
          "scattergeo": [
           {
            "marker": {
             "colorbar": {
              "outlinewidth": 0,
              "ticks": ""
             }
            },
            "type": "scattergeo"
           }
          ],
          "scattergl": [
           {
            "marker": {
             "colorbar": {
              "outlinewidth": 0,
              "ticks": ""
             }
            },
            "type": "scattergl"
           }
          ],
          "scattermapbox": [
           {
            "marker": {
             "colorbar": {
              "outlinewidth": 0,
              "ticks": ""
             }
            },
            "type": "scattermapbox"
           }
          ],
          "scatterpolar": [
           {
            "marker": {
             "colorbar": {
              "outlinewidth": 0,
              "ticks": ""
             }
            },
            "type": "scatterpolar"
           }
          ],
          "scatterpolargl": [
           {
            "marker": {
             "colorbar": {
              "outlinewidth": 0,
              "ticks": ""
             }
            },
            "type": "scatterpolargl"
           }
          ],
          "scatterternary": [
           {
            "marker": {
             "colorbar": {
              "outlinewidth": 0,
              "ticks": ""
             }
            },
            "type": "scatterternary"
           }
          ],
          "surface": [
           {
            "colorbar": {
             "outlinewidth": 0,
             "ticks": ""
            },
            "colorscale": [
             [
              0,
              "#0d0887"
             ],
             [
              0.1111111111111111,
              "#46039f"
             ],
             [
              0.2222222222222222,
              "#7201a8"
             ],
             [
              0.3333333333333333,
              "#9c179e"
             ],
             [
              0.4444444444444444,
              "#bd3786"
             ],
             [
              0.5555555555555556,
              "#d8576b"
             ],
             [
              0.6666666666666666,
              "#ed7953"
             ],
             [
              0.7777777777777778,
              "#fb9f3a"
             ],
             [
              0.8888888888888888,
              "#fdca26"
             ],
             [
              1,
              "#f0f921"
             ]
            ],
            "type": "surface"
           }
          ],
          "table": [
           {
            "cells": {
             "fill": {
              "color": "#EBF0F8"
             },
             "line": {
              "color": "white"
             }
            },
            "header": {
             "fill": {
              "color": "#C8D4E3"
             },
             "line": {
              "color": "white"
             }
            },
            "type": "table"
           }
          ]
         },
         "layout": {
          "annotationdefaults": {
           "arrowcolor": "#2a3f5f",
           "arrowhead": 0,
           "arrowwidth": 1
          },
          "autotypenumbers": "strict",
          "coloraxis": {
           "colorbar": {
            "outlinewidth": 0,
            "ticks": ""
           }
          },
          "colorscale": {
           "diverging": [
            [
             0,
             "#8e0152"
            ],
            [
             0.1,
             "#c51b7d"
            ],
            [
             0.2,
             "#de77ae"
            ],
            [
             0.3,
             "#f1b6da"
            ],
            [
             0.4,
             "#fde0ef"
            ],
            [
             0.5,
             "#f7f7f7"
            ],
            [
             0.6,
             "#e6f5d0"
            ],
            [
             0.7,
             "#b8e186"
            ],
            [
             0.8,
             "#7fbc41"
            ],
            [
             0.9,
             "#4d9221"
            ],
            [
             1,
             "#276419"
            ]
           ],
           "sequential": [
            [
             0,
             "#0d0887"
            ],
            [
             0.1111111111111111,
             "#46039f"
            ],
            [
             0.2222222222222222,
             "#7201a8"
            ],
            [
             0.3333333333333333,
             "#9c179e"
            ],
            [
             0.4444444444444444,
             "#bd3786"
            ],
            [
             0.5555555555555556,
             "#d8576b"
            ],
            [
             0.6666666666666666,
             "#ed7953"
            ],
            [
             0.7777777777777778,
             "#fb9f3a"
            ],
            [
             0.8888888888888888,
             "#fdca26"
            ],
            [
             1,
             "#f0f921"
            ]
           ],
           "sequentialminus": [
            [
             0,
             "#0d0887"
            ],
            [
             0.1111111111111111,
             "#46039f"
            ],
            [
             0.2222222222222222,
             "#7201a8"
            ],
            [
             0.3333333333333333,
             "#9c179e"
            ],
            [
             0.4444444444444444,
             "#bd3786"
            ],
            [
             0.5555555555555556,
             "#d8576b"
            ],
            [
             0.6666666666666666,
             "#ed7953"
            ],
            [
             0.7777777777777778,
             "#fb9f3a"
            ],
            [
             0.8888888888888888,
             "#fdca26"
            ],
            [
             1,
             "#f0f921"
            ]
           ]
          },
          "colorway": [
           "#636efa",
           "#EF553B",
           "#00cc96",
           "#ab63fa",
           "#FFA15A",
           "#19d3f3",
           "#FF6692",
           "#B6E880",
           "#FF97FF",
           "#FECB52"
          ],
          "font": {
           "color": "#2a3f5f"
          },
          "geo": {
           "bgcolor": "white",
           "lakecolor": "white",
           "landcolor": "#E5ECF6",
           "showlakes": true,
           "showland": true,
           "subunitcolor": "white"
          },
          "hoverlabel": {
           "align": "left"
          },
          "hovermode": "closest",
          "mapbox": {
           "style": "light"
          },
          "paper_bgcolor": "white",
          "plot_bgcolor": "#E5ECF6",
          "polar": {
           "angularaxis": {
            "gridcolor": "white",
            "linecolor": "white",
            "ticks": ""
           },
           "bgcolor": "#E5ECF6",
           "radialaxis": {
            "gridcolor": "white",
            "linecolor": "white",
            "ticks": ""
           }
          },
          "scene": {
           "xaxis": {
            "backgroundcolor": "#E5ECF6",
            "gridcolor": "white",
            "gridwidth": 2,
            "linecolor": "white",
            "showbackground": true,
            "ticks": "",
            "zerolinecolor": "white"
           },
           "yaxis": {
            "backgroundcolor": "#E5ECF6",
            "gridcolor": "white",
            "gridwidth": 2,
            "linecolor": "white",
            "showbackground": true,
            "ticks": "",
            "zerolinecolor": "white"
           },
           "zaxis": {
            "backgroundcolor": "#E5ECF6",
            "gridcolor": "white",
            "gridwidth": 2,
            "linecolor": "white",
            "showbackground": true,
            "ticks": "",
            "zerolinecolor": "white"
           }
          },
          "shapedefaults": {
           "line": {
            "color": "#2a3f5f"
           }
          },
          "ternary": {
           "aaxis": {
            "gridcolor": "white",
            "linecolor": "white",
            "ticks": ""
           },
           "baxis": {
            "gridcolor": "white",
            "linecolor": "white",
            "ticks": ""
           },
           "bgcolor": "#E5ECF6",
           "caxis": {
            "gridcolor": "white",
            "linecolor": "white",
            "ticks": ""
           }
          },
          "title": {
           "x": 0.05
          },
          "xaxis": {
           "automargin": true,
           "gridcolor": "white",
           "linecolor": "white",
           "ticks": "",
           "title": {
            "standoff": 15
           },
           "zerolinecolor": "white",
           "zerolinewidth": 2
          },
          "yaxis": {
           "automargin": true,
           "gridcolor": "white",
           "linecolor": "white",
           "ticks": "",
           "title": {
            "standoff": 15
           },
           "zerolinecolor": "white",
           "zerolinewidth": 2
          }
         }
        },
        "xaxis": {
         "anchor": "y",
         "categoryarray": [
          "食料品、飲料・たばこ・飼料製造業",
          "繊維工業",
          "パルプ・紙・紙加工品製造業",
          "化学工業",
          "石油・石炭・ﾌﾟﾗｽﾁｯｸ製品製造業",
          "窯業・土石製品製造業",
          "鉄鋼業",
          "非鉄金属製品・金属製品製造業",
          "電気機械器具製造業",
          "情報通信機械器具製造業",
          "輸送用機械器具製造業",
          "その他機械器具製造業",
          "その他の製造業",
          "農林漁業・同協同組合、鉱業",
          "建設業",
          "電気・ガス・熱供給・水道業",
          "映像・音声情報制作・放送・通信業",
          "新聞・出版業",
          "情報サービス業",
          "運輸業・郵便業",
          "卸売業",
          "小売業",
          "金融業・保険業",
          "医療業（国・公立除く）",
          "教育（国・公立除く）、学習支援業",
          "その他の非製造業"
         ],
         "categoryorder": "total descending",
         "domain": [
          0,
          1
         ],
         "title": {
          "text": "業種別"
         }
        },
        "yaxis": {
         "anchor": "x",
         "domain": [
          0,
          1
         ],
         "title": {
          "text": "It関係諸経費（百万円）"
         }
        }
       }
      },
      "text/html": [
       "<div>                            <div id=\"d71c5560-2f4d-4e52-859b-c4f139034d8e\" class=\"plotly-graph-div\" style=\"height:525px; width:100%;\"></div>            <script type=\"text/javascript\">                require([\"plotly\"], function(Plotly) {                    window.PLOTLYENV=window.PLOTLYENV || {};                                    if (document.getElementById(\"d71c5560-2f4d-4e52-859b-c4f139034d8e\")) {                    Plotly.newPlot(                        \"d71c5560-2f4d-4e52-859b-c4f139034d8e\",                        [{\"alignmentgroup\":\"True\",\"hovertemplate\":\"\\u696d\\u7a2e\\u5225=%{x}<br>value=%{y}<extra></extra>\",\"legendgroup\":\"\\u98df\\u6599\\u54c1\\u3001\\u98f2\\u6599\\u30fb\\u305f\\u3070\\u3053\\u30fb\\u98fc\\u6599\\u88fd\\u9020\\u696d\",\"marker\":{\"color\":\"#636efa\",\"pattern\":{\"shape\":\"\"}},\"name\":\"\\u98df\\u6599\\u54c1\\u3001\\u98f2\\u6599\\u30fb\\u305f\\u3070\\u3053\\u30fb\\u98fc\\u6599\\u88fd\\u9020\\u696d\",\"offsetgroup\":\"\\u98df\\u6599\\u54c1\\u3001\\u98f2\\u6599\\u30fb\\u305f\\u3070\\u3053\\u30fb\\u98fc\\u6599\\u88fd\\u9020\\u696d\",\"orientation\":\"v\",\"showlegend\":true,\"textposition\":\"auto\",\"x\":[\"\\u98df\\u6599\\u54c1\\u3001\\u98f2\\u6599\\u30fb\\u305f\\u3070\\u3053\\u30fb\\u98fc\\u6599\\u88fd\\u9020\\u696d\"],\"xaxis\":\"x\",\"y\":[529.336142857143],\"yaxis\":\"y\",\"type\":\"bar\"},{\"alignmentgroup\":\"True\",\"hovertemplate\":\"\\u696d\\u7a2e\\u5225=%{x}<br>value=%{y}<extra></extra>\",\"legendgroup\":\"\\u7e4a\\u7dad\\u5de5\\u696d\",\"marker\":{\"color\":\"#EF553B\",\"pattern\":{\"shape\":\"\"}},\"name\":\"\\u7e4a\\u7dad\\u5de5\\u696d\",\"offsetgroup\":\"\\u7e4a\\u7dad\\u5de5\\u696d\",\"orientation\":\"v\",\"showlegend\":true,\"textposition\":\"auto\",\"x\":[\"\\u7e4a\\u7dad\\u5de5\\u696d\"],\"xaxis\":\"x\",\"y\":[36.22222222222222],\"yaxis\":\"y\",\"type\":\"bar\"},{\"alignmentgroup\":\"True\",\"hovertemplate\":\"\\u696d\\u7a2e\\u5225=%{x}<br>value=%{y}<extra></extra>\",\"legendgroup\":\"\\u30d1\\u30eb\\u30d7\\u30fb\\u7d19\\u30fb\\u7d19\\u52a0\\u5de5\\u54c1\\u88fd\\u9020\\u696d\",\"marker\":{\"color\":\"#00cc96\",\"pattern\":{\"shape\":\"\"}},\"name\":\"\\u30d1\\u30eb\\u30d7\\u30fb\\u7d19\\u30fb\\u7d19\\u52a0\\u5de5\\u54c1\\u88fd\\u9020\\u696d\",\"offsetgroup\":\"\\u30d1\\u30eb\\u30d7\\u30fb\\u7d19\\u30fb\\u7d19\\u52a0\\u5de5\\u54c1\\u88fd\\u9020\\u696d\",\"orientation\":\"v\",\"showlegend\":true,\"textposition\":\"auto\",\"x\":[\"\\u30d1\\u30eb\\u30d7\\u30fb\\u7d19\\u30fb\\u7d19\\u52a0\\u5de5\\u54c1\\u88fd\\u9020\\u696d\"],\"xaxis\":\"x\",\"y\":[383.9230769230769],\"yaxis\":\"y\",\"type\":\"bar\"},{\"alignmentgroup\":\"True\",\"hovertemplate\":\"\\u696d\\u7a2e\\u5225=%{x}<br>value=%{y}<extra></extra>\",\"legendgroup\":\"\\u5316\\u5b66\\u5de5\\u696d\",\"marker\":{\"color\":\"#ab63fa\",\"pattern\":{\"shape\":\"\"}},\"name\":\"\\u5316\\u5b66\\u5de5\\u696d\",\"offsetgroup\":\"\\u5316\\u5b66\\u5de5\\u696d\",\"orientation\":\"v\",\"showlegend\":true,\"textposition\":\"auto\",\"x\":[\"\\u5316\\u5b66\\u5de5\\u696d\"],\"xaxis\":\"x\",\"y\":[1405.7083333333333],\"yaxis\":\"y\",\"type\":\"bar\"},{\"alignmentgroup\":\"True\",\"hovertemplate\":\"\\u696d\\u7a2e\\u5225=%{x}<br>value=%{y}<extra></extra>\",\"legendgroup\":\"\\u77f3\\u6cb9\\u30fb\\u77f3\\u70ad\\u30fb\\uff8c\\uff9f\\uff97\\uff7d\\uff81\\uff6f\\uff78\\u88fd\\u54c1\\u88fd\\u9020\\u696d\",\"marker\":{\"color\":\"#FFA15A\",\"pattern\":{\"shape\":\"\"}},\"name\":\"\\u77f3\\u6cb9\\u30fb\\u77f3\\u70ad\\u30fb\\uff8c\\uff9f\\uff97\\uff7d\\uff81\\uff6f\\uff78\\u88fd\\u54c1\\u88fd\\u9020\\u696d\",\"offsetgroup\":\"\\u77f3\\u6cb9\\u30fb\\u77f3\\u70ad\\u30fb\\uff8c\\uff9f\\uff97\\uff7d\\uff81\\uff6f\\uff78\\u88fd\\u54c1\\u88fd\\u9020\\u696d\",\"orientation\":\"v\",\"showlegend\":true,\"textposition\":\"auto\",\"x\":[\"\\u77f3\\u6cb9\\u30fb\\u77f3\\u70ad\\u30fb\\uff8c\\uff9f\\uff97\\uff7d\\uff81\\uff6f\\uff78\\u88fd\\u54c1\\u88fd\\u9020\\u696d\"],\"xaxis\":\"x\",\"y\":[4778.227272727273],\"yaxis\":\"y\",\"type\":\"bar\"},{\"alignmentgroup\":\"True\",\"hovertemplate\":\"\\u696d\\u7a2e\\u5225=%{x}<br>value=%{y}<extra></extra>\",\"legendgroup\":\"\\u7aaf\\u696d\\u30fb\\u571f\\u77f3\\u88fd\\u54c1\\u88fd\\u9020\\u696d\",\"marker\":{\"color\":\"#19d3f3\",\"pattern\":{\"shape\":\"\"}},\"name\":\"\\u7aaf\\u696d\\u30fb\\u571f\\u77f3\\u88fd\\u54c1\\u88fd\\u9020\\u696d\",\"offsetgroup\":\"\\u7aaf\\u696d\\u30fb\\u571f\\u77f3\\u88fd\\u54c1\\u88fd\\u9020\\u696d\",\"orientation\":\"v\",\"showlegend\":true,\"textposition\":\"auto\",\"x\":[\"\\u7aaf\\u696d\\u30fb\\u571f\\u77f3\\u88fd\\u54c1\\u88fd\\u9020\\u696d\"],\"xaxis\":\"x\",\"y\":[434.1111111111111],\"yaxis\":\"y\",\"type\":\"bar\"},{\"alignmentgroup\":\"True\",\"hovertemplate\":\"\\u696d\\u7a2e\\u5225=%{x}<br>value=%{y}<extra></extra>\",\"legendgroup\":\"\\u9244\\u92fc\\u696d\",\"marker\":{\"color\":\"#FF6692\",\"pattern\":{\"shape\":\"\"}},\"name\":\"\\u9244\\u92fc\\u696d\",\"offsetgroup\":\"\\u9244\\u92fc\\u696d\",\"orientation\":\"v\",\"showlegend\":true,\"textposition\":\"auto\",\"x\":[\"\\u9244\\u92fc\\u696d\"],\"xaxis\":\"x\",\"y\":[1746.3157894736842],\"yaxis\":\"y\",\"type\":\"bar\"},{\"alignmentgroup\":\"True\",\"hovertemplate\":\"\\u696d\\u7a2e\\u5225=%{x}<br>value=%{y}<extra></extra>\",\"legendgroup\":\"\\u975e\\u9244\\u91d1\\u5c5e\\u88fd\\u54c1\\u30fb\\u91d1\\u5c5e\\u88fd\\u54c1\\u88fd\\u9020\\u696d\",\"marker\":{\"color\":\"#B6E880\",\"pattern\":{\"shape\":\"\"}},\"name\":\"\\u975e\\u9244\\u91d1\\u5c5e\\u88fd\\u54c1\\u30fb\\u91d1\\u5c5e\\u88fd\\u54c1\\u88fd\\u9020\\u696d\",\"offsetgroup\":\"\\u975e\\u9244\\u91d1\\u5c5e\\u88fd\\u54c1\\u30fb\\u91d1\\u5c5e\\u88fd\\u54c1\\u88fd\\u9020\\u696d\",\"orientation\":\"v\",\"showlegend\":true,\"textposition\":\"auto\",\"x\":[\"\\u975e\\u9244\\u91d1\\u5c5e\\u88fd\\u54c1\\u30fb\\u91d1\\u5c5e\\u88fd\\u54c1\\u88fd\\u9020\\u696d\"],\"xaxis\":\"x\",\"y\":[606.7051282051282],\"yaxis\":\"y\",\"type\":\"bar\"},{\"alignmentgroup\":\"True\",\"hovertemplate\":\"\\u696d\\u7a2e\\u5225=%{x}<br>value=%{y}<extra></extra>\",\"legendgroup\":\"\\u96fb\\u6c17\\u6a5f\\u68b0\\u5668\\u5177\\u88fd\\u9020\\u696d\",\"marker\":{\"color\":\"#FF97FF\",\"pattern\":{\"shape\":\"\"}},\"name\":\"\\u96fb\\u6c17\\u6a5f\\u68b0\\u5668\\u5177\\u88fd\\u9020\\u696d\",\"offsetgroup\":\"\\u96fb\\u6c17\\u6a5f\\u68b0\\u5668\\u5177\\u88fd\\u9020\\u696d\",\"orientation\":\"v\",\"showlegend\":true,\"textposition\":\"auto\",\"x\":[\"\\u96fb\\u6c17\\u6a5f\\u68b0\\u5668\\u5177\\u88fd\\u9020\\u696d\"],\"xaxis\":\"x\",\"y\":[1182.388888888889],\"yaxis\":\"y\",\"type\":\"bar\"},{\"alignmentgroup\":\"True\",\"hovertemplate\":\"\\u696d\\u7a2e\\u5225=%{x}<br>value=%{y}<extra></extra>\",\"legendgroup\":\"\\u60c5\\u5831\\u901a\\u4fe1\\u6a5f\\u68b0\\u5668\\u5177\\u88fd\\u9020\\u696d\",\"marker\":{\"color\":\"#FECB52\",\"pattern\":{\"shape\":\"\"}},\"name\":\"\\u60c5\\u5831\\u901a\\u4fe1\\u6a5f\\u68b0\\u5668\\u5177\\u88fd\\u9020\\u696d\",\"offsetgroup\":\"\\u60c5\\u5831\\u901a\\u4fe1\\u6a5f\\u68b0\\u5668\\u5177\\u88fd\\u9020\\u696d\",\"orientation\":\"v\",\"showlegend\":true,\"textposition\":\"auto\",\"x\":[\"\\u60c5\\u5831\\u901a\\u4fe1\\u6a5f\\u68b0\\u5668\\u5177\\u88fd\\u9020\\u696d\"],\"xaxis\":\"x\",\"y\":[1883.5875000000003],\"yaxis\":\"y\",\"type\":\"bar\"},{\"alignmentgroup\":\"True\",\"hovertemplate\":\"\\u696d\\u7a2e\\u5225=%{x}<br>value=%{y}<extra></extra>\",\"legendgroup\":\"\\u8f38\\u9001\\u7528\\u6a5f\\u68b0\\u5668\\u5177\\u88fd\\u9020\\u696d\",\"marker\":{\"color\":\"#636efa\",\"pattern\":{\"shape\":\"\"}},\"name\":\"\\u8f38\\u9001\\u7528\\u6a5f\\u68b0\\u5668\\u5177\\u88fd\\u9020\\u696d\",\"offsetgroup\":\"\\u8f38\\u9001\\u7528\\u6a5f\\u68b0\\u5668\\u5177\\u88fd\\u9020\\u696d\",\"orientation\":\"v\",\"showlegend\":true,\"textposition\":\"auto\",\"x\":[\"\\u8f38\\u9001\\u7528\\u6a5f\\u68b0\\u5668\\u5177\\u88fd\\u9020\\u696d\"],\"xaxis\":\"x\",\"y\":[3855.5178571428573],\"yaxis\":\"y\",\"type\":\"bar\"},{\"alignmentgroup\":\"True\",\"hovertemplate\":\"\\u696d\\u7a2e\\u5225=%{x}<br>value=%{y}<extra></extra>\",\"legendgroup\":\"\\u305d\\u306e\\u4ed6\\u6a5f\\u68b0\\u5668\\u5177\\u88fd\\u9020\\u696d\",\"marker\":{\"color\":\"#EF553B\",\"pattern\":{\"shape\":\"\"}},\"name\":\"\\u305d\\u306e\\u4ed6\\u6a5f\\u68b0\\u5668\\u5177\\u88fd\\u9020\\u696d\",\"offsetgroup\":\"\\u305d\\u306e\\u4ed6\\u6a5f\\u68b0\\u5668\\u5177\\u88fd\\u9020\\u696d\",\"orientation\":\"v\",\"showlegend\":true,\"textposition\":\"auto\",\"x\":[\"\\u305d\\u306e\\u4ed6\\u6a5f\\u68b0\\u5668\\u5177\\u88fd\\u9020\\u696d\"],\"xaxis\":\"x\",\"y\":[737.016129032258],\"yaxis\":\"y\",\"type\":\"bar\"},{\"alignmentgroup\":\"True\",\"hovertemplate\":\"\\u696d\\u7a2e\\u5225=%{x}<br>value=%{y}<extra></extra>\",\"legendgroup\":\"\\u305d\\u306e\\u4ed6\\u306e\\u88fd\\u9020\\u696d\",\"marker\":{\"color\":\"#00cc96\",\"pattern\":{\"shape\":\"\"}},\"name\":\"\\u305d\\u306e\\u4ed6\\u306e\\u88fd\\u9020\\u696d\",\"offsetgroup\":\"\\u305d\\u306e\\u4ed6\\u306e\\u88fd\\u9020\\u696d\",\"orientation\":\"v\",\"showlegend\":true,\"textposition\":\"auto\",\"x\":[\"\\u305d\\u306e\\u4ed6\\u306e\\u88fd\\u9020\\u696d\"],\"xaxis\":\"x\",\"y\":[709.078947368421],\"yaxis\":\"y\",\"type\":\"bar\"},{\"alignmentgroup\":\"True\",\"hovertemplate\":\"\\u696d\\u7a2e\\u5225=%{x}<br>value=%{y}<extra></extra>\",\"legendgroup\":\"\\u8fb2\\u6797\\u6f01\\u696d\\u30fb\\u540c\\u5354\\u540c\\u7d44\\u5408\\u3001\\u9271\\u696d\",\"marker\":{\"color\":\"#ab63fa\",\"pattern\":{\"shape\":\"\"}},\"name\":\"\\u8fb2\\u6797\\u6f01\\u696d\\u30fb\\u540c\\u5354\\u540c\\u7d44\\u5408\\u3001\\u9271\\u696d\",\"offsetgroup\":\"\\u8fb2\\u6797\\u6f01\\u696d\\u30fb\\u540c\\u5354\\u540c\\u7d44\\u5408\\u3001\\u9271\\u696d\",\"orientation\":\"v\",\"showlegend\":true,\"textposition\":\"auto\",\"x\":[\"\\u8fb2\\u6797\\u6f01\\u696d\\u30fb\\u540c\\u5354\\u540c\\u7d44\\u5408\\u3001\\u9271\\u696d\"],\"xaxis\":\"x\",\"y\":[14.75],\"yaxis\":\"y\",\"type\":\"bar\"},{\"alignmentgroup\":\"True\",\"hovertemplate\":\"\\u696d\\u7a2e\\u5225=%{x}<br>value=%{y}<extra></extra>\",\"legendgroup\":\"\\u5efa\\u8a2d\\u696d\",\"marker\":{\"color\":\"#FFA15A\",\"pattern\":{\"shape\":\"\"}},\"name\":\"\\u5efa\\u8a2d\\u696d\",\"offsetgroup\":\"\\u5efa\\u8a2d\\u696d\",\"orientation\":\"v\",\"showlegend\":true,\"textposition\":\"auto\",\"x\":[\"\\u5efa\\u8a2d\\u696d\"],\"xaxis\":\"x\",\"y\":[267.85310734463275],\"yaxis\":\"y\",\"type\":\"bar\"},{\"alignmentgroup\":\"True\",\"hovertemplate\":\"\\u696d\\u7a2e\\u5225=%{x}<br>value=%{y}<extra></extra>\",\"legendgroup\":\"\\u96fb\\u6c17\\u30fb\\u30ac\\u30b9\\u30fb\\u71b1\\u4f9b\\u7d66\\u30fb\\u6c34\\u9053\\u696d\",\"marker\":{\"color\":\"#19d3f3\",\"pattern\":{\"shape\":\"\"}},\"name\":\"\\u96fb\\u6c17\\u30fb\\u30ac\\u30b9\\u30fb\\u71b1\\u4f9b\\u7d66\\u30fb\\u6c34\\u9053\\u696d\",\"offsetgroup\":\"\\u96fb\\u6c17\\u30fb\\u30ac\\u30b9\\u30fb\\u71b1\\u4f9b\\u7d66\\u30fb\\u6c34\\u9053\\u696d\",\"orientation\":\"v\",\"showlegend\":true,\"textposition\":\"auto\",\"x\":[\"\\u96fb\\u6c17\\u30fb\\u30ac\\u30b9\\u30fb\\u71b1\\u4f9b\\u7d66\\u30fb\\u6c34\\u9053\\u696d\"],\"xaxis\":\"x\",\"y\":[2435.2105263157896],\"yaxis\":\"y\",\"type\":\"bar\"},{\"alignmentgroup\":\"True\",\"hovertemplate\":\"\\u696d\\u7a2e\\u5225=%{x}<br>value=%{y}<extra></extra>\",\"legendgroup\":\"\\u6620\\u50cf\\u30fb\\u97f3\\u58f0\\u60c5\\u5831\\u5236\\u4f5c\\u30fb\\u653e\\u9001\\u30fb\\u901a\\u4fe1\\u696d\",\"marker\":{\"color\":\"#FF6692\",\"pattern\":{\"shape\":\"\"}},\"name\":\"\\u6620\\u50cf\\u30fb\\u97f3\\u58f0\\u60c5\\u5831\\u5236\\u4f5c\\u30fb\\u653e\\u9001\\u30fb\\u901a\\u4fe1\\u696d\",\"offsetgroup\":\"\\u6620\\u50cf\\u30fb\\u97f3\\u58f0\\u60c5\\u5831\\u5236\\u4f5c\\u30fb\\u653e\\u9001\\u30fb\\u901a\\u4fe1\\u696d\",\"orientation\":\"v\",\"showlegend\":true,\"textposition\":\"auto\",\"x\":[\"\\u6620\\u50cf\\u30fb\\u97f3\\u58f0\\u60c5\\u5831\\u5236\\u4f5c\\u30fb\\u653e\\u9001\\u30fb\\u901a\\u4fe1\\u696d\"],\"xaxis\":\"x\",\"y\":[4433.318181818182],\"yaxis\":\"y\",\"type\":\"bar\"},{\"alignmentgroup\":\"True\",\"hovertemplate\":\"\\u696d\\u7a2e\\u5225=%{x}<br>value=%{y}<extra></extra>\",\"legendgroup\":\"\\u65b0\\u805e\\u30fb\\u51fa\\u7248\\u696d\",\"marker\":{\"color\":\"#B6E880\",\"pattern\":{\"shape\":\"\"}},\"name\":\"\\u65b0\\u805e\\u30fb\\u51fa\\u7248\\u696d\",\"offsetgroup\":\"\\u65b0\\u805e\\u30fb\\u51fa\\u7248\\u696d\",\"orientation\":\"v\",\"showlegend\":true,\"textposition\":\"auto\",\"x\":[\"\\u65b0\\u805e\\u30fb\\u51fa\\u7248\\u696d\"],\"xaxis\":\"x\",\"y\":[433.57142857142856],\"yaxis\":\"y\",\"type\":\"bar\"},{\"alignmentgroup\":\"True\",\"hovertemplate\":\"\\u696d\\u7a2e\\u5225=%{x}<br>value=%{y}<extra></extra>\",\"legendgroup\":\"\\u60c5\\u5831\\u30b5\\u30fc\\u30d3\\u30b9\\u696d\",\"marker\":{\"color\":\"#FF97FF\",\"pattern\":{\"shape\":\"\"}},\"name\":\"\\u60c5\\u5831\\u30b5\\u30fc\\u30d3\\u30b9\\u696d\",\"offsetgroup\":\"\\u60c5\\u5831\\u30b5\\u30fc\\u30d3\\u30b9\\u696d\",\"orientation\":\"v\",\"showlegend\":true,\"textposition\":\"auto\",\"x\":[\"\\u60c5\\u5831\\u30b5\\u30fc\\u30d3\\u30b9\\u696d\"],\"xaxis\":\"x\",\"y\":[769.0294736842105],\"yaxis\":\"y\",\"type\":\"bar\"},{\"alignmentgroup\":\"True\",\"hovertemplate\":\"\\u696d\\u7a2e\\u5225=%{x}<br>value=%{y}<extra></extra>\",\"legendgroup\":\"\\u904b\\u8f38\\u696d\\u30fb\\u90f5\\u4fbf\\u696d\",\"marker\":{\"color\":\"#FECB52\",\"pattern\":{\"shape\":\"\"}},\"name\":\"\\u904b\\u8f38\\u696d\\u30fb\\u90f5\\u4fbf\\u696d\",\"offsetgroup\":\"\\u904b\\u8f38\\u696d\\u30fb\\u90f5\\u4fbf\\u696d\",\"orientation\":\"v\",\"showlegend\":true,\"textposition\":\"auto\",\"x\":[\"\\u904b\\u8f38\\u696d\\u30fb\\u90f5\\u4fbf\\u696d\"],\"xaxis\":\"x\",\"y\":[622.4555555555556],\"yaxis\":\"y\",\"type\":\"bar\"},{\"alignmentgroup\":\"True\",\"hovertemplate\":\"\\u696d\\u7a2e\\u5225=%{x}<br>value=%{y}<extra></extra>\",\"legendgroup\":\"\\u5378\\u58f2\\u696d\",\"marker\":{\"color\":\"#636efa\",\"pattern\":{\"shape\":\"\"}},\"name\":\"\\u5378\\u58f2\\u696d\",\"offsetgroup\":\"\\u5378\\u58f2\\u696d\",\"orientation\":\"v\",\"showlegend\":true,\"textposition\":\"auto\",\"x\":[\"\\u5378\\u58f2\\u696d\"],\"xaxis\":\"x\",\"y\":[678.5035460992908],\"yaxis\":\"y\",\"type\":\"bar\"},{\"alignmentgroup\":\"True\",\"hovertemplate\":\"\\u696d\\u7a2e\\u5225=%{x}<br>value=%{y}<extra></extra>\",\"legendgroup\":\"\\u5c0f\\u58f2\\u696d\",\"marker\":{\"color\":\"#EF553B\",\"pattern\":{\"shape\":\"\"}},\"name\":\"\\u5c0f\\u58f2\\u696d\",\"offsetgroup\":\"\\u5c0f\\u58f2\\u696d\",\"orientation\":\"v\",\"showlegend\":true,\"textposition\":\"auto\",\"x\":[\"\\u5c0f\\u58f2\\u696d\"],\"xaxis\":\"x\",\"y\":[422.2625],\"yaxis\":\"y\",\"type\":\"bar\"},{\"alignmentgroup\":\"True\",\"hovertemplate\":\"\\u696d\\u7a2e\\u5225=%{x}<br>value=%{y}<extra></extra>\",\"legendgroup\":\"\\u91d1\\u878d\\u696d\\u30fb\\u4fdd\\u967a\\u696d\",\"marker\":{\"color\":\"#00cc96\",\"pattern\":{\"shape\":\"\"}},\"name\":\"\\u91d1\\u878d\\u696d\\u30fb\\u4fdd\\u967a\\u696d\",\"offsetgroup\":\"\\u91d1\\u878d\\u696d\\u30fb\\u4fdd\\u967a\\u696d\",\"orientation\":\"v\",\"showlegend\":true,\"textposition\":\"auto\",\"x\":[\"\\u91d1\\u878d\\u696d\\u30fb\\u4fdd\\u967a\\u696d\"],\"xaxis\":\"x\",\"y\":[3163.214492753623],\"yaxis\":\"y\",\"type\":\"bar\"},{\"alignmentgroup\":\"True\",\"hovertemplate\":\"\\u696d\\u7a2e\\u5225=%{x}<br>value=%{y}<extra></extra>\",\"legendgroup\":\"\\u533b\\u7642\\u696d\\uff08\\u56fd\\u30fb\\u516c\\u7acb\\u9664\\u304f\\uff09\",\"marker\":{\"color\":\"#ab63fa\",\"pattern\":{\"shape\":\"\"}},\"name\":\"\\u533b\\u7642\\u696d\\uff08\\u56fd\\u30fb\\u516c\\u7acb\\u9664\\u304f\\uff09\",\"offsetgroup\":\"\\u533b\\u7642\\u696d\\uff08\\u56fd\\u30fb\\u516c\\u7acb\\u9664\\u304f\\uff09\",\"orientation\":\"v\",\"showlegend\":true,\"textposition\":\"auto\",\"x\":[\"\\u533b\\u7642\\u696d\\uff08\\u56fd\\u30fb\\u516c\\u7acb\\u9664\\u304f\\uff09\"],\"xaxis\":\"x\",\"y\":[179.66666666666666],\"yaxis\":\"y\",\"type\":\"bar\"},{\"alignmentgroup\":\"True\",\"hovertemplate\":\"\\u696d\\u7a2e\\u5225=%{x}<br>value=%{y}<extra></extra>\",\"legendgroup\":\"\\u6559\\u80b2\\uff08\\u56fd\\u30fb\\u516c\\u7acb\\u9664\\u304f\\uff09\\u3001\\u5b66\\u7fd2\\u652f\\u63f4\\u696d\",\"marker\":{\"color\":\"#FFA15A\",\"pattern\":{\"shape\":\"\"}},\"name\":\"\\u6559\\u80b2\\uff08\\u56fd\\u30fb\\u516c\\u7acb\\u9664\\u304f\\uff09\\u3001\\u5b66\\u7fd2\\u652f\\u63f4\\u696d\",\"offsetgroup\":\"\\u6559\\u80b2\\uff08\\u56fd\\u30fb\\u516c\\u7acb\\u9664\\u304f\\uff09\\u3001\\u5b66\\u7fd2\\u652f\\u63f4\\u696d\",\"orientation\":\"v\",\"showlegend\":true,\"textposition\":\"auto\",\"x\":[\"\\u6559\\u80b2\\uff08\\u56fd\\u30fb\\u516c\\u7acb\\u9664\\u304f\\uff09\\u3001\\u5b66\\u7fd2\\u652f\\u63f4\\u696d\"],\"xaxis\":\"x\",\"y\":[26.5],\"yaxis\":\"y\",\"type\":\"bar\"},{\"alignmentgroup\":\"True\",\"hovertemplate\":\"\\u696d\\u7a2e\\u5225=%{x}<br>value=%{y}<extra></extra>\",\"legendgroup\":\"\\u305d\\u306e\\u4ed6\\u306e\\u975e\\u88fd\\u9020\\u696d\",\"marker\":{\"color\":\"#19d3f3\",\"pattern\":{\"shape\":\"\"}},\"name\":\"\\u305d\\u306e\\u4ed6\\u306e\\u975e\\u88fd\\u9020\\u696d\",\"offsetgroup\":\"\\u305d\\u306e\\u4ed6\\u306e\\u975e\\u88fd\\u9020\\u696d\",\"orientation\":\"v\",\"showlegend\":true,\"textposition\":\"auto\",\"x\":[\"\\u305d\\u306e\\u4ed6\\u306e\\u975e\\u88fd\\u9020\\u696d\"],\"xaxis\":\"x\",\"y\":[296.24004474272937],\"yaxis\":\"y\",\"type\":\"bar\"}],                        {\"template\":{\"data\":{\"bar\":[{\"error_x\":{\"color\":\"#2a3f5f\"},\"error_y\":{\"color\":\"#2a3f5f\"},\"marker\":{\"line\":{\"color\":\"#E5ECF6\",\"width\":0.5},\"pattern\":{\"fillmode\":\"overlay\",\"size\":10,\"solidity\":0.2}},\"type\":\"bar\"}],\"barpolar\":[{\"marker\":{\"line\":{\"color\":\"#E5ECF6\",\"width\":0.5},\"pattern\":{\"fillmode\":\"overlay\",\"size\":10,\"solidity\":0.2}},\"type\":\"barpolar\"}],\"carpet\":[{\"aaxis\":{\"endlinecolor\":\"#2a3f5f\",\"gridcolor\":\"white\",\"linecolor\":\"white\",\"minorgridcolor\":\"white\",\"startlinecolor\":\"#2a3f5f\"},\"baxis\":{\"endlinecolor\":\"#2a3f5f\",\"gridcolor\":\"white\",\"linecolor\":\"white\",\"minorgridcolor\":\"white\",\"startlinecolor\":\"#2a3f5f\"},\"type\":\"carpet\"}],\"choropleth\":[{\"colorbar\":{\"outlinewidth\":0,\"ticks\":\"\"},\"type\":\"choropleth\"}],\"contour\":[{\"colorbar\":{\"outlinewidth\":0,\"ticks\":\"\"},\"colorscale\":[[0.0,\"#0d0887\"],[0.1111111111111111,\"#46039f\"],[0.2222222222222222,\"#7201a8\"],[0.3333333333333333,\"#9c179e\"],[0.4444444444444444,\"#bd3786\"],[0.5555555555555556,\"#d8576b\"],[0.6666666666666666,\"#ed7953\"],[0.7777777777777778,\"#fb9f3a\"],[0.8888888888888888,\"#fdca26\"],[1.0,\"#f0f921\"]],\"type\":\"contour\"}],\"contourcarpet\":[{\"colorbar\":{\"outlinewidth\":0,\"ticks\":\"\"},\"type\":\"contourcarpet\"}],\"heatmap\":[{\"colorbar\":{\"outlinewidth\":0,\"ticks\":\"\"},\"colorscale\":[[0.0,\"#0d0887\"],[0.1111111111111111,\"#46039f\"],[0.2222222222222222,\"#7201a8\"],[0.3333333333333333,\"#9c179e\"],[0.4444444444444444,\"#bd3786\"],[0.5555555555555556,\"#d8576b\"],[0.6666666666666666,\"#ed7953\"],[0.7777777777777778,\"#fb9f3a\"],[0.8888888888888888,\"#fdca26\"],[1.0,\"#f0f921\"]],\"type\":\"heatmap\"}],\"heatmapgl\":[{\"colorbar\":{\"outlinewidth\":0,\"ticks\":\"\"},\"colorscale\":[[0.0,\"#0d0887\"],[0.1111111111111111,\"#46039f\"],[0.2222222222222222,\"#7201a8\"],[0.3333333333333333,\"#9c179e\"],[0.4444444444444444,\"#bd3786\"],[0.5555555555555556,\"#d8576b\"],[0.6666666666666666,\"#ed7953\"],[0.7777777777777778,\"#fb9f3a\"],[0.8888888888888888,\"#fdca26\"],[1.0,\"#f0f921\"]],\"type\":\"heatmapgl\"}],\"histogram\":[{\"marker\":{\"pattern\":{\"fillmode\":\"overlay\",\"size\":10,\"solidity\":0.2}},\"type\":\"histogram\"}],\"histogram2d\":[{\"colorbar\":{\"outlinewidth\":0,\"ticks\":\"\"},\"colorscale\":[[0.0,\"#0d0887\"],[0.1111111111111111,\"#46039f\"],[0.2222222222222222,\"#7201a8\"],[0.3333333333333333,\"#9c179e\"],[0.4444444444444444,\"#bd3786\"],[0.5555555555555556,\"#d8576b\"],[0.6666666666666666,\"#ed7953\"],[0.7777777777777778,\"#fb9f3a\"],[0.8888888888888888,\"#fdca26\"],[1.0,\"#f0f921\"]],\"type\":\"histogram2d\"}],\"histogram2dcontour\":[{\"colorbar\":{\"outlinewidth\":0,\"ticks\":\"\"},\"colorscale\":[[0.0,\"#0d0887\"],[0.1111111111111111,\"#46039f\"],[0.2222222222222222,\"#7201a8\"],[0.3333333333333333,\"#9c179e\"],[0.4444444444444444,\"#bd3786\"],[0.5555555555555556,\"#d8576b\"],[0.6666666666666666,\"#ed7953\"],[0.7777777777777778,\"#fb9f3a\"],[0.8888888888888888,\"#fdca26\"],[1.0,\"#f0f921\"]],\"type\":\"histogram2dcontour\"}],\"mesh3d\":[{\"colorbar\":{\"outlinewidth\":0,\"ticks\":\"\"},\"type\":\"mesh3d\"}],\"parcoords\":[{\"line\":{\"colorbar\":{\"outlinewidth\":0,\"ticks\":\"\"}},\"type\":\"parcoords\"}],\"pie\":[{\"automargin\":true,\"type\":\"pie\"}],\"scatter\":[{\"marker\":{\"colorbar\":{\"outlinewidth\":0,\"ticks\":\"\"}},\"type\":\"scatter\"}],\"scatter3d\":[{\"line\":{\"colorbar\":{\"outlinewidth\":0,\"ticks\":\"\"}},\"marker\":{\"colorbar\":{\"outlinewidth\":0,\"ticks\":\"\"}},\"type\":\"scatter3d\"}],\"scattercarpet\":[{\"marker\":{\"colorbar\":{\"outlinewidth\":0,\"ticks\":\"\"}},\"type\":\"scattercarpet\"}],\"scattergeo\":[{\"marker\":{\"colorbar\":{\"outlinewidth\":0,\"ticks\":\"\"}},\"type\":\"scattergeo\"}],\"scattergl\":[{\"marker\":{\"colorbar\":{\"outlinewidth\":0,\"ticks\":\"\"}},\"type\":\"scattergl\"}],\"scattermapbox\":[{\"marker\":{\"colorbar\":{\"outlinewidth\":0,\"ticks\":\"\"}},\"type\":\"scattermapbox\"}],\"scatterpolar\":[{\"marker\":{\"colorbar\":{\"outlinewidth\":0,\"ticks\":\"\"}},\"type\":\"scatterpolar\"}],\"scatterpolargl\":[{\"marker\":{\"colorbar\":{\"outlinewidth\":0,\"ticks\":\"\"}},\"type\":\"scatterpolargl\"}],\"scatterternary\":[{\"marker\":{\"colorbar\":{\"outlinewidth\":0,\"ticks\":\"\"}},\"type\":\"scatterternary\"}],\"surface\":[{\"colorbar\":{\"outlinewidth\":0,\"ticks\":\"\"},\"colorscale\":[[0.0,\"#0d0887\"],[0.1111111111111111,\"#46039f\"],[0.2222222222222222,\"#7201a8\"],[0.3333333333333333,\"#9c179e\"],[0.4444444444444444,\"#bd3786\"],[0.5555555555555556,\"#d8576b\"],[0.6666666666666666,\"#ed7953\"],[0.7777777777777778,\"#fb9f3a\"],[0.8888888888888888,\"#fdca26\"],[1.0,\"#f0f921\"]],\"type\":\"surface\"}],\"table\":[{\"cells\":{\"fill\":{\"color\":\"#EBF0F8\"},\"line\":{\"color\":\"white\"}},\"header\":{\"fill\":{\"color\":\"#C8D4E3\"},\"line\":{\"color\":\"white\"}},\"type\":\"table\"}]},\"layout\":{\"annotationdefaults\":{\"arrowcolor\":\"#2a3f5f\",\"arrowhead\":0,\"arrowwidth\":1},\"autotypenumbers\":\"strict\",\"coloraxis\":{\"colorbar\":{\"outlinewidth\":0,\"ticks\":\"\"}},\"colorscale\":{\"diverging\":[[0,\"#8e0152\"],[0.1,\"#c51b7d\"],[0.2,\"#de77ae\"],[0.3,\"#f1b6da\"],[0.4,\"#fde0ef\"],[0.5,\"#f7f7f7\"],[0.6,\"#e6f5d0\"],[0.7,\"#b8e186\"],[0.8,\"#7fbc41\"],[0.9,\"#4d9221\"],[1,\"#276419\"]],\"sequential\":[[0.0,\"#0d0887\"],[0.1111111111111111,\"#46039f\"],[0.2222222222222222,\"#7201a8\"],[0.3333333333333333,\"#9c179e\"],[0.4444444444444444,\"#bd3786\"],[0.5555555555555556,\"#d8576b\"],[0.6666666666666666,\"#ed7953\"],[0.7777777777777778,\"#fb9f3a\"],[0.8888888888888888,\"#fdca26\"],[1.0,\"#f0f921\"]],\"sequentialminus\":[[0.0,\"#0d0887\"],[0.1111111111111111,\"#46039f\"],[0.2222222222222222,\"#7201a8\"],[0.3333333333333333,\"#9c179e\"],[0.4444444444444444,\"#bd3786\"],[0.5555555555555556,\"#d8576b\"],[0.6666666666666666,\"#ed7953\"],[0.7777777777777778,\"#fb9f3a\"],[0.8888888888888888,\"#fdca26\"],[1.0,\"#f0f921\"]]},\"colorway\":[\"#636efa\",\"#EF553B\",\"#00cc96\",\"#ab63fa\",\"#FFA15A\",\"#19d3f3\",\"#FF6692\",\"#B6E880\",\"#FF97FF\",\"#FECB52\"],\"font\":{\"color\":\"#2a3f5f\"},\"geo\":{\"bgcolor\":\"white\",\"lakecolor\":\"white\",\"landcolor\":\"#E5ECF6\",\"showlakes\":true,\"showland\":true,\"subunitcolor\":\"white\"},\"hoverlabel\":{\"align\":\"left\"},\"hovermode\":\"closest\",\"mapbox\":{\"style\":\"light\"},\"paper_bgcolor\":\"white\",\"plot_bgcolor\":\"#E5ECF6\",\"polar\":{\"angularaxis\":{\"gridcolor\":\"white\",\"linecolor\":\"white\",\"ticks\":\"\"},\"bgcolor\":\"#E5ECF6\",\"radialaxis\":{\"gridcolor\":\"white\",\"linecolor\":\"white\",\"ticks\":\"\"}},\"scene\":{\"xaxis\":{\"backgroundcolor\":\"#E5ECF6\",\"gridcolor\":\"white\",\"gridwidth\":2,\"linecolor\":\"white\",\"showbackground\":true,\"ticks\":\"\",\"zerolinecolor\":\"white\"},\"yaxis\":{\"backgroundcolor\":\"#E5ECF6\",\"gridcolor\":\"white\",\"gridwidth\":2,\"linecolor\":\"white\",\"showbackground\":true,\"ticks\":\"\",\"zerolinecolor\":\"white\"},\"zaxis\":{\"backgroundcolor\":\"#E5ECF6\",\"gridcolor\":\"white\",\"gridwidth\":2,\"linecolor\":\"white\",\"showbackground\":true,\"ticks\":\"\",\"zerolinecolor\":\"white\"}},\"shapedefaults\":{\"line\":{\"color\":\"#2a3f5f\"}},\"ternary\":{\"aaxis\":{\"gridcolor\":\"white\",\"linecolor\":\"white\",\"ticks\":\"\"},\"baxis\":{\"gridcolor\":\"white\",\"linecolor\":\"white\",\"ticks\":\"\"},\"bgcolor\":\"#E5ECF6\",\"caxis\":{\"gridcolor\":\"white\",\"linecolor\":\"white\",\"ticks\":\"\"}},\"title\":{\"x\":0.05},\"xaxis\":{\"automargin\":true,\"gridcolor\":\"white\",\"linecolor\":\"white\",\"ticks\":\"\",\"title\":{\"standoff\":15},\"zerolinecolor\":\"white\",\"zerolinewidth\":2},\"yaxis\":{\"automargin\":true,\"gridcolor\":\"white\",\"linecolor\":\"white\",\"ticks\":\"\",\"title\":{\"standoff\":15},\"zerolinecolor\":\"white\",\"zerolinewidth\":2}}},\"xaxis\":{\"anchor\":\"y\",\"domain\":[0.0,1.0],\"title\":{\"text\":\"\\u696d\\u7a2e\\u5225\"},\"categoryorder\":\"total descending\",\"categoryarray\":[\"\\u98df\\u6599\\u54c1\\u3001\\u98f2\\u6599\\u30fb\\u305f\\u3070\\u3053\\u30fb\\u98fc\\u6599\\u88fd\\u9020\\u696d\",\"\\u7e4a\\u7dad\\u5de5\\u696d\",\"\\u30d1\\u30eb\\u30d7\\u30fb\\u7d19\\u30fb\\u7d19\\u52a0\\u5de5\\u54c1\\u88fd\\u9020\\u696d\",\"\\u5316\\u5b66\\u5de5\\u696d\",\"\\u77f3\\u6cb9\\u30fb\\u77f3\\u70ad\\u30fb\\uff8c\\uff9f\\uff97\\uff7d\\uff81\\uff6f\\uff78\\u88fd\\u54c1\\u88fd\\u9020\\u696d\",\"\\u7aaf\\u696d\\u30fb\\u571f\\u77f3\\u88fd\\u54c1\\u88fd\\u9020\\u696d\",\"\\u9244\\u92fc\\u696d\",\"\\u975e\\u9244\\u91d1\\u5c5e\\u88fd\\u54c1\\u30fb\\u91d1\\u5c5e\\u88fd\\u54c1\\u88fd\\u9020\\u696d\",\"\\u96fb\\u6c17\\u6a5f\\u68b0\\u5668\\u5177\\u88fd\\u9020\\u696d\",\"\\u60c5\\u5831\\u901a\\u4fe1\\u6a5f\\u68b0\\u5668\\u5177\\u88fd\\u9020\\u696d\",\"\\u8f38\\u9001\\u7528\\u6a5f\\u68b0\\u5668\\u5177\\u88fd\\u9020\\u696d\",\"\\u305d\\u306e\\u4ed6\\u6a5f\\u68b0\\u5668\\u5177\\u88fd\\u9020\\u696d\",\"\\u305d\\u306e\\u4ed6\\u306e\\u88fd\\u9020\\u696d\",\"\\u8fb2\\u6797\\u6f01\\u696d\\u30fb\\u540c\\u5354\\u540c\\u7d44\\u5408\\u3001\\u9271\\u696d\",\"\\u5efa\\u8a2d\\u696d\",\"\\u96fb\\u6c17\\u30fb\\u30ac\\u30b9\\u30fb\\u71b1\\u4f9b\\u7d66\\u30fb\\u6c34\\u9053\\u696d\",\"\\u6620\\u50cf\\u30fb\\u97f3\\u58f0\\u60c5\\u5831\\u5236\\u4f5c\\u30fb\\u653e\\u9001\\u30fb\\u901a\\u4fe1\\u696d\",\"\\u65b0\\u805e\\u30fb\\u51fa\\u7248\\u696d\",\"\\u60c5\\u5831\\u30b5\\u30fc\\u30d3\\u30b9\\u696d\",\"\\u904b\\u8f38\\u696d\\u30fb\\u90f5\\u4fbf\\u696d\",\"\\u5378\\u58f2\\u696d\",\"\\u5c0f\\u58f2\\u696d\",\"\\u91d1\\u878d\\u696d\\u30fb\\u4fdd\\u967a\\u696d\",\"\\u533b\\u7642\\u696d\\uff08\\u56fd\\u30fb\\u516c\\u7acb\\u9664\\u304f\\uff09\",\"\\u6559\\u80b2\\uff08\\u56fd\\u30fb\\u516c\\u7acb\\u9664\\u304f\\uff09\\u3001\\u5b66\\u7fd2\\u652f\\u63f4\\u696d\",\"\\u305d\\u306e\\u4ed6\\u306e\\u975e\\u88fd\\u9020\\u696d\"]},\"yaxis\":{\"anchor\":\"x\",\"domain\":[0.0,1.0],\"title\":{\"text\":\"It\\u95a2\\u4fc2\\u8af8\\u7d4c\\u8cbb\\uff08\\u767e\\u4e07\\u5186\\uff09\"}},\"legend\":{\"title\":{\"text\":\"\\u696d\\u7a2e\\u5225\"},\"tracegroupgap\":0},\"margin\":{\"t\":60},\"barmode\":\"relative\"},                        {\"responsive\": true}                    ).then(function(){\n",
       "                            \n",
       "var gd = document.getElementById('d71c5560-2f4d-4e52-859b-c4f139034d8e');\n",
       "var x = new MutationObserver(function (mutations, observer) {{\n",
       "        var display = window.getComputedStyle(gd).display;\n",
       "        if (!display || display === 'none') {{\n",
       "            console.log([gd, 'removed!']);\n",
       "            Plotly.purge(gd);\n",
       "            observer.disconnect();\n",
       "        }}\n",
       "}});\n",
       "\n",
       "// Listen for the removal of the full notebook cells\n",
       "var notebookContainer = gd.closest('#notebook-container');\n",
       "if (notebookContainer) {{\n",
       "    x.observe(notebookContainer, {childList: true});\n",
       "}}\n",
       "\n",
       "// Listen for the clearing of the current output cell\n",
       "var outputEl = gd.closest('.output');\n",
       "if (outputEl) {{\n",
       "    x.observe(outputEl, {childList: true});\n",
       "}}\n",
       "\n",
       "                        })                };                });            </script>        </div>"
      ]
     },
     "metadata": {},
     "output_type": "display_data"
    }
   ],
   "source": [
    "#可視化必要データへ整形\n",
    "df_v4_1tbl_melt_invst = df_v4_1tbl_melt[df_v4_1tbl_melt['groupe']=='IT関係諸経費合計（百万円）']\n",
    "\n",
    "fig = px.bar(df_v4_1tbl_melt_invst, x='業種別',y ='value',color='業種別')\n",
    "\n",
    "#軸の設定等 何故かエラー？？？\n",
    "# fig.update_layout(width=900,height=500,margin=dict(l=50,r=50,b=40,t=60),\n",
    "#                   yaxis=dict(range=[0,200]),xaxis=dict(dtick=1, autorange=True))\n",
    "\n",
    "fig.update_yaxes(title_text=\"It関係諸経費（百万円）\")\n",
    "\n",
    "#データを並び替え\n",
    "fig.update_layout(xaxis={'categoryorder':'total descending'})\n",
    "\n",
    "#グラフの表示\n",
    "fig.show()\n"
   ]
  },
  {
   "cell_type": "markdown",
   "metadata": {},
   "source": [
    "## 産業における1企業当たり総従業者数"
   ]
  },
  {
   "cell_type": "code",
   "execution_count": 30,
   "metadata": {},
   "outputs": [
    {
     "data": {
      "application/vnd.plotly.v1+json": {
       "config": {
        "plotlyServerURL": "https://plot.ly"
       },
       "data": [
        {
         "alignmentgroup": "True",
         "hovertemplate": "業種別=%{x}<br>value=%{y}<extra></extra>",
         "legendgroup": "食料品、飲料・たばこ・飼料製造業",
         "marker": {
          "color": "#636efa",
          "pattern": {
           "shape": ""
          }
         },
         "name": "食料品、飲料・たばこ・飼料製造業",
         "offsetgroup": "食料品、飲料・たばこ・飼料製造業",
         "orientation": "v",
         "showlegend": true,
         "textposition": "auto",
         "type": "bar",
         "x": [
          "食料品、飲料・たばこ・飼料製造業"
         ],
         "xaxis": "x",
         "y": [
          1679.3857142857144
         ],
         "yaxis": "y"
        },
        {
         "alignmentgroup": "True",
         "hovertemplate": "業種別=%{x}<br>value=%{y}<extra></extra>",
         "legendgroup": "繊維工業",
         "marker": {
          "color": "#EF553B",
          "pattern": {
           "shape": ""
          }
         },
         "name": "繊維工業",
         "offsetgroup": "繊維工業",
         "orientation": "v",
         "showlegend": true,
         "textposition": "auto",
         "type": "bar",
         "x": [
          "繊維工業"
         ],
         "xaxis": "x",
         "y": [
          492.22222222222223
         ],
         "yaxis": "y"
        },
        {
         "alignmentgroup": "True",
         "hovertemplate": "業種別=%{x}<br>value=%{y}<extra></extra>",
         "legendgroup": "パルプ・紙・紙加工品製造業",
         "marker": {
          "color": "#00cc96",
          "pattern": {
           "shape": ""
          }
         },
         "name": "パルプ・紙・紙加工品製造業",
         "offsetgroup": "パルプ・紙・紙加工品製造業",
         "orientation": "v",
         "showlegend": true,
         "textposition": "auto",
         "type": "bar",
         "x": [
          "パルプ・紙・紙加工品製造業"
         ],
         "xaxis": "x",
         "y": [
          1255.8461538461538
         ],
         "yaxis": "y"
        },
        {
         "alignmentgroup": "True",
         "hovertemplate": "業種別=%{x}<br>value=%{y}<extra></extra>",
         "legendgroup": "化学工業",
         "marker": {
          "color": "#ab63fa",
          "pattern": {
           "shape": ""
          }
         },
         "name": "化学工業",
         "offsetgroup": "化学工業",
         "orientation": "v",
         "showlegend": true,
         "textposition": "auto",
         "type": "bar",
         "x": [
          "化学工業"
         ],
         "xaxis": "x",
         "y": [
          2504.1666666666665
         ],
         "yaxis": "y"
        },
        {
         "alignmentgroup": "True",
         "hovertemplate": "業種別=%{x}<br>value=%{y}<extra></extra>",
         "legendgroup": "石油・石炭・ﾌﾟﾗｽﾁｯｸ製品製造業",
         "marker": {
          "color": "#FFA15A",
          "pattern": {
           "shape": ""
          }
         },
         "name": "石油・石炭・ﾌﾟﾗｽﾁｯｸ製品製造業",
         "offsetgroup": "石油・石炭・ﾌﾟﾗｽﾁｯｸ製品製造業",
         "orientation": "v",
         "showlegend": true,
         "textposition": "auto",
         "type": "bar",
         "x": [
          "石油・石炭・ﾌﾟﾗｽﾁｯｸ製品製造業"
         ],
         "xaxis": "x",
         "y": [
          784.8636363636364
         ],
         "yaxis": "y"
        },
        {
         "alignmentgroup": "True",
         "hovertemplate": "業種別=%{x}<br>value=%{y}<extra></extra>",
         "legendgroup": "窯業・土石製品製造業",
         "marker": {
          "color": "#19d3f3",
          "pattern": {
           "shape": ""
          }
         },
         "name": "窯業・土石製品製造業",
         "offsetgroup": "窯業・土石製品製造業",
         "orientation": "v",
         "showlegend": true,
         "textposition": "auto",
         "type": "bar",
         "x": [
          "窯業・土石製品製造業"
         ],
         "xaxis": "x",
         "y": [
          838.7777777777778
         ],
         "yaxis": "y"
        },
        {
         "alignmentgroup": "True",
         "hovertemplate": "業種別=%{x}<br>value=%{y}<extra></extra>",
         "legendgroup": "鉄鋼業",
         "marker": {
          "color": "#FF6692",
          "pattern": {
           "shape": ""
          }
         },
         "name": "鉄鋼業",
         "offsetgroup": "鉄鋼業",
         "orientation": "v",
         "showlegend": true,
         "textposition": "auto",
         "type": "bar",
         "x": [
          "鉄鋼業"
         ],
         "xaxis": "x",
         "y": [
          4178.0526315789475
         ],
         "yaxis": "y"
        },
        {
         "alignmentgroup": "True",
         "hovertemplate": "業種別=%{x}<br>value=%{y}<extra></extra>",
         "legendgroup": "非鉄金属製品・金属製品製造業",
         "marker": {
          "color": "#B6E880",
          "pattern": {
           "shape": ""
          }
         },
         "name": "非鉄金属製品・金属製品製造業",
         "offsetgroup": "非鉄金属製品・金属製品製造業",
         "orientation": "v",
         "showlegend": true,
         "textposition": "auto",
         "type": "bar",
         "x": [
          "非鉄金属製品・金属製品製造業"
         ],
         "xaxis": "x",
         "y": [
          1828.4358974358975
         ],
         "yaxis": "y"
        },
        {
         "alignmentgroup": "True",
         "hovertemplate": "業種別=%{x}<br>value=%{y}<extra></extra>",
         "legendgroup": "電気機械器具製造業",
         "marker": {
          "color": "#FF97FF",
          "pattern": {
           "shape": ""
          }
         },
         "name": "電気機械器具製造業",
         "offsetgroup": "電気機械器具製造業",
         "orientation": "v",
         "showlegend": true,
         "textposition": "auto",
         "type": "bar",
         "x": [
          "電気機械器具製造業"
         ],
         "xaxis": "x",
         "y": [
          2602.4166666666665
         ],
         "yaxis": "y"
        },
        {
         "alignmentgroup": "True",
         "hovertemplate": "業種別=%{x}<br>value=%{y}<extra></extra>",
         "legendgroup": "情報通信機械器具製造業",
         "marker": {
          "color": "#FECB52",
          "pattern": {
           "shape": ""
          }
         },
         "name": "情報通信機械器具製造業",
         "offsetgroup": "情報通信機械器具製造業",
         "orientation": "v",
         "showlegend": true,
         "textposition": "auto",
         "type": "bar",
         "x": [
          "情報通信機械器具製造業"
         ],
         "xaxis": "x",
         "y": [
          1981.6875
         ],
         "yaxis": "y"
        },
        {
         "alignmentgroup": "True",
         "hovertemplate": "業種別=%{x}<br>value=%{y}<extra></extra>",
         "legendgroup": "輸送用機械器具製造業",
         "marker": {
          "color": "#636efa",
          "pattern": {
           "shape": ""
          }
         },
         "name": "輸送用機械器具製造業",
         "offsetgroup": "輸送用機械器具製造業",
         "orientation": "v",
         "showlegend": true,
         "textposition": "auto",
         "type": "bar",
         "x": [
          "輸送用機械器具製造業"
         ],
         "xaxis": "x",
         "y": [
          4967.446428571428
         ],
         "yaxis": "y"
        },
        {
         "alignmentgroup": "True",
         "hovertemplate": "業種別=%{x}<br>value=%{y}<extra></extra>",
         "legendgroup": "その他機械器具製造業",
         "marker": {
          "color": "#EF553B",
          "pattern": {
           "shape": ""
          }
         },
         "name": "その他機械器具製造業",
         "offsetgroup": "その他機械器具製造業",
         "orientation": "v",
         "showlegend": true,
         "textposition": "auto",
         "type": "bar",
         "x": [
          "その他機械器具製造業"
         ],
         "xaxis": "x",
         "y": [
          1300.1129032258063
         ],
         "yaxis": "y"
        },
        {
         "alignmentgroup": "True",
         "hovertemplate": "業種別=%{x}<br>value=%{y}<extra></extra>",
         "legendgroup": "その他の製造業",
         "marker": {
          "color": "#00cc96",
          "pattern": {
           "shape": ""
          }
         },
         "name": "その他の製造業",
         "offsetgroup": "その他の製造業",
         "orientation": "v",
         "showlegend": true,
         "textposition": "auto",
         "type": "bar",
         "x": [
          "その他の製造業"
         ],
         "xaxis": "x",
         "y": [
          1337.0526315789473
         ],
         "yaxis": "y"
        },
        {
         "alignmentgroup": "True",
         "hovertemplate": "業種別=%{x}<br>value=%{y}<extra></extra>",
         "legendgroup": "農林漁業・同協同組合、鉱業",
         "marker": {
          "color": "#ab63fa",
          "pattern": {
           "shape": ""
          }
         },
         "name": "農林漁業・同協同組合、鉱業",
         "offsetgroup": "農林漁業・同協同組合、鉱業",
         "orientation": "v",
         "showlegend": true,
         "textposition": "auto",
         "type": "bar",
         "x": [
          "農林漁業・同協同組合、鉱業"
         ],
         "xaxis": "x",
         "y": [
          140.5
         ],
         "yaxis": "y"
        },
        {
         "alignmentgroup": "True",
         "hovertemplate": "業種別=%{x}<br>value=%{y}<extra></extra>",
         "legendgroup": "建設業",
         "marker": {
          "color": "#FFA15A",
          "pattern": {
           "shape": ""
          }
         },
         "name": "建設業",
         "offsetgroup": "建設業",
         "orientation": "v",
         "showlegend": true,
         "textposition": "auto",
         "type": "bar",
         "x": [
          "建設業"
         ],
         "xaxis": "x",
         "y": [
          875.1638418079096
         ],
         "yaxis": "y"
        },
        {
         "alignmentgroup": "True",
         "hovertemplate": "業種別=%{x}<br>value=%{y}<extra></extra>",
         "legendgroup": "電気・ガス・熱供給・水道業",
         "marker": {
          "color": "#19d3f3",
          "pattern": {
           "shape": ""
          }
         },
         "name": "電気・ガス・熱供給・水道業",
         "offsetgroup": "電気・ガス・熱供給・水道業",
         "orientation": "v",
         "showlegend": true,
         "textposition": "auto",
         "type": "bar",
         "x": [
          "電気・ガス・熱供給・水道業"
         ],
         "xaxis": "x",
         "y": [
          1886.1052631578948
         ],
         "yaxis": "y"
        },
        {
         "alignmentgroup": "True",
         "hovertemplate": "業種別=%{x}<br>value=%{y}<extra></extra>",
         "legendgroup": "映像・音声情報制作・放送・通信業",
         "marker": {
          "color": "#FF6692",
          "pattern": {
           "shape": ""
          }
         },
         "name": "映像・音声情報制作・放送・通信業",
         "offsetgroup": "映像・音声情報制作・放送・通信業",
         "orientation": "v",
         "showlegend": true,
         "textposition": "auto",
         "type": "bar",
         "x": [
          "映像・音声情報制作・放送・通信業"
         ],
         "xaxis": "x",
         "y": [
          899.2727272727273
         ],
         "yaxis": "y"
        },
        {
         "alignmentgroup": "True",
         "hovertemplate": "業種別=%{x}<br>value=%{y}<extra></extra>",
         "legendgroup": "新聞・出版業",
         "marker": {
          "color": "#B6E880",
          "pattern": {
           "shape": ""
          }
         },
         "name": "新聞・出版業",
         "offsetgroup": "新聞・出版業",
         "orientation": "v",
         "showlegend": true,
         "textposition": "auto",
         "type": "bar",
         "x": [
          "新聞・出版業"
         ],
         "xaxis": "x",
         "y": [
          811.9285714285714
         ],
         "yaxis": "y"
        },
        {
         "alignmentgroup": "True",
         "hovertemplate": "業種別=%{x}<br>value=%{y}<extra></extra>",
         "legendgroup": "情報サービス業",
         "marker": {
          "color": "#FF97FF",
          "pattern": {
           "shape": ""
          }
         },
         "name": "情報サービス業",
         "offsetgroup": "情報サービス業",
         "orientation": "v",
         "showlegend": true,
         "textposition": "auto",
         "type": "bar",
         "x": [
          "情報サービス業"
         ],
         "xaxis": "x",
         "y": [
          797.8526315789474
         ],
         "yaxis": "y"
        },
        {
         "alignmentgroup": "True",
         "hovertemplate": "業種別=%{x}<br>value=%{y}<extra></extra>",
         "legendgroup": "運輸業・郵便業",
         "marker": {
          "color": "#FECB52",
          "pattern": {
           "shape": ""
          }
         },
         "name": "運輸業・郵便業",
         "offsetgroup": "運輸業・郵便業",
         "orientation": "v",
         "showlegend": true,
         "textposition": "auto",
         "type": "bar",
         "x": [
          "運輸業・郵便業"
         ],
         "xaxis": "x",
         "y": [
          2236.8282828282827
         ],
         "yaxis": "y"
        },
        {
         "alignmentgroup": "True",
         "hovertemplate": "業種別=%{x}<br>value=%{y}<extra></extra>",
         "legendgroup": "卸売業",
         "marker": {
          "color": "#636efa",
          "pattern": {
           "shape": ""
          }
         },
         "name": "卸売業",
         "offsetgroup": "卸売業",
         "orientation": "v",
         "showlegend": true,
         "textposition": "auto",
         "type": "bar",
         "x": [
          "卸売業"
         ],
         "xaxis": "x",
         "y": [
          856.7517730496454
         ],
         "yaxis": "y"
        },
        {
         "alignmentgroup": "True",
         "hovertemplate": "業種別=%{x}<br>value=%{y}<extra></extra>",
         "legendgroup": "小売業",
         "marker": {
          "color": "#EF553B",
          "pattern": {
           "shape": ""
          }
         },
         "name": "小売業",
         "offsetgroup": "小売業",
         "orientation": "v",
         "showlegend": true,
         "textposition": "auto",
         "type": "bar",
         "x": [
          "小売業"
         ],
         "xaxis": "x",
         "y": [
          2282.875
         ],
         "yaxis": "y"
        },
        {
         "alignmentgroup": "True",
         "hovertemplate": "業種別=%{x}<br>value=%{y}<extra></extra>",
         "legendgroup": "金融業・保険業",
         "marker": {
          "color": "#00cc96",
          "pattern": {
           "shape": ""
          }
         },
         "name": "金融業・保険業",
         "offsetgroup": "金融業・保険業",
         "orientation": "v",
         "showlegend": true,
         "textposition": "auto",
         "type": "bar",
         "x": [
          "金融業・保険業"
         ],
         "xaxis": "x",
         "y": [
          2305.231884057971
         ],
         "yaxis": "y"
        },
        {
         "alignmentgroup": "True",
         "hovertemplate": "業種別=%{x}<br>value=%{y}<extra></extra>",
         "legendgroup": "医療業（国・公立除く）",
         "marker": {
          "color": "#ab63fa",
          "pattern": {
           "shape": ""
          }
         },
         "name": "医療業（国・公立除く）",
         "offsetgroup": "医療業（国・公立除く）",
         "orientation": "v",
         "showlegend": true,
         "textposition": "auto",
         "type": "bar",
         "x": [
          "医療業（国・公立除く）"
         ],
         "xaxis": "x",
         "y": [
          650.6666666666666
         ],
         "yaxis": "y"
        },
        {
         "alignmentgroup": "True",
         "hovertemplate": "業種別=%{x}<br>value=%{y}<extra></extra>",
         "legendgroup": "教育（国・公立除く）、学習支援業",
         "marker": {
          "color": "#FFA15A",
          "pattern": {
           "shape": ""
          }
         },
         "name": "教育（国・公立除く）、学習支援業",
         "offsetgroup": "教育（国・公立除く）、学習支援業",
         "orientation": "v",
         "showlegend": true,
         "textposition": "auto",
         "type": "bar",
         "x": [
          "教育（国・公立除く）、学習支援業"
         ],
         "xaxis": "x",
         "y": [
          576.125
         ],
         "yaxis": "y"
        },
        {
         "alignmentgroup": "True",
         "hovertemplate": "業種別=%{x}<br>value=%{y}<extra></extra>",
         "legendgroup": "その他の非製造業",
         "marker": {
          "color": "#19d3f3",
          "pattern": {
           "shape": ""
          }
         },
         "name": "その他の非製造業",
         "offsetgroup": "その他の非製造業",
         "orientation": "v",
         "showlegend": true,
         "textposition": "auto",
         "type": "bar",
         "x": [
          "その他の非製造業"
         ],
         "xaxis": "x",
         "y": [
          1190.5503355704698
         ],
         "yaxis": "y"
        }
       ],
       "layout": {
        "barmode": "relative",
        "legend": {
         "title": {
          "text": "業種別"
         },
         "tracegroupgap": 0
        },
        "margin": {
         "t": 60
        },
        "template": {
         "data": {
          "bar": [
           {
            "error_x": {
             "color": "#2a3f5f"
            },
            "error_y": {
             "color": "#2a3f5f"
            },
            "marker": {
             "line": {
              "color": "#E5ECF6",
              "width": 0.5
             },
             "pattern": {
              "fillmode": "overlay",
              "size": 10,
              "solidity": 0.2
             }
            },
            "type": "bar"
           }
          ],
          "barpolar": [
           {
            "marker": {
             "line": {
              "color": "#E5ECF6",
              "width": 0.5
             },
             "pattern": {
              "fillmode": "overlay",
              "size": 10,
              "solidity": 0.2
             }
            },
            "type": "barpolar"
           }
          ],
          "carpet": [
           {
            "aaxis": {
             "endlinecolor": "#2a3f5f",
             "gridcolor": "white",
             "linecolor": "white",
             "minorgridcolor": "white",
             "startlinecolor": "#2a3f5f"
            },
            "baxis": {
             "endlinecolor": "#2a3f5f",
             "gridcolor": "white",
             "linecolor": "white",
             "minorgridcolor": "white",
             "startlinecolor": "#2a3f5f"
            },
            "type": "carpet"
           }
          ],
          "choropleth": [
           {
            "colorbar": {
             "outlinewidth": 0,
             "ticks": ""
            },
            "type": "choropleth"
           }
          ],
          "contour": [
           {
            "colorbar": {
             "outlinewidth": 0,
             "ticks": ""
            },
            "colorscale": [
             [
              0,
              "#0d0887"
             ],
             [
              0.1111111111111111,
              "#46039f"
             ],
             [
              0.2222222222222222,
              "#7201a8"
             ],
             [
              0.3333333333333333,
              "#9c179e"
             ],
             [
              0.4444444444444444,
              "#bd3786"
             ],
             [
              0.5555555555555556,
              "#d8576b"
             ],
             [
              0.6666666666666666,
              "#ed7953"
             ],
             [
              0.7777777777777778,
              "#fb9f3a"
             ],
             [
              0.8888888888888888,
              "#fdca26"
             ],
             [
              1,
              "#f0f921"
             ]
            ],
            "type": "contour"
           }
          ],
          "contourcarpet": [
           {
            "colorbar": {
             "outlinewidth": 0,
             "ticks": ""
            },
            "type": "contourcarpet"
           }
          ],
          "heatmap": [
           {
            "colorbar": {
             "outlinewidth": 0,
             "ticks": ""
            },
            "colorscale": [
             [
              0,
              "#0d0887"
             ],
             [
              0.1111111111111111,
              "#46039f"
             ],
             [
              0.2222222222222222,
              "#7201a8"
             ],
             [
              0.3333333333333333,
              "#9c179e"
             ],
             [
              0.4444444444444444,
              "#bd3786"
             ],
             [
              0.5555555555555556,
              "#d8576b"
             ],
             [
              0.6666666666666666,
              "#ed7953"
             ],
             [
              0.7777777777777778,
              "#fb9f3a"
             ],
             [
              0.8888888888888888,
              "#fdca26"
             ],
             [
              1,
              "#f0f921"
             ]
            ],
            "type": "heatmap"
           }
          ],
          "heatmapgl": [
           {
            "colorbar": {
             "outlinewidth": 0,
             "ticks": ""
            },
            "colorscale": [
             [
              0,
              "#0d0887"
             ],
             [
              0.1111111111111111,
              "#46039f"
             ],
             [
              0.2222222222222222,
              "#7201a8"
             ],
             [
              0.3333333333333333,
              "#9c179e"
             ],
             [
              0.4444444444444444,
              "#bd3786"
             ],
             [
              0.5555555555555556,
              "#d8576b"
             ],
             [
              0.6666666666666666,
              "#ed7953"
             ],
             [
              0.7777777777777778,
              "#fb9f3a"
             ],
             [
              0.8888888888888888,
              "#fdca26"
             ],
             [
              1,
              "#f0f921"
             ]
            ],
            "type": "heatmapgl"
           }
          ],
          "histogram": [
           {
            "marker": {
             "pattern": {
              "fillmode": "overlay",
              "size": 10,
              "solidity": 0.2
             }
            },
            "type": "histogram"
           }
          ],
          "histogram2d": [
           {
            "colorbar": {
             "outlinewidth": 0,
             "ticks": ""
            },
            "colorscale": [
             [
              0,
              "#0d0887"
             ],
             [
              0.1111111111111111,
              "#46039f"
             ],
             [
              0.2222222222222222,
              "#7201a8"
             ],
             [
              0.3333333333333333,
              "#9c179e"
             ],
             [
              0.4444444444444444,
              "#bd3786"
             ],
             [
              0.5555555555555556,
              "#d8576b"
             ],
             [
              0.6666666666666666,
              "#ed7953"
             ],
             [
              0.7777777777777778,
              "#fb9f3a"
             ],
             [
              0.8888888888888888,
              "#fdca26"
             ],
             [
              1,
              "#f0f921"
             ]
            ],
            "type": "histogram2d"
           }
          ],
          "histogram2dcontour": [
           {
            "colorbar": {
             "outlinewidth": 0,
             "ticks": ""
            },
            "colorscale": [
             [
              0,
              "#0d0887"
             ],
             [
              0.1111111111111111,
              "#46039f"
             ],
             [
              0.2222222222222222,
              "#7201a8"
             ],
             [
              0.3333333333333333,
              "#9c179e"
             ],
             [
              0.4444444444444444,
              "#bd3786"
             ],
             [
              0.5555555555555556,
              "#d8576b"
             ],
             [
              0.6666666666666666,
              "#ed7953"
             ],
             [
              0.7777777777777778,
              "#fb9f3a"
             ],
             [
              0.8888888888888888,
              "#fdca26"
             ],
             [
              1,
              "#f0f921"
             ]
            ],
            "type": "histogram2dcontour"
           }
          ],
          "mesh3d": [
           {
            "colorbar": {
             "outlinewidth": 0,
             "ticks": ""
            },
            "type": "mesh3d"
           }
          ],
          "parcoords": [
           {
            "line": {
             "colorbar": {
              "outlinewidth": 0,
              "ticks": ""
             }
            },
            "type": "parcoords"
           }
          ],
          "pie": [
           {
            "automargin": true,
            "type": "pie"
           }
          ],
          "scatter": [
           {
            "marker": {
             "colorbar": {
              "outlinewidth": 0,
              "ticks": ""
             }
            },
            "type": "scatter"
           }
          ],
          "scatter3d": [
           {
            "line": {
             "colorbar": {
              "outlinewidth": 0,
              "ticks": ""
             }
            },
            "marker": {
             "colorbar": {
              "outlinewidth": 0,
              "ticks": ""
             }
            },
            "type": "scatter3d"
           }
          ],
          "scattercarpet": [
           {
            "marker": {
             "colorbar": {
              "outlinewidth": 0,
              "ticks": ""
             }
            },
            "type": "scattercarpet"
           }
          ],
          "scattergeo": [
           {
            "marker": {
             "colorbar": {
              "outlinewidth": 0,
              "ticks": ""
             }
            },
            "type": "scattergeo"
           }
          ],
          "scattergl": [
           {
            "marker": {
             "colorbar": {
              "outlinewidth": 0,
              "ticks": ""
             }
            },
            "type": "scattergl"
           }
          ],
          "scattermapbox": [
           {
            "marker": {
             "colorbar": {
              "outlinewidth": 0,
              "ticks": ""
             }
            },
            "type": "scattermapbox"
           }
          ],
          "scatterpolar": [
           {
            "marker": {
             "colorbar": {
              "outlinewidth": 0,
              "ticks": ""
             }
            },
            "type": "scatterpolar"
           }
          ],
          "scatterpolargl": [
           {
            "marker": {
             "colorbar": {
              "outlinewidth": 0,
              "ticks": ""
             }
            },
            "type": "scatterpolargl"
           }
          ],
          "scatterternary": [
           {
            "marker": {
             "colorbar": {
              "outlinewidth": 0,
              "ticks": ""
             }
            },
            "type": "scatterternary"
           }
          ],
          "surface": [
           {
            "colorbar": {
             "outlinewidth": 0,
             "ticks": ""
            },
            "colorscale": [
             [
              0,
              "#0d0887"
             ],
             [
              0.1111111111111111,
              "#46039f"
             ],
             [
              0.2222222222222222,
              "#7201a8"
             ],
             [
              0.3333333333333333,
              "#9c179e"
             ],
             [
              0.4444444444444444,
              "#bd3786"
             ],
             [
              0.5555555555555556,
              "#d8576b"
             ],
             [
              0.6666666666666666,
              "#ed7953"
             ],
             [
              0.7777777777777778,
              "#fb9f3a"
             ],
             [
              0.8888888888888888,
              "#fdca26"
             ],
             [
              1,
              "#f0f921"
             ]
            ],
            "type": "surface"
           }
          ],
          "table": [
           {
            "cells": {
             "fill": {
              "color": "#EBF0F8"
             },
             "line": {
              "color": "white"
             }
            },
            "header": {
             "fill": {
              "color": "#C8D4E3"
             },
             "line": {
              "color": "white"
             }
            },
            "type": "table"
           }
          ]
         },
         "layout": {
          "annotationdefaults": {
           "arrowcolor": "#2a3f5f",
           "arrowhead": 0,
           "arrowwidth": 1
          },
          "autotypenumbers": "strict",
          "coloraxis": {
           "colorbar": {
            "outlinewidth": 0,
            "ticks": ""
           }
          },
          "colorscale": {
           "diverging": [
            [
             0,
             "#8e0152"
            ],
            [
             0.1,
             "#c51b7d"
            ],
            [
             0.2,
             "#de77ae"
            ],
            [
             0.3,
             "#f1b6da"
            ],
            [
             0.4,
             "#fde0ef"
            ],
            [
             0.5,
             "#f7f7f7"
            ],
            [
             0.6,
             "#e6f5d0"
            ],
            [
             0.7,
             "#b8e186"
            ],
            [
             0.8,
             "#7fbc41"
            ],
            [
             0.9,
             "#4d9221"
            ],
            [
             1,
             "#276419"
            ]
           ],
           "sequential": [
            [
             0,
             "#0d0887"
            ],
            [
             0.1111111111111111,
             "#46039f"
            ],
            [
             0.2222222222222222,
             "#7201a8"
            ],
            [
             0.3333333333333333,
             "#9c179e"
            ],
            [
             0.4444444444444444,
             "#bd3786"
            ],
            [
             0.5555555555555556,
             "#d8576b"
            ],
            [
             0.6666666666666666,
             "#ed7953"
            ],
            [
             0.7777777777777778,
             "#fb9f3a"
            ],
            [
             0.8888888888888888,
             "#fdca26"
            ],
            [
             1,
             "#f0f921"
            ]
           ],
           "sequentialminus": [
            [
             0,
             "#0d0887"
            ],
            [
             0.1111111111111111,
             "#46039f"
            ],
            [
             0.2222222222222222,
             "#7201a8"
            ],
            [
             0.3333333333333333,
             "#9c179e"
            ],
            [
             0.4444444444444444,
             "#bd3786"
            ],
            [
             0.5555555555555556,
             "#d8576b"
            ],
            [
             0.6666666666666666,
             "#ed7953"
            ],
            [
             0.7777777777777778,
             "#fb9f3a"
            ],
            [
             0.8888888888888888,
             "#fdca26"
            ],
            [
             1,
             "#f0f921"
            ]
           ]
          },
          "colorway": [
           "#636efa",
           "#EF553B",
           "#00cc96",
           "#ab63fa",
           "#FFA15A",
           "#19d3f3",
           "#FF6692",
           "#B6E880",
           "#FF97FF",
           "#FECB52"
          ],
          "font": {
           "color": "#2a3f5f"
          },
          "geo": {
           "bgcolor": "white",
           "lakecolor": "white",
           "landcolor": "#E5ECF6",
           "showlakes": true,
           "showland": true,
           "subunitcolor": "white"
          },
          "hoverlabel": {
           "align": "left"
          },
          "hovermode": "closest",
          "mapbox": {
           "style": "light"
          },
          "paper_bgcolor": "white",
          "plot_bgcolor": "#E5ECF6",
          "polar": {
           "angularaxis": {
            "gridcolor": "white",
            "linecolor": "white",
            "ticks": ""
           },
           "bgcolor": "#E5ECF6",
           "radialaxis": {
            "gridcolor": "white",
            "linecolor": "white",
            "ticks": ""
           }
          },
          "scene": {
           "xaxis": {
            "backgroundcolor": "#E5ECF6",
            "gridcolor": "white",
            "gridwidth": 2,
            "linecolor": "white",
            "showbackground": true,
            "ticks": "",
            "zerolinecolor": "white"
           },
           "yaxis": {
            "backgroundcolor": "#E5ECF6",
            "gridcolor": "white",
            "gridwidth": 2,
            "linecolor": "white",
            "showbackground": true,
            "ticks": "",
            "zerolinecolor": "white"
           },
           "zaxis": {
            "backgroundcolor": "#E5ECF6",
            "gridcolor": "white",
            "gridwidth": 2,
            "linecolor": "white",
            "showbackground": true,
            "ticks": "",
            "zerolinecolor": "white"
           }
          },
          "shapedefaults": {
           "line": {
            "color": "#2a3f5f"
           }
          },
          "ternary": {
           "aaxis": {
            "gridcolor": "white",
            "linecolor": "white",
            "ticks": ""
           },
           "baxis": {
            "gridcolor": "white",
            "linecolor": "white",
            "ticks": ""
           },
           "bgcolor": "#E5ECF6",
           "caxis": {
            "gridcolor": "white",
            "linecolor": "white",
            "ticks": ""
           }
          },
          "title": {
           "x": 0.05
          },
          "xaxis": {
           "automargin": true,
           "gridcolor": "white",
           "linecolor": "white",
           "ticks": "",
           "title": {
            "standoff": 15
           },
           "zerolinecolor": "white",
           "zerolinewidth": 2
          },
          "yaxis": {
           "automargin": true,
           "gridcolor": "white",
           "linecolor": "white",
           "ticks": "",
           "title": {
            "standoff": 15
           },
           "zerolinecolor": "white",
           "zerolinewidth": 2
          }
         }
        },
        "xaxis": {
         "anchor": "y",
         "categoryarray": [
          "食料品、飲料・たばこ・飼料製造業",
          "繊維工業",
          "パルプ・紙・紙加工品製造業",
          "化学工業",
          "石油・石炭・ﾌﾟﾗｽﾁｯｸ製品製造業",
          "窯業・土石製品製造業",
          "鉄鋼業",
          "非鉄金属製品・金属製品製造業",
          "電気機械器具製造業",
          "情報通信機械器具製造業",
          "輸送用機械器具製造業",
          "その他機械器具製造業",
          "その他の製造業",
          "農林漁業・同協同組合、鉱業",
          "建設業",
          "電気・ガス・熱供給・水道業",
          "映像・音声情報制作・放送・通信業",
          "新聞・出版業",
          "情報サービス業",
          "運輸業・郵便業",
          "卸売業",
          "小売業",
          "金融業・保険業",
          "医療業（国・公立除く）",
          "教育（国・公立除く）、学習支援業",
          "その他の非製造業"
         ],
         "categoryorder": "total descending",
         "domain": [
          0,
          1
         ],
         "title": {
          "text": "業種別"
         }
        },
        "yaxis": {
         "anchor": "x",
         "domain": [
          0,
          1
         ],
         "title": {
          "text": "総従業者数（人）"
         }
        }
       }
      },
      "text/html": [
       "<div>                            <div id=\"9b58dc8a-4152-4af1-9d75-083a40574e9e\" class=\"plotly-graph-div\" style=\"height:525px; width:100%;\"></div>            <script type=\"text/javascript\">                require([\"plotly\"], function(Plotly) {                    window.PLOTLYENV=window.PLOTLYENV || {};                                    if (document.getElementById(\"9b58dc8a-4152-4af1-9d75-083a40574e9e\")) {                    Plotly.newPlot(                        \"9b58dc8a-4152-4af1-9d75-083a40574e9e\",                        [{\"alignmentgroup\":\"True\",\"hovertemplate\":\"\\u696d\\u7a2e\\u5225=%{x}<br>value=%{y}<extra></extra>\",\"legendgroup\":\"\\u98df\\u6599\\u54c1\\u3001\\u98f2\\u6599\\u30fb\\u305f\\u3070\\u3053\\u30fb\\u98fc\\u6599\\u88fd\\u9020\\u696d\",\"marker\":{\"color\":\"#636efa\",\"pattern\":{\"shape\":\"\"}},\"name\":\"\\u98df\\u6599\\u54c1\\u3001\\u98f2\\u6599\\u30fb\\u305f\\u3070\\u3053\\u30fb\\u98fc\\u6599\\u88fd\\u9020\\u696d\",\"offsetgroup\":\"\\u98df\\u6599\\u54c1\\u3001\\u98f2\\u6599\\u30fb\\u305f\\u3070\\u3053\\u30fb\\u98fc\\u6599\\u88fd\\u9020\\u696d\",\"orientation\":\"v\",\"showlegend\":true,\"textposition\":\"auto\",\"x\":[\"\\u98df\\u6599\\u54c1\\u3001\\u98f2\\u6599\\u30fb\\u305f\\u3070\\u3053\\u30fb\\u98fc\\u6599\\u88fd\\u9020\\u696d\"],\"xaxis\":\"x\",\"y\":[1679.3857142857144],\"yaxis\":\"y\",\"type\":\"bar\"},{\"alignmentgroup\":\"True\",\"hovertemplate\":\"\\u696d\\u7a2e\\u5225=%{x}<br>value=%{y}<extra></extra>\",\"legendgroup\":\"\\u7e4a\\u7dad\\u5de5\\u696d\",\"marker\":{\"color\":\"#EF553B\",\"pattern\":{\"shape\":\"\"}},\"name\":\"\\u7e4a\\u7dad\\u5de5\\u696d\",\"offsetgroup\":\"\\u7e4a\\u7dad\\u5de5\\u696d\",\"orientation\":\"v\",\"showlegend\":true,\"textposition\":\"auto\",\"x\":[\"\\u7e4a\\u7dad\\u5de5\\u696d\"],\"xaxis\":\"x\",\"y\":[492.22222222222223],\"yaxis\":\"y\",\"type\":\"bar\"},{\"alignmentgroup\":\"True\",\"hovertemplate\":\"\\u696d\\u7a2e\\u5225=%{x}<br>value=%{y}<extra></extra>\",\"legendgroup\":\"\\u30d1\\u30eb\\u30d7\\u30fb\\u7d19\\u30fb\\u7d19\\u52a0\\u5de5\\u54c1\\u88fd\\u9020\\u696d\",\"marker\":{\"color\":\"#00cc96\",\"pattern\":{\"shape\":\"\"}},\"name\":\"\\u30d1\\u30eb\\u30d7\\u30fb\\u7d19\\u30fb\\u7d19\\u52a0\\u5de5\\u54c1\\u88fd\\u9020\\u696d\",\"offsetgroup\":\"\\u30d1\\u30eb\\u30d7\\u30fb\\u7d19\\u30fb\\u7d19\\u52a0\\u5de5\\u54c1\\u88fd\\u9020\\u696d\",\"orientation\":\"v\",\"showlegend\":true,\"textposition\":\"auto\",\"x\":[\"\\u30d1\\u30eb\\u30d7\\u30fb\\u7d19\\u30fb\\u7d19\\u52a0\\u5de5\\u54c1\\u88fd\\u9020\\u696d\"],\"xaxis\":\"x\",\"y\":[1255.8461538461538],\"yaxis\":\"y\",\"type\":\"bar\"},{\"alignmentgroup\":\"True\",\"hovertemplate\":\"\\u696d\\u7a2e\\u5225=%{x}<br>value=%{y}<extra></extra>\",\"legendgroup\":\"\\u5316\\u5b66\\u5de5\\u696d\",\"marker\":{\"color\":\"#ab63fa\",\"pattern\":{\"shape\":\"\"}},\"name\":\"\\u5316\\u5b66\\u5de5\\u696d\",\"offsetgroup\":\"\\u5316\\u5b66\\u5de5\\u696d\",\"orientation\":\"v\",\"showlegend\":true,\"textposition\":\"auto\",\"x\":[\"\\u5316\\u5b66\\u5de5\\u696d\"],\"xaxis\":\"x\",\"y\":[2504.1666666666665],\"yaxis\":\"y\",\"type\":\"bar\"},{\"alignmentgroup\":\"True\",\"hovertemplate\":\"\\u696d\\u7a2e\\u5225=%{x}<br>value=%{y}<extra></extra>\",\"legendgroup\":\"\\u77f3\\u6cb9\\u30fb\\u77f3\\u70ad\\u30fb\\uff8c\\uff9f\\uff97\\uff7d\\uff81\\uff6f\\uff78\\u88fd\\u54c1\\u88fd\\u9020\\u696d\",\"marker\":{\"color\":\"#FFA15A\",\"pattern\":{\"shape\":\"\"}},\"name\":\"\\u77f3\\u6cb9\\u30fb\\u77f3\\u70ad\\u30fb\\uff8c\\uff9f\\uff97\\uff7d\\uff81\\uff6f\\uff78\\u88fd\\u54c1\\u88fd\\u9020\\u696d\",\"offsetgroup\":\"\\u77f3\\u6cb9\\u30fb\\u77f3\\u70ad\\u30fb\\uff8c\\uff9f\\uff97\\uff7d\\uff81\\uff6f\\uff78\\u88fd\\u54c1\\u88fd\\u9020\\u696d\",\"orientation\":\"v\",\"showlegend\":true,\"textposition\":\"auto\",\"x\":[\"\\u77f3\\u6cb9\\u30fb\\u77f3\\u70ad\\u30fb\\uff8c\\uff9f\\uff97\\uff7d\\uff81\\uff6f\\uff78\\u88fd\\u54c1\\u88fd\\u9020\\u696d\"],\"xaxis\":\"x\",\"y\":[784.8636363636364],\"yaxis\":\"y\",\"type\":\"bar\"},{\"alignmentgroup\":\"True\",\"hovertemplate\":\"\\u696d\\u7a2e\\u5225=%{x}<br>value=%{y}<extra></extra>\",\"legendgroup\":\"\\u7aaf\\u696d\\u30fb\\u571f\\u77f3\\u88fd\\u54c1\\u88fd\\u9020\\u696d\",\"marker\":{\"color\":\"#19d3f3\",\"pattern\":{\"shape\":\"\"}},\"name\":\"\\u7aaf\\u696d\\u30fb\\u571f\\u77f3\\u88fd\\u54c1\\u88fd\\u9020\\u696d\",\"offsetgroup\":\"\\u7aaf\\u696d\\u30fb\\u571f\\u77f3\\u88fd\\u54c1\\u88fd\\u9020\\u696d\",\"orientation\":\"v\",\"showlegend\":true,\"textposition\":\"auto\",\"x\":[\"\\u7aaf\\u696d\\u30fb\\u571f\\u77f3\\u88fd\\u54c1\\u88fd\\u9020\\u696d\"],\"xaxis\":\"x\",\"y\":[838.7777777777778],\"yaxis\":\"y\",\"type\":\"bar\"},{\"alignmentgroup\":\"True\",\"hovertemplate\":\"\\u696d\\u7a2e\\u5225=%{x}<br>value=%{y}<extra></extra>\",\"legendgroup\":\"\\u9244\\u92fc\\u696d\",\"marker\":{\"color\":\"#FF6692\",\"pattern\":{\"shape\":\"\"}},\"name\":\"\\u9244\\u92fc\\u696d\",\"offsetgroup\":\"\\u9244\\u92fc\\u696d\",\"orientation\":\"v\",\"showlegend\":true,\"textposition\":\"auto\",\"x\":[\"\\u9244\\u92fc\\u696d\"],\"xaxis\":\"x\",\"y\":[4178.0526315789475],\"yaxis\":\"y\",\"type\":\"bar\"},{\"alignmentgroup\":\"True\",\"hovertemplate\":\"\\u696d\\u7a2e\\u5225=%{x}<br>value=%{y}<extra></extra>\",\"legendgroup\":\"\\u975e\\u9244\\u91d1\\u5c5e\\u88fd\\u54c1\\u30fb\\u91d1\\u5c5e\\u88fd\\u54c1\\u88fd\\u9020\\u696d\",\"marker\":{\"color\":\"#B6E880\",\"pattern\":{\"shape\":\"\"}},\"name\":\"\\u975e\\u9244\\u91d1\\u5c5e\\u88fd\\u54c1\\u30fb\\u91d1\\u5c5e\\u88fd\\u54c1\\u88fd\\u9020\\u696d\",\"offsetgroup\":\"\\u975e\\u9244\\u91d1\\u5c5e\\u88fd\\u54c1\\u30fb\\u91d1\\u5c5e\\u88fd\\u54c1\\u88fd\\u9020\\u696d\",\"orientation\":\"v\",\"showlegend\":true,\"textposition\":\"auto\",\"x\":[\"\\u975e\\u9244\\u91d1\\u5c5e\\u88fd\\u54c1\\u30fb\\u91d1\\u5c5e\\u88fd\\u54c1\\u88fd\\u9020\\u696d\"],\"xaxis\":\"x\",\"y\":[1828.4358974358975],\"yaxis\":\"y\",\"type\":\"bar\"},{\"alignmentgroup\":\"True\",\"hovertemplate\":\"\\u696d\\u7a2e\\u5225=%{x}<br>value=%{y}<extra></extra>\",\"legendgroup\":\"\\u96fb\\u6c17\\u6a5f\\u68b0\\u5668\\u5177\\u88fd\\u9020\\u696d\",\"marker\":{\"color\":\"#FF97FF\",\"pattern\":{\"shape\":\"\"}},\"name\":\"\\u96fb\\u6c17\\u6a5f\\u68b0\\u5668\\u5177\\u88fd\\u9020\\u696d\",\"offsetgroup\":\"\\u96fb\\u6c17\\u6a5f\\u68b0\\u5668\\u5177\\u88fd\\u9020\\u696d\",\"orientation\":\"v\",\"showlegend\":true,\"textposition\":\"auto\",\"x\":[\"\\u96fb\\u6c17\\u6a5f\\u68b0\\u5668\\u5177\\u88fd\\u9020\\u696d\"],\"xaxis\":\"x\",\"y\":[2602.4166666666665],\"yaxis\":\"y\",\"type\":\"bar\"},{\"alignmentgroup\":\"True\",\"hovertemplate\":\"\\u696d\\u7a2e\\u5225=%{x}<br>value=%{y}<extra></extra>\",\"legendgroup\":\"\\u60c5\\u5831\\u901a\\u4fe1\\u6a5f\\u68b0\\u5668\\u5177\\u88fd\\u9020\\u696d\",\"marker\":{\"color\":\"#FECB52\",\"pattern\":{\"shape\":\"\"}},\"name\":\"\\u60c5\\u5831\\u901a\\u4fe1\\u6a5f\\u68b0\\u5668\\u5177\\u88fd\\u9020\\u696d\",\"offsetgroup\":\"\\u60c5\\u5831\\u901a\\u4fe1\\u6a5f\\u68b0\\u5668\\u5177\\u88fd\\u9020\\u696d\",\"orientation\":\"v\",\"showlegend\":true,\"textposition\":\"auto\",\"x\":[\"\\u60c5\\u5831\\u901a\\u4fe1\\u6a5f\\u68b0\\u5668\\u5177\\u88fd\\u9020\\u696d\"],\"xaxis\":\"x\",\"y\":[1981.6875],\"yaxis\":\"y\",\"type\":\"bar\"},{\"alignmentgroup\":\"True\",\"hovertemplate\":\"\\u696d\\u7a2e\\u5225=%{x}<br>value=%{y}<extra></extra>\",\"legendgroup\":\"\\u8f38\\u9001\\u7528\\u6a5f\\u68b0\\u5668\\u5177\\u88fd\\u9020\\u696d\",\"marker\":{\"color\":\"#636efa\",\"pattern\":{\"shape\":\"\"}},\"name\":\"\\u8f38\\u9001\\u7528\\u6a5f\\u68b0\\u5668\\u5177\\u88fd\\u9020\\u696d\",\"offsetgroup\":\"\\u8f38\\u9001\\u7528\\u6a5f\\u68b0\\u5668\\u5177\\u88fd\\u9020\\u696d\",\"orientation\":\"v\",\"showlegend\":true,\"textposition\":\"auto\",\"x\":[\"\\u8f38\\u9001\\u7528\\u6a5f\\u68b0\\u5668\\u5177\\u88fd\\u9020\\u696d\"],\"xaxis\":\"x\",\"y\":[4967.446428571428],\"yaxis\":\"y\",\"type\":\"bar\"},{\"alignmentgroup\":\"True\",\"hovertemplate\":\"\\u696d\\u7a2e\\u5225=%{x}<br>value=%{y}<extra></extra>\",\"legendgroup\":\"\\u305d\\u306e\\u4ed6\\u6a5f\\u68b0\\u5668\\u5177\\u88fd\\u9020\\u696d\",\"marker\":{\"color\":\"#EF553B\",\"pattern\":{\"shape\":\"\"}},\"name\":\"\\u305d\\u306e\\u4ed6\\u6a5f\\u68b0\\u5668\\u5177\\u88fd\\u9020\\u696d\",\"offsetgroup\":\"\\u305d\\u306e\\u4ed6\\u6a5f\\u68b0\\u5668\\u5177\\u88fd\\u9020\\u696d\",\"orientation\":\"v\",\"showlegend\":true,\"textposition\":\"auto\",\"x\":[\"\\u305d\\u306e\\u4ed6\\u6a5f\\u68b0\\u5668\\u5177\\u88fd\\u9020\\u696d\"],\"xaxis\":\"x\",\"y\":[1300.1129032258063],\"yaxis\":\"y\",\"type\":\"bar\"},{\"alignmentgroup\":\"True\",\"hovertemplate\":\"\\u696d\\u7a2e\\u5225=%{x}<br>value=%{y}<extra></extra>\",\"legendgroup\":\"\\u305d\\u306e\\u4ed6\\u306e\\u88fd\\u9020\\u696d\",\"marker\":{\"color\":\"#00cc96\",\"pattern\":{\"shape\":\"\"}},\"name\":\"\\u305d\\u306e\\u4ed6\\u306e\\u88fd\\u9020\\u696d\",\"offsetgroup\":\"\\u305d\\u306e\\u4ed6\\u306e\\u88fd\\u9020\\u696d\",\"orientation\":\"v\",\"showlegend\":true,\"textposition\":\"auto\",\"x\":[\"\\u305d\\u306e\\u4ed6\\u306e\\u88fd\\u9020\\u696d\"],\"xaxis\":\"x\",\"y\":[1337.0526315789473],\"yaxis\":\"y\",\"type\":\"bar\"},{\"alignmentgroup\":\"True\",\"hovertemplate\":\"\\u696d\\u7a2e\\u5225=%{x}<br>value=%{y}<extra></extra>\",\"legendgroup\":\"\\u8fb2\\u6797\\u6f01\\u696d\\u30fb\\u540c\\u5354\\u540c\\u7d44\\u5408\\u3001\\u9271\\u696d\",\"marker\":{\"color\":\"#ab63fa\",\"pattern\":{\"shape\":\"\"}},\"name\":\"\\u8fb2\\u6797\\u6f01\\u696d\\u30fb\\u540c\\u5354\\u540c\\u7d44\\u5408\\u3001\\u9271\\u696d\",\"offsetgroup\":\"\\u8fb2\\u6797\\u6f01\\u696d\\u30fb\\u540c\\u5354\\u540c\\u7d44\\u5408\\u3001\\u9271\\u696d\",\"orientation\":\"v\",\"showlegend\":true,\"textposition\":\"auto\",\"x\":[\"\\u8fb2\\u6797\\u6f01\\u696d\\u30fb\\u540c\\u5354\\u540c\\u7d44\\u5408\\u3001\\u9271\\u696d\"],\"xaxis\":\"x\",\"y\":[140.5],\"yaxis\":\"y\",\"type\":\"bar\"},{\"alignmentgroup\":\"True\",\"hovertemplate\":\"\\u696d\\u7a2e\\u5225=%{x}<br>value=%{y}<extra></extra>\",\"legendgroup\":\"\\u5efa\\u8a2d\\u696d\",\"marker\":{\"color\":\"#FFA15A\",\"pattern\":{\"shape\":\"\"}},\"name\":\"\\u5efa\\u8a2d\\u696d\",\"offsetgroup\":\"\\u5efa\\u8a2d\\u696d\",\"orientation\":\"v\",\"showlegend\":true,\"textposition\":\"auto\",\"x\":[\"\\u5efa\\u8a2d\\u696d\"],\"xaxis\":\"x\",\"y\":[875.1638418079096],\"yaxis\":\"y\",\"type\":\"bar\"},{\"alignmentgroup\":\"True\",\"hovertemplate\":\"\\u696d\\u7a2e\\u5225=%{x}<br>value=%{y}<extra></extra>\",\"legendgroup\":\"\\u96fb\\u6c17\\u30fb\\u30ac\\u30b9\\u30fb\\u71b1\\u4f9b\\u7d66\\u30fb\\u6c34\\u9053\\u696d\",\"marker\":{\"color\":\"#19d3f3\",\"pattern\":{\"shape\":\"\"}},\"name\":\"\\u96fb\\u6c17\\u30fb\\u30ac\\u30b9\\u30fb\\u71b1\\u4f9b\\u7d66\\u30fb\\u6c34\\u9053\\u696d\",\"offsetgroup\":\"\\u96fb\\u6c17\\u30fb\\u30ac\\u30b9\\u30fb\\u71b1\\u4f9b\\u7d66\\u30fb\\u6c34\\u9053\\u696d\",\"orientation\":\"v\",\"showlegend\":true,\"textposition\":\"auto\",\"x\":[\"\\u96fb\\u6c17\\u30fb\\u30ac\\u30b9\\u30fb\\u71b1\\u4f9b\\u7d66\\u30fb\\u6c34\\u9053\\u696d\"],\"xaxis\":\"x\",\"y\":[1886.1052631578948],\"yaxis\":\"y\",\"type\":\"bar\"},{\"alignmentgroup\":\"True\",\"hovertemplate\":\"\\u696d\\u7a2e\\u5225=%{x}<br>value=%{y}<extra></extra>\",\"legendgroup\":\"\\u6620\\u50cf\\u30fb\\u97f3\\u58f0\\u60c5\\u5831\\u5236\\u4f5c\\u30fb\\u653e\\u9001\\u30fb\\u901a\\u4fe1\\u696d\",\"marker\":{\"color\":\"#FF6692\",\"pattern\":{\"shape\":\"\"}},\"name\":\"\\u6620\\u50cf\\u30fb\\u97f3\\u58f0\\u60c5\\u5831\\u5236\\u4f5c\\u30fb\\u653e\\u9001\\u30fb\\u901a\\u4fe1\\u696d\",\"offsetgroup\":\"\\u6620\\u50cf\\u30fb\\u97f3\\u58f0\\u60c5\\u5831\\u5236\\u4f5c\\u30fb\\u653e\\u9001\\u30fb\\u901a\\u4fe1\\u696d\",\"orientation\":\"v\",\"showlegend\":true,\"textposition\":\"auto\",\"x\":[\"\\u6620\\u50cf\\u30fb\\u97f3\\u58f0\\u60c5\\u5831\\u5236\\u4f5c\\u30fb\\u653e\\u9001\\u30fb\\u901a\\u4fe1\\u696d\"],\"xaxis\":\"x\",\"y\":[899.2727272727273],\"yaxis\":\"y\",\"type\":\"bar\"},{\"alignmentgroup\":\"True\",\"hovertemplate\":\"\\u696d\\u7a2e\\u5225=%{x}<br>value=%{y}<extra></extra>\",\"legendgroup\":\"\\u65b0\\u805e\\u30fb\\u51fa\\u7248\\u696d\",\"marker\":{\"color\":\"#B6E880\",\"pattern\":{\"shape\":\"\"}},\"name\":\"\\u65b0\\u805e\\u30fb\\u51fa\\u7248\\u696d\",\"offsetgroup\":\"\\u65b0\\u805e\\u30fb\\u51fa\\u7248\\u696d\",\"orientation\":\"v\",\"showlegend\":true,\"textposition\":\"auto\",\"x\":[\"\\u65b0\\u805e\\u30fb\\u51fa\\u7248\\u696d\"],\"xaxis\":\"x\",\"y\":[811.9285714285714],\"yaxis\":\"y\",\"type\":\"bar\"},{\"alignmentgroup\":\"True\",\"hovertemplate\":\"\\u696d\\u7a2e\\u5225=%{x}<br>value=%{y}<extra></extra>\",\"legendgroup\":\"\\u60c5\\u5831\\u30b5\\u30fc\\u30d3\\u30b9\\u696d\",\"marker\":{\"color\":\"#FF97FF\",\"pattern\":{\"shape\":\"\"}},\"name\":\"\\u60c5\\u5831\\u30b5\\u30fc\\u30d3\\u30b9\\u696d\",\"offsetgroup\":\"\\u60c5\\u5831\\u30b5\\u30fc\\u30d3\\u30b9\\u696d\",\"orientation\":\"v\",\"showlegend\":true,\"textposition\":\"auto\",\"x\":[\"\\u60c5\\u5831\\u30b5\\u30fc\\u30d3\\u30b9\\u696d\"],\"xaxis\":\"x\",\"y\":[797.8526315789474],\"yaxis\":\"y\",\"type\":\"bar\"},{\"alignmentgroup\":\"True\",\"hovertemplate\":\"\\u696d\\u7a2e\\u5225=%{x}<br>value=%{y}<extra></extra>\",\"legendgroup\":\"\\u904b\\u8f38\\u696d\\u30fb\\u90f5\\u4fbf\\u696d\",\"marker\":{\"color\":\"#FECB52\",\"pattern\":{\"shape\":\"\"}},\"name\":\"\\u904b\\u8f38\\u696d\\u30fb\\u90f5\\u4fbf\\u696d\",\"offsetgroup\":\"\\u904b\\u8f38\\u696d\\u30fb\\u90f5\\u4fbf\\u696d\",\"orientation\":\"v\",\"showlegend\":true,\"textposition\":\"auto\",\"x\":[\"\\u904b\\u8f38\\u696d\\u30fb\\u90f5\\u4fbf\\u696d\"],\"xaxis\":\"x\",\"y\":[2236.8282828282827],\"yaxis\":\"y\",\"type\":\"bar\"},{\"alignmentgroup\":\"True\",\"hovertemplate\":\"\\u696d\\u7a2e\\u5225=%{x}<br>value=%{y}<extra></extra>\",\"legendgroup\":\"\\u5378\\u58f2\\u696d\",\"marker\":{\"color\":\"#636efa\",\"pattern\":{\"shape\":\"\"}},\"name\":\"\\u5378\\u58f2\\u696d\",\"offsetgroup\":\"\\u5378\\u58f2\\u696d\",\"orientation\":\"v\",\"showlegend\":true,\"textposition\":\"auto\",\"x\":[\"\\u5378\\u58f2\\u696d\"],\"xaxis\":\"x\",\"y\":[856.7517730496454],\"yaxis\":\"y\",\"type\":\"bar\"},{\"alignmentgroup\":\"True\",\"hovertemplate\":\"\\u696d\\u7a2e\\u5225=%{x}<br>value=%{y}<extra></extra>\",\"legendgroup\":\"\\u5c0f\\u58f2\\u696d\",\"marker\":{\"color\":\"#EF553B\",\"pattern\":{\"shape\":\"\"}},\"name\":\"\\u5c0f\\u58f2\\u696d\",\"offsetgroup\":\"\\u5c0f\\u58f2\\u696d\",\"orientation\":\"v\",\"showlegend\":true,\"textposition\":\"auto\",\"x\":[\"\\u5c0f\\u58f2\\u696d\"],\"xaxis\":\"x\",\"y\":[2282.875],\"yaxis\":\"y\",\"type\":\"bar\"},{\"alignmentgroup\":\"True\",\"hovertemplate\":\"\\u696d\\u7a2e\\u5225=%{x}<br>value=%{y}<extra></extra>\",\"legendgroup\":\"\\u91d1\\u878d\\u696d\\u30fb\\u4fdd\\u967a\\u696d\",\"marker\":{\"color\":\"#00cc96\",\"pattern\":{\"shape\":\"\"}},\"name\":\"\\u91d1\\u878d\\u696d\\u30fb\\u4fdd\\u967a\\u696d\",\"offsetgroup\":\"\\u91d1\\u878d\\u696d\\u30fb\\u4fdd\\u967a\\u696d\",\"orientation\":\"v\",\"showlegend\":true,\"textposition\":\"auto\",\"x\":[\"\\u91d1\\u878d\\u696d\\u30fb\\u4fdd\\u967a\\u696d\"],\"xaxis\":\"x\",\"y\":[2305.231884057971],\"yaxis\":\"y\",\"type\":\"bar\"},{\"alignmentgroup\":\"True\",\"hovertemplate\":\"\\u696d\\u7a2e\\u5225=%{x}<br>value=%{y}<extra></extra>\",\"legendgroup\":\"\\u533b\\u7642\\u696d\\uff08\\u56fd\\u30fb\\u516c\\u7acb\\u9664\\u304f\\uff09\",\"marker\":{\"color\":\"#ab63fa\",\"pattern\":{\"shape\":\"\"}},\"name\":\"\\u533b\\u7642\\u696d\\uff08\\u56fd\\u30fb\\u516c\\u7acb\\u9664\\u304f\\uff09\",\"offsetgroup\":\"\\u533b\\u7642\\u696d\\uff08\\u56fd\\u30fb\\u516c\\u7acb\\u9664\\u304f\\uff09\",\"orientation\":\"v\",\"showlegend\":true,\"textposition\":\"auto\",\"x\":[\"\\u533b\\u7642\\u696d\\uff08\\u56fd\\u30fb\\u516c\\u7acb\\u9664\\u304f\\uff09\"],\"xaxis\":\"x\",\"y\":[650.6666666666666],\"yaxis\":\"y\",\"type\":\"bar\"},{\"alignmentgroup\":\"True\",\"hovertemplate\":\"\\u696d\\u7a2e\\u5225=%{x}<br>value=%{y}<extra></extra>\",\"legendgroup\":\"\\u6559\\u80b2\\uff08\\u56fd\\u30fb\\u516c\\u7acb\\u9664\\u304f\\uff09\\u3001\\u5b66\\u7fd2\\u652f\\u63f4\\u696d\",\"marker\":{\"color\":\"#FFA15A\",\"pattern\":{\"shape\":\"\"}},\"name\":\"\\u6559\\u80b2\\uff08\\u56fd\\u30fb\\u516c\\u7acb\\u9664\\u304f\\uff09\\u3001\\u5b66\\u7fd2\\u652f\\u63f4\\u696d\",\"offsetgroup\":\"\\u6559\\u80b2\\uff08\\u56fd\\u30fb\\u516c\\u7acb\\u9664\\u304f\\uff09\\u3001\\u5b66\\u7fd2\\u652f\\u63f4\\u696d\",\"orientation\":\"v\",\"showlegend\":true,\"textposition\":\"auto\",\"x\":[\"\\u6559\\u80b2\\uff08\\u56fd\\u30fb\\u516c\\u7acb\\u9664\\u304f\\uff09\\u3001\\u5b66\\u7fd2\\u652f\\u63f4\\u696d\"],\"xaxis\":\"x\",\"y\":[576.125],\"yaxis\":\"y\",\"type\":\"bar\"},{\"alignmentgroup\":\"True\",\"hovertemplate\":\"\\u696d\\u7a2e\\u5225=%{x}<br>value=%{y}<extra></extra>\",\"legendgroup\":\"\\u305d\\u306e\\u4ed6\\u306e\\u975e\\u88fd\\u9020\\u696d\",\"marker\":{\"color\":\"#19d3f3\",\"pattern\":{\"shape\":\"\"}},\"name\":\"\\u305d\\u306e\\u4ed6\\u306e\\u975e\\u88fd\\u9020\\u696d\",\"offsetgroup\":\"\\u305d\\u306e\\u4ed6\\u306e\\u975e\\u88fd\\u9020\\u696d\",\"orientation\":\"v\",\"showlegend\":true,\"textposition\":\"auto\",\"x\":[\"\\u305d\\u306e\\u4ed6\\u306e\\u975e\\u88fd\\u9020\\u696d\"],\"xaxis\":\"x\",\"y\":[1190.5503355704698],\"yaxis\":\"y\",\"type\":\"bar\"}],                        {\"template\":{\"data\":{\"bar\":[{\"error_x\":{\"color\":\"#2a3f5f\"},\"error_y\":{\"color\":\"#2a3f5f\"},\"marker\":{\"line\":{\"color\":\"#E5ECF6\",\"width\":0.5},\"pattern\":{\"fillmode\":\"overlay\",\"size\":10,\"solidity\":0.2}},\"type\":\"bar\"}],\"barpolar\":[{\"marker\":{\"line\":{\"color\":\"#E5ECF6\",\"width\":0.5},\"pattern\":{\"fillmode\":\"overlay\",\"size\":10,\"solidity\":0.2}},\"type\":\"barpolar\"}],\"carpet\":[{\"aaxis\":{\"endlinecolor\":\"#2a3f5f\",\"gridcolor\":\"white\",\"linecolor\":\"white\",\"minorgridcolor\":\"white\",\"startlinecolor\":\"#2a3f5f\"},\"baxis\":{\"endlinecolor\":\"#2a3f5f\",\"gridcolor\":\"white\",\"linecolor\":\"white\",\"minorgridcolor\":\"white\",\"startlinecolor\":\"#2a3f5f\"},\"type\":\"carpet\"}],\"choropleth\":[{\"colorbar\":{\"outlinewidth\":0,\"ticks\":\"\"},\"type\":\"choropleth\"}],\"contour\":[{\"colorbar\":{\"outlinewidth\":0,\"ticks\":\"\"},\"colorscale\":[[0.0,\"#0d0887\"],[0.1111111111111111,\"#46039f\"],[0.2222222222222222,\"#7201a8\"],[0.3333333333333333,\"#9c179e\"],[0.4444444444444444,\"#bd3786\"],[0.5555555555555556,\"#d8576b\"],[0.6666666666666666,\"#ed7953\"],[0.7777777777777778,\"#fb9f3a\"],[0.8888888888888888,\"#fdca26\"],[1.0,\"#f0f921\"]],\"type\":\"contour\"}],\"contourcarpet\":[{\"colorbar\":{\"outlinewidth\":0,\"ticks\":\"\"},\"type\":\"contourcarpet\"}],\"heatmap\":[{\"colorbar\":{\"outlinewidth\":0,\"ticks\":\"\"},\"colorscale\":[[0.0,\"#0d0887\"],[0.1111111111111111,\"#46039f\"],[0.2222222222222222,\"#7201a8\"],[0.3333333333333333,\"#9c179e\"],[0.4444444444444444,\"#bd3786\"],[0.5555555555555556,\"#d8576b\"],[0.6666666666666666,\"#ed7953\"],[0.7777777777777778,\"#fb9f3a\"],[0.8888888888888888,\"#fdca26\"],[1.0,\"#f0f921\"]],\"type\":\"heatmap\"}],\"heatmapgl\":[{\"colorbar\":{\"outlinewidth\":0,\"ticks\":\"\"},\"colorscale\":[[0.0,\"#0d0887\"],[0.1111111111111111,\"#46039f\"],[0.2222222222222222,\"#7201a8\"],[0.3333333333333333,\"#9c179e\"],[0.4444444444444444,\"#bd3786\"],[0.5555555555555556,\"#d8576b\"],[0.6666666666666666,\"#ed7953\"],[0.7777777777777778,\"#fb9f3a\"],[0.8888888888888888,\"#fdca26\"],[1.0,\"#f0f921\"]],\"type\":\"heatmapgl\"}],\"histogram\":[{\"marker\":{\"pattern\":{\"fillmode\":\"overlay\",\"size\":10,\"solidity\":0.2}},\"type\":\"histogram\"}],\"histogram2d\":[{\"colorbar\":{\"outlinewidth\":0,\"ticks\":\"\"},\"colorscale\":[[0.0,\"#0d0887\"],[0.1111111111111111,\"#46039f\"],[0.2222222222222222,\"#7201a8\"],[0.3333333333333333,\"#9c179e\"],[0.4444444444444444,\"#bd3786\"],[0.5555555555555556,\"#d8576b\"],[0.6666666666666666,\"#ed7953\"],[0.7777777777777778,\"#fb9f3a\"],[0.8888888888888888,\"#fdca26\"],[1.0,\"#f0f921\"]],\"type\":\"histogram2d\"}],\"histogram2dcontour\":[{\"colorbar\":{\"outlinewidth\":0,\"ticks\":\"\"},\"colorscale\":[[0.0,\"#0d0887\"],[0.1111111111111111,\"#46039f\"],[0.2222222222222222,\"#7201a8\"],[0.3333333333333333,\"#9c179e\"],[0.4444444444444444,\"#bd3786\"],[0.5555555555555556,\"#d8576b\"],[0.6666666666666666,\"#ed7953\"],[0.7777777777777778,\"#fb9f3a\"],[0.8888888888888888,\"#fdca26\"],[1.0,\"#f0f921\"]],\"type\":\"histogram2dcontour\"}],\"mesh3d\":[{\"colorbar\":{\"outlinewidth\":0,\"ticks\":\"\"},\"type\":\"mesh3d\"}],\"parcoords\":[{\"line\":{\"colorbar\":{\"outlinewidth\":0,\"ticks\":\"\"}},\"type\":\"parcoords\"}],\"pie\":[{\"automargin\":true,\"type\":\"pie\"}],\"scatter\":[{\"marker\":{\"colorbar\":{\"outlinewidth\":0,\"ticks\":\"\"}},\"type\":\"scatter\"}],\"scatter3d\":[{\"line\":{\"colorbar\":{\"outlinewidth\":0,\"ticks\":\"\"}},\"marker\":{\"colorbar\":{\"outlinewidth\":0,\"ticks\":\"\"}},\"type\":\"scatter3d\"}],\"scattercarpet\":[{\"marker\":{\"colorbar\":{\"outlinewidth\":0,\"ticks\":\"\"}},\"type\":\"scattercarpet\"}],\"scattergeo\":[{\"marker\":{\"colorbar\":{\"outlinewidth\":0,\"ticks\":\"\"}},\"type\":\"scattergeo\"}],\"scattergl\":[{\"marker\":{\"colorbar\":{\"outlinewidth\":0,\"ticks\":\"\"}},\"type\":\"scattergl\"}],\"scattermapbox\":[{\"marker\":{\"colorbar\":{\"outlinewidth\":0,\"ticks\":\"\"}},\"type\":\"scattermapbox\"}],\"scatterpolar\":[{\"marker\":{\"colorbar\":{\"outlinewidth\":0,\"ticks\":\"\"}},\"type\":\"scatterpolar\"}],\"scatterpolargl\":[{\"marker\":{\"colorbar\":{\"outlinewidth\":0,\"ticks\":\"\"}},\"type\":\"scatterpolargl\"}],\"scatterternary\":[{\"marker\":{\"colorbar\":{\"outlinewidth\":0,\"ticks\":\"\"}},\"type\":\"scatterternary\"}],\"surface\":[{\"colorbar\":{\"outlinewidth\":0,\"ticks\":\"\"},\"colorscale\":[[0.0,\"#0d0887\"],[0.1111111111111111,\"#46039f\"],[0.2222222222222222,\"#7201a8\"],[0.3333333333333333,\"#9c179e\"],[0.4444444444444444,\"#bd3786\"],[0.5555555555555556,\"#d8576b\"],[0.6666666666666666,\"#ed7953\"],[0.7777777777777778,\"#fb9f3a\"],[0.8888888888888888,\"#fdca26\"],[1.0,\"#f0f921\"]],\"type\":\"surface\"}],\"table\":[{\"cells\":{\"fill\":{\"color\":\"#EBF0F8\"},\"line\":{\"color\":\"white\"}},\"header\":{\"fill\":{\"color\":\"#C8D4E3\"},\"line\":{\"color\":\"white\"}},\"type\":\"table\"}]},\"layout\":{\"annotationdefaults\":{\"arrowcolor\":\"#2a3f5f\",\"arrowhead\":0,\"arrowwidth\":1},\"autotypenumbers\":\"strict\",\"coloraxis\":{\"colorbar\":{\"outlinewidth\":0,\"ticks\":\"\"}},\"colorscale\":{\"diverging\":[[0,\"#8e0152\"],[0.1,\"#c51b7d\"],[0.2,\"#de77ae\"],[0.3,\"#f1b6da\"],[0.4,\"#fde0ef\"],[0.5,\"#f7f7f7\"],[0.6,\"#e6f5d0\"],[0.7,\"#b8e186\"],[0.8,\"#7fbc41\"],[0.9,\"#4d9221\"],[1,\"#276419\"]],\"sequential\":[[0.0,\"#0d0887\"],[0.1111111111111111,\"#46039f\"],[0.2222222222222222,\"#7201a8\"],[0.3333333333333333,\"#9c179e\"],[0.4444444444444444,\"#bd3786\"],[0.5555555555555556,\"#d8576b\"],[0.6666666666666666,\"#ed7953\"],[0.7777777777777778,\"#fb9f3a\"],[0.8888888888888888,\"#fdca26\"],[1.0,\"#f0f921\"]],\"sequentialminus\":[[0.0,\"#0d0887\"],[0.1111111111111111,\"#46039f\"],[0.2222222222222222,\"#7201a8\"],[0.3333333333333333,\"#9c179e\"],[0.4444444444444444,\"#bd3786\"],[0.5555555555555556,\"#d8576b\"],[0.6666666666666666,\"#ed7953\"],[0.7777777777777778,\"#fb9f3a\"],[0.8888888888888888,\"#fdca26\"],[1.0,\"#f0f921\"]]},\"colorway\":[\"#636efa\",\"#EF553B\",\"#00cc96\",\"#ab63fa\",\"#FFA15A\",\"#19d3f3\",\"#FF6692\",\"#B6E880\",\"#FF97FF\",\"#FECB52\"],\"font\":{\"color\":\"#2a3f5f\"},\"geo\":{\"bgcolor\":\"white\",\"lakecolor\":\"white\",\"landcolor\":\"#E5ECF6\",\"showlakes\":true,\"showland\":true,\"subunitcolor\":\"white\"},\"hoverlabel\":{\"align\":\"left\"},\"hovermode\":\"closest\",\"mapbox\":{\"style\":\"light\"},\"paper_bgcolor\":\"white\",\"plot_bgcolor\":\"#E5ECF6\",\"polar\":{\"angularaxis\":{\"gridcolor\":\"white\",\"linecolor\":\"white\",\"ticks\":\"\"},\"bgcolor\":\"#E5ECF6\",\"radialaxis\":{\"gridcolor\":\"white\",\"linecolor\":\"white\",\"ticks\":\"\"}},\"scene\":{\"xaxis\":{\"backgroundcolor\":\"#E5ECF6\",\"gridcolor\":\"white\",\"gridwidth\":2,\"linecolor\":\"white\",\"showbackground\":true,\"ticks\":\"\",\"zerolinecolor\":\"white\"},\"yaxis\":{\"backgroundcolor\":\"#E5ECF6\",\"gridcolor\":\"white\",\"gridwidth\":2,\"linecolor\":\"white\",\"showbackground\":true,\"ticks\":\"\",\"zerolinecolor\":\"white\"},\"zaxis\":{\"backgroundcolor\":\"#E5ECF6\",\"gridcolor\":\"white\",\"gridwidth\":2,\"linecolor\":\"white\",\"showbackground\":true,\"ticks\":\"\",\"zerolinecolor\":\"white\"}},\"shapedefaults\":{\"line\":{\"color\":\"#2a3f5f\"}},\"ternary\":{\"aaxis\":{\"gridcolor\":\"white\",\"linecolor\":\"white\",\"ticks\":\"\"},\"baxis\":{\"gridcolor\":\"white\",\"linecolor\":\"white\",\"ticks\":\"\"},\"bgcolor\":\"#E5ECF6\",\"caxis\":{\"gridcolor\":\"white\",\"linecolor\":\"white\",\"ticks\":\"\"}},\"title\":{\"x\":0.05},\"xaxis\":{\"automargin\":true,\"gridcolor\":\"white\",\"linecolor\":\"white\",\"ticks\":\"\",\"title\":{\"standoff\":15},\"zerolinecolor\":\"white\",\"zerolinewidth\":2},\"yaxis\":{\"automargin\":true,\"gridcolor\":\"white\",\"linecolor\":\"white\",\"ticks\":\"\",\"title\":{\"standoff\":15},\"zerolinecolor\":\"white\",\"zerolinewidth\":2}}},\"xaxis\":{\"anchor\":\"y\",\"domain\":[0.0,1.0],\"title\":{\"text\":\"\\u696d\\u7a2e\\u5225\"},\"categoryorder\":\"total descending\",\"categoryarray\":[\"\\u98df\\u6599\\u54c1\\u3001\\u98f2\\u6599\\u30fb\\u305f\\u3070\\u3053\\u30fb\\u98fc\\u6599\\u88fd\\u9020\\u696d\",\"\\u7e4a\\u7dad\\u5de5\\u696d\",\"\\u30d1\\u30eb\\u30d7\\u30fb\\u7d19\\u30fb\\u7d19\\u52a0\\u5de5\\u54c1\\u88fd\\u9020\\u696d\",\"\\u5316\\u5b66\\u5de5\\u696d\",\"\\u77f3\\u6cb9\\u30fb\\u77f3\\u70ad\\u30fb\\uff8c\\uff9f\\uff97\\uff7d\\uff81\\uff6f\\uff78\\u88fd\\u54c1\\u88fd\\u9020\\u696d\",\"\\u7aaf\\u696d\\u30fb\\u571f\\u77f3\\u88fd\\u54c1\\u88fd\\u9020\\u696d\",\"\\u9244\\u92fc\\u696d\",\"\\u975e\\u9244\\u91d1\\u5c5e\\u88fd\\u54c1\\u30fb\\u91d1\\u5c5e\\u88fd\\u54c1\\u88fd\\u9020\\u696d\",\"\\u96fb\\u6c17\\u6a5f\\u68b0\\u5668\\u5177\\u88fd\\u9020\\u696d\",\"\\u60c5\\u5831\\u901a\\u4fe1\\u6a5f\\u68b0\\u5668\\u5177\\u88fd\\u9020\\u696d\",\"\\u8f38\\u9001\\u7528\\u6a5f\\u68b0\\u5668\\u5177\\u88fd\\u9020\\u696d\",\"\\u305d\\u306e\\u4ed6\\u6a5f\\u68b0\\u5668\\u5177\\u88fd\\u9020\\u696d\",\"\\u305d\\u306e\\u4ed6\\u306e\\u88fd\\u9020\\u696d\",\"\\u8fb2\\u6797\\u6f01\\u696d\\u30fb\\u540c\\u5354\\u540c\\u7d44\\u5408\\u3001\\u9271\\u696d\",\"\\u5efa\\u8a2d\\u696d\",\"\\u96fb\\u6c17\\u30fb\\u30ac\\u30b9\\u30fb\\u71b1\\u4f9b\\u7d66\\u30fb\\u6c34\\u9053\\u696d\",\"\\u6620\\u50cf\\u30fb\\u97f3\\u58f0\\u60c5\\u5831\\u5236\\u4f5c\\u30fb\\u653e\\u9001\\u30fb\\u901a\\u4fe1\\u696d\",\"\\u65b0\\u805e\\u30fb\\u51fa\\u7248\\u696d\",\"\\u60c5\\u5831\\u30b5\\u30fc\\u30d3\\u30b9\\u696d\",\"\\u904b\\u8f38\\u696d\\u30fb\\u90f5\\u4fbf\\u696d\",\"\\u5378\\u58f2\\u696d\",\"\\u5c0f\\u58f2\\u696d\",\"\\u91d1\\u878d\\u696d\\u30fb\\u4fdd\\u967a\\u696d\",\"\\u533b\\u7642\\u696d\\uff08\\u56fd\\u30fb\\u516c\\u7acb\\u9664\\u304f\\uff09\",\"\\u6559\\u80b2\\uff08\\u56fd\\u30fb\\u516c\\u7acb\\u9664\\u304f\\uff09\\u3001\\u5b66\\u7fd2\\u652f\\u63f4\\u696d\",\"\\u305d\\u306e\\u4ed6\\u306e\\u975e\\u88fd\\u9020\\u696d\"]},\"yaxis\":{\"anchor\":\"x\",\"domain\":[0.0,1.0],\"title\":{\"text\":\"\\u7dcf\\u5f93\\u696d\\u8005\\u6570\\uff08\\u4eba\\uff09\"}},\"legend\":{\"title\":{\"text\":\"\\u696d\\u7a2e\\u5225\"},\"tracegroupgap\":0},\"margin\":{\"t\":60},\"barmode\":\"relative\"},                        {\"responsive\": true}                    ).then(function(){\n",
       "                            \n",
       "var gd = document.getElementById('9b58dc8a-4152-4af1-9d75-083a40574e9e');\n",
       "var x = new MutationObserver(function (mutations, observer) {{\n",
       "        var display = window.getComputedStyle(gd).display;\n",
       "        if (!display || display === 'none') {{\n",
       "            console.log([gd, 'removed!']);\n",
       "            Plotly.purge(gd);\n",
       "            observer.disconnect();\n",
       "        }}\n",
       "}});\n",
       "\n",
       "// Listen for the removal of the full notebook cells\n",
       "var notebookContainer = gd.closest('#notebook-container');\n",
       "if (notebookContainer) {{\n",
       "    x.observe(notebookContainer, {childList: true});\n",
       "}}\n",
       "\n",
       "// Listen for the clearing of the current output cell\n",
       "var outputEl = gd.closest('.output');\n",
       "if (outputEl) {{\n",
       "    x.observe(outputEl, {childList: true});\n",
       "}}\n",
       "\n",
       "                        })                };                });            </script>        </div>"
      ]
     },
     "metadata": {},
     "output_type": "display_data"
    }
   ],
   "source": [
    "#可視化必要データへ整形\n",
    "df_v4_1tbl_melt_employee = df_v4_1tbl_melt[df_v4_1tbl_melt['groupe']=='総従業者数（人）']\n",
    "\n",
    "fig = px.bar(df_v4_1tbl_melt_employee, x='業種別',y ='value',color='業種別')\n",
    "## 産業におけるIt関係諸経費\n",
    "#軸の設定等 何故かエラー？？？\n",
    "# fig.update_layout(width=900,height=500,margin=dict(l=50,r=50,b=40,t=60),\n",
    "#                   yaxis=dict(range=[0,200]),xaxis=dict(dtick=1, autorange=True))\n",
    "\n",
    "fig.update_yaxes(title_text=\"総従業者数（人）\")\n",
    "\n",
    "#データを並び替え\n",
    "fig.update_layout(xaxis={'categoryorder':'total descending'})\n",
    "\n",
    "#グラフの表示\n",
    "fig.show()"
   ]
  },
  {
   "cell_type": "markdown",
   "metadata": {},
   "source": [
    "## 産業における従業者一人当たりIT関係諸経費"
   ]
  },
  {
   "cell_type": "code",
   "execution_count": 29,
   "metadata": {},
   "outputs": [
    {
     "data": {
      "application/vnd.plotly.v1+json": {
       "config": {
        "plotlyServerURL": "https://plot.ly"
       },
       "data": [
        {
         "alignmentgroup": "True",
         "hovertemplate": "業種別=%{x}<br>value=%{y}<extra></extra>",
         "legendgroup": "食料品、飲料・たばこ・飼料製造業",
         "marker": {
          "color": "#636efa",
          "pattern": {
           "shape": ""
          }
         },
         "name": "食料品、飲料・たばこ・飼料製造業",
         "offsetgroup": "食料品、飲料・たばこ・飼料製造業",
         "orientation": "v",
         "showlegend": true,
         "textposition": "auto",
         "type": "bar",
         "x": [
          "食料品、飲料・たばこ・飼料製造業"
         ],
         "xaxis": "x",
         "y": [
          315.1962877582789
         ],
         "yaxis": "y"
        },
        {
         "alignmentgroup": "True",
         "hovertemplate": "業種別=%{x}<br>value=%{y}<extra></extra>",
         "legendgroup": "繊維工業",
         "marker": {
          "color": "#EF553B",
          "pattern": {
           "shape": ""
          }
         },
         "name": "繊維工業",
         "offsetgroup": "繊維工業",
         "orientation": "v",
         "showlegend": true,
         "textposition": "auto",
         "type": "bar",
         "x": [
          "繊維工業"
         ],
         "xaxis": "x",
         "y": [
          73.58916478555305
         ],
         "yaxis": "y"
        },
        {
         "alignmentgroup": "True",
         "hovertemplate": "業種別=%{x}<br>value=%{y}<extra></extra>",
         "legendgroup": "パルプ・紙・紙加工品製造業",
         "marker": {
          "color": "#00cc96",
          "pattern": {
           "shape": ""
          }
         },
         "name": "パルプ・紙・紙加工品製造業",
         "offsetgroup": "パルプ・紙・紙加工品製造業",
         "orientation": "v",
         "showlegend": true,
         "textposition": "auto",
         "type": "bar",
         "x": [
          "パルプ・紙・紙加工品製造業"
         ],
         "xaxis": "x",
         "y": [
          305.7086855322798
         ],
         "yaxis": "y"
        },
        {
         "alignmentgroup": "True",
         "hovertemplate": "業種別=%{x}<br>value=%{y}<extra></extra>",
         "legendgroup": "化学工業",
         "marker": {
          "color": "#ab63fa",
          "pattern": {
           "shape": ""
          }
         },
         "name": "化学工業",
         "offsetgroup": "化学工業",
         "orientation": "v",
         "showlegend": true,
         "textposition": "auto",
         "type": "bar",
         "x": [
          "化学工業"
         ],
         "xaxis": "x",
         "y": [
          561.3477537437604
         ],
         "yaxis": "y"
        },
        {
         "alignmentgroup": "True",
         "hovertemplate": "業種別=%{x}<br>value=%{y}<extra></extra>",
         "legendgroup": "石油・石炭・ﾌﾟﾗｽﾁｯｸ製品製造業",
         "marker": {
          "color": "#FFA15A",
          "pattern": {
           "shape": ""
          }
         },
         "name": "石油・石炭・ﾌﾟﾗｽﾁｯｸ製品製造業",
         "offsetgroup": "石油・石炭・ﾌﾟﾗｽﾁｯｸ製品製造業",
         "orientation": "v",
         "showlegend": true,
         "textposition": "auto",
         "type": "bar",
         "x": [
          "石油・石炭・ﾌﾟﾗｽﾁｯｸ製品製造業"
         ],
         "xaxis": "x",
         "y": [
          6087.971274685817
         ],
         "yaxis": "y"
        },
        {
         "alignmentgroup": "True",
         "hovertemplate": "業種別=%{x}<br>value=%{y}<extra></extra>",
         "legendgroup": "窯業・土石製品製造業",
         "marker": {
          "color": "#19d3f3",
          "pattern": {
           "shape": ""
          }
         },
         "name": "窯業・土石製品製造業",
         "offsetgroup": "窯業・土石製品製造業",
         "orientation": "v",
         "showlegend": true,
         "textposition": "auto",
         "type": "bar",
         "x": [
          "窯業・土石製品製造業"
         ],
         "xaxis": "x",
         "y": [
          517.5519936415419
         ],
         "yaxis": "y"
        },
        {
         "alignmentgroup": "True",
         "hovertemplate": "業種別=%{x}<br>value=%{y}<extra></extra>",
         "legendgroup": "鉄鋼業",
         "marker": {
          "color": "#FF6692",
          "pattern": {
           "shape": ""
          }
         },
         "name": "鉄鋼業",
         "offsetgroup": "鉄鋼業",
         "orientation": "v",
         "showlegend": true,
         "textposition": "auto",
         "type": "bar",
         "x": [
          "鉄鋼業"
         ],
         "xaxis": "x",
         "y": [
          417.97362155625257
         ],
         "yaxis": "y"
        },
        {
         "alignmentgroup": "True",
         "hovertemplate": "業種別=%{x}<br>value=%{y}<extra></extra>",
         "legendgroup": "非鉄金属製品・金属製品製造業",
         "marker": {
          "color": "#B6E880",
          "pattern": {
           "shape": ""
          }
         },
         "name": "非鉄金属製品・金属製品製造業",
         "offsetgroup": "非鉄金属製品・金属製品製造業",
         "orientation": "v",
         "showlegend": true,
         "textposition": "auto",
         "type": "bar",
         "x": [
          "非鉄金属製品・金属製品製造業"
         ],
         "xaxis": "x",
         "y": [
          331.8164607553044
         ],
         "yaxis": "y"
        },
        {
         "alignmentgroup": "True",
         "hovertemplate": "業種別=%{x}<br>value=%{y}<extra></extra>",
         "legendgroup": "電気機械器具製造業",
         "marker": {
          "color": "#FF97FF",
          "pattern": {
           "shape": ""
          }
         },
         "name": "電気機械器具製造業",
         "offsetgroup": "電気機械器具製造業",
         "orientation": "v",
         "showlegend": true,
         "textposition": "auto",
         "type": "bar",
         "x": [
          "電気機械器具製造業"
         ],
         "xaxis": "x",
         "y": [
          454.3426515952054
         ],
         "yaxis": "y"
        },
        {
         "alignmentgroup": "True",
         "hovertemplate": "業種別=%{x}<br>value=%{y}<extra></extra>",
         "legendgroup": "情報通信機械器具製造業",
         "marker": {
          "color": "#FECB52",
          "pattern": {
           "shape": ""
          }
         },
         "name": "情報通信機械器具製造業",
         "offsetgroup": "情報通信機械器具製造業",
         "orientation": "v",
         "showlegend": true,
         "textposition": "auto",
         "type": "bar",
         "x": [
          "情報通信機械器具製造業"
         ],
         "xaxis": "x",
         "y": [
          950.4967357365883
         ],
         "yaxis": "y"
        },
        {
         "alignmentgroup": "True",
         "hovertemplate": "業種別=%{x}<br>value=%{y}<extra></extra>",
         "legendgroup": "輸送用機械器具製造業",
         "marker": {
          "color": "#636efa",
          "pattern": {
           "shape": ""
          }
         },
         "name": "輸送用機械器具製造業",
         "offsetgroup": "輸送用機械器具製造業",
         "orientation": "v",
         "showlegend": true,
         "textposition": "auto",
         "type": "bar",
         "x": [
          "輸送用機械器具製造業"
         ],
         "xaxis": "x",
         "y": [
          776.1569072928388
         ],
         "yaxis": "y"
        },
        {
         "alignmentgroup": "True",
         "hovertemplate": "業種別=%{x}<br>value=%{y}<extra></extra>",
         "legendgroup": "その他機械器具製造業",
         "marker": {
          "color": "#EF553B",
          "pattern": {
           "shape": ""
          }
         },
         "name": "その他機械器具製造業",
         "offsetgroup": "その他機械器具製造業",
         "orientation": "v",
         "showlegend": true,
         "textposition": "auto",
         "type": "bar",
         "x": [
          "その他機械器具製造業"
         ],
         "xaxis": "x",
         "y": [
          566.8862505737715
         ],
         "yaxis": "y"
        },
        {
         "alignmentgroup": "True",
         "hovertemplate": "業種別=%{x}<br>value=%{y}<extra></extra>",
         "legendgroup": "その他の製造業",
         "marker": {
          "color": "#00cc96",
          "pattern": {
           "shape": ""
          }
         },
         "name": "その他の製造業",
         "offsetgroup": "その他の製造業",
         "orientation": "v",
         "showlegend": true,
         "textposition": "auto",
         "type": "bar",
         "x": [
          "その他の製造業"
         ],
         "xaxis": "x",
         "y": [
          530.3298693119194
         ],
         "yaxis": "y"
        },
        {
         "alignmentgroup": "True",
         "hovertemplate": "業種別=%{x}<br>value=%{y}<extra></extra>",
         "legendgroup": "農林漁業・同協同組合、鉱業",
         "marker": {
          "color": "#ab63fa",
          "pattern": {
           "shape": ""
          }
         },
         "name": "農林漁業・同協同組合、鉱業",
         "offsetgroup": "農林漁業・同協同組合、鉱業",
         "orientation": "v",
         "showlegend": true,
         "textposition": "auto",
         "type": "bar",
         "x": [
          "農林漁業・同協同組合、鉱業"
         ],
         "xaxis": "x",
         "y": [
          104.98220640569394
         ],
         "yaxis": "y"
        },
        {
         "alignmentgroup": "True",
         "hovertemplate": "業種別=%{x}<br>value=%{y}<extra></extra>",
         "legendgroup": "建設業",
         "marker": {
          "color": "#FFA15A",
          "pattern": {
           "shape": ""
          }
         },
         "name": "建設業",
         "offsetgroup": "建設業",
         "orientation": "v",
         "showlegend": true,
         "textposition": "auto",
         "type": "bar",
         "x": [
          "建設業"
         ],
         "xaxis": "x",
         "y": [
          306.06052781077307
         ],
         "yaxis": "y"
        },
        {
         "alignmentgroup": "True",
         "hovertemplate": "業種別=%{x}<br>value=%{y}<extra></extra>",
         "legendgroup": "電気・ガス・熱供給・水道業",
         "marker": {
          "color": "#19d3f3",
          "pattern": {
           "shape": ""
          }
         },
         "name": "電気・ガス・熱供給・水道業",
         "offsetgroup": "電気・ガス・熱供給・水道業",
         "orientation": "v",
         "showlegend": true,
         "textposition": "auto",
         "type": "bar",
         "x": [
          "電気・ガス・熱供給・水道業"
         ],
         "xaxis": "x",
         "y": [
          1291.1318227480747
         ],
         "yaxis": "y"
        },
        {
         "alignmentgroup": "True",
         "hovertemplate": "業種別=%{x}<br>value=%{y}<extra></extra>",
         "legendgroup": "映像・音声情報制作・放送・通信業",
         "marker": {
          "color": "#FF6692",
          "pattern": {
           "shape": ""
          }
         },
         "name": "映像・音声情報制作・放送・通信業",
         "offsetgroup": "映像・音声情報制作・放送・通信業",
         "orientation": "v",
         "showlegend": true,
         "textposition": "auto",
         "type": "bar",
         "x": [
          "映像・音声情報制作・放送・通信業"
         ],
         "xaxis": "x",
         "y": [
          4929.892842701172
         ],
         "yaxis": "y"
        },
        {
         "alignmentgroup": "True",
         "hovertemplate": "業種別=%{x}<br>value=%{y}<extra></extra>",
         "legendgroup": "新聞・出版業",
         "marker": {
          "color": "#B6E880",
          "pattern": {
           "shape": ""
          }
         },
         "name": "新聞・出版業",
         "offsetgroup": "新聞・出版業",
         "orientation": "v",
         "showlegend": true,
         "textposition": "auto",
         "type": "bar",
         "x": [
          "新聞・出版業"
         ],
         "xaxis": "x",
         "y": [
          534.0019354271135
         ],
         "yaxis": "y"
        },
        {
         "alignmentgroup": "True",
         "hovertemplate": "業種別=%{x}<br>value=%{y}<extra></extra>",
         "legendgroup": "情報サービス業",
         "marker": {
          "color": "#FF97FF",
          "pattern": {
           "shape": ""
          }
         },
         "name": "情報サービス業",
         "offsetgroup": "情報サービス業",
         "orientation": "v",
         "showlegend": true,
         "textposition": "auto",
         "type": "bar",
         "x": [
          "情報サービス業"
         ],
         "xaxis": "x",
         "y": [
          963.8740830650694
         ],
         "yaxis": "y"
        },
        {
         "alignmentgroup": "True",
         "hovertemplate": "業種別=%{x}<br>value=%{y}<extra></extra>",
         "legendgroup": "運輸業・郵便業",
         "marker": {
          "color": "#FECB52",
          "pattern": {
           "shape": ""
          }
         },
         "name": "運輸業・郵便業",
         "offsetgroup": "運輸業・郵便業",
         "orientation": "v",
         "showlegend": true,
         "textposition": "auto",
         "type": "bar",
         "x": [
          "運輸業・郵便業"
         ],
         "xaxis": "x",
         "y": [
          278.27596795607064
         ],
         "yaxis": "y"
        },
        {
         "alignmentgroup": "True",
         "hovertemplate": "業種別=%{x}<br>value=%{y}<extra></extra>",
         "legendgroup": "卸売業",
         "marker": {
          "color": "#636efa",
          "pattern": {
           "shape": ""
          }
         },
         "name": "卸売業",
         "offsetgroup": "卸売業",
         "orientation": "v",
         "showlegend": true,
         "textposition": "auto",
         "type": "bar",
         "x": [
          "卸売業"
         ],
         "xaxis": "x",
         "y": [
          791.9488087945564
         ],
         "yaxis": "y"
        },
        {
         "alignmentgroup": "True",
         "hovertemplate": "業種別=%{x}<br>value=%{y}<extra></extra>",
         "legendgroup": "小売業",
         "marker": {
          "color": "#EF553B",
          "pattern": {
           "shape": ""
          }
         },
         "name": "小売業",
         "offsetgroup": "小売業",
         "orientation": "v",
         "showlegend": true,
         "textposition": "auto",
         "type": "bar",
         "x": [
          "小売業"
         ],
         "xaxis": "x",
         "y": [
          184.96961068827684
         ],
         "yaxis": "y"
        },
        {
         "alignmentgroup": "True",
         "hovertemplate": "業種別=%{x}<br>value=%{y}<extra></extra>",
         "legendgroup": "金融業・保険業",
         "marker": {
          "color": "#00cc96",
          "pattern": {
           "shape": ""
          }
         },
         "name": "金融業・保険業",
         "offsetgroup": "金融業・保険業",
         "orientation": "v",
         "showlegend": true,
         "textposition": "auto",
         "type": "bar",
         "x": [
          "金融業・保険業"
         ],
         "xaxis": "x",
         "y": [
          1372.189285871458
         ],
         "yaxis": "y"
        },
        {
         "alignmentgroup": "True",
         "hovertemplate": "業種別=%{x}<br>value=%{y}<extra></extra>",
         "legendgroup": "医療業（国・公立除く）",
         "marker": {
          "color": "#ab63fa",
          "pattern": {
           "shape": ""
          }
         },
         "name": "医療業（国・公立除く）",
         "offsetgroup": "医療業（国・公立除く）",
         "orientation": "v",
         "showlegend": true,
         "textposition": "auto",
         "type": "bar",
         "x": [
          "医療業（国・公立除く）"
         ],
         "xaxis": "x",
         "y": [
          276.1270491803279
         ],
         "yaxis": "y"
        },
        {
         "alignmentgroup": "True",
         "hovertemplate": "業種別=%{x}<br>value=%{y}<extra></extra>",
         "legendgroup": "教育（国・公立除く）、学習支援業",
         "marker": {
          "color": "#FFA15A",
          "pattern": {
           "shape": ""
          }
         },
         "name": "教育（国・公立除く）、学習支援業",
         "offsetgroup": "教育（国・公立除く）、学習支援業",
         "orientation": "v",
         "showlegend": true,
         "textposition": "auto",
         "type": "bar",
         "x": [
          "教育（国・公立除く）、学習支援業"
         ],
         "xaxis": "x",
         "y": [
          45.99696246474289
         ],
         "yaxis": "y"
        },
        {
         "alignmentgroup": "True",
         "hovertemplate": "業種別=%{x}<br>value=%{y}<extra></extra>",
         "legendgroup": "その他の非製造業",
         "marker": {
          "color": "#19d3f3",
          "pattern": {
           "shape": ""
          }
         },
         "name": "その他の非製造業",
         "offsetgroup": "その他の非製造業",
         "orientation": "v",
         "showlegend": true,
         "textposition": "auto",
         "type": "bar",
         "x": [
          "その他の非製造業"
         ],
         "xaxis": "x",
         "y": [
          248.82614022428675
         ],
         "yaxis": "y"
        }
       ],
       "layout": {
        "barmode": "relative",
        "legend": {
         "title": {
          "text": "業種別"
         },
         "tracegroupgap": 0
        },
        "margin": {
         "t": 60
        },
        "template": {
         "data": {
          "bar": [
           {
            "error_x": {
             "color": "#2a3f5f"
            },
            "error_y": {
             "color": "#2a3f5f"
            },
            "marker": {
             "line": {
              "color": "#E5ECF6",
              "width": 0.5
             },
             "pattern": {
              "fillmode": "overlay",
              "size": 10,
              "solidity": 0.2
             }
            },
            "type": "bar"
           }
          ],
          "barpolar": [
           {
            "marker": {
             "line": {
              "color": "#E5ECF6",
              "width": 0.5
             },
             "pattern": {
              "fillmode": "overlay",
              "size": 10,
              "solidity": 0.2
             }
            },
            "type": "barpolar"
           }
          ],
          "carpet": [
           {
            "aaxis": {
             "endlinecolor": "#2a3f5f",
             "gridcolor": "white",
             "linecolor": "white",
             "minorgridcolor": "white",
             "startlinecolor": "#2a3f5f"
            },
            "baxis": {
             "endlinecolor": "#2a3f5f",
             "gridcolor": "white",
             "linecolor": "white",
             "minorgridcolor": "white",
             "startlinecolor": "#2a3f5f"
            },
            "type": "carpet"
           }
          ],
          "choropleth": [
           {
            "colorbar": {
             "outlinewidth": 0,
             "ticks": ""
            },
            "type": "choropleth"
           }
          ],
          "contour": [
           {
            "colorbar": {
             "outlinewidth": 0,
             "ticks": ""
            },
            "colorscale": [
             [
              0,
              "#0d0887"
             ],
             [
              0.1111111111111111,
              "#46039f"
             ],
             [
              0.2222222222222222,
              "#7201a8"
             ],
             [
              0.3333333333333333,
              "#9c179e"
             ],
             [
              0.4444444444444444,
              "#bd3786"
             ],
             [
              0.5555555555555556,
              "#d8576b"
             ],
             [
              0.6666666666666666,
              "#ed7953"
             ],
             [
              0.7777777777777778,
              "#fb9f3a"
             ],
             [
              0.8888888888888888,
              "#fdca26"
             ],
             [
              1,
              "#f0f921"
             ]
            ],
            "type": "contour"
           }
          ],
          "contourcarpet": [
           {
            "colorbar": {
             "outlinewidth": 0,
             "ticks": ""
            },
            "type": "contourcarpet"
           }
          ],
          "heatmap": [
           {
            "colorbar": {
             "outlinewidth": 0,
             "ticks": ""
            },
            "colorscale": [
             [
              0,
              "#0d0887"
             ],
             [
              0.1111111111111111,
              "#46039f"
             ],
             [
              0.2222222222222222,
              "#7201a8"
             ],
             [
              0.3333333333333333,
              "#9c179e"
             ],
             [
              0.4444444444444444,
              "#bd3786"
             ],
             [
              0.5555555555555556,
              "#d8576b"
             ],
             [
              0.6666666666666666,
              "#ed7953"
             ],
             [
              0.7777777777777778,
              "#fb9f3a"
             ],
             [
              0.8888888888888888,
              "#fdca26"
             ],
             [
              1,
              "#f0f921"
             ]
            ],
            "type": "heatmap"
           }
          ],
          "heatmapgl": [
           {
            "colorbar": {
             "outlinewidth": 0,
             "ticks": ""
            },
            "colorscale": [
             [
              0,
              "#0d0887"
             ],
             [
              0.1111111111111111,
              "#46039f"
             ],
             [
              0.2222222222222222,
              "#7201a8"
             ],
             [
              0.3333333333333333,
              "#9c179e"
             ],
             [
              0.4444444444444444,
              "#bd3786"
             ],
             [
              0.5555555555555556,
              "#d8576b"
             ],
             [
              0.6666666666666666,
              "#ed7953"
             ],
             [
              0.7777777777777778,
              "#fb9f3a"
             ],
             [
              0.8888888888888888,
              "#fdca26"
             ],
             [
              1,
              "#f0f921"
             ]
            ],
            "type": "heatmapgl"
           }
          ],
          "histogram": [
           {
            "marker": {
             "pattern": {
              "fillmode": "overlay",
              "size": 10,
              "solidity": 0.2
             }
            },
            "type": "histogram"
           }
          ],
          "histogram2d": [
           {
            "colorbar": {
             "outlinewidth": 0,
             "ticks": ""
            },
            "colorscale": [
             [
              0,
              "#0d0887"
             ],
             [
              0.1111111111111111,
              "#46039f"
             ],
             [
              0.2222222222222222,
              "#7201a8"
             ],
             [
              0.3333333333333333,
              "#9c179e"
             ],
             [
              0.4444444444444444,
              "#bd3786"
             ],
             [
              0.5555555555555556,
              "#d8576b"
             ],
             [
              0.6666666666666666,
              "#ed7953"
             ],
             [
              0.7777777777777778,
              "#fb9f3a"
             ],
             [
              0.8888888888888888,
              "#fdca26"
             ],
             [
              1,
              "#f0f921"
             ]
            ],
            "type": "histogram2d"
           }
          ],
          "histogram2dcontour": [
           {
            "colorbar": {
             "outlinewidth": 0,
             "ticks": ""
            },
            "colorscale": [
             [
              0,
              "#0d0887"
             ],
             [
              0.1111111111111111,
              "#46039f"
             ],
             [
              0.2222222222222222,
              "#7201a8"
             ],
             [
              0.3333333333333333,
              "#9c179e"
             ],
             [
              0.4444444444444444,
              "#bd3786"
             ],
             [
              0.5555555555555556,
              "#d8576b"
             ],
             [
              0.6666666666666666,
              "#ed7953"
             ],
             [
              0.7777777777777778,
              "#fb9f3a"
             ],
             [
              0.8888888888888888,
              "#fdca26"
             ],
             [
              1,
              "#f0f921"
             ]
            ],
            "type": "histogram2dcontour"
           }
          ],
          "mesh3d": [
           {
            "colorbar": {
             "outlinewidth": 0,
             "ticks": ""
            },
            "type": "mesh3d"
           }
          ],
          "parcoords": [
           {
            "line": {
             "colorbar": {
              "outlinewidth": 0,
              "ticks": ""
             }
            },
            "type": "parcoords"
           }
          ],
          "pie": [
           {
            "automargin": true,
            "type": "pie"
           }
          ],
          "scatter": [
           {
            "marker": {
             "colorbar": {
              "outlinewidth": 0,
              "ticks": ""
             }
            },
            "type": "scatter"
           }
          ],
          "scatter3d": [
           {
            "line": {
             "colorbar": {
              "outlinewidth": 0,
              "ticks": ""
             }
            },
            "marker": {
             "colorbar": {
              "outlinewidth": 0,
              "ticks": ""
             }
            },
            "type": "scatter3d"
           }
          ],
          "scattercarpet": [
           {
            "marker": {
             "colorbar": {
              "outlinewidth": 0,
              "ticks": ""
             }
            },
            "type": "scattercarpet"
           }
          ],
          "scattergeo": [
           {
            "marker": {
             "colorbar": {
              "outlinewidth": 0,
              "ticks": ""
             }
            },
            "type": "scattergeo"
           }
          ],
          "scattergl": [
           {
            "marker": {
             "colorbar": {
              "outlinewidth": 0,
              "ticks": ""
             }
            },
            "type": "scattergl"
           }
          ],
          "scattermapbox": [
           {
            "marker": {
             "colorbar": {
              "outlinewidth": 0,
              "ticks": ""
             }
            },
            "type": "scattermapbox"
           }
          ],
          "scatterpolar": [
           {
            "marker": {
             "colorbar": {
              "outlinewidth": 0,
              "ticks": ""
             }
            },
            "type": "scatterpolar"
           }
          ],
          "scatterpolargl": [
           {
            "marker": {
             "colorbar": {
              "outlinewidth": 0,
              "ticks": ""
             }
            },
            "type": "scatterpolargl"
           }
          ],
          "scatterternary": [
           {
            "marker": {
             "colorbar": {
              "outlinewidth": 0,
              "ticks": ""
             }
            },
            "type": "scatterternary"
           }
          ],
          "surface": [
           {
            "colorbar": {
             "outlinewidth": 0,
             "ticks": ""
            },
            "colorscale": [
             [
              0,
              "#0d0887"
             ],
             [
              0.1111111111111111,
              "#46039f"
             ],
             [
              0.2222222222222222,
              "#7201a8"
             ],
             [
              0.3333333333333333,
              "#9c179e"
             ],
             [
              0.4444444444444444,
              "#bd3786"
             ],
             [
              0.5555555555555556,
              "#d8576b"
             ],
             [
              0.6666666666666666,
              "#ed7953"
             ],
             [
              0.7777777777777778,
              "#fb9f3a"
             ],
             [
              0.8888888888888888,
              "#fdca26"
             ],
             [
              1,
              "#f0f921"
             ]
            ],
            "type": "surface"
           }
          ],
          "table": [
           {
            "cells": {
             "fill": {
              "color": "#EBF0F8"
             },
             "line": {
              "color": "white"
             }
            },
            "header": {
             "fill": {
              "color": "#C8D4E3"
             },
             "line": {
              "color": "white"
             }
            },
            "type": "table"
           }
          ]
         },
         "layout": {
          "annotationdefaults": {
           "arrowcolor": "#2a3f5f",
           "arrowhead": 0,
           "arrowwidth": 1
          },
          "autotypenumbers": "strict",
          "coloraxis": {
           "colorbar": {
            "outlinewidth": 0,
            "ticks": ""
           }
          },
          "colorscale": {
           "diverging": [
            [
             0,
             "#8e0152"
            ],
            [
             0.1,
             "#c51b7d"
            ],
            [
             0.2,
             "#de77ae"
            ],
            [
             0.3,
             "#f1b6da"
            ],
            [
             0.4,
             "#fde0ef"
            ],
            [
             0.5,
             "#f7f7f7"
            ],
            [
             0.6,
             "#e6f5d0"
            ],
            [
             0.7,
             "#b8e186"
            ],
            [
             0.8,
             "#7fbc41"
            ],
            [
             0.9,
             "#4d9221"
            ],
            [
             1,
             "#276419"
            ]
           ],
           "sequential": [
            [
             0,
             "#0d0887"
            ],
            [
             0.1111111111111111,
             "#46039f"
            ],
            [
             0.2222222222222222,
             "#7201a8"
            ],
            [
             0.3333333333333333,
             "#9c179e"
            ],
            [
             0.4444444444444444,
             "#bd3786"
            ],
            [
             0.5555555555555556,
             "#d8576b"
            ],
            [
             0.6666666666666666,
             "#ed7953"
            ],
            [
             0.7777777777777778,
             "#fb9f3a"
            ],
            [
             0.8888888888888888,
             "#fdca26"
            ],
            [
             1,
             "#f0f921"
            ]
           ],
           "sequentialminus": [
            [
             0,
             "#0d0887"
            ],
            [
             0.1111111111111111,
             "#46039f"
            ],
            [
             0.2222222222222222,
             "#7201a8"
            ],
            [
             0.3333333333333333,
             "#9c179e"
            ],
            [
             0.4444444444444444,
             "#bd3786"
            ],
            [
             0.5555555555555556,
             "#d8576b"
            ],
            [
             0.6666666666666666,
             "#ed7953"
            ],
            [
             0.7777777777777778,
             "#fb9f3a"
            ],
            [
             0.8888888888888888,
             "#fdca26"
            ],
            [
             1,
             "#f0f921"
            ]
           ]
          },
          "colorway": [
           "#636efa",
           "#EF553B",
           "#00cc96",
           "#ab63fa",
           "#FFA15A",
           "#19d3f3",
           "#FF6692",
           "#B6E880",
           "#FF97FF",
           "#FECB52"
          ],
          "font": {
           "color": "#2a3f5f"
          },
          "geo": {
           "bgcolor": "white",
           "lakecolor": "white",
           "landcolor": "#E5ECF6",
           "showlakes": true,
           "showland": true,
           "subunitcolor": "white"
          },
          "hoverlabel": {
           "align": "left"
          },
          "hovermode": "closest",
          "mapbox": {
           "style": "light"
          },
          "paper_bgcolor": "white",
          "plot_bgcolor": "#E5ECF6",
          "polar": {
           "angularaxis": {
            "gridcolor": "white",
            "linecolor": "white",
            "ticks": ""
           },
           "bgcolor": "#E5ECF6",
           "radialaxis": {
            "gridcolor": "white",
            "linecolor": "white",
            "ticks": ""
           }
          },
          "scene": {
           "xaxis": {
            "backgroundcolor": "#E5ECF6",
            "gridcolor": "white",
            "gridwidth": 2,
            "linecolor": "white",
            "showbackground": true,
            "ticks": "",
            "zerolinecolor": "white"
           },
           "yaxis": {
            "backgroundcolor": "#E5ECF6",
            "gridcolor": "white",
            "gridwidth": 2,
            "linecolor": "white",
            "showbackground": true,
            "ticks": "",
            "zerolinecolor": "white"
           },
           "zaxis": {
            "backgroundcolor": "#E5ECF6",
            "gridcolor": "white",
            "gridwidth": 2,
            "linecolor": "white",
            "showbackground": true,
            "ticks": "",
            "zerolinecolor": "white"
           }
          },
          "shapedefaults": {
           "line": {
            "color": "#2a3f5f"
           }
          },
          "ternary": {
           "aaxis": {
            "gridcolor": "white",
            "linecolor": "white",
            "ticks": ""
           },
           "baxis": {
            "gridcolor": "white",
            "linecolor": "white",
            "ticks": ""
           },
           "bgcolor": "#E5ECF6",
           "caxis": {
            "gridcolor": "white",
            "linecolor": "white",
            "ticks": ""
           }
          },
          "title": {
           "x": 0.05
          },
          "xaxis": {
           "automargin": true,
           "gridcolor": "white",
           "linecolor": "white",
           "ticks": "",
           "title": {
            "standoff": 15
           },
           "zerolinecolor": "white",
           "zerolinewidth": 2
          },
          "yaxis": {
           "automargin": true,
           "gridcolor": "white",
           "linecolor": "white",
           "ticks": "",
           "title": {
            "standoff": 15
           },
           "zerolinecolor": "white",
           "zerolinewidth": 2
          }
         }
        },
        "xaxis": {
         "anchor": "y",
         "categoryarray": [
          "食料品、飲料・たばこ・飼料製造業",
          "繊維工業",
          "パルプ・紙・紙加工品製造業",
          "化学工業",
          "石油・石炭・ﾌﾟﾗｽﾁｯｸ製品製造業",
          "窯業・土石製品製造業",
          "鉄鋼業",
          "非鉄金属製品・金属製品製造業",
          "電気機械器具製造業",
          "情報通信機械器具製造業",
          "輸送用機械器具製造業",
          "その他機械器具製造業",
          "その他の製造業",
          "農林漁業・同協同組合、鉱業",
          "建設業",
          "電気・ガス・熱供給・水道業",
          "映像・音声情報制作・放送・通信業",
          "新聞・出版業",
          "情報サービス業",
          "運輸業・郵便業",
          "卸売業",
          "小売業",
          "金融業・保険業",
          "医療業（国・公立除く）",
          "教育（国・公立除く）、学習支援業",
          "その他の非製造業"
         ],
         "categoryorder": "total descending",
         "domain": [
          0,
          1
         ],
         "title": {
          "text": "業種別"
         }
        },
        "yaxis": {
         "anchor": "x",
         "domain": [
          0,
          1
         ],
         "title": {
          "text": "従業者一人当たりIT関係諸経費（千円）"
         }
        }
       }
      },
      "text/html": [
       "<div>                            <div id=\"802ca5b4-a88d-49cd-b275-b874c242ca15\" class=\"plotly-graph-div\" style=\"height:525px; width:100%;\"></div>            <script type=\"text/javascript\">                require([\"plotly\"], function(Plotly) {                    window.PLOTLYENV=window.PLOTLYENV || {};                                    if (document.getElementById(\"802ca5b4-a88d-49cd-b275-b874c242ca15\")) {                    Plotly.newPlot(                        \"802ca5b4-a88d-49cd-b275-b874c242ca15\",                        [{\"alignmentgroup\":\"True\",\"hovertemplate\":\"\\u696d\\u7a2e\\u5225=%{x}<br>value=%{y}<extra></extra>\",\"legendgroup\":\"\\u98df\\u6599\\u54c1\\u3001\\u98f2\\u6599\\u30fb\\u305f\\u3070\\u3053\\u30fb\\u98fc\\u6599\\u88fd\\u9020\\u696d\",\"marker\":{\"color\":\"#636efa\",\"pattern\":{\"shape\":\"\"}},\"name\":\"\\u98df\\u6599\\u54c1\\u3001\\u98f2\\u6599\\u30fb\\u305f\\u3070\\u3053\\u30fb\\u98fc\\u6599\\u88fd\\u9020\\u696d\",\"offsetgroup\":\"\\u98df\\u6599\\u54c1\\u3001\\u98f2\\u6599\\u30fb\\u305f\\u3070\\u3053\\u30fb\\u98fc\\u6599\\u88fd\\u9020\\u696d\",\"orientation\":\"v\",\"showlegend\":true,\"textposition\":\"auto\",\"x\":[\"\\u98df\\u6599\\u54c1\\u3001\\u98f2\\u6599\\u30fb\\u305f\\u3070\\u3053\\u30fb\\u98fc\\u6599\\u88fd\\u9020\\u696d\"],\"xaxis\":\"x\",\"y\":[315.1962877582789],\"yaxis\":\"y\",\"type\":\"bar\"},{\"alignmentgroup\":\"True\",\"hovertemplate\":\"\\u696d\\u7a2e\\u5225=%{x}<br>value=%{y}<extra></extra>\",\"legendgroup\":\"\\u7e4a\\u7dad\\u5de5\\u696d\",\"marker\":{\"color\":\"#EF553B\",\"pattern\":{\"shape\":\"\"}},\"name\":\"\\u7e4a\\u7dad\\u5de5\\u696d\",\"offsetgroup\":\"\\u7e4a\\u7dad\\u5de5\\u696d\",\"orientation\":\"v\",\"showlegend\":true,\"textposition\":\"auto\",\"x\":[\"\\u7e4a\\u7dad\\u5de5\\u696d\"],\"xaxis\":\"x\",\"y\":[73.58916478555305],\"yaxis\":\"y\",\"type\":\"bar\"},{\"alignmentgroup\":\"True\",\"hovertemplate\":\"\\u696d\\u7a2e\\u5225=%{x}<br>value=%{y}<extra></extra>\",\"legendgroup\":\"\\u30d1\\u30eb\\u30d7\\u30fb\\u7d19\\u30fb\\u7d19\\u52a0\\u5de5\\u54c1\\u88fd\\u9020\\u696d\",\"marker\":{\"color\":\"#00cc96\",\"pattern\":{\"shape\":\"\"}},\"name\":\"\\u30d1\\u30eb\\u30d7\\u30fb\\u7d19\\u30fb\\u7d19\\u52a0\\u5de5\\u54c1\\u88fd\\u9020\\u696d\",\"offsetgroup\":\"\\u30d1\\u30eb\\u30d7\\u30fb\\u7d19\\u30fb\\u7d19\\u52a0\\u5de5\\u54c1\\u88fd\\u9020\\u696d\",\"orientation\":\"v\",\"showlegend\":true,\"textposition\":\"auto\",\"x\":[\"\\u30d1\\u30eb\\u30d7\\u30fb\\u7d19\\u30fb\\u7d19\\u52a0\\u5de5\\u54c1\\u88fd\\u9020\\u696d\"],\"xaxis\":\"x\",\"y\":[305.7086855322798],\"yaxis\":\"y\",\"type\":\"bar\"},{\"alignmentgroup\":\"True\",\"hovertemplate\":\"\\u696d\\u7a2e\\u5225=%{x}<br>value=%{y}<extra></extra>\",\"legendgroup\":\"\\u5316\\u5b66\\u5de5\\u696d\",\"marker\":{\"color\":\"#ab63fa\",\"pattern\":{\"shape\":\"\"}},\"name\":\"\\u5316\\u5b66\\u5de5\\u696d\",\"offsetgroup\":\"\\u5316\\u5b66\\u5de5\\u696d\",\"orientation\":\"v\",\"showlegend\":true,\"textposition\":\"auto\",\"x\":[\"\\u5316\\u5b66\\u5de5\\u696d\"],\"xaxis\":\"x\",\"y\":[561.3477537437604],\"yaxis\":\"y\",\"type\":\"bar\"},{\"alignmentgroup\":\"True\",\"hovertemplate\":\"\\u696d\\u7a2e\\u5225=%{x}<br>value=%{y}<extra></extra>\",\"legendgroup\":\"\\u77f3\\u6cb9\\u30fb\\u77f3\\u70ad\\u30fb\\uff8c\\uff9f\\uff97\\uff7d\\uff81\\uff6f\\uff78\\u88fd\\u54c1\\u88fd\\u9020\\u696d\",\"marker\":{\"color\":\"#FFA15A\",\"pattern\":{\"shape\":\"\"}},\"name\":\"\\u77f3\\u6cb9\\u30fb\\u77f3\\u70ad\\u30fb\\uff8c\\uff9f\\uff97\\uff7d\\uff81\\uff6f\\uff78\\u88fd\\u54c1\\u88fd\\u9020\\u696d\",\"offsetgroup\":\"\\u77f3\\u6cb9\\u30fb\\u77f3\\u70ad\\u30fb\\uff8c\\uff9f\\uff97\\uff7d\\uff81\\uff6f\\uff78\\u88fd\\u54c1\\u88fd\\u9020\\u696d\",\"orientation\":\"v\",\"showlegend\":true,\"textposition\":\"auto\",\"x\":[\"\\u77f3\\u6cb9\\u30fb\\u77f3\\u70ad\\u30fb\\uff8c\\uff9f\\uff97\\uff7d\\uff81\\uff6f\\uff78\\u88fd\\u54c1\\u88fd\\u9020\\u696d\"],\"xaxis\":\"x\",\"y\":[6087.971274685817],\"yaxis\":\"y\",\"type\":\"bar\"},{\"alignmentgroup\":\"True\",\"hovertemplate\":\"\\u696d\\u7a2e\\u5225=%{x}<br>value=%{y}<extra></extra>\",\"legendgroup\":\"\\u7aaf\\u696d\\u30fb\\u571f\\u77f3\\u88fd\\u54c1\\u88fd\\u9020\\u696d\",\"marker\":{\"color\":\"#19d3f3\",\"pattern\":{\"shape\":\"\"}},\"name\":\"\\u7aaf\\u696d\\u30fb\\u571f\\u77f3\\u88fd\\u54c1\\u88fd\\u9020\\u696d\",\"offsetgroup\":\"\\u7aaf\\u696d\\u30fb\\u571f\\u77f3\\u88fd\\u54c1\\u88fd\\u9020\\u696d\",\"orientation\":\"v\",\"showlegend\":true,\"textposition\":\"auto\",\"x\":[\"\\u7aaf\\u696d\\u30fb\\u571f\\u77f3\\u88fd\\u54c1\\u88fd\\u9020\\u696d\"],\"xaxis\":\"x\",\"y\":[517.5519936415419],\"yaxis\":\"y\",\"type\":\"bar\"},{\"alignmentgroup\":\"True\",\"hovertemplate\":\"\\u696d\\u7a2e\\u5225=%{x}<br>value=%{y}<extra></extra>\",\"legendgroup\":\"\\u9244\\u92fc\\u696d\",\"marker\":{\"color\":\"#FF6692\",\"pattern\":{\"shape\":\"\"}},\"name\":\"\\u9244\\u92fc\\u696d\",\"offsetgroup\":\"\\u9244\\u92fc\\u696d\",\"orientation\":\"v\",\"showlegend\":true,\"textposition\":\"auto\",\"x\":[\"\\u9244\\u92fc\\u696d\"],\"xaxis\":\"x\",\"y\":[417.97362155625257],\"yaxis\":\"y\",\"type\":\"bar\"},{\"alignmentgroup\":\"True\",\"hovertemplate\":\"\\u696d\\u7a2e\\u5225=%{x}<br>value=%{y}<extra></extra>\",\"legendgroup\":\"\\u975e\\u9244\\u91d1\\u5c5e\\u88fd\\u54c1\\u30fb\\u91d1\\u5c5e\\u88fd\\u54c1\\u88fd\\u9020\\u696d\",\"marker\":{\"color\":\"#B6E880\",\"pattern\":{\"shape\":\"\"}},\"name\":\"\\u975e\\u9244\\u91d1\\u5c5e\\u88fd\\u54c1\\u30fb\\u91d1\\u5c5e\\u88fd\\u54c1\\u88fd\\u9020\\u696d\",\"offsetgroup\":\"\\u975e\\u9244\\u91d1\\u5c5e\\u88fd\\u54c1\\u30fb\\u91d1\\u5c5e\\u88fd\\u54c1\\u88fd\\u9020\\u696d\",\"orientation\":\"v\",\"showlegend\":true,\"textposition\":\"auto\",\"x\":[\"\\u975e\\u9244\\u91d1\\u5c5e\\u88fd\\u54c1\\u30fb\\u91d1\\u5c5e\\u88fd\\u54c1\\u88fd\\u9020\\u696d\"],\"xaxis\":\"x\",\"y\":[331.8164607553044],\"yaxis\":\"y\",\"type\":\"bar\"},{\"alignmentgroup\":\"True\",\"hovertemplate\":\"\\u696d\\u7a2e\\u5225=%{x}<br>value=%{y}<extra></extra>\",\"legendgroup\":\"\\u96fb\\u6c17\\u6a5f\\u68b0\\u5668\\u5177\\u88fd\\u9020\\u696d\",\"marker\":{\"color\":\"#FF97FF\",\"pattern\":{\"shape\":\"\"}},\"name\":\"\\u96fb\\u6c17\\u6a5f\\u68b0\\u5668\\u5177\\u88fd\\u9020\\u696d\",\"offsetgroup\":\"\\u96fb\\u6c17\\u6a5f\\u68b0\\u5668\\u5177\\u88fd\\u9020\\u696d\",\"orientation\":\"v\",\"showlegend\":true,\"textposition\":\"auto\",\"x\":[\"\\u96fb\\u6c17\\u6a5f\\u68b0\\u5668\\u5177\\u88fd\\u9020\\u696d\"],\"xaxis\":\"x\",\"y\":[454.3426515952054],\"yaxis\":\"y\",\"type\":\"bar\"},{\"alignmentgroup\":\"True\",\"hovertemplate\":\"\\u696d\\u7a2e\\u5225=%{x}<br>value=%{y}<extra></extra>\",\"legendgroup\":\"\\u60c5\\u5831\\u901a\\u4fe1\\u6a5f\\u68b0\\u5668\\u5177\\u88fd\\u9020\\u696d\",\"marker\":{\"color\":\"#FECB52\",\"pattern\":{\"shape\":\"\"}},\"name\":\"\\u60c5\\u5831\\u901a\\u4fe1\\u6a5f\\u68b0\\u5668\\u5177\\u88fd\\u9020\\u696d\",\"offsetgroup\":\"\\u60c5\\u5831\\u901a\\u4fe1\\u6a5f\\u68b0\\u5668\\u5177\\u88fd\\u9020\\u696d\",\"orientation\":\"v\",\"showlegend\":true,\"textposition\":\"auto\",\"x\":[\"\\u60c5\\u5831\\u901a\\u4fe1\\u6a5f\\u68b0\\u5668\\u5177\\u88fd\\u9020\\u696d\"],\"xaxis\":\"x\",\"y\":[950.4967357365883],\"yaxis\":\"y\",\"type\":\"bar\"},{\"alignmentgroup\":\"True\",\"hovertemplate\":\"\\u696d\\u7a2e\\u5225=%{x}<br>value=%{y}<extra></extra>\",\"legendgroup\":\"\\u8f38\\u9001\\u7528\\u6a5f\\u68b0\\u5668\\u5177\\u88fd\\u9020\\u696d\",\"marker\":{\"color\":\"#636efa\",\"pattern\":{\"shape\":\"\"}},\"name\":\"\\u8f38\\u9001\\u7528\\u6a5f\\u68b0\\u5668\\u5177\\u88fd\\u9020\\u696d\",\"offsetgroup\":\"\\u8f38\\u9001\\u7528\\u6a5f\\u68b0\\u5668\\u5177\\u88fd\\u9020\\u696d\",\"orientation\":\"v\",\"showlegend\":true,\"textposition\":\"auto\",\"x\":[\"\\u8f38\\u9001\\u7528\\u6a5f\\u68b0\\u5668\\u5177\\u88fd\\u9020\\u696d\"],\"xaxis\":\"x\",\"y\":[776.1569072928388],\"yaxis\":\"y\",\"type\":\"bar\"},{\"alignmentgroup\":\"True\",\"hovertemplate\":\"\\u696d\\u7a2e\\u5225=%{x}<br>value=%{y}<extra></extra>\",\"legendgroup\":\"\\u305d\\u306e\\u4ed6\\u6a5f\\u68b0\\u5668\\u5177\\u88fd\\u9020\\u696d\",\"marker\":{\"color\":\"#EF553B\",\"pattern\":{\"shape\":\"\"}},\"name\":\"\\u305d\\u306e\\u4ed6\\u6a5f\\u68b0\\u5668\\u5177\\u88fd\\u9020\\u696d\",\"offsetgroup\":\"\\u305d\\u306e\\u4ed6\\u6a5f\\u68b0\\u5668\\u5177\\u88fd\\u9020\\u696d\",\"orientation\":\"v\",\"showlegend\":true,\"textposition\":\"auto\",\"x\":[\"\\u305d\\u306e\\u4ed6\\u6a5f\\u68b0\\u5668\\u5177\\u88fd\\u9020\\u696d\"],\"xaxis\":\"x\",\"y\":[566.8862505737715],\"yaxis\":\"y\",\"type\":\"bar\"},{\"alignmentgroup\":\"True\",\"hovertemplate\":\"\\u696d\\u7a2e\\u5225=%{x}<br>value=%{y}<extra></extra>\",\"legendgroup\":\"\\u305d\\u306e\\u4ed6\\u306e\\u88fd\\u9020\\u696d\",\"marker\":{\"color\":\"#00cc96\",\"pattern\":{\"shape\":\"\"}},\"name\":\"\\u305d\\u306e\\u4ed6\\u306e\\u88fd\\u9020\\u696d\",\"offsetgroup\":\"\\u305d\\u306e\\u4ed6\\u306e\\u88fd\\u9020\\u696d\",\"orientation\":\"v\",\"showlegend\":true,\"textposition\":\"auto\",\"x\":[\"\\u305d\\u306e\\u4ed6\\u306e\\u88fd\\u9020\\u696d\"],\"xaxis\":\"x\",\"y\":[530.3298693119194],\"yaxis\":\"y\",\"type\":\"bar\"},{\"alignmentgroup\":\"True\",\"hovertemplate\":\"\\u696d\\u7a2e\\u5225=%{x}<br>value=%{y}<extra></extra>\",\"legendgroup\":\"\\u8fb2\\u6797\\u6f01\\u696d\\u30fb\\u540c\\u5354\\u540c\\u7d44\\u5408\\u3001\\u9271\\u696d\",\"marker\":{\"color\":\"#ab63fa\",\"pattern\":{\"shape\":\"\"}},\"name\":\"\\u8fb2\\u6797\\u6f01\\u696d\\u30fb\\u540c\\u5354\\u540c\\u7d44\\u5408\\u3001\\u9271\\u696d\",\"offsetgroup\":\"\\u8fb2\\u6797\\u6f01\\u696d\\u30fb\\u540c\\u5354\\u540c\\u7d44\\u5408\\u3001\\u9271\\u696d\",\"orientation\":\"v\",\"showlegend\":true,\"textposition\":\"auto\",\"x\":[\"\\u8fb2\\u6797\\u6f01\\u696d\\u30fb\\u540c\\u5354\\u540c\\u7d44\\u5408\\u3001\\u9271\\u696d\"],\"xaxis\":\"x\",\"y\":[104.98220640569394],\"yaxis\":\"y\",\"type\":\"bar\"},{\"alignmentgroup\":\"True\",\"hovertemplate\":\"\\u696d\\u7a2e\\u5225=%{x}<br>value=%{y}<extra></extra>\",\"legendgroup\":\"\\u5efa\\u8a2d\\u696d\",\"marker\":{\"color\":\"#FFA15A\",\"pattern\":{\"shape\":\"\"}},\"name\":\"\\u5efa\\u8a2d\\u696d\",\"offsetgroup\":\"\\u5efa\\u8a2d\\u696d\",\"orientation\":\"v\",\"showlegend\":true,\"textposition\":\"auto\",\"x\":[\"\\u5efa\\u8a2d\\u696d\"],\"xaxis\":\"x\",\"y\":[306.06052781077307],\"yaxis\":\"y\",\"type\":\"bar\"},{\"alignmentgroup\":\"True\",\"hovertemplate\":\"\\u696d\\u7a2e\\u5225=%{x}<br>value=%{y}<extra></extra>\",\"legendgroup\":\"\\u96fb\\u6c17\\u30fb\\u30ac\\u30b9\\u30fb\\u71b1\\u4f9b\\u7d66\\u30fb\\u6c34\\u9053\\u696d\",\"marker\":{\"color\":\"#19d3f3\",\"pattern\":{\"shape\":\"\"}},\"name\":\"\\u96fb\\u6c17\\u30fb\\u30ac\\u30b9\\u30fb\\u71b1\\u4f9b\\u7d66\\u30fb\\u6c34\\u9053\\u696d\",\"offsetgroup\":\"\\u96fb\\u6c17\\u30fb\\u30ac\\u30b9\\u30fb\\u71b1\\u4f9b\\u7d66\\u30fb\\u6c34\\u9053\\u696d\",\"orientation\":\"v\",\"showlegend\":true,\"textposition\":\"auto\",\"x\":[\"\\u96fb\\u6c17\\u30fb\\u30ac\\u30b9\\u30fb\\u71b1\\u4f9b\\u7d66\\u30fb\\u6c34\\u9053\\u696d\"],\"xaxis\":\"x\",\"y\":[1291.1318227480747],\"yaxis\":\"y\",\"type\":\"bar\"},{\"alignmentgroup\":\"True\",\"hovertemplate\":\"\\u696d\\u7a2e\\u5225=%{x}<br>value=%{y}<extra></extra>\",\"legendgroup\":\"\\u6620\\u50cf\\u30fb\\u97f3\\u58f0\\u60c5\\u5831\\u5236\\u4f5c\\u30fb\\u653e\\u9001\\u30fb\\u901a\\u4fe1\\u696d\",\"marker\":{\"color\":\"#FF6692\",\"pattern\":{\"shape\":\"\"}},\"name\":\"\\u6620\\u50cf\\u30fb\\u97f3\\u58f0\\u60c5\\u5831\\u5236\\u4f5c\\u30fb\\u653e\\u9001\\u30fb\\u901a\\u4fe1\\u696d\",\"offsetgroup\":\"\\u6620\\u50cf\\u30fb\\u97f3\\u58f0\\u60c5\\u5831\\u5236\\u4f5c\\u30fb\\u653e\\u9001\\u30fb\\u901a\\u4fe1\\u696d\",\"orientation\":\"v\",\"showlegend\":true,\"textposition\":\"auto\",\"x\":[\"\\u6620\\u50cf\\u30fb\\u97f3\\u58f0\\u60c5\\u5831\\u5236\\u4f5c\\u30fb\\u653e\\u9001\\u30fb\\u901a\\u4fe1\\u696d\"],\"xaxis\":\"x\",\"y\":[4929.892842701172],\"yaxis\":\"y\",\"type\":\"bar\"},{\"alignmentgroup\":\"True\",\"hovertemplate\":\"\\u696d\\u7a2e\\u5225=%{x}<br>value=%{y}<extra></extra>\",\"legendgroup\":\"\\u65b0\\u805e\\u30fb\\u51fa\\u7248\\u696d\",\"marker\":{\"color\":\"#B6E880\",\"pattern\":{\"shape\":\"\"}},\"name\":\"\\u65b0\\u805e\\u30fb\\u51fa\\u7248\\u696d\",\"offsetgroup\":\"\\u65b0\\u805e\\u30fb\\u51fa\\u7248\\u696d\",\"orientation\":\"v\",\"showlegend\":true,\"textposition\":\"auto\",\"x\":[\"\\u65b0\\u805e\\u30fb\\u51fa\\u7248\\u696d\"],\"xaxis\":\"x\",\"y\":[534.0019354271135],\"yaxis\":\"y\",\"type\":\"bar\"},{\"alignmentgroup\":\"True\",\"hovertemplate\":\"\\u696d\\u7a2e\\u5225=%{x}<br>value=%{y}<extra></extra>\",\"legendgroup\":\"\\u60c5\\u5831\\u30b5\\u30fc\\u30d3\\u30b9\\u696d\",\"marker\":{\"color\":\"#FF97FF\",\"pattern\":{\"shape\":\"\"}},\"name\":\"\\u60c5\\u5831\\u30b5\\u30fc\\u30d3\\u30b9\\u696d\",\"offsetgroup\":\"\\u60c5\\u5831\\u30b5\\u30fc\\u30d3\\u30b9\\u696d\",\"orientation\":\"v\",\"showlegend\":true,\"textposition\":\"auto\",\"x\":[\"\\u60c5\\u5831\\u30b5\\u30fc\\u30d3\\u30b9\\u696d\"],\"xaxis\":\"x\",\"y\":[963.8740830650694],\"yaxis\":\"y\",\"type\":\"bar\"},{\"alignmentgroup\":\"True\",\"hovertemplate\":\"\\u696d\\u7a2e\\u5225=%{x}<br>value=%{y}<extra></extra>\",\"legendgroup\":\"\\u904b\\u8f38\\u696d\\u30fb\\u90f5\\u4fbf\\u696d\",\"marker\":{\"color\":\"#FECB52\",\"pattern\":{\"shape\":\"\"}},\"name\":\"\\u904b\\u8f38\\u696d\\u30fb\\u90f5\\u4fbf\\u696d\",\"offsetgroup\":\"\\u904b\\u8f38\\u696d\\u30fb\\u90f5\\u4fbf\\u696d\",\"orientation\":\"v\",\"showlegend\":true,\"textposition\":\"auto\",\"x\":[\"\\u904b\\u8f38\\u696d\\u30fb\\u90f5\\u4fbf\\u696d\"],\"xaxis\":\"x\",\"y\":[278.27596795607064],\"yaxis\":\"y\",\"type\":\"bar\"},{\"alignmentgroup\":\"True\",\"hovertemplate\":\"\\u696d\\u7a2e\\u5225=%{x}<br>value=%{y}<extra></extra>\",\"legendgroup\":\"\\u5378\\u58f2\\u696d\",\"marker\":{\"color\":\"#636efa\",\"pattern\":{\"shape\":\"\"}},\"name\":\"\\u5378\\u58f2\\u696d\",\"offsetgroup\":\"\\u5378\\u58f2\\u696d\",\"orientation\":\"v\",\"showlegend\":true,\"textposition\":\"auto\",\"x\":[\"\\u5378\\u58f2\\u696d\"],\"xaxis\":\"x\",\"y\":[791.9488087945564],\"yaxis\":\"y\",\"type\":\"bar\"},{\"alignmentgroup\":\"True\",\"hovertemplate\":\"\\u696d\\u7a2e\\u5225=%{x}<br>value=%{y}<extra></extra>\",\"legendgroup\":\"\\u5c0f\\u58f2\\u696d\",\"marker\":{\"color\":\"#EF553B\",\"pattern\":{\"shape\":\"\"}},\"name\":\"\\u5c0f\\u58f2\\u696d\",\"offsetgroup\":\"\\u5c0f\\u58f2\\u696d\",\"orientation\":\"v\",\"showlegend\":true,\"textposition\":\"auto\",\"x\":[\"\\u5c0f\\u58f2\\u696d\"],\"xaxis\":\"x\",\"y\":[184.96961068827684],\"yaxis\":\"y\",\"type\":\"bar\"},{\"alignmentgroup\":\"True\",\"hovertemplate\":\"\\u696d\\u7a2e\\u5225=%{x}<br>value=%{y}<extra></extra>\",\"legendgroup\":\"\\u91d1\\u878d\\u696d\\u30fb\\u4fdd\\u967a\\u696d\",\"marker\":{\"color\":\"#00cc96\",\"pattern\":{\"shape\":\"\"}},\"name\":\"\\u91d1\\u878d\\u696d\\u30fb\\u4fdd\\u967a\\u696d\",\"offsetgroup\":\"\\u91d1\\u878d\\u696d\\u30fb\\u4fdd\\u967a\\u696d\",\"orientation\":\"v\",\"showlegend\":true,\"textposition\":\"auto\",\"x\":[\"\\u91d1\\u878d\\u696d\\u30fb\\u4fdd\\u967a\\u696d\"],\"xaxis\":\"x\",\"y\":[1372.189285871458],\"yaxis\":\"y\",\"type\":\"bar\"},{\"alignmentgroup\":\"True\",\"hovertemplate\":\"\\u696d\\u7a2e\\u5225=%{x}<br>value=%{y}<extra></extra>\",\"legendgroup\":\"\\u533b\\u7642\\u696d\\uff08\\u56fd\\u30fb\\u516c\\u7acb\\u9664\\u304f\\uff09\",\"marker\":{\"color\":\"#ab63fa\",\"pattern\":{\"shape\":\"\"}},\"name\":\"\\u533b\\u7642\\u696d\\uff08\\u56fd\\u30fb\\u516c\\u7acb\\u9664\\u304f\\uff09\",\"offsetgroup\":\"\\u533b\\u7642\\u696d\\uff08\\u56fd\\u30fb\\u516c\\u7acb\\u9664\\u304f\\uff09\",\"orientation\":\"v\",\"showlegend\":true,\"textposition\":\"auto\",\"x\":[\"\\u533b\\u7642\\u696d\\uff08\\u56fd\\u30fb\\u516c\\u7acb\\u9664\\u304f\\uff09\"],\"xaxis\":\"x\",\"y\":[276.1270491803279],\"yaxis\":\"y\",\"type\":\"bar\"},{\"alignmentgroup\":\"True\",\"hovertemplate\":\"\\u696d\\u7a2e\\u5225=%{x}<br>value=%{y}<extra></extra>\",\"legendgroup\":\"\\u6559\\u80b2\\uff08\\u56fd\\u30fb\\u516c\\u7acb\\u9664\\u304f\\uff09\\u3001\\u5b66\\u7fd2\\u652f\\u63f4\\u696d\",\"marker\":{\"color\":\"#FFA15A\",\"pattern\":{\"shape\":\"\"}},\"name\":\"\\u6559\\u80b2\\uff08\\u56fd\\u30fb\\u516c\\u7acb\\u9664\\u304f\\uff09\\u3001\\u5b66\\u7fd2\\u652f\\u63f4\\u696d\",\"offsetgroup\":\"\\u6559\\u80b2\\uff08\\u56fd\\u30fb\\u516c\\u7acb\\u9664\\u304f\\uff09\\u3001\\u5b66\\u7fd2\\u652f\\u63f4\\u696d\",\"orientation\":\"v\",\"showlegend\":true,\"textposition\":\"auto\",\"x\":[\"\\u6559\\u80b2\\uff08\\u56fd\\u30fb\\u516c\\u7acb\\u9664\\u304f\\uff09\\u3001\\u5b66\\u7fd2\\u652f\\u63f4\\u696d\"],\"xaxis\":\"x\",\"y\":[45.99696246474289],\"yaxis\":\"y\",\"type\":\"bar\"},{\"alignmentgroup\":\"True\",\"hovertemplate\":\"\\u696d\\u7a2e\\u5225=%{x}<br>value=%{y}<extra></extra>\",\"legendgroup\":\"\\u305d\\u306e\\u4ed6\\u306e\\u975e\\u88fd\\u9020\\u696d\",\"marker\":{\"color\":\"#19d3f3\",\"pattern\":{\"shape\":\"\"}},\"name\":\"\\u305d\\u306e\\u4ed6\\u306e\\u975e\\u88fd\\u9020\\u696d\",\"offsetgroup\":\"\\u305d\\u306e\\u4ed6\\u306e\\u975e\\u88fd\\u9020\\u696d\",\"orientation\":\"v\",\"showlegend\":true,\"textposition\":\"auto\",\"x\":[\"\\u305d\\u306e\\u4ed6\\u306e\\u975e\\u88fd\\u9020\\u696d\"],\"xaxis\":\"x\",\"y\":[248.82614022428675],\"yaxis\":\"y\",\"type\":\"bar\"}],                        {\"template\":{\"data\":{\"bar\":[{\"error_x\":{\"color\":\"#2a3f5f\"},\"error_y\":{\"color\":\"#2a3f5f\"},\"marker\":{\"line\":{\"color\":\"#E5ECF6\",\"width\":0.5},\"pattern\":{\"fillmode\":\"overlay\",\"size\":10,\"solidity\":0.2}},\"type\":\"bar\"}],\"barpolar\":[{\"marker\":{\"line\":{\"color\":\"#E5ECF6\",\"width\":0.5},\"pattern\":{\"fillmode\":\"overlay\",\"size\":10,\"solidity\":0.2}},\"type\":\"barpolar\"}],\"carpet\":[{\"aaxis\":{\"endlinecolor\":\"#2a3f5f\",\"gridcolor\":\"white\",\"linecolor\":\"white\",\"minorgridcolor\":\"white\",\"startlinecolor\":\"#2a3f5f\"},\"baxis\":{\"endlinecolor\":\"#2a3f5f\",\"gridcolor\":\"white\",\"linecolor\":\"white\",\"minorgridcolor\":\"white\",\"startlinecolor\":\"#2a3f5f\"},\"type\":\"carpet\"}],\"choropleth\":[{\"colorbar\":{\"outlinewidth\":0,\"ticks\":\"\"},\"type\":\"choropleth\"}],\"contour\":[{\"colorbar\":{\"outlinewidth\":0,\"ticks\":\"\"},\"colorscale\":[[0.0,\"#0d0887\"],[0.1111111111111111,\"#46039f\"],[0.2222222222222222,\"#7201a8\"],[0.3333333333333333,\"#9c179e\"],[0.4444444444444444,\"#bd3786\"],[0.5555555555555556,\"#d8576b\"],[0.6666666666666666,\"#ed7953\"],[0.7777777777777778,\"#fb9f3a\"],[0.8888888888888888,\"#fdca26\"],[1.0,\"#f0f921\"]],\"type\":\"contour\"}],\"contourcarpet\":[{\"colorbar\":{\"outlinewidth\":0,\"ticks\":\"\"},\"type\":\"contourcarpet\"}],\"heatmap\":[{\"colorbar\":{\"outlinewidth\":0,\"ticks\":\"\"},\"colorscale\":[[0.0,\"#0d0887\"],[0.1111111111111111,\"#46039f\"],[0.2222222222222222,\"#7201a8\"],[0.3333333333333333,\"#9c179e\"],[0.4444444444444444,\"#bd3786\"],[0.5555555555555556,\"#d8576b\"],[0.6666666666666666,\"#ed7953\"],[0.7777777777777778,\"#fb9f3a\"],[0.8888888888888888,\"#fdca26\"],[1.0,\"#f0f921\"]],\"type\":\"heatmap\"}],\"heatmapgl\":[{\"colorbar\":{\"outlinewidth\":0,\"ticks\":\"\"},\"colorscale\":[[0.0,\"#0d0887\"],[0.1111111111111111,\"#46039f\"],[0.2222222222222222,\"#7201a8\"],[0.3333333333333333,\"#9c179e\"],[0.4444444444444444,\"#bd3786\"],[0.5555555555555556,\"#d8576b\"],[0.6666666666666666,\"#ed7953\"],[0.7777777777777778,\"#fb9f3a\"],[0.8888888888888888,\"#fdca26\"],[1.0,\"#f0f921\"]],\"type\":\"heatmapgl\"}],\"histogram\":[{\"marker\":{\"pattern\":{\"fillmode\":\"overlay\",\"size\":10,\"solidity\":0.2}},\"type\":\"histogram\"}],\"histogram2d\":[{\"colorbar\":{\"outlinewidth\":0,\"ticks\":\"\"},\"colorscale\":[[0.0,\"#0d0887\"],[0.1111111111111111,\"#46039f\"],[0.2222222222222222,\"#7201a8\"],[0.3333333333333333,\"#9c179e\"],[0.4444444444444444,\"#bd3786\"],[0.5555555555555556,\"#d8576b\"],[0.6666666666666666,\"#ed7953\"],[0.7777777777777778,\"#fb9f3a\"],[0.8888888888888888,\"#fdca26\"],[1.0,\"#f0f921\"]],\"type\":\"histogram2d\"}],\"histogram2dcontour\":[{\"colorbar\":{\"outlinewidth\":0,\"ticks\":\"\"},\"colorscale\":[[0.0,\"#0d0887\"],[0.1111111111111111,\"#46039f\"],[0.2222222222222222,\"#7201a8\"],[0.3333333333333333,\"#9c179e\"],[0.4444444444444444,\"#bd3786\"],[0.5555555555555556,\"#d8576b\"],[0.6666666666666666,\"#ed7953\"],[0.7777777777777778,\"#fb9f3a\"],[0.8888888888888888,\"#fdca26\"],[1.0,\"#f0f921\"]],\"type\":\"histogram2dcontour\"}],\"mesh3d\":[{\"colorbar\":{\"outlinewidth\":0,\"ticks\":\"\"},\"type\":\"mesh3d\"}],\"parcoords\":[{\"line\":{\"colorbar\":{\"outlinewidth\":0,\"ticks\":\"\"}},\"type\":\"parcoords\"}],\"pie\":[{\"automargin\":true,\"type\":\"pie\"}],\"scatter\":[{\"marker\":{\"colorbar\":{\"outlinewidth\":0,\"ticks\":\"\"}},\"type\":\"scatter\"}],\"scatter3d\":[{\"line\":{\"colorbar\":{\"outlinewidth\":0,\"ticks\":\"\"}},\"marker\":{\"colorbar\":{\"outlinewidth\":0,\"ticks\":\"\"}},\"type\":\"scatter3d\"}],\"scattercarpet\":[{\"marker\":{\"colorbar\":{\"outlinewidth\":0,\"ticks\":\"\"}},\"type\":\"scattercarpet\"}],\"scattergeo\":[{\"marker\":{\"colorbar\":{\"outlinewidth\":0,\"ticks\":\"\"}},\"type\":\"scattergeo\"}],\"scattergl\":[{\"marker\":{\"colorbar\":{\"outlinewidth\":0,\"ticks\":\"\"}},\"type\":\"scattergl\"}],\"scattermapbox\":[{\"marker\":{\"colorbar\":{\"outlinewidth\":0,\"ticks\":\"\"}},\"type\":\"scattermapbox\"}],\"scatterpolar\":[{\"marker\":{\"colorbar\":{\"outlinewidth\":0,\"ticks\":\"\"}},\"type\":\"scatterpolar\"}],\"scatterpolargl\":[{\"marker\":{\"colorbar\":{\"outlinewidth\":0,\"ticks\":\"\"}},\"type\":\"scatterpolargl\"}],\"scatterternary\":[{\"marker\":{\"colorbar\":{\"outlinewidth\":0,\"ticks\":\"\"}},\"type\":\"scatterternary\"}],\"surface\":[{\"colorbar\":{\"outlinewidth\":0,\"ticks\":\"\"},\"colorscale\":[[0.0,\"#0d0887\"],[0.1111111111111111,\"#46039f\"],[0.2222222222222222,\"#7201a8\"],[0.3333333333333333,\"#9c179e\"],[0.4444444444444444,\"#bd3786\"],[0.5555555555555556,\"#d8576b\"],[0.6666666666666666,\"#ed7953\"],[0.7777777777777778,\"#fb9f3a\"],[0.8888888888888888,\"#fdca26\"],[1.0,\"#f0f921\"]],\"type\":\"surface\"}],\"table\":[{\"cells\":{\"fill\":{\"color\":\"#EBF0F8\"},\"line\":{\"color\":\"white\"}},\"header\":{\"fill\":{\"color\":\"#C8D4E3\"},\"line\":{\"color\":\"white\"}},\"type\":\"table\"}]},\"layout\":{\"annotationdefaults\":{\"arrowcolor\":\"#2a3f5f\",\"arrowhead\":0,\"arrowwidth\":1},\"autotypenumbers\":\"strict\",\"coloraxis\":{\"colorbar\":{\"outlinewidth\":0,\"ticks\":\"\"}},\"colorscale\":{\"diverging\":[[0,\"#8e0152\"],[0.1,\"#c51b7d\"],[0.2,\"#de77ae\"],[0.3,\"#f1b6da\"],[0.4,\"#fde0ef\"],[0.5,\"#f7f7f7\"],[0.6,\"#e6f5d0\"],[0.7,\"#b8e186\"],[0.8,\"#7fbc41\"],[0.9,\"#4d9221\"],[1,\"#276419\"]],\"sequential\":[[0.0,\"#0d0887\"],[0.1111111111111111,\"#46039f\"],[0.2222222222222222,\"#7201a8\"],[0.3333333333333333,\"#9c179e\"],[0.4444444444444444,\"#bd3786\"],[0.5555555555555556,\"#d8576b\"],[0.6666666666666666,\"#ed7953\"],[0.7777777777777778,\"#fb9f3a\"],[0.8888888888888888,\"#fdca26\"],[1.0,\"#f0f921\"]],\"sequentialminus\":[[0.0,\"#0d0887\"],[0.1111111111111111,\"#46039f\"],[0.2222222222222222,\"#7201a8\"],[0.3333333333333333,\"#9c179e\"],[0.4444444444444444,\"#bd3786\"],[0.5555555555555556,\"#d8576b\"],[0.6666666666666666,\"#ed7953\"],[0.7777777777777778,\"#fb9f3a\"],[0.8888888888888888,\"#fdca26\"],[1.0,\"#f0f921\"]]},\"colorway\":[\"#636efa\",\"#EF553B\",\"#00cc96\",\"#ab63fa\",\"#FFA15A\",\"#19d3f3\",\"#FF6692\",\"#B6E880\",\"#FF97FF\",\"#FECB52\"],\"font\":{\"color\":\"#2a3f5f\"},\"geo\":{\"bgcolor\":\"white\",\"lakecolor\":\"white\",\"landcolor\":\"#E5ECF6\",\"showlakes\":true,\"showland\":true,\"subunitcolor\":\"white\"},\"hoverlabel\":{\"align\":\"left\"},\"hovermode\":\"closest\",\"mapbox\":{\"style\":\"light\"},\"paper_bgcolor\":\"white\",\"plot_bgcolor\":\"#E5ECF6\",\"polar\":{\"angularaxis\":{\"gridcolor\":\"white\",\"linecolor\":\"white\",\"ticks\":\"\"},\"bgcolor\":\"#E5ECF6\",\"radialaxis\":{\"gridcolor\":\"white\",\"linecolor\":\"white\",\"ticks\":\"\"}},\"scene\":{\"xaxis\":{\"backgroundcolor\":\"#E5ECF6\",\"gridcolor\":\"white\",\"gridwidth\":2,\"linecolor\":\"white\",\"showbackground\":true,\"ticks\":\"\",\"zerolinecolor\":\"white\"},\"yaxis\":{\"backgroundcolor\":\"#E5ECF6\",\"gridcolor\":\"white\",\"gridwidth\":2,\"linecolor\":\"white\",\"showbackground\":true,\"ticks\":\"\",\"zerolinecolor\":\"white\"},\"zaxis\":{\"backgroundcolor\":\"#E5ECF6\",\"gridcolor\":\"white\",\"gridwidth\":2,\"linecolor\":\"white\",\"showbackground\":true,\"ticks\":\"\",\"zerolinecolor\":\"white\"}},\"shapedefaults\":{\"line\":{\"color\":\"#2a3f5f\"}},\"ternary\":{\"aaxis\":{\"gridcolor\":\"white\",\"linecolor\":\"white\",\"ticks\":\"\"},\"baxis\":{\"gridcolor\":\"white\",\"linecolor\":\"white\",\"ticks\":\"\"},\"bgcolor\":\"#E5ECF6\",\"caxis\":{\"gridcolor\":\"white\",\"linecolor\":\"white\",\"ticks\":\"\"}},\"title\":{\"x\":0.05},\"xaxis\":{\"automargin\":true,\"gridcolor\":\"white\",\"linecolor\":\"white\",\"ticks\":\"\",\"title\":{\"standoff\":15},\"zerolinecolor\":\"white\",\"zerolinewidth\":2},\"yaxis\":{\"automargin\":true,\"gridcolor\":\"white\",\"linecolor\":\"white\",\"ticks\":\"\",\"title\":{\"standoff\":15},\"zerolinecolor\":\"white\",\"zerolinewidth\":2}}},\"xaxis\":{\"anchor\":\"y\",\"domain\":[0.0,1.0],\"title\":{\"text\":\"\\u696d\\u7a2e\\u5225\"},\"categoryorder\":\"total descending\",\"categoryarray\":[\"\\u98df\\u6599\\u54c1\\u3001\\u98f2\\u6599\\u30fb\\u305f\\u3070\\u3053\\u30fb\\u98fc\\u6599\\u88fd\\u9020\\u696d\",\"\\u7e4a\\u7dad\\u5de5\\u696d\",\"\\u30d1\\u30eb\\u30d7\\u30fb\\u7d19\\u30fb\\u7d19\\u52a0\\u5de5\\u54c1\\u88fd\\u9020\\u696d\",\"\\u5316\\u5b66\\u5de5\\u696d\",\"\\u77f3\\u6cb9\\u30fb\\u77f3\\u70ad\\u30fb\\uff8c\\uff9f\\uff97\\uff7d\\uff81\\uff6f\\uff78\\u88fd\\u54c1\\u88fd\\u9020\\u696d\",\"\\u7aaf\\u696d\\u30fb\\u571f\\u77f3\\u88fd\\u54c1\\u88fd\\u9020\\u696d\",\"\\u9244\\u92fc\\u696d\",\"\\u975e\\u9244\\u91d1\\u5c5e\\u88fd\\u54c1\\u30fb\\u91d1\\u5c5e\\u88fd\\u54c1\\u88fd\\u9020\\u696d\",\"\\u96fb\\u6c17\\u6a5f\\u68b0\\u5668\\u5177\\u88fd\\u9020\\u696d\",\"\\u60c5\\u5831\\u901a\\u4fe1\\u6a5f\\u68b0\\u5668\\u5177\\u88fd\\u9020\\u696d\",\"\\u8f38\\u9001\\u7528\\u6a5f\\u68b0\\u5668\\u5177\\u88fd\\u9020\\u696d\",\"\\u305d\\u306e\\u4ed6\\u6a5f\\u68b0\\u5668\\u5177\\u88fd\\u9020\\u696d\",\"\\u305d\\u306e\\u4ed6\\u306e\\u88fd\\u9020\\u696d\",\"\\u8fb2\\u6797\\u6f01\\u696d\\u30fb\\u540c\\u5354\\u540c\\u7d44\\u5408\\u3001\\u9271\\u696d\",\"\\u5efa\\u8a2d\\u696d\",\"\\u96fb\\u6c17\\u30fb\\u30ac\\u30b9\\u30fb\\u71b1\\u4f9b\\u7d66\\u30fb\\u6c34\\u9053\\u696d\",\"\\u6620\\u50cf\\u30fb\\u97f3\\u58f0\\u60c5\\u5831\\u5236\\u4f5c\\u30fb\\u653e\\u9001\\u30fb\\u901a\\u4fe1\\u696d\",\"\\u65b0\\u805e\\u30fb\\u51fa\\u7248\\u696d\",\"\\u60c5\\u5831\\u30b5\\u30fc\\u30d3\\u30b9\\u696d\",\"\\u904b\\u8f38\\u696d\\u30fb\\u90f5\\u4fbf\\u696d\",\"\\u5378\\u58f2\\u696d\",\"\\u5c0f\\u58f2\\u696d\",\"\\u91d1\\u878d\\u696d\\u30fb\\u4fdd\\u967a\\u696d\",\"\\u533b\\u7642\\u696d\\uff08\\u56fd\\u30fb\\u516c\\u7acb\\u9664\\u304f\\uff09\",\"\\u6559\\u80b2\\uff08\\u56fd\\u30fb\\u516c\\u7acb\\u9664\\u304f\\uff09\\u3001\\u5b66\\u7fd2\\u652f\\u63f4\\u696d\",\"\\u305d\\u306e\\u4ed6\\u306e\\u975e\\u88fd\\u9020\\u696d\"]},\"yaxis\":{\"anchor\":\"x\",\"domain\":[0.0,1.0],\"title\":{\"text\":\"\\u5f93\\u696d\\u8005\\u4e00\\u4eba\\u5f53\\u305f\\u308aIT\\u95a2\\u4fc2\\u8af8\\u7d4c\\u8cbb\\uff08\\u5343\\u5186\\uff09\"}},\"legend\":{\"title\":{\"text\":\"\\u696d\\u7a2e\\u5225\"},\"tracegroupgap\":0},\"margin\":{\"t\":60},\"barmode\":\"relative\"},                        {\"responsive\": true}                    ).then(function(){\n",
       "                            \n",
       "var gd = document.getElementById('802ca5b4-a88d-49cd-b275-b874c242ca15');\n",
       "var x = new MutationObserver(function (mutations, observer) {{\n",
       "        var display = window.getComputedStyle(gd).display;\n",
       "        if (!display || display === 'none') {{\n",
       "            console.log([gd, 'removed!']);\n",
       "            Plotly.purge(gd);\n",
       "            observer.disconnect();\n",
       "        }}\n",
       "}});\n",
       "\n",
       "// Listen for the removal of the full notebook cells\n",
       "var notebookContainer = gd.closest('#notebook-container');\n",
       "if (notebookContainer) {{\n",
       "    x.observe(notebookContainer, {childList: true});\n",
       "}}\n",
       "\n",
       "// Listen for the clearing of the current output cell\n",
       "var outputEl = gd.closest('.output');\n",
       "if (outputEl) {{\n",
       "    x.observe(outputEl, {childList: true});\n",
       "}}\n",
       "\n",
       "                        })                };                });            </script>        </div>"
      ]
     },
     "metadata": {},
     "output_type": "display_data"
    }
   ],
   "source": [
    "#可視化必要データへ整形\n",
    "df_v4_1tbl_melt_invst_perone = df_v4_1tbl_melt[df_v4_1tbl_melt['groupe']=='従業者一人当たりIT関係諸経費（千円）']\n",
    "\n",
    "fig = px.bar(df_v4_1tbl_melt_invst_perone, x='業種別',y ='value',color='業種別')\n",
    "## 産業におけるIt関係諸経費\n",
    "#軸の設定等 何故かエラー？？？\n",
    "# fig.update_layout(width=900,height=500,margin=dict(l=50,r=50,b=40,t=60),\n",
    "#                   yaxis=dict(range=[0,200]),xaxis=dict(dtick=1, autorange=True))\n",
    "\n",
    "fig.update_yaxes(title_text=\"従業者一人当たりIT関係諸経費（千円）\")\n",
    "\n",
    "#データを並び替え\n",
    "fig.update_layout(xaxis={'categoryorder':'total descending'})\n",
    "\n",
    "#グラフの表示\n",
    "fig.show()"
   ]
  },
  {
   "cell_type": "code",
   "execution_count": 31,
   "metadata": {},
   "outputs": [
    {
     "data": {
      "application/vnd.plotly.v1+json": {
       "config": {
        "plotlyServerURL": "https://plot.ly"
       },
       "data": [
        {
         "type": "bar",
         "x": [
          "石油・石炭・ﾌﾟﾗｽﾁｯｸ製品製造業",
          "映像・音声情報制作・放送・通信業",
          "輸送用機械器具製造業",
          "金融業・保険業",
          "電気・ガス・熱供給・水道業",
          "情報通信機械器具製造業",
          "鉄鋼業",
          "化学工業",
          "電気機械器具製造業",
          "情報サービス業",
          "その他機械器具製造業",
          "その他の製造業",
          "卸売業",
          "運輸業・郵便業",
          "非鉄金属製品・金属製品製造業",
          "食料品、飲料・たばこ・飼料製造業",
          "窯業・土石製品製造業",
          "新聞・出版業",
          "小売業",
          "パルプ・紙・紙加工品製造業",
          "その他の非製造業",
          "建設業",
          "医療業（国・公立除く）",
          "繊維工業",
          "教育（国・公立除く）、学習支援業",
          "農林漁業・同協同組合、鉱業"
         ],
         "xaxis": "x",
         "y": [
          4778.227272727273,
          4433.318181818182,
          3855.5178571428573,
          3163.214492753623,
          2435.2105263157896,
          1883.5875000000003,
          1746.3157894736842,
          1405.7083333333333,
          1182.388888888889,
          769.0294736842105,
          737.016129032258,
          709.078947368421,
          678.5035460992908,
          622.4555555555556,
          606.7051282051282,
          529.336142857143,
          434.1111111111111,
          433.57142857142856,
          422.2625,
          383.9230769230769,
          296.24004474272937,
          267.85310734463275,
          179.66666666666666,
          36.22222222222222,
          26.5,
          14.75
         ],
         "yaxis": "y"
        },
        {
         "type": "bar",
         "x": [
          "輸送用機械器具製造業",
          "鉄鋼業",
          "電気機械器具製造業",
          "化学工業",
          "金融業・保険業",
          "小売業",
          "運輸業・郵便業",
          "情報通信機械器具製造業",
          "電気・ガス・熱供給・水道業",
          "非鉄金属製品・金属製品製造業",
          "食料品、飲料・たばこ・飼料製造業",
          "その他の製造業",
          "その他機械器具製造業",
          "パルプ・紙・紙加工品製造業",
          "その他の非製造業",
          "映像・音声情報制作・放送・通信業",
          "建設業",
          "卸売業",
          "窯業・土石製品製造業",
          "新聞・出版業",
          "情報サービス業",
          "石油・石炭・ﾌﾟﾗｽﾁｯｸ製品製造業",
          "医療業（国・公立除く）",
          "教育（国・公立除く）、学習支援業",
          "繊維工業",
          "農林漁業・同協同組合、鉱業"
         ],
         "xaxis": "x2",
         "y": [
          4967.446428571428,
          4178.0526315789475,
          2602.4166666666665,
          2504.1666666666665,
          2305.231884057971,
          2282.875,
          2236.8282828282827,
          1981.6875,
          1886.1052631578948,
          1828.4358974358975,
          1679.3857142857144,
          1337.0526315789473,
          1300.1129032258063,
          1255.8461538461538,
          1190.5503355704698,
          899.2727272727273,
          875.1638418079096,
          856.7517730496454,
          838.7777777777778,
          811.9285714285714,
          797.8526315789474,
          784.8636363636364,
          650.6666666666666,
          576.125,
          492.22222222222223,
          140.5
         ],
         "yaxis": "y2"
        },
        {
         "type": "bar",
         "x": [
          "石油・石炭・ﾌﾟﾗｽﾁｯｸ製品製造業",
          "映像・音声情報制作・放送・通信業",
          "金融業・保険業",
          "電気・ガス・熱供給・水道業",
          "情報サービス業",
          "情報通信機械器具製造業",
          "卸売業",
          "輸送用機械器具製造業",
          "その他機械器具製造業",
          "化学工業",
          "新聞・出版業",
          "その他の製造業",
          "窯業・土石製品製造業",
          "電気機械器具製造業",
          "鉄鋼業",
          "非鉄金属製品・金属製品製造業",
          "食料品、飲料・たばこ・飼料製造業",
          "建設業",
          "パルプ・紙・紙加工品製造業",
          "運輸業・郵便業",
          "医療業（国・公立除く）",
          "その他の非製造業",
          "小売業",
          "農林漁業・同協同組合、鉱業",
          "繊維工業",
          "教育（国・公立除く）、学習支援業"
         ],
         "xaxis": "x3",
         "y": [
          6087.971274685817,
          4929.892842701172,
          1372.189285871458,
          1291.1318227480747,
          963.8740830650694,
          950.4967357365883,
          791.9488087945564,
          776.1569072928388,
          566.8862505737715,
          561.3477537437604,
          534.0019354271135,
          530.3298693119194,
          517.5519936415419,
          454.3426515952054,
          417.97362155625257,
          331.8164607553044,
          315.1962877582789,
          306.06052781077307,
          305.7086855322798,
          278.27596795607064,
          276.1270491803279,
          248.82614022428675,
          184.96961068827684,
          104.98220640569394,
          73.58916478555305,
          45.99696246474289
         ],
         "yaxis": "y3"
        }
       ],
       "layout": {
        "annotations": [
         {
          "font": {
           "size": 16
          },
          "showarrow": false,
          "text": "1. It関係諸経費",
          "x": 0.225,
          "xanchor": "center",
          "xref": "paper",
          "y": 1,
          "yanchor": "bottom",
          "yref": "paper"
         },
         {
          "font": {
           "size": 16
          },
          "showarrow": false,
          "text": "2. 総従業員数",
          "x": 0.775,
          "xanchor": "center",
          "xref": "paper",
          "y": 1,
          "yanchor": "bottom",
          "yref": "paper"
         },
         {
          "font": {
           "size": 16
          },
          "showarrow": false,
          "text": "3. 一人当たりIT関係諸経費",
          "x": 0.225,
          "xanchor": "center",
          "xref": "paper",
          "y": 0.375,
          "yanchor": "bottom",
          "yref": "paper"
         },
         {
          "font": {
           "size": 16
          },
          "showarrow": false,
          "text": "4. ",
          "x": 0.775,
          "xanchor": "center",
          "xref": "paper",
          "y": 0.375,
          "yanchor": "bottom",
          "yref": "paper"
         }
        ],
        "height": 1100,
        "template": {
         "data": {
          "bar": [
           {
            "error_x": {
             "color": "#2a3f5f"
            },
            "error_y": {
             "color": "#2a3f5f"
            },
            "marker": {
             "line": {
              "color": "#E5ECF6",
              "width": 0.5
             },
             "pattern": {
              "fillmode": "overlay",
              "size": 10,
              "solidity": 0.2
             }
            },
            "type": "bar"
           }
          ],
          "barpolar": [
           {
            "marker": {
             "line": {
              "color": "#E5ECF6",
              "width": 0.5
             },
             "pattern": {
              "fillmode": "overlay",
              "size": 10,
              "solidity": 0.2
             }
            },
            "type": "barpolar"
           }
          ],
          "carpet": [
           {
            "aaxis": {
             "endlinecolor": "#2a3f5f",
             "gridcolor": "white",
             "linecolor": "white",
             "minorgridcolor": "white",
             "startlinecolor": "#2a3f5f"
            },
            "baxis": {
             "endlinecolor": "#2a3f5f",
             "gridcolor": "white",
             "linecolor": "white",
             "minorgridcolor": "white",
             "startlinecolor": "#2a3f5f"
            },
            "type": "carpet"
           }
          ],
          "choropleth": [
           {
            "colorbar": {
             "outlinewidth": 0,
             "ticks": ""
            },
            "type": "choropleth"
           }
          ],
          "contour": [
           {
            "colorbar": {
             "outlinewidth": 0,
             "ticks": ""
            },
            "colorscale": [
             [
              0,
              "#0d0887"
             ],
             [
              0.1111111111111111,
              "#46039f"
             ],
             [
              0.2222222222222222,
              "#7201a8"
             ],
             [
              0.3333333333333333,
              "#9c179e"
             ],
             [
              0.4444444444444444,
              "#bd3786"
             ],
             [
              0.5555555555555556,
              "#d8576b"
             ],
             [
              0.6666666666666666,
              "#ed7953"
             ],
             [
              0.7777777777777778,
              "#fb9f3a"
             ],
             [
              0.8888888888888888,
              "#fdca26"
             ],
             [
              1,
              "#f0f921"
             ]
            ],
            "type": "contour"
           }
          ],
          "contourcarpet": [
           {
            "colorbar": {
             "outlinewidth": 0,
             "ticks": ""
            },
            "type": "contourcarpet"
           }
          ],
          "heatmap": [
           {
            "colorbar": {
             "outlinewidth": 0,
             "ticks": ""
            },
            "colorscale": [
             [
              0,
              "#0d0887"
             ],
             [
              0.1111111111111111,
              "#46039f"
             ],
             [
              0.2222222222222222,
              "#7201a8"
             ],
             [
              0.3333333333333333,
              "#9c179e"
             ],
             [
              0.4444444444444444,
              "#bd3786"
             ],
             [
              0.5555555555555556,
              "#d8576b"
             ],
             [
              0.6666666666666666,
              "#ed7953"
             ],
             [
              0.7777777777777778,
              "#fb9f3a"
             ],
             [
              0.8888888888888888,
              "#fdca26"
             ],
             [
              1,
              "#f0f921"
             ]
            ],
            "type": "heatmap"
           }
          ],
          "heatmapgl": [
           {
            "colorbar": {
             "outlinewidth": 0,
             "ticks": ""
            },
            "colorscale": [
             [
              0,
              "#0d0887"
             ],
             [
              0.1111111111111111,
              "#46039f"
             ],
             [
              0.2222222222222222,
              "#7201a8"
             ],
             [
              0.3333333333333333,
              "#9c179e"
             ],
             [
              0.4444444444444444,
              "#bd3786"
             ],
             [
              0.5555555555555556,
              "#d8576b"
             ],
             [
              0.6666666666666666,
              "#ed7953"
             ],
             [
              0.7777777777777778,
              "#fb9f3a"
             ],
             [
              0.8888888888888888,
              "#fdca26"
             ],
             [
              1,
              "#f0f921"
             ]
            ],
            "type": "heatmapgl"
           }
          ],
          "histogram": [
           {
            "marker": {
             "pattern": {
              "fillmode": "overlay",
              "size": 10,
              "solidity": 0.2
             }
            },
            "type": "histogram"
           }
          ],
          "histogram2d": [
           {
            "colorbar": {
             "outlinewidth": 0,
             "ticks": ""
            },
            "colorscale": [
             [
              0,
              "#0d0887"
             ],
             [
              0.1111111111111111,
              "#46039f"
             ],
             [
              0.2222222222222222,
              "#7201a8"
             ],
             [
              0.3333333333333333,
              "#9c179e"
             ],
             [
              0.4444444444444444,
              "#bd3786"
             ],
             [
              0.5555555555555556,
              "#d8576b"
             ],
             [
              0.6666666666666666,
              "#ed7953"
             ],
             [
              0.7777777777777778,
              "#fb9f3a"
             ],
             [
              0.8888888888888888,
              "#fdca26"
             ],
             [
              1,
              "#f0f921"
             ]
            ],
            "type": "histogram2d"
           }
          ],
          "histogram2dcontour": [
           {
            "colorbar": {
             "outlinewidth": 0,
             "ticks": ""
            },
            "colorscale": [
             [
              0,
              "#0d0887"
             ],
             [
              0.1111111111111111,
              "#46039f"
             ],
             [
              0.2222222222222222,
              "#7201a8"
             ],
             [
              0.3333333333333333,
              "#9c179e"
             ],
             [
              0.4444444444444444,
              "#bd3786"
             ],
             [
              0.5555555555555556,
              "#d8576b"
             ],
             [
              0.6666666666666666,
              "#ed7953"
             ],
             [
              0.7777777777777778,
              "#fb9f3a"
             ],
             [
              0.8888888888888888,
              "#fdca26"
             ],
             [
              1,
              "#f0f921"
             ]
            ],
            "type": "histogram2dcontour"
           }
          ],
          "mesh3d": [
           {
            "colorbar": {
             "outlinewidth": 0,
             "ticks": ""
            },
            "type": "mesh3d"
           }
          ],
          "parcoords": [
           {
            "line": {
             "colorbar": {
              "outlinewidth": 0,
              "ticks": ""
             }
            },
            "type": "parcoords"
           }
          ],
          "pie": [
           {
            "automargin": true,
            "type": "pie"
           }
          ],
          "scatter": [
           {
            "marker": {
             "colorbar": {
              "outlinewidth": 0,
              "ticks": ""
             }
            },
            "type": "scatter"
           }
          ],
          "scatter3d": [
           {
            "line": {
             "colorbar": {
              "outlinewidth": 0,
              "ticks": ""
             }
            },
            "marker": {
             "colorbar": {
              "outlinewidth": 0,
              "ticks": ""
             }
            },
            "type": "scatter3d"
           }
          ],
          "scattercarpet": [
           {
            "marker": {
             "colorbar": {
              "outlinewidth": 0,
              "ticks": ""
             }
            },
            "type": "scattercarpet"
           }
          ],
          "scattergeo": [
           {
            "marker": {
             "colorbar": {
              "outlinewidth": 0,
              "ticks": ""
             }
            },
            "type": "scattergeo"
           }
          ],
          "scattergl": [
           {
            "marker": {
             "colorbar": {
              "outlinewidth": 0,
              "ticks": ""
             }
            },
            "type": "scattergl"
           }
          ],
          "scattermapbox": [
           {
            "marker": {
             "colorbar": {
              "outlinewidth": 0,
              "ticks": ""
             }
            },
            "type": "scattermapbox"
           }
          ],
          "scatterpolar": [
           {
            "marker": {
             "colorbar": {
              "outlinewidth": 0,
              "ticks": ""
             }
            },
            "type": "scatterpolar"
           }
          ],
          "scatterpolargl": [
           {
            "marker": {
             "colorbar": {
              "outlinewidth": 0,
              "ticks": ""
             }
            },
            "type": "scatterpolargl"
           }
          ],
          "scatterternary": [
           {
            "marker": {
             "colorbar": {
              "outlinewidth": 0,
              "ticks": ""
             }
            },
            "type": "scatterternary"
           }
          ],
          "surface": [
           {
            "colorbar": {
             "outlinewidth": 0,
             "ticks": ""
            },
            "colorscale": [
             [
              0,
              "#0d0887"
             ],
             [
              0.1111111111111111,
              "#46039f"
             ],
             [
              0.2222222222222222,
              "#7201a8"
             ],
             [
              0.3333333333333333,
              "#9c179e"
             ],
             [
              0.4444444444444444,
              "#bd3786"
             ],
             [
              0.5555555555555556,
              "#d8576b"
             ],
             [
              0.6666666666666666,
              "#ed7953"
             ],
             [
              0.7777777777777778,
              "#fb9f3a"
             ],
             [
              0.8888888888888888,
              "#fdca26"
             ],
             [
              1,
              "#f0f921"
             ]
            ],
            "type": "surface"
           }
          ],
          "table": [
           {
            "cells": {
             "fill": {
              "color": "#EBF0F8"
             },
             "line": {
              "color": "white"
             }
            },
            "header": {
             "fill": {
              "color": "#C8D4E3"
             },
             "line": {
              "color": "white"
             }
            },
            "type": "table"
           }
          ]
         },
         "layout": {
          "annotationdefaults": {
           "arrowcolor": "#2a3f5f",
           "arrowhead": 0,
           "arrowwidth": 1
          },
          "autotypenumbers": "strict",
          "coloraxis": {
           "colorbar": {
            "outlinewidth": 0,
            "ticks": ""
           }
          },
          "colorscale": {
           "diverging": [
            [
             0,
             "#8e0152"
            ],
            [
             0.1,
             "#c51b7d"
            ],
            [
             0.2,
             "#de77ae"
            ],
            [
             0.3,
             "#f1b6da"
            ],
            [
             0.4,
             "#fde0ef"
            ],
            [
             0.5,
             "#f7f7f7"
            ],
            [
             0.6,
             "#e6f5d0"
            ],
            [
             0.7,
             "#b8e186"
            ],
            [
             0.8,
             "#7fbc41"
            ],
            [
             0.9,
             "#4d9221"
            ],
            [
             1,
             "#276419"
            ]
           ],
           "sequential": [
            [
             0,
             "#0d0887"
            ],
            [
             0.1111111111111111,
             "#46039f"
            ],
            [
             0.2222222222222222,
             "#7201a8"
            ],
            [
             0.3333333333333333,
             "#9c179e"
            ],
            [
             0.4444444444444444,
             "#bd3786"
            ],
            [
             0.5555555555555556,
             "#d8576b"
            ],
            [
             0.6666666666666666,
             "#ed7953"
            ],
            [
             0.7777777777777778,
             "#fb9f3a"
            ],
            [
             0.8888888888888888,
             "#fdca26"
            ],
            [
             1,
             "#f0f921"
            ]
           ],
           "sequentialminus": [
            [
             0,
             "#0d0887"
            ],
            [
             0.1111111111111111,
             "#46039f"
            ],
            [
             0.2222222222222222,
             "#7201a8"
            ],
            [
             0.3333333333333333,
             "#9c179e"
            ],
            [
             0.4444444444444444,
             "#bd3786"
            ],
            [
             0.5555555555555556,
             "#d8576b"
            ],
            [
             0.6666666666666666,
             "#ed7953"
            ],
            [
             0.7777777777777778,
             "#fb9f3a"
            ],
            [
             0.8888888888888888,
             "#fdca26"
            ],
            [
             1,
             "#f0f921"
            ]
           ]
          },
          "colorway": [
           "#636efa",
           "#EF553B",
           "#00cc96",
           "#ab63fa",
           "#FFA15A",
           "#19d3f3",
           "#FF6692",
           "#B6E880",
           "#FF97FF",
           "#FECB52"
          ],
          "font": {
           "color": "#2a3f5f"
          },
          "geo": {
           "bgcolor": "white",
           "lakecolor": "white",
           "landcolor": "#E5ECF6",
           "showlakes": true,
           "showland": true,
           "subunitcolor": "white"
          },
          "hoverlabel": {
           "align": "left"
          },
          "hovermode": "closest",
          "mapbox": {
           "style": "light"
          },
          "paper_bgcolor": "white",
          "plot_bgcolor": "#E5ECF6",
          "polar": {
           "angularaxis": {
            "gridcolor": "white",
            "linecolor": "white",
            "ticks": ""
           },
           "bgcolor": "#E5ECF6",
           "radialaxis": {
            "gridcolor": "white",
            "linecolor": "white",
            "ticks": ""
           }
          },
          "scene": {
           "xaxis": {
            "backgroundcolor": "#E5ECF6",
            "gridcolor": "white",
            "gridwidth": 2,
            "linecolor": "white",
            "showbackground": true,
            "ticks": "",
            "zerolinecolor": "white"
           },
           "yaxis": {
            "backgroundcolor": "#E5ECF6",
            "gridcolor": "white",
            "gridwidth": 2,
            "linecolor": "white",
            "showbackground": true,
            "ticks": "",
            "zerolinecolor": "white"
           },
           "zaxis": {
            "backgroundcolor": "#E5ECF6",
            "gridcolor": "white",
            "gridwidth": 2,
            "linecolor": "white",
            "showbackground": true,
            "ticks": "",
            "zerolinecolor": "white"
           }
          },
          "shapedefaults": {
           "line": {
            "color": "#2a3f5f"
           }
          },
          "ternary": {
           "aaxis": {
            "gridcolor": "white",
            "linecolor": "white",
            "ticks": ""
           },
           "baxis": {
            "gridcolor": "white",
            "linecolor": "white",
            "ticks": ""
           },
           "bgcolor": "#E5ECF6",
           "caxis": {
            "gridcolor": "white",
            "linecolor": "white",
            "ticks": ""
           }
          },
          "title": {
           "x": 0.05
          },
          "xaxis": {
           "automargin": true,
           "gridcolor": "white",
           "linecolor": "white",
           "ticks": "",
           "title": {
            "standoff": 15
           },
           "zerolinecolor": "white",
           "zerolinewidth": 2
          },
          "yaxis": {
           "automargin": true,
           "gridcolor": "white",
           "linecolor": "white",
           "ticks": "",
           "title": {
            "standoff": 15
           },
           "zerolinecolor": "white",
           "zerolinewidth": 2
          }
         }
        },
        "title": {
         "text": "Customizing Subplot Axes"
        },
        "width": 1000,
        "xaxis": {
         "anchor": "y",
         "domain": [
          0,
          0.45
         ]
        },
        "xaxis2": {
         "anchor": "y2",
         "domain": [
          0.55,
          1
         ]
        },
        "xaxis3": {
         "anchor": "y3",
         "domain": [
          0,
          0.45
         ]
        },
        "xaxis4": {
         "anchor": "y4",
         "domain": [
          0.55,
          1
         ]
        },
        "yaxis": {
         "anchor": "x",
         "domain": [
          0.625,
          1
         ],
         "title": {
          "text": "百万円"
         }
        },
        "yaxis2": {
         "anchor": "x2",
         "domain": [
          0.625,
          1
         ],
         "title": {
          "text": "人数"
         }
        },
        "yaxis3": {
         "anchor": "x3",
         "domain": [
          0,
          0.375
         ],
         "title": {
          "text": "千円"
         }
        },
        "yaxis4": {
         "anchor": "x4",
         "domain": [
          0,
          0.375
         ]
        }
       }
      },
      "text/html": [
       "<div>                            <div id=\"78a6945e-b316-4838-be96-6820cfd24781\" class=\"plotly-graph-div\" style=\"height:1100px; width:1000px;\"></div>            <script type=\"text/javascript\">                require([\"plotly\"], function(Plotly) {                    window.PLOTLYENV=window.PLOTLYENV || {};                                    if (document.getElementById(\"78a6945e-b316-4838-be96-6820cfd24781\")) {                    Plotly.newPlot(                        \"78a6945e-b316-4838-be96-6820cfd24781\",                        [{\"x\":[\"\\u77f3\\u6cb9\\u30fb\\u77f3\\u70ad\\u30fb\\uff8c\\uff9f\\uff97\\uff7d\\uff81\\uff6f\\uff78\\u88fd\\u54c1\\u88fd\\u9020\\u696d\",\"\\u6620\\u50cf\\u30fb\\u97f3\\u58f0\\u60c5\\u5831\\u5236\\u4f5c\\u30fb\\u653e\\u9001\\u30fb\\u901a\\u4fe1\\u696d\",\"\\u8f38\\u9001\\u7528\\u6a5f\\u68b0\\u5668\\u5177\\u88fd\\u9020\\u696d\",\"\\u91d1\\u878d\\u696d\\u30fb\\u4fdd\\u967a\\u696d\",\"\\u96fb\\u6c17\\u30fb\\u30ac\\u30b9\\u30fb\\u71b1\\u4f9b\\u7d66\\u30fb\\u6c34\\u9053\\u696d\",\"\\u60c5\\u5831\\u901a\\u4fe1\\u6a5f\\u68b0\\u5668\\u5177\\u88fd\\u9020\\u696d\",\"\\u9244\\u92fc\\u696d\",\"\\u5316\\u5b66\\u5de5\\u696d\",\"\\u96fb\\u6c17\\u6a5f\\u68b0\\u5668\\u5177\\u88fd\\u9020\\u696d\",\"\\u60c5\\u5831\\u30b5\\u30fc\\u30d3\\u30b9\\u696d\",\"\\u305d\\u306e\\u4ed6\\u6a5f\\u68b0\\u5668\\u5177\\u88fd\\u9020\\u696d\",\"\\u305d\\u306e\\u4ed6\\u306e\\u88fd\\u9020\\u696d\",\"\\u5378\\u58f2\\u696d\",\"\\u904b\\u8f38\\u696d\\u30fb\\u90f5\\u4fbf\\u696d\",\"\\u975e\\u9244\\u91d1\\u5c5e\\u88fd\\u54c1\\u30fb\\u91d1\\u5c5e\\u88fd\\u54c1\\u88fd\\u9020\\u696d\",\"\\u98df\\u6599\\u54c1\\u3001\\u98f2\\u6599\\u30fb\\u305f\\u3070\\u3053\\u30fb\\u98fc\\u6599\\u88fd\\u9020\\u696d\",\"\\u7aaf\\u696d\\u30fb\\u571f\\u77f3\\u88fd\\u54c1\\u88fd\\u9020\\u696d\",\"\\u65b0\\u805e\\u30fb\\u51fa\\u7248\\u696d\",\"\\u5c0f\\u58f2\\u696d\",\"\\u30d1\\u30eb\\u30d7\\u30fb\\u7d19\\u30fb\\u7d19\\u52a0\\u5de5\\u54c1\\u88fd\\u9020\\u696d\",\"\\u305d\\u306e\\u4ed6\\u306e\\u975e\\u88fd\\u9020\\u696d\",\"\\u5efa\\u8a2d\\u696d\",\"\\u533b\\u7642\\u696d\\uff08\\u56fd\\u30fb\\u516c\\u7acb\\u9664\\u304f\\uff09\",\"\\u7e4a\\u7dad\\u5de5\\u696d\",\"\\u6559\\u80b2\\uff08\\u56fd\\u30fb\\u516c\\u7acb\\u9664\\u304f\\uff09\\u3001\\u5b66\\u7fd2\\u652f\\u63f4\\u696d\",\"\\u8fb2\\u6797\\u6f01\\u696d\\u30fb\\u540c\\u5354\\u540c\\u7d44\\u5408\\u3001\\u9271\\u696d\"],\"y\":[4778.227272727273,4433.318181818182,3855.5178571428573,3163.214492753623,2435.2105263157896,1883.5875000000003,1746.3157894736842,1405.7083333333333,1182.388888888889,769.0294736842105,737.016129032258,709.078947368421,678.5035460992908,622.4555555555556,606.7051282051282,529.336142857143,434.1111111111111,433.57142857142856,422.2625,383.9230769230769,296.24004474272937,267.85310734463275,179.66666666666666,36.22222222222222,26.5,14.75],\"type\":\"bar\",\"xaxis\":\"x\",\"yaxis\":\"y\"},{\"x\":[\"\\u8f38\\u9001\\u7528\\u6a5f\\u68b0\\u5668\\u5177\\u88fd\\u9020\\u696d\",\"\\u9244\\u92fc\\u696d\",\"\\u96fb\\u6c17\\u6a5f\\u68b0\\u5668\\u5177\\u88fd\\u9020\\u696d\",\"\\u5316\\u5b66\\u5de5\\u696d\",\"\\u91d1\\u878d\\u696d\\u30fb\\u4fdd\\u967a\\u696d\",\"\\u5c0f\\u58f2\\u696d\",\"\\u904b\\u8f38\\u696d\\u30fb\\u90f5\\u4fbf\\u696d\",\"\\u60c5\\u5831\\u901a\\u4fe1\\u6a5f\\u68b0\\u5668\\u5177\\u88fd\\u9020\\u696d\",\"\\u96fb\\u6c17\\u30fb\\u30ac\\u30b9\\u30fb\\u71b1\\u4f9b\\u7d66\\u30fb\\u6c34\\u9053\\u696d\",\"\\u975e\\u9244\\u91d1\\u5c5e\\u88fd\\u54c1\\u30fb\\u91d1\\u5c5e\\u88fd\\u54c1\\u88fd\\u9020\\u696d\",\"\\u98df\\u6599\\u54c1\\u3001\\u98f2\\u6599\\u30fb\\u305f\\u3070\\u3053\\u30fb\\u98fc\\u6599\\u88fd\\u9020\\u696d\",\"\\u305d\\u306e\\u4ed6\\u306e\\u88fd\\u9020\\u696d\",\"\\u305d\\u306e\\u4ed6\\u6a5f\\u68b0\\u5668\\u5177\\u88fd\\u9020\\u696d\",\"\\u30d1\\u30eb\\u30d7\\u30fb\\u7d19\\u30fb\\u7d19\\u52a0\\u5de5\\u54c1\\u88fd\\u9020\\u696d\",\"\\u305d\\u306e\\u4ed6\\u306e\\u975e\\u88fd\\u9020\\u696d\",\"\\u6620\\u50cf\\u30fb\\u97f3\\u58f0\\u60c5\\u5831\\u5236\\u4f5c\\u30fb\\u653e\\u9001\\u30fb\\u901a\\u4fe1\\u696d\",\"\\u5efa\\u8a2d\\u696d\",\"\\u5378\\u58f2\\u696d\",\"\\u7aaf\\u696d\\u30fb\\u571f\\u77f3\\u88fd\\u54c1\\u88fd\\u9020\\u696d\",\"\\u65b0\\u805e\\u30fb\\u51fa\\u7248\\u696d\",\"\\u60c5\\u5831\\u30b5\\u30fc\\u30d3\\u30b9\\u696d\",\"\\u77f3\\u6cb9\\u30fb\\u77f3\\u70ad\\u30fb\\uff8c\\uff9f\\uff97\\uff7d\\uff81\\uff6f\\uff78\\u88fd\\u54c1\\u88fd\\u9020\\u696d\",\"\\u533b\\u7642\\u696d\\uff08\\u56fd\\u30fb\\u516c\\u7acb\\u9664\\u304f\\uff09\",\"\\u6559\\u80b2\\uff08\\u56fd\\u30fb\\u516c\\u7acb\\u9664\\u304f\\uff09\\u3001\\u5b66\\u7fd2\\u652f\\u63f4\\u696d\",\"\\u7e4a\\u7dad\\u5de5\\u696d\",\"\\u8fb2\\u6797\\u6f01\\u696d\\u30fb\\u540c\\u5354\\u540c\\u7d44\\u5408\\u3001\\u9271\\u696d\"],\"y\":[4967.446428571428,4178.0526315789475,2602.4166666666665,2504.1666666666665,2305.231884057971,2282.875,2236.8282828282827,1981.6875,1886.1052631578948,1828.4358974358975,1679.3857142857144,1337.0526315789473,1300.1129032258063,1255.8461538461538,1190.5503355704698,899.2727272727273,875.1638418079096,856.7517730496454,838.7777777777778,811.9285714285714,797.8526315789474,784.8636363636364,650.6666666666666,576.125,492.22222222222223,140.5],\"type\":\"bar\",\"xaxis\":\"x2\",\"yaxis\":\"y2\"},{\"x\":[\"\\u77f3\\u6cb9\\u30fb\\u77f3\\u70ad\\u30fb\\uff8c\\uff9f\\uff97\\uff7d\\uff81\\uff6f\\uff78\\u88fd\\u54c1\\u88fd\\u9020\\u696d\",\"\\u6620\\u50cf\\u30fb\\u97f3\\u58f0\\u60c5\\u5831\\u5236\\u4f5c\\u30fb\\u653e\\u9001\\u30fb\\u901a\\u4fe1\\u696d\",\"\\u91d1\\u878d\\u696d\\u30fb\\u4fdd\\u967a\\u696d\",\"\\u96fb\\u6c17\\u30fb\\u30ac\\u30b9\\u30fb\\u71b1\\u4f9b\\u7d66\\u30fb\\u6c34\\u9053\\u696d\",\"\\u60c5\\u5831\\u30b5\\u30fc\\u30d3\\u30b9\\u696d\",\"\\u60c5\\u5831\\u901a\\u4fe1\\u6a5f\\u68b0\\u5668\\u5177\\u88fd\\u9020\\u696d\",\"\\u5378\\u58f2\\u696d\",\"\\u8f38\\u9001\\u7528\\u6a5f\\u68b0\\u5668\\u5177\\u88fd\\u9020\\u696d\",\"\\u305d\\u306e\\u4ed6\\u6a5f\\u68b0\\u5668\\u5177\\u88fd\\u9020\\u696d\",\"\\u5316\\u5b66\\u5de5\\u696d\",\"\\u65b0\\u805e\\u30fb\\u51fa\\u7248\\u696d\",\"\\u305d\\u306e\\u4ed6\\u306e\\u88fd\\u9020\\u696d\",\"\\u7aaf\\u696d\\u30fb\\u571f\\u77f3\\u88fd\\u54c1\\u88fd\\u9020\\u696d\",\"\\u96fb\\u6c17\\u6a5f\\u68b0\\u5668\\u5177\\u88fd\\u9020\\u696d\",\"\\u9244\\u92fc\\u696d\",\"\\u975e\\u9244\\u91d1\\u5c5e\\u88fd\\u54c1\\u30fb\\u91d1\\u5c5e\\u88fd\\u54c1\\u88fd\\u9020\\u696d\",\"\\u98df\\u6599\\u54c1\\u3001\\u98f2\\u6599\\u30fb\\u305f\\u3070\\u3053\\u30fb\\u98fc\\u6599\\u88fd\\u9020\\u696d\",\"\\u5efa\\u8a2d\\u696d\",\"\\u30d1\\u30eb\\u30d7\\u30fb\\u7d19\\u30fb\\u7d19\\u52a0\\u5de5\\u54c1\\u88fd\\u9020\\u696d\",\"\\u904b\\u8f38\\u696d\\u30fb\\u90f5\\u4fbf\\u696d\",\"\\u533b\\u7642\\u696d\\uff08\\u56fd\\u30fb\\u516c\\u7acb\\u9664\\u304f\\uff09\",\"\\u305d\\u306e\\u4ed6\\u306e\\u975e\\u88fd\\u9020\\u696d\",\"\\u5c0f\\u58f2\\u696d\",\"\\u8fb2\\u6797\\u6f01\\u696d\\u30fb\\u540c\\u5354\\u540c\\u7d44\\u5408\\u3001\\u9271\\u696d\",\"\\u7e4a\\u7dad\\u5de5\\u696d\",\"\\u6559\\u80b2\\uff08\\u56fd\\u30fb\\u516c\\u7acb\\u9664\\u304f\\uff09\\u3001\\u5b66\\u7fd2\\u652f\\u63f4\\u696d\"],\"y\":[6087.971274685817,4929.892842701172,1372.189285871458,1291.1318227480747,963.8740830650694,950.4967357365883,791.9488087945564,776.1569072928388,566.8862505737715,561.3477537437604,534.0019354271135,530.3298693119194,517.5519936415419,454.3426515952054,417.97362155625257,331.8164607553044,315.1962877582789,306.06052781077307,305.7086855322798,278.27596795607064,276.1270491803279,248.82614022428675,184.96961068827684,104.98220640569394,73.58916478555305,45.99696246474289],\"type\":\"bar\",\"xaxis\":\"x3\",\"yaxis\":\"y3\"}],                        {\"template\":{\"data\":{\"bar\":[{\"error_x\":{\"color\":\"#2a3f5f\"},\"error_y\":{\"color\":\"#2a3f5f\"},\"marker\":{\"line\":{\"color\":\"#E5ECF6\",\"width\":0.5},\"pattern\":{\"fillmode\":\"overlay\",\"size\":10,\"solidity\":0.2}},\"type\":\"bar\"}],\"barpolar\":[{\"marker\":{\"line\":{\"color\":\"#E5ECF6\",\"width\":0.5},\"pattern\":{\"fillmode\":\"overlay\",\"size\":10,\"solidity\":0.2}},\"type\":\"barpolar\"}],\"carpet\":[{\"aaxis\":{\"endlinecolor\":\"#2a3f5f\",\"gridcolor\":\"white\",\"linecolor\":\"white\",\"minorgridcolor\":\"white\",\"startlinecolor\":\"#2a3f5f\"},\"baxis\":{\"endlinecolor\":\"#2a3f5f\",\"gridcolor\":\"white\",\"linecolor\":\"white\",\"minorgridcolor\":\"white\",\"startlinecolor\":\"#2a3f5f\"},\"type\":\"carpet\"}],\"choropleth\":[{\"colorbar\":{\"outlinewidth\":0,\"ticks\":\"\"},\"type\":\"choropleth\"}],\"contour\":[{\"colorbar\":{\"outlinewidth\":0,\"ticks\":\"\"},\"colorscale\":[[0.0,\"#0d0887\"],[0.1111111111111111,\"#46039f\"],[0.2222222222222222,\"#7201a8\"],[0.3333333333333333,\"#9c179e\"],[0.4444444444444444,\"#bd3786\"],[0.5555555555555556,\"#d8576b\"],[0.6666666666666666,\"#ed7953\"],[0.7777777777777778,\"#fb9f3a\"],[0.8888888888888888,\"#fdca26\"],[1.0,\"#f0f921\"]],\"type\":\"contour\"}],\"contourcarpet\":[{\"colorbar\":{\"outlinewidth\":0,\"ticks\":\"\"},\"type\":\"contourcarpet\"}],\"heatmap\":[{\"colorbar\":{\"outlinewidth\":0,\"ticks\":\"\"},\"colorscale\":[[0.0,\"#0d0887\"],[0.1111111111111111,\"#46039f\"],[0.2222222222222222,\"#7201a8\"],[0.3333333333333333,\"#9c179e\"],[0.4444444444444444,\"#bd3786\"],[0.5555555555555556,\"#d8576b\"],[0.6666666666666666,\"#ed7953\"],[0.7777777777777778,\"#fb9f3a\"],[0.8888888888888888,\"#fdca26\"],[1.0,\"#f0f921\"]],\"type\":\"heatmap\"}],\"heatmapgl\":[{\"colorbar\":{\"outlinewidth\":0,\"ticks\":\"\"},\"colorscale\":[[0.0,\"#0d0887\"],[0.1111111111111111,\"#46039f\"],[0.2222222222222222,\"#7201a8\"],[0.3333333333333333,\"#9c179e\"],[0.4444444444444444,\"#bd3786\"],[0.5555555555555556,\"#d8576b\"],[0.6666666666666666,\"#ed7953\"],[0.7777777777777778,\"#fb9f3a\"],[0.8888888888888888,\"#fdca26\"],[1.0,\"#f0f921\"]],\"type\":\"heatmapgl\"}],\"histogram\":[{\"marker\":{\"pattern\":{\"fillmode\":\"overlay\",\"size\":10,\"solidity\":0.2}},\"type\":\"histogram\"}],\"histogram2d\":[{\"colorbar\":{\"outlinewidth\":0,\"ticks\":\"\"},\"colorscale\":[[0.0,\"#0d0887\"],[0.1111111111111111,\"#46039f\"],[0.2222222222222222,\"#7201a8\"],[0.3333333333333333,\"#9c179e\"],[0.4444444444444444,\"#bd3786\"],[0.5555555555555556,\"#d8576b\"],[0.6666666666666666,\"#ed7953\"],[0.7777777777777778,\"#fb9f3a\"],[0.8888888888888888,\"#fdca26\"],[1.0,\"#f0f921\"]],\"type\":\"histogram2d\"}],\"histogram2dcontour\":[{\"colorbar\":{\"outlinewidth\":0,\"ticks\":\"\"},\"colorscale\":[[0.0,\"#0d0887\"],[0.1111111111111111,\"#46039f\"],[0.2222222222222222,\"#7201a8\"],[0.3333333333333333,\"#9c179e\"],[0.4444444444444444,\"#bd3786\"],[0.5555555555555556,\"#d8576b\"],[0.6666666666666666,\"#ed7953\"],[0.7777777777777778,\"#fb9f3a\"],[0.8888888888888888,\"#fdca26\"],[1.0,\"#f0f921\"]],\"type\":\"histogram2dcontour\"}],\"mesh3d\":[{\"colorbar\":{\"outlinewidth\":0,\"ticks\":\"\"},\"type\":\"mesh3d\"}],\"parcoords\":[{\"line\":{\"colorbar\":{\"outlinewidth\":0,\"ticks\":\"\"}},\"type\":\"parcoords\"}],\"pie\":[{\"automargin\":true,\"type\":\"pie\"}],\"scatter\":[{\"marker\":{\"colorbar\":{\"outlinewidth\":0,\"ticks\":\"\"}},\"type\":\"scatter\"}],\"scatter3d\":[{\"line\":{\"colorbar\":{\"outlinewidth\":0,\"ticks\":\"\"}},\"marker\":{\"colorbar\":{\"outlinewidth\":0,\"ticks\":\"\"}},\"type\":\"scatter3d\"}],\"scattercarpet\":[{\"marker\":{\"colorbar\":{\"outlinewidth\":0,\"ticks\":\"\"}},\"type\":\"scattercarpet\"}],\"scattergeo\":[{\"marker\":{\"colorbar\":{\"outlinewidth\":0,\"ticks\":\"\"}},\"type\":\"scattergeo\"}],\"scattergl\":[{\"marker\":{\"colorbar\":{\"outlinewidth\":0,\"ticks\":\"\"}},\"type\":\"scattergl\"}],\"scattermapbox\":[{\"marker\":{\"colorbar\":{\"outlinewidth\":0,\"ticks\":\"\"}},\"type\":\"scattermapbox\"}],\"scatterpolar\":[{\"marker\":{\"colorbar\":{\"outlinewidth\":0,\"ticks\":\"\"}},\"type\":\"scatterpolar\"}],\"scatterpolargl\":[{\"marker\":{\"colorbar\":{\"outlinewidth\":0,\"ticks\":\"\"}},\"type\":\"scatterpolargl\"}],\"scatterternary\":[{\"marker\":{\"colorbar\":{\"outlinewidth\":0,\"ticks\":\"\"}},\"type\":\"scatterternary\"}],\"surface\":[{\"colorbar\":{\"outlinewidth\":0,\"ticks\":\"\"},\"colorscale\":[[0.0,\"#0d0887\"],[0.1111111111111111,\"#46039f\"],[0.2222222222222222,\"#7201a8\"],[0.3333333333333333,\"#9c179e\"],[0.4444444444444444,\"#bd3786\"],[0.5555555555555556,\"#d8576b\"],[0.6666666666666666,\"#ed7953\"],[0.7777777777777778,\"#fb9f3a\"],[0.8888888888888888,\"#fdca26\"],[1.0,\"#f0f921\"]],\"type\":\"surface\"}],\"table\":[{\"cells\":{\"fill\":{\"color\":\"#EBF0F8\"},\"line\":{\"color\":\"white\"}},\"header\":{\"fill\":{\"color\":\"#C8D4E3\"},\"line\":{\"color\":\"white\"}},\"type\":\"table\"}]},\"layout\":{\"annotationdefaults\":{\"arrowcolor\":\"#2a3f5f\",\"arrowhead\":0,\"arrowwidth\":1},\"autotypenumbers\":\"strict\",\"coloraxis\":{\"colorbar\":{\"outlinewidth\":0,\"ticks\":\"\"}},\"colorscale\":{\"diverging\":[[0,\"#8e0152\"],[0.1,\"#c51b7d\"],[0.2,\"#de77ae\"],[0.3,\"#f1b6da\"],[0.4,\"#fde0ef\"],[0.5,\"#f7f7f7\"],[0.6,\"#e6f5d0\"],[0.7,\"#b8e186\"],[0.8,\"#7fbc41\"],[0.9,\"#4d9221\"],[1,\"#276419\"]],\"sequential\":[[0.0,\"#0d0887\"],[0.1111111111111111,\"#46039f\"],[0.2222222222222222,\"#7201a8\"],[0.3333333333333333,\"#9c179e\"],[0.4444444444444444,\"#bd3786\"],[0.5555555555555556,\"#d8576b\"],[0.6666666666666666,\"#ed7953\"],[0.7777777777777778,\"#fb9f3a\"],[0.8888888888888888,\"#fdca26\"],[1.0,\"#f0f921\"]],\"sequentialminus\":[[0.0,\"#0d0887\"],[0.1111111111111111,\"#46039f\"],[0.2222222222222222,\"#7201a8\"],[0.3333333333333333,\"#9c179e\"],[0.4444444444444444,\"#bd3786\"],[0.5555555555555556,\"#d8576b\"],[0.6666666666666666,\"#ed7953\"],[0.7777777777777778,\"#fb9f3a\"],[0.8888888888888888,\"#fdca26\"],[1.0,\"#f0f921\"]]},\"colorway\":[\"#636efa\",\"#EF553B\",\"#00cc96\",\"#ab63fa\",\"#FFA15A\",\"#19d3f3\",\"#FF6692\",\"#B6E880\",\"#FF97FF\",\"#FECB52\"],\"font\":{\"color\":\"#2a3f5f\"},\"geo\":{\"bgcolor\":\"white\",\"lakecolor\":\"white\",\"landcolor\":\"#E5ECF6\",\"showlakes\":true,\"showland\":true,\"subunitcolor\":\"white\"},\"hoverlabel\":{\"align\":\"left\"},\"hovermode\":\"closest\",\"mapbox\":{\"style\":\"light\"},\"paper_bgcolor\":\"white\",\"plot_bgcolor\":\"#E5ECF6\",\"polar\":{\"angularaxis\":{\"gridcolor\":\"white\",\"linecolor\":\"white\",\"ticks\":\"\"},\"bgcolor\":\"#E5ECF6\",\"radialaxis\":{\"gridcolor\":\"white\",\"linecolor\":\"white\",\"ticks\":\"\"}},\"scene\":{\"xaxis\":{\"backgroundcolor\":\"#E5ECF6\",\"gridcolor\":\"white\",\"gridwidth\":2,\"linecolor\":\"white\",\"showbackground\":true,\"ticks\":\"\",\"zerolinecolor\":\"white\"},\"yaxis\":{\"backgroundcolor\":\"#E5ECF6\",\"gridcolor\":\"white\",\"gridwidth\":2,\"linecolor\":\"white\",\"showbackground\":true,\"ticks\":\"\",\"zerolinecolor\":\"white\"},\"zaxis\":{\"backgroundcolor\":\"#E5ECF6\",\"gridcolor\":\"white\",\"gridwidth\":2,\"linecolor\":\"white\",\"showbackground\":true,\"ticks\":\"\",\"zerolinecolor\":\"white\"}},\"shapedefaults\":{\"line\":{\"color\":\"#2a3f5f\"}},\"ternary\":{\"aaxis\":{\"gridcolor\":\"white\",\"linecolor\":\"white\",\"ticks\":\"\"},\"baxis\":{\"gridcolor\":\"white\",\"linecolor\":\"white\",\"ticks\":\"\"},\"bgcolor\":\"#E5ECF6\",\"caxis\":{\"gridcolor\":\"white\",\"linecolor\":\"white\",\"ticks\":\"\"}},\"title\":{\"x\":0.05},\"xaxis\":{\"automargin\":true,\"gridcolor\":\"white\",\"linecolor\":\"white\",\"ticks\":\"\",\"title\":{\"standoff\":15},\"zerolinecolor\":\"white\",\"zerolinewidth\":2},\"yaxis\":{\"automargin\":true,\"gridcolor\":\"white\",\"linecolor\":\"white\",\"ticks\":\"\",\"title\":{\"standoff\":15},\"zerolinecolor\":\"white\",\"zerolinewidth\":2}}},\"xaxis\":{\"anchor\":\"y\",\"domain\":[0.0,0.45]},\"yaxis\":{\"anchor\":\"x\",\"domain\":[0.625,1.0],\"title\":{\"text\":\"\\u767e\\u4e07\\u5186\"}},\"xaxis2\":{\"anchor\":\"y2\",\"domain\":[0.55,1.0]},\"yaxis2\":{\"anchor\":\"x2\",\"domain\":[0.625,1.0],\"title\":{\"text\":\"\\u4eba\\u6570\"}},\"xaxis3\":{\"anchor\":\"y3\",\"domain\":[0.0,0.45]},\"yaxis3\":{\"anchor\":\"x3\",\"domain\":[0.0,0.375],\"title\":{\"text\":\"\\u5343\\u5186\"}},\"xaxis4\":{\"anchor\":\"y4\",\"domain\":[0.55,1.0]},\"yaxis4\":{\"anchor\":\"x4\",\"domain\":[0.0,0.375]},\"annotations\":[{\"font\":{\"size\":16},\"showarrow\":false,\"text\":\"1. It\\u95a2\\u4fc2\\u8af8\\u7d4c\\u8cbb\",\"x\":0.225,\"xanchor\":\"center\",\"xref\":\"paper\",\"y\":1.0,\"yanchor\":\"bottom\",\"yref\":\"paper\"},{\"font\":{\"size\":16},\"showarrow\":false,\"text\":\"2. \\u7dcf\\u5f93\\u696d\\u54e1\\u6570\",\"x\":0.775,\"xanchor\":\"center\",\"xref\":\"paper\",\"y\":1.0,\"yanchor\":\"bottom\",\"yref\":\"paper\"},{\"font\":{\"size\":16},\"showarrow\":false,\"text\":\"3. \\u4e00\\u4eba\\u5f53\\u305f\\u308aIT\\u95a2\\u4fc2\\u8af8\\u7d4c\\u8cbb\",\"x\":0.225,\"xanchor\":\"center\",\"xref\":\"paper\",\"y\":0.375,\"yanchor\":\"bottom\",\"yref\":\"paper\"},{\"font\":{\"size\":16},\"showarrow\":false,\"text\":\"4. \",\"x\":0.775,\"xanchor\":\"center\",\"xref\":\"paper\",\"y\":0.375,\"yanchor\":\"bottom\",\"yref\":\"paper\"}],\"title\":{\"text\":\"Customizing Subplot Axes\"},\"height\":1100,\"width\":1000},                        {\"responsive\": true}                    ).then(function(){\n",
       "                            \n",
       "var gd = document.getElementById('78a6945e-b316-4838-be96-6820cfd24781');\n",
       "var x = new MutationObserver(function (mutations, observer) {{\n",
       "        var display = window.getComputedStyle(gd).display;\n",
       "        if (!display || display === 'none') {{\n",
       "            console.log([gd, 'removed!']);\n",
       "            Plotly.purge(gd);\n",
       "            observer.disconnect();\n",
       "        }}\n",
       "}});\n",
       "\n",
       "// Listen for the removal of the full notebook cells\n",
       "var notebookContainer = gd.closest('#notebook-container');\n",
       "if (notebookContainer) {{\n",
       "    x.observe(notebookContainer, {childList: true});\n",
       "}}\n",
       "\n",
       "// Listen for the clearing of the current output cell\n",
       "var outputEl = gd.closest('.output');\n",
       "if (outputEl) {{\n",
       "    x.observe(outputEl, {childList: true});\n",
       "}}\n",
       "\n",
       "                        })                };                });            </script>        </div>"
      ]
     },
     "metadata": {},
     "output_type": "display_data"
    }
   ],
   "source": [
    "\n",
    "uriage_fig= make_subplots(rows=2, cols=2,\n",
    "                          #column_widths=[0.7, 0.3],\n",
    "                          subplot_titles=(\"1. It関係諸経費\", \"2. 総従業員数\", \"3. 一人当たりIT関係諸経費\", \"4. \"),\n",
    "                          #specs=[[{\"secondary_y\":True},{\"secondary_y\": True}],[{\"secondary_y\":True},{\"secondary_y\": True}]]\n",
    "                         ) \n",
    "\n",
    "uriage_fig.update_layout(title_text=\"table1 総従業員数とIT関係諸経費\", height=1100,width=1000)\n",
    "\n",
    "\n",
    "#可視化必要データへ整形\n",
    "df_v4_1tbl_melt_invst = df_v4_1tbl_melt[df_v4_1tbl_melt['groupe']=='IT関係諸経費合計（百万円）']\n",
    "#layout_updateで1つ目のみしかソートできないので、データをソートしてしまう。\n",
    "df_v4_1tbl_melt_invst = df_v4_1tbl_melt_invst.sort_values('value',ascending=False)\n",
    "\n",
    "#可視化必要データへ整形\n",
    "df_v4_1tbl_melt_employee = df_v4_1tbl_melt[df_v4_1tbl_melt['groupe']=='総従業者数（人）']\n",
    "#layout_updateで1つ目のみしかソートできないので、データをソートしてしまう。\n",
    "df_v4_1tbl_melt_employee = df_v4_1tbl_melt_employee.sort_values('value',ascending=False)\n",
    "\n",
    "#可視化必要データへ整形\n",
    "df_v4_1tbl_melt_invst_perone = df_v4_1tbl_melt[df_v4_1tbl_melt['groupe']=='従業者一人当たりIT関係諸経費（千円）']\n",
    "#layout_updateで1つ目のみしかソートできないので、データをソートしてしまう。\n",
    "df_v4_1tbl_melt_invst_perone = df_v4_1tbl_melt_invst_perone.sort_values('value',ascending=False)\n",
    "\n",
    "\n",
    "\n",
    "\n",
    "\n",
    "# uriage_fig.add_trace(go.Bar(x = df_v4_1tbl_melt['業種別'],y=df_v4_1tbl_melt['value']),row=1, col=1)\n",
    "# uriage_fig.add_trace(go.Scatter(x = df_uriage.index,y=df_uriage['総資産'],name=\"総資産\",),row=1, col=1,secondary_y=True)\n",
    "# uriage_fig.add_trace(go.Scatter(x = df_uriage.index,y=df_uriage['純資産'],name=\"純資産\"),row=1, col=1,secondary_y=True)\n",
    "\n",
    "#subplots 1-1\n",
    "uriage_fig.add_trace(go.Bar(x = df_v4_1tbl_melt_invst['業種別'],y=df_v4_1tbl_melt_invst['value'],),row=1, col=1)\n",
    "\n",
    "#subplots 1-2\n",
    "uriage_fig.add_trace(go.Bar(x = df_v4_1tbl_melt_employee['業種別'],y=df_v4_1tbl_melt_employee['value']),row=1, col=2)\n",
    "\n",
    "#subplots 2-1\n",
    "uriage_fig.add_trace(go.Bar(x = df_v4_1tbl_melt_invst_perone['業種別'],y=df_v4_1tbl_melt_invst_perone['value']),row=2, col=1)\n",
    "\n",
    "\n",
    "#subplots 2-2\n",
    "\n",
    "\n",
    "\n",
    "#データを並び替え 1つ目のグラフのみしかソートできないので、使わない。。。\n",
    "#uriage_fig.update_layout(xaxis={'categoryorder':'total descending'})\n",
    "\n",
    "#layout\n",
    "uriage_fig.update_yaxes(title=\"百万円\",row=1, col=1)\n",
    "uriage_fig.update_yaxes(title=\"人数\", row=1, col=2)\n",
    "uriage_fig.update_yaxes(title=\"千円\",row=2, col=1)\n",
    "\n",
    "#IT投資が大きい業種は、プラスチック製造業、映像メディア放送、輸送用機械、金融保険、エネルギーインフラ、鉄、化学あたり\n",
    "#一人あたりのIT投資とすると、輸送用機械・鉄・化学は落ちる。\n",
    "#仮説 輸送用機械・鉄・化学は人が多い。やはり人作業が多くIT化も進んでいなさそう。今後は、可能性はIT化を進める可能性はあるってことか？"
   ]
  },
  {
   "cell_type": "markdown",
   "metadata": {},
   "source": [
    "## IT関係諸経費内訳"
   ]
  },
  {
   "cell_type": "code",
   "execution_count": 39,
   "metadata": {},
   "outputs": [
    {
     "data": {
      "application/vnd.plotly.v1+json": {
       "config": {
        "plotlyServerURL": "https://plot.ly"
       },
       "data": [
        {
         "alignmentgroup": "True",
         "hovertemplate": "groupe=コンピュータ・周辺機器関連計（百万円）<br>業種別=%{x}<br>value=%{y}<extra></extra>",
         "legendgroup": "コンピュータ・周辺機器関連計（百万円）",
         "marker": {
          "color": "#636efa",
          "pattern": {
           "shape": ""
          }
         },
         "name": "コンピュータ・周辺機器関連計（百万円）",
         "offsetgroup": "コンピュータ・周辺機器関連計（百万円）",
         "orientation": "v",
         "showlegend": true,
         "textposition": "auto",
         "type": "bar",
         "x": [
          "食料品、飲料・たばこ・飼料製造業",
          "繊維工業",
          "パルプ・紙・紙加工品製造業",
          "化学工業",
          "石油・石炭・ﾌﾟﾗｽﾁｯｸ製品製造業",
          "窯業・土石製品製造業",
          "鉄鋼業",
          "非鉄金属製品・金属製品製造業",
          "電気機械器具製造業",
          "情報通信機械器具製造業",
          "輸送用機械器具製造業",
          "その他機械器具製造業",
          "その他の製造業",
          "農林漁業・同協同組合、鉱業",
          "建設業",
          "電気・ガス・熱供給・水道業",
          "映像・音声情報制作・放送・通信業",
          "新聞・出版業",
          "情報サービス業",
          "運輸業・郵便業",
          "卸売業",
          "小売業",
          "金融業・保険業",
          "医療業（国・公立除く）",
          "教育（国・公立除く）、学習支援業",
          "その他の非製造業"
         ],
         "xaxis": "x",
         "y": [
          54.528571428571425,
          8.555555555555555,
          27.076923076923077,
          284.8541666666667,
          13.454545454545453,
          18.333333333333336,
          373.1578947368421,
          42.782051282051285,
          67.91666666666667,
          227.58333333333331,
          478.9821428571429,
          90.5,
          85.73684210526316,
          2.25,
          36.92655367231639,
          58.36842105263158,
          459.6818181818182,
          25.642857142857142,
          135.11578947368423,
          46.398989898989896,
          39.177304964539005,
          62.49375,
          290.7369565217391,
          34.666666666666664,
          2.75,
          43.43557046979866
         ],
         "yaxis": "y"
        },
        {
         "alignmentgroup": "True",
         "hovertemplate": "groupe=通信機器関連費用計（百万円）<br>業種別=%{x}<br>value=%{y}<extra></extra>",
         "legendgroup": "通信機器関連費用計（百万円）",
         "marker": {
          "color": "#EF553B",
          "pattern": {
           "shape": ""
          }
         },
         "name": "通信機器関連費用計（百万円）",
         "offsetgroup": "通信機器関連費用計（百万円）",
         "orientation": "v",
         "showlegend": true,
         "textposition": "auto",
         "type": "bar",
         "x": [
          "食料品、飲料・たばこ・飼料製造業",
          "繊維工業",
          "パルプ・紙・紙加工品製造業",
          "化学工業",
          "石油・石炭・ﾌﾟﾗｽﾁｯｸ製品製造業",
          "窯業・土石製品製造業",
          "鉄鋼業",
          "非鉄金属製品・金属製品製造業",
          "電気機械器具製造業",
          "情報通信機械器具製造業",
          "輸送用機械器具製造業",
          "その他機械器具製造業",
          "その他の製造業",
          "農林漁業・同協同組合、鉱業",
          "建設業",
          "電気・ガス・熱供給・水道業",
          "映像・音声情報制作・放送・通信業",
          "新聞・出版業",
          "情報サービス業",
          "運輸業・郵便業",
          "卸売業",
          "小売業",
          "金融業・保険業",
          "医療業（国・公立除く）",
          "教育（国・公立除く）、学習支援業",
          "その他の非製造業"
         ],
         "xaxis": "x",
         "y": [
          4.923,
          0.3333333333333333,
          1.9230769230769231,
          30.6875,
          3.3181818181818183,
          4.222222222222222,
          197.10526315789474,
          7.6410256410256405,
          9.13888888888889,
          16.854166666666668,
          96.19642857142858,
          7.612903225806452,
          0.8421052631578947,
          0.25,
          11.446327683615818,
          64.84210526315789,
          75.36363636363637,
          7.214285714285714,
          8.947368421052632,
          5.472727272727273,
          6.198581560283689,
          5.28125,
          118.62391304347827,
          9,
          1.5,
          14.360402684563757
         ],
         "yaxis": "y"
        },
        {
         "alignmentgroup": "True",
         "hovertemplate": "groupe=その他の情報機器関連費用計（百万円）<br>業種別=%{x}<br>value=%{y}<extra></extra>",
         "legendgroup": "その他の情報機器関連費用計（百万円）",
         "marker": {
          "color": "#00cc96",
          "pattern": {
           "shape": ""
          }
         },
         "name": "その他の情報機器関連費用計（百万円）",
         "offsetgroup": "その他の情報機器関連費用計（百万円）",
         "orientation": "v",
         "showlegend": true,
         "textposition": "auto",
         "type": "bar",
         "x": [
          "食料品、飲料・たばこ・飼料製造業",
          "繊維工業",
          "パルプ・紙・紙加工品製造業",
          "化学工業",
          "石油・石炭・ﾌﾟﾗｽﾁｯｸ製品製造業",
          "窯業・土石製品製造業",
          "鉄鋼業",
          "非鉄金属製品・金属製品製造業",
          "電気機械器具製造業",
          "情報通信機械器具製造業",
          "輸送用機械器具製造業",
          "その他機械器具製造業",
          "その他の製造業",
          "農林漁業・同協同組合、鉱業",
          "建設業",
          "電気・ガス・熱供給・水道業",
          "映像・音声情報制作・放送・通信業",
          "新聞・出版業",
          "情報サービス業",
          "運輸業・郵便業",
          "卸売業",
          "小売業",
          "金融業・保険業",
          "医療業（国・公立除く）",
          "教育（国・公立除く）、学習支援業",
          "その他の非製造業"
         ],
         "xaxis": "x",
         "y": [
          44.620285714285714,
          0.2222222222222222,
          0.46153846153846156,
          20.5625,
          1.5454545454545454,
          16.11111111111111,
          2.473684210526316,
          18.94871794871795,
          1.027777777777778,
          19.270833333333332,
          7.446428571428571,
          14.435483870967742,
          0.7105263157894737,
          0.875,
          4.824858757062147,
          145.84210526315792,
          65.45454545454545,
          4.214285714285714,
          5.178947368421053,
          58.398989898989896,
          25.382978723404257,
          5.2625,
          93.23478260869565,
          1.6666666666666667,
          0.625,
          28.28791946308725
         ],
         "yaxis": "y"
        },
        {
         "alignmentgroup": "True",
         "hovertemplate": "groupe=ソフトウェア関連費用計（百万円）<br>業種別=%{x}<br>value=%{y}<extra></extra>",
         "legendgroup": "ソフトウェア関連費用計（百万円）",
         "marker": {
          "color": "#ab63fa",
          "pattern": {
           "shape": ""
          }
         },
         "name": "ソフトウェア関連費用計（百万円）",
         "offsetgroup": "ソフトウェア関連費用計（百万円）",
         "orientation": "v",
         "showlegend": true,
         "textposition": "auto",
         "type": "bar",
         "x": [
          "食料品、飲料・たばこ・飼料製造業",
          "繊維工業",
          "パルプ・紙・紙加工品製造業",
          "化学工業",
          "石油・石炭・ﾌﾟﾗｽﾁｯｸ製品製造業",
          "窯業・土石製品製造業",
          "鉄鋼業",
          "非鉄金属製品・金属製品製造業",
          "電気機械器具製造業",
          "情報通信機械器具製造業",
          "輸送用機械器具製造業",
          "その他機械器具製造業",
          "その他の製造業",
          "農林漁業・同協同組合、鉱業",
          "建設業",
          "電気・ガス・熱供給・水道業",
          "映像・音声情報制作・放送・通信業",
          "新聞・出版業",
          "情報サービス業",
          "運輸業・郵便業",
          "卸売業",
          "小売業",
          "金融業・保険業",
          "医療業（国・公立除く）",
          "教育（国・公立除く）、学習支援業",
          "その他の非製造業"
         ],
         "xaxis": "x",
         "y": [
          221.99285714285713,
          13.777777777777779,
          170,
          246.16666666666669,
          4644.454545454546,
          111.77777777777779,
          676.3157894736842,
          223.64102564102564,
          294.80555555555554,
          421.85416666666663,
          1488.0892857142858,
          283.64516129032256,
          341.42105263157896,
          3.25,
          82.07344632768361,
          1077.8947368421052,
          2236.2272727272725,
          207.71428571428572,
          221.57684210526315,
          131.8080808080808,
          201.47517730496455,
          108.21249999999999,
          1263.4304347826085,
          30,
          10.5,
          107.77941834451903
         ],
         "yaxis": "y"
        },
        {
         "alignmentgroup": "True",
         "hovertemplate": "groupe=処理サービス料（百万円）<br>業種別=%{x}<br>value=%{y}<extra></extra>",
         "legendgroup": "処理サービス料（百万円）",
         "marker": {
          "color": "#FFA15A",
          "pattern": {
           "shape": ""
          }
         },
         "name": "処理サービス料（百万円）",
         "offsetgroup": "処理サービス料（百万円）",
         "orientation": "v",
         "showlegend": true,
         "textposition": "auto",
         "type": "bar",
         "x": [
          "食料品、飲料・たばこ・飼料製造業",
          "繊維工業",
          "パルプ・紙・紙加工品製造業",
          "化学工業",
          "石油・石炭・ﾌﾟﾗｽﾁｯｸ製品製造業",
          "窯業・土石製品製造業",
          "鉄鋼業",
          "非鉄金属製品・金属製品製造業",
          "電気機械器具製造業",
          "情報通信機械器具製造業",
          "輸送用機械器具製造業",
          "その他機械器具製造業",
          "その他の製造業",
          "農林漁業・同協同組合、鉱業",
          "建設業",
          "電気・ガス・熱供給・水道業",
          "映像・音声情報制作・放送・通信業",
          "新聞・出版業",
          "情報サービス業",
          "運輸業・郵便業",
          "卸売業",
          "小売業",
          "金融業・保険業",
          "医療業（国・公立除く）",
          "教育（国・公立除く）、学習支援業",
          "その他の非製造業"
         ],
         "xaxis": "x",
         "y": [
          18.742857142857144,
          5.666666666666667,
          59.15384615384615,
          51.604166666666664,
          13.863636363636363,
          31.11111111111111,
          69.89473684210526,
          19.025641025641026,
          39.22222222222222,
          240.91666666666666,
          109.25,
          24.29032258064516,
          4.526315789473684,
          0,
          11.994350282485875,
          17.57894736842105,
          15,
          9.714285714285714,
          34.77894736842105,
          97.82323232323232,
          22.113475177304963,
          15.9625,
          190.8985507246377,
          0.3333333333333333,
          0.125,
          8.900447427293065
         ],
         "yaxis": "y"
        },
        {
         "alignmentgroup": "True",
         "hovertemplate": "groupe=運用保守委託料（百万円）<br>業種別=%{x}<br>value=%{y}<extra></extra>",
         "legendgroup": "運用保守委託料（百万円）",
         "marker": {
          "color": "#19d3f3",
          "pattern": {
           "shape": ""
          }
         },
         "name": "運用保守委託料（百万円）",
         "offsetgroup": "運用保守委託料（百万円）",
         "orientation": "v",
         "showlegend": true,
         "textposition": "auto",
         "type": "bar",
         "x": [
          "食料品、飲料・たばこ・飼料製造業",
          "繊維工業",
          "パルプ・紙・紙加工品製造業",
          "化学工業",
          "石油・石炭・ﾌﾟﾗｽﾁｯｸ製品製造業",
          "窯業・土石製品製造業",
          "鉄鋼業",
          "非鉄金属製品・金属製品製造業",
          "電気機械器具製造業",
          "情報通信機械器具製造業",
          "輸送用機械器具製造業",
          "その他機械器具製造業",
          "その他の製造業",
          "農林漁業・同協同組合、鉱業",
          "建設業",
          "電気・ガス・熱供給・水道業",
          "映像・音声情報制作・放送・通信業",
          "新聞・出版業",
          "情報サービス業",
          "運輸業・郵便業",
          "卸売業",
          "小売業",
          "金融業・保険業",
          "医療業（国・公立除く）",
          "教育（国・公立除く）、学習支援業",
          "その他の非製造業"
         ],
         "xaxis": "x",
         "y": [
          107.77142857142857,
          2.7777777777777777,
          17.384615384615383,
          215.3125,
          14.272727272727273,
          141.66666666666666,
          174.21052631578948,
          52.17948717948718,
          122,
          521.8770833333333,
          1107.9285714285713,
          84.08064516129032,
          11.842105263157896,
          2,
          26.954802259887007,
          983.1052631578947,
          1298.090909090909,
          106.92857142857143,
          47.189473684210526,
          64.66161616161617,
          125,
          73.2125,
          628.8333333333334,
          17,
          3.875,
          37.40308724832215
         ],
         "yaxis": "y"
        },
        {
         "alignmentgroup": "True",
         "hovertemplate": "groupe=情報セキュリティ関連サービス料（百万円）<br>業種別=%{x}<br>value=%{y}<extra></extra>",
         "legendgroup": "情報セキュリティ関連サービス料（百万円）",
         "marker": {
          "color": "#FF6692",
          "pattern": {
           "shape": ""
          }
         },
         "name": "情報セキュリティ関連サービス料（百万円）",
         "offsetgroup": "情報セキュリティ関連サービス料（百万円）",
         "orientation": "v",
         "showlegend": true,
         "textposition": "auto",
         "type": "bar",
         "x": [
          "食料品、飲料・たばこ・飼料製造業",
          "繊維工業",
          "パルプ・紙・紙加工品製造業",
          "化学工業",
          "石油・石炭・ﾌﾟﾗｽﾁｯｸ製品製造業",
          "窯業・土石製品製造業",
          "鉄鋼業",
          "非鉄金属製品・金属製品製造業",
          "電気機械器具製造業",
          "情報通信機械器具製造業",
          "輸送用機械器具製造業",
          "その他機械器具製造業",
          "その他の製造業",
          "農林漁業・同協同組合、鉱業",
          "建設業",
          "電気・ガス・熱供給・水道業",
          "映像・音声情報制作・放送・通信業",
          "新聞・出版業",
          "情報サービス業",
          "運輸業・郵便業",
          "卸売業",
          "小売業",
          "金融業・保険業",
          "医療業（国・公立除く）",
          "教育（国・公立除く）、学習支援業",
          "その他の非製造業"
         ],
         "xaxis": "x",
         "y": [
          3.6714285714285713,
          0,
          0.38461538461538464,
          6.104166666666667,
          0.7727272727272727,
          0.1111111111111111,
          1.368421052631579,
          1.3076923076923077,
          3.9444444444444446,
          13.833333333333334,
          27.928571428571427,
          5.080645161290323,
          0.15789473684210525,
          0.25,
          1.4576271186440677,
          8.052631578947368,
          9.227272727272727,
          0.5,
          1.6105263157894736,
          1.1393939393939394,
          2.5531914893617023,
          2.85,
          18.21014492753623,
          1.3333333333333333,
          2.75,
          1.0788590604026846
         ],
         "yaxis": "y"
        },
        {
         "alignmentgroup": "True",
         "hovertemplate": "groupe=その他サービス関連支出（百万円）<br>業種別=%{x}<br>value=%{y}<extra></extra>",
         "legendgroup": "その他サービス関連支出（百万円）",
         "marker": {
          "color": "#B6E880",
          "pattern": {
           "shape": ""
          }
         },
         "name": "その他サービス関連支出（百万円）",
         "offsetgroup": "その他サービス関連支出（百万円）",
         "orientation": "v",
         "showlegend": true,
         "textposition": "auto",
         "type": "bar",
         "x": [
          "食料品、飲料・たばこ・飼料製造業",
          "繊維工業",
          "パルプ・紙・紙加工品製造業",
          "化学工業",
          "石油・石炭・ﾌﾟﾗｽﾁｯｸ製品製造業",
          "窯業・土石製品製造業",
          "鉄鋼業",
          "非鉄金属製品・金属製品製造業",
          "電気機械器具製造業",
          "情報通信機械器具製造業",
          "輸送用機械器具製造業",
          "その他機械器具製造業",
          "その他の製造業",
          "農林漁業・同協同組合、鉱業",
          "建設業",
          "電気・ガス・熱供給・水道業",
          "映像・音声情報制作・放送・通信業",
          "新聞・出版業",
          "情報サービス業",
          "運輸業・郵便業",
          "卸売業",
          "小売業",
          "金融業・保険業",
          "医療業（国・公立除く）",
          "教育（国・公立除く）、学習支援業",
          "その他の非製造業"
         ],
         "xaxis": "x",
         "y": [
          7.871428571428571,
          0,
          2.6923076923076925,
          61,
          8.409090909090908,
          0.6666666666666666,
          57.8421052631579,
          10.41025641025641,
          80.05555555555556,
          74.83333333333333,
          89.82142857142857,
          15.96774193548387,
          8.236842105263158,
          0.25,
          10.717514124293785,
          5.473684210526316,
          149,
          21.142857142857142,
          35.578947368421055,
          11.212121212121213,
          4.219858156028369,
          6.125,
          100.17391304347827,
          19,
          0.375,
          3.988814317673378
         ],
         "yaxis": "y"
        },
        {
         "alignmentgroup": "True",
         "hovertemplate": "groupe=その他費用（百万円）<br>業種別=%{x}<br>value=%{y}<extra></extra>",
         "legendgroup": "その他費用（百万円）",
         "marker": {
          "color": "#FF97FF",
          "pattern": {
           "shape": ""
          }
         },
         "name": "その他費用（百万円）",
         "offsetgroup": "その他費用（百万円）",
         "orientation": "v",
         "showlegend": true,
         "textposition": "auto",
         "type": "bar",
         "x": [
          "食料品、飲料・たばこ・飼料製造業",
          "繊維工業",
          "パルプ・紙・紙加工品製造業",
          "化学工業",
          "石油・石炭・ﾌﾟﾗｽﾁｯｸ製品製造業",
          "窯業・土石製品製造業",
          "鉄鋼業",
          "非鉄金属製品・金属製品製造業",
          "電気機械器具製造業",
          "情報通信機械器具製造業",
          "輸送用機械器具製造業",
          "その他機械器具製造業",
          "その他の製造業",
          "農林漁業・同協同組合、鉱業",
          "建設業",
          "電気・ガス・熱供給・水道業",
          "映像・音声情報制作・放送・通信業",
          "新聞・出版業",
          "情報サービス業",
          "運輸業・郵便業",
          "卸売業",
          "小売業",
          "金融業・保険業",
          "医療業（国・公立除く）",
          "教育（国・公立除く）、学習支援業",
          "その他の非製造業"
         ],
         "xaxis": "x",
         "y": [
          65.21428571428571,
          4.888888888888889,
          104.84615384615384,
          489.4166666666667,
          78.13636363636364,
          110.11111111111111,
          193.94736842105263,
          230.76923076923077,
          564.2777777777778,
          346.5645833333333,
          449.875,
          211.40322580645162,
          255.60526315789474,
          5.625,
          81.45762711864407,
          74.05263157894737,
          125.27272727272727,
          50.5,
          279.05263157894734,
          205.54040404040404,
          252.38297872340425,
          142.8625,
          459.07246376811594,
          66.66666666666667,
          4,
          51.005525727069355
         ],
         "yaxis": "y"
        }
       ],
       "layout": {
        "barmode": "relative",
        "legend": {
         "title": {
          "text": "groupe"
         },
         "tracegroupgap": 0
        },
        "margin": {
         "t": 60
        },
        "template": {
         "data": {
          "bar": [
           {
            "error_x": {
             "color": "#2a3f5f"
            },
            "error_y": {
             "color": "#2a3f5f"
            },
            "marker": {
             "line": {
              "color": "#E5ECF6",
              "width": 0.5
             },
             "pattern": {
              "fillmode": "overlay",
              "size": 10,
              "solidity": 0.2
             }
            },
            "type": "bar"
           }
          ],
          "barpolar": [
           {
            "marker": {
             "line": {
              "color": "#E5ECF6",
              "width": 0.5
             },
             "pattern": {
              "fillmode": "overlay",
              "size": 10,
              "solidity": 0.2
             }
            },
            "type": "barpolar"
           }
          ],
          "carpet": [
           {
            "aaxis": {
             "endlinecolor": "#2a3f5f",
             "gridcolor": "white",
             "linecolor": "white",
             "minorgridcolor": "white",
             "startlinecolor": "#2a3f5f"
            },
            "baxis": {
             "endlinecolor": "#2a3f5f",
             "gridcolor": "white",
             "linecolor": "white",
             "minorgridcolor": "white",
             "startlinecolor": "#2a3f5f"
            },
            "type": "carpet"
           }
          ],
          "choropleth": [
           {
            "colorbar": {
             "outlinewidth": 0,
             "ticks": ""
            },
            "type": "choropleth"
           }
          ],
          "contour": [
           {
            "colorbar": {
             "outlinewidth": 0,
             "ticks": ""
            },
            "colorscale": [
             [
              0,
              "#0d0887"
             ],
             [
              0.1111111111111111,
              "#46039f"
             ],
             [
              0.2222222222222222,
              "#7201a8"
             ],
             [
              0.3333333333333333,
              "#9c179e"
             ],
             [
              0.4444444444444444,
              "#bd3786"
             ],
             [
              0.5555555555555556,
              "#d8576b"
             ],
             [
              0.6666666666666666,
              "#ed7953"
             ],
             [
              0.7777777777777778,
              "#fb9f3a"
             ],
             [
              0.8888888888888888,
              "#fdca26"
             ],
             [
              1,
              "#f0f921"
             ]
            ],
            "type": "contour"
           }
          ],
          "contourcarpet": [
           {
            "colorbar": {
             "outlinewidth": 0,
             "ticks": ""
            },
            "type": "contourcarpet"
           }
          ],
          "heatmap": [
           {
            "colorbar": {
             "outlinewidth": 0,
             "ticks": ""
            },
            "colorscale": [
             [
              0,
              "#0d0887"
             ],
             [
              0.1111111111111111,
              "#46039f"
             ],
             [
              0.2222222222222222,
              "#7201a8"
             ],
             [
              0.3333333333333333,
              "#9c179e"
             ],
             [
              0.4444444444444444,
              "#bd3786"
             ],
             [
              0.5555555555555556,
              "#d8576b"
             ],
             [
              0.6666666666666666,
              "#ed7953"
             ],
             [
              0.7777777777777778,
              "#fb9f3a"
             ],
             [
              0.8888888888888888,
              "#fdca26"
             ],
             [
              1,
              "#f0f921"
             ]
            ],
            "type": "heatmap"
           }
          ],
          "heatmapgl": [
           {
            "colorbar": {
             "outlinewidth": 0,
             "ticks": ""
            },
            "colorscale": [
             [
              0,
              "#0d0887"
             ],
             [
              0.1111111111111111,
              "#46039f"
             ],
             [
              0.2222222222222222,
              "#7201a8"
             ],
             [
              0.3333333333333333,
              "#9c179e"
             ],
             [
              0.4444444444444444,
              "#bd3786"
             ],
             [
              0.5555555555555556,
              "#d8576b"
             ],
             [
              0.6666666666666666,
              "#ed7953"
             ],
             [
              0.7777777777777778,
              "#fb9f3a"
             ],
             [
              0.8888888888888888,
              "#fdca26"
             ],
             [
              1,
              "#f0f921"
             ]
            ],
            "type": "heatmapgl"
           }
          ],
          "histogram": [
           {
            "marker": {
             "pattern": {
              "fillmode": "overlay",
              "size": 10,
              "solidity": 0.2
             }
            },
            "type": "histogram"
           }
          ],
          "histogram2d": [
           {
            "colorbar": {
             "outlinewidth": 0,
             "ticks": ""
            },
            "colorscale": [
             [
              0,
              "#0d0887"
             ],
             [
              0.1111111111111111,
              "#46039f"
             ],
             [
              0.2222222222222222,
              "#7201a8"
             ],
             [
              0.3333333333333333,
              "#9c179e"
             ],
             [
              0.4444444444444444,
              "#bd3786"
             ],
             [
              0.5555555555555556,
              "#d8576b"
             ],
             [
              0.6666666666666666,
              "#ed7953"
             ],
             [
              0.7777777777777778,
              "#fb9f3a"
             ],
             [
              0.8888888888888888,
              "#fdca26"
             ],
             [
              1,
              "#f0f921"
             ]
            ],
            "type": "histogram2d"
           }
          ],
          "histogram2dcontour": [
           {
            "colorbar": {
             "outlinewidth": 0,
             "ticks": ""
            },
            "colorscale": [
             [
              0,
              "#0d0887"
             ],
             [
              0.1111111111111111,
              "#46039f"
             ],
             [
              0.2222222222222222,
              "#7201a8"
             ],
             [
              0.3333333333333333,
              "#9c179e"
             ],
             [
              0.4444444444444444,
              "#bd3786"
             ],
             [
              0.5555555555555556,
              "#d8576b"
             ],
             [
              0.6666666666666666,
              "#ed7953"
             ],
             [
              0.7777777777777778,
              "#fb9f3a"
             ],
             [
              0.8888888888888888,
              "#fdca26"
             ],
             [
              1,
              "#f0f921"
             ]
            ],
            "type": "histogram2dcontour"
           }
          ],
          "mesh3d": [
           {
            "colorbar": {
             "outlinewidth": 0,
             "ticks": ""
            },
            "type": "mesh3d"
           }
          ],
          "parcoords": [
           {
            "line": {
             "colorbar": {
              "outlinewidth": 0,
              "ticks": ""
             }
            },
            "type": "parcoords"
           }
          ],
          "pie": [
           {
            "automargin": true,
            "type": "pie"
           }
          ],
          "scatter": [
           {
            "marker": {
             "colorbar": {
              "outlinewidth": 0,
              "ticks": ""
             }
            },
            "type": "scatter"
           }
          ],
          "scatter3d": [
           {
            "line": {
             "colorbar": {
              "outlinewidth": 0,
              "ticks": ""
             }
            },
            "marker": {
             "colorbar": {
              "outlinewidth": 0,
              "ticks": ""
             }
            },
            "type": "scatter3d"
           }
          ],
          "scattercarpet": [
           {
            "marker": {
             "colorbar": {
              "outlinewidth": 0,
              "ticks": ""
             }
            },
            "type": "scattercarpet"
           }
          ],
          "scattergeo": [
           {
            "marker": {
             "colorbar": {
              "outlinewidth": 0,
              "ticks": ""
             }
            },
            "type": "scattergeo"
           }
          ],
          "scattergl": [
           {
            "marker": {
             "colorbar": {
              "outlinewidth": 0,
              "ticks": ""
             }
            },
            "type": "scattergl"
           }
          ],
          "scattermapbox": [
           {
            "marker": {
             "colorbar": {
              "outlinewidth": 0,
              "ticks": ""
             }
            },
            "type": "scattermapbox"
           }
          ],
          "scatterpolar": [
           {
            "marker": {
             "colorbar": {
              "outlinewidth": 0,
              "ticks": ""
             }
            },
            "type": "scatterpolar"
           }
          ],
          "scatterpolargl": [
           {
            "marker": {
             "colorbar": {
              "outlinewidth": 0,
              "ticks": ""
             }
            },
            "type": "scatterpolargl"
           }
          ],
          "scatterternary": [
           {
            "marker": {
             "colorbar": {
              "outlinewidth": 0,
              "ticks": ""
             }
            },
            "type": "scatterternary"
           }
          ],
          "surface": [
           {
            "colorbar": {
             "outlinewidth": 0,
             "ticks": ""
            },
            "colorscale": [
             [
              0,
              "#0d0887"
             ],
             [
              0.1111111111111111,
              "#46039f"
             ],
             [
              0.2222222222222222,
              "#7201a8"
             ],
             [
              0.3333333333333333,
              "#9c179e"
             ],
             [
              0.4444444444444444,
              "#bd3786"
             ],
             [
              0.5555555555555556,
              "#d8576b"
             ],
             [
              0.6666666666666666,
              "#ed7953"
             ],
             [
              0.7777777777777778,
              "#fb9f3a"
             ],
             [
              0.8888888888888888,
              "#fdca26"
             ],
             [
              1,
              "#f0f921"
             ]
            ],
            "type": "surface"
           }
          ],
          "table": [
           {
            "cells": {
             "fill": {
              "color": "#EBF0F8"
             },
             "line": {
              "color": "white"
             }
            },
            "header": {
             "fill": {
              "color": "#C8D4E3"
             },
             "line": {
              "color": "white"
             }
            },
            "type": "table"
           }
          ]
         },
         "layout": {
          "annotationdefaults": {
           "arrowcolor": "#2a3f5f",
           "arrowhead": 0,
           "arrowwidth": 1
          },
          "autotypenumbers": "strict",
          "coloraxis": {
           "colorbar": {
            "outlinewidth": 0,
            "ticks": ""
           }
          },
          "colorscale": {
           "diverging": [
            [
             0,
             "#8e0152"
            ],
            [
             0.1,
             "#c51b7d"
            ],
            [
             0.2,
             "#de77ae"
            ],
            [
             0.3,
             "#f1b6da"
            ],
            [
             0.4,
             "#fde0ef"
            ],
            [
             0.5,
             "#f7f7f7"
            ],
            [
             0.6,
             "#e6f5d0"
            ],
            [
             0.7,
             "#b8e186"
            ],
            [
             0.8,
             "#7fbc41"
            ],
            [
             0.9,
             "#4d9221"
            ],
            [
             1,
             "#276419"
            ]
           ],
           "sequential": [
            [
             0,
             "#0d0887"
            ],
            [
             0.1111111111111111,
             "#46039f"
            ],
            [
             0.2222222222222222,
             "#7201a8"
            ],
            [
             0.3333333333333333,
             "#9c179e"
            ],
            [
             0.4444444444444444,
             "#bd3786"
            ],
            [
             0.5555555555555556,
             "#d8576b"
            ],
            [
             0.6666666666666666,
             "#ed7953"
            ],
            [
             0.7777777777777778,
             "#fb9f3a"
            ],
            [
             0.8888888888888888,
             "#fdca26"
            ],
            [
             1,
             "#f0f921"
            ]
           ],
           "sequentialminus": [
            [
             0,
             "#0d0887"
            ],
            [
             0.1111111111111111,
             "#46039f"
            ],
            [
             0.2222222222222222,
             "#7201a8"
            ],
            [
             0.3333333333333333,
             "#9c179e"
            ],
            [
             0.4444444444444444,
             "#bd3786"
            ],
            [
             0.5555555555555556,
             "#d8576b"
            ],
            [
             0.6666666666666666,
             "#ed7953"
            ],
            [
             0.7777777777777778,
             "#fb9f3a"
            ],
            [
             0.8888888888888888,
             "#fdca26"
            ],
            [
             1,
             "#f0f921"
            ]
           ]
          },
          "colorway": [
           "#636efa",
           "#EF553B",
           "#00cc96",
           "#ab63fa",
           "#FFA15A",
           "#19d3f3",
           "#FF6692",
           "#B6E880",
           "#FF97FF",
           "#FECB52"
          ],
          "font": {
           "color": "#2a3f5f"
          },
          "geo": {
           "bgcolor": "white",
           "lakecolor": "white",
           "landcolor": "#E5ECF6",
           "showlakes": true,
           "showland": true,
           "subunitcolor": "white"
          },
          "hoverlabel": {
           "align": "left"
          },
          "hovermode": "closest",
          "mapbox": {
           "style": "light"
          },
          "paper_bgcolor": "white",
          "plot_bgcolor": "#E5ECF6",
          "polar": {
           "angularaxis": {
            "gridcolor": "white",
            "linecolor": "white",
            "ticks": ""
           },
           "bgcolor": "#E5ECF6",
           "radialaxis": {
            "gridcolor": "white",
            "linecolor": "white",
            "ticks": ""
           }
          },
          "scene": {
           "xaxis": {
            "backgroundcolor": "#E5ECF6",
            "gridcolor": "white",
            "gridwidth": 2,
            "linecolor": "white",
            "showbackground": true,
            "ticks": "",
            "zerolinecolor": "white"
           },
           "yaxis": {
            "backgroundcolor": "#E5ECF6",
            "gridcolor": "white",
            "gridwidth": 2,
            "linecolor": "white",
            "showbackground": true,
            "ticks": "",
            "zerolinecolor": "white"
           },
           "zaxis": {
            "backgroundcolor": "#E5ECF6",
            "gridcolor": "white",
            "gridwidth": 2,
            "linecolor": "white",
            "showbackground": true,
            "ticks": "",
            "zerolinecolor": "white"
           }
          },
          "shapedefaults": {
           "line": {
            "color": "#2a3f5f"
           }
          },
          "ternary": {
           "aaxis": {
            "gridcolor": "white",
            "linecolor": "white",
            "ticks": ""
           },
           "baxis": {
            "gridcolor": "white",
            "linecolor": "white",
            "ticks": ""
           },
           "bgcolor": "#E5ECF6",
           "caxis": {
            "gridcolor": "white",
            "linecolor": "white",
            "ticks": ""
           }
          },
          "title": {
           "x": 0.05
          },
          "xaxis": {
           "automargin": true,
           "gridcolor": "white",
           "linecolor": "white",
           "ticks": "",
           "title": {
            "standoff": 15
           },
           "zerolinecolor": "white",
           "zerolinewidth": 2
          },
          "yaxis": {
           "automargin": true,
           "gridcolor": "white",
           "linecolor": "white",
           "ticks": "",
           "title": {
            "standoff": 15
           },
           "zerolinecolor": "white",
           "zerolinewidth": 2
          }
         }
        },
        "xaxis": {
         "anchor": "y",
         "categoryorder": "total descending",
         "domain": [
          0,
          1
         ],
         "title": {
          "text": "業種別"
         }
        },
        "yaxis": {
         "anchor": "x",
         "domain": [
          0,
          1
         ],
         "title": {
          "text": "IT関係諸経費内訳"
         }
        }
       }
      },
      "text/html": [
       "<div>                            <div id=\"584a4a0d-d310-4f2d-b21a-51bea65e76a3\" class=\"plotly-graph-div\" style=\"height:525px; width:100%;\"></div>            <script type=\"text/javascript\">                require([\"plotly\"], function(Plotly) {                    window.PLOTLYENV=window.PLOTLYENV || {};                                    if (document.getElementById(\"584a4a0d-d310-4f2d-b21a-51bea65e76a3\")) {                    Plotly.newPlot(                        \"584a4a0d-d310-4f2d-b21a-51bea65e76a3\",                        [{\"alignmentgroup\":\"True\",\"hovertemplate\":\"groupe=\\u30b3\\u30f3\\u30d4\\u30e5\\u30fc\\u30bf\\u30fb\\u5468\\u8fba\\u6a5f\\u5668\\u95a2\\u9023\\u8a08\\uff08\\u767e\\u4e07\\u5186\\uff09<br>\\u696d\\u7a2e\\u5225=%{x}<br>value=%{y}<extra></extra>\",\"legendgroup\":\"\\u30b3\\u30f3\\u30d4\\u30e5\\u30fc\\u30bf\\u30fb\\u5468\\u8fba\\u6a5f\\u5668\\u95a2\\u9023\\u8a08\\uff08\\u767e\\u4e07\\u5186\\uff09\",\"marker\":{\"color\":\"#636efa\",\"pattern\":{\"shape\":\"\"}},\"name\":\"\\u30b3\\u30f3\\u30d4\\u30e5\\u30fc\\u30bf\\u30fb\\u5468\\u8fba\\u6a5f\\u5668\\u95a2\\u9023\\u8a08\\uff08\\u767e\\u4e07\\u5186\\uff09\",\"offsetgroup\":\"\\u30b3\\u30f3\\u30d4\\u30e5\\u30fc\\u30bf\\u30fb\\u5468\\u8fba\\u6a5f\\u5668\\u95a2\\u9023\\u8a08\\uff08\\u767e\\u4e07\\u5186\\uff09\",\"orientation\":\"v\",\"showlegend\":true,\"textposition\":\"auto\",\"x\":[\"\\u98df\\u6599\\u54c1\\u3001\\u98f2\\u6599\\u30fb\\u305f\\u3070\\u3053\\u30fb\\u98fc\\u6599\\u88fd\\u9020\\u696d\",\"\\u7e4a\\u7dad\\u5de5\\u696d\",\"\\u30d1\\u30eb\\u30d7\\u30fb\\u7d19\\u30fb\\u7d19\\u52a0\\u5de5\\u54c1\\u88fd\\u9020\\u696d\",\"\\u5316\\u5b66\\u5de5\\u696d\",\"\\u77f3\\u6cb9\\u30fb\\u77f3\\u70ad\\u30fb\\uff8c\\uff9f\\uff97\\uff7d\\uff81\\uff6f\\uff78\\u88fd\\u54c1\\u88fd\\u9020\\u696d\",\"\\u7aaf\\u696d\\u30fb\\u571f\\u77f3\\u88fd\\u54c1\\u88fd\\u9020\\u696d\",\"\\u9244\\u92fc\\u696d\",\"\\u975e\\u9244\\u91d1\\u5c5e\\u88fd\\u54c1\\u30fb\\u91d1\\u5c5e\\u88fd\\u54c1\\u88fd\\u9020\\u696d\",\"\\u96fb\\u6c17\\u6a5f\\u68b0\\u5668\\u5177\\u88fd\\u9020\\u696d\",\"\\u60c5\\u5831\\u901a\\u4fe1\\u6a5f\\u68b0\\u5668\\u5177\\u88fd\\u9020\\u696d\",\"\\u8f38\\u9001\\u7528\\u6a5f\\u68b0\\u5668\\u5177\\u88fd\\u9020\\u696d\",\"\\u305d\\u306e\\u4ed6\\u6a5f\\u68b0\\u5668\\u5177\\u88fd\\u9020\\u696d\",\"\\u305d\\u306e\\u4ed6\\u306e\\u88fd\\u9020\\u696d\",\"\\u8fb2\\u6797\\u6f01\\u696d\\u30fb\\u540c\\u5354\\u540c\\u7d44\\u5408\\u3001\\u9271\\u696d\",\"\\u5efa\\u8a2d\\u696d\",\"\\u96fb\\u6c17\\u30fb\\u30ac\\u30b9\\u30fb\\u71b1\\u4f9b\\u7d66\\u30fb\\u6c34\\u9053\\u696d\",\"\\u6620\\u50cf\\u30fb\\u97f3\\u58f0\\u60c5\\u5831\\u5236\\u4f5c\\u30fb\\u653e\\u9001\\u30fb\\u901a\\u4fe1\\u696d\",\"\\u65b0\\u805e\\u30fb\\u51fa\\u7248\\u696d\",\"\\u60c5\\u5831\\u30b5\\u30fc\\u30d3\\u30b9\\u696d\",\"\\u904b\\u8f38\\u696d\\u30fb\\u90f5\\u4fbf\\u696d\",\"\\u5378\\u58f2\\u696d\",\"\\u5c0f\\u58f2\\u696d\",\"\\u91d1\\u878d\\u696d\\u30fb\\u4fdd\\u967a\\u696d\",\"\\u533b\\u7642\\u696d\\uff08\\u56fd\\u30fb\\u516c\\u7acb\\u9664\\u304f\\uff09\",\"\\u6559\\u80b2\\uff08\\u56fd\\u30fb\\u516c\\u7acb\\u9664\\u304f\\uff09\\u3001\\u5b66\\u7fd2\\u652f\\u63f4\\u696d\",\"\\u305d\\u306e\\u4ed6\\u306e\\u975e\\u88fd\\u9020\\u696d\"],\"xaxis\":\"x\",\"y\":[54.528571428571425,8.555555555555555,27.076923076923077,284.8541666666667,13.454545454545453,18.333333333333336,373.1578947368421,42.782051282051285,67.91666666666667,227.58333333333331,478.9821428571429,90.5,85.73684210526316,2.25,36.92655367231639,58.36842105263158,459.6818181818182,25.642857142857142,135.11578947368423,46.398989898989896,39.177304964539005,62.49375,290.7369565217391,34.666666666666664,2.75,43.43557046979866],\"yaxis\":\"y\",\"type\":\"bar\"},{\"alignmentgroup\":\"True\",\"hovertemplate\":\"groupe=\\u901a\\u4fe1\\u6a5f\\u5668\\u95a2\\u9023\\u8cbb\\u7528\\u8a08\\uff08\\u767e\\u4e07\\u5186\\uff09<br>\\u696d\\u7a2e\\u5225=%{x}<br>value=%{y}<extra></extra>\",\"legendgroup\":\"\\u901a\\u4fe1\\u6a5f\\u5668\\u95a2\\u9023\\u8cbb\\u7528\\u8a08\\uff08\\u767e\\u4e07\\u5186\\uff09\",\"marker\":{\"color\":\"#EF553B\",\"pattern\":{\"shape\":\"\"}},\"name\":\"\\u901a\\u4fe1\\u6a5f\\u5668\\u95a2\\u9023\\u8cbb\\u7528\\u8a08\\uff08\\u767e\\u4e07\\u5186\\uff09\",\"offsetgroup\":\"\\u901a\\u4fe1\\u6a5f\\u5668\\u95a2\\u9023\\u8cbb\\u7528\\u8a08\\uff08\\u767e\\u4e07\\u5186\\uff09\",\"orientation\":\"v\",\"showlegend\":true,\"textposition\":\"auto\",\"x\":[\"\\u98df\\u6599\\u54c1\\u3001\\u98f2\\u6599\\u30fb\\u305f\\u3070\\u3053\\u30fb\\u98fc\\u6599\\u88fd\\u9020\\u696d\",\"\\u7e4a\\u7dad\\u5de5\\u696d\",\"\\u30d1\\u30eb\\u30d7\\u30fb\\u7d19\\u30fb\\u7d19\\u52a0\\u5de5\\u54c1\\u88fd\\u9020\\u696d\",\"\\u5316\\u5b66\\u5de5\\u696d\",\"\\u77f3\\u6cb9\\u30fb\\u77f3\\u70ad\\u30fb\\uff8c\\uff9f\\uff97\\uff7d\\uff81\\uff6f\\uff78\\u88fd\\u54c1\\u88fd\\u9020\\u696d\",\"\\u7aaf\\u696d\\u30fb\\u571f\\u77f3\\u88fd\\u54c1\\u88fd\\u9020\\u696d\",\"\\u9244\\u92fc\\u696d\",\"\\u975e\\u9244\\u91d1\\u5c5e\\u88fd\\u54c1\\u30fb\\u91d1\\u5c5e\\u88fd\\u54c1\\u88fd\\u9020\\u696d\",\"\\u96fb\\u6c17\\u6a5f\\u68b0\\u5668\\u5177\\u88fd\\u9020\\u696d\",\"\\u60c5\\u5831\\u901a\\u4fe1\\u6a5f\\u68b0\\u5668\\u5177\\u88fd\\u9020\\u696d\",\"\\u8f38\\u9001\\u7528\\u6a5f\\u68b0\\u5668\\u5177\\u88fd\\u9020\\u696d\",\"\\u305d\\u306e\\u4ed6\\u6a5f\\u68b0\\u5668\\u5177\\u88fd\\u9020\\u696d\",\"\\u305d\\u306e\\u4ed6\\u306e\\u88fd\\u9020\\u696d\",\"\\u8fb2\\u6797\\u6f01\\u696d\\u30fb\\u540c\\u5354\\u540c\\u7d44\\u5408\\u3001\\u9271\\u696d\",\"\\u5efa\\u8a2d\\u696d\",\"\\u96fb\\u6c17\\u30fb\\u30ac\\u30b9\\u30fb\\u71b1\\u4f9b\\u7d66\\u30fb\\u6c34\\u9053\\u696d\",\"\\u6620\\u50cf\\u30fb\\u97f3\\u58f0\\u60c5\\u5831\\u5236\\u4f5c\\u30fb\\u653e\\u9001\\u30fb\\u901a\\u4fe1\\u696d\",\"\\u65b0\\u805e\\u30fb\\u51fa\\u7248\\u696d\",\"\\u60c5\\u5831\\u30b5\\u30fc\\u30d3\\u30b9\\u696d\",\"\\u904b\\u8f38\\u696d\\u30fb\\u90f5\\u4fbf\\u696d\",\"\\u5378\\u58f2\\u696d\",\"\\u5c0f\\u58f2\\u696d\",\"\\u91d1\\u878d\\u696d\\u30fb\\u4fdd\\u967a\\u696d\",\"\\u533b\\u7642\\u696d\\uff08\\u56fd\\u30fb\\u516c\\u7acb\\u9664\\u304f\\uff09\",\"\\u6559\\u80b2\\uff08\\u56fd\\u30fb\\u516c\\u7acb\\u9664\\u304f\\uff09\\u3001\\u5b66\\u7fd2\\u652f\\u63f4\\u696d\",\"\\u305d\\u306e\\u4ed6\\u306e\\u975e\\u88fd\\u9020\\u696d\"],\"xaxis\":\"x\",\"y\":[4.923,0.3333333333333333,1.9230769230769231,30.6875,3.3181818181818183,4.222222222222222,197.10526315789474,7.6410256410256405,9.13888888888889,16.854166666666668,96.19642857142858,7.612903225806452,0.8421052631578947,0.25,11.446327683615818,64.84210526315789,75.36363636363637,7.214285714285714,8.947368421052632,5.472727272727273,6.198581560283689,5.28125,118.62391304347827,9,1.5,14.360402684563757],\"yaxis\":\"y\",\"type\":\"bar\"},{\"alignmentgroup\":\"True\",\"hovertemplate\":\"groupe=\\u305d\\u306e\\u4ed6\\u306e\\u60c5\\u5831\\u6a5f\\u5668\\u95a2\\u9023\\u8cbb\\u7528\\u8a08\\uff08\\u767e\\u4e07\\u5186\\uff09<br>\\u696d\\u7a2e\\u5225=%{x}<br>value=%{y}<extra></extra>\",\"legendgroup\":\"\\u305d\\u306e\\u4ed6\\u306e\\u60c5\\u5831\\u6a5f\\u5668\\u95a2\\u9023\\u8cbb\\u7528\\u8a08\\uff08\\u767e\\u4e07\\u5186\\uff09\",\"marker\":{\"color\":\"#00cc96\",\"pattern\":{\"shape\":\"\"}},\"name\":\"\\u305d\\u306e\\u4ed6\\u306e\\u60c5\\u5831\\u6a5f\\u5668\\u95a2\\u9023\\u8cbb\\u7528\\u8a08\\uff08\\u767e\\u4e07\\u5186\\uff09\",\"offsetgroup\":\"\\u305d\\u306e\\u4ed6\\u306e\\u60c5\\u5831\\u6a5f\\u5668\\u95a2\\u9023\\u8cbb\\u7528\\u8a08\\uff08\\u767e\\u4e07\\u5186\\uff09\",\"orientation\":\"v\",\"showlegend\":true,\"textposition\":\"auto\",\"x\":[\"\\u98df\\u6599\\u54c1\\u3001\\u98f2\\u6599\\u30fb\\u305f\\u3070\\u3053\\u30fb\\u98fc\\u6599\\u88fd\\u9020\\u696d\",\"\\u7e4a\\u7dad\\u5de5\\u696d\",\"\\u30d1\\u30eb\\u30d7\\u30fb\\u7d19\\u30fb\\u7d19\\u52a0\\u5de5\\u54c1\\u88fd\\u9020\\u696d\",\"\\u5316\\u5b66\\u5de5\\u696d\",\"\\u77f3\\u6cb9\\u30fb\\u77f3\\u70ad\\u30fb\\uff8c\\uff9f\\uff97\\uff7d\\uff81\\uff6f\\uff78\\u88fd\\u54c1\\u88fd\\u9020\\u696d\",\"\\u7aaf\\u696d\\u30fb\\u571f\\u77f3\\u88fd\\u54c1\\u88fd\\u9020\\u696d\",\"\\u9244\\u92fc\\u696d\",\"\\u975e\\u9244\\u91d1\\u5c5e\\u88fd\\u54c1\\u30fb\\u91d1\\u5c5e\\u88fd\\u54c1\\u88fd\\u9020\\u696d\",\"\\u96fb\\u6c17\\u6a5f\\u68b0\\u5668\\u5177\\u88fd\\u9020\\u696d\",\"\\u60c5\\u5831\\u901a\\u4fe1\\u6a5f\\u68b0\\u5668\\u5177\\u88fd\\u9020\\u696d\",\"\\u8f38\\u9001\\u7528\\u6a5f\\u68b0\\u5668\\u5177\\u88fd\\u9020\\u696d\",\"\\u305d\\u306e\\u4ed6\\u6a5f\\u68b0\\u5668\\u5177\\u88fd\\u9020\\u696d\",\"\\u305d\\u306e\\u4ed6\\u306e\\u88fd\\u9020\\u696d\",\"\\u8fb2\\u6797\\u6f01\\u696d\\u30fb\\u540c\\u5354\\u540c\\u7d44\\u5408\\u3001\\u9271\\u696d\",\"\\u5efa\\u8a2d\\u696d\",\"\\u96fb\\u6c17\\u30fb\\u30ac\\u30b9\\u30fb\\u71b1\\u4f9b\\u7d66\\u30fb\\u6c34\\u9053\\u696d\",\"\\u6620\\u50cf\\u30fb\\u97f3\\u58f0\\u60c5\\u5831\\u5236\\u4f5c\\u30fb\\u653e\\u9001\\u30fb\\u901a\\u4fe1\\u696d\",\"\\u65b0\\u805e\\u30fb\\u51fa\\u7248\\u696d\",\"\\u60c5\\u5831\\u30b5\\u30fc\\u30d3\\u30b9\\u696d\",\"\\u904b\\u8f38\\u696d\\u30fb\\u90f5\\u4fbf\\u696d\",\"\\u5378\\u58f2\\u696d\",\"\\u5c0f\\u58f2\\u696d\",\"\\u91d1\\u878d\\u696d\\u30fb\\u4fdd\\u967a\\u696d\",\"\\u533b\\u7642\\u696d\\uff08\\u56fd\\u30fb\\u516c\\u7acb\\u9664\\u304f\\uff09\",\"\\u6559\\u80b2\\uff08\\u56fd\\u30fb\\u516c\\u7acb\\u9664\\u304f\\uff09\\u3001\\u5b66\\u7fd2\\u652f\\u63f4\\u696d\",\"\\u305d\\u306e\\u4ed6\\u306e\\u975e\\u88fd\\u9020\\u696d\"],\"xaxis\":\"x\",\"y\":[44.620285714285714,0.2222222222222222,0.46153846153846156,20.5625,1.5454545454545454,16.11111111111111,2.473684210526316,18.94871794871795,1.027777777777778,19.270833333333332,7.446428571428571,14.435483870967742,0.7105263157894737,0.875,4.824858757062147,145.84210526315792,65.45454545454545,4.214285714285714,5.178947368421053,58.398989898989896,25.382978723404257,5.2625,93.23478260869565,1.6666666666666667,0.625,28.28791946308725],\"yaxis\":\"y\",\"type\":\"bar\"},{\"alignmentgroup\":\"True\",\"hovertemplate\":\"groupe=\\u30bd\\u30d5\\u30c8\\u30a6\\u30a7\\u30a2\\u95a2\\u9023\\u8cbb\\u7528\\u8a08\\uff08\\u767e\\u4e07\\u5186\\uff09<br>\\u696d\\u7a2e\\u5225=%{x}<br>value=%{y}<extra></extra>\",\"legendgroup\":\"\\u30bd\\u30d5\\u30c8\\u30a6\\u30a7\\u30a2\\u95a2\\u9023\\u8cbb\\u7528\\u8a08\\uff08\\u767e\\u4e07\\u5186\\uff09\",\"marker\":{\"color\":\"#ab63fa\",\"pattern\":{\"shape\":\"\"}},\"name\":\"\\u30bd\\u30d5\\u30c8\\u30a6\\u30a7\\u30a2\\u95a2\\u9023\\u8cbb\\u7528\\u8a08\\uff08\\u767e\\u4e07\\u5186\\uff09\",\"offsetgroup\":\"\\u30bd\\u30d5\\u30c8\\u30a6\\u30a7\\u30a2\\u95a2\\u9023\\u8cbb\\u7528\\u8a08\\uff08\\u767e\\u4e07\\u5186\\uff09\",\"orientation\":\"v\",\"showlegend\":true,\"textposition\":\"auto\",\"x\":[\"\\u98df\\u6599\\u54c1\\u3001\\u98f2\\u6599\\u30fb\\u305f\\u3070\\u3053\\u30fb\\u98fc\\u6599\\u88fd\\u9020\\u696d\",\"\\u7e4a\\u7dad\\u5de5\\u696d\",\"\\u30d1\\u30eb\\u30d7\\u30fb\\u7d19\\u30fb\\u7d19\\u52a0\\u5de5\\u54c1\\u88fd\\u9020\\u696d\",\"\\u5316\\u5b66\\u5de5\\u696d\",\"\\u77f3\\u6cb9\\u30fb\\u77f3\\u70ad\\u30fb\\uff8c\\uff9f\\uff97\\uff7d\\uff81\\uff6f\\uff78\\u88fd\\u54c1\\u88fd\\u9020\\u696d\",\"\\u7aaf\\u696d\\u30fb\\u571f\\u77f3\\u88fd\\u54c1\\u88fd\\u9020\\u696d\",\"\\u9244\\u92fc\\u696d\",\"\\u975e\\u9244\\u91d1\\u5c5e\\u88fd\\u54c1\\u30fb\\u91d1\\u5c5e\\u88fd\\u54c1\\u88fd\\u9020\\u696d\",\"\\u96fb\\u6c17\\u6a5f\\u68b0\\u5668\\u5177\\u88fd\\u9020\\u696d\",\"\\u60c5\\u5831\\u901a\\u4fe1\\u6a5f\\u68b0\\u5668\\u5177\\u88fd\\u9020\\u696d\",\"\\u8f38\\u9001\\u7528\\u6a5f\\u68b0\\u5668\\u5177\\u88fd\\u9020\\u696d\",\"\\u305d\\u306e\\u4ed6\\u6a5f\\u68b0\\u5668\\u5177\\u88fd\\u9020\\u696d\",\"\\u305d\\u306e\\u4ed6\\u306e\\u88fd\\u9020\\u696d\",\"\\u8fb2\\u6797\\u6f01\\u696d\\u30fb\\u540c\\u5354\\u540c\\u7d44\\u5408\\u3001\\u9271\\u696d\",\"\\u5efa\\u8a2d\\u696d\",\"\\u96fb\\u6c17\\u30fb\\u30ac\\u30b9\\u30fb\\u71b1\\u4f9b\\u7d66\\u30fb\\u6c34\\u9053\\u696d\",\"\\u6620\\u50cf\\u30fb\\u97f3\\u58f0\\u60c5\\u5831\\u5236\\u4f5c\\u30fb\\u653e\\u9001\\u30fb\\u901a\\u4fe1\\u696d\",\"\\u65b0\\u805e\\u30fb\\u51fa\\u7248\\u696d\",\"\\u60c5\\u5831\\u30b5\\u30fc\\u30d3\\u30b9\\u696d\",\"\\u904b\\u8f38\\u696d\\u30fb\\u90f5\\u4fbf\\u696d\",\"\\u5378\\u58f2\\u696d\",\"\\u5c0f\\u58f2\\u696d\",\"\\u91d1\\u878d\\u696d\\u30fb\\u4fdd\\u967a\\u696d\",\"\\u533b\\u7642\\u696d\\uff08\\u56fd\\u30fb\\u516c\\u7acb\\u9664\\u304f\\uff09\",\"\\u6559\\u80b2\\uff08\\u56fd\\u30fb\\u516c\\u7acb\\u9664\\u304f\\uff09\\u3001\\u5b66\\u7fd2\\u652f\\u63f4\\u696d\",\"\\u305d\\u306e\\u4ed6\\u306e\\u975e\\u88fd\\u9020\\u696d\"],\"xaxis\":\"x\",\"y\":[221.99285714285713,13.777777777777779,170,246.16666666666669,4644.454545454546,111.77777777777779,676.3157894736842,223.64102564102564,294.80555555555554,421.85416666666663,1488.0892857142858,283.64516129032256,341.42105263157896,3.25,82.07344632768361,1077.8947368421052,2236.2272727272725,207.71428571428572,221.57684210526315,131.8080808080808,201.47517730496455,108.21249999999999,1263.4304347826085,30,10.5,107.77941834451903],\"yaxis\":\"y\",\"type\":\"bar\"},{\"alignmentgroup\":\"True\",\"hovertemplate\":\"groupe=\\u51e6\\u7406\\u30b5\\u30fc\\u30d3\\u30b9\\u6599\\uff08\\u767e\\u4e07\\u5186\\uff09<br>\\u696d\\u7a2e\\u5225=%{x}<br>value=%{y}<extra></extra>\",\"legendgroup\":\"\\u51e6\\u7406\\u30b5\\u30fc\\u30d3\\u30b9\\u6599\\uff08\\u767e\\u4e07\\u5186\\uff09\",\"marker\":{\"color\":\"#FFA15A\",\"pattern\":{\"shape\":\"\"}},\"name\":\"\\u51e6\\u7406\\u30b5\\u30fc\\u30d3\\u30b9\\u6599\\uff08\\u767e\\u4e07\\u5186\\uff09\",\"offsetgroup\":\"\\u51e6\\u7406\\u30b5\\u30fc\\u30d3\\u30b9\\u6599\\uff08\\u767e\\u4e07\\u5186\\uff09\",\"orientation\":\"v\",\"showlegend\":true,\"textposition\":\"auto\",\"x\":[\"\\u98df\\u6599\\u54c1\\u3001\\u98f2\\u6599\\u30fb\\u305f\\u3070\\u3053\\u30fb\\u98fc\\u6599\\u88fd\\u9020\\u696d\",\"\\u7e4a\\u7dad\\u5de5\\u696d\",\"\\u30d1\\u30eb\\u30d7\\u30fb\\u7d19\\u30fb\\u7d19\\u52a0\\u5de5\\u54c1\\u88fd\\u9020\\u696d\",\"\\u5316\\u5b66\\u5de5\\u696d\",\"\\u77f3\\u6cb9\\u30fb\\u77f3\\u70ad\\u30fb\\uff8c\\uff9f\\uff97\\uff7d\\uff81\\uff6f\\uff78\\u88fd\\u54c1\\u88fd\\u9020\\u696d\",\"\\u7aaf\\u696d\\u30fb\\u571f\\u77f3\\u88fd\\u54c1\\u88fd\\u9020\\u696d\",\"\\u9244\\u92fc\\u696d\",\"\\u975e\\u9244\\u91d1\\u5c5e\\u88fd\\u54c1\\u30fb\\u91d1\\u5c5e\\u88fd\\u54c1\\u88fd\\u9020\\u696d\",\"\\u96fb\\u6c17\\u6a5f\\u68b0\\u5668\\u5177\\u88fd\\u9020\\u696d\",\"\\u60c5\\u5831\\u901a\\u4fe1\\u6a5f\\u68b0\\u5668\\u5177\\u88fd\\u9020\\u696d\",\"\\u8f38\\u9001\\u7528\\u6a5f\\u68b0\\u5668\\u5177\\u88fd\\u9020\\u696d\",\"\\u305d\\u306e\\u4ed6\\u6a5f\\u68b0\\u5668\\u5177\\u88fd\\u9020\\u696d\",\"\\u305d\\u306e\\u4ed6\\u306e\\u88fd\\u9020\\u696d\",\"\\u8fb2\\u6797\\u6f01\\u696d\\u30fb\\u540c\\u5354\\u540c\\u7d44\\u5408\\u3001\\u9271\\u696d\",\"\\u5efa\\u8a2d\\u696d\",\"\\u96fb\\u6c17\\u30fb\\u30ac\\u30b9\\u30fb\\u71b1\\u4f9b\\u7d66\\u30fb\\u6c34\\u9053\\u696d\",\"\\u6620\\u50cf\\u30fb\\u97f3\\u58f0\\u60c5\\u5831\\u5236\\u4f5c\\u30fb\\u653e\\u9001\\u30fb\\u901a\\u4fe1\\u696d\",\"\\u65b0\\u805e\\u30fb\\u51fa\\u7248\\u696d\",\"\\u60c5\\u5831\\u30b5\\u30fc\\u30d3\\u30b9\\u696d\",\"\\u904b\\u8f38\\u696d\\u30fb\\u90f5\\u4fbf\\u696d\",\"\\u5378\\u58f2\\u696d\",\"\\u5c0f\\u58f2\\u696d\",\"\\u91d1\\u878d\\u696d\\u30fb\\u4fdd\\u967a\\u696d\",\"\\u533b\\u7642\\u696d\\uff08\\u56fd\\u30fb\\u516c\\u7acb\\u9664\\u304f\\uff09\",\"\\u6559\\u80b2\\uff08\\u56fd\\u30fb\\u516c\\u7acb\\u9664\\u304f\\uff09\\u3001\\u5b66\\u7fd2\\u652f\\u63f4\\u696d\",\"\\u305d\\u306e\\u4ed6\\u306e\\u975e\\u88fd\\u9020\\u696d\"],\"xaxis\":\"x\",\"y\":[18.742857142857144,5.666666666666667,59.15384615384615,51.604166666666664,13.863636363636363,31.11111111111111,69.89473684210526,19.025641025641026,39.22222222222222,240.91666666666666,109.25,24.29032258064516,4.526315789473684,0,11.994350282485875,17.57894736842105,15,9.714285714285714,34.77894736842105,97.82323232323232,22.113475177304963,15.9625,190.8985507246377,0.3333333333333333,0.125,8.900447427293065],\"yaxis\":\"y\",\"type\":\"bar\"},{\"alignmentgroup\":\"True\",\"hovertemplate\":\"groupe=\\u904b\\u7528\\u4fdd\\u5b88\\u59d4\\u8a17\\u6599\\uff08\\u767e\\u4e07\\u5186\\uff09<br>\\u696d\\u7a2e\\u5225=%{x}<br>value=%{y}<extra></extra>\",\"legendgroup\":\"\\u904b\\u7528\\u4fdd\\u5b88\\u59d4\\u8a17\\u6599\\uff08\\u767e\\u4e07\\u5186\\uff09\",\"marker\":{\"color\":\"#19d3f3\",\"pattern\":{\"shape\":\"\"}},\"name\":\"\\u904b\\u7528\\u4fdd\\u5b88\\u59d4\\u8a17\\u6599\\uff08\\u767e\\u4e07\\u5186\\uff09\",\"offsetgroup\":\"\\u904b\\u7528\\u4fdd\\u5b88\\u59d4\\u8a17\\u6599\\uff08\\u767e\\u4e07\\u5186\\uff09\",\"orientation\":\"v\",\"showlegend\":true,\"textposition\":\"auto\",\"x\":[\"\\u98df\\u6599\\u54c1\\u3001\\u98f2\\u6599\\u30fb\\u305f\\u3070\\u3053\\u30fb\\u98fc\\u6599\\u88fd\\u9020\\u696d\",\"\\u7e4a\\u7dad\\u5de5\\u696d\",\"\\u30d1\\u30eb\\u30d7\\u30fb\\u7d19\\u30fb\\u7d19\\u52a0\\u5de5\\u54c1\\u88fd\\u9020\\u696d\",\"\\u5316\\u5b66\\u5de5\\u696d\",\"\\u77f3\\u6cb9\\u30fb\\u77f3\\u70ad\\u30fb\\uff8c\\uff9f\\uff97\\uff7d\\uff81\\uff6f\\uff78\\u88fd\\u54c1\\u88fd\\u9020\\u696d\",\"\\u7aaf\\u696d\\u30fb\\u571f\\u77f3\\u88fd\\u54c1\\u88fd\\u9020\\u696d\",\"\\u9244\\u92fc\\u696d\",\"\\u975e\\u9244\\u91d1\\u5c5e\\u88fd\\u54c1\\u30fb\\u91d1\\u5c5e\\u88fd\\u54c1\\u88fd\\u9020\\u696d\",\"\\u96fb\\u6c17\\u6a5f\\u68b0\\u5668\\u5177\\u88fd\\u9020\\u696d\",\"\\u60c5\\u5831\\u901a\\u4fe1\\u6a5f\\u68b0\\u5668\\u5177\\u88fd\\u9020\\u696d\",\"\\u8f38\\u9001\\u7528\\u6a5f\\u68b0\\u5668\\u5177\\u88fd\\u9020\\u696d\",\"\\u305d\\u306e\\u4ed6\\u6a5f\\u68b0\\u5668\\u5177\\u88fd\\u9020\\u696d\",\"\\u305d\\u306e\\u4ed6\\u306e\\u88fd\\u9020\\u696d\",\"\\u8fb2\\u6797\\u6f01\\u696d\\u30fb\\u540c\\u5354\\u540c\\u7d44\\u5408\\u3001\\u9271\\u696d\",\"\\u5efa\\u8a2d\\u696d\",\"\\u96fb\\u6c17\\u30fb\\u30ac\\u30b9\\u30fb\\u71b1\\u4f9b\\u7d66\\u30fb\\u6c34\\u9053\\u696d\",\"\\u6620\\u50cf\\u30fb\\u97f3\\u58f0\\u60c5\\u5831\\u5236\\u4f5c\\u30fb\\u653e\\u9001\\u30fb\\u901a\\u4fe1\\u696d\",\"\\u65b0\\u805e\\u30fb\\u51fa\\u7248\\u696d\",\"\\u60c5\\u5831\\u30b5\\u30fc\\u30d3\\u30b9\\u696d\",\"\\u904b\\u8f38\\u696d\\u30fb\\u90f5\\u4fbf\\u696d\",\"\\u5378\\u58f2\\u696d\",\"\\u5c0f\\u58f2\\u696d\",\"\\u91d1\\u878d\\u696d\\u30fb\\u4fdd\\u967a\\u696d\",\"\\u533b\\u7642\\u696d\\uff08\\u56fd\\u30fb\\u516c\\u7acb\\u9664\\u304f\\uff09\",\"\\u6559\\u80b2\\uff08\\u56fd\\u30fb\\u516c\\u7acb\\u9664\\u304f\\uff09\\u3001\\u5b66\\u7fd2\\u652f\\u63f4\\u696d\",\"\\u305d\\u306e\\u4ed6\\u306e\\u975e\\u88fd\\u9020\\u696d\"],\"xaxis\":\"x\",\"y\":[107.77142857142857,2.7777777777777777,17.384615384615383,215.3125,14.272727272727273,141.66666666666666,174.21052631578948,52.17948717948718,122,521.8770833333333,1107.9285714285713,84.08064516129032,11.842105263157896,2,26.954802259887007,983.1052631578947,1298.090909090909,106.92857142857143,47.189473684210526,64.66161616161617,125,73.2125,628.8333333333334,17,3.875,37.40308724832215],\"yaxis\":\"y\",\"type\":\"bar\"},{\"alignmentgroup\":\"True\",\"hovertemplate\":\"groupe=\\u60c5\\u5831\\u30bb\\u30ad\\u30e5\\u30ea\\u30c6\\u30a3\\u95a2\\u9023\\u30b5\\u30fc\\u30d3\\u30b9\\u6599\\uff08\\u767e\\u4e07\\u5186\\uff09<br>\\u696d\\u7a2e\\u5225=%{x}<br>value=%{y}<extra></extra>\",\"legendgroup\":\"\\u60c5\\u5831\\u30bb\\u30ad\\u30e5\\u30ea\\u30c6\\u30a3\\u95a2\\u9023\\u30b5\\u30fc\\u30d3\\u30b9\\u6599\\uff08\\u767e\\u4e07\\u5186\\uff09\",\"marker\":{\"color\":\"#FF6692\",\"pattern\":{\"shape\":\"\"}},\"name\":\"\\u60c5\\u5831\\u30bb\\u30ad\\u30e5\\u30ea\\u30c6\\u30a3\\u95a2\\u9023\\u30b5\\u30fc\\u30d3\\u30b9\\u6599\\uff08\\u767e\\u4e07\\u5186\\uff09\",\"offsetgroup\":\"\\u60c5\\u5831\\u30bb\\u30ad\\u30e5\\u30ea\\u30c6\\u30a3\\u95a2\\u9023\\u30b5\\u30fc\\u30d3\\u30b9\\u6599\\uff08\\u767e\\u4e07\\u5186\\uff09\",\"orientation\":\"v\",\"showlegend\":true,\"textposition\":\"auto\",\"x\":[\"\\u98df\\u6599\\u54c1\\u3001\\u98f2\\u6599\\u30fb\\u305f\\u3070\\u3053\\u30fb\\u98fc\\u6599\\u88fd\\u9020\\u696d\",\"\\u7e4a\\u7dad\\u5de5\\u696d\",\"\\u30d1\\u30eb\\u30d7\\u30fb\\u7d19\\u30fb\\u7d19\\u52a0\\u5de5\\u54c1\\u88fd\\u9020\\u696d\",\"\\u5316\\u5b66\\u5de5\\u696d\",\"\\u77f3\\u6cb9\\u30fb\\u77f3\\u70ad\\u30fb\\uff8c\\uff9f\\uff97\\uff7d\\uff81\\uff6f\\uff78\\u88fd\\u54c1\\u88fd\\u9020\\u696d\",\"\\u7aaf\\u696d\\u30fb\\u571f\\u77f3\\u88fd\\u54c1\\u88fd\\u9020\\u696d\",\"\\u9244\\u92fc\\u696d\",\"\\u975e\\u9244\\u91d1\\u5c5e\\u88fd\\u54c1\\u30fb\\u91d1\\u5c5e\\u88fd\\u54c1\\u88fd\\u9020\\u696d\",\"\\u96fb\\u6c17\\u6a5f\\u68b0\\u5668\\u5177\\u88fd\\u9020\\u696d\",\"\\u60c5\\u5831\\u901a\\u4fe1\\u6a5f\\u68b0\\u5668\\u5177\\u88fd\\u9020\\u696d\",\"\\u8f38\\u9001\\u7528\\u6a5f\\u68b0\\u5668\\u5177\\u88fd\\u9020\\u696d\",\"\\u305d\\u306e\\u4ed6\\u6a5f\\u68b0\\u5668\\u5177\\u88fd\\u9020\\u696d\",\"\\u305d\\u306e\\u4ed6\\u306e\\u88fd\\u9020\\u696d\",\"\\u8fb2\\u6797\\u6f01\\u696d\\u30fb\\u540c\\u5354\\u540c\\u7d44\\u5408\\u3001\\u9271\\u696d\",\"\\u5efa\\u8a2d\\u696d\",\"\\u96fb\\u6c17\\u30fb\\u30ac\\u30b9\\u30fb\\u71b1\\u4f9b\\u7d66\\u30fb\\u6c34\\u9053\\u696d\",\"\\u6620\\u50cf\\u30fb\\u97f3\\u58f0\\u60c5\\u5831\\u5236\\u4f5c\\u30fb\\u653e\\u9001\\u30fb\\u901a\\u4fe1\\u696d\",\"\\u65b0\\u805e\\u30fb\\u51fa\\u7248\\u696d\",\"\\u60c5\\u5831\\u30b5\\u30fc\\u30d3\\u30b9\\u696d\",\"\\u904b\\u8f38\\u696d\\u30fb\\u90f5\\u4fbf\\u696d\",\"\\u5378\\u58f2\\u696d\",\"\\u5c0f\\u58f2\\u696d\",\"\\u91d1\\u878d\\u696d\\u30fb\\u4fdd\\u967a\\u696d\",\"\\u533b\\u7642\\u696d\\uff08\\u56fd\\u30fb\\u516c\\u7acb\\u9664\\u304f\\uff09\",\"\\u6559\\u80b2\\uff08\\u56fd\\u30fb\\u516c\\u7acb\\u9664\\u304f\\uff09\\u3001\\u5b66\\u7fd2\\u652f\\u63f4\\u696d\",\"\\u305d\\u306e\\u4ed6\\u306e\\u975e\\u88fd\\u9020\\u696d\"],\"xaxis\":\"x\",\"y\":[3.6714285714285713,0,0.38461538461538464,6.104166666666667,0.7727272727272727,0.1111111111111111,1.368421052631579,1.3076923076923077,3.9444444444444446,13.833333333333334,27.928571428571427,5.080645161290323,0.15789473684210525,0.25,1.4576271186440677,8.052631578947368,9.227272727272727,0.5,1.6105263157894736,1.1393939393939394,2.5531914893617023,2.85,18.21014492753623,1.3333333333333333,2.75,1.0788590604026846],\"yaxis\":\"y\",\"type\":\"bar\"},{\"alignmentgroup\":\"True\",\"hovertemplate\":\"groupe=\\u305d\\u306e\\u4ed6\\u30b5\\u30fc\\u30d3\\u30b9\\u95a2\\u9023\\u652f\\u51fa\\uff08\\u767e\\u4e07\\u5186\\uff09<br>\\u696d\\u7a2e\\u5225=%{x}<br>value=%{y}<extra></extra>\",\"legendgroup\":\"\\u305d\\u306e\\u4ed6\\u30b5\\u30fc\\u30d3\\u30b9\\u95a2\\u9023\\u652f\\u51fa\\uff08\\u767e\\u4e07\\u5186\\uff09\",\"marker\":{\"color\":\"#B6E880\",\"pattern\":{\"shape\":\"\"}},\"name\":\"\\u305d\\u306e\\u4ed6\\u30b5\\u30fc\\u30d3\\u30b9\\u95a2\\u9023\\u652f\\u51fa\\uff08\\u767e\\u4e07\\u5186\\uff09\",\"offsetgroup\":\"\\u305d\\u306e\\u4ed6\\u30b5\\u30fc\\u30d3\\u30b9\\u95a2\\u9023\\u652f\\u51fa\\uff08\\u767e\\u4e07\\u5186\\uff09\",\"orientation\":\"v\",\"showlegend\":true,\"textposition\":\"auto\",\"x\":[\"\\u98df\\u6599\\u54c1\\u3001\\u98f2\\u6599\\u30fb\\u305f\\u3070\\u3053\\u30fb\\u98fc\\u6599\\u88fd\\u9020\\u696d\",\"\\u7e4a\\u7dad\\u5de5\\u696d\",\"\\u30d1\\u30eb\\u30d7\\u30fb\\u7d19\\u30fb\\u7d19\\u52a0\\u5de5\\u54c1\\u88fd\\u9020\\u696d\",\"\\u5316\\u5b66\\u5de5\\u696d\",\"\\u77f3\\u6cb9\\u30fb\\u77f3\\u70ad\\u30fb\\uff8c\\uff9f\\uff97\\uff7d\\uff81\\uff6f\\uff78\\u88fd\\u54c1\\u88fd\\u9020\\u696d\",\"\\u7aaf\\u696d\\u30fb\\u571f\\u77f3\\u88fd\\u54c1\\u88fd\\u9020\\u696d\",\"\\u9244\\u92fc\\u696d\",\"\\u975e\\u9244\\u91d1\\u5c5e\\u88fd\\u54c1\\u30fb\\u91d1\\u5c5e\\u88fd\\u54c1\\u88fd\\u9020\\u696d\",\"\\u96fb\\u6c17\\u6a5f\\u68b0\\u5668\\u5177\\u88fd\\u9020\\u696d\",\"\\u60c5\\u5831\\u901a\\u4fe1\\u6a5f\\u68b0\\u5668\\u5177\\u88fd\\u9020\\u696d\",\"\\u8f38\\u9001\\u7528\\u6a5f\\u68b0\\u5668\\u5177\\u88fd\\u9020\\u696d\",\"\\u305d\\u306e\\u4ed6\\u6a5f\\u68b0\\u5668\\u5177\\u88fd\\u9020\\u696d\",\"\\u305d\\u306e\\u4ed6\\u306e\\u88fd\\u9020\\u696d\",\"\\u8fb2\\u6797\\u6f01\\u696d\\u30fb\\u540c\\u5354\\u540c\\u7d44\\u5408\\u3001\\u9271\\u696d\",\"\\u5efa\\u8a2d\\u696d\",\"\\u96fb\\u6c17\\u30fb\\u30ac\\u30b9\\u30fb\\u71b1\\u4f9b\\u7d66\\u30fb\\u6c34\\u9053\\u696d\",\"\\u6620\\u50cf\\u30fb\\u97f3\\u58f0\\u60c5\\u5831\\u5236\\u4f5c\\u30fb\\u653e\\u9001\\u30fb\\u901a\\u4fe1\\u696d\",\"\\u65b0\\u805e\\u30fb\\u51fa\\u7248\\u696d\",\"\\u60c5\\u5831\\u30b5\\u30fc\\u30d3\\u30b9\\u696d\",\"\\u904b\\u8f38\\u696d\\u30fb\\u90f5\\u4fbf\\u696d\",\"\\u5378\\u58f2\\u696d\",\"\\u5c0f\\u58f2\\u696d\",\"\\u91d1\\u878d\\u696d\\u30fb\\u4fdd\\u967a\\u696d\",\"\\u533b\\u7642\\u696d\\uff08\\u56fd\\u30fb\\u516c\\u7acb\\u9664\\u304f\\uff09\",\"\\u6559\\u80b2\\uff08\\u56fd\\u30fb\\u516c\\u7acb\\u9664\\u304f\\uff09\\u3001\\u5b66\\u7fd2\\u652f\\u63f4\\u696d\",\"\\u305d\\u306e\\u4ed6\\u306e\\u975e\\u88fd\\u9020\\u696d\"],\"xaxis\":\"x\",\"y\":[7.871428571428571,0,2.6923076923076925,61,8.409090909090908,0.6666666666666666,57.8421052631579,10.41025641025641,80.05555555555556,74.83333333333333,89.82142857142857,15.96774193548387,8.236842105263158,0.25,10.717514124293785,5.473684210526316,149,21.142857142857142,35.578947368421055,11.212121212121213,4.219858156028369,6.125,100.17391304347827,19,0.375,3.988814317673378],\"yaxis\":\"y\",\"type\":\"bar\"},{\"alignmentgroup\":\"True\",\"hovertemplate\":\"groupe=\\u305d\\u306e\\u4ed6\\u8cbb\\u7528\\uff08\\u767e\\u4e07\\u5186\\uff09<br>\\u696d\\u7a2e\\u5225=%{x}<br>value=%{y}<extra></extra>\",\"legendgroup\":\"\\u305d\\u306e\\u4ed6\\u8cbb\\u7528\\uff08\\u767e\\u4e07\\u5186\\uff09\",\"marker\":{\"color\":\"#FF97FF\",\"pattern\":{\"shape\":\"\"}},\"name\":\"\\u305d\\u306e\\u4ed6\\u8cbb\\u7528\\uff08\\u767e\\u4e07\\u5186\\uff09\",\"offsetgroup\":\"\\u305d\\u306e\\u4ed6\\u8cbb\\u7528\\uff08\\u767e\\u4e07\\u5186\\uff09\",\"orientation\":\"v\",\"showlegend\":true,\"textposition\":\"auto\",\"x\":[\"\\u98df\\u6599\\u54c1\\u3001\\u98f2\\u6599\\u30fb\\u305f\\u3070\\u3053\\u30fb\\u98fc\\u6599\\u88fd\\u9020\\u696d\",\"\\u7e4a\\u7dad\\u5de5\\u696d\",\"\\u30d1\\u30eb\\u30d7\\u30fb\\u7d19\\u30fb\\u7d19\\u52a0\\u5de5\\u54c1\\u88fd\\u9020\\u696d\",\"\\u5316\\u5b66\\u5de5\\u696d\",\"\\u77f3\\u6cb9\\u30fb\\u77f3\\u70ad\\u30fb\\uff8c\\uff9f\\uff97\\uff7d\\uff81\\uff6f\\uff78\\u88fd\\u54c1\\u88fd\\u9020\\u696d\",\"\\u7aaf\\u696d\\u30fb\\u571f\\u77f3\\u88fd\\u54c1\\u88fd\\u9020\\u696d\",\"\\u9244\\u92fc\\u696d\",\"\\u975e\\u9244\\u91d1\\u5c5e\\u88fd\\u54c1\\u30fb\\u91d1\\u5c5e\\u88fd\\u54c1\\u88fd\\u9020\\u696d\",\"\\u96fb\\u6c17\\u6a5f\\u68b0\\u5668\\u5177\\u88fd\\u9020\\u696d\",\"\\u60c5\\u5831\\u901a\\u4fe1\\u6a5f\\u68b0\\u5668\\u5177\\u88fd\\u9020\\u696d\",\"\\u8f38\\u9001\\u7528\\u6a5f\\u68b0\\u5668\\u5177\\u88fd\\u9020\\u696d\",\"\\u305d\\u306e\\u4ed6\\u6a5f\\u68b0\\u5668\\u5177\\u88fd\\u9020\\u696d\",\"\\u305d\\u306e\\u4ed6\\u306e\\u88fd\\u9020\\u696d\",\"\\u8fb2\\u6797\\u6f01\\u696d\\u30fb\\u540c\\u5354\\u540c\\u7d44\\u5408\\u3001\\u9271\\u696d\",\"\\u5efa\\u8a2d\\u696d\",\"\\u96fb\\u6c17\\u30fb\\u30ac\\u30b9\\u30fb\\u71b1\\u4f9b\\u7d66\\u30fb\\u6c34\\u9053\\u696d\",\"\\u6620\\u50cf\\u30fb\\u97f3\\u58f0\\u60c5\\u5831\\u5236\\u4f5c\\u30fb\\u653e\\u9001\\u30fb\\u901a\\u4fe1\\u696d\",\"\\u65b0\\u805e\\u30fb\\u51fa\\u7248\\u696d\",\"\\u60c5\\u5831\\u30b5\\u30fc\\u30d3\\u30b9\\u696d\",\"\\u904b\\u8f38\\u696d\\u30fb\\u90f5\\u4fbf\\u696d\",\"\\u5378\\u58f2\\u696d\",\"\\u5c0f\\u58f2\\u696d\",\"\\u91d1\\u878d\\u696d\\u30fb\\u4fdd\\u967a\\u696d\",\"\\u533b\\u7642\\u696d\\uff08\\u56fd\\u30fb\\u516c\\u7acb\\u9664\\u304f\\uff09\",\"\\u6559\\u80b2\\uff08\\u56fd\\u30fb\\u516c\\u7acb\\u9664\\u304f\\uff09\\u3001\\u5b66\\u7fd2\\u652f\\u63f4\\u696d\",\"\\u305d\\u306e\\u4ed6\\u306e\\u975e\\u88fd\\u9020\\u696d\"],\"xaxis\":\"x\",\"y\":[65.21428571428571,4.888888888888889,104.84615384615384,489.4166666666667,78.13636363636364,110.11111111111111,193.94736842105263,230.76923076923077,564.2777777777778,346.5645833333333,449.875,211.40322580645162,255.60526315789474,5.625,81.45762711864407,74.05263157894737,125.27272727272727,50.5,279.05263157894734,205.54040404040404,252.38297872340425,142.8625,459.07246376811594,66.66666666666667,4,51.005525727069355],\"yaxis\":\"y\",\"type\":\"bar\"}],                        {\"template\":{\"data\":{\"bar\":[{\"error_x\":{\"color\":\"#2a3f5f\"},\"error_y\":{\"color\":\"#2a3f5f\"},\"marker\":{\"line\":{\"color\":\"#E5ECF6\",\"width\":0.5},\"pattern\":{\"fillmode\":\"overlay\",\"size\":10,\"solidity\":0.2}},\"type\":\"bar\"}],\"barpolar\":[{\"marker\":{\"line\":{\"color\":\"#E5ECF6\",\"width\":0.5},\"pattern\":{\"fillmode\":\"overlay\",\"size\":10,\"solidity\":0.2}},\"type\":\"barpolar\"}],\"carpet\":[{\"aaxis\":{\"endlinecolor\":\"#2a3f5f\",\"gridcolor\":\"white\",\"linecolor\":\"white\",\"minorgridcolor\":\"white\",\"startlinecolor\":\"#2a3f5f\"},\"baxis\":{\"endlinecolor\":\"#2a3f5f\",\"gridcolor\":\"white\",\"linecolor\":\"white\",\"minorgridcolor\":\"white\",\"startlinecolor\":\"#2a3f5f\"},\"type\":\"carpet\"}],\"choropleth\":[{\"colorbar\":{\"outlinewidth\":0,\"ticks\":\"\"},\"type\":\"choropleth\"}],\"contour\":[{\"colorbar\":{\"outlinewidth\":0,\"ticks\":\"\"},\"colorscale\":[[0.0,\"#0d0887\"],[0.1111111111111111,\"#46039f\"],[0.2222222222222222,\"#7201a8\"],[0.3333333333333333,\"#9c179e\"],[0.4444444444444444,\"#bd3786\"],[0.5555555555555556,\"#d8576b\"],[0.6666666666666666,\"#ed7953\"],[0.7777777777777778,\"#fb9f3a\"],[0.8888888888888888,\"#fdca26\"],[1.0,\"#f0f921\"]],\"type\":\"contour\"}],\"contourcarpet\":[{\"colorbar\":{\"outlinewidth\":0,\"ticks\":\"\"},\"type\":\"contourcarpet\"}],\"heatmap\":[{\"colorbar\":{\"outlinewidth\":0,\"ticks\":\"\"},\"colorscale\":[[0.0,\"#0d0887\"],[0.1111111111111111,\"#46039f\"],[0.2222222222222222,\"#7201a8\"],[0.3333333333333333,\"#9c179e\"],[0.4444444444444444,\"#bd3786\"],[0.5555555555555556,\"#d8576b\"],[0.6666666666666666,\"#ed7953\"],[0.7777777777777778,\"#fb9f3a\"],[0.8888888888888888,\"#fdca26\"],[1.0,\"#f0f921\"]],\"type\":\"heatmap\"}],\"heatmapgl\":[{\"colorbar\":{\"outlinewidth\":0,\"ticks\":\"\"},\"colorscale\":[[0.0,\"#0d0887\"],[0.1111111111111111,\"#46039f\"],[0.2222222222222222,\"#7201a8\"],[0.3333333333333333,\"#9c179e\"],[0.4444444444444444,\"#bd3786\"],[0.5555555555555556,\"#d8576b\"],[0.6666666666666666,\"#ed7953\"],[0.7777777777777778,\"#fb9f3a\"],[0.8888888888888888,\"#fdca26\"],[1.0,\"#f0f921\"]],\"type\":\"heatmapgl\"}],\"histogram\":[{\"marker\":{\"pattern\":{\"fillmode\":\"overlay\",\"size\":10,\"solidity\":0.2}},\"type\":\"histogram\"}],\"histogram2d\":[{\"colorbar\":{\"outlinewidth\":0,\"ticks\":\"\"},\"colorscale\":[[0.0,\"#0d0887\"],[0.1111111111111111,\"#46039f\"],[0.2222222222222222,\"#7201a8\"],[0.3333333333333333,\"#9c179e\"],[0.4444444444444444,\"#bd3786\"],[0.5555555555555556,\"#d8576b\"],[0.6666666666666666,\"#ed7953\"],[0.7777777777777778,\"#fb9f3a\"],[0.8888888888888888,\"#fdca26\"],[1.0,\"#f0f921\"]],\"type\":\"histogram2d\"}],\"histogram2dcontour\":[{\"colorbar\":{\"outlinewidth\":0,\"ticks\":\"\"},\"colorscale\":[[0.0,\"#0d0887\"],[0.1111111111111111,\"#46039f\"],[0.2222222222222222,\"#7201a8\"],[0.3333333333333333,\"#9c179e\"],[0.4444444444444444,\"#bd3786\"],[0.5555555555555556,\"#d8576b\"],[0.6666666666666666,\"#ed7953\"],[0.7777777777777778,\"#fb9f3a\"],[0.8888888888888888,\"#fdca26\"],[1.0,\"#f0f921\"]],\"type\":\"histogram2dcontour\"}],\"mesh3d\":[{\"colorbar\":{\"outlinewidth\":0,\"ticks\":\"\"},\"type\":\"mesh3d\"}],\"parcoords\":[{\"line\":{\"colorbar\":{\"outlinewidth\":0,\"ticks\":\"\"}},\"type\":\"parcoords\"}],\"pie\":[{\"automargin\":true,\"type\":\"pie\"}],\"scatter\":[{\"marker\":{\"colorbar\":{\"outlinewidth\":0,\"ticks\":\"\"}},\"type\":\"scatter\"}],\"scatter3d\":[{\"line\":{\"colorbar\":{\"outlinewidth\":0,\"ticks\":\"\"}},\"marker\":{\"colorbar\":{\"outlinewidth\":0,\"ticks\":\"\"}},\"type\":\"scatter3d\"}],\"scattercarpet\":[{\"marker\":{\"colorbar\":{\"outlinewidth\":0,\"ticks\":\"\"}},\"type\":\"scattercarpet\"}],\"scattergeo\":[{\"marker\":{\"colorbar\":{\"outlinewidth\":0,\"ticks\":\"\"}},\"type\":\"scattergeo\"}],\"scattergl\":[{\"marker\":{\"colorbar\":{\"outlinewidth\":0,\"ticks\":\"\"}},\"type\":\"scattergl\"}],\"scattermapbox\":[{\"marker\":{\"colorbar\":{\"outlinewidth\":0,\"ticks\":\"\"}},\"type\":\"scattermapbox\"}],\"scatterpolar\":[{\"marker\":{\"colorbar\":{\"outlinewidth\":0,\"ticks\":\"\"}},\"type\":\"scatterpolar\"}],\"scatterpolargl\":[{\"marker\":{\"colorbar\":{\"outlinewidth\":0,\"ticks\":\"\"}},\"type\":\"scatterpolargl\"}],\"scatterternary\":[{\"marker\":{\"colorbar\":{\"outlinewidth\":0,\"ticks\":\"\"}},\"type\":\"scatterternary\"}],\"surface\":[{\"colorbar\":{\"outlinewidth\":0,\"ticks\":\"\"},\"colorscale\":[[0.0,\"#0d0887\"],[0.1111111111111111,\"#46039f\"],[0.2222222222222222,\"#7201a8\"],[0.3333333333333333,\"#9c179e\"],[0.4444444444444444,\"#bd3786\"],[0.5555555555555556,\"#d8576b\"],[0.6666666666666666,\"#ed7953\"],[0.7777777777777778,\"#fb9f3a\"],[0.8888888888888888,\"#fdca26\"],[1.0,\"#f0f921\"]],\"type\":\"surface\"}],\"table\":[{\"cells\":{\"fill\":{\"color\":\"#EBF0F8\"},\"line\":{\"color\":\"white\"}},\"header\":{\"fill\":{\"color\":\"#C8D4E3\"},\"line\":{\"color\":\"white\"}},\"type\":\"table\"}]},\"layout\":{\"annotationdefaults\":{\"arrowcolor\":\"#2a3f5f\",\"arrowhead\":0,\"arrowwidth\":1},\"autotypenumbers\":\"strict\",\"coloraxis\":{\"colorbar\":{\"outlinewidth\":0,\"ticks\":\"\"}},\"colorscale\":{\"diverging\":[[0,\"#8e0152\"],[0.1,\"#c51b7d\"],[0.2,\"#de77ae\"],[0.3,\"#f1b6da\"],[0.4,\"#fde0ef\"],[0.5,\"#f7f7f7\"],[0.6,\"#e6f5d0\"],[0.7,\"#b8e186\"],[0.8,\"#7fbc41\"],[0.9,\"#4d9221\"],[1,\"#276419\"]],\"sequential\":[[0.0,\"#0d0887\"],[0.1111111111111111,\"#46039f\"],[0.2222222222222222,\"#7201a8\"],[0.3333333333333333,\"#9c179e\"],[0.4444444444444444,\"#bd3786\"],[0.5555555555555556,\"#d8576b\"],[0.6666666666666666,\"#ed7953\"],[0.7777777777777778,\"#fb9f3a\"],[0.8888888888888888,\"#fdca26\"],[1.0,\"#f0f921\"]],\"sequentialminus\":[[0.0,\"#0d0887\"],[0.1111111111111111,\"#46039f\"],[0.2222222222222222,\"#7201a8\"],[0.3333333333333333,\"#9c179e\"],[0.4444444444444444,\"#bd3786\"],[0.5555555555555556,\"#d8576b\"],[0.6666666666666666,\"#ed7953\"],[0.7777777777777778,\"#fb9f3a\"],[0.8888888888888888,\"#fdca26\"],[1.0,\"#f0f921\"]]},\"colorway\":[\"#636efa\",\"#EF553B\",\"#00cc96\",\"#ab63fa\",\"#FFA15A\",\"#19d3f3\",\"#FF6692\",\"#B6E880\",\"#FF97FF\",\"#FECB52\"],\"font\":{\"color\":\"#2a3f5f\"},\"geo\":{\"bgcolor\":\"white\",\"lakecolor\":\"white\",\"landcolor\":\"#E5ECF6\",\"showlakes\":true,\"showland\":true,\"subunitcolor\":\"white\"},\"hoverlabel\":{\"align\":\"left\"},\"hovermode\":\"closest\",\"mapbox\":{\"style\":\"light\"},\"paper_bgcolor\":\"white\",\"plot_bgcolor\":\"#E5ECF6\",\"polar\":{\"angularaxis\":{\"gridcolor\":\"white\",\"linecolor\":\"white\",\"ticks\":\"\"},\"bgcolor\":\"#E5ECF6\",\"radialaxis\":{\"gridcolor\":\"white\",\"linecolor\":\"white\",\"ticks\":\"\"}},\"scene\":{\"xaxis\":{\"backgroundcolor\":\"#E5ECF6\",\"gridcolor\":\"white\",\"gridwidth\":2,\"linecolor\":\"white\",\"showbackground\":true,\"ticks\":\"\",\"zerolinecolor\":\"white\"},\"yaxis\":{\"backgroundcolor\":\"#E5ECF6\",\"gridcolor\":\"white\",\"gridwidth\":2,\"linecolor\":\"white\",\"showbackground\":true,\"ticks\":\"\",\"zerolinecolor\":\"white\"},\"zaxis\":{\"backgroundcolor\":\"#E5ECF6\",\"gridcolor\":\"white\",\"gridwidth\":2,\"linecolor\":\"white\",\"showbackground\":true,\"ticks\":\"\",\"zerolinecolor\":\"white\"}},\"shapedefaults\":{\"line\":{\"color\":\"#2a3f5f\"}},\"ternary\":{\"aaxis\":{\"gridcolor\":\"white\",\"linecolor\":\"white\",\"ticks\":\"\"},\"baxis\":{\"gridcolor\":\"white\",\"linecolor\":\"white\",\"ticks\":\"\"},\"bgcolor\":\"#E5ECF6\",\"caxis\":{\"gridcolor\":\"white\",\"linecolor\":\"white\",\"ticks\":\"\"}},\"title\":{\"x\":0.05},\"xaxis\":{\"automargin\":true,\"gridcolor\":\"white\",\"linecolor\":\"white\",\"ticks\":\"\",\"title\":{\"standoff\":15},\"zerolinecolor\":\"white\",\"zerolinewidth\":2},\"yaxis\":{\"automargin\":true,\"gridcolor\":\"white\",\"linecolor\":\"white\",\"ticks\":\"\",\"title\":{\"standoff\":15},\"zerolinecolor\":\"white\",\"zerolinewidth\":2}}},\"xaxis\":{\"anchor\":\"y\",\"domain\":[0.0,1.0],\"title\":{\"text\":\"\\u696d\\u7a2e\\u5225\"},\"categoryorder\":\"total descending\"},\"yaxis\":{\"anchor\":\"x\",\"domain\":[0.0,1.0],\"title\":{\"text\":\"IT\\u95a2\\u4fc2\\u8af8\\u7d4c\\u8cbb\\u5185\\u8a33\"}},\"legend\":{\"title\":{\"text\":\"groupe\"},\"tracegroupgap\":0},\"margin\":{\"t\":60},\"barmode\":\"relative\"},                        {\"responsive\": true}                    ).then(function(){\n",
       "                            \n",
       "var gd = document.getElementById('584a4a0d-d310-4f2d-b21a-51bea65e76a3');\n",
       "var x = new MutationObserver(function (mutations, observer) {{\n",
       "        var display = window.getComputedStyle(gd).display;\n",
       "        if (!display || display === 'none') {{\n",
       "            console.log([gd, 'removed!']);\n",
       "            Plotly.purge(gd);\n",
       "            observer.disconnect();\n",
       "        }}\n",
       "}});\n",
       "\n",
       "// Listen for the removal of the full notebook cells\n",
       "var notebookContainer = gd.closest('#notebook-container');\n",
       "if (notebookContainer) {{\n",
       "    x.observe(notebookContainer, {childList: true});\n",
       "}}\n",
       "\n",
       "// Listen for the clearing of the current output cell\n",
       "var outputEl = gd.closest('.output');\n",
       "if (outputEl) {{\n",
       "    x.observe(outputEl, {childList: true});\n",
       "}}\n",
       "\n",
       "                        })                };                });            </script>        </div>"
      ]
     },
     "metadata": {},
     "output_type": "display_data"
    },
    {
     "data": {
      "application/vnd.plotly.v1+json": {
       "config": {
        "plotlyServerURL": "https://plot.ly"
       },
       "data": [
        {
         "alignmentgroup": "True",
         "hovertemplate": "業種別=食料品、飲料・たばこ・飼料製造業<br>groupe=%{x}<br>value=%{y}<extra></extra>",
         "legendgroup": "食料品、飲料・たばこ・飼料製造業",
         "marker": {
          "color": "#636efa",
          "pattern": {
           "shape": ""
          }
         },
         "name": "食料品、飲料・たばこ・飼料製造業",
         "offsetgroup": "食料品、飲料・たばこ・飼料製造業",
         "orientation": "v",
         "showlegend": true,
         "textposition": "auto",
         "type": "bar",
         "x": [
          "コンピュータ・周辺機器関連計（百万円）",
          "通信機器関連費用計（百万円）",
          "その他の情報機器関連費用計（百万円）",
          "ソフトウェア関連費用計（百万円）",
          "処理サービス料（百万円）",
          "運用保守委託料（百万円）",
          "情報セキュリティ関連サービス料（百万円）",
          "その他サービス関連支出（百万円）",
          "その他費用（百万円）"
         ],
         "xaxis": "x",
         "y": [
          54.528571428571425,
          4.923,
          44.620285714285714,
          221.99285714285713,
          18.742857142857144,
          107.77142857142857,
          3.6714285714285713,
          7.871428571428571,
          65.21428571428571
         ],
         "yaxis": "y"
        },
        {
         "alignmentgroup": "True",
         "hovertemplate": "業種別=繊維工業<br>groupe=%{x}<br>value=%{y}<extra></extra>",
         "legendgroup": "繊維工業",
         "marker": {
          "color": "#EF553B",
          "pattern": {
           "shape": ""
          }
         },
         "name": "繊維工業",
         "offsetgroup": "繊維工業",
         "orientation": "v",
         "showlegend": true,
         "textposition": "auto",
         "type": "bar",
         "x": [
          "コンピュータ・周辺機器関連計（百万円）",
          "通信機器関連費用計（百万円）",
          "その他の情報機器関連費用計（百万円）",
          "ソフトウェア関連費用計（百万円）",
          "処理サービス料（百万円）",
          "運用保守委託料（百万円）",
          "情報セキュリティ関連サービス料（百万円）",
          "その他サービス関連支出（百万円）",
          "その他費用（百万円）"
         ],
         "xaxis": "x",
         "y": [
          8.555555555555555,
          0.3333333333333333,
          0.2222222222222222,
          13.777777777777779,
          5.666666666666667,
          2.7777777777777777,
          0,
          0,
          4.888888888888889
         ],
         "yaxis": "y"
        },
        {
         "alignmentgroup": "True",
         "hovertemplate": "業種別=パルプ・紙・紙加工品製造業<br>groupe=%{x}<br>value=%{y}<extra></extra>",
         "legendgroup": "パルプ・紙・紙加工品製造業",
         "marker": {
          "color": "#00cc96",
          "pattern": {
           "shape": ""
          }
         },
         "name": "パルプ・紙・紙加工品製造業",
         "offsetgroup": "パルプ・紙・紙加工品製造業",
         "orientation": "v",
         "showlegend": true,
         "textposition": "auto",
         "type": "bar",
         "x": [
          "コンピュータ・周辺機器関連計（百万円）",
          "通信機器関連費用計（百万円）",
          "その他の情報機器関連費用計（百万円）",
          "ソフトウェア関連費用計（百万円）",
          "処理サービス料（百万円）",
          "運用保守委託料（百万円）",
          "情報セキュリティ関連サービス料（百万円）",
          "その他サービス関連支出（百万円）",
          "その他費用（百万円）"
         ],
         "xaxis": "x",
         "y": [
          27.076923076923077,
          1.9230769230769231,
          0.46153846153846156,
          170,
          59.15384615384615,
          17.384615384615383,
          0.38461538461538464,
          2.6923076923076925,
          104.84615384615384
         ],
         "yaxis": "y"
        },
        {
         "alignmentgroup": "True",
         "hovertemplate": "業種別=化学工業<br>groupe=%{x}<br>value=%{y}<extra></extra>",
         "legendgroup": "化学工業",
         "marker": {
          "color": "#ab63fa",
          "pattern": {
           "shape": ""
          }
         },
         "name": "化学工業",
         "offsetgroup": "化学工業",
         "orientation": "v",
         "showlegend": true,
         "textposition": "auto",
         "type": "bar",
         "x": [
          "コンピュータ・周辺機器関連計（百万円）",
          "通信機器関連費用計（百万円）",
          "その他の情報機器関連費用計（百万円）",
          "ソフトウェア関連費用計（百万円）",
          "処理サービス料（百万円）",
          "運用保守委託料（百万円）",
          "情報セキュリティ関連サービス料（百万円）",
          "その他サービス関連支出（百万円）",
          "その他費用（百万円）"
         ],
         "xaxis": "x",
         "y": [
          284.8541666666667,
          30.6875,
          20.5625,
          246.16666666666669,
          51.604166666666664,
          215.3125,
          6.104166666666667,
          61,
          489.4166666666667
         ],
         "yaxis": "y"
        },
        {
         "alignmentgroup": "True",
         "hovertemplate": "業種別=石油・石炭・ﾌﾟﾗｽﾁｯｸ製品製造業<br>groupe=%{x}<br>value=%{y}<extra></extra>",
         "legendgroup": "石油・石炭・ﾌﾟﾗｽﾁｯｸ製品製造業",
         "marker": {
          "color": "#FFA15A",
          "pattern": {
           "shape": ""
          }
         },
         "name": "石油・石炭・ﾌﾟﾗｽﾁｯｸ製品製造業",
         "offsetgroup": "石油・石炭・ﾌﾟﾗｽﾁｯｸ製品製造業",
         "orientation": "v",
         "showlegend": true,
         "textposition": "auto",
         "type": "bar",
         "x": [
          "コンピュータ・周辺機器関連計（百万円）",
          "通信機器関連費用計（百万円）",
          "その他の情報機器関連費用計（百万円）",
          "ソフトウェア関連費用計（百万円）",
          "処理サービス料（百万円）",
          "運用保守委託料（百万円）",
          "情報セキュリティ関連サービス料（百万円）",
          "その他サービス関連支出（百万円）",
          "その他費用（百万円）"
         ],
         "xaxis": "x",
         "y": [
          13.454545454545453,
          3.3181818181818183,
          1.5454545454545454,
          4644.454545454546,
          13.863636363636363,
          14.272727272727273,
          0.7727272727272727,
          8.409090909090908,
          78.13636363636364
         ],
         "yaxis": "y"
        },
        {
         "alignmentgroup": "True",
         "hovertemplate": "業種別=窯業・土石製品製造業<br>groupe=%{x}<br>value=%{y}<extra></extra>",
         "legendgroup": "窯業・土石製品製造業",
         "marker": {
          "color": "#19d3f3",
          "pattern": {
           "shape": ""
          }
         },
         "name": "窯業・土石製品製造業",
         "offsetgroup": "窯業・土石製品製造業",
         "orientation": "v",
         "showlegend": true,
         "textposition": "auto",
         "type": "bar",
         "x": [
          "コンピュータ・周辺機器関連計（百万円）",
          "通信機器関連費用計（百万円）",
          "その他の情報機器関連費用計（百万円）",
          "ソフトウェア関連費用計（百万円）",
          "処理サービス料（百万円）",
          "運用保守委託料（百万円）",
          "情報セキュリティ関連サービス料（百万円）",
          "その他サービス関連支出（百万円）",
          "その他費用（百万円）"
         ],
         "xaxis": "x",
         "y": [
          18.333333333333336,
          4.222222222222222,
          16.11111111111111,
          111.77777777777779,
          31.11111111111111,
          141.66666666666666,
          0.1111111111111111,
          0.6666666666666666,
          110.11111111111111
         ],
         "yaxis": "y"
        },
        {
         "alignmentgroup": "True",
         "hovertemplate": "業種別=鉄鋼業<br>groupe=%{x}<br>value=%{y}<extra></extra>",
         "legendgroup": "鉄鋼業",
         "marker": {
          "color": "#FF6692",
          "pattern": {
           "shape": ""
          }
         },
         "name": "鉄鋼業",
         "offsetgroup": "鉄鋼業",
         "orientation": "v",
         "showlegend": true,
         "textposition": "auto",
         "type": "bar",
         "x": [
          "コンピュータ・周辺機器関連計（百万円）",
          "通信機器関連費用計（百万円）",
          "その他の情報機器関連費用計（百万円）",
          "ソフトウェア関連費用計（百万円）",
          "処理サービス料（百万円）",
          "運用保守委託料（百万円）",
          "情報セキュリティ関連サービス料（百万円）",
          "その他サービス関連支出（百万円）",
          "その他費用（百万円）"
         ],
         "xaxis": "x",
         "y": [
          373.1578947368421,
          197.10526315789474,
          2.473684210526316,
          676.3157894736842,
          69.89473684210526,
          174.21052631578948,
          1.368421052631579,
          57.8421052631579,
          193.94736842105263
         ],
         "yaxis": "y"
        },
        {
         "alignmentgroup": "True",
         "hovertemplate": "業種別=非鉄金属製品・金属製品製造業<br>groupe=%{x}<br>value=%{y}<extra></extra>",
         "legendgroup": "非鉄金属製品・金属製品製造業",
         "marker": {
          "color": "#B6E880",
          "pattern": {
           "shape": ""
          }
         },
         "name": "非鉄金属製品・金属製品製造業",
         "offsetgroup": "非鉄金属製品・金属製品製造業",
         "orientation": "v",
         "showlegend": true,
         "textposition": "auto",
         "type": "bar",
         "x": [
          "コンピュータ・周辺機器関連計（百万円）",
          "通信機器関連費用計（百万円）",
          "その他の情報機器関連費用計（百万円）",
          "ソフトウェア関連費用計（百万円）",
          "処理サービス料（百万円）",
          "運用保守委託料（百万円）",
          "情報セキュリティ関連サービス料（百万円）",
          "その他サービス関連支出（百万円）",
          "その他費用（百万円）"
         ],
         "xaxis": "x",
         "y": [
          42.782051282051285,
          7.6410256410256405,
          18.94871794871795,
          223.64102564102564,
          19.025641025641026,
          52.17948717948718,
          1.3076923076923077,
          10.41025641025641,
          230.76923076923077
         ],
         "yaxis": "y"
        },
        {
         "alignmentgroup": "True",
         "hovertemplate": "業種別=電気機械器具製造業<br>groupe=%{x}<br>value=%{y}<extra></extra>",
         "legendgroup": "電気機械器具製造業",
         "marker": {
          "color": "#FF97FF",
          "pattern": {
           "shape": ""
          }
         },
         "name": "電気機械器具製造業",
         "offsetgroup": "電気機械器具製造業",
         "orientation": "v",
         "showlegend": true,
         "textposition": "auto",
         "type": "bar",
         "x": [
          "コンピュータ・周辺機器関連計（百万円）",
          "通信機器関連費用計（百万円）",
          "その他の情報機器関連費用計（百万円）",
          "ソフトウェア関連費用計（百万円）",
          "処理サービス料（百万円）",
          "運用保守委託料（百万円）",
          "情報セキュリティ関連サービス料（百万円）",
          "その他サービス関連支出（百万円）",
          "その他費用（百万円）"
         ],
         "xaxis": "x",
         "y": [
          67.91666666666667,
          9.13888888888889,
          1.027777777777778,
          294.80555555555554,
          39.22222222222222,
          122,
          3.9444444444444446,
          80.05555555555556,
          564.2777777777778
         ],
         "yaxis": "y"
        },
        {
         "alignmentgroup": "True",
         "hovertemplate": "業種別=情報通信機械器具製造業<br>groupe=%{x}<br>value=%{y}<extra></extra>",
         "legendgroup": "情報通信機械器具製造業",
         "marker": {
          "color": "#FECB52",
          "pattern": {
           "shape": ""
          }
         },
         "name": "情報通信機械器具製造業",
         "offsetgroup": "情報通信機械器具製造業",
         "orientation": "v",
         "showlegend": true,
         "textposition": "auto",
         "type": "bar",
         "x": [
          "コンピュータ・周辺機器関連計（百万円）",
          "通信機器関連費用計（百万円）",
          "その他の情報機器関連費用計（百万円）",
          "ソフトウェア関連費用計（百万円）",
          "処理サービス料（百万円）",
          "運用保守委託料（百万円）",
          "情報セキュリティ関連サービス料（百万円）",
          "その他サービス関連支出（百万円）",
          "その他費用（百万円）"
         ],
         "xaxis": "x",
         "y": [
          227.58333333333331,
          16.854166666666668,
          19.270833333333332,
          421.85416666666663,
          240.91666666666666,
          521.8770833333333,
          13.833333333333334,
          74.83333333333333,
          346.5645833333333
         ],
         "yaxis": "y"
        },
        {
         "alignmentgroup": "True",
         "hovertemplate": "業種別=輸送用機械器具製造業<br>groupe=%{x}<br>value=%{y}<extra></extra>",
         "legendgroup": "輸送用機械器具製造業",
         "marker": {
          "color": "#636efa",
          "pattern": {
           "shape": ""
          }
         },
         "name": "輸送用機械器具製造業",
         "offsetgroup": "輸送用機械器具製造業",
         "orientation": "v",
         "showlegend": true,
         "textposition": "auto",
         "type": "bar",
         "x": [
          "コンピュータ・周辺機器関連計（百万円）",
          "通信機器関連費用計（百万円）",
          "その他の情報機器関連費用計（百万円）",
          "ソフトウェア関連費用計（百万円）",
          "処理サービス料（百万円）",
          "運用保守委託料（百万円）",
          "情報セキュリティ関連サービス料（百万円）",
          "その他サービス関連支出（百万円）",
          "その他費用（百万円）"
         ],
         "xaxis": "x",
         "y": [
          478.9821428571429,
          96.19642857142858,
          7.446428571428571,
          1488.0892857142858,
          109.25,
          1107.9285714285713,
          27.928571428571427,
          89.82142857142857,
          449.875
         ],
         "yaxis": "y"
        },
        {
         "alignmentgroup": "True",
         "hovertemplate": "業種別=その他機械器具製造業<br>groupe=%{x}<br>value=%{y}<extra></extra>",
         "legendgroup": "その他機械器具製造業",
         "marker": {
          "color": "#EF553B",
          "pattern": {
           "shape": ""
          }
         },
         "name": "その他機械器具製造業",
         "offsetgroup": "その他機械器具製造業",
         "orientation": "v",
         "showlegend": true,
         "textposition": "auto",
         "type": "bar",
         "x": [
          "コンピュータ・周辺機器関連計（百万円）",
          "通信機器関連費用計（百万円）",
          "その他の情報機器関連費用計（百万円）",
          "ソフトウェア関連費用計（百万円）",
          "処理サービス料（百万円）",
          "運用保守委託料（百万円）",
          "情報セキュリティ関連サービス料（百万円）",
          "その他サービス関連支出（百万円）",
          "その他費用（百万円）"
         ],
         "xaxis": "x",
         "y": [
          90.5,
          7.612903225806452,
          14.435483870967742,
          283.64516129032256,
          24.29032258064516,
          84.08064516129032,
          5.080645161290323,
          15.96774193548387,
          211.40322580645162
         ],
         "yaxis": "y"
        },
        {
         "alignmentgroup": "True",
         "hovertemplate": "業種別=その他の製造業<br>groupe=%{x}<br>value=%{y}<extra></extra>",
         "legendgroup": "その他の製造業",
         "marker": {
          "color": "#00cc96",
          "pattern": {
           "shape": ""
          }
         },
         "name": "その他の製造業",
         "offsetgroup": "その他の製造業",
         "orientation": "v",
         "showlegend": true,
         "textposition": "auto",
         "type": "bar",
         "x": [
          "コンピュータ・周辺機器関連計（百万円）",
          "通信機器関連費用計（百万円）",
          "その他の情報機器関連費用計（百万円）",
          "ソフトウェア関連費用計（百万円）",
          "処理サービス料（百万円）",
          "運用保守委託料（百万円）",
          "情報セキュリティ関連サービス料（百万円）",
          "その他サービス関連支出（百万円）",
          "その他費用（百万円）"
         ],
         "xaxis": "x",
         "y": [
          85.73684210526316,
          0.8421052631578947,
          0.7105263157894737,
          341.42105263157896,
          4.526315789473684,
          11.842105263157896,
          0.15789473684210525,
          8.236842105263158,
          255.60526315789474
         ],
         "yaxis": "y"
        },
        {
         "alignmentgroup": "True",
         "hovertemplate": "業種別=農林漁業・同協同組合、鉱業<br>groupe=%{x}<br>value=%{y}<extra></extra>",
         "legendgroup": "農林漁業・同協同組合、鉱業",
         "marker": {
          "color": "#ab63fa",
          "pattern": {
           "shape": ""
          }
         },
         "name": "農林漁業・同協同組合、鉱業",
         "offsetgroup": "農林漁業・同協同組合、鉱業",
         "orientation": "v",
         "showlegend": true,
         "textposition": "auto",
         "type": "bar",
         "x": [
          "コンピュータ・周辺機器関連計（百万円）",
          "通信機器関連費用計（百万円）",
          "その他の情報機器関連費用計（百万円）",
          "ソフトウェア関連費用計（百万円）",
          "処理サービス料（百万円）",
          "運用保守委託料（百万円）",
          "情報セキュリティ関連サービス料（百万円）",
          "その他サービス関連支出（百万円）",
          "その他費用（百万円）"
         ],
         "xaxis": "x",
         "y": [
          2.25,
          0.25,
          0.875,
          3.25,
          0,
          2,
          0.25,
          0.25,
          5.625
         ],
         "yaxis": "y"
        },
        {
         "alignmentgroup": "True",
         "hovertemplate": "業種別=建設業<br>groupe=%{x}<br>value=%{y}<extra></extra>",
         "legendgroup": "建設業",
         "marker": {
          "color": "#FFA15A",
          "pattern": {
           "shape": ""
          }
         },
         "name": "建設業",
         "offsetgroup": "建設業",
         "orientation": "v",
         "showlegend": true,
         "textposition": "auto",
         "type": "bar",
         "x": [
          "コンピュータ・周辺機器関連計（百万円）",
          "通信機器関連費用計（百万円）",
          "その他の情報機器関連費用計（百万円）",
          "ソフトウェア関連費用計（百万円）",
          "処理サービス料（百万円）",
          "運用保守委託料（百万円）",
          "情報セキュリティ関連サービス料（百万円）",
          "その他サービス関連支出（百万円）",
          "その他費用（百万円）"
         ],
         "xaxis": "x",
         "y": [
          36.92655367231639,
          11.446327683615818,
          4.824858757062147,
          82.07344632768361,
          11.994350282485875,
          26.954802259887007,
          1.4576271186440677,
          10.717514124293785,
          81.45762711864407
         ],
         "yaxis": "y"
        },
        {
         "alignmentgroup": "True",
         "hovertemplate": "業種別=電気・ガス・熱供給・水道業<br>groupe=%{x}<br>value=%{y}<extra></extra>",
         "legendgroup": "電気・ガス・熱供給・水道業",
         "marker": {
          "color": "#19d3f3",
          "pattern": {
           "shape": ""
          }
         },
         "name": "電気・ガス・熱供給・水道業",
         "offsetgroup": "電気・ガス・熱供給・水道業",
         "orientation": "v",
         "showlegend": true,
         "textposition": "auto",
         "type": "bar",
         "x": [
          "コンピュータ・周辺機器関連計（百万円）",
          "通信機器関連費用計（百万円）",
          "その他の情報機器関連費用計（百万円）",
          "ソフトウェア関連費用計（百万円）",
          "処理サービス料（百万円）",
          "運用保守委託料（百万円）",
          "情報セキュリティ関連サービス料（百万円）",
          "その他サービス関連支出（百万円）",
          "その他費用（百万円）"
         ],
         "xaxis": "x",
         "y": [
          58.36842105263158,
          64.84210526315789,
          145.84210526315792,
          1077.8947368421052,
          17.57894736842105,
          983.1052631578947,
          8.052631578947368,
          5.473684210526316,
          74.05263157894737
         ],
         "yaxis": "y"
        },
        {
         "alignmentgroup": "True",
         "hovertemplate": "業種別=映像・音声情報制作・放送・通信業<br>groupe=%{x}<br>value=%{y}<extra></extra>",
         "legendgroup": "映像・音声情報制作・放送・通信業",
         "marker": {
          "color": "#FF6692",
          "pattern": {
           "shape": ""
          }
         },
         "name": "映像・音声情報制作・放送・通信業",
         "offsetgroup": "映像・音声情報制作・放送・通信業",
         "orientation": "v",
         "showlegend": true,
         "textposition": "auto",
         "type": "bar",
         "x": [
          "コンピュータ・周辺機器関連計（百万円）",
          "通信機器関連費用計（百万円）",
          "その他の情報機器関連費用計（百万円）",
          "ソフトウェア関連費用計（百万円）",
          "処理サービス料（百万円）",
          "運用保守委託料（百万円）",
          "情報セキュリティ関連サービス料（百万円）",
          "その他サービス関連支出（百万円）",
          "その他費用（百万円）"
         ],
         "xaxis": "x",
         "y": [
          459.6818181818182,
          75.36363636363637,
          65.45454545454545,
          2236.2272727272725,
          15,
          1298.090909090909,
          9.227272727272727,
          149,
          125.27272727272727
         ],
         "yaxis": "y"
        },
        {
         "alignmentgroup": "True",
         "hovertemplate": "業種別=新聞・出版業<br>groupe=%{x}<br>value=%{y}<extra></extra>",
         "legendgroup": "新聞・出版業",
         "marker": {
          "color": "#B6E880",
          "pattern": {
           "shape": ""
          }
         },
         "name": "新聞・出版業",
         "offsetgroup": "新聞・出版業",
         "orientation": "v",
         "showlegend": true,
         "textposition": "auto",
         "type": "bar",
         "x": [
          "コンピュータ・周辺機器関連計（百万円）",
          "通信機器関連費用計（百万円）",
          "その他の情報機器関連費用計（百万円）",
          "ソフトウェア関連費用計（百万円）",
          "処理サービス料（百万円）",
          "運用保守委託料（百万円）",
          "情報セキュリティ関連サービス料（百万円）",
          "その他サービス関連支出（百万円）",
          "その他費用（百万円）"
         ],
         "xaxis": "x",
         "y": [
          25.642857142857142,
          7.214285714285714,
          4.214285714285714,
          207.71428571428572,
          9.714285714285714,
          106.92857142857143,
          0.5,
          21.142857142857142,
          50.5
         ],
         "yaxis": "y"
        },
        {
         "alignmentgroup": "True",
         "hovertemplate": "業種別=情報サービス業<br>groupe=%{x}<br>value=%{y}<extra></extra>",
         "legendgroup": "情報サービス業",
         "marker": {
          "color": "#FF97FF",
          "pattern": {
           "shape": ""
          }
         },
         "name": "情報サービス業",
         "offsetgroup": "情報サービス業",
         "orientation": "v",
         "showlegend": true,
         "textposition": "auto",
         "type": "bar",
         "x": [
          "コンピュータ・周辺機器関連計（百万円）",
          "通信機器関連費用計（百万円）",
          "その他の情報機器関連費用計（百万円）",
          "ソフトウェア関連費用計（百万円）",
          "処理サービス料（百万円）",
          "運用保守委託料（百万円）",
          "情報セキュリティ関連サービス料（百万円）",
          "その他サービス関連支出（百万円）",
          "その他費用（百万円）"
         ],
         "xaxis": "x",
         "y": [
          135.11578947368423,
          8.947368421052632,
          5.178947368421053,
          221.57684210526315,
          34.77894736842105,
          47.189473684210526,
          1.6105263157894736,
          35.578947368421055,
          279.05263157894734
         ],
         "yaxis": "y"
        },
        {
         "alignmentgroup": "True",
         "hovertemplate": "業種別=運輸業・郵便業<br>groupe=%{x}<br>value=%{y}<extra></extra>",
         "legendgroup": "運輸業・郵便業",
         "marker": {
          "color": "#FECB52",
          "pattern": {
           "shape": ""
          }
         },
         "name": "運輸業・郵便業",
         "offsetgroup": "運輸業・郵便業",
         "orientation": "v",
         "showlegend": true,
         "textposition": "auto",
         "type": "bar",
         "x": [
          "コンピュータ・周辺機器関連計（百万円）",
          "通信機器関連費用計（百万円）",
          "その他の情報機器関連費用計（百万円）",
          "ソフトウェア関連費用計（百万円）",
          "処理サービス料（百万円）",
          "運用保守委託料（百万円）",
          "情報セキュリティ関連サービス料（百万円）",
          "その他サービス関連支出（百万円）",
          "その他費用（百万円）"
         ],
         "xaxis": "x",
         "y": [
          46.398989898989896,
          5.472727272727273,
          58.398989898989896,
          131.8080808080808,
          97.82323232323232,
          64.66161616161617,
          1.1393939393939394,
          11.212121212121213,
          205.54040404040404
         ],
         "yaxis": "y"
        },
        {
         "alignmentgroup": "True",
         "hovertemplate": "業種別=卸売業<br>groupe=%{x}<br>value=%{y}<extra></extra>",
         "legendgroup": "卸売業",
         "marker": {
          "color": "#636efa",
          "pattern": {
           "shape": ""
          }
         },
         "name": "卸売業",
         "offsetgroup": "卸売業",
         "orientation": "v",
         "showlegend": true,
         "textposition": "auto",
         "type": "bar",
         "x": [
          "コンピュータ・周辺機器関連計（百万円）",
          "通信機器関連費用計（百万円）",
          "その他の情報機器関連費用計（百万円）",
          "ソフトウェア関連費用計（百万円）",
          "処理サービス料（百万円）",
          "運用保守委託料（百万円）",
          "情報セキュリティ関連サービス料（百万円）",
          "その他サービス関連支出（百万円）",
          "その他費用（百万円）"
         ],
         "xaxis": "x",
         "y": [
          39.177304964539005,
          6.198581560283689,
          25.382978723404257,
          201.47517730496455,
          22.113475177304963,
          125,
          2.5531914893617023,
          4.219858156028369,
          252.38297872340425
         ],
         "yaxis": "y"
        },
        {
         "alignmentgroup": "True",
         "hovertemplate": "業種別=小売業<br>groupe=%{x}<br>value=%{y}<extra></extra>",
         "legendgroup": "小売業",
         "marker": {
          "color": "#EF553B",
          "pattern": {
           "shape": ""
          }
         },
         "name": "小売業",
         "offsetgroup": "小売業",
         "orientation": "v",
         "showlegend": true,
         "textposition": "auto",
         "type": "bar",
         "x": [
          "コンピュータ・周辺機器関連計（百万円）",
          "通信機器関連費用計（百万円）",
          "その他の情報機器関連費用計（百万円）",
          "ソフトウェア関連費用計（百万円）",
          "処理サービス料（百万円）",
          "運用保守委託料（百万円）",
          "情報セキュリティ関連サービス料（百万円）",
          "その他サービス関連支出（百万円）",
          "その他費用（百万円）"
         ],
         "xaxis": "x",
         "y": [
          62.49375,
          5.28125,
          5.2625,
          108.21249999999999,
          15.9625,
          73.2125,
          2.85,
          6.125,
          142.8625
         ],
         "yaxis": "y"
        },
        {
         "alignmentgroup": "True",
         "hovertemplate": "業種別=金融業・保険業<br>groupe=%{x}<br>value=%{y}<extra></extra>",
         "legendgroup": "金融業・保険業",
         "marker": {
          "color": "#00cc96",
          "pattern": {
           "shape": ""
          }
         },
         "name": "金融業・保険業",
         "offsetgroup": "金融業・保険業",
         "orientation": "v",
         "showlegend": true,
         "textposition": "auto",
         "type": "bar",
         "x": [
          "コンピュータ・周辺機器関連計（百万円）",
          "通信機器関連費用計（百万円）",
          "その他の情報機器関連費用計（百万円）",
          "ソフトウェア関連費用計（百万円）",
          "処理サービス料（百万円）",
          "運用保守委託料（百万円）",
          "情報セキュリティ関連サービス料（百万円）",
          "その他サービス関連支出（百万円）",
          "その他費用（百万円）"
         ],
         "xaxis": "x",
         "y": [
          290.7369565217391,
          118.62391304347827,
          93.23478260869565,
          1263.4304347826085,
          190.8985507246377,
          628.8333333333334,
          18.21014492753623,
          100.17391304347827,
          459.07246376811594
         ],
         "yaxis": "y"
        },
        {
         "alignmentgroup": "True",
         "hovertemplate": "業種別=医療業（国・公立除く）<br>groupe=%{x}<br>value=%{y}<extra></extra>",
         "legendgroup": "医療業（国・公立除く）",
         "marker": {
          "color": "#ab63fa",
          "pattern": {
           "shape": ""
          }
         },
         "name": "医療業（国・公立除く）",
         "offsetgroup": "医療業（国・公立除く）",
         "orientation": "v",
         "showlegend": true,
         "textposition": "auto",
         "type": "bar",
         "x": [
          "コンピュータ・周辺機器関連計（百万円）",
          "通信機器関連費用計（百万円）",
          "その他の情報機器関連費用計（百万円）",
          "ソフトウェア関連費用計（百万円）",
          "処理サービス料（百万円）",
          "運用保守委託料（百万円）",
          "情報セキュリティ関連サービス料（百万円）",
          "その他サービス関連支出（百万円）",
          "その他費用（百万円）"
         ],
         "xaxis": "x",
         "y": [
          34.666666666666664,
          9,
          1.6666666666666667,
          30,
          0.3333333333333333,
          17,
          1.3333333333333333,
          19,
          66.66666666666667
         ],
         "yaxis": "y"
        },
        {
         "alignmentgroup": "True",
         "hovertemplate": "業種別=教育（国・公立除く）、学習支援業<br>groupe=%{x}<br>value=%{y}<extra></extra>",
         "legendgroup": "教育（国・公立除く）、学習支援業",
         "marker": {
          "color": "#FFA15A",
          "pattern": {
           "shape": ""
          }
         },
         "name": "教育（国・公立除く）、学習支援業",
         "offsetgroup": "教育（国・公立除く）、学習支援業",
         "orientation": "v",
         "showlegend": true,
         "textposition": "auto",
         "type": "bar",
         "x": [
          "コンピュータ・周辺機器関連計（百万円）",
          "通信機器関連費用計（百万円）",
          "その他の情報機器関連費用計（百万円）",
          "ソフトウェア関連費用計（百万円）",
          "処理サービス料（百万円）",
          "運用保守委託料（百万円）",
          "情報セキュリティ関連サービス料（百万円）",
          "その他サービス関連支出（百万円）",
          "その他費用（百万円）"
         ],
         "xaxis": "x",
         "y": [
          2.75,
          1.5,
          0.625,
          10.5,
          0.125,
          3.875,
          2.75,
          0.375,
          4
         ],
         "yaxis": "y"
        },
        {
         "alignmentgroup": "True",
         "hovertemplate": "業種別=その他の非製造業<br>groupe=%{x}<br>value=%{y}<extra></extra>",
         "legendgroup": "その他の非製造業",
         "marker": {
          "color": "#19d3f3",
          "pattern": {
           "shape": ""
          }
         },
         "name": "その他の非製造業",
         "offsetgroup": "その他の非製造業",
         "orientation": "v",
         "showlegend": true,
         "textposition": "auto",
         "type": "bar",
         "x": [
          "コンピュータ・周辺機器関連計（百万円）",
          "通信機器関連費用計（百万円）",
          "その他の情報機器関連費用計（百万円）",
          "ソフトウェア関連費用計（百万円）",
          "処理サービス料（百万円）",
          "運用保守委託料（百万円）",
          "情報セキュリティ関連サービス料（百万円）",
          "その他サービス関連支出（百万円）",
          "その他費用（百万円）"
         ],
         "xaxis": "x",
         "y": [
          43.43557046979866,
          14.360402684563757,
          28.28791946308725,
          107.77941834451903,
          8.900447427293065,
          37.40308724832215,
          1.0788590604026846,
          3.988814317673378,
          51.005525727069355
         ],
         "yaxis": "y"
        }
       ],
       "layout": {
        "barmode": "relative",
        "legend": {
         "title": {
          "text": "業種別"
         },
         "tracegroupgap": 0
        },
        "margin": {
         "t": 60
        },
        "template": {
         "data": {
          "bar": [
           {
            "error_x": {
             "color": "#2a3f5f"
            },
            "error_y": {
             "color": "#2a3f5f"
            },
            "marker": {
             "line": {
              "color": "#E5ECF6",
              "width": 0.5
             },
             "pattern": {
              "fillmode": "overlay",
              "size": 10,
              "solidity": 0.2
             }
            },
            "type": "bar"
           }
          ],
          "barpolar": [
           {
            "marker": {
             "line": {
              "color": "#E5ECF6",
              "width": 0.5
             },
             "pattern": {
              "fillmode": "overlay",
              "size": 10,
              "solidity": 0.2
             }
            },
            "type": "barpolar"
           }
          ],
          "carpet": [
           {
            "aaxis": {
             "endlinecolor": "#2a3f5f",
             "gridcolor": "white",
             "linecolor": "white",
             "minorgridcolor": "white",
             "startlinecolor": "#2a3f5f"
            },
            "baxis": {
             "endlinecolor": "#2a3f5f",
             "gridcolor": "white",
             "linecolor": "white",
             "minorgridcolor": "white",
             "startlinecolor": "#2a3f5f"
            },
            "type": "carpet"
           }
          ],
          "choropleth": [
           {
            "colorbar": {
             "outlinewidth": 0,
             "ticks": ""
            },
            "type": "choropleth"
           }
          ],
          "contour": [
           {
            "colorbar": {
             "outlinewidth": 0,
             "ticks": ""
            },
            "colorscale": [
             [
              0,
              "#0d0887"
             ],
             [
              0.1111111111111111,
              "#46039f"
             ],
             [
              0.2222222222222222,
              "#7201a8"
             ],
             [
              0.3333333333333333,
              "#9c179e"
             ],
             [
              0.4444444444444444,
              "#bd3786"
             ],
             [
              0.5555555555555556,
              "#d8576b"
             ],
             [
              0.6666666666666666,
              "#ed7953"
             ],
             [
              0.7777777777777778,
              "#fb9f3a"
             ],
             [
              0.8888888888888888,
              "#fdca26"
             ],
             [
              1,
              "#f0f921"
             ]
            ],
            "type": "contour"
           }
          ],
          "contourcarpet": [
           {
            "colorbar": {
             "outlinewidth": 0,
             "ticks": ""
            },
            "type": "contourcarpet"
           }
          ],
          "heatmap": [
           {
            "colorbar": {
             "outlinewidth": 0,
             "ticks": ""
            },
            "colorscale": [
             [
              0,
              "#0d0887"
             ],
             [
              0.1111111111111111,
              "#46039f"
             ],
             [
              0.2222222222222222,
              "#7201a8"
             ],
             [
              0.3333333333333333,
              "#9c179e"
             ],
             [
              0.4444444444444444,
              "#bd3786"
             ],
             [
              0.5555555555555556,
              "#d8576b"
             ],
             [
              0.6666666666666666,
              "#ed7953"
             ],
             [
              0.7777777777777778,
              "#fb9f3a"
             ],
             [
              0.8888888888888888,
              "#fdca26"
             ],
             [
              1,
              "#f0f921"
             ]
            ],
            "type": "heatmap"
           }
          ],
          "heatmapgl": [
           {
            "colorbar": {
             "outlinewidth": 0,
             "ticks": ""
            },
            "colorscale": [
             [
              0,
              "#0d0887"
             ],
             [
              0.1111111111111111,
              "#46039f"
             ],
             [
              0.2222222222222222,
              "#7201a8"
             ],
             [
              0.3333333333333333,
              "#9c179e"
             ],
             [
              0.4444444444444444,
              "#bd3786"
             ],
             [
              0.5555555555555556,
              "#d8576b"
             ],
             [
              0.6666666666666666,
              "#ed7953"
             ],
             [
              0.7777777777777778,
              "#fb9f3a"
             ],
             [
              0.8888888888888888,
              "#fdca26"
             ],
             [
              1,
              "#f0f921"
             ]
            ],
            "type": "heatmapgl"
           }
          ],
          "histogram": [
           {
            "marker": {
             "pattern": {
              "fillmode": "overlay",
              "size": 10,
              "solidity": 0.2
             }
            },
            "type": "histogram"
           }
          ],
          "histogram2d": [
           {
            "colorbar": {
             "outlinewidth": 0,
             "ticks": ""
            },
            "colorscale": [
             [
              0,
              "#0d0887"
             ],
             [
              0.1111111111111111,
              "#46039f"
             ],
             [
              0.2222222222222222,
              "#7201a8"
             ],
             [
              0.3333333333333333,
              "#9c179e"
             ],
             [
              0.4444444444444444,
              "#bd3786"
             ],
             [
              0.5555555555555556,
              "#d8576b"
             ],
             [
              0.6666666666666666,
              "#ed7953"
             ],
             [
              0.7777777777777778,
              "#fb9f3a"
             ],
             [
              0.8888888888888888,
              "#fdca26"
             ],
             [
              1,
              "#f0f921"
             ]
            ],
            "type": "histogram2d"
           }
          ],
          "histogram2dcontour": [
           {
            "colorbar": {
             "outlinewidth": 0,
             "ticks": ""
            },
            "colorscale": [
             [
              0,
              "#0d0887"
             ],
             [
              0.1111111111111111,
              "#46039f"
             ],
             [
              0.2222222222222222,
              "#7201a8"
             ],
             [
              0.3333333333333333,
              "#9c179e"
             ],
             [
              0.4444444444444444,
              "#bd3786"
             ],
             [
              0.5555555555555556,
              "#d8576b"
             ],
             [
              0.6666666666666666,
              "#ed7953"
             ],
             [
              0.7777777777777778,
              "#fb9f3a"
             ],
             [
              0.8888888888888888,
              "#fdca26"
             ],
             [
              1,
              "#f0f921"
             ]
            ],
            "type": "histogram2dcontour"
           }
          ],
          "mesh3d": [
           {
            "colorbar": {
             "outlinewidth": 0,
             "ticks": ""
            },
            "type": "mesh3d"
           }
          ],
          "parcoords": [
           {
            "line": {
             "colorbar": {
              "outlinewidth": 0,
              "ticks": ""
             }
            },
            "type": "parcoords"
           }
          ],
          "pie": [
           {
            "automargin": true,
            "type": "pie"
           }
          ],
          "scatter": [
           {
            "marker": {
             "colorbar": {
              "outlinewidth": 0,
              "ticks": ""
             }
            },
            "type": "scatter"
           }
          ],
          "scatter3d": [
           {
            "line": {
             "colorbar": {
              "outlinewidth": 0,
              "ticks": ""
             }
            },
            "marker": {
             "colorbar": {
              "outlinewidth": 0,
              "ticks": ""
             }
            },
            "type": "scatter3d"
           }
          ],
          "scattercarpet": [
           {
            "marker": {
             "colorbar": {
              "outlinewidth": 0,
              "ticks": ""
             }
            },
            "type": "scattercarpet"
           }
          ],
          "scattergeo": [
           {
            "marker": {
             "colorbar": {
              "outlinewidth": 0,
              "ticks": ""
             }
            },
            "type": "scattergeo"
           }
          ],
          "scattergl": [
           {
            "marker": {
             "colorbar": {
              "outlinewidth": 0,
              "ticks": ""
             }
            },
            "type": "scattergl"
           }
          ],
          "scattermapbox": [
           {
            "marker": {
             "colorbar": {
              "outlinewidth": 0,
              "ticks": ""
             }
            },
            "type": "scattermapbox"
           }
          ],
          "scatterpolar": [
           {
            "marker": {
             "colorbar": {
              "outlinewidth": 0,
              "ticks": ""
             }
            },
            "type": "scatterpolar"
           }
          ],
          "scatterpolargl": [
           {
            "marker": {
             "colorbar": {
              "outlinewidth": 0,
              "ticks": ""
             }
            },
            "type": "scatterpolargl"
           }
          ],
          "scatterternary": [
           {
            "marker": {
             "colorbar": {
              "outlinewidth": 0,
              "ticks": ""
             }
            },
            "type": "scatterternary"
           }
          ],
          "surface": [
           {
            "colorbar": {
             "outlinewidth": 0,
             "ticks": ""
            },
            "colorscale": [
             [
              0,
              "#0d0887"
             ],
             [
              0.1111111111111111,
              "#46039f"
             ],
             [
              0.2222222222222222,
              "#7201a8"
             ],
             [
              0.3333333333333333,
              "#9c179e"
             ],
             [
              0.4444444444444444,
              "#bd3786"
             ],
             [
              0.5555555555555556,
              "#d8576b"
             ],
             [
              0.6666666666666666,
              "#ed7953"
             ],
             [
              0.7777777777777778,
              "#fb9f3a"
             ],
             [
              0.8888888888888888,
              "#fdca26"
             ],
             [
              1,
              "#f0f921"
             ]
            ],
            "type": "surface"
           }
          ],
          "table": [
           {
            "cells": {
             "fill": {
              "color": "#EBF0F8"
             },
             "line": {
              "color": "white"
             }
            },
            "header": {
             "fill": {
              "color": "#C8D4E3"
             },
             "line": {
              "color": "white"
             }
            },
            "type": "table"
           }
          ]
         },
         "layout": {
          "annotationdefaults": {
           "arrowcolor": "#2a3f5f",
           "arrowhead": 0,
           "arrowwidth": 1
          },
          "autotypenumbers": "strict",
          "coloraxis": {
           "colorbar": {
            "outlinewidth": 0,
            "ticks": ""
           }
          },
          "colorscale": {
           "diverging": [
            [
             0,
             "#8e0152"
            ],
            [
             0.1,
             "#c51b7d"
            ],
            [
             0.2,
             "#de77ae"
            ],
            [
             0.3,
             "#f1b6da"
            ],
            [
             0.4,
             "#fde0ef"
            ],
            [
             0.5,
             "#f7f7f7"
            ],
            [
             0.6,
             "#e6f5d0"
            ],
            [
             0.7,
             "#b8e186"
            ],
            [
             0.8,
             "#7fbc41"
            ],
            [
             0.9,
             "#4d9221"
            ],
            [
             1,
             "#276419"
            ]
           ],
           "sequential": [
            [
             0,
             "#0d0887"
            ],
            [
             0.1111111111111111,
             "#46039f"
            ],
            [
             0.2222222222222222,
             "#7201a8"
            ],
            [
             0.3333333333333333,
             "#9c179e"
            ],
            [
             0.4444444444444444,
             "#bd3786"
            ],
            [
             0.5555555555555556,
             "#d8576b"
            ],
            [
             0.6666666666666666,
             "#ed7953"
            ],
            [
             0.7777777777777778,
             "#fb9f3a"
            ],
            [
             0.8888888888888888,
             "#fdca26"
            ],
            [
             1,
             "#f0f921"
            ]
           ],
           "sequentialminus": [
            [
             0,
             "#0d0887"
            ],
            [
             0.1111111111111111,
             "#46039f"
            ],
            [
             0.2222222222222222,
             "#7201a8"
            ],
            [
             0.3333333333333333,
             "#9c179e"
            ],
            [
             0.4444444444444444,
             "#bd3786"
            ],
            [
             0.5555555555555556,
             "#d8576b"
            ],
            [
             0.6666666666666666,
             "#ed7953"
            ],
            [
             0.7777777777777778,
             "#fb9f3a"
            ],
            [
             0.8888888888888888,
             "#fdca26"
            ],
            [
             1,
             "#f0f921"
            ]
           ]
          },
          "colorway": [
           "#636efa",
           "#EF553B",
           "#00cc96",
           "#ab63fa",
           "#FFA15A",
           "#19d3f3",
           "#FF6692",
           "#B6E880",
           "#FF97FF",
           "#FECB52"
          ],
          "font": {
           "color": "#2a3f5f"
          },
          "geo": {
           "bgcolor": "white",
           "lakecolor": "white",
           "landcolor": "#E5ECF6",
           "showlakes": true,
           "showland": true,
           "subunitcolor": "white"
          },
          "hoverlabel": {
           "align": "left"
          },
          "hovermode": "closest",
          "mapbox": {
           "style": "light"
          },
          "paper_bgcolor": "white",
          "plot_bgcolor": "#E5ECF6",
          "polar": {
           "angularaxis": {
            "gridcolor": "white",
            "linecolor": "white",
            "ticks": ""
           },
           "bgcolor": "#E5ECF6",
           "radialaxis": {
            "gridcolor": "white",
            "linecolor": "white",
            "ticks": ""
           }
          },
          "scene": {
           "xaxis": {
            "backgroundcolor": "#E5ECF6",
            "gridcolor": "white",
            "gridwidth": 2,
            "linecolor": "white",
            "showbackground": true,
            "ticks": "",
            "zerolinecolor": "white"
           },
           "yaxis": {
            "backgroundcolor": "#E5ECF6",
            "gridcolor": "white",
            "gridwidth": 2,
            "linecolor": "white",
            "showbackground": true,
            "ticks": "",
            "zerolinecolor": "white"
           },
           "zaxis": {
            "backgroundcolor": "#E5ECF6",
            "gridcolor": "white",
            "gridwidth": 2,
            "linecolor": "white",
            "showbackground": true,
            "ticks": "",
            "zerolinecolor": "white"
           }
          },
          "shapedefaults": {
           "line": {
            "color": "#2a3f5f"
           }
          },
          "ternary": {
           "aaxis": {
            "gridcolor": "white",
            "linecolor": "white",
            "ticks": ""
           },
           "baxis": {
            "gridcolor": "white",
            "linecolor": "white",
            "ticks": ""
           },
           "bgcolor": "#E5ECF6",
           "caxis": {
            "gridcolor": "white",
            "linecolor": "white",
            "ticks": ""
           }
          },
          "title": {
           "x": 0.05
          },
          "xaxis": {
           "automargin": true,
           "gridcolor": "white",
           "linecolor": "white",
           "ticks": "",
           "title": {
            "standoff": 15
           },
           "zerolinecolor": "white",
           "zerolinewidth": 2
          },
          "yaxis": {
           "automargin": true,
           "gridcolor": "white",
           "linecolor": "white",
           "ticks": "",
           "title": {
            "standoff": 15
           },
           "zerolinecolor": "white",
           "zerolinewidth": 2
          }
         }
        },
        "xaxis": {
         "anchor": "y",
         "categoryorder": "total descending",
         "domain": [
          0,
          1
         ],
         "title": {
          "text": "groupe"
         }
        },
        "yaxis": {
         "anchor": "x",
         "domain": [
          0,
          1
         ],
         "title": {
          "text": "IT関係諸経費内訳"
         }
        }
       }
      },
      "text/html": [
       "<div>                            <div id=\"10f7e62d-abc0-4f39-b870-7ad7cf20c3ac\" class=\"plotly-graph-div\" style=\"height:525px; width:100%;\"></div>            <script type=\"text/javascript\">                require([\"plotly\"], function(Plotly) {                    window.PLOTLYENV=window.PLOTLYENV || {};                                    if (document.getElementById(\"10f7e62d-abc0-4f39-b870-7ad7cf20c3ac\")) {                    Plotly.newPlot(                        \"10f7e62d-abc0-4f39-b870-7ad7cf20c3ac\",                        [{\"alignmentgroup\":\"True\",\"hovertemplate\":\"\\u696d\\u7a2e\\u5225=\\u98df\\u6599\\u54c1\\u3001\\u98f2\\u6599\\u30fb\\u305f\\u3070\\u3053\\u30fb\\u98fc\\u6599\\u88fd\\u9020\\u696d<br>groupe=%{x}<br>value=%{y}<extra></extra>\",\"legendgroup\":\"\\u98df\\u6599\\u54c1\\u3001\\u98f2\\u6599\\u30fb\\u305f\\u3070\\u3053\\u30fb\\u98fc\\u6599\\u88fd\\u9020\\u696d\",\"marker\":{\"color\":\"#636efa\",\"pattern\":{\"shape\":\"\"}},\"name\":\"\\u98df\\u6599\\u54c1\\u3001\\u98f2\\u6599\\u30fb\\u305f\\u3070\\u3053\\u30fb\\u98fc\\u6599\\u88fd\\u9020\\u696d\",\"offsetgroup\":\"\\u98df\\u6599\\u54c1\\u3001\\u98f2\\u6599\\u30fb\\u305f\\u3070\\u3053\\u30fb\\u98fc\\u6599\\u88fd\\u9020\\u696d\",\"orientation\":\"v\",\"showlegend\":true,\"textposition\":\"auto\",\"x\":[\"\\u30b3\\u30f3\\u30d4\\u30e5\\u30fc\\u30bf\\u30fb\\u5468\\u8fba\\u6a5f\\u5668\\u95a2\\u9023\\u8a08\\uff08\\u767e\\u4e07\\u5186\\uff09\",\"\\u901a\\u4fe1\\u6a5f\\u5668\\u95a2\\u9023\\u8cbb\\u7528\\u8a08\\uff08\\u767e\\u4e07\\u5186\\uff09\",\"\\u305d\\u306e\\u4ed6\\u306e\\u60c5\\u5831\\u6a5f\\u5668\\u95a2\\u9023\\u8cbb\\u7528\\u8a08\\uff08\\u767e\\u4e07\\u5186\\uff09\",\"\\u30bd\\u30d5\\u30c8\\u30a6\\u30a7\\u30a2\\u95a2\\u9023\\u8cbb\\u7528\\u8a08\\uff08\\u767e\\u4e07\\u5186\\uff09\",\"\\u51e6\\u7406\\u30b5\\u30fc\\u30d3\\u30b9\\u6599\\uff08\\u767e\\u4e07\\u5186\\uff09\",\"\\u904b\\u7528\\u4fdd\\u5b88\\u59d4\\u8a17\\u6599\\uff08\\u767e\\u4e07\\u5186\\uff09\",\"\\u60c5\\u5831\\u30bb\\u30ad\\u30e5\\u30ea\\u30c6\\u30a3\\u95a2\\u9023\\u30b5\\u30fc\\u30d3\\u30b9\\u6599\\uff08\\u767e\\u4e07\\u5186\\uff09\",\"\\u305d\\u306e\\u4ed6\\u30b5\\u30fc\\u30d3\\u30b9\\u95a2\\u9023\\u652f\\u51fa\\uff08\\u767e\\u4e07\\u5186\\uff09\",\"\\u305d\\u306e\\u4ed6\\u8cbb\\u7528\\uff08\\u767e\\u4e07\\u5186\\uff09\"],\"xaxis\":\"x\",\"y\":[54.528571428571425,4.923,44.620285714285714,221.99285714285713,18.742857142857144,107.77142857142857,3.6714285714285713,7.871428571428571,65.21428571428571],\"yaxis\":\"y\",\"type\":\"bar\"},{\"alignmentgroup\":\"True\",\"hovertemplate\":\"\\u696d\\u7a2e\\u5225=\\u7e4a\\u7dad\\u5de5\\u696d<br>groupe=%{x}<br>value=%{y}<extra></extra>\",\"legendgroup\":\"\\u7e4a\\u7dad\\u5de5\\u696d\",\"marker\":{\"color\":\"#EF553B\",\"pattern\":{\"shape\":\"\"}},\"name\":\"\\u7e4a\\u7dad\\u5de5\\u696d\",\"offsetgroup\":\"\\u7e4a\\u7dad\\u5de5\\u696d\",\"orientation\":\"v\",\"showlegend\":true,\"textposition\":\"auto\",\"x\":[\"\\u30b3\\u30f3\\u30d4\\u30e5\\u30fc\\u30bf\\u30fb\\u5468\\u8fba\\u6a5f\\u5668\\u95a2\\u9023\\u8a08\\uff08\\u767e\\u4e07\\u5186\\uff09\",\"\\u901a\\u4fe1\\u6a5f\\u5668\\u95a2\\u9023\\u8cbb\\u7528\\u8a08\\uff08\\u767e\\u4e07\\u5186\\uff09\",\"\\u305d\\u306e\\u4ed6\\u306e\\u60c5\\u5831\\u6a5f\\u5668\\u95a2\\u9023\\u8cbb\\u7528\\u8a08\\uff08\\u767e\\u4e07\\u5186\\uff09\",\"\\u30bd\\u30d5\\u30c8\\u30a6\\u30a7\\u30a2\\u95a2\\u9023\\u8cbb\\u7528\\u8a08\\uff08\\u767e\\u4e07\\u5186\\uff09\",\"\\u51e6\\u7406\\u30b5\\u30fc\\u30d3\\u30b9\\u6599\\uff08\\u767e\\u4e07\\u5186\\uff09\",\"\\u904b\\u7528\\u4fdd\\u5b88\\u59d4\\u8a17\\u6599\\uff08\\u767e\\u4e07\\u5186\\uff09\",\"\\u60c5\\u5831\\u30bb\\u30ad\\u30e5\\u30ea\\u30c6\\u30a3\\u95a2\\u9023\\u30b5\\u30fc\\u30d3\\u30b9\\u6599\\uff08\\u767e\\u4e07\\u5186\\uff09\",\"\\u305d\\u306e\\u4ed6\\u30b5\\u30fc\\u30d3\\u30b9\\u95a2\\u9023\\u652f\\u51fa\\uff08\\u767e\\u4e07\\u5186\\uff09\",\"\\u305d\\u306e\\u4ed6\\u8cbb\\u7528\\uff08\\u767e\\u4e07\\u5186\\uff09\"],\"xaxis\":\"x\",\"y\":[8.555555555555555,0.3333333333333333,0.2222222222222222,13.777777777777779,5.666666666666667,2.7777777777777777,0,0,4.888888888888889],\"yaxis\":\"y\",\"type\":\"bar\"},{\"alignmentgroup\":\"True\",\"hovertemplate\":\"\\u696d\\u7a2e\\u5225=\\u30d1\\u30eb\\u30d7\\u30fb\\u7d19\\u30fb\\u7d19\\u52a0\\u5de5\\u54c1\\u88fd\\u9020\\u696d<br>groupe=%{x}<br>value=%{y}<extra></extra>\",\"legendgroup\":\"\\u30d1\\u30eb\\u30d7\\u30fb\\u7d19\\u30fb\\u7d19\\u52a0\\u5de5\\u54c1\\u88fd\\u9020\\u696d\",\"marker\":{\"color\":\"#00cc96\",\"pattern\":{\"shape\":\"\"}},\"name\":\"\\u30d1\\u30eb\\u30d7\\u30fb\\u7d19\\u30fb\\u7d19\\u52a0\\u5de5\\u54c1\\u88fd\\u9020\\u696d\",\"offsetgroup\":\"\\u30d1\\u30eb\\u30d7\\u30fb\\u7d19\\u30fb\\u7d19\\u52a0\\u5de5\\u54c1\\u88fd\\u9020\\u696d\",\"orientation\":\"v\",\"showlegend\":true,\"textposition\":\"auto\",\"x\":[\"\\u30b3\\u30f3\\u30d4\\u30e5\\u30fc\\u30bf\\u30fb\\u5468\\u8fba\\u6a5f\\u5668\\u95a2\\u9023\\u8a08\\uff08\\u767e\\u4e07\\u5186\\uff09\",\"\\u901a\\u4fe1\\u6a5f\\u5668\\u95a2\\u9023\\u8cbb\\u7528\\u8a08\\uff08\\u767e\\u4e07\\u5186\\uff09\",\"\\u305d\\u306e\\u4ed6\\u306e\\u60c5\\u5831\\u6a5f\\u5668\\u95a2\\u9023\\u8cbb\\u7528\\u8a08\\uff08\\u767e\\u4e07\\u5186\\uff09\",\"\\u30bd\\u30d5\\u30c8\\u30a6\\u30a7\\u30a2\\u95a2\\u9023\\u8cbb\\u7528\\u8a08\\uff08\\u767e\\u4e07\\u5186\\uff09\",\"\\u51e6\\u7406\\u30b5\\u30fc\\u30d3\\u30b9\\u6599\\uff08\\u767e\\u4e07\\u5186\\uff09\",\"\\u904b\\u7528\\u4fdd\\u5b88\\u59d4\\u8a17\\u6599\\uff08\\u767e\\u4e07\\u5186\\uff09\",\"\\u60c5\\u5831\\u30bb\\u30ad\\u30e5\\u30ea\\u30c6\\u30a3\\u95a2\\u9023\\u30b5\\u30fc\\u30d3\\u30b9\\u6599\\uff08\\u767e\\u4e07\\u5186\\uff09\",\"\\u305d\\u306e\\u4ed6\\u30b5\\u30fc\\u30d3\\u30b9\\u95a2\\u9023\\u652f\\u51fa\\uff08\\u767e\\u4e07\\u5186\\uff09\",\"\\u305d\\u306e\\u4ed6\\u8cbb\\u7528\\uff08\\u767e\\u4e07\\u5186\\uff09\"],\"xaxis\":\"x\",\"y\":[27.076923076923077,1.9230769230769231,0.46153846153846156,170,59.15384615384615,17.384615384615383,0.38461538461538464,2.6923076923076925,104.84615384615384],\"yaxis\":\"y\",\"type\":\"bar\"},{\"alignmentgroup\":\"True\",\"hovertemplate\":\"\\u696d\\u7a2e\\u5225=\\u5316\\u5b66\\u5de5\\u696d<br>groupe=%{x}<br>value=%{y}<extra></extra>\",\"legendgroup\":\"\\u5316\\u5b66\\u5de5\\u696d\",\"marker\":{\"color\":\"#ab63fa\",\"pattern\":{\"shape\":\"\"}},\"name\":\"\\u5316\\u5b66\\u5de5\\u696d\",\"offsetgroup\":\"\\u5316\\u5b66\\u5de5\\u696d\",\"orientation\":\"v\",\"showlegend\":true,\"textposition\":\"auto\",\"x\":[\"\\u30b3\\u30f3\\u30d4\\u30e5\\u30fc\\u30bf\\u30fb\\u5468\\u8fba\\u6a5f\\u5668\\u95a2\\u9023\\u8a08\\uff08\\u767e\\u4e07\\u5186\\uff09\",\"\\u901a\\u4fe1\\u6a5f\\u5668\\u95a2\\u9023\\u8cbb\\u7528\\u8a08\\uff08\\u767e\\u4e07\\u5186\\uff09\",\"\\u305d\\u306e\\u4ed6\\u306e\\u60c5\\u5831\\u6a5f\\u5668\\u95a2\\u9023\\u8cbb\\u7528\\u8a08\\uff08\\u767e\\u4e07\\u5186\\uff09\",\"\\u30bd\\u30d5\\u30c8\\u30a6\\u30a7\\u30a2\\u95a2\\u9023\\u8cbb\\u7528\\u8a08\\uff08\\u767e\\u4e07\\u5186\\uff09\",\"\\u51e6\\u7406\\u30b5\\u30fc\\u30d3\\u30b9\\u6599\\uff08\\u767e\\u4e07\\u5186\\uff09\",\"\\u904b\\u7528\\u4fdd\\u5b88\\u59d4\\u8a17\\u6599\\uff08\\u767e\\u4e07\\u5186\\uff09\",\"\\u60c5\\u5831\\u30bb\\u30ad\\u30e5\\u30ea\\u30c6\\u30a3\\u95a2\\u9023\\u30b5\\u30fc\\u30d3\\u30b9\\u6599\\uff08\\u767e\\u4e07\\u5186\\uff09\",\"\\u305d\\u306e\\u4ed6\\u30b5\\u30fc\\u30d3\\u30b9\\u95a2\\u9023\\u652f\\u51fa\\uff08\\u767e\\u4e07\\u5186\\uff09\",\"\\u305d\\u306e\\u4ed6\\u8cbb\\u7528\\uff08\\u767e\\u4e07\\u5186\\uff09\"],\"xaxis\":\"x\",\"y\":[284.8541666666667,30.6875,20.5625,246.16666666666669,51.604166666666664,215.3125,6.104166666666667,61,489.4166666666667],\"yaxis\":\"y\",\"type\":\"bar\"},{\"alignmentgroup\":\"True\",\"hovertemplate\":\"\\u696d\\u7a2e\\u5225=\\u77f3\\u6cb9\\u30fb\\u77f3\\u70ad\\u30fb\\uff8c\\uff9f\\uff97\\uff7d\\uff81\\uff6f\\uff78\\u88fd\\u54c1\\u88fd\\u9020\\u696d<br>groupe=%{x}<br>value=%{y}<extra></extra>\",\"legendgroup\":\"\\u77f3\\u6cb9\\u30fb\\u77f3\\u70ad\\u30fb\\uff8c\\uff9f\\uff97\\uff7d\\uff81\\uff6f\\uff78\\u88fd\\u54c1\\u88fd\\u9020\\u696d\",\"marker\":{\"color\":\"#FFA15A\",\"pattern\":{\"shape\":\"\"}},\"name\":\"\\u77f3\\u6cb9\\u30fb\\u77f3\\u70ad\\u30fb\\uff8c\\uff9f\\uff97\\uff7d\\uff81\\uff6f\\uff78\\u88fd\\u54c1\\u88fd\\u9020\\u696d\",\"offsetgroup\":\"\\u77f3\\u6cb9\\u30fb\\u77f3\\u70ad\\u30fb\\uff8c\\uff9f\\uff97\\uff7d\\uff81\\uff6f\\uff78\\u88fd\\u54c1\\u88fd\\u9020\\u696d\",\"orientation\":\"v\",\"showlegend\":true,\"textposition\":\"auto\",\"x\":[\"\\u30b3\\u30f3\\u30d4\\u30e5\\u30fc\\u30bf\\u30fb\\u5468\\u8fba\\u6a5f\\u5668\\u95a2\\u9023\\u8a08\\uff08\\u767e\\u4e07\\u5186\\uff09\",\"\\u901a\\u4fe1\\u6a5f\\u5668\\u95a2\\u9023\\u8cbb\\u7528\\u8a08\\uff08\\u767e\\u4e07\\u5186\\uff09\",\"\\u305d\\u306e\\u4ed6\\u306e\\u60c5\\u5831\\u6a5f\\u5668\\u95a2\\u9023\\u8cbb\\u7528\\u8a08\\uff08\\u767e\\u4e07\\u5186\\uff09\",\"\\u30bd\\u30d5\\u30c8\\u30a6\\u30a7\\u30a2\\u95a2\\u9023\\u8cbb\\u7528\\u8a08\\uff08\\u767e\\u4e07\\u5186\\uff09\",\"\\u51e6\\u7406\\u30b5\\u30fc\\u30d3\\u30b9\\u6599\\uff08\\u767e\\u4e07\\u5186\\uff09\",\"\\u904b\\u7528\\u4fdd\\u5b88\\u59d4\\u8a17\\u6599\\uff08\\u767e\\u4e07\\u5186\\uff09\",\"\\u60c5\\u5831\\u30bb\\u30ad\\u30e5\\u30ea\\u30c6\\u30a3\\u95a2\\u9023\\u30b5\\u30fc\\u30d3\\u30b9\\u6599\\uff08\\u767e\\u4e07\\u5186\\uff09\",\"\\u305d\\u306e\\u4ed6\\u30b5\\u30fc\\u30d3\\u30b9\\u95a2\\u9023\\u652f\\u51fa\\uff08\\u767e\\u4e07\\u5186\\uff09\",\"\\u305d\\u306e\\u4ed6\\u8cbb\\u7528\\uff08\\u767e\\u4e07\\u5186\\uff09\"],\"xaxis\":\"x\",\"y\":[13.454545454545453,3.3181818181818183,1.5454545454545454,4644.454545454546,13.863636363636363,14.272727272727273,0.7727272727272727,8.409090909090908,78.13636363636364],\"yaxis\":\"y\",\"type\":\"bar\"},{\"alignmentgroup\":\"True\",\"hovertemplate\":\"\\u696d\\u7a2e\\u5225=\\u7aaf\\u696d\\u30fb\\u571f\\u77f3\\u88fd\\u54c1\\u88fd\\u9020\\u696d<br>groupe=%{x}<br>value=%{y}<extra></extra>\",\"legendgroup\":\"\\u7aaf\\u696d\\u30fb\\u571f\\u77f3\\u88fd\\u54c1\\u88fd\\u9020\\u696d\",\"marker\":{\"color\":\"#19d3f3\",\"pattern\":{\"shape\":\"\"}},\"name\":\"\\u7aaf\\u696d\\u30fb\\u571f\\u77f3\\u88fd\\u54c1\\u88fd\\u9020\\u696d\",\"offsetgroup\":\"\\u7aaf\\u696d\\u30fb\\u571f\\u77f3\\u88fd\\u54c1\\u88fd\\u9020\\u696d\",\"orientation\":\"v\",\"showlegend\":true,\"textposition\":\"auto\",\"x\":[\"\\u30b3\\u30f3\\u30d4\\u30e5\\u30fc\\u30bf\\u30fb\\u5468\\u8fba\\u6a5f\\u5668\\u95a2\\u9023\\u8a08\\uff08\\u767e\\u4e07\\u5186\\uff09\",\"\\u901a\\u4fe1\\u6a5f\\u5668\\u95a2\\u9023\\u8cbb\\u7528\\u8a08\\uff08\\u767e\\u4e07\\u5186\\uff09\",\"\\u305d\\u306e\\u4ed6\\u306e\\u60c5\\u5831\\u6a5f\\u5668\\u95a2\\u9023\\u8cbb\\u7528\\u8a08\\uff08\\u767e\\u4e07\\u5186\\uff09\",\"\\u30bd\\u30d5\\u30c8\\u30a6\\u30a7\\u30a2\\u95a2\\u9023\\u8cbb\\u7528\\u8a08\\uff08\\u767e\\u4e07\\u5186\\uff09\",\"\\u51e6\\u7406\\u30b5\\u30fc\\u30d3\\u30b9\\u6599\\uff08\\u767e\\u4e07\\u5186\\uff09\",\"\\u904b\\u7528\\u4fdd\\u5b88\\u59d4\\u8a17\\u6599\\uff08\\u767e\\u4e07\\u5186\\uff09\",\"\\u60c5\\u5831\\u30bb\\u30ad\\u30e5\\u30ea\\u30c6\\u30a3\\u95a2\\u9023\\u30b5\\u30fc\\u30d3\\u30b9\\u6599\\uff08\\u767e\\u4e07\\u5186\\uff09\",\"\\u305d\\u306e\\u4ed6\\u30b5\\u30fc\\u30d3\\u30b9\\u95a2\\u9023\\u652f\\u51fa\\uff08\\u767e\\u4e07\\u5186\\uff09\",\"\\u305d\\u306e\\u4ed6\\u8cbb\\u7528\\uff08\\u767e\\u4e07\\u5186\\uff09\"],\"xaxis\":\"x\",\"y\":[18.333333333333336,4.222222222222222,16.11111111111111,111.77777777777779,31.11111111111111,141.66666666666666,0.1111111111111111,0.6666666666666666,110.11111111111111],\"yaxis\":\"y\",\"type\":\"bar\"},{\"alignmentgroup\":\"True\",\"hovertemplate\":\"\\u696d\\u7a2e\\u5225=\\u9244\\u92fc\\u696d<br>groupe=%{x}<br>value=%{y}<extra></extra>\",\"legendgroup\":\"\\u9244\\u92fc\\u696d\",\"marker\":{\"color\":\"#FF6692\",\"pattern\":{\"shape\":\"\"}},\"name\":\"\\u9244\\u92fc\\u696d\",\"offsetgroup\":\"\\u9244\\u92fc\\u696d\",\"orientation\":\"v\",\"showlegend\":true,\"textposition\":\"auto\",\"x\":[\"\\u30b3\\u30f3\\u30d4\\u30e5\\u30fc\\u30bf\\u30fb\\u5468\\u8fba\\u6a5f\\u5668\\u95a2\\u9023\\u8a08\\uff08\\u767e\\u4e07\\u5186\\uff09\",\"\\u901a\\u4fe1\\u6a5f\\u5668\\u95a2\\u9023\\u8cbb\\u7528\\u8a08\\uff08\\u767e\\u4e07\\u5186\\uff09\",\"\\u305d\\u306e\\u4ed6\\u306e\\u60c5\\u5831\\u6a5f\\u5668\\u95a2\\u9023\\u8cbb\\u7528\\u8a08\\uff08\\u767e\\u4e07\\u5186\\uff09\",\"\\u30bd\\u30d5\\u30c8\\u30a6\\u30a7\\u30a2\\u95a2\\u9023\\u8cbb\\u7528\\u8a08\\uff08\\u767e\\u4e07\\u5186\\uff09\",\"\\u51e6\\u7406\\u30b5\\u30fc\\u30d3\\u30b9\\u6599\\uff08\\u767e\\u4e07\\u5186\\uff09\",\"\\u904b\\u7528\\u4fdd\\u5b88\\u59d4\\u8a17\\u6599\\uff08\\u767e\\u4e07\\u5186\\uff09\",\"\\u60c5\\u5831\\u30bb\\u30ad\\u30e5\\u30ea\\u30c6\\u30a3\\u95a2\\u9023\\u30b5\\u30fc\\u30d3\\u30b9\\u6599\\uff08\\u767e\\u4e07\\u5186\\uff09\",\"\\u305d\\u306e\\u4ed6\\u30b5\\u30fc\\u30d3\\u30b9\\u95a2\\u9023\\u652f\\u51fa\\uff08\\u767e\\u4e07\\u5186\\uff09\",\"\\u305d\\u306e\\u4ed6\\u8cbb\\u7528\\uff08\\u767e\\u4e07\\u5186\\uff09\"],\"xaxis\":\"x\",\"y\":[373.1578947368421,197.10526315789474,2.473684210526316,676.3157894736842,69.89473684210526,174.21052631578948,1.368421052631579,57.8421052631579,193.94736842105263],\"yaxis\":\"y\",\"type\":\"bar\"},{\"alignmentgroup\":\"True\",\"hovertemplate\":\"\\u696d\\u7a2e\\u5225=\\u975e\\u9244\\u91d1\\u5c5e\\u88fd\\u54c1\\u30fb\\u91d1\\u5c5e\\u88fd\\u54c1\\u88fd\\u9020\\u696d<br>groupe=%{x}<br>value=%{y}<extra></extra>\",\"legendgroup\":\"\\u975e\\u9244\\u91d1\\u5c5e\\u88fd\\u54c1\\u30fb\\u91d1\\u5c5e\\u88fd\\u54c1\\u88fd\\u9020\\u696d\",\"marker\":{\"color\":\"#B6E880\",\"pattern\":{\"shape\":\"\"}},\"name\":\"\\u975e\\u9244\\u91d1\\u5c5e\\u88fd\\u54c1\\u30fb\\u91d1\\u5c5e\\u88fd\\u54c1\\u88fd\\u9020\\u696d\",\"offsetgroup\":\"\\u975e\\u9244\\u91d1\\u5c5e\\u88fd\\u54c1\\u30fb\\u91d1\\u5c5e\\u88fd\\u54c1\\u88fd\\u9020\\u696d\",\"orientation\":\"v\",\"showlegend\":true,\"textposition\":\"auto\",\"x\":[\"\\u30b3\\u30f3\\u30d4\\u30e5\\u30fc\\u30bf\\u30fb\\u5468\\u8fba\\u6a5f\\u5668\\u95a2\\u9023\\u8a08\\uff08\\u767e\\u4e07\\u5186\\uff09\",\"\\u901a\\u4fe1\\u6a5f\\u5668\\u95a2\\u9023\\u8cbb\\u7528\\u8a08\\uff08\\u767e\\u4e07\\u5186\\uff09\",\"\\u305d\\u306e\\u4ed6\\u306e\\u60c5\\u5831\\u6a5f\\u5668\\u95a2\\u9023\\u8cbb\\u7528\\u8a08\\uff08\\u767e\\u4e07\\u5186\\uff09\",\"\\u30bd\\u30d5\\u30c8\\u30a6\\u30a7\\u30a2\\u95a2\\u9023\\u8cbb\\u7528\\u8a08\\uff08\\u767e\\u4e07\\u5186\\uff09\",\"\\u51e6\\u7406\\u30b5\\u30fc\\u30d3\\u30b9\\u6599\\uff08\\u767e\\u4e07\\u5186\\uff09\",\"\\u904b\\u7528\\u4fdd\\u5b88\\u59d4\\u8a17\\u6599\\uff08\\u767e\\u4e07\\u5186\\uff09\",\"\\u60c5\\u5831\\u30bb\\u30ad\\u30e5\\u30ea\\u30c6\\u30a3\\u95a2\\u9023\\u30b5\\u30fc\\u30d3\\u30b9\\u6599\\uff08\\u767e\\u4e07\\u5186\\uff09\",\"\\u305d\\u306e\\u4ed6\\u30b5\\u30fc\\u30d3\\u30b9\\u95a2\\u9023\\u652f\\u51fa\\uff08\\u767e\\u4e07\\u5186\\uff09\",\"\\u305d\\u306e\\u4ed6\\u8cbb\\u7528\\uff08\\u767e\\u4e07\\u5186\\uff09\"],\"xaxis\":\"x\",\"y\":[42.782051282051285,7.6410256410256405,18.94871794871795,223.64102564102564,19.025641025641026,52.17948717948718,1.3076923076923077,10.41025641025641,230.76923076923077],\"yaxis\":\"y\",\"type\":\"bar\"},{\"alignmentgroup\":\"True\",\"hovertemplate\":\"\\u696d\\u7a2e\\u5225=\\u96fb\\u6c17\\u6a5f\\u68b0\\u5668\\u5177\\u88fd\\u9020\\u696d<br>groupe=%{x}<br>value=%{y}<extra></extra>\",\"legendgroup\":\"\\u96fb\\u6c17\\u6a5f\\u68b0\\u5668\\u5177\\u88fd\\u9020\\u696d\",\"marker\":{\"color\":\"#FF97FF\",\"pattern\":{\"shape\":\"\"}},\"name\":\"\\u96fb\\u6c17\\u6a5f\\u68b0\\u5668\\u5177\\u88fd\\u9020\\u696d\",\"offsetgroup\":\"\\u96fb\\u6c17\\u6a5f\\u68b0\\u5668\\u5177\\u88fd\\u9020\\u696d\",\"orientation\":\"v\",\"showlegend\":true,\"textposition\":\"auto\",\"x\":[\"\\u30b3\\u30f3\\u30d4\\u30e5\\u30fc\\u30bf\\u30fb\\u5468\\u8fba\\u6a5f\\u5668\\u95a2\\u9023\\u8a08\\uff08\\u767e\\u4e07\\u5186\\uff09\",\"\\u901a\\u4fe1\\u6a5f\\u5668\\u95a2\\u9023\\u8cbb\\u7528\\u8a08\\uff08\\u767e\\u4e07\\u5186\\uff09\",\"\\u305d\\u306e\\u4ed6\\u306e\\u60c5\\u5831\\u6a5f\\u5668\\u95a2\\u9023\\u8cbb\\u7528\\u8a08\\uff08\\u767e\\u4e07\\u5186\\uff09\",\"\\u30bd\\u30d5\\u30c8\\u30a6\\u30a7\\u30a2\\u95a2\\u9023\\u8cbb\\u7528\\u8a08\\uff08\\u767e\\u4e07\\u5186\\uff09\",\"\\u51e6\\u7406\\u30b5\\u30fc\\u30d3\\u30b9\\u6599\\uff08\\u767e\\u4e07\\u5186\\uff09\",\"\\u904b\\u7528\\u4fdd\\u5b88\\u59d4\\u8a17\\u6599\\uff08\\u767e\\u4e07\\u5186\\uff09\",\"\\u60c5\\u5831\\u30bb\\u30ad\\u30e5\\u30ea\\u30c6\\u30a3\\u95a2\\u9023\\u30b5\\u30fc\\u30d3\\u30b9\\u6599\\uff08\\u767e\\u4e07\\u5186\\uff09\",\"\\u305d\\u306e\\u4ed6\\u30b5\\u30fc\\u30d3\\u30b9\\u95a2\\u9023\\u652f\\u51fa\\uff08\\u767e\\u4e07\\u5186\\uff09\",\"\\u305d\\u306e\\u4ed6\\u8cbb\\u7528\\uff08\\u767e\\u4e07\\u5186\\uff09\"],\"xaxis\":\"x\",\"y\":[67.91666666666667,9.13888888888889,1.027777777777778,294.80555555555554,39.22222222222222,122,3.9444444444444446,80.05555555555556,564.2777777777778],\"yaxis\":\"y\",\"type\":\"bar\"},{\"alignmentgroup\":\"True\",\"hovertemplate\":\"\\u696d\\u7a2e\\u5225=\\u60c5\\u5831\\u901a\\u4fe1\\u6a5f\\u68b0\\u5668\\u5177\\u88fd\\u9020\\u696d<br>groupe=%{x}<br>value=%{y}<extra></extra>\",\"legendgroup\":\"\\u60c5\\u5831\\u901a\\u4fe1\\u6a5f\\u68b0\\u5668\\u5177\\u88fd\\u9020\\u696d\",\"marker\":{\"color\":\"#FECB52\",\"pattern\":{\"shape\":\"\"}},\"name\":\"\\u60c5\\u5831\\u901a\\u4fe1\\u6a5f\\u68b0\\u5668\\u5177\\u88fd\\u9020\\u696d\",\"offsetgroup\":\"\\u60c5\\u5831\\u901a\\u4fe1\\u6a5f\\u68b0\\u5668\\u5177\\u88fd\\u9020\\u696d\",\"orientation\":\"v\",\"showlegend\":true,\"textposition\":\"auto\",\"x\":[\"\\u30b3\\u30f3\\u30d4\\u30e5\\u30fc\\u30bf\\u30fb\\u5468\\u8fba\\u6a5f\\u5668\\u95a2\\u9023\\u8a08\\uff08\\u767e\\u4e07\\u5186\\uff09\",\"\\u901a\\u4fe1\\u6a5f\\u5668\\u95a2\\u9023\\u8cbb\\u7528\\u8a08\\uff08\\u767e\\u4e07\\u5186\\uff09\",\"\\u305d\\u306e\\u4ed6\\u306e\\u60c5\\u5831\\u6a5f\\u5668\\u95a2\\u9023\\u8cbb\\u7528\\u8a08\\uff08\\u767e\\u4e07\\u5186\\uff09\",\"\\u30bd\\u30d5\\u30c8\\u30a6\\u30a7\\u30a2\\u95a2\\u9023\\u8cbb\\u7528\\u8a08\\uff08\\u767e\\u4e07\\u5186\\uff09\",\"\\u51e6\\u7406\\u30b5\\u30fc\\u30d3\\u30b9\\u6599\\uff08\\u767e\\u4e07\\u5186\\uff09\",\"\\u904b\\u7528\\u4fdd\\u5b88\\u59d4\\u8a17\\u6599\\uff08\\u767e\\u4e07\\u5186\\uff09\",\"\\u60c5\\u5831\\u30bb\\u30ad\\u30e5\\u30ea\\u30c6\\u30a3\\u95a2\\u9023\\u30b5\\u30fc\\u30d3\\u30b9\\u6599\\uff08\\u767e\\u4e07\\u5186\\uff09\",\"\\u305d\\u306e\\u4ed6\\u30b5\\u30fc\\u30d3\\u30b9\\u95a2\\u9023\\u652f\\u51fa\\uff08\\u767e\\u4e07\\u5186\\uff09\",\"\\u305d\\u306e\\u4ed6\\u8cbb\\u7528\\uff08\\u767e\\u4e07\\u5186\\uff09\"],\"xaxis\":\"x\",\"y\":[227.58333333333331,16.854166666666668,19.270833333333332,421.85416666666663,240.91666666666666,521.8770833333333,13.833333333333334,74.83333333333333,346.5645833333333],\"yaxis\":\"y\",\"type\":\"bar\"},{\"alignmentgroup\":\"True\",\"hovertemplate\":\"\\u696d\\u7a2e\\u5225=\\u8f38\\u9001\\u7528\\u6a5f\\u68b0\\u5668\\u5177\\u88fd\\u9020\\u696d<br>groupe=%{x}<br>value=%{y}<extra></extra>\",\"legendgroup\":\"\\u8f38\\u9001\\u7528\\u6a5f\\u68b0\\u5668\\u5177\\u88fd\\u9020\\u696d\",\"marker\":{\"color\":\"#636efa\",\"pattern\":{\"shape\":\"\"}},\"name\":\"\\u8f38\\u9001\\u7528\\u6a5f\\u68b0\\u5668\\u5177\\u88fd\\u9020\\u696d\",\"offsetgroup\":\"\\u8f38\\u9001\\u7528\\u6a5f\\u68b0\\u5668\\u5177\\u88fd\\u9020\\u696d\",\"orientation\":\"v\",\"showlegend\":true,\"textposition\":\"auto\",\"x\":[\"\\u30b3\\u30f3\\u30d4\\u30e5\\u30fc\\u30bf\\u30fb\\u5468\\u8fba\\u6a5f\\u5668\\u95a2\\u9023\\u8a08\\uff08\\u767e\\u4e07\\u5186\\uff09\",\"\\u901a\\u4fe1\\u6a5f\\u5668\\u95a2\\u9023\\u8cbb\\u7528\\u8a08\\uff08\\u767e\\u4e07\\u5186\\uff09\",\"\\u305d\\u306e\\u4ed6\\u306e\\u60c5\\u5831\\u6a5f\\u5668\\u95a2\\u9023\\u8cbb\\u7528\\u8a08\\uff08\\u767e\\u4e07\\u5186\\uff09\",\"\\u30bd\\u30d5\\u30c8\\u30a6\\u30a7\\u30a2\\u95a2\\u9023\\u8cbb\\u7528\\u8a08\\uff08\\u767e\\u4e07\\u5186\\uff09\",\"\\u51e6\\u7406\\u30b5\\u30fc\\u30d3\\u30b9\\u6599\\uff08\\u767e\\u4e07\\u5186\\uff09\",\"\\u904b\\u7528\\u4fdd\\u5b88\\u59d4\\u8a17\\u6599\\uff08\\u767e\\u4e07\\u5186\\uff09\",\"\\u60c5\\u5831\\u30bb\\u30ad\\u30e5\\u30ea\\u30c6\\u30a3\\u95a2\\u9023\\u30b5\\u30fc\\u30d3\\u30b9\\u6599\\uff08\\u767e\\u4e07\\u5186\\uff09\",\"\\u305d\\u306e\\u4ed6\\u30b5\\u30fc\\u30d3\\u30b9\\u95a2\\u9023\\u652f\\u51fa\\uff08\\u767e\\u4e07\\u5186\\uff09\",\"\\u305d\\u306e\\u4ed6\\u8cbb\\u7528\\uff08\\u767e\\u4e07\\u5186\\uff09\"],\"xaxis\":\"x\",\"y\":[478.9821428571429,96.19642857142858,7.446428571428571,1488.0892857142858,109.25,1107.9285714285713,27.928571428571427,89.82142857142857,449.875],\"yaxis\":\"y\",\"type\":\"bar\"},{\"alignmentgroup\":\"True\",\"hovertemplate\":\"\\u696d\\u7a2e\\u5225=\\u305d\\u306e\\u4ed6\\u6a5f\\u68b0\\u5668\\u5177\\u88fd\\u9020\\u696d<br>groupe=%{x}<br>value=%{y}<extra></extra>\",\"legendgroup\":\"\\u305d\\u306e\\u4ed6\\u6a5f\\u68b0\\u5668\\u5177\\u88fd\\u9020\\u696d\",\"marker\":{\"color\":\"#EF553B\",\"pattern\":{\"shape\":\"\"}},\"name\":\"\\u305d\\u306e\\u4ed6\\u6a5f\\u68b0\\u5668\\u5177\\u88fd\\u9020\\u696d\",\"offsetgroup\":\"\\u305d\\u306e\\u4ed6\\u6a5f\\u68b0\\u5668\\u5177\\u88fd\\u9020\\u696d\",\"orientation\":\"v\",\"showlegend\":true,\"textposition\":\"auto\",\"x\":[\"\\u30b3\\u30f3\\u30d4\\u30e5\\u30fc\\u30bf\\u30fb\\u5468\\u8fba\\u6a5f\\u5668\\u95a2\\u9023\\u8a08\\uff08\\u767e\\u4e07\\u5186\\uff09\",\"\\u901a\\u4fe1\\u6a5f\\u5668\\u95a2\\u9023\\u8cbb\\u7528\\u8a08\\uff08\\u767e\\u4e07\\u5186\\uff09\",\"\\u305d\\u306e\\u4ed6\\u306e\\u60c5\\u5831\\u6a5f\\u5668\\u95a2\\u9023\\u8cbb\\u7528\\u8a08\\uff08\\u767e\\u4e07\\u5186\\uff09\",\"\\u30bd\\u30d5\\u30c8\\u30a6\\u30a7\\u30a2\\u95a2\\u9023\\u8cbb\\u7528\\u8a08\\uff08\\u767e\\u4e07\\u5186\\uff09\",\"\\u51e6\\u7406\\u30b5\\u30fc\\u30d3\\u30b9\\u6599\\uff08\\u767e\\u4e07\\u5186\\uff09\",\"\\u904b\\u7528\\u4fdd\\u5b88\\u59d4\\u8a17\\u6599\\uff08\\u767e\\u4e07\\u5186\\uff09\",\"\\u60c5\\u5831\\u30bb\\u30ad\\u30e5\\u30ea\\u30c6\\u30a3\\u95a2\\u9023\\u30b5\\u30fc\\u30d3\\u30b9\\u6599\\uff08\\u767e\\u4e07\\u5186\\uff09\",\"\\u305d\\u306e\\u4ed6\\u30b5\\u30fc\\u30d3\\u30b9\\u95a2\\u9023\\u652f\\u51fa\\uff08\\u767e\\u4e07\\u5186\\uff09\",\"\\u305d\\u306e\\u4ed6\\u8cbb\\u7528\\uff08\\u767e\\u4e07\\u5186\\uff09\"],\"xaxis\":\"x\",\"y\":[90.5,7.612903225806452,14.435483870967742,283.64516129032256,24.29032258064516,84.08064516129032,5.080645161290323,15.96774193548387,211.40322580645162],\"yaxis\":\"y\",\"type\":\"bar\"},{\"alignmentgroup\":\"True\",\"hovertemplate\":\"\\u696d\\u7a2e\\u5225=\\u305d\\u306e\\u4ed6\\u306e\\u88fd\\u9020\\u696d<br>groupe=%{x}<br>value=%{y}<extra></extra>\",\"legendgroup\":\"\\u305d\\u306e\\u4ed6\\u306e\\u88fd\\u9020\\u696d\",\"marker\":{\"color\":\"#00cc96\",\"pattern\":{\"shape\":\"\"}},\"name\":\"\\u305d\\u306e\\u4ed6\\u306e\\u88fd\\u9020\\u696d\",\"offsetgroup\":\"\\u305d\\u306e\\u4ed6\\u306e\\u88fd\\u9020\\u696d\",\"orientation\":\"v\",\"showlegend\":true,\"textposition\":\"auto\",\"x\":[\"\\u30b3\\u30f3\\u30d4\\u30e5\\u30fc\\u30bf\\u30fb\\u5468\\u8fba\\u6a5f\\u5668\\u95a2\\u9023\\u8a08\\uff08\\u767e\\u4e07\\u5186\\uff09\",\"\\u901a\\u4fe1\\u6a5f\\u5668\\u95a2\\u9023\\u8cbb\\u7528\\u8a08\\uff08\\u767e\\u4e07\\u5186\\uff09\",\"\\u305d\\u306e\\u4ed6\\u306e\\u60c5\\u5831\\u6a5f\\u5668\\u95a2\\u9023\\u8cbb\\u7528\\u8a08\\uff08\\u767e\\u4e07\\u5186\\uff09\",\"\\u30bd\\u30d5\\u30c8\\u30a6\\u30a7\\u30a2\\u95a2\\u9023\\u8cbb\\u7528\\u8a08\\uff08\\u767e\\u4e07\\u5186\\uff09\",\"\\u51e6\\u7406\\u30b5\\u30fc\\u30d3\\u30b9\\u6599\\uff08\\u767e\\u4e07\\u5186\\uff09\",\"\\u904b\\u7528\\u4fdd\\u5b88\\u59d4\\u8a17\\u6599\\uff08\\u767e\\u4e07\\u5186\\uff09\",\"\\u60c5\\u5831\\u30bb\\u30ad\\u30e5\\u30ea\\u30c6\\u30a3\\u95a2\\u9023\\u30b5\\u30fc\\u30d3\\u30b9\\u6599\\uff08\\u767e\\u4e07\\u5186\\uff09\",\"\\u305d\\u306e\\u4ed6\\u30b5\\u30fc\\u30d3\\u30b9\\u95a2\\u9023\\u652f\\u51fa\\uff08\\u767e\\u4e07\\u5186\\uff09\",\"\\u305d\\u306e\\u4ed6\\u8cbb\\u7528\\uff08\\u767e\\u4e07\\u5186\\uff09\"],\"xaxis\":\"x\",\"y\":[85.73684210526316,0.8421052631578947,0.7105263157894737,341.42105263157896,4.526315789473684,11.842105263157896,0.15789473684210525,8.236842105263158,255.60526315789474],\"yaxis\":\"y\",\"type\":\"bar\"},{\"alignmentgroup\":\"True\",\"hovertemplate\":\"\\u696d\\u7a2e\\u5225=\\u8fb2\\u6797\\u6f01\\u696d\\u30fb\\u540c\\u5354\\u540c\\u7d44\\u5408\\u3001\\u9271\\u696d<br>groupe=%{x}<br>value=%{y}<extra></extra>\",\"legendgroup\":\"\\u8fb2\\u6797\\u6f01\\u696d\\u30fb\\u540c\\u5354\\u540c\\u7d44\\u5408\\u3001\\u9271\\u696d\",\"marker\":{\"color\":\"#ab63fa\",\"pattern\":{\"shape\":\"\"}},\"name\":\"\\u8fb2\\u6797\\u6f01\\u696d\\u30fb\\u540c\\u5354\\u540c\\u7d44\\u5408\\u3001\\u9271\\u696d\",\"offsetgroup\":\"\\u8fb2\\u6797\\u6f01\\u696d\\u30fb\\u540c\\u5354\\u540c\\u7d44\\u5408\\u3001\\u9271\\u696d\",\"orientation\":\"v\",\"showlegend\":true,\"textposition\":\"auto\",\"x\":[\"\\u30b3\\u30f3\\u30d4\\u30e5\\u30fc\\u30bf\\u30fb\\u5468\\u8fba\\u6a5f\\u5668\\u95a2\\u9023\\u8a08\\uff08\\u767e\\u4e07\\u5186\\uff09\",\"\\u901a\\u4fe1\\u6a5f\\u5668\\u95a2\\u9023\\u8cbb\\u7528\\u8a08\\uff08\\u767e\\u4e07\\u5186\\uff09\",\"\\u305d\\u306e\\u4ed6\\u306e\\u60c5\\u5831\\u6a5f\\u5668\\u95a2\\u9023\\u8cbb\\u7528\\u8a08\\uff08\\u767e\\u4e07\\u5186\\uff09\",\"\\u30bd\\u30d5\\u30c8\\u30a6\\u30a7\\u30a2\\u95a2\\u9023\\u8cbb\\u7528\\u8a08\\uff08\\u767e\\u4e07\\u5186\\uff09\",\"\\u51e6\\u7406\\u30b5\\u30fc\\u30d3\\u30b9\\u6599\\uff08\\u767e\\u4e07\\u5186\\uff09\",\"\\u904b\\u7528\\u4fdd\\u5b88\\u59d4\\u8a17\\u6599\\uff08\\u767e\\u4e07\\u5186\\uff09\",\"\\u60c5\\u5831\\u30bb\\u30ad\\u30e5\\u30ea\\u30c6\\u30a3\\u95a2\\u9023\\u30b5\\u30fc\\u30d3\\u30b9\\u6599\\uff08\\u767e\\u4e07\\u5186\\uff09\",\"\\u305d\\u306e\\u4ed6\\u30b5\\u30fc\\u30d3\\u30b9\\u95a2\\u9023\\u652f\\u51fa\\uff08\\u767e\\u4e07\\u5186\\uff09\",\"\\u305d\\u306e\\u4ed6\\u8cbb\\u7528\\uff08\\u767e\\u4e07\\u5186\\uff09\"],\"xaxis\":\"x\",\"y\":[2.25,0.25,0.875,3.25,0,2,0.25,0.25,5.625],\"yaxis\":\"y\",\"type\":\"bar\"},{\"alignmentgroup\":\"True\",\"hovertemplate\":\"\\u696d\\u7a2e\\u5225=\\u5efa\\u8a2d\\u696d<br>groupe=%{x}<br>value=%{y}<extra></extra>\",\"legendgroup\":\"\\u5efa\\u8a2d\\u696d\",\"marker\":{\"color\":\"#FFA15A\",\"pattern\":{\"shape\":\"\"}},\"name\":\"\\u5efa\\u8a2d\\u696d\",\"offsetgroup\":\"\\u5efa\\u8a2d\\u696d\",\"orientation\":\"v\",\"showlegend\":true,\"textposition\":\"auto\",\"x\":[\"\\u30b3\\u30f3\\u30d4\\u30e5\\u30fc\\u30bf\\u30fb\\u5468\\u8fba\\u6a5f\\u5668\\u95a2\\u9023\\u8a08\\uff08\\u767e\\u4e07\\u5186\\uff09\",\"\\u901a\\u4fe1\\u6a5f\\u5668\\u95a2\\u9023\\u8cbb\\u7528\\u8a08\\uff08\\u767e\\u4e07\\u5186\\uff09\",\"\\u305d\\u306e\\u4ed6\\u306e\\u60c5\\u5831\\u6a5f\\u5668\\u95a2\\u9023\\u8cbb\\u7528\\u8a08\\uff08\\u767e\\u4e07\\u5186\\uff09\",\"\\u30bd\\u30d5\\u30c8\\u30a6\\u30a7\\u30a2\\u95a2\\u9023\\u8cbb\\u7528\\u8a08\\uff08\\u767e\\u4e07\\u5186\\uff09\",\"\\u51e6\\u7406\\u30b5\\u30fc\\u30d3\\u30b9\\u6599\\uff08\\u767e\\u4e07\\u5186\\uff09\",\"\\u904b\\u7528\\u4fdd\\u5b88\\u59d4\\u8a17\\u6599\\uff08\\u767e\\u4e07\\u5186\\uff09\",\"\\u60c5\\u5831\\u30bb\\u30ad\\u30e5\\u30ea\\u30c6\\u30a3\\u95a2\\u9023\\u30b5\\u30fc\\u30d3\\u30b9\\u6599\\uff08\\u767e\\u4e07\\u5186\\uff09\",\"\\u305d\\u306e\\u4ed6\\u30b5\\u30fc\\u30d3\\u30b9\\u95a2\\u9023\\u652f\\u51fa\\uff08\\u767e\\u4e07\\u5186\\uff09\",\"\\u305d\\u306e\\u4ed6\\u8cbb\\u7528\\uff08\\u767e\\u4e07\\u5186\\uff09\"],\"xaxis\":\"x\",\"y\":[36.92655367231639,11.446327683615818,4.824858757062147,82.07344632768361,11.994350282485875,26.954802259887007,1.4576271186440677,10.717514124293785,81.45762711864407],\"yaxis\":\"y\",\"type\":\"bar\"},{\"alignmentgroup\":\"True\",\"hovertemplate\":\"\\u696d\\u7a2e\\u5225=\\u96fb\\u6c17\\u30fb\\u30ac\\u30b9\\u30fb\\u71b1\\u4f9b\\u7d66\\u30fb\\u6c34\\u9053\\u696d<br>groupe=%{x}<br>value=%{y}<extra></extra>\",\"legendgroup\":\"\\u96fb\\u6c17\\u30fb\\u30ac\\u30b9\\u30fb\\u71b1\\u4f9b\\u7d66\\u30fb\\u6c34\\u9053\\u696d\",\"marker\":{\"color\":\"#19d3f3\",\"pattern\":{\"shape\":\"\"}},\"name\":\"\\u96fb\\u6c17\\u30fb\\u30ac\\u30b9\\u30fb\\u71b1\\u4f9b\\u7d66\\u30fb\\u6c34\\u9053\\u696d\",\"offsetgroup\":\"\\u96fb\\u6c17\\u30fb\\u30ac\\u30b9\\u30fb\\u71b1\\u4f9b\\u7d66\\u30fb\\u6c34\\u9053\\u696d\",\"orientation\":\"v\",\"showlegend\":true,\"textposition\":\"auto\",\"x\":[\"\\u30b3\\u30f3\\u30d4\\u30e5\\u30fc\\u30bf\\u30fb\\u5468\\u8fba\\u6a5f\\u5668\\u95a2\\u9023\\u8a08\\uff08\\u767e\\u4e07\\u5186\\uff09\",\"\\u901a\\u4fe1\\u6a5f\\u5668\\u95a2\\u9023\\u8cbb\\u7528\\u8a08\\uff08\\u767e\\u4e07\\u5186\\uff09\",\"\\u305d\\u306e\\u4ed6\\u306e\\u60c5\\u5831\\u6a5f\\u5668\\u95a2\\u9023\\u8cbb\\u7528\\u8a08\\uff08\\u767e\\u4e07\\u5186\\uff09\",\"\\u30bd\\u30d5\\u30c8\\u30a6\\u30a7\\u30a2\\u95a2\\u9023\\u8cbb\\u7528\\u8a08\\uff08\\u767e\\u4e07\\u5186\\uff09\",\"\\u51e6\\u7406\\u30b5\\u30fc\\u30d3\\u30b9\\u6599\\uff08\\u767e\\u4e07\\u5186\\uff09\",\"\\u904b\\u7528\\u4fdd\\u5b88\\u59d4\\u8a17\\u6599\\uff08\\u767e\\u4e07\\u5186\\uff09\",\"\\u60c5\\u5831\\u30bb\\u30ad\\u30e5\\u30ea\\u30c6\\u30a3\\u95a2\\u9023\\u30b5\\u30fc\\u30d3\\u30b9\\u6599\\uff08\\u767e\\u4e07\\u5186\\uff09\",\"\\u305d\\u306e\\u4ed6\\u30b5\\u30fc\\u30d3\\u30b9\\u95a2\\u9023\\u652f\\u51fa\\uff08\\u767e\\u4e07\\u5186\\uff09\",\"\\u305d\\u306e\\u4ed6\\u8cbb\\u7528\\uff08\\u767e\\u4e07\\u5186\\uff09\"],\"xaxis\":\"x\",\"y\":[58.36842105263158,64.84210526315789,145.84210526315792,1077.8947368421052,17.57894736842105,983.1052631578947,8.052631578947368,5.473684210526316,74.05263157894737],\"yaxis\":\"y\",\"type\":\"bar\"},{\"alignmentgroup\":\"True\",\"hovertemplate\":\"\\u696d\\u7a2e\\u5225=\\u6620\\u50cf\\u30fb\\u97f3\\u58f0\\u60c5\\u5831\\u5236\\u4f5c\\u30fb\\u653e\\u9001\\u30fb\\u901a\\u4fe1\\u696d<br>groupe=%{x}<br>value=%{y}<extra></extra>\",\"legendgroup\":\"\\u6620\\u50cf\\u30fb\\u97f3\\u58f0\\u60c5\\u5831\\u5236\\u4f5c\\u30fb\\u653e\\u9001\\u30fb\\u901a\\u4fe1\\u696d\",\"marker\":{\"color\":\"#FF6692\",\"pattern\":{\"shape\":\"\"}},\"name\":\"\\u6620\\u50cf\\u30fb\\u97f3\\u58f0\\u60c5\\u5831\\u5236\\u4f5c\\u30fb\\u653e\\u9001\\u30fb\\u901a\\u4fe1\\u696d\",\"offsetgroup\":\"\\u6620\\u50cf\\u30fb\\u97f3\\u58f0\\u60c5\\u5831\\u5236\\u4f5c\\u30fb\\u653e\\u9001\\u30fb\\u901a\\u4fe1\\u696d\",\"orientation\":\"v\",\"showlegend\":true,\"textposition\":\"auto\",\"x\":[\"\\u30b3\\u30f3\\u30d4\\u30e5\\u30fc\\u30bf\\u30fb\\u5468\\u8fba\\u6a5f\\u5668\\u95a2\\u9023\\u8a08\\uff08\\u767e\\u4e07\\u5186\\uff09\",\"\\u901a\\u4fe1\\u6a5f\\u5668\\u95a2\\u9023\\u8cbb\\u7528\\u8a08\\uff08\\u767e\\u4e07\\u5186\\uff09\",\"\\u305d\\u306e\\u4ed6\\u306e\\u60c5\\u5831\\u6a5f\\u5668\\u95a2\\u9023\\u8cbb\\u7528\\u8a08\\uff08\\u767e\\u4e07\\u5186\\uff09\",\"\\u30bd\\u30d5\\u30c8\\u30a6\\u30a7\\u30a2\\u95a2\\u9023\\u8cbb\\u7528\\u8a08\\uff08\\u767e\\u4e07\\u5186\\uff09\",\"\\u51e6\\u7406\\u30b5\\u30fc\\u30d3\\u30b9\\u6599\\uff08\\u767e\\u4e07\\u5186\\uff09\",\"\\u904b\\u7528\\u4fdd\\u5b88\\u59d4\\u8a17\\u6599\\uff08\\u767e\\u4e07\\u5186\\uff09\",\"\\u60c5\\u5831\\u30bb\\u30ad\\u30e5\\u30ea\\u30c6\\u30a3\\u95a2\\u9023\\u30b5\\u30fc\\u30d3\\u30b9\\u6599\\uff08\\u767e\\u4e07\\u5186\\uff09\",\"\\u305d\\u306e\\u4ed6\\u30b5\\u30fc\\u30d3\\u30b9\\u95a2\\u9023\\u652f\\u51fa\\uff08\\u767e\\u4e07\\u5186\\uff09\",\"\\u305d\\u306e\\u4ed6\\u8cbb\\u7528\\uff08\\u767e\\u4e07\\u5186\\uff09\"],\"xaxis\":\"x\",\"y\":[459.6818181818182,75.36363636363637,65.45454545454545,2236.2272727272725,15,1298.090909090909,9.227272727272727,149,125.27272727272727],\"yaxis\":\"y\",\"type\":\"bar\"},{\"alignmentgroup\":\"True\",\"hovertemplate\":\"\\u696d\\u7a2e\\u5225=\\u65b0\\u805e\\u30fb\\u51fa\\u7248\\u696d<br>groupe=%{x}<br>value=%{y}<extra></extra>\",\"legendgroup\":\"\\u65b0\\u805e\\u30fb\\u51fa\\u7248\\u696d\",\"marker\":{\"color\":\"#B6E880\",\"pattern\":{\"shape\":\"\"}},\"name\":\"\\u65b0\\u805e\\u30fb\\u51fa\\u7248\\u696d\",\"offsetgroup\":\"\\u65b0\\u805e\\u30fb\\u51fa\\u7248\\u696d\",\"orientation\":\"v\",\"showlegend\":true,\"textposition\":\"auto\",\"x\":[\"\\u30b3\\u30f3\\u30d4\\u30e5\\u30fc\\u30bf\\u30fb\\u5468\\u8fba\\u6a5f\\u5668\\u95a2\\u9023\\u8a08\\uff08\\u767e\\u4e07\\u5186\\uff09\",\"\\u901a\\u4fe1\\u6a5f\\u5668\\u95a2\\u9023\\u8cbb\\u7528\\u8a08\\uff08\\u767e\\u4e07\\u5186\\uff09\",\"\\u305d\\u306e\\u4ed6\\u306e\\u60c5\\u5831\\u6a5f\\u5668\\u95a2\\u9023\\u8cbb\\u7528\\u8a08\\uff08\\u767e\\u4e07\\u5186\\uff09\",\"\\u30bd\\u30d5\\u30c8\\u30a6\\u30a7\\u30a2\\u95a2\\u9023\\u8cbb\\u7528\\u8a08\\uff08\\u767e\\u4e07\\u5186\\uff09\",\"\\u51e6\\u7406\\u30b5\\u30fc\\u30d3\\u30b9\\u6599\\uff08\\u767e\\u4e07\\u5186\\uff09\",\"\\u904b\\u7528\\u4fdd\\u5b88\\u59d4\\u8a17\\u6599\\uff08\\u767e\\u4e07\\u5186\\uff09\",\"\\u60c5\\u5831\\u30bb\\u30ad\\u30e5\\u30ea\\u30c6\\u30a3\\u95a2\\u9023\\u30b5\\u30fc\\u30d3\\u30b9\\u6599\\uff08\\u767e\\u4e07\\u5186\\uff09\",\"\\u305d\\u306e\\u4ed6\\u30b5\\u30fc\\u30d3\\u30b9\\u95a2\\u9023\\u652f\\u51fa\\uff08\\u767e\\u4e07\\u5186\\uff09\",\"\\u305d\\u306e\\u4ed6\\u8cbb\\u7528\\uff08\\u767e\\u4e07\\u5186\\uff09\"],\"xaxis\":\"x\",\"y\":[25.642857142857142,7.214285714285714,4.214285714285714,207.71428571428572,9.714285714285714,106.92857142857143,0.5,21.142857142857142,50.5],\"yaxis\":\"y\",\"type\":\"bar\"},{\"alignmentgroup\":\"True\",\"hovertemplate\":\"\\u696d\\u7a2e\\u5225=\\u60c5\\u5831\\u30b5\\u30fc\\u30d3\\u30b9\\u696d<br>groupe=%{x}<br>value=%{y}<extra></extra>\",\"legendgroup\":\"\\u60c5\\u5831\\u30b5\\u30fc\\u30d3\\u30b9\\u696d\",\"marker\":{\"color\":\"#FF97FF\",\"pattern\":{\"shape\":\"\"}},\"name\":\"\\u60c5\\u5831\\u30b5\\u30fc\\u30d3\\u30b9\\u696d\",\"offsetgroup\":\"\\u60c5\\u5831\\u30b5\\u30fc\\u30d3\\u30b9\\u696d\",\"orientation\":\"v\",\"showlegend\":true,\"textposition\":\"auto\",\"x\":[\"\\u30b3\\u30f3\\u30d4\\u30e5\\u30fc\\u30bf\\u30fb\\u5468\\u8fba\\u6a5f\\u5668\\u95a2\\u9023\\u8a08\\uff08\\u767e\\u4e07\\u5186\\uff09\",\"\\u901a\\u4fe1\\u6a5f\\u5668\\u95a2\\u9023\\u8cbb\\u7528\\u8a08\\uff08\\u767e\\u4e07\\u5186\\uff09\",\"\\u305d\\u306e\\u4ed6\\u306e\\u60c5\\u5831\\u6a5f\\u5668\\u95a2\\u9023\\u8cbb\\u7528\\u8a08\\uff08\\u767e\\u4e07\\u5186\\uff09\",\"\\u30bd\\u30d5\\u30c8\\u30a6\\u30a7\\u30a2\\u95a2\\u9023\\u8cbb\\u7528\\u8a08\\uff08\\u767e\\u4e07\\u5186\\uff09\",\"\\u51e6\\u7406\\u30b5\\u30fc\\u30d3\\u30b9\\u6599\\uff08\\u767e\\u4e07\\u5186\\uff09\",\"\\u904b\\u7528\\u4fdd\\u5b88\\u59d4\\u8a17\\u6599\\uff08\\u767e\\u4e07\\u5186\\uff09\",\"\\u60c5\\u5831\\u30bb\\u30ad\\u30e5\\u30ea\\u30c6\\u30a3\\u95a2\\u9023\\u30b5\\u30fc\\u30d3\\u30b9\\u6599\\uff08\\u767e\\u4e07\\u5186\\uff09\",\"\\u305d\\u306e\\u4ed6\\u30b5\\u30fc\\u30d3\\u30b9\\u95a2\\u9023\\u652f\\u51fa\\uff08\\u767e\\u4e07\\u5186\\uff09\",\"\\u305d\\u306e\\u4ed6\\u8cbb\\u7528\\uff08\\u767e\\u4e07\\u5186\\uff09\"],\"xaxis\":\"x\",\"y\":[135.11578947368423,8.947368421052632,5.178947368421053,221.57684210526315,34.77894736842105,47.189473684210526,1.6105263157894736,35.578947368421055,279.05263157894734],\"yaxis\":\"y\",\"type\":\"bar\"},{\"alignmentgroup\":\"True\",\"hovertemplate\":\"\\u696d\\u7a2e\\u5225=\\u904b\\u8f38\\u696d\\u30fb\\u90f5\\u4fbf\\u696d<br>groupe=%{x}<br>value=%{y}<extra></extra>\",\"legendgroup\":\"\\u904b\\u8f38\\u696d\\u30fb\\u90f5\\u4fbf\\u696d\",\"marker\":{\"color\":\"#FECB52\",\"pattern\":{\"shape\":\"\"}},\"name\":\"\\u904b\\u8f38\\u696d\\u30fb\\u90f5\\u4fbf\\u696d\",\"offsetgroup\":\"\\u904b\\u8f38\\u696d\\u30fb\\u90f5\\u4fbf\\u696d\",\"orientation\":\"v\",\"showlegend\":true,\"textposition\":\"auto\",\"x\":[\"\\u30b3\\u30f3\\u30d4\\u30e5\\u30fc\\u30bf\\u30fb\\u5468\\u8fba\\u6a5f\\u5668\\u95a2\\u9023\\u8a08\\uff08\\u767e\\u4e07\\u5186\\uff09\",\"\\u901a\\u4fe1\\u6a5f\\u5668\\u95a2\\u9023\\u8cbb\\u7528\\u8a08\\uff08\\u767e\\u4e07\\u5186\\uff09\",\"\\u305d\\u306e\\u4ed6\\u306e\\u60c5\\u5831\\u6a5f\\u5668\\u95a2\\u9023\\u8cbb\\u7528\\u8a08\\uff08\\u767e\\u4e07\\u5186\\uff09\",\"\\u30bd\\u30d5\\u30c8\\u30a6\\u30a7\\u30a2\\u95a2\\u9023\\u8cbb\\u7528\\u8a08\\uff08\\u767e\\u4e07\\u5186\\uff09\",\"\\u51e6\\u7406\\u30b5\\u30fc\\u30d3\\u30b9\\u6599\\uff08\\u767e\\u4e07\\u5186\\uff09\",\"\\u904b\\u7528\\u4fdd\\u5b88\\u59d4\\u8a17\\u6599\\uff08\\u767e\\u4e07\\u5186\\uff09\",\"\\u60c5\\u5831\\u30bb\\u30ad\\u30e5\\u30ea\\u30c6\\u30a3\\u95a2\\u9023\\u30b5\\u30fc\\u30d3\\u30b9\\u6599\\uff08\\u767e\\u4e07\\u5186\\uff09\",\"\\u305d\\u306e\\u4ed6\\u30b5\\u30fc\\u30d3\\u30b9\\u95a2\\u9023\\u652f\\u51fa\\uff08\\u767e\\u4e07\\u5186\\uff09\",\"\\u305d\\u306e\\u4ed6\\u8cbb\\u7528\\uff08\\u767e\\u4e07\\u5186\\uff09\"],\"xaxis\":\"x\",\"y\":[46.398989898989896,5.472727272727273,58.398989898989896,131.8080808080808,97.82323232323232,64.66161616161617,1.1393939393939394,11.212121212121213,205.54040404040404],\"yaxis\":\"y\",\"type\":\"bar\"},{\"alignmentgroup\":\"True\",\"hovertemplate\":\"\\u696d\\u7a2e\\u5225=\\u5378\\u58f2\\u696d<br>groupe=%{x}<br>value=%{y}<extra></extra>\",\"legendgroup\":\"\\u5378\\u58f2\\u696d\",\"marker\":{\"color\":\"#636efa\",\"pattern\":{\"shape\":\"\"}},\"name\":\"\\u5378\\u58f2\\u696d\",\"offsetgroup\":\"\\u5378\\u58f2\\u696d\",\"orientation\":\"v\",\"showlegend\":true,\"textposition\":\"auto\",\"x\":[\"\\u30b3\\u30f3\\u30d4\\u30e5\\u30fc\\u30bf\\u30fb\\u5468\\u8fba\\u6a5f\\u5668\\u95a2\\u9023\\u8a08\\uff08\\u767e\\u4e07\\u5186\\uff09\",\"\\u901a\\u4fe1\\u6a5f\\u5668\\u95a2\\u9023\\u8cbb\\u7528\\u8a08\\uff08\\u767e\\u4e07\\u5186\\uff09\",\"\\u305d\\u306e\\u4ed6\\u306e\\u60c5\\u5831\\u6a5f\\u5668\\u95a2\\u9023\\u8cbb\\u7528\\u8a08\\uff08\\u767e\\u4e07\\u5186\\uff09\",\"\\u30bd\\u30d5\\u30c8\\u30a6\\u30a7\\u30a2\\u95a2\\u9023\\u8cbb\\u7528\\u8a08\\uff08\\u767e\\u4e07\\u5186\\uff09\",\"\\u51e6\\u7406\\u30b5\\u30fc\\u30d3\\u30b9\\u6599\\uff08\\u767e\\u4e07\\u5186\\uff09\",\"\\u904b\\u7528\\u4fdd\\u5b88\\u59d4\\u8a17\\u6599\\uff08\\u767e\\u4e07\\u5186\\uff09\",\"\\u60c5\\u5831\\u30bb\\u30ad\\u30e5\\u30ea\\u30c6\\u30a3\\u95a2\\u9023\\u30b5\\u30fc\\u30d3\\u30b9\\u6599\\uff08\\u767e\\u4e07\\u5186\\uff09\",\"\\u305d\\u306e\\u4ed6\\u30b5\\u30fc\\u30d3\\u30b9\\u95a2\\u9023\\u652f\\u51fa\\uff08\\u767e\\u4e07\\u5186\\uff09\",\"\\u305d\\u306e\\u4ed6\\u8cbb\\u7528\\uff08\\u767e\\u4e07\\u5186\\uff09\"],\"xaxis\":\"x\",\"y\":[39.177304964539005,6.198581560283689,25.382978723404257,201.47517730496455,22.113475177304963,125,2.5531914893617023,4.219858156028369,252.38297872340425],\"yaxis\":\"y\",\"type\":\"bar\"},{\"alignmentgroup\":\"True\",\"hovertemplate\":\"\\u696d\\u7a2e\\u5225=\\u5c0f\\u58f2\\u696d<br>groupe=%{x}<br>value=%{y}<extra></extra>\",\"legendgroup\":\"\\u5c0f\\u58f2\\u696d\",\"marker\":{\"color\":\"#EF553B\",\"pattern\":{\"shape\":\"\"}},\"name\":\"\\u5c0f\\u58f2\\u696d\",\"offsetgroup\":\"\\u5c0f\\u58f2\\u696d\",\"orientation\":\"v\",\"showlegend\":true,\"textposition\":\"auto\",\"x\":[\"\\u30b3\\u30f3\\u30d4\\u30e5\\u30fc\\u30bf\\u30fb\\u5468\\u8fba\\u6a5f\\u5668\\u95a2\\u9023\\u8a08\\uff08\\u767e\\u4e07\\u5186\\uff09\",\"\\u901a\\u4fe1\\u6a5f\\u5668\\u95a2\\u9023\\u8cbb\\u7528\\u8a08\\uff08\\u767e\\u4e07\\u5186\\uff09\",\"\\u305d\\u306e\\u4ed6\\u306e\\u60c5\\u5831\\u6a5f\\u5668\\u95a2\\u9023\\u8cbb\\u7528\\u8a08\\uff08\\u767e\\u4e07\\u5186\\uff09\",\"\\u30bd\\u30d5\\u30c8\\u30a6\\u30a7\\u30a2\\u95a2\\u9023\\u8cbb\\u7528\\u8a08\\uff08\\u767e\\u4e07\\u5186\\uff09\",\"\\u51e6\\u7406\\u30b5\\u30fc\\u30d3\\u30b9\\u6599\\uff08\\u767e\\u4e07\\u5186\\uff09\",\"\\u904b\\u7528\\u4fdd\\u5b88\\u59d4\\u8a17\\u6599\\uff08\\u767e\\u4e07\\u5186\\uff09\",\"\\u60c5\\u5831\\u30bb\\u30ad\\u30e5\\u30ea\\u30c6\\u30a3\\u95a2\\u9023\\u30b5\\u30fc\\u30d3\\u30b9\\u6599\\uff08\\u767e\\u4e07\\u5186\\uff09\",\"\\u305d\\u306e\\u4ed6\\u30b5\\u30fc\\u30d3\\u30b9\\u95a2\\u9023\\u652f\\u51fa\\uff08\\u767e\\u4e07\\u5186\\uff09\",\"\\u305d\\u306e\\u4ed6\\u8cbb\\u7528\\uff08\\u767e\\u4e07\\u5186\\uff09\"],\"xaxis\":\"x\",\"y\":[62.49375,5.28125,5.2625,108.21249999999999,15.9625,73.2125,2.85,6.125,142.8625],\"yaxis\":\"y\",\"type\":\"bar\"},{\"alignmentgroup\":\"True\",\"hovertemplate\":\"\\u696d\\u7a2e\\u5225=\\u91d1\\u878d\\u696d\\u30fb\\u4fdd\\u967a\\u696d<br>groupe=%{x}<br>value=%{y}<extra></extra>\",\"legendgroup\":\"\\u91d1\\u878d\\u696d\\u30fb\\u4fdd\\u967a\\u696d\",\"marker\":{\"color\":\"#00cc96\",\"pattern\":{\"shape\":\"\"}},\"name\":\"\\u91d1\\u878d\\u696d\\u30fb\\u4fdd\\u967a\\u696d\",\"offsetgroup\":\"\\u91d1\\u878d\\u696d\\u30fb\\u4fdd\\u967a\\u696d\",\"orientation\":\"v\",\"showlegend\":true,\"textposition\":\"auto\",\"x\":[\"\\u30b3\\u30f3\\u30d4\\u30e5\\u30fc\\u30bf\\u30fb\\u5468\\u8fba\\u6a5f\\u5668\\u95a2\\u9023\\u8a08\\uff08\\u767e\\u4e07\\u5186\\uff09\",\"\\u901a\\u4fe1\\u6a5f\\u5668\\u95a2\\u9023\\u8cbb\\u7528\\u8a08\\uff08\\u767e\\u4e07\\u5186\\uff09\",\"\\u305d\\u306e\\u4ed6\\u306e\\u60c5\\u5831\\u6a5f\\u5668\\u95a2\\u9023\\u8cbb\\u7528\\u8a08\\uff08\\u767e\\u4e07\\u5186\\uff09\",\"\\u30bd\\u30d5\\u30c8\\u30a6\\u30a7\\u30a2\\u95a2\\u9023\\u8cbb\\u7528\\u8a08\\uff08\\u767e\\u4e07\\u5186\\uff09\",\"\\u51e6\\u7406\\u30b5\\u30fc\\u30d3\\u30b9\\u6599\\uff08\\u767e\\u4e07\\u5186\\uff09\",\"\\u904b\\u7528\\u4fdd\\u5b88\\u59d4\\u8a17\\u6599\\uff08\\u767e\\u4e07\\u5186\\uff09\",\"\\u60c5\\u5831\\u30bb\\u30ad\\u30e5\\u30ea\\u30c6\\u30a3\\u95a2\\u9023\\u30b5\\u30fc\\u30d3\\u30b9\\u6599\\uff08\\u767e\\u4e07\\u5186\\uff09\",\"\\u305d\\u306e\\u4ed6\\u30b5\\u30fc\\u30d3\\u30b9\\u95a2\\u9023\\u652f\\u51fa\\uff08\\u767e\\u4e07\\u5186\\uff09\",\"\\u305d\\u306e\\u4ed6\\u8cbb\\u7528\\uff08\\u767e\\u4e07\\u5186\\uff09\"],\"xaxis\":\"x\",\"y\":[290.7369565217391,118.62391304347827,93.23478260869565,1263.4304347826085,190.8985507246377,628.8333333333334,18.21014492753623,100.17391304347827,459.07246376811594],\"yaxis\":\"y\",\"type\":\"bar\"},{\"alignmentgroup\":\"True\",\"hovertemplate\":\"\\u696d\\u7a2e\\u5225=\\u533b\\u7642\\u696d\\uff08\\u56fd\\u30fb\\u516c\\u7acb\\u9664\\u304f\\uff09<br>groupe=%{x}<br>value=%{y}<extra></extra>\",\"legendgroup\":\"\\u533b\\u7642\\u696d\\uff08\\u56fd\\u30fb\\u516c\\u7acb\\u9664\\u304f\\uff09\",\"marker\":{\"color\":\"#ab63fa\",\"pattern\":{\"shape\":\"\"}},\"name\":\"\\u533b\\u7642\\u696d\\uff08\\u56fd\\u30fb\\u516c\\u7acb\\u9664\\u304f\\uff09\",\"offsetgroup\":\"\\u533b\\u7642\\u696d\\uff08\\u56fd\\u30fb\\u516c\\u7acb\\u9664\\u304f\\uff09\",\"orientation\":\"v\",\"showlegend\":true,\"textposition\":\"auto\",\"x\":[\"\\u30b3\\u30f3\\u30d4\\u30e5\\u30fc\\u30bf\\u30fb\\u5468\\u8fba\\u6a5f\\u5668\\u95a2\\u9023\\u8a08\\uff08\\u767e\\u4e07\\u5186\\uff09\",\"\\u901a\\u4fe1\\u6a5f\\u5668\\u95a2\\u9023\\u8cbb\\u7528\\u8a08\\uff08\\u767e\\u4e07\\u5186\\uff09\",\"\\u305d\\u306e\\u4ed6\\u306e\\u60c5\\u5831\\u6a5f\\u5668\\u95a2\\u9023\\u8cbb\\u7528\\u8a08\\uff08\\u767e\\u4e07\\u5186\\uff09\",\"\\u30bd\\u30d5\\u30c8\\u30a6\\u30a7\\u30a2\\u95a2\\u9023\\u8cbb\\u7528\\u8a08\\uff08\\u767e\\u4e07\\u5186\\uff09\",\"\\u51e6\\u7406\\u30b5\\u30fc\\u30d3\\u30b9\\u6599\\uff08\\u767e\\u4e07\\u5186\\uff09\",\"\\u904b\\u7528\\u4fdd\\u5b88\\u59d4\\u8a17\\u6599\\uff08\\u767e\\u4e07\\u5186\\uff09\",\"\\u60c5\\u5831\\u30bb\\u30ad\\u30e5\\u30ea\\u30c6\\u30a3\\u95a2\\u9023\\u30b5\\u30fc\\u30d3\\u30b9\\u6599\\uff08\\u767e\\u4e07\\u5186\\uff09\",\"\\u305d\\u306e\\u4ed6\\u30b5\\u30fc\\u30d3\\u30b9\\u95a2\\u9023\\u652f\\u51fa\\uff08\\u767e\\u4e07\\u5186\\uff09\",\"\\u305d\\u306e\\u4ed6\\u8cbb\\u7528\\uff08\\u767e\\u4e07\\u5186\\uff09\"],\"xaxis\":\"x\",\"y\":[34.666666666666664,9,1.6666666666666667,30,0.3333333333333333,17,1.3333333333333333,19,66.66666666666667],\"yaxis\":\"y\",\"type\":\"bar\"},{\"alignmentgroup\":\"True\",\"hovertemplate\":\"\\u696d\\u7a2e\\u5225=\\u6559\\u80b2\\uff08\\u56fd\\u30fb\\u516c\\u7acb\\u9664\\u304f\\uff09\\u3001\\u5b66\\u7fd2\\u652f\\u63f4\\u696d<br>groupe=%{x}<br>value=%{y}<extra></extra>\",\"legendgroup\":\"\\u6559\\u80b2\\uff08\\u56fd\\u30fb\\u516c\\u7acb\\u9664\\u304f\\uff09\\u3001\\u5b66\\u7fd2\\u652f\\u63f4\\u696d\",\"marker\":{\"color\":\"#FFA15A\",\"pattern\":{\"shape\":\"\"}},\"name\":\"\\u6559\\u80b2\\uff08\\u56fd\\u30fb\\u516c\\u7acb\\u9664\\u304f\\uff09\\u3001\\u5b66\\u7fd2\\u652f\\u63f4\\u696d\",\"offsetgroup\":\"\\u6559\\u80b2\\uff08\\u56fd\\u30fb\\u516c\\u7acb\\u9664\\u304f\\uff09\\u3001\\u5b66\\u7fd2\\u652f\\u63f4\\u696d\",\"orientation\":\"v\",\"showlegend\":true,\"textposition\":\"auto\",\"x\":[\"\\u30b3\\u30f3\\u30d4\\u30e5\\u30fc\\u30bf\\u30fb\\u5468\\u8fba\\u6a5f\\u5668\\u95a2\\u9023\\u8a08\\uff08\\u767e\\u4e07\\u5186\\uff09\",\"\\u901a\\u4fe1\\u6a5f\\u5668\\u95a2\\u9023\\u8cbb\\u7528\\u8a08\\uff08\\u767e\\u4e07\\u5186\\uff09\",\"\\u305d\\u306e\\u4ed6\\u306e\\u60c5\\u5831\\u6a5f\\u5668\\u95a2\\u9023\\u8cbb\\u7528\\u8a08\\uff08\\u767e\\u4e07\\u5186\\uff09\",\"\\u30bd\\u30d5\\u30c8\\u30a6\\u30a7\\u30a2\\u95a2\\u9023\\u8cbb\\u7528\\u8a08\\uff08\\u767e\\u4e07\\u5186\\uff09\",\"\\u51e6\\u7406\\u30b5\\u30fc\\u30d3\\u30b9\\u6599\\uff08\\u767e\\u4e07\\u5186\\uff09\",\"\\u904b\\u7528\\u4fdd\\u5b88\\u59d4\\u8a17\\u6599\\uff08\\u767e\\u4e07\\u5186\\uff09\",\"\\u60c5\\u5831\\u30bb\\u30ad\\u30e5\\u30ea\\u30c6\\u30a3\\u95a2\\u9023\\u30b5\\u30fc\\u30d3\\u30b9\\u6599\\uff08\\u767e\\u4e07\\u5186\\uff09\",\"\\u305d\\u306e\\u4ed6\\u30b5\\u30fc\\u30d3\\u30b9\\u95a2\\u9023\\u652f\\u51fa\\uff08\\u767e\\u4e07\\u5186\\uff09\",\"\\u305d\\u306e\\u4ed6\\u8cbb\\u7528\\uff08\\u767e\\u4e07\\u5186\\uff09\"],\"xaxis\":\"x\",\"y\":[2.75,1.5,0.625,10.5,0.125,3.875,2.75,0.375,4],\"yaxis\":\"y\",\"type\":\"bar\"},{\"alignmentgroup\":\"True\",\"hovertemplate\":\"\\u696d\\u7a2e\\u5225=\\u305d\\u306e\\u4ed6\\u306e\\u975e\\u88fd\\u9020\\u696d<br>groupe=%{x}<br>value=%{y}<extra></extra>\",\"legendgroup\":\"\\u305d\\u306e\\u4ed6\\u306e\\u975e\\u88fd\\u9020\\u696d\",\"marker\":{\"color\":\"#19d3f3\",\"pattern\":{\"shape\":\"\"}},\"name\":\"\\u305d\\u306e\\u4ed6\\u306e\\u975e\\u88fd\\u9020\\u696d\",\"offsetgroup\":\"\\u305d\\u306e\\u4ed6\\u306e\\u975e\\u88fd\\u9020\\u696d\",\"orientation\":\"v\",\"showlegend\":true,\"textposition\":\"auto\",\"x\":[\"\\u30b3\\u30f3\\u30d4\\u30e5\\u30fc\\u30bf\\u30fb\\u5468\\u8fba\\u6a5f\\u5668\\u95a2\\u9023\\u8a08\\uff08\\u767e\\u4e07\\u5186\\uff09\",\"\\u901a\\u4fe1\\u6a5f\\u5668\\u95a2\\u9023\\u8cbb\\u7528\\u8a08\\uff08\\u767e\\u4e07\\u5186\\uff09\",\"\\u305d\\u306e\\u4ed6\\u306e\\u60c5\\u5831\\u6a5f\\u5668\\u95a2\\u9023\\u8cbb\\u7528\\u8a08\\uff08\\u767e\\u4e07\\u5186\\uff09\",\"\\u30bd\\u30d5\\u30c8\\u30a6\\u30a7\\u30a2\\u95a2\\u9023\\u8cbb\\u7528\\u8a08\\uff08\\u767e\\u4e07\\u5186\\uff09\",\"\\u51e6\\u7406\\u30b5\\u30fc\\u30d3\\u30b9\\u6599\\uff08\\u767e\\u4e07\\u5186\\uff09\",\"\\u904b\\u7528\\u4fdd\\u5b88\\u59d4\\u8a17\\u6599\\uff08\\u767e\\u4e07\\u5186\\uff09\",\"\\u60c5\\u5831\\u30bb\\u30ad\\u30e5\\u30ea\\u30c6\\u30a3\\u95a2\\u9023\\u30b5\\u30fc\\u30d3\\u30b9\\u6599\\uff08\\u767e\\u4e07\\u5186\\uff09\",\"\\u305d\\u306e\\u4ed6\\u30b5\\u30fc\\u30d3\\u30b9\\u95a2\\u9023\\u652f\\u51fa\\uff08\\u767e\\u4e07\\u5186\\uff09\",\"\\u305d\\u306e\\u4ed6\\u8cbb\\u7528\\uff08\\u767e\\u4e07\\u5186\\uff09\"],\"xaxis\":\"x\",\"y\":[43.43557046979866,14.360402684563757,28.28791946308725,107.77941834451903,8.900447427293065,37.40308724832215,1.0788590604026846,3.988814317673378,51.005525727069355],\"yaxis\":\"y\",\"type\":\"bar\"}],                        {\"template\":{\"data\":{\"bar\":[{\"error_x\":{\"color\":\"#2a3f5f\"},\"error_y\":{\"color\":\"#2a3f5f\"},\"marker\":{\"line\":{\"color\":\"#E5ECF6\",\"width\":0.5},\"pattern\":{\"fillmode\":\"overlay\",\"size\":10,\"solidity\":0.2}},\"type\":\"bar\"}],\"barpolar\":[{\"marker\":{\"line\":{\"color\":\"#E5ECF6\",\"width\":0.5},\"pattern\":{\"fillmode\":\"overlay\",\"size\":10,\"solidity\":0.2}},\"type\":\"barpolar\"}],\"carpet\":[{\"aaxis\":{\"endlinecolor\":\"#2a3f5f\",\"gridcolor\":\"white\",\"linecolor\":\"white\",\"minorgridcolor\":\"white\",\"startlinecolor\":\"#2a3f5f\"},\"baxis\":{\"endlinecolor\":\"#2a3f5f\",\"gridcolor\":\"white\",\"linecolor\":\"white\",\"minorgridcolor\":\"white\",\"startlinecolor\":\"#2a3f5f\"},\"type\":\"carpet\"}],\"choropleth\":[{\"colorbar\":{\"outlinewidth\":0,\"ticks\":\"\"},\"type\":\"choropleth\"}],\"contour\":[{\"colorbar\":{\"outlinewidth\":0,\"ticks\":\"\"},\"colorscale\":[[0.0,\"#0d0887\"],[0.1111111111111111,\"#46039f\"],[0.2222222222222222,\"#7201a8\"],[0.3333333333333333,\"#9c179e\"],[0.4444444444444444,\"#bd3786\"],[0.5555555555555556,\"#d8576b\"],[0.6666666666666666,\"#ed7953\"],[0.7777777777777778,\"#fb9f3a\"],[0.8888888888888888,\"#fdca26\"],[1.0,\"#f0f921\"]],\"type\":\"contour\"}],\"contourcarpet\":[{\"colorbar\":{\"outlinewidth\":0,\"ticks\":\"\"},\"type\":\"contourcarpet\"}],\"heatmap\":[{\"colorbar\":{\"outlinewidth\":0,\"ticks\":\"\"},\"colorscale\":[[0.0,\"#0d0887\"],[0.1111111111111111,\"#46039f\"],[0.2222222222222222,\"#7201a8\"],[0.3333333333333333,\"#9c179e\"],[0.4444444444444444,\"#bd3786\"],[0.5555555555555556,\"#d8576b\"],[0.6666666666666666,\"#ed7953\"],[0.7777777777777778,\"#fb9f3a\"],[0.8888888888888888,\"#fdca26\"],[1.0,\"#f0f921\"]],\"type\":\"heatmap\"}],\"heatmapgl\":[{\"colorbar\":{\"outlinewidth\":0,\"ticks\":\"\"},\"colorscale\":[[0.0,\"#0d0887\"],[0.1111111111111111,\"#46039f\"],[0.2222222222222222,\"#7201a8\"],[0.3333333333333333,\"#9c179e\"],[0.4444444444444444,\"#bd3786\"],[0.5555555555555556,\"#d8576b\"],[0.6666666666666666,\"#ed7953\"],[0.7777777777777778,\"#fb9f3a\"],[0.8888888888888888,\"#fdca26\"],[1.0,\"#f0f921\"]],\"type\":\"heatmapgl\"}],\"histogram\":[{\"marker\":{\"pattern\":{\"fillmode\":\"overlay\",\"size\":10,\"solidity\":0.2}},\"type\":\"histogram\"}],\"histogram2d\":[{\"colorbar\":{\"outlinewidth\":0,\"ticks\":\"\"},\"colorscale\":[[0.0,\"#0d0887\"],[0.1111111111111111,\"#46039f\"],[0.2222222222222222,\"#7201a8\"],[0.3333333333333333,\"#9c179e\"],[0.4444444444444444,\"#bd3786\"],[0.5555555555555556,\"#d8576b\"],[0.6666666666666666,\"#ed7953\"],[0.7777777777777778,\"#fb9f3a\"],[0.8888888888888888,\"#fdca26\"],[1.0,\"#f0f921\"]],\"type\":\"histogram2d\"}],\"histogram2dcontour\":[{\"colorbar\":{\"outlinewidth\":0,\"ticks\":\"\"},\"colorscale\":[[0.0,\"#0d0887\"],[0.1111111111111111,\"#46039f\"],[0.2222222222222222,\"#7201a8\"],[0.3333333333333333,\"#9c179e\"],[0.4444444444444444,\"#bd3786\"],[0.5555555555555556,\"#d8576b\"],[0.6666666666666666,\"#ed7953\"],[0.7777777777777778,\"#fb9f3a\"],[0.8888888888888888,\"#fdca26\"],[1.0,\"#f0f921\"]],\"type\":\"histogram2dcontour\"}],\"mesh3d\":[{\"colorbar\":{\"outlinewidth\":0,\"ticks\":\"\"},\"type\":\"mesh3d\"}],\"parcoords\":[{\"line\":{\"colorbar\":{\"outlinewidth\":0,\"ticks\":\"\"}},\"type\":\"parcoords\"}],\"pie\":[{\"automargin\":true,\"type\":\"pie\"}],\"scatter\":[{\"marker\":{\"colorbar\":{\"outlinewidth\":0,\"ticks\":\"\"}},\"type\":\"scatter\"}],\"scatter3d\":[{\"line\":{\"colorbar\":{\"outlinewidth\":0,\"ticks\":\"\"}},\"marker\":{\"colorbar\":{\"outlinewidth\":0,\"ticks\":\"\"}},\"type\":\"scatter3d\"}],\"scattercarpet\":[{\"marker\":{\"colorbar\":{\"outlinewidth\":0,\"ticks\":\"\"}},\"type\":\"scattercarpet\"}],\"scattergeo\":[{\"marker\":{\"colorbar\":{\"outlinewidth\":0,\"ticks\":\"\"}},\"type\":\"scattergeo\"}],\"scattergl\":[{\"marker\":{\"colorbar\":{\"outlinewidth\":0,\"ticks\":\"\"}},\"type\":\"scattergl\"}],\"scattermapbox\":[{\"marker\":{\"colorbar\":{\"outlinewidth\":0,\"ticks\":\"\"}},\"type\":\"scattermapbox\"}],\"scatterpolar\":[{\"marker\":{\"colorbar\":{\"outlinewidth\":0,\"ticks\":\"\"}},\"type\":\"scatterpolar\"}],\"scatterpolargl\":[{\"marker\":{\"colorbar\":{\"outlinewidth\":0,\"ticks\":\"\"}},\"type\":\"scatterpolargl\"}],\"scatterternary\":[{\"marker\":{\"colorbar\":{\"outlinewidth\":0,\"ticks\":\"\"}},\"type\":\"scatterternary\"}],\"surface\":[{\"colorbar\":{\"outlinewidth\":0,\"ticks\":\"\"},\"colorscale\":[[0.0,\"#0d0887\"],[0.1111111111111111,\"#46039f\"],[0.2222222222222222,\"#7201a8\"],[0.3333333333333333,\"#9c179e\"],[0.4444444444444444,\"#bd3786\"],[0.5555555555555556,\"#d8576b\"],[0.6666666666666666,\"#ed7953\"],[0.7777777777777778,\"#fb9f3a\"],[0.8888888888888888,\"#fdca26\"],[1.0,\"#f0f921\"]],\"type\":\"surface\"}],\"table\":[{\"cells\":{\"fill\":{\"color\":\"#EBF0F8\"},\"line\":{\"color\":\"white\"}},\"header\":{\"fill\":{\"color\":\"#C8D4E3\"},\"line\":{\"color\":\"white\"}},\"type\":\"table\"}]},\"layout\":{\"annotationdefaults\":{\"arrowcolor\":\"#2a3f5f\",\"arrowhead\":0,\"arrowwidth\":1},\"autotypenumbers\":\"strict\",\"coloraxis\":{\"colorbar\":{\"outlinewidth\":0,\"ticks\":\"\"}},\"colorscale\":{\"diverging\":[[0,\"#8e0152\"],[0.1,\"#c51b7d\"],[0.2,\"#de77ae\"],[0.3,\"#f1b6da\"],[0.4,\"#fde0ef\"],[0.5,\"#f7f7f7\"],[0.6,\"#e6f5d0\"],[0.7,\"#b8e186\"],[0.8,\"#7fbc41\"],[0.9,\"#4d9221\"],[1,\"#276419\"]],\"sequential\":[[0.0,\"#0d0887\"],[0.1111111111111111,\"#46039f\"],[0.2222222222222222,\"#7201a8\"],[0.3333333333333333,\"#9c179e\"],[0.4444444444444444,\"#bd3786\"],[0.5555555555555556,\"#d8576b\"],[0.6666666666666666,\"#ed7953\"],[0.7777777777777778,\"#fb9f3a\"],[0.8888888888888888,\"#fdca26\"],[1.0,\"#f0f921\"]],\"sequentialminus\":[[0.0,\"#0d0887\"],[0.1111111111111111,\"#46039f\"],[0.2222222222222222,\"#7201a8\"],[0.3333333333333333,\"#9c179e\"],[0.4444444444444444,\"#bd3786\"],[0.5555555555555556,\"#d8576b\"],[0.6666666666666666,\"#ed7953\"],[0.7777777777777778,\"#fb9f3a\"],[0.8888888888888888,\"#fdca26\"],[1.0,\"#f0f921\"]]},\"colorway\":[\"#636efa\",\"#EF553B\",\"#00cc96\",\"#ab63fa\",\"#FFA15A\",\"#19d3f3\",\"#FF6692\",\"#B6E880\",\"#FF97FF\",\"#FECB52\"],\"font\":{\"color\":\"#2a3f5f\"},\"geo\":{\"bgcolor\":\"white\",\"lakecolor\":\"white\",\"landcolor\":\"#E5ECF6\",\"showlakes\":true,\"showland\":true,\"subunitcolor\":\"white\"},\"hoverlabel\":{\"align\":\"left\"},\"hovermode\":\"closest\",\"mapbox\":{\"style\":\"light\"},\"paper_bgcolor\":\"white\",\"plot_bgcolor\":\"#E5ECF6\",\"polar\":{\"angularaxis\":{\"gridcolor\":\"white\",\"linecolor\":\"white\",\"ticks\":\"\"},\"bgcolor\":\"#E5ECF6\",\"radialaxis\":{\"gridcolor\":\"white\",\"linecolor\":\"white\",\"ticks\":\"\"}},\"scene\":{\"xaxis\":{\"backgroundcolor\":\"#E5ECF6\",\"gridcolor\":\"white\",\"gridwidth\":2,\"linecolor\":\"white\",\"showbackground\":true,\"ticks\":\"\",\"zerolinecolor\":\"white\"},\"yaxis\":{\"backgroundcolor\":\"#E5ECF6\",\"gridcolor\":\"white\",\"gridwidth\":2,\"linecolor\":\"white\",\"showbackground\":true,\"ticks\":\"\",\"zerolinecolor\":\"white\"},\"zaxis\":{\"backgroundcolor\":\"#E5ECF6\",\"gridcolor\":\"white\",\"gridwidth\":2,\"linecolor\":\"white\",\"showbackground\":true,\"ticks\":\"\",\"zerolinecolor\":\"white\"}},\"shapedefaults\":{\"line\":{\"color\":\"#2a3f5f\"}},\"ternary\":{\"aaxis\":{\"gridcolor\":\"white\",\"linecolor\":\"white\",\"ticks\":\"\"},\"baxis\":{\"gridcolor\":\"white\",\"linecolor\":\"white\",\"ticks\":\"\"},\"bgcolor\":\"#E5ECF6\",\"caxis\":{\"gridcolor\":\"white\",\"linecolor\":\"white\",\"ticks\":\"\"}},\"title\":{\"x\":0.05},\"xaxis\":{\"automargin\":true,\"gridcolor\":\"white\",\"linecolor\":\"white\",\"ticks\":\"\",\"title\":{\"standoff\":15},\"zerolinecolor\":\"white\",\"zerolinewidth\":2},\"yaxis\":{\"automargin\":true,\"gridcolor\":\"white\",\"linecolor\":\"white\",\"ticks\":\"\",\"title\":{\"standoff\":15},\"zerolinecolor\":\"white\",\"zerolinewidth\":2}}},\"xaxis\":{\"anchor\":\"y\",\"domain\":[0.0,1.0],\"title\":{\"text\":\"groupe\"},\"categoryorder\":\"total descending\"},\"yaxis\":{\"anchor\":\"x\",\"domain\":[0.0,1.0],\"title\":{\"text\":\"IT\\u95a2\\u4fc2\\u8af8\\u7d4c\\u8cbb\\u5185\\u8a33\"}},\"legend\":{\"title\":{\"text\":\"\\u696d\\u7a2e\\u5225\"},\"tracegroupgap\":0},\"margin\":{\"t\":60},\"barmode\":\"relative\"},                        {\"responsive\": true}                    ).then(function(){\n",
       "                            \n",
       "var gd = document.getElementById('10f7e62d-abc0-4f39-b870-7ad7cf20c3ac');\n",
       "var x = new MutationObserver(function (mutations, observer) {{\n",
       "        var display = window.getComputedStyle(gd).display;\n",
       "        if (!display || display === 'none') {{\n",
       "            console.log([gd, 'removed!']);\n",
       "            Plotly.purge(gd);\n",
       "            observer.disconnect();\n",
       "        }}\n",
       "}});\n",
       "\n",
       "// Listen for the removal of the full notebook cells\n",
       "var notebookContainer = gd.closest('#notebook-container');\n",
       "if (notebookContainer) {{\n",
       "    x.observe(notebookContainer, {childList: true});\n",
       "}}\n",
       "\n",
       "// Listen for the clearing of the current output cell\n",
       "var outputEl = gd.closest('.output');\n",
       "if (outputEl) {{\n",
       "    x.observe(outputEl, {childList: true});\n",
       "}}\n",
       "\n",
       "                        })                };                });            </script>        </div>"
      ]
     },
     "metadata": {},
     "output_type": "display_data"
    },
    {
     "data": {
      "application/vnd.plotly.v1+json": {
       "config": {
        "plotlyServerURL": "https://plot.ly"
       },
       "data": [
        {
         "alignmentgroup": "True",
         "hovertemplate": "groupe=コンピュータ・周辺機器関連費（％）<br>業種別=%{x}<br>value=%{y}<extra></extra>",
         "legendgroup": "コンピュータ・周辺機器関連費（％）",
         "marker": {
          "color": "#636efa",
          "pattern": {
           "shape": ""
          }
         },
         "name": "コンピュータ・周辺機器関連費（％）",
         "offsetgroup": "コンピュータ・周辺機器関連費（％）",
         "orientation": "v",
         "showlegend": true,
         "textposition": "auto",
         "type": "bar",
         "x": [
          "食料品、飲料・たばこ・飼料製造業",
          "繊維工業",
          "パルプ・紙・紙加工品製造業",
          "化学工業",
          "石油・石炭・ﾌﾟﾗｽﾁｯｸ製品製造業",
          "窯業・土石製品製造業",
          "鉄鋼業",
          "非鉄金属製品・金属製品製造業",
          "電気機械器具製造業",
          "情報通信機械器具製造業",
          "輸送用機械器具製造業",
          "その他機械器具製造業",
          "その他の製造業",
          "農林漁業・同協同組合、鉱業",
          "建設業",
          "電気・ガス・熱供給・水道業",
          "映像・音声情報制作・放送・通信業",
          "新聞・出版業",
          "情報サービス業",
          "運輸業・郵便業",
          "卸売業",
          "小売業",
          "金融業・保険業",
          "医療業（国・公立除く）",
          "教育（国・公立除く）、学習支援業",
          "その他の非製造業"
         ],
         "xaxis": "x",
         "y": [
          10.301312722431573,
          23.619631901840492,
          7.052694850731317,
          20.26410172807304,
          0.2815802741602534,
          4.223189147683645,
          21.368294153104276,
          7.051539420577732,
          5.744021049664052,
          12.0824402016542,
          12.423289441385029,
          12.279242805558594,
          12.091297086658008,
          15.254237288135593,
          13.786121071503905,
          2.396853184637662,
          10.368798252899019,
          5.914332784184514,
          17.56965033165521,
          7.454185200030507,
          5.774075196772204,
          14.799739498534677,
          9.191186914063753,
          19.29499072356215,
          10.377358490566039,
          14.66228865429737
         ],
         "yaxis": "y"
        },
        {
         "alignmentgroup": "True",
         "hovertemplate": "groupe=通信機器関連費用（％）<br>業種別=%{x}<br>value=%{y}<extra></extra>",
         "legendgroup": "通信機器関連費用（％）",
         "marker": {
          "color": "#EF553B",
          "pattern": {
           "shape": ""
          }
         },
         "name": "通信機器関連費用（％）",
         "offsetgroup": "通信機器関連費用（％）",
         "orientation": "v",
         "showlegend": true,
         "textposition": "auto",
         "type": "bar",
         "x": [
          "食料品、飲料・たばこ・飼料製造業",
          "繊維工業",
          "パルプ・紙・紙加工品製造業",
          "化学工業",
          "石油・石炭・ﾌﾟﾗｽﾁｯｸ製品製造業",
          "窯業・土石製品製造業",
          "鉄鋼業",
          "非鉄金属製品・金属製品製造業",
          "電気機械器具製造業",
          "情報通信機械器具製造業",
          "輸送用機械器具製造業",
          "その他機械器具製造業",
          "その他の製造業",
          "農林漁業・同協同組合、鉱業",
          "建設業",
          "電気・ガス・熱供給・水道業",
          "映像・音声情報制作・放送・通信業",
          "新聞・出版業",
          "情報サービス業",
          "運輸業・郵便業",
          "卸売業",
          "小売業",
          "金融業・保険業",
          "医療業（国・公立除く）",
          "教育（国・公立除く）、学習支援業",
          "その他の非製造業"
         ],
         "xaxis": "x",
         "y": [
          0.93003284707287,
          0.920245398773006,
          0.5009016229212583,
          2.1830631057888965,
          0.0694437838300625,
          0.9726132582544152,
          11.28691983122363,
          1.2594298755362086,
          0.772917351877085,
          0.8947907472664086,
          2.495032629487423,
          1.0329357697778752,
          0.11876043792911485,
          1.694915254237288,
          4.273360050622232,
          2.662689921977998,
          1.6999374570658137,
          1.6639209225700164,
          1.1634623544645473,
          0.8792157486397145,
          0.9135665680628,
          1.2507030579319738,
          3.7501065234502793,
          5.009276437847867,
          5.660377358490567,
          4.84755620970659
         ],
         "yaxis": "y"
        },
        {
         "alignmentgroup": "True",
         "hovertemplate": "groupe=その他の情報機器関連費用（％）<br>業種別=%{x}<br>value=%{y}<extra></extra>",
         "legendgroup": "その他の情報機器関連費用（％）",
         "marker": {
          "color": "#00cc96",
          "pattern": {
           "shape": ""
          }
         },
         "name": "その他の情報機器関連費用（％）",
         "offsetgroup": "その他の情報機器関連費用（％）",
         "orientation": "v",
         "showlegend": true,
         "textposition": "auto",
         "type": "bar",
         "x": [
          "食料品、飲料・たばこ・飼料製造業",
          "繊維工業",
          "パルプ・紙・紙加工品製造業",
          "化学工業",
          "石油・石炭・ﾌﾟﾗｽﾁｯｸ製品製造業",
          "窯業・土石製品製造業",
          "鉄鋼業",
          "非鉄金属製品・金属製品製造業",
          "電気機械器具製造業",
          "情報通信機械器具製造業",
          "輸送用機械器具製造業",
          "その他機械器具製造業",
          "その他の製造業",
          "農林漁業・同協同組合、鉱業",
          "建設業",
          "電気・ガス・熱供給・水道業",
          "映像・音声情報制作・放送・通信業",
          "新聞・出版業",
          "情報サービス業",
          "運輸業・郵便業",
          "卸売業",
          "小売業",
          "金融業・保険業",
          "医療業（国・公立除く）",
          "教育（国・公立除く）、学習支援業",
          "その他の非製造業"
         ],
         "xaxis": "x",
         "y": [
          8.429480268141793,
          0.6134969325153374,
          0.120216389501102,
          1.4627856655897087,
          0.032343680140029106,
          3.7112874328129,
          0.1416515973477999,
          3.1232170403397927,
          0.08692383592538647,
          1.023092016342927,
          0.193136923426073,
          1.9586388007440638,
          0.10020411950269068,
          5.932203389830509,
          1.8013077409829152,
          5.9888910501631765,
          1.4764233643997415,
          0.9719934102141682,
          0.6734393863488909,
          9.382033685419914,
          3.74102373809698,
          1.2462626920458246,
          2.947469506803298,
          0.927643784786642,
          2.358490566037736,
          9.548985684110999
         ],
         "yaxis": "y"
        },
        {
         "alignmentgroup": "True",
         "hovertemplate": "groupe=ソフトウェア関連費用（％）<br>業種別=%{x}<br>value=%{y}<extra></extra>",
         "legendgroup": "ソフトウェア関連費用（％）",
         "marker": {
          "color": "#ab63fa",
          "pattern": {
           "shape": ""
          }
         },
         "name": "ソフトウェア関連費用（％）",
         "offsetgroup": "ソフトウェア関連費用（％）",
         "orientation": "v",
         "showlegend": true,
         "textposition": "auto",
         "type": "bar",
         "x": [
          "食料品、飲料・たばこ・飼料製造業",
          "繊維工業",
          "パルプ・紙・紙加工品製造業",
          "化学工業",
          "石油・石炭・ﾌﾟﾗｽﾁｯｸ製品製造業",
          "窯業・土石製品製造業",
          "鉄鋼業",
          "非鉄金属製品・金属製品製造業",
          "電気機械器具製造業",
          "情報通信機械器具製造業",
          "輸送用機械器具製造業",
          "その他機械器具製造業",
          "その他の製造業",
          "農林漁業・同協同組合、鉱業",
          "建設業",
          "電気・ガス・熱供給・水道業",
          "映像・音声情報制作・放送・通信業",
          "新聞・出版業",
          "情報サービス業",
          "運輸業・郵便業",
          "卸売業",
          "小売業",
          "金融業・保険業",
          "医療業（国・公立除く）",
          "教育（国・公立除く）、学習支援業",
          "その他の非製造業"
         ],
         "xaxis": "x",
         "y": [
          41.93797460053064,
          38.036809815950924,
          44.27970346623923,
          17.511930521386017,
          97.20036909846749,
          25.74865625799847,
          38.72814948764315,
          36.86156837055977,
          24.933045153408823,
          22.396313771813976,
          38.5963530932013,
          38.48561111719006,
          48.14993505288551,
          22.033898305084744,
          30.64121493355832,
          44.26289740430958,
          50.44138906831533,
          47.90774299835256,
          28.812529257656266,
          21.17550074566193,
          29.69404927405952,
          25.626831650928033,
          39.94134566836707,
          16.697588126159555,
          39.62264150943396,
          36.38246086484372
         ],
         "yaxis": "y"
        },
        {
         "alignmentgroup": "True",
         "hovertemplate": "groupe=処理サービス料（％）<br>業種別=%{x}<br>value=%{y}<extra></extra>",
         "legendgroup": "処理サービス料（％）",
         "marker": {
          "color": "#FFA15A",
          "pattern": {
           "shape": ""
          }
         },
         "name": "処理サービス料（％）",
         "offsetgroup": "処理サービス料（％）",
         "orientation": "v",
         "showlegend": true,
         "textposition": "auto",
         "type": "bar",
         "x": [
          "食料品、飲料・たばこ・飼料製造業",
          "繊維工業",
          "パルプ・紙・紙加工品製造業",
          "化学工業",
          "石油・石炭・ﾌﾟﾗｽﾁｯｸ製品製造業",
          "窯業・土石製品製造業",
          "鉄鋼業",
          "非鉄金属製品・金属製品製造業",
          "電気機械器具製造業",
          "情報通信機械器具製造業",
          "輸送用機械器具製造業",
          "その他機械器具製造業",
          "その他の製造業",
          "農林漁業・同協同組合、鉱業",
          "建設業",
          "電気・ガス・熱供給・水道業",
          "映像・音声情報制作・放送・通信業",
          "新聞・出版業",
          "情報サービス業",
          "運輸業・郵便業",
          "卸売業",
          "小売業",
          "金融業・保険業",
          "医療業（国・公立除く）",
          "教育（国・公立除く）、学習支援業",
          "その他の非製造業"
         ],
         "xaxis": "x",
         "y": [
          3.5408232360047753,
          15.644171779141105,
          15.407733921057904,
          3.6710436612621162,
          0.2901418365502611,
          7.166624008190428,
          4.002411091018685,
          3.1358958645901573,
          3.317201522341775,
          12.790309272421197,
          2.8336011930952387,
          3.2957654010285586,
          0.6383373538689924,
          0,
          4.477958236658933,
          0.7218656119648144,
          0.33834702100827413,
          2.2405271828665567,
          4.522446610765722,
          15.715697522519962,
          3.2591539579174023,
          3.780231491074865,
          6.034954352983436,
          0.1855287569573284,
          0.4716981132075472,
          3.004471402582553
         ],
         "yaxis": "y"
        },
        {
         "alignmentgroup": "True",
         "hovertemplate": "groupe=運用保守委託料（％）<br>業種別=%{x}<br>value=%{y}<extra></extra>",
         "legendgroup": "運用保守委託料（％）",
         "marker": {
          "color": "#19d3f3",
          "pattern": {
           "shape": ""
          }
         },
         "name": "運用保守委託料（％）",
         "offsetgroup": "運用保守委託料（％）",
         "orientation": "v",
         "showlegend": true,
         "textposition": "auto",
         "type": "bar",
         "x": [
          "食料品、飲料・たばこ・飼料製造業",
          "繊維工業",
          "パルプ・紙・紙加工品製造業",
          "化学工業",
          "石油・石炭・ﾌﾟﾗｽﾁｯｸ製品製造業",
          "窯業・土石製品製造業",
          "鉄鋼業",
          "非鉄金属製品・金属製品製造業",
          "電気機械器具製造業",
          "情報通信機械器具製造業",
          "輸送用機械器具製造業",
          "その他機械器具製造業",
          "その他の製造業",
          "農林漁業・同協同組合、鉱業",
          "建設業",
          "電気・ガス・熱供給・水道業",
          "映像・音声情報制作・放送・通信業",
          "新聞・出版業",
          "情報サービス業",
          "運輸業・郵便業",
          "卸売業",
          "小売業",
          "金融業・保険業",
          "医療業（国・公立除く）",
          "教育（国・公立除く）、学習支援業",
          "その他の非製造業"
         ],
         "xaxis": "x",
         "y": [
          20.359733607027454,
          7.668711656441718,
          4.5281506712081745,
          15.31701099682841,
          0.2987033989402688,
          32.63373432300998,
          9.97588908981314,
          8.600469116497264,
          10.318094253629658,
          27.70654845253184,
          28.736180520497058,
          11.408250355618776,
          1.6700686583781779,
          13.559322033898304,
          10.063277789495888,
          40.37044241284661,
          29.280346139255432,
          24.662273476112027,
          6.136237335370077,
          10.388149898333578,
          18.422895608817903,
          17.33814866344987,
          19.87956664885931,
          9.461966604823749,
          14.622641509433961,
          12.625938968111141
         ],
         "yaxis": "y"
        },
        {
         "alignmentgroup": "True",
         "hovertemplate": "groupe=情報セキュリティ関連サービス料（％）<br>業種別=%{x}<br>value=%{y}<extra></extra>",
         "legendgroup": "情報セキュリティ関連サービス料（％）",
         "marker": {
          "color": "#FF6692",
          "pattern": {
           "shape": ""
          }
         },
         "name": "情報セキュリティ関連サービス料（％）",
         "offsetgroup": "情報セキュリティ関連サービス料（％）",
         "orientation": "v",
         "showlegend": true,
         "textposition": "auto",
         "type": "bar",
         "x": [
          "食料品、飲料・たばこ・飼料製造業",
          "繊維工業",
          "パルプ・紙・紙加工品製造業",
          "化学工業",
          "石油・石炭・ﾌﾟﾗｽﾁｯｸ製品製造業",
          "窯業・土石製品製造業",
          "鉄鋼業",
          "非鉄金属製品・金属製品製造業",
          "電気機械器具製造業",
          "情報通信機械器具製造業",
          "輸送用機械器具製造業",
          "その他機械器具製造業",
          "その他の製造業",
          "農林漁業・同協同組合、鉱業",
          "建設業",
          "電気・ガス・熱供給・水道業",
          "映像・音声情報制作・放送・通信業",
          "新聞・出版業",
          "情報サービス業",
          "運輸業・郵便業",
          "卸売業",
          "小売業",
          "金融業・保険業",
          "医療業（国・公立除く）",
          "教育（国・公立除く）、学習支援業",
          "その他の非製造業"
         ],
         "xaxis": "x",
         "y": [
          0.6935911369308134,
          0,
          0.10018032458425166,
          0.43424133740403714,
          0.016171840070014553,
          0.02559508574353724,
          0.07836045810729356,
          0.2155400122561968,
          0.33359958652445615,
          0.7344141609207605,
          0.7243792523702114,
          0.6893533209322683,
          0.022267582111709035,
          1.694915254237288,
          0.5441889896646277,
          0.33067496595992996,
          0.20813468262024132,
          0.11532125205930809,
          0.2094232238036185,
          0.183048240026873,
          0.3762974422226636,
          0.6749356146946508,
          0.5756847968815432,
          0.7421150278293136,
          10.377358490566039,
          0.36418407286551124
         ],
         "yaxis": "y"
        },
        {
         "alignmentgroup": "True",
         "hovertemplate": "groupe=その他サービス関連支出（％）<br>業種別=%{x}<br>value=%{y}<extra></extra>",
         "legendgroup": "その他サービス関連支出（％）",
         "marker": {
          "color": "#B6E880",
          "pattern": {
           "shape": ""
          }
         },
         "name": "その他サービス関連支出（％）",
         "offsetgroup": "その他サービス関連支出（％）",
         "orientation": "v",
         "showlegend": true,
         "textposition": "auto",
         "type": "bar",
         "x": [
          "食料品、飲料・たばこ・飼料製造業",
          "繊維工業",
          "パルプ・紙・紙加工品製造業",
          "化学工業",
          "石油・石炭・ﾌﾟﾗｽﾁｯｸ製品製造業",
          "窯業・土石製品製造業",
          "鉄鋼業",
          "非鉄金属製品・金属製品製造業",
          "電気機械器具製造業",
          "情報通信機械器具製造業",
          "輸送用機械器具製造業",
          "その他機械器具製造業",
          "その他の製造業",
          "農林漁業・同協同組合、鉱業",
          "建設業",
          "電気・ガス・熱供給・水道業",
          "映像・音声情報制作・放送・通信業",
          "新聞・出版業",
          "情報サービス業",
          "運輸業・郵便業",
          "卸売業",
          "小売業",
          "金融業・保険業",
          "医療業（国・公立除く）",
          "教育（国・公立除く）、学習支援業",
          "その他の非製造業"
         ],
         "xaxis": "x",
         "y": [
          1.4870378071940784,
          0,
          0.7012622720897617,
          4.339449269348194,
          0.17598767135015836,
          0.15357051446122344,
          3.3122362869198314,
          1.7158675485493313,
          6.770662030728751,
          3.972915159679777,
          2.3296851914463965,
          2.1665390086442717,
          1.1616255334941548,
          1.694915254237288,
          4.001265555789918,
          0.2247725258812596,
          3.360913742015523,
          4.8764415156507415,
          4.626473833047259,
          1.801272574732527,
          0.6219360503402357,
          1.4505195228086794,
          3.1668390895704155,
          10.57513914656772,
          1.4150943396226416,
          1.3464804601746116
         ],
         "yaxis": "y"
        },
        {
         "alignmentgroup": "True",
         "hovertemplate": "groupe=その他費用（％）<br>業種別=%{x}<br>value=%{y}<extra></extra>",
         "legendgroup": "その他費用（％）",
         "marker": {
          "color": "#FF97FF",
          "pattern": {
           "shape": ""
          }
         },
         "name": "その他費用（％）",
         "offsetgroup": "その他費用（％）",
         "orientation": "v",
         "showlegend": true,
         "textposition": "auto",
         "type": "bar",
         "x": [
          "食料品、飲料・たばこ・飼料製造業",
          "繊維工業",
          "パルプ・紙・紙加工品製造業",
          "化学工業",
          "石油・石炭・ﾌﾟﾗｽﾁｯｸ製品製造業",
          "窯業・土石製品製造業",
          "鉄鋼業",
          "非鉄金属製品・金属製品製造業",
          "電気機械器具製造業",
          "情報通信機械器具製造業",
          "輸送用機械器具製造業",
          "その他機械器具製造業",
          "その他の製造業",
          "農林漁業・同協同組合、鉱業",
          "建設業",
          "電気・ガス・熱供給・水道業",
          "映像・音声情報制作・放送・通信業",
          "新聞・出版業",
          "情報サービス業",
          "運輸業・郵便業",
          "卸売業",
          "小売業",
          "金融業・保険業",
          "医療業（国・公立除く）",
          "教育（国・公立除く）、学習支援業",
          "その他の非製造業"
         ],
         "xaxis": "x",
         "y": [
          12.320013774666002,
          13.496932515337425,
          27.309156481667003,
          34.816373714319596,
          1.6352584164914716,
          25.364729971845406,
          11.106088004822182,
          38.036472751093555,
          47.723535215900014,
          18.39917621736889,
          11.668341755091264,
          28.68366342050553,
          36.047504175171646,
          38.13559322033898,
          30.411305631723266,
          3.040912922258964,
          2.8257102724206162,
          11.647446457990116,
          36.28633766688841,
          33.02089638463498,
          37.197002163710295,
          33.83262780853143,
          14.5128464990209,
          37.10575139146568,
          15.09433962264151,
          17.21763368330749
         ],
         "yaxis": "y"
        }
       ],
       "layout": {
        "barmode": "relative",
        "legend": {
         "title": {
          "text": "groupe"
         },
         "tracegroupgap": 0
        },
        "margin": {
         "t": 60
        },
        "template": {
         "data": {
          "bar": [
           {
            "error_x": {
             "color": "#2a3f5f"
            },
            "error_y": {
             "color": "#2a3f5f"
            },
            "marker": {
             "line": {
              "color": "#E5ECF6",
              "width": 0.5
             },
             "pattern": {
              "fillmode": "overlay",
              "size": 10,
              "solidity": 0.2
             }
            },
            "type": "bar"
           }
          ],
          "barpolar": [
           {
            "marker": {
             "line": {
              "color": "#E5ECF6",
              "width": 0.5
             },
             "pattern": {
              "fillmode": "overlay",
              "size": 10,
              "solidity": 0.2
             }
            },
            "type": "barpolar"
           }
          ],
          "carpet": [
           {
            "aaxis": {
             "endlinecolor": "#2a3f5f",
             "gridcolor": "white",
             "linecolor": "white",
             "minorgridcolor": "white",
             "startlinecolor": "#2a3f5f"
            },
            "baxis": {
             "endlinecolor": "#2a3f5f",
             "gridcolor": "white",
             "linecolor": "white",
             "minorgridcolor": "white",
             "startlinecolor": "#2a3f5f"
            },
            "type": "carpet"
           }
          ],
          "choropleth": [
           {
            "colorbar": {
             "outlinewidth": 0,
             "ticks": ""
            },
            "type": "choropleth"
           }
          ],
          "contour": [
           {
            "colorbar": {
             "outlinewidth": 0,
             "ticks": ""
            },
            "colorscale": [
             [
              0,
              "#0d0887"
             ],
             [
              0.1111111111111111,
              "#46039f"
             ],
             [
              0.2222222222222222,
              "#7201a8"
             ],
             [
              0.3333333333333333,
              "#9c179e"
             ],
             [
              0.4444444444444444,
              "#bd3786"
             ],
             [
              0.5555555555555556,
              "#d8576b"
             ],
             [
              0.6666666666666666,
              "#ed7953"
             ],
             [
              0.7777777777777778,
              "#fb9f3a"
             ],
             [
              0.8888888888888888,
              "#fdca26"
             ],
             [
              1,
              "#f0f921"
             ]
            ],
            "type": "contour"
           }
          ],
          "contourcarpet": [
           {
            "colorbar": {
             "outlinewidth": 0,
             "ticks": ""
            },
            "type": "contourcarpet"
           }
          ],
          "heatmap": [
           {
            "colorbar": {
             "outlinewidth": 0,
             "ticks": ""
            },
            "colorscale": [
             [
              0,
              "#0d0887"
             ],
             [
              0.1111111111111111,
              "#46039f"
             ],
             [
              0.2222222222222222,
              "#7201a8"
             ],
             [
              0.3333333333333333,
              "#9c179e"
             ],
             [
              0.4444444444444444,
              "#bd3786"
             ],
             [
              0.5555555555555556,
              "#d8576b"
             ],
             [
              0.6666666666666666,
              "#ed7953"
             ],
             [
              0.7777777777777778,
              "#fb9f3a"
             ],
             [
              0.8888888888888888,
              "#fdca26"
             ],
             [
              1,
              "#f0f921"
             ]
            ],
            "type": "heatmap"
           }
          ],
          "heatmapgl": [
           {
            "colorbar": {
             "outlinewidth": 0,
             "ticks": ""
            },
            "colorscale": [
             [
              0,
              "#0d0887"
             ],
             [
              0.1111111111111111,
              "#46039f"
             ],
             [
              0.2222222222222222,
              "#7201a8"
             ],
             [
              0.3333333333333333,
              "#9c179e"
             ],
             [
              0.4444444444444444,
              "#bd3786"
             ],
             [
              0.5555555555555556,
              "#d8576b"
             ],
             [
              0.6666666666666666,
              "#ed7953"
             ],
             [
              0.7777777777777778,
              "#fb9f3a"
             ],
             [
              0.8888888888888888,
              "#fdca26"
             ],
             [
              1,
              "#f0f921"
             ]
            ],
            "type": "heatmapgl"
           }
          ],
          "histogram": [
           {
            "marker": {
             "pattern": {
              "fillmode": "overlay",
              "size": 10,
              "solidity": 0.2
             }
            },
            "type": "histogram"
           }
          ],
          "histogram2d": [
           {
            "colorbar": {
             "outlinewidth": 0,
             "ticks": ""
            },
            "colorscale": [
             [
              0,
              "#0d0887"
             ],
             [
              0.1111111111111111,
              "#46039f"
             ],
             [
              0.2222222222222222,
              "#7201a8"
             ],
             [
              0.3333333333333333,
              "#9c179e"
             ],
             [
              0.4444444444444444,
              "#bd3786"
             ],
             [
              0.5555555555555556,
              "#d8576b"
             ],
             [
              0.6666666666666666,
              "#ed7953"
             ],
             [
              0.7777777777777778,
              "#fb9f3a"
             ],
             [
              0.8888888888888888,
              "#fdca26"
             ],
             [
              1,
              "#f0f921"
             ]
            ],
            "type": "histogram2d"
           }
          ],
          "histogram2dcontour": [
           {
            "colorbar": {
             "outlinewidth": 0,
             "ticks": ""
            },
            "colorscale": [
             [
              0,
              "#0d0887"
             ],
             [
              0.1111111111111111,
              "#46039f"
             ],
             [
              0.2222222222222222,
              "#7201a8"
             ],
             [
              0.3333333333333333,
              "#9c179e"
             ],
             [
              0.4444444444444444,
              "#bd3786"
             ],
             [
              0.5555555555555556,
              "#d8576b"
             ],
             [
              0.6666666666666666,
              "#ed7953"
             ],
             [
              0.7777777777777778,
              "#fb9f3a"
             ],
             [
              0.8888888888888888,
              "#fdca26"
             ],
             [
              1,
              "#f0f921"
             ]
            ],
            "type": "histogram2dcontour"
           }
          ],
          "mesh3d": [
           {
            "colorbar": {
             "outlinewidth": 0,
             "ticks": ""
            },
            "type": "mesh3d"
           }
          ],
          "parcoords": [
           {
            "line": {
             "colorbar": {
              "outlinewidth": 0,
              "ticks": ""
             }
            },
            "type": "parcoords"
           }
          ],
          "pie": [
           {
            "automargin": true,
            "type": "pie"
           }
          ],
          "scatter": [
           {
            "marker": {
             "colorbar": {
              "outlinewidth": 0,
              "ticks": ""
             }
            },
            "type": "scatter"
           }
          ],
          "scatter3d": [
           {
            "line": {
             "colorbar": {
              "outlinewidth": 0,
              "ticks": ""
             }
            },
            "marker": {
             "colorbar": {
              "outlinewidth": 0,
              "ticks": ""
             }
            },
            "type": "scatter3d"
           }
          ],
          "scattercarpet": [
           {
            "marker": {
             "colorbar": {
              "outlinewidth": 0,
              "ticks": ""
             }
            },
            "type": "scattercarpet"
           }
          ],
          "scattergeo": [
           {
            "marker": {
             "colorbar": {
              "outlinewidth": 0,
              "ticks": ""
             }
            },
            "type": "scattergeo"
           }
          ],
          "scattergl": [
           {
            "marker": {
             "colorbar": {
              "outlinewidth": 0,
              "ticks": ""
             }
            },
            "type": "scattergl"
           }
          ],
          "scattermapbox": [
           {
            "marker": {
             "colorbar": {
              "outlinewidth": 0,
              "ticks": ""
             }
            },
            "type": "scattermapbox"
           }
          ],
          "scatterpolar": [
           {
            "marker": {
             "colorbar": {
              "outlinewidth": 0,
              "ticks": ""
             }
            },
            "type": "scatterpolar"
           }
          ],
          "scatterpolargl": [
           {
            "marker": {
             "colorbar": {
              "outlinewidth": 0,
              "ticks": ""
             }
            },
            "type": "scatterpolargl"
           }
          ],
          "scatterternary": [
           {
            "marker": {
             "colorbar": {
              "outlinewidth": 0,
              "ticks": ""
             }
            },
            "type": "scatterternary"
           }
          ],
          "surface": [
           {
            "colorbar": {
             "outlinewidth": 0,
             "ticks": ""
            },
            "colorscale": [
             [
              0,
              "#0d0887"
             ],
             [
              0.1111111111111111,
              "#46039f"
             ],
             [
              0.2222222222222222,
              "#7201a8"
             ],
             [
              0.3333333333333333,
              "#9c179e"
             ],
             [
              0.4444444444444444,
              "#bd3786"
             ],
             [
              0.5555555555555556,
              "#d8576b"
             ],
             [
              0.6666666666666666,
              "#ed7953"
             ],
             [
              0.7777777777777778,
              "#fb9f3a"
             ],
             [
              0.8888888888888888,
              "#fdca26"
             ],
             [
              1,
              "#f0f921"
             ]
            ],
            "type": "surface"
           }
          ],
          "table": [
           {
            "cells": {
             "fill": {
              "color": "#EBF0F8"
             },
             "line": {
              "color": "white"
             }
            },
            "header": {
             "fill": {
              "color": "#C8D4E3"
             },
             "line": {
              "color": "white"
             }
            },
            "type": "table"
           }
          ]
         },
         "layout": {
          "annotationdefaults": {
           "arrowcolor": "#2a3f5f",
           "arrowhead": 0,
           "arrowwidth": 1
          },
          "autotypenumbers": "strict",
          "coloraxis": {
           "colorbar": {
            "outlinewidth": 0,
            "ticks": ""
           }
          },
          "colorscale": {
           "diverging": [
            [
             0,
             "#8e0152"
            ],
            [
             0.1,
             "#c51b7d"
            ],
            [
             0.2,
             "#de77ae"
            ],
            [
             0.3,
             "#f1b6da"
            ],
            [
             0.4,
             "#fde0ef"
            ],
            [
             0.5,
             "#f7f7f7"
            ],
            [
             0.6,
             "#e6f5d0"
            ],
            [
             0.7,
             "#b8e186"
            ],
            [
             0.8,
             "#7fbc41"
            ],
            [
             0.9,
             "#4d9221"
            ],
            [
             1,
             "#276419"
            ]
           ],
           "sequential": [
            [
             0,
             "#0d0887"
            ],
            [
             0.1111111111111111,
             "#46039f"
            ],
            [
             0.2222222222222222,
             "#7201a8"
            ],
            [
             0.3333333333333333,
             "#9c179e"
            ],
            [
             0.4444444444444444,
             "#bd3786"
            ],
            [
             0.5555555555555556,
             "#d8576b"
            ],
            [
             0.6666666666666666,
             "#ed7953"
            ],
            [
             0.7777777777777778,
             "#fb9f3a"
            ],
            [
             0.8888888888888888,
             "#fdca26"
            ],
            [
             1,
             "#f0f921"
            ]
           ],
           "sequentialminus": [
            [
             0,
             "#0d0887"
            ],
            [
             0.1111111111111111,
             "#46039f"
            ],
            [
             0.2222222222222222,
             "#7201a8"
            ],
            [
             0.3333333333333333,
             "#9c179e"
            ],
            [
             0.4444444444444444,
             "#bd3786"
            ],
            [
             0.5555555555555556,
             "#d8576b"
            ],
            [
             0.6666666666666666,
             "#ed7953"
            ],
            [
             0.7777777777777778,
             "#fb9f3a"
            ],
            [
             0.8888888888888888,
             "#fdca26"
            ],
            [
             1,
             "#f0f921"
            ]
           ]
          },
          "colorway": [
           "#636efa",
           "#EF553B",
           "#00cc96",
           "#ab63fa",
           "#FFA15A",
           "#19d3f3",
           "#FF6692",
           "#B6E880",
           "#FF97FF",
           "#FECB52"
          ],
          "font": {
           "color": "#2a3f5f"
          },
          "geo": {
           "bgcolor": "white",
           "lakecolor": "white",
           "landcolor": "#E5ECF6",
           "showlakes": true,
           "showland": true,
           "subunitcolor": "white"
          },
          "hoverlabel": {
           "align": "left"
          },
          "hovermode": "closest",
          "mapbox": {
           "style": "light"
          },
          "paper_bgcolor": "white",
          "plot_bgcolor": "#E5ECF6",
          "polar": {
           "angularaxis": {
            "gridcolor": "white",
            "linecolor": "white",
            "ticks": ""
           },
           "bgcolor": "#E5ECF6",
           "radialaxis": {
            "gridcolor": "white",
            "linecolor": "white",
            "ticks": ""
           }
          },
          "scene": {
           "xaxis": {
            "backgroundcolor": "#E5ECF6",
            "gridcolor": "white",
            "gridwidth": 2,
            "linecolor": "white",
            "showbackground": true,
            "ticks": "",
            "zerolinecolor": "white"
           },
           "yaxis": {
            "backgroundcolor": "#E5ECF6",
            "gridcolor": "white",
            "gridwidth": 2,
            "linecolor": "white",
            "showbackground": true,
            "ticks": "",
            "zerolinecolor": "white"
           },
           "zaxis": {
            "backgroundcolor": "#E5ECF6",
            "gridcolor": "white",
            "gridwidth": 2,
            "linecolor": "white",
            "showbackground": true,
            "ticks": "",
            "zerolinecolor": "white"
           }
          },
          "shapedefaults": {
           "line": {
            "color": "#2a3f5f"
           }
          },
          "ternary": {
           "aaxis": {
            "gridcolor": "white",
            "linecolor": "white",
            "ticks": ""
           },
           "baxis": {
            "gridcolor": "white",
            "linecolor": "white",
            "ticks": ""
           },
           "bgcolor": "#E5ECF6",
           "caxis": {
            "gridcolor": "white",
            "linecolor": "white",
            "ticks": ""
           }
          },
          "title": {
           "x": 0.05
          },
          "xaxis": {
           "automargin": true,
           "gridcolor": "white",
           "linecolor": "white",
           "ticks": "",
           "title": {
            "standoff": 15
           },
           "zerolinecolor": "white",
           "zerolinewidth": 2
          },
          "yaxis": {
           "automargin": true,
           "gridcolor": "white",
           "linecolor": "white",
           "ticks": "",
           "title": {
            "standoff": 15
           },
           "zerolinecolor": "white",
           "zerolinewidth": 2
          }
         }
        },
        "xaxis": {
         "anchor": "y",
         "categoryorder": "total descending",
         "domain": [
          0,
          1
         ],
         "title": {
          "text": "業種別"
         }
        },
        "yaxis": {
         "anchor": "x",
         "domain": [
          0,
          1
         ],
         "title": {
          "text": "IT関係諸経費内訳"
         }
        }
       }
      },
      "text/html": [
       "<div>                            <div id=\"078b0661-deaa-480f-a013-c893281d48fe\" class=\"plotly-graph-div\" style=\"height:525px; width:100%;\"></div>            <script type=\"text/javascript\">                require([\"plotly\"], function(Plotly) {                    window.PLOTLYENV=window.PLOTLYENV || {};                                    if (document.getElementById(\"078b0661-deaa-480f-a013-c893281d48fe\")) {                    Plotly.newPlot(                        \"078b0661-deaa-480f-a013-c893281d48fe\",                        [{\"alignmentgroup\":\"True\",\"hovertemplate\":\"groupe=\\u30b3\\u30f3\\u30d4\\u30e5\\u30fc\\u30bf\\u30fb\\u5468\\u8fba\\u6a5f\\u5668\\u95a2\\u9023\\u8cbb\\uff08\\uff05\\uff09<br>\\u696d\\u7a2e\\u5225=%{x}<br>value=%{y}<extra></extra>\",\"legendgroup\":\"\\u30b3\\u30f3\\u30d4\\u30e5\\u30fc\\u30bf\\u30fb\\u5468\\u8fba\\u6a5f\\u5668\\u95a2\\u9023\\u8cbb\\uff08\\uff05\\uff09\",\"marker\":{\"color\":\"#636efa\",\"pattern\":{\"shape\":\"\"}},\"name\":\"\\u30b3\\u30f3\\u30d4\\u30e5\\u30fc\\u30bf\\u30fb\\u5468\\u8fba\\u6a5f\\u5668\\u95a2\\u9023\\u8cbb\\uff08\\uff05\\uff09\",\"offsetgroup\":\"\\u30b3\\u30f3\\u30d4\\u30e5\\u30fc\\u30bf\\u30fb\\u5468\\u8fba\\u6a5f\\u5668\\u95a2\\u9023\\u8cbb\\uff08\\uff05\\uff09\",\"orientation\":\"v\",\"showlegend\":true,\"textposition\":\"auto\",\"x\":[\"\\u98df\\u6599\\u54c1\\u3001\\u98f2\\u6599\\u30fb\\u305f\\u3070\\u3053\\u30fb\\u98fc\\u6599\\u88fd\\u9020\\u696d\",\"\\u7e4a\\u7dad\\u5de5\\u696d\",\"\\u30d1\\u30eb\\u30d7\\u30fb\\u7d19\\u30fb\\u7d19\\u52a0\\u5de5\\u54c1\\u88fd\\u9020\\u696d\",\"\\u5316\\u5b66\\u5de5\\u696d\",\"\\u77f3\\u6cb9\\u30fb\\u77f3\\u70ad\\u30fb\\uff8c\\uff9f\\uff97\\uff7d\\uff81\\uff6f\\uff78\\u88fd\\u54c1\\u88fd\\u9020\\u696d\",\"\\u7aaf\\u696d\\u30fb\\u571f\\u77f3\\u88fd\\u54c1\\u88fd\\u9020\\u696d\",\"\\u9244\\u92fc\\u696d\",\"\\u975e\\u9244\\u91d1\\u5c5e\\u88fd\\u54c1\\u30fb\\u91d1\\u5c5e\\u88fd\\u54c1\\u88fd\\u9020\\u696d\",\"\\u96fb\\u6c17\\u6a5f\\u68b0\\u5668\\u5177\\u88fd\\u9020\\u696d\",\"\\u60c5\\u5831\\u901a\\u4fe1\\u6a5f\\u68b0\\u5668\\u5177\\u88fd\\u9020\\u696d\",\"\\u8f38\\u9001\\u7528\\u6a5f\\u68b0\\u5668\\u5177\\u88fd\\u9020\\u696d\",\"\\u305d\\u306e\\u4ed6\\u6a5f\\u68b0\\u5668\\u5177\\u88fd\\u9020\\u696d\",\"\\u305d\\u306e\\u4ed6\\u306e\\u88fd\\u9020\\u696d\",\"\\u8fb2\\u6797\\u6f01\\u696d\\u30fb\\u540c\\u5354\\u540c\\u7d44\\u5408\\u3001\\u9271\\u696d\",\"\\u5efa\\u8a2d\\u696d\",\"\\u96fb\\u6c17\\u30fb\\u30ac\\u30b9\\u30fb\\u71b1\\u4f9b\\u7d66\\u30fb\\u6c34\\u9053\\u696d\",\"\\u6620\\u50cf\\u30fb\\u97f3\\u58f0\\u60c5\\u5831\\u5236\\u4f5c\\u30fb\\u653e\\u9001\\u30fb\\u901a\\u4fe1\\u696d\",\"\\u65b0\\u805e\\u30fb\\u51fa\\u7248\\u696d\",\"\\u60c5\\u5831\\u30b5\\u30fc\\u30d3\\u30b9\\u696d\",\"\\u904b\\u8f38\\u696d\\u30fb\\u90f5\\u4fbf\\u696d\",\"\\u5378\\u58f2\\u696d\",\"\\u5c0f\\u58f2\\u696d\",\"\\u91d1\\u878d\\u696d\\u30fb\\u4fdd\\u967a\\u696d\",\"\\u533b\\u7642\\u696d\\uff08\\u56fd\\u30fb\\u516c\\u7acb\\u9664\\u304f\\uff09\",\"\\u6559\\u80b2\\uff08\\u56fd\\u30fb\\u516c\\u7acb\\u9664\\u304f\\uff09\\u3001\\u5b66\\u7fd2\\u652f\\u63f4\\u696d\",\"\\u305d\\u306e\\u4ed6\\u306e\\u975e\\u88fd\\u9020\\u696d\"],\"xaxis\":\"x\",\"y\":[10.301312722431573,23.619631901840492,7.052694850731317,20.26410172807304,0.2815802741602534,4.223189147683645,21.368294153104276,7.051539420577732,5.744021049664052,12.0824402016542,12.423289441385029,12.279242805558594,12.091297086658008,15.254237288135593,13.786121071503905,2.396853184637662,10.368798252899019,5.914332784184514,17.56965033165521,7.454185200030507,5.774075196772204,14.799739498534677,9.191186914063753,19.29499072356215,10.377358490566039,14.66228865429737],\"yaxis\":\"y\",\"type\":\"bar\"},{\"alignmentgroup\":\"True\",\"hovertemplate\":\"groupe=\\u901a\\u4fe1\\u6a5f\\u5668\\u95a2\\u9023\\u8cbb\\u7528\\uff08\\uff05\\uff09<br>\\u696d\\u7a2e\\u5225=%{x}<br>value=%{y}<extra></extra>\",\"legendgroup\":\"\\u901a\\u4fe1\\u6a5f\\u5668\\u95a2\\u9023\\u8cbb\\u7528\\uff08\\uff05\\uff09\",\"marker\":{\"color\":\"#EF553B\",\"pattern\":{\"shape\":\"\"}},\"name\":\"\\u901a\\u4fe1\\u6a5f\\u5668\\u95a2\\u9023\\u8cbb\\u7528\\uff08\\uff05\\uff09\",\"offsetgroup\":\"\\u901a\\u4fe1\\u6a5f\\u5668\\u95a2\\u9023\\u8cbb\\u7528\\uff08\\uff05\\uff09\",\"orientation\":\"v\",\"showlegend\":true,\"textposition\":\"auto\",\"x\":[\"\\u98df\\u6599\\u54c1\\u3001\\u98f2\\u6599\\u30fb\\u305f\\u3070\\u3053\\u30fb\\u98fc\\u6599\\u88fd\\u9020\\u696d\",\"\\u7e4a\\u7dad\\u5de5\\u696d\",\"\\u30d1\\u30eb\\u30d7\\u30fb\\u7d19\\u30fb\\u7d19\\u52a0\\u5de5\\u54c1\\u88fd\\u9020\\u696d\",\"\\u5316\\u5b66\\u5de5\\u696d\",\"\\u77f3\\u6cb9\\u30fb\\u77f3\\u70ad\\u30fb\\uff8c\\uff9f\\uff97\\uff7d\\uff81\\uff6f\\uff78\\u88fd\\u54c1\\u88fd\\u9020\\u696d\",\"\\u7aaf\\u696d\\u30fb\\u571f\\u77f3\\u88fd\\u54c1\\u88fd\\u9020\\u696d\",\"\\u9244\\u92fc\\u696d\",\"\\u975e\\u9244\\u91d1\\u5c5e\\u88fd\\u54c1\\u30fb\\u91d1\\u5c5e\\u88fd\\u54c1\\u88fd\\u9020\\u696d\",\"\\u96fb\\u6c17\\u6a5f\\u68b0\\u5668\\u5177\\u88fd\\u9020\\u696d\",\"\\u60c5\\u5831\\u901a\\u4fe1\\u6a5f\\u68b0\\u5668\\u5177\\u88fd\\u9020\\u696d\",\"\\u8f38\\u9001\\u7528\\u6a5f\\u68b0\\u5668\\u5177\\u88fd\\u9020\\u696d\",\"\\u305d\\u306e\\u4ed6\\u6a5f\\u68b0\\u5668\\u5177\\u88fd\\u9020\\u696d\",\"\\u305d\\u306e\\u4ed6\\u306e\\u88fd\\u9020\\u696d\",\"\\u8fb2\\u6797\\u6f01\\u696d\\u30fb\\u540c\\u5354\\u540c\\u7d44\\u5408\\u3001\\u9271\\u696d\",\"\\u5efa\\u8a2d\\u696d\",\"\\u96fb\\u6c17\\u30fb\\u30ac\\u30b9\\u30fb\\u71b1\\u4f9b\\u7d66\\u30fb\\u6c34\\u9053\\u696d\",\"\\u6620\\u50cf\\u30fb\\u97f3\\u58f0\\u60c5\\u5831\\u5236\\u4f5c\\u30fb\\u653e\\u9001\\u30fb\\u901a\\u4fe1\\u696d\",\"\\u65b0\\u805e\\u30fb\\u51fa\\u7248\\u696d\",\"\\u60c5\\u5831\\u30b5\\u30fc\\u30d3\\u30b9\\u696d\",\"\\u904b\\u8f38\\u696d\\u30fb\\u90f5\\u4fbf\\u696d\",\"\\u5378\\u58f2\\u696d\",\"\\u5c0f\\u58f2\\u696d\",\"\\u91d1\\u878d\\u696d\\u30fb\\u4fdd\\u967a\\u696d\",\"\\u533b\\u7642\\u696d\\uff08\\u56fd\\u30fb\\u516c\\u7acb\\u9664\\u304f\\uff09\",\"\\u6559\\u80b2\\uff08\\u56fd\\u30fb\\u516c\\u7acb\\u9664\\u304f\\uff09\\u3001\\u5b66\\u7fd2\\u652f\\u63f4\\u696d\",\"\\u305d\\u306e\\u4ed6\\u306e\\u975e\\u88fd\\u9020\\u696d\"],\"xaxis\":\"x\",\"y\":[0.93003284707287,0.920245398773006,0.5009016229212583,2.1830631057888965,0.0694437838300625,0.9726132582544152,11.28691983122363,1.2594298755362086,0.772917351877085,0.8947907472664086,2.495032629487423,1.0329357697778752,0.11876043792911485,1.694915254237288,4.273360050622232,2.662689921977998,1.6999374570658137,1.6639209225700164,1.1634623544645473,0.8792157486397145,0.9135665680628,1.2507030579319738,3.7501065234502793,5.009276437847867,5.660377358490567,4.84755620970659],\"yaxis\":\"y\",\"type\":\"bar\"},{\"alignmentgroup\":\"True\",\"hovertemplate\":\"groupe=\\u305d\\u306e\\u4ed6\\u306e\\u60c5\\u5831\\u6a5f\\u5668\\u95a2\\u9023\\u8cbb\\u7528\\uff08\\uff05\\uff09<br>\\u696d\\u7a2e\\u5225=%{x}<br>value=%{y}<extra></extra>\",\"legendgroup\":\"\\u305d\\u306e\\u4ed6\\u306e\\u60c5\\u5831\\u6a5f\\u5668\\u95a2\\u9023\\u8cbb\\u7528\\uff08\\uff05\\uff09\",\"marker\":{\"color\":\"#00cc96\",\"pattern\":{\"shape\":\"\"}},\"name\":\"\\u305d\\u306e\\u4ed6\\u306e\\u60c5\\u5831\\u6a5f\\u5668\\u95a2\\u9023\\u8cbb\\u7528\\uff08\\uff05\\uff09\",\"offsetgroup\":\"\\u305d\\u306e\\u4ed6\\u306e\\u60c5\\u5831\\u6a5f\\u5668\\u95a2\\u9023\\u8cbb\\u7528\\uff08\\uff05\\uff09\",\"orientation\":\"v\",\"showlegend\":true,\"textposition\":\"auto\",\"x\":[\"\\u98df\\u6599\\u54c1\\u3001\\u98f2\\u6599\\u30fb\\u305f\\u3070\\u3053\\u30fb\\u98fc\\u6599\\u88fd\\u9020\\u696d\",\"\\u7e4a\\u7dad\\u5de5\\u696d\",\"\\u30d1\\u30eb\\u30d7\\u30fb\\u7d19\\u30fb\\u7d19\\u52a0\\u5de5\\u54c1\\u88fd\\u9020\\u696d\",\"\\u5316\\u5b66\\u5de5\\u696d\",\"\\u77f3\\u6cb9\\u30fb\\u77f3\\u70ad\\u30fb\\uff8c\\uff9f\\uff97\\uff7d\\uff81\\uff6f\\uff78\\u88fd\\u54c1\\u88fd\\u9020\\u696d\",\"\\u7aaf\\u696d\\u30fb\\u571f\\u77f3\\u88fd\\u54c1\\u88fd\\u9020\\u696d\",\"\\u9244\\u92fc\\u696d\",\"\\u975e\\u9244\\u91d1\\u5c5e\\u88fd\\u54c1\\u30fb\\u91d1\\u5c5e\\u88fd\\u54c1\\u88fd\\u9020\\u696d\",\"\\u96fb\\u6c17\\u6a5f\\u68b0\\u5668\\u5177\\u88fd\\u9020\\u696d\",\"\\u60c5\\u5831\\u901a\\u4fe1\\u6a5f\\u68b0\\u5668\\u5177\\u88fd\\u9020\\u696d\",\"\\u8f38\\u9001\\u7528\\u6a5f\\u68b0\\u5668\\u5177\\u88fd\\u9020\\u696d\",\"\\u305d\\u306e\\u4ed6\\u6a5f\\u68b0\\u5668\\u5177\\u88fd\\u9020\\u696d\",\"\\u305d\\u306e\\u4ed6\\u306e\\u88fd\\u9020\\u696d\",\"\\u8fb2\\u6797\\u6f01\\u696d\\u30fb\\u540c\\u5354\\u540c\\u7d44\\u5408\\u3001\\u9271\\u696d\",\"\\u5efa\\u8a2d\\u696d\",\"\\u96fb\\u6c17\\u30fb\\u30ac\\u30b9\\u30fb\\u71b1\\u4f9b\\u7d66\\u30fb\\u6c34\\u9053\\u696d\",\"\\u6620\\u50cf\\u30fb\\u97f3\\u58f0\\u60c5\\u5831\\u5236\\u4f5c\\u30fb\\u653e\\u9001\\u30fb\\u901a\\u4fe1\\u696d\",\"\\u65b0\\u805e\\u30fb\\u51fa\\u7248\\u696d\",\"\\u60c5\\u5831\\u30b5\\u30fc\\u30d3\\u30b9\\u696d\",\"\\u904b\\u8f38\\u696d\\u30fb\\u90f5\\u4fbf\\u696d\",\"\\u5378\\u58f2\\u696d\",\"\\u5c0f\\u58f2\\u696d\",\"\\u91d1\\u878d\\u696d\\u30fb\\u4fdd\\u967a\\u696d\",\"\\u533b\\u7642\\u696d\\uff08\\u56fd\\u30fb\\u516c\\u7acb\\u9664\\u304f\\uff09\",\"\\u6559\\u80b2\\uff08\\u56fd\\u30fb\\u516c\\u7acb\\u9664\\u304f\\uff09\\u3001\\u5b66\\u7fd2\\u652f\\u63f4\\u696d\",\"\\u305d\\u306e\\u4ed6\\u306e\\u975e\\u88fd\\u9020\\u696d\"],\"xaxis\":\"x\",\"y\":[8.429480268141793,0.6134969325153374,0.120216389501102,1.4627856655897087,0.032343680140029106,3.7112874328129,0.1416515973477999,3.1232170403397927,0.08692383592538647,1.023092016342927,0.193136923426073,1.9586388007440638,0.10020411950269068,5.932203389830509,1.8013077409829152,5.9888910501631765,1.4764233643997415,0.9719934102141682,0.6734393863488909,9.382033685419914,3.74102373809698,1.2462626920458246,2.947469506803298,0.927643784786642,2.358490566037736,9.548985684110999],\"yaxis\":\"y\",\"type\":\"bar\"},{\"alignmentgroup\":\"True\",\"hovertemplate\":\"groupe=\\u30bd\\u30d5\\u30c8\\u30a6\\u30a7\\u30a2\\u95a2\\u9023\\u8cbb\\u7528\\uff08\\uff05\\uff09<br>\\u696d\\u7a2e\\u5225=%{x}<br>value=%{y}<extra></extra>\",\"legendgroup\":\"\\u30bd\\u30d5\\u30c8\\u30a6\\u30a7\\u30a2\\u95a2\\u9023\\u8cbb\\u7528\\uff08\\uff05\\uff09\",\"marker\":{\"color\":\"#ab63fa\",\"pattern\":{\"shape\":\"\"}},\"name\":\"\\u30bd\\u30d5\\u30c8\\u30a6\\u30a7\\u30a2\\u95a2\\u9023\\u8cbb\\u7528\\uff08\\uff05\\uff09\",\"offsetgroup\":\"\\u30bd\\u30d5\\u30c8\\u30a6\\u30a7\\u30a2\\u95a2\\u9023\\u8cbb\\u7528\\uff08\\uff05\\uff09\",\"orientation\":\"v\",\"showlegend\":true,\"textposition\":\"auto\",\"x\":[\"\\u98df\\u6599\\u54c1\\u3001\\u98f2\\u6599\\u30fb\\u305f\\u3070\\u3053\\u30fb\\u98fc\\u6599\\u88fd\\u9020\\u696d\",\"\\u7e4a\\u7dad\\u5de5\\u696d\",\"\\u30d1\\u30eb\\u30d7\\u30fb\\u7d19\\u30fb\\u7d19\\u52a0\\u5de5\\u54c1\\u88fd\\u9020\\u696d\",\"\\u5316\\u5b66\\u5de5\\u696d\",\"\\u77f3\\u6cb9\\u30fb\\u77f3\\u70ad\\u30fb\\uff8c\\uff9f\\uff97\\uff7d\\uff81\\uff6f\\uff78\\u88fd\\u54c1\\u88fd\\u9020\\u696d\",\"\\u7aaf\\u696d\\u30fb\\u571f\\u77f3\\u88fd\\u54c1\\u88fd\\u9020\\u696d\",\"\\u9244\\u92fc\\u696d\",\"\\u975e\\u9244\\u91d1\\u5c5e\\u88fd\\u54c1\\u30fb\\u91d1\\u5c5e\\u88fd\\u54c1\\u88fd\\u9020\\u696d\",\"\\u96fb\\u6c17\\u6a5f\\u68b0\\u5668\\u5177\\u88fd\\u9020\\u696d\",\"\\u60c5\\u5831\\u901a\\u4fe1\\u6a5f\\u68b0\\u5668\\u5177\\u88fd\\u9020\\u696d\",\"\\u8f38\\u9001\\u7528\\u6a5f\\u68b0\\u5668\\u5177\\u88fd\\u9020\\u696d\",\"\\u305d\\u306e\\u4ed6\\u6a5f\\u68b0\\u5668\\u5177\\u88fd\\u9020\\u696d\",\"\\u305d\\u306e\\u4ed6\\u306e\\u88fd\\u9020\\u696d\",\"\\u8fb2\\u6797\\u6f01\\u696d\\u30fb\\u540c\\u5354\\u540c\\u7d44\\u5408\\u3001\\u9271\\u696d\",\"\\u5efa\\u8a2d\\u696d\",\"\\u96fb\\u6c17\\u30fb\\u30ac\\u30b9\\u30fb\\u71b1\\u4f9b\\u7d66\\u30fb\\u6c34\\u9053\\u696d\",\"\\u6620\\u50cf\\u30fb\\u97f3\\u58f0\\u60c5\\u5831\\u5236\\u4f5c\\u30fb\\u653e\\u9001\\u30fb\\u901a\\u4fe1\\u696d\",\"\\u65b0\\u805e\\u30fb\\u51fa\\u7248\\u696d\",\"\\u60c5\\u5831\\u30b5\\u30fc\\u30d3\\u30b9\\u696d\",\"\\u904b\\u8f38\\u696d\\u30fb\\u90f5\\u4fbf\\u696d\",\"\\u5378\\u58f2\\u696d\",\"\\u5c0f\\u58f2\\u696d\",\"\\u91d1\\u878d\\u696d\\u30fb\\u4fdd\\u967a\\u696d\",\"\\u533b\\u7642\\u696d\\uff08\\u56fd\\u30fb\\u516c\\u7acb\\u9664\\u304f\\uff09\",\"\\u6559\\u80b2\\uff08\\u56fd\\u30fb\\u516c\\u7acb\\u9664\\u304f\\uff09\\u3001\\u5b66\\u7fd2\\u652f\\u63f4\\u696d\",\"\\u305d\\u306e\\u4ed6\\u306e\\u975e\\u88fd\\u9020\\u696d\"],\"xaxis\":\"x\",\"y\":[41.93797460053064,38.036809815950924,44.27970346623923,17.511930521386017,97.20036909846749,25.74865625799847,38.72814948764315,36.86156837055977,24.933045153408823,22.396313771813976,38.5963530932013,38.48561111719006,48.14993505288551,22.033898305084744,30.64121493355832,44.26289740430958,50.44138906831533,47.90774299835256,28.812529257656266,21.17550074566193,29.69404927405952,25.626831650928033,39.94134566836707,16.697588126159555,39.62264150943396,36.38246086484372],\"yaxis\":\"y\",\"type\":\"bar\"},{\"alignmentgroup\":\"True\",\"hovertemplate\":\"groupe=\\u51e6\\u7406\\u30b5\\u30fc\\u30d3\\u30b9\\u6599\\uff08\\uff05\\uff09<br>\\u696d\\u7a2e\\u5225=%{x}<br>value=%{y}<extra></extra>\",\"legendgroup\":\"\\u51e6\\u7406\\u30b5\\u30fc\\u30d3\\u30b9\\u6599\\uff08\\uff05\\uff09\",\"marker\":{\"color\":\"#FFA15A\",\"pattern\":{\"shape\":\"\"}},\"name\":\"\\u51e6\\u7406\\u30b5\\u30fc\\u30d3\\u30b9\\u6599\\uff08\\uff05\\uff09\",\"offsetgroup\":\"\\u51e6\\u7406\\u30b5\\u30fc\\u30d3\\u30b9\\u6599\\uff08\\uff05\\uff09\",\"orientation\":\"v\",\"showlegend\":true,\"textposition\":\"auto\",\"x\":[\"\\u98df\\u6599\\u54c1\\u3001\\u98f2\\u6599\\u30fb\\u305f\\u3070\\u3053\\u30fb\\u98fc\\u6599\\u88fd\\u9020\\u696d\",\"\\u7e4a\\u7dad\\u5de5\\u696d\",\"\\u30d1\\u30eb\\u30d7\\u30fb\\u7d19\\u30fb\\u7d19\\u52a0\\u5de5\\u54c1\\u88fd\\u9020\\u696d\",\"\\u5316\\u5b66\\u5de5\\u696d\",\"\\u77f3\\u6cb9\\u30fb\\u77f3\\u70ad\\u30fb\\uff8c\\uff9f\\uff97\\uff7d\\uff81\\uff6f\\uff78\\u88fd\\u54c1\\u88fd\\u9020\\u696d\",\"\\u7aaf\\u696d\\u30fb\\u571f\\u77f3\\u88fd\\u54c1\\u88fd\\u9020\\u696d\",\"\\u9244\\u92fc\\u696d\",\"\\u975e\\u9244\\u91d1\\u5c5e\\u88fd\\u54c1\\u30fb\\u91d1\\u5c5e\\u88fd\\u54c1\\u88fd\\u9020\\u696d\",\"\\u96fb\\u6c17\\u6a5f\\u68b0\\u5668\\u5177\\u88fd\\u9020\\u696d\",\"\\u60c5\\u5831\\u901a\\u4fe1\\u6a5f\\u68b0\\u5668\\u5177\\u88fd\\u9020\\u696d\",\"\\u8f38\\u9001\\u7528\\u6a5f\\u68b0\\u5668\\u5177\\u88fd\\u9020\\u696d\",\"\\u305d\\u306e\\u4ed6\\u6a5f\\u68b0\\u5668\\u5177\\u88fd\\u9020\\u696d\",\"\\u305d\\u306e\\u4ed6\\u306e\\u88fd\\u9020\\u696d\",\"\\u8fb2\\u6797\\u6f01\\u696d\\u30fb\\u540c\\u5354\\u540c\\u7d44\\u5408\\u3001\\u9271\\u696d\",\"\\u5efa\\u8a2d\\u696d\",\"\\u96fb\\u6c17\\u30fb\\u30ac\\u30b9\\u30fb\\u71b1\\u4f9b\\u7d66\\u30fb\\u6c34\\u9053\\u696d\",\"\\u6620\\u50cf\\u30fb\\u97f3\\u58f0\\u60c5\\u5831\\u5236\\u4f5c\\u30fb\\u653e\\u9001\\u30fb\\u901a\\u4fe1\\u696d\",\"\\u65b0\\u805e\\u30fb\\u51fa\\u7248\\u696d\",\"\\u60c5\\u5831\\u30b5\\u30fc\\u30d3\\u30b9\\u696d\",\"\\u904b\\u8f38\\u696d\\u30fb\\u90f5\\u4fbf\\u696d\",\"\\u5378\\u58f2\\u696d\",\"\\u5c0f\\u58f2\\u696d\",\"\\u91d1\\u878d\\u696d\\u30fb\\u4fdd\\u967a\\u696d\",\"\\u533b\\u7642\\u696d\\uff08\\u56fd\\u30fb\\u516c\\u7acb\\u9664\\u304f\\uff09\",\"\\u6559\\u80b2\\uff08\\u56fd\\u30fb\\u516c\\u7acb\\u9664\\u304f\\uff09\\u3001\\u5b66\\u7fd2\\u652f\\u63f4\\u696d\",\"\\u305d\\u306e\\u4ed6\\u306e\\u975e\\u88fd\\u9020\\u696d\"],\"xaxis\":\"x\",\"y\":[3.5408232360047753,15.644171779141105,15.407733921057904,3.6710436612621162,0.2901418365502611,7.166624008190428,4.002411091018685,3.1358958645901573,3.317201522341775,12.790309272421197,2.8336011930952387,3.2957654010285586,0.6383373538689924,0,4.477958236658933,0.7218656119648144,0.33834702100827413,2.2405271828665567,4.522446610765722,15.715697522519962,3.2591539579174023,3.780231491074865,6.034954352983436,0.1855287569573284,0.4716981132075472,3.004471402582553],\"yaxis\":\"y\",\"type\":\"bar\"},{\"alignmentgroup\":\"True\",\"hovertemplate\":\"groupe=\\u904b\\u7528\\u4fdd\\u5b88\\u59d4\\u8a17\\u6599\\uff08\\uff05\\uff09<br>\\u696d\\u7a2e\\u5225=%{x}<br>value=%{y}<extra></extra>\",\"legendgroup\":\"\\u904b\\u7528\\u4fdd\\u5b88\\u59d4\\u8a17\\u6599\\uff08\\uff05\\uff09\",\"marker\":{\"color\":\"#19d3f3\",\"pattern\":{\"shape\":\"\"}},\"name\":\"\\u904b\\u7528\\u4fdd\\u5b88\\u59d4\\u8a17\\u6599\\uff08\\uff05\\uff09\",\"offsetgroup\":\"\\u904b\\u7528\\u4fdd\\u5b88\\u59d4\\u8a17\\u6599\\uff08\\uff05\\uff09\",\"orientation\":\"v\",\"showlegend\":true,\"textposition\":\"auto\",\"x\":[\"\\u98df\\u6599\\u54c1\\u3001\\u98f2\\u6599\\u30fb\\u305f\\u3070\\u3053\\u30fb\\u98fc\\u6599\\u88fd\\u9020\\u696d\",\"\\u7e4a\\u7dad\\u5de5\\u696d\",\"\\u30d1\\u30eb\\u30d7\\u30fb\\u7d19\\u30fb\\u7d19\\u52a0\\u5de5\\u54c1\\u88fd\\u9020\\u696d\",\"\\u5316\\u5b66\\u5de5\\u696d\",\"\\u77f3\\u6cb9\\u30fb\\u77f3\\u70ad\\u30fb\\uff8c\\uff9f\\uff97\\uff7d\\uff81\\uff6f\\uff78\\u88fd\\u54c1\\u88fd\\u9020\\u696d\",\"\\u7aaf\\u696d\\u30fb\\u571f\\u77f3\\u88fd\\u54c1\\u88fd\\u9020\\u696d\",\"\\u9244\\u92fc\\u696d\",\"\\u975e\\u9244\\u91d1\\u5c5e\\u88fd\\u54c1\\u30fb\\u91d1\\u5c5e\\u88fd\\u54c1\\u88fd\\u9020\\u696d\",\"\\u96fb\\u6c17\\u6a5f\\u68b0\\u5668\\u5177\\u88fd\\u9020\\u696d\",\"\\u60c5\\u5831\\u901a\\u4fe1\\u6a5f\\u68b0\\u5668\\u5177\\u88fd\\u9020\\u696d\",\"\\u8f38\\u9001\\u7528\\u6a5f\\u68b0\\u5668\\u5177\\u88fd\\u9020\\u696d\",\"\\u305d\\u306e\\u4ed6\\u6a5f\\u68b0\\u5668\\u5177\\u88fd\\u9020\\u696d\",\"\\u305d\\u306e\\u4ed6\\u306e\\u88fd\\u9020\\u696d\",\"\\u8fb2\\u6797\\u6f01\\u696d\\u30fb\\u540c\\u5354\\u540c\\u7d44\\u5408\\u3001\\u9271\\u696d\",\"\\u5efa\\u8a2d\\u696d\",\"\\u96fb\\u6c17\\u30fb\\u30ac\\u30b9\\u30fb\\u71b1\\u4f9b\\u7d66\\u30fb\\u6c34\\u9053\\u696d\",\"\\u6620\\u50cf\\u30fb\\u97f3\\u58f0\\u60c5\\u5831\\u5236\\u4f5c\\u30fb\\u653e\\u9001\\u30fb\\u901a\\u4fe1\\u696d\",\"\\u65b0\\u805e\\u30fb\\u51fa\\u7248\\u696d\",\"\\u60c5\\u5831\\u30b5\\u30fc\\u30d3\\u30b9\\u696d\",\"\\u904b\\u8f38\\u696d\\u30fb\\u90f5\\u4fbf\\u696d\",\"\\u5378\\u58f2\\u696d\",\"\\u5c0f\\u58f2\\u696d\",\"\\u91d1\\u878d\\u696d\\u30fb\\u4fdd\\u967a\\u696d\",\"\\u533b\\u7642\\u696d\\uff08\\u56fd\\u30fb\\u516c\\u7acb\\u9664\\u304f\\uff09\",\"\\u6559\\u80b2\\uff08\\u56fd\\u30fb\\u516c\\u7acb\\u9664\\u304f\\uff09\\u3001\\u5b66\\u7fd2\\u652f\\u63f4\\u696d\",\"\\u305d\\u306e\\u4ed6\\u306e\\u975e\\u88fd\\u9020\\u696d\"],\"xaxis\":\"x\",\"y\":[20.359733607027454,7.668711656441718,4.5281506712081745,15.31701099682841,0.2987033989402688,32.63373432300998,9.97588908981314,8.600469116497264,10.318094253629658,27.70654845253184,28.736180520497058,11.408250355618776,1.6700686583781779,13.559322033898304,10.063277789495888,40.37044241284661,29.280346139255432,24.662273476112027,6.136237335370077,10.388149898333578,18.422895608817903,17.33814866344987,19.87956664885931,9.461966604823749,14.622641509433961,12.625938968111141],\"yaxis\":\"y\",\"type\":\"bar\"},{\"alignmentgroup\":\"True\",\"hovertemplate\":\"groupe=\\u60c5\\u5831\\u30bb\\u30ad\\u30e5\\u30ea\\u30c6\\u30a3\\u95a2\\u9023\\u30b5\\u30fc\\u30d3\\u30b9\\u6599\\uff08\\uff05\\uff09<br>\\u696d\\u7a2e\\u5225=%{x}<br>value=%{y}<extra></extra>\",\"legendgroup\":\"\\u60c5\\u5831\\u30bb\\u30ad\\u30e5\\u30ea\\u30c6\\u30a3\\u95a2\\u9023\\u30b5\\u30fc\\u30d3\\u30b9\\u6599\\uff08\\uff05\\uff09\",\"marker\":{\"color\":\"#FF6692\",\"pattern\":{\"shape\":\"\"}},\"name\":\"\\u60c5\\u5831\\u30bb\\u30ad\\u30e5\\u30ea\\u30c6\\u30a3\\u95a2\\u9023\\u30b5\\u30fc\\u30d3\\u30b9\\u6599\\uff08\\uff05\\uff09\",\"offsetgroup\":\"\\u60c5\\u5831\\u30bb\\u30ad\\u30e5\\u30ea\\u30c6\\u30a3\\u95a2\\u9023\\u30b5\\u30fc\\u30d3\\u30b9\\u6599\\uff08\\uff05\\uff09\",\"orientation\":\"v\",\"showlegend\":true,\"textposition\":\"auto\",\"x\":[\"\\u98df\\u6599\\u54c1\\u3001\\u98f2\\u6599\\u30fb\\u305f\\u3070\\u3053\\u30fb\\u98fc\\u6599\\u88fd\\u9020\\u696d\",\"\\u7e4a\\u7dad\\u5de5\\u696d\",\"\\u30d1\\u30eb\\u30d7\\u30fb\\u7d19\\u30fb\\u7d19\\u52a0\\u5de5\\u54c1\\u88fd\\u9020\\u696d\",\"\\u5316\\u5b66\\u5de5\\u696d\",\"\\u77f3\\u6cb9\\u30fb\\u77f3\\u70ad\\u30fb\\uff8c\\uff9f\\uff97\\uff7d\\uff81\\uff6f\\uff78\\u88fd\\u54c1\\u88fd\\u9020\\u696d\",\"\\u7aaf\\u696d\\u30fb\\u571f\\u77f3\\u88fd\\u54c1\\u88fd\\u9020\\u696d\",\"\\u9244\\u92fc\\u696d\",\"\\u975e\\u9244\\u91d1\\u5c5e\\u88fd\\u54c1\\u30fb\\u91d1\\u5c5e\\u88fd\\u54c1\\u88fd\\u9020\\u696d\",\"\\u96fb\\u6c17\\u6a5f\\u68b0\\u5668\\u5177\\u88fd\\u9020\\u696d\",\"\\u60c5\\u5831\\u901a\\u4fe1\\u6a5f\\u68b0\\u5668\\u5177\\u88fd\\u9020\\u696d\",\"\\u8f38\\u9001\\u7528\\u6a5f\\u68b0\\u5668\\u5177\\u88fd\\u9020\\u696d\",\"\\u305d\\u306e\\u4ed6\\u6a5f\\u68b0\\u5668\\u5177\\u88fd\\u9020\\u696d\",\"\\u305d\\u306e\\u4ed6\\u306e\\u88fd\\u9020\\u696d\",\"\\u8fb2\\u6797\\u6f01\\u696d\\u30fb\\u540c\\u5354\\u540c\\u7d44\\u5408\\u3001\\u9271\\u696d\",\"\\u5efa\\u8a2d\\u696d\",\"\\u96fb\\u6c17\\u30fb\\u30ac\\u30b9\\u30fb\\u71b1\\u4f9b\\u7d66\\u30fb\\u6c34\\u9053\\u696d\",\"\\u6620\\u50cf\\u30fb\\u97f3\\u58f0\\u60c5\\u5831\\u5236\\u4f5c\\u30fb\\u653e\\u9001\\u30fb\\u901a\\u4fe1\\u696d\",\"\\u65b0\\u805e\\u30fb\\u51fa\\u7248\\u696d\",\"\\u60c5\\u5831\\u30b5\\u30fc\\u30d3\\u30b9\\u696d\",\"\\u904b\\u8f38\\u696d\\u30fb\\u90f5\\u4fbf\\u696d\",\"\\u5378\\u58f2\\u696d\",\"\\u5c0f\\u58f2\\u696d\",\"\\u91d1\\u878d\\u696d\\u30fb\\u4fdd\\u967a\\u696d\",\"\\u533b\\u7642\\u696d\\uff08\\u56fd\\u30fb\\u516c\\u7acb\\u9664\\u304f\\uff09\",\"\\u6559\\u80b2\\uff08\\u56fd\\u30fb\\u516c\\u7acb\\u9664\\u304f\\uff09\\u3001\\u5b66\\u7fd2\\u652f\\u63f4\\u696d\",\"\\u305d\\u306e\\u4ed6\\u306e\\u975e\\u88fd\\u9020\\u696d\"],\"xaxis\":\"x\",\"y\":[0.6935911369308134,0,0.10018032458425166,0.43424133740403714,0.016171840070014553,0.02559508574353724,0.07836045810729356,0.2155400122561968,0.33359958652445615,0.7344141609207605,0.7243792523702114,0.6893533209322683,0.022267582111709035,1.694915254237288,0.5441889896646277,0.33067496595992996,0.20813468262024132,0.11532125205930809,0.2094232238036185,0.183048240026873,0.3762974422226636,0.6749356146946508,0.5756847968815432,0.7421150278293136,10.377358490566039,0.36418407286551124],\"yaxis\":\"y\",\"type\":\"bar\"},{\"alignmentgroup\":\"True\",\"hovertemplate\":\"groupe=\\u305d\\u306e\\u4ed6\\u30b5\\u30fc\\u30d3\\u30b9\\u95a2\\u9023\\u652f\\u51fa\\uff08\\uff05\\uff09<br>\\u696d\\u7a2e\\u5225=%{x}<br>value=%{y}<extra></extra>\",\"legendgroup\":\"\\u305d\\u306e\\u4ed6\\u30b5\\u30fc\\u30d3\\u30b9\\u95a2\\u9023\\u652f\\u51fa\\uff08\\uff05\\uff09\",\"marker\":{\"color\":\"#B6E880\",\"pattern\":{\"shape\":\"\"}},\"name\":\"\\u305d\\u306e\\u4ed6\\u30b5\\u30fc\\u30d3\\u30b9\\u95a2\\u9023\\u652f\\u51fa\\uff08\\uff05\\uff09\",\"offsetgroup\":\"\\u305d\\u306e\\u4ed6\\u30b5\\u30fc\\u30d3\\u30b9\\u95a2\\u9023\\u652f\\u51fa\\uff08\\uff05\\uff09\",\"orientation\":\"v\",\"showlegend\":true,\"textposition\":\"auto\",\"x\":[\"\\u98df\\u6599\\u54c1\\u3001\\u98f2\\u6599\\u30fb\\u305f\\u3070\\u3053\\u30fb\\u98fc\\u6599\\u88fd\\u9020\\u696d\",\"\\u7e4a\\u7dad\\u5de5\\u696d\",\"\\u30d1\\u30eb\\u30d7\\u30fb\\u7d19\\u30fb\\u7d19\\u52a0\\u5de5\\u54c1\\u88fd\\u9020\\u696d\",\"\\u5316\\u5b66\\u5de5\\u696d\",\"\\u77f3\\u6cb9\\u30fb\\u77f3\\u70ad\\u30fb\\uff8c\\uff9f\\uff97\\uff7d\\uff81\\uff6f\\uff78\\u88fd\\u54c1\\u88fd\\u9020\\u696d\",\"\\u7aaf\\u696d\\u30fb\\u571f\\u77f3\\u88fd\\u54c1\\u88fd\\u9020\\u696d\",\"\\u9244\\u92fc\\u696d\",\"\\u975e\\u9244\\u91d1\\u5c5e\\u88fd\\u54c1\\u30fb\\u91d1\\u5c5e\\u88fd\\u54c1\\u88fd\\u9020\\u696d\",\"\\u96fb\\u6c17\\u6a5f\\u68b0\\u5668\\u5177\\u88fd\\u9020\\u696d\",\"\\u60c5\\u5831\\u901a\\u4fe1\\u6a5f\\u68b0\\u5668\\u5177\\u88fd\\u9020\\u696d\",\"\\u8f38\\u9001\\u7528\\u6a5f\\u68b0\\u5668\\u5177\\u88fd\\u9020\\u696d\",\"\\u305d\\u306e\\u4ed6\\u6a5f\\u68b0\\u5668\\u5177\\u88fd\\u9020\\u696d\",\"\\u305d\\u306e\\u4ed6\\u306e\\u88fd\\u9020\\u696d\",\"\\u8fb2\\u6797\\u6f01\\u696d\\u30fb\\u540c\\u5354\\u540c\\u7d44\\u5408\\u3001\\u9271\\u696d\",\"\\u5efa\\u8a2d\\u696d\",\"\\u96fb\\u6c17\\u30fb\\u30ac\\u30b9\\u30fb\\u71b1\\u4f9b\\u7d66\\u30fb\\u6c34\\u9053\\u696d\",\"\\u6620\\u50cf\\u30fb\\u97f3\\u58f0\\u60c5\\u5831\\u5236\\u4f5c\\u30fb\\u653e\\u9001\\u30fb\\u901a\\u4fe1\\u696d\",\"\\u65b0\\u805e\\u30fb\\u51fa\\u7248\\u696d\",\"\\u60c5\\u5831\\u30b5\\u30fc\\u30d3\\u30b9\\u696d\",\"\\u904b\\u8f38\\u696d\\u30fb\\u90f5\\u4fbf\\u696d\",\"\\u5378\\u58f2\\u696d\",\"\\u5c0f\\u58f2\\u696d\",\"\\u91d1\\u878d\\u696d\\u30fb\\u4fdd\\u967a\\u696d\",\"\\u533b\\u7642\\u696d\\uff08\\u56fd\\u30fb\\u516c\\u7acb\\u9664\\u304f\\uff09\",\"\\u6559\\u80b2\\uff08\\u56fd\\u30fb\\u516c\\u7acb\\u9664\\u304f\\uff09\\u3001\\u5b66\\u7fd2\\u652f\\u63f4\\u696d\",\"\\u305d\\u306e\\u4ed6\\u306e\\u975e\\u88fd\\u9020\\u696d\"],\"xaxis\":\"x\",\"y\":[1.4870378071940784,0,0.7012622720897617,4.339449269348194,0.17598767135015836,0.15357051446122344,3.3122362869198314,1.7158675485493313,6.770662030728751,3.972915159679777,2.3296851914463965,2.1665390086442717,1.1616255334941548,1.694915254237288,4.001265555789918,0.2247725258812596,3.360913742015523,4.8764415156507415,4.626473833047259,1.801272574732527,0.6219360503402357,1.4505195228086794,3.1668390895704155,10.57513914656772,1.4150943396226416,1.3464804601746116],\"yaxis\":\"y\",\"type\":\"bar\"},{\"alignmentgroup\":\"True\",\"hovertemplate\":\"groupe=\\u305d\\u306e\\u4ed6\\u8cbb\\u7528\\uff08\\uff05\\uff09<br>\\u696d\\u7a2e\\u5225=%{x}<br>value=%{y}<extra></extra>\",\"legendgroup\":\"\\u305d\\u306e\\u4ed6\\u8cbb\\u7528\\uff08\\uff05\\uff09\",\"marker\":{\"color\":\"#FF97FF\",\"pattern\":{\"shape\":\"\"}},\"name\":\"\\u305d\\u306e\\u4ed6\\u8cbb\\u7528\\uff08\\uff05\\uff09\",\"offsetgroup\":\"\\u305d\\u306e\\u4ed6\\u8cbb\\u7528\\uff08\\uff05\\uff09\",\"orientation\":\"v\",\"showlegend\":true,\"textposition\":\"auto\",\"x\":[\"\\u98df\\u6599\\u54c1\\u3001\\u98f2\\u6599\\u30fb\\u305f\\u3070\\u3053\\u30fb\\u98fc\\u6599\\u88fd\\u9020\\u696d\",\"\\u7e4a\\u7dad\\u5de5\\u696d\",\"\\u30d1\\u30eb\\u30d7\\u30fb\\u7d19\\u30fb\\u7d19\\u52a0\\u5de5\\u54c1\\u88fd\\u9020\\u696d\",\"\\u5316\\u5b66\\u5de5\\u696d\",\"\\u77f3\\u6cb9\\u30fb\\u77f3\\u70ad\\u30fb\\uff8c\\uff9f\\uff97\\uff7d\\uff81\\uff6f\\uff78\\u88fd\\u54c1\\u88fd\\u9020\\u696d\",\"\\u7aaf\\u696d\\u30fb\\u571f\\u77f3\\u88fd\\u54c1\\u88fd\\u9020\\u696d\",\"\\u9244\\u92fc\\u696d\",\"\\u975e\\u9244\\u91d1\\u5c5e\\u88fd\\u54c1\\u30fb\\u91d1\\u5c5e\\u88fd\\u54c1\\u88fd\\u9020\\u696d\",\"\\u96fb\\u6c17\\u6a5f\\u68b0\\u5668\\u5177\\u88fd\\u9020\\u696d\",\"\\u60c5\\u5831\\u901a\\u4fe1\\u6a5f\\u68b0\\u5668\\u5177\\u88fd\\u9020\\u696d\",\"\\u8f38\\u9001\\u7528\\u6a5f\\u68b0\\u5668\\u5177\\u88fd\\u9020\\u696d\",\"\\u305d\\u306e\\u4ed6\\u6a5f\\u68b0\\u5668\\u5177\\u88fd\\u9020\\u696d\",\"\\u305d\\u306e\\u4ed6\\u306e\\u88fd\\u9020\\u696d\",\"\\u8fb2\\u6797\\u6f01\\u696d\\u30fb\\u540c\\u5354\\u540c\\u7d44\\u5408\\u3001\\u9271\\u696d\",\"\\u5efa\\u8a2d\\u696d\",\"\\u96fb\\u6c17\\u30fb\\u30ac\\u30b9\\u30fb\\u71b1\\u4f9b\\u7d66\\u30fb\\u6c34\\u9053\\u696d\",\"\\u6620\\u50cf\\u30fb\\u97f3\\u58f0\\u60c5\\u5831\\u5236\\u4f5c\\u30fb\\u653e\\u9001\\u30fb\\u901a\\u4fe1\\u696d\",\"\\u65b0\\u805e\\u30fb\\u51fa\\u7248\\u696d\",\"\\u60c5\\u5831\\u30b5\\u30fc\\u30d3\\u30b9\\u696d\",\"\\u904b\\u8f38\\u696d\\u30fb\\u90f5\\u4fbf\\u696d\",\"\\u5378\\u58f2\\u696d\",\"\\u5c0f\\u58f2\\u696d\",\"\\u91d1\\u878d\\u696d\\u30fb\\u4fdd\\u967a\\u696d\",\"\\u533b\\u7642\\u696d\\uff08\\u56fd\\u30fb\\u516c\\u7acb\\u9664\\u304f\\uff09\",\"\\u6559\\u80b2\\uff08\\u56fd\\u30fb\\u516c\\u7acb\\u9664\\u304f\\uff09\\u3001\\u5b66\\u7fd2\\u652f\\u63f4\\u696d\",\"\\u305d\\u306e\\u4ed6\\u306e\\u975e\\u88fd\\u9020\\u696d\"],\"xaxis\":\"x\",\"y\":[12.320013774666002,13.496932515337425,27.309156481667003,34.816373714319596,1.6352584164914716,25.364729971845406,11.106088004822182,38.036472751093555,47.723535215900014,18.39917621736889,11.668341755091264,28.68366342050553,36.047504175171646,38.13559322033898,30.411305631723266,3.040912922258964,2.8257102724206162,11.647446457990116,36.28633766688841,33.02089638463498,37.197002163710295,33.83262780853143,14.5128464990209,37.10575139146568,15.09433962264151,17.21763368330749],\"yaxis\":\"y\",\"type\":\"bar\"}],                        {\"template\":{\"data\":{\"bar\":[{\"error_x\":{\"color\":\"#2a3f5f\"},\"error_y\":{\"color\":\"#2a3f5f\"},\"marker\":{\"line\":{\"color\":\"#E5ECF6\",\"width\":0.5},\"pattern\":{\"fillmode\":\"overlay\",\"size\":10,\"solidity\":0.2}},\"type\":\"bar\"}],\"barpolar\":[{\"marker\":{\"line\":{\"color\":\"#E5ECF6\",\"width\":0.5},\"pattern\":{\"fillmode\":\"overlay\",\"size\":10,\"solidity\":0.2}},\"type\":\"barpolar\"}],\"carpet\":[{\"aaxis\":{\"endlinecolor\":\"#2a3f5f\",\"gridcolor\":\"white\",\"linecolor\":\"white\",\"minorgridcolor\":\"white\",\"startlinecolor\":\"#2a3f5f\"},\"baxis\":{\"endlinecolor\":\"#2a3f5f\",\"gridcolor\":\"white\",\"linecolor\":\"white\",\"minorgridcolor\":\"white\",\"startlinecolor\":\"#2a3f5f\"},\"type\":\"carpet\"}],\"choropleth\":[{\"colorbar\":{\"outlinewidth\":0,\"ticks\":\"\"},\"type\":\"choropleth\"}],\"contour\":[{\"colorbar\":{\"outlinewidth\":0,\"ticks\":\"\"},\"colorscale\":[[0.0,\"#0d0887\"],[0.1111111111111111,\"#46039f\"],[0.2222222222222222,\"#7201a8\"],[0.3333333333333333,\"#9c179e\"],[0.4444444444444444,\"#bd3786\"],[0.5555555555555556,\"#d8576b\"],[0.6666666666666666,\"#ed7953\"],[0.7777777777777778,\"#fb9f3a\"],[0.8888888888888888,\"#fdca26\"],[1.0,\"#f0f921\"]],\"type\":\"contour\"}],\"contourcarpet\":[{\"colorbar\":{\"outlinewidth\":0,\"ticks\":\"\"},\"type\":\"contourcarpet\"}],\"heatmap\":[{\"colorbar\":{\"outlinewidth\":0,\"ticks\":\"\"},\"colorscale\":[[0.0,\"#0d0887\"],[0.1111111111111111,\"#46039f\"],[0.2222222222222222,\"#7201a8\"],[0.3333333333333333,\"#9c179e\"],[0.4444444444444444,\"#bd3786\"],[0.5555555555555556,\"#d8576b\"],[0.6666666666666666,\"#ed7953\"],[0.7777777777777778,\"#fb9f3a\"],[0.8888888888888888,\"#fdca26\"],[1.0,\"#f0f921\"]],\"type\":\"heatmap\"}],\"heatmapgl\":[{\"colorbar\":{\"outlinewidth\":0,\"ticks\":\"\"},\"colorscale\":[[0.0,\"#0d0887\"],[0.1111111111111111,\"#46039f\"],[0.2222222222222222,\"#7201a8\"],[0.3333333333333333,\"#9c179e\"],[0.4444444444444444,\"#bd3786\"],[0.5555555555555556,\"#d8576b\"],[0.6666666666666666,\"#ed7953\"],[0.7777777777777778,\"#fb9f3a\"],[0.8888888888888888,\"#fdca26\"],[1.0,\"#f0f921\"]],\"type\":\"heatmapgl\"}],\"histogram\":[{\"marker\":{\"pattern\":{\"fillmode\":\"overlay\",\"size\":10,\"solidity\":0.2}},\"type\":\"histogram\"}],\"histogram2d\":[{\"colorbar\":{\"outlinewidth\":0,\"ticks\":\"\"},\"colorscale\":[[0.0,\"#0d0887\"],[0.1111111111111111,\"#46039f\"],[0.2222222222222222,\"#7201a8\"],[0.3333333333333333,\"#9c179e\"],[0.4444444444444444,\"#bd3786\"],[0.5555555555555556,\"#d8576b\"],[0.6666666666666666,\"#ed7953\"],[0.7777777777777778,\"#fb9f3a\"],[0.8888888888888888,\"#fdca26\"],[1.0,\"#f0f921\"]],\"type\":\"histogram2d\"}],\"histogram2dcontour\":[{\"colorbar\":{\"outlinewidth\":0,\"ticks\":\"\"},\"colorscale\":[[0.0,\"#0d0887\"],[0.1111111111111111,\"#46039f\"],[0.2222222222222222,\"#7201a8\"],[0.3333333333333333,\"#9c179e\"],[0.4444444444444444,\"#bd3786\"],[0.5555555555555556,\"#d8576b\"],[0.6666666666666666,\"#ed7953\"],[0.7777777777777778,\"#fb9f3a\"],[0.8888888888888888,\"#fdca26\"],[1.0,\"#f0f921\"]],\"type\":\"histogram2dcontour\"}],\"mesh3d\":[{\"colorbar\":{\"outlinewidth\":0,\"ticks\":\"\"},\"type\":\"mesh3d\"}],\"parcoords\":[{\"line\":{\"colorbar\":{\"outlinewidth\":0,\"ticks\":\"\"}},\"type\":\"parcoords\"}],\"pie\":[{\"automargin\":true,\"type\":\"pie\"}],\"scatter\":[{\"marker\":{\"colorbar\":{\"outlinewidth\":0,\"ticks\":\"\"}},\"type\":\"scatter\"}],\"scatter3d\":[{\"line\":{\"colorbar\":{\"outlinewidth\":0,\"ticks\":\"\"}},\"marker\":{\"colorbar\":{\"outlinewidth\":0,\"ticks\":\"\"}},\"type\":\"scatter3d\"}],\"scattercarpet\":[{\"marker\":{\"colorbar\":{\"outlinewidth\":0,\"ticks\":\"\"}},\"type\":\"scattercarpet\"}],\"scattergeo\":[{\"marker\":{\"colorbar\":{\"outlinewidth\":0,\"ticks\":\"\"}},\"type\":\"scattergeo\"}],\"scattergl\":[{\"marker\":{\"colorbar\":{\"outlinewidth\":0,\"ticks\":\"\"}},\"type\":\"scattergl\"}],\"scattermapbox\":[{\"marker\":{\"colorbar\":{\"outlinewidth\":0,\"ticks\":\"\"}},\"type\":\"scattermapbox\"}],\"scatterpolar\":[{\"marker\":{\"colorbar\":{\"outlinewidth\":0,\"ticks\":\"\"}},\"type\":\"scatterpolar\"}],\"scatterpolargl\":[{\"marker\":{\"colorbar\":{\"outlinewidth\":0,\"ticks\":\"\"}},\"type\":\"scatterpolargl\"}],\"scatterternary\":[{\"marker\":{\"colorbar\":{\"outlinewidth\":0,\"ticks\":\"\"}},\"type\":\"scatterternary\"}],\"surface\":[{\"colorbar\":{\"outlinewidth\":0,\"ticks\":\"\"},\"colorscale\":[[0.0,\"#0d0887\"],[0.1111111111111111,\"#46039f\"],[0.2222222222222222,\"#7201a8\"],[0.3333333333333333,\"#9c179e\"],[0.4444444444444444,\"#bd3786\"],[0.5555555555555556,\"#d8576b\"],[0.6666666666666666,\"#ed7953\"],[0.7777777777777778,\"#fb9f3a\"],[0.8888888888888888,\"#fdca26\"],[1.0,\"#f0f921\"]],\"type\":\"surface\"}],\"table\":[{\"cells\":{\"fill\":{\"color\":\"#EBF0F8\"},\"line\":{\"color\":\"white\"}},\"header\":{\"fill\":{\"color\":\"#C8D4E3\"},\"line\":{\"color\":\"white\"}},\"type\":\"table\"}]},\"layout\":{\"annotationdefaults\":{\"arrowcolor\":\"#2a3f5f\",\"arrowhead\":0,\"arrowwidth\":1},\"autotypenumbers\":\"strict\",\"coloraxis\":{\"colorbar\":{\"outlinewidth\":0,\"ticks\":\"\"}},\"colorscale\":{\"diverging\":[[0,\"#8e0152\"],[0.1,\"#c51b7d\"],[0.2,\"#de77ae\"],[0.3,\"#f1b6da\"],[0.4,\"#fde0ef\"],[0.5,\"#f7f7f7\"],[0.6,\"#e6f5d0\"],[0.7,\"#b8e186\"],[0.8,\"#7fbc41\"],[0.9,\"#4d9221\"],[1,\"#276419\"]],\"sequential\":[[0.0,\"#0d0887\"],[0.1111111111111111,\"#46039f\"],[0.2222222222222222,\"#7201a8\"],[0.3333333333333333,\"#9c179e\"],[0.4444444444444444,\"#bd3786\"],[0.5555555555555556,\"#d8576b\"],[0.6666666666666666,\"#ed7953\"],[0.7777777777777778,\"#fb9f3a\"],[0.8888888888888888,\"#fdca26\"],[1.0,\"#f0f921\"]],\"sequentialminus\":[[0.0,\"#0d0887\"],[0.1111111111111111,\"#46039f\"],[0.2222222222222222,\"#7201a8\"],[0.3333333333333333,\"#9c179e\"],[0.4444444444444444,\"#bd3786\"],[0.5555555555555556,\"#d8576b\"],[0.6666666666666666,\"#ed7953\"],[0.7777777777777778,\"#fb9f3a\"],[0.8888888888888888,\"#fdca26\"],[1.0,\"#f0f921\"]]},\"colorway\":[\"#636efa\",\"#EF553B\",\"#00cc96\",\"#ab63fa\",\"#FFA15A\",\"#19d3f3\",\"#FF6692\",\"#B6E880\",\"#FF97FF\",\"#FECB52\"],\"font\":{\"color\":\"#2a3f5f\"},\"geo\":{\"bgcolor\":\"white\",\"lakecolor\":\"white\",\"landcolor\":\"#E5ECF6\",\"showlakes\":true,\"showland\":true,\"subunitcolor\":\"white\"},\"hoverlabel\":{\"align\":\"left\"},\"hovermode\":\"closest\",\"mapbox\":{\"style\":\"light\"},\"paper_bgcolor\":\"white\",\"plot_bgcolor\":\"#E5ECF6\",\"polar\":{\"angularaxis\":{\"gridcolor\":\"white\",\"linecolor\":\"white\",\"ticks\":\"\"},\"bgcolor\":\"#E5ECF6\",\"radialaxis\":{\"gridcolor\":\"white\",\"linecolor\":\"white\",\"ticks\":\"\"}},\"scene\":{\"xaxis\":{\"backgroundcolor\":\"#E5ECF6\",\"gridcolor\":\"white\",\"gridwidth\":2,\"linecolor\":\"white\",\"showbackground\":true,\"ticks\":\"\",\"zerolinecolor\":\"white\"},\"yaxis\":{\"backgroundcolor\":\"#E5ECF6\",\"gridcolor\":\"white\",\"gridwidth\":2,\"linecolor\":\"white\",\"showbackground\":true,\"ticks\":\"\",\"zerolinecolor\":\"white\"},\"zaxis\":{\"backgroundcolor\":\"#E5ECF6\",\"gridcolor\":\"white\",\"gridwidth\":2,\"linecolor\":\"white\",\"showbackground\":true,\"ticks\":\"\",\"zerolinecolor\":\"white\"}},\"shapedefaults\":{\"line\":{\"color\":\"#2a3f5f\"}},\"ternary\":{\"aaxis\":{\"gridcolor\":\"white\",\"linecolor\":\"white\",\"ticks\":\"\"},\"baxis\":{\"gridcolor\":\"white\",\"linecolor\":\"white\",\"ticks\":\"\"},\"bgcolor\":\"#E5ECF6\",\"caxis\":{\"gridcolor\":\"white\",\"linecolor\":\"white\",\"ticks\":\"\"}},\"title\":{\"x\":0.05},\"xaxis\":{\"automargin\":true,\"gridcolor\":\"white\",\"linecolor\":\"white\",\"ticks\":\"\",\"title\":{\"standoff\":15},\"zerolinecolor\":\"white\",\"zerolinewidth\":2},\"yaxis\":{\"automargin\":true,\"gridcolor\":\"white\",\"linecolor\":\"white\",\"ticks\":\"\",\"title\":{\"standoff\":15},\"zerolinecolor\":\"white\",\"zerolinewidth\":2}}},\"xaxis\":{\"anchor\":\"y\",\"domain\":[0.0,1.0],\"title\":{\"text\":\"\\u696d\\u7a2e\\u5225\"},\"categoryorder\":\"total descending\"},\"yaxis\":{\"anchor\":\"x\",\"domain\":[0.0,1.0],\"title\":{\"text\":\"IT\\u95a2\\u4fc2\\u8af8\\u7d4c\\u8cbb\\u5185\\u8a33\"}},\"legend\":{\"title\":{\"text\":\"groupe\"},\"tracegroupgap\":0},\"margin\":{\"t\":60},\"barmode\":\"relative\"},                        {\"responsive\": true}                    ).then(function(){\n",
       "                            \n",
       "var gd = document.getElementById('078b0661-deaa-480f-a013-c893281d48fe');\n",
       "var x = new MutationObserver(function (mutations, observer) {{\n",
       "        var display = window.getComputedStyle(gd).display;\n",
       "        if (!display || display === 'none') {{\n",
       "            console.log([gd, 'removed!']);\n",
       "            Plotly.purge(gd);\n",
       "            observer.disconnect();\n",
       "        }}\n",
       "}});\n",
       "\n",
       "// Listen for the removal of the full notebook cells\n",
       "var notebookContainer = gd.closest('#notebook-container');\n",
       "if (notebookContainer) {{\n",
       "    x.observe(notebookContainer, {childList: true});\n",
       "}}\n",
       "\n",
       "// Listen for the clearing of the current output cell\n",
       "var outputEl = gd.closest('.output');\n",
       "if (outputEl) {{\n",
       "    x.observe(outputEl, {childList: true});\n",
       "}}\n",
       "\n",
       "                        })                };                });            </script>        </div>"
      ]
     },
     "metadata": {},
     "output_type": "display_data"
    },
    {
     "data": {
      "application/vnd.plotly.v1+json": {
       "config": {
        "plotlyServerURL": "https://plot.ly"
       },
       "data": [
        {
         "alignmentgroup": "True",
         "hovertemplate": "groupe=コンピュータ・周辺機器関連費用当期減価償却費（百万円）<br>業種別=%{x}<br>value=%{y}<extra></extra>",
         "legendgroup": "コンピュータ・周辺機器関連費用当期減価償却費（百万円）",
         "marker": {
          "color": "#636efa",
          "pattern": {
           "shape": ""
          }
         },
         "name": "コンピュータ・周辺機器関連費用当期減価償却費（百万円）",
         "offsetgroup": "コンピュータ・周辺機器関連費用当期減価償却費（百万円）",
         "orientation": "v",
         "showlegend": true,
         "textposition": "auto",
         "type": "bar",
         "x": [
          "食料品、飲料・たばこ・飼料製造業",
          "繊維工業",
          "パルプ・紙・紙加工品製造業",
          "化学工業",
          "石油・石炭・ﾌﾟﾗｽﾁｯｸ製品製造業",
          "窯業・土石製品製造業",
          "鉄鋼業",
          "非鉄金属製品・金属製品製造業",
          "電気機械器具製造業",
          "情報通信機械器具製造業",
          "輸送用機械器具製造業",
          "その他機械器具製造業",
          "その他の製造業",
          "農林漁業・同協同組合、鉱業",
          "建設業",
          "電気・ガス・熱供給・水道業",
          "映像・音声情報制作・放送・通信業",
          "新聞・出版業",
          "情報サービス業",
          "運輸業・郵便業",
          "卸売業",
          "小売業",
          "金融業・保険業",
          "医療業（国・公立除く）",
          "教育（国・公立除く）、学習支援業",
          "その他の非製造業"
         ],
         "xaxis": "x",
         "y": [
          13.592857142857143,
          8.444444444444445,
          6.153846153846154,
          232.70833333333334,
          7.2727272727272725,
          10.444444444444445,
          153.94736842105263,
          23.141025641025642,
          43.52777777777778,
          180.66666666666666,
          336.76785714285717,
          68.41935483870968,
          76.55263157894737,
          1.25,
          10.779661016949152,
          6.2631578947368425,
          370.1363636363636,
          17,
          104.58947368421053,
          14.5,
          27.70921985815603,
          24.1625,
          206.07753623188404,
          11.333333333333334,
          2.5,
          25.015883668903804
         ],
         "yaxis": "y"
        },
        {
         "alignmentgroup": "True",
         "hovertemplate": "groupe=コンピュータ・周辺機器関連費用その他（百万円）<br>業種別=%{x}<br>value=%{y}<extra></extra>",
         "legendgroup": "コンピュータ・周辺機器関連費用その他（百万円）",
         "marker": {
          "color": "#EF553B",
          "pattern": {
           "shape": ""
          }
         },
         "name": "コンピュータ・周辺機器関連費用その他（百万円）",
         "offsetgroup": "コンピュータ・周辺機器関連費用その他（百万円）",
         "orientation": "v",
         "showlegend": true,
         "textposition": "auto",
         "type": "bar",
         "x": [
          "食料品、飲料・たばこ・飼料製造業",
          "繊維工業",
          "パルプ・紙・紙加工品製造業",
          "化学工業",
          "石油・石炭・ﾌﾟﾗｽﾁｯｸ製品製造業",
          "窯業・土石製品製造業",
          "鉄鋼業",
          "非鉄金属製品・金属製品製造業",
          "電気機械器具製造業",
          "情報通信機械器具製造業",
          "輸送用機械器具製造業",
          "その他機械器具製造業",
          "その他の製造業",
          "農林漁業・同協同組合、鉱業",
          "建設業",
          "電気・ガス・熱供給・水道業",
          "映像・音声情報制作・放送・通信業",
          "新聞・出版業",
          "情報サービス業",
          "運輸業・郵便業",
          "卸売業",
          "小売業",
          "金融業・保険業",
          "医療業（国・公立除く）",
          "教育（国・公立除く）、学習支援業",
          "その他の非製造業"
         ],
         "xaxis": "x",
         "y": [
          40.93571428571428,
          0.1111111111111111,
          20.923076923076923,
          52.145833333333336,
          6.181818181818182,
          7.888888888888889,
          219.21052631578948,
          19.641025641025642,
          24.38888888888889,
          46.916666666666664,
          142.21428571428572,
          22.080645161290324,
          9.18421052631579,
          1,
          26.146892655367232,
          52.10526315789474,
          89.54545454545455,
          8.642857142857142,
          30.526315789473685,
          31.8989898989899,
          11.46808510638298,
          38.33125,
          84.65942028985508,
          23.333333333333332,
          0.25,
          18.419686800894855
         ],
         "yaxis": "y"
        },
        {
         "alignmentgroup": "True",
         "hovertemplate": "groupe=通信機器関連費用計当期減価償却費（百万円）<br>業種別=%{x}<br>value=%{y}<extra></extra>",
         "legendgroup": "通信機器関連費用計当期減価償却費（百万円）",
         "marker": {
          "color": "#00cc96",
          "pattern": {
           "shape": ""
          }
         },
         "name": "通信機器関連費用計当期減価償却費（百万円）",
         "offsetgroup": "通信機器関連費用計当期減価償却費（百万円）",
         "orientation": "v",
         "showlegend": true,
         "textposition": "auto",
         "type": "bar",
         "x": [
          "食料品、飲料・たばこ・飼料製造業",
          "繊維工業",
          "パルプ・紙・紙加工品製造業",
          "化学工業",
          "石油・石炭・ﾌﾟﾗｽﾁｯｸ製品製造業",
          "窯業・土石製品製造業",
          "鉄鋼業",
          "非鉄金属製品・金属製品製造業",
          "電気機械器具製造業",
          "情報通信機械器具製造業",
          "輸送用機械器具製造業",
          "その他機械器具製造業",
          "その他の製造業",
          "農林漁業・同協同組合、鉱業",
          "建設業",
          "電気・ガス・熱供給・水道業",
          "映像・音声情報制作・放送・通信業",
          "新聞・出版業",
          "情報サービス業",
          "運輸業・郵便業",
          "卸売業",
          "小売業",
          "金融業・保険業",
          "医療業（国・公立除く）",
          "教育（国・公立除く）、学習支援業",
          "その他の非製造業"
         ],
         "xaxis": "x",
         "y": [
          0.19285714285714287,
          0.3333333333333333,
          0.23076923076923078,
          16.9375,
          1,
          3.7777777777777777,
          164.3684210526316,
          7.333333333333333,
          5.111111111111111,
          13.75,
          72.48214285714286,
          5.806451612903226,
          0.5263157894736842,
          0,
          1.5310734463276836,
          2.3684210526315788,
          72.72727272727273,
          7,
          6.252631578947368,
          3.461717171717172,
          2.645390070921986,
          3.05625,
          117.63115942028986,
          7,
          1.25,
          11.861297539149888
         ],
         "yaxis": "y"
        },
        {
         "alignmentgroup": "True",
         "hovertemplate": "groupe=通信機器関連費用計その他（百万円）<br>業種別=%{x}<br>value=%{y}<extra></extra>",
         "legendgroup": "通信機器関連費用計その他（百万円）",
         "marker": {
          "color": "#ab63fa",
          "pattern": {
           "shape": ""
          }
         },
         "name": "通信機器関連費用計その他（百万円）",
         "offsetgroup": "通信機器関連費用計その他（百万円）",
         "orientation": "v",
         "showlegend": true,
         "textposition": "auto",
         "type": "bar",
         "x": [
          "食料品、飲料・たばこ・飼料製造業",
          "繊維工業",
          "パルプ・紙・紙加工品製造業",
          "化学工業",
          "石油・石炭・ﾌﾟﾗｽﾁｯｸ製品製造業",
          "窯業・土石製品製造業",
          "鉄鋼業",
          "非鉄金属製品・金属製品製造業",
          "電気機械器具製造業",
          "情報通信機械器具製造業",
          "輸送用機械器具製造業",
          "その他機械器具製造業",
          "その他の製造業",
          "農林漁業・同協同組合、鉱業",
          "建設業",
          "電気・ガス・熱供給・水道業",
          "映像・音声情報制作・放送・通信業",
          "新聞・出版業",
          "情報サービス業",
          "運輸業・郵便業",
          "卸売業",
          "小売業",
          "金融業・保険業",
          "医療業（国・公立除く）",
          "教育（国・公立除く）、学習支援業",
          "その他の非製造業"
         ],
         "xaxis": "x",
         "y": [
          4.730142857142857,
          0,
          1.6923076923076923,
          13.75,
          2.3181818181818183,
          0.4444444444444444,
          32.73684210526316,
          0.3076923076923077,
          4.027777777777778,
          3.1041666666666665,
          23.714285714285715,
          1.8064516129032258,
          0.3157894736842105,
          0.25,
          9.915254237288135,
          62.473684210526315,
          2.6363636363636362,
          0.21428571428571427,
          2.694736842105263,
          2.011010101010101,
          3.5531914893617023,
          2.225,
          0.9927536231884058,
          2,
          0.25,
          2.49910514541387
         ],
         "yaxis": "y"
        },
        {
         "alignmentgroup": "True",
         "hovertemplate": "groupe=その他の情報機器関連費用当期減価償却費（百万円）<br>業種別=%{x}<br>value=%{y}<extra></extra>",
         "legendgroup": "その他の情報機器関連費用当期減価償却費（百万円）",
         "marker": {
          "color": "#FFA15A",
          "pattern": {
           "shape": ""
          }
         },
         "name": "その他の情報機器関連費用当期減価償却費（百万円）",
         "offsetgroup": "その他の情報機器関連費用当期減価償却費（百万円）",
         "orientation": "v",
         "showlegend": true,
         "textposition": "auto",
         "type": "bar",
         "x": [
          "食料品、飲料・たばこ・飼料製造業",
          "繊維工業",
          "パルプ・紙・紙加工品製造業",
          "化学工業",
          "石油・石炭・ﾌﾟﾗｽﾁｯｸ製品製造業",
          "窯業・土石製品製造業",
          "鉄鋼業",
          "非鉄金属製品・金属製品製造業",
          "電気機械器具製造業",
          "情報通信機械器具製造業",
          "輸送用機械器具製造業",
          "その他機械器具製造業",
          "その他の製造業",
          "農林漁業・同協同組合、鉱業",
          "建設業",
          "電気・ガス・熱供給・水道業",
          "映像・音声情報制作・放送・通信業",
          "新聞・出版業",
          "情報サービス業",
          "運輸業・郵便業",
          "卸売業",
          "小売業",
          "金融業・保険業",
          "医療業（国・公立除く）",
          "教育（国・公立除く）、学習支援業",
          "その他の非製造業"
         ],
         "xaxis": "x",
         "y": [
          38.53285714285715,
          0.2222222222222222,
          0,
          14.875,
          1.4545454545454546,
          15.555555555555555,
          2.473684210526316,
          16.23076923076923,
          0.16666666666666666,
          11.791666666666666,
          6.75,
          13.82258064516129,
          0.23684210526315788,
          0.25,
          1.7740112994350283,
          1.4736842105263157,
          65.18181818181819,
          1.3571428571428572,
          4.505263157894737,
          49.7979797979798,
          9.51063829787234,
          3.65,
          88.45942028985507,
          1.6666666666666667,
          0.625,
          6.449664429530201
         ],
         "yaxis": "y"
        },
        {
         "alignmentgroup": "True",
         "hovertemplate": "groupe=その他の情報機器関連費用その他（百万円）<br>業種別=%{x}<br>value=%{y}<extra></extra>",
         "legendgroup": "その他の情報機器関連費用その他（百万円）",
         "marker": {
          "color": "#19d3f3",
          "pattern": {
           "shape": ""
          }
         },
         "name": "その他の情報機器関連費用その他（百万円）",
         "offsetgroup": "その他の情報機器関連費用その他（百万円）",
         "orientation": "v",
         "showlegend": true,
         "textposition": "auto",
         "type": "bar",
         "x": [
          "食料品、飲料・たばこ・飼料製造業",
          "繊維工業",
          "パルプ・紙・紙加工品製造業",
          "化学工業",
          "石油・石炭・ﾌﾟﾗｽﾁｯｸ製品製造業",
          "窯業・土石製品製造業",
          "鉄鋼業",
          "非鉄金属製品・金属製品製造業",
          "電気機械器具製造業",
          "情報通信機械器具製造業",
          "輸送用機械器具製造業",
          "その他機械器具製造業",
          "その他の製造業",
          "農林漁業・同協同組合、鉱業",
          "建設業",
          "電気・ガス・熱供給・水道業",
          "映像・音声情報制作・放送・通信業",
          "新聞・出版業",
          "情報サービス業",
          "運輸業・郵便業",
          "卸売業",
          "小売業",
          "金融業・保険業",
          "医療業（国・公立除く）",
          "教育（国・公立除く）、学習支援業",
          "その他の非製造業"
         ],
         "xaxis": "x",
         "y": [
          6.087428571428571,
          0,
          0.46153846153846156,
          5.6875,
          0.09090909090909091,
          0.5555555555555556,
          0,
          2.717948717948718,
          0.8611111111111112,
          7.479166666666667,
          0.6964285714285714,
          0.6129032258064516,
          0.47368421052631576,
          0.625,
          3.0508474576271185,
          144.3684210526316,
          0.2727272727272727,
          2.857142857142857,
          0.6736842105263158,
          8.6010101010101,
          15.872340425531915,
          1.6125,
          4.77536231884058,
          0,
          0,
          21.838255033557047
         ],
         "yaxis": "y"
        },
        {
         "alignmentgroup": "True",
         "hovertemplate": "groupe=ソフトウェア関連費用当期減価償却費（百万円）<br>業種別=%{x}<br>value=%{y}<extra></extra>",
         "legendgroup": "ソフトウェア関連費用当期減価償却費（百万円）",
         "marker": {
          "color": "#FF6692",
          "pattern": {
           "shape": ""
          }
         },
         "name": "ソフトウェア関連費用当期減価償却費（百万円）",
         "offsetgroup": "ソフトウェア関連費用当期減価償却費（百万円）",
         "orientation": "v",
         "showlegend": true,
         "textposition": "auto",
         "type": "bar",
         "x": [
          "食料品、飲料・たばこ・飼料製造業",
          "繊維工業",
          "パルプ・紙・紙加工品製造業",
          "化学工業",
          "石油・石炭・ﾌﾟﾗｽﾁｯｸ製品製造業",
          "窯業・土石製品製造業",
          "鉄鋼業",
          "非鉄金属製品・金属製品製造業",
          "電気機械器具製造業",
          "情報通信機械器具製造業",
          "輸送用機械器具製造業",
          "その他機械器具製造業",
          "その他の製造業",
          "農林漁業・同協同組合、鉱業",
          "建設業",
          "電気・ガス・熱供給・水道業",
          "映像・音声情報制作・放送・通信業",
          "新聞・出版業",
          "情報サービス業",
          "運輸業・郵便業",
          "卸売業",
          "小売業",
          "金融業・保険業",
          "医療業（国・公立除く）",
          "教育（国・公立除く）、学習支援業",
          "その他の非製造業"
         ],
         "xaxis": "x",
         "y": [
          185.65,
          13,
          103.53846153846153,
          151.5,
          4634.636363636364,
          111.55555555555556,
          261.1578947368421,
          205.82051282051282,
          268.8611111111111,
          291.9583333333333,
          844.75,
          254.1290322580645,
          340.07894736842104,
          1.125,
          54.51412429378531,
          111.84210526315789,
          2147.5,
          205.57142857142858,
          207.41894736842104,
          122.27272727272727,
          183.0212765957447,
          101.25625,
          1103.0971014492752,
          29.333333333333332,
          10.125,
          104.42796420581656
         ],
         "yaxis": "y"
        },
        {
         "alignmentgroup": "True",
         "hovertemplate": "groupe=ソフトウェア関連費用その他（百万円）<br>業種別=%{x}<br>value=%{y}<extra></extra>",
         "legendgroup": "ソフトウェア関連費用その他（百万円）",
         "marker": {
          "color": "#B6E880",
          "pattern": {
           "shape": ""
          }
         },
         "name": "ソフトウェア関連費用その他（百万円）",
         "offsetgroup": "ソフトウェア関連費用その他（百万円）",
         "orientation": "v",
         "showlegend": true,
         "textposition": "auto",
         "type": "bar",
         "x": [
          "食料品、飲料・たばこ・飼料製造業",
          "繊維工業",
          "パルプ・紙・紙加工品製造業",
          "化学工業",
          "石油・石炭・ﾌﾟﾗｽﾁｯｸ製品製造業",
          "窯業・土石製品製造業",
          "鉄鋼業",
          "非鉄金属製品・金属製品製造業",
          "電気機械器具製造業",
          "情報通信機械器具製造業",
          "輸送用機械器具製造業",
          "その他機械器具製造業",
          "その他の製造業",
          "農林漁業・同協同組合、鉱業",
          "建設業",
          "電気・ガス・熱供給・水道業",
          "映像・音声情報制作・放送・通信業",
          "新聞・出版業",
          "情報サービス業",
          "運輸業・郵便業",
          "卸売業",
          "小売業",
          "金融業・保険業",
          "医療業（国・公立除く）",
          "教育（国・公立除く）、学習支援業",
          "その他の非製造業"
         ],
         "xaxis": "x",
         "y": [
          36.34285714285714,
          0.7777777777777778,
          66.46153846153847,
          94.66666666666667,
          9.818181818181818,
          0.2222222222222222,
          415.1578947368421,
          17.82051282051282,
          25.944444444444443,
          129.89583333333334,
          643.3392857142857,
          29.516129032258064,
          1.3421052631578947,
          2.125,
          27.559322033898304,
          966.0526315789474,
          88.72727272727273,
          2.142857142857143,
          14.157894736842104,
          9.535353535353535,
          18.45390070921986,
          6.95625,
          160.33333333333334,
          0.6666666666666666,
          0.375,
          3.3514541387024606
         ],
         "yaxis": "y"
        }
       ],
       "layout": {
        "barmode": "relative",
        "legend": {
         "title": {
          "text": "groupe"
         },
         "tracegroupgap": 0
        },
        "margin": {
         "t": 60
        },
        "template": {
         "data": {
          "bar": [
           {
            "error_x": {
             "color": "#2a3f5f"
            },
            "error_y": {
             "color": "#2a3f5f"
            },
            "marker": {
             "line": {
              "color": "#E5ECF6",
              "width": 0.5
             },
             "pattern": {
              "fillmode": "overlay",
              "size": 10,
              "solidity": 0.2
             }
            },
            "type": "bar"
           }
          ],
          "barpolar": [
           {
            "marker": {
             "line": {
              "color": "#E5ECF6",
              "width": 0.5
             },
             "pattern": {
              "fillmode": "overlay",
              "size": 10,
              "solidity": 0.2
             }
            },
            "type": "barpolar"
           }
          ],
          "carpet": [
           {
            "aaxis": {
             "endlinecolor": "#2a3f5f",
             "gridcolor": "white",
             "linecolor": "white",
             "minorgridcolor": "white",
             "startlinecolor": "#2a3f5f"
            },
            "baxis": {
             "endlinecolor": "#2a3f5f",
             "gridcolor": "white",
             "linecolor": "white",
             "minorgridcolor": "white",
             "startlinecolor": "#2a3f5f"
            },
            "type": "carpet"
           }
          ],
          "choropleth": [
           {
            "colorbar": {
             "outlinewidth": 0,
             "ticks": ""
            },
            "type": "choropleth"
           }
          ],
          "contour": [
           {
            "colorbar": {
             "outlinewidth": 0,
             "ticks": ""
            },
            "colorscale": [
             [
              0,
              "#0d0887"
             ],
             [
              0.1111111111111111,
              "#46039f"
             ],
             [
              0.2222222222222222,
              "#7201a8"
             ],
             [
              0.3333333333333333,
              "#9c179e"
             ],
             [
              0.4444444444444444,
              "#bd3786"
             ],
             [
              0.5555555555555556,
              "#d8576b"
             ],
             [
              0.6666666666666666,
              "#ed7953"
             ],
             [
              0.7777777777777778,
              "#fb9f3a"
             ],
             [
              0.8888888888888888,
              "#fdca26"
             ],
             [
              1,
              "#f0f921"
             ]
            ],
            "type": "contour"
           }
          ],
          "contourcarpet": [
           {
            "colorbar": {
             "outlinewidth": 0,
             "ticks": ""
            },
            "type": "contourcarpet"
           }
          ],
          "heatmap": [
           {
            "colorbar": {
             "outlinewidth": 0,
             "ticks": ""
            },
            "colorscale": [
             [
              0,
              "#0d0887"
             ],
             [
              0.1111111111111111,
              "#46039f"
             ],
             [
              0.2222222222222222,
              "#7201a8"
             ],
             [
              0.3333333333333333,
              "#9c179e"
             ],
             [
              0.4444444444444444,
              "#bd3786"
             ],
             [
              0.5555555555555556,
              "#d8576b"
             ],
             [
              0.6666666666666666,
              "#ed7953"
             ],
             [
              0.7777777777777778,
              "#fb9f3a"
             ],
             [
              0.8888888888888888,
              "#fdca26"
             ],
             [
              1,
              "#f0f921"
             ]
            ],
            "type": "heatmap"
           }
          ],
          "heatmapgl": [
           {
            "colorbar": {
             "outlinewidth": 0,
             "ticks": ""
            },
            "colorscale": [
             [
              0,
              "#0d0887"
             ],
             [
              0.1111111111111111,
              "#46039f"
             ],
             [
              0.2222222222222222,
              "#7201a8"
             ],
             [
              0.3333333333333333,
              "#9c179e"
             ],
             [
              0.4444444444444444,
              "#bd3786"
             ],
             [
              0.5555555555555556,
              "#d8576b"
             ],
             [
              0.6666666666666666,
              "#ed7953"
             ],
             [
              0.7777777777777778,
              "#fb9f3a"
             ],
             [
              0.8888888888888888,
              "#fdca26"
             ],
             [
              1,
              "#f0f921"
             ]
            ],
            "type": "heatmapgl"
           }
          ],
          "histogram": [
           {
            "marker": {
             "pattern": {
              "fillmode": "overlay",
              "size": 10,
              "solidity": 0.2
             }
            },
            "type": "histogram"
           }
          ],
          "histogram2d": [
           {
            "colorbar": {
             "outlinewidth": 0,
             "ticks": ""
            },
            "colorscale": [
             [
              0,
              "#0d0887"
             ],
             [
              0.1111111111111111,
              "#46039f"
             ],
             [
              0.2222222222222222,
              "#7201a8"
             ],
             [
              0.3333333333333333,
              "#9c179e"
             ],
             [
              0.4444444444444444,
              "#bd3786"
             ],
             [
              0.5555555555555556,
              "#d8576b"
             ],
             [
              0.6666666666666666,
              "#ed7953"
             ],
             [
              0.7777777777777778,
              "#fb9f3a"
             ],
             [
              0.8888888888888888,
              "#fdca26"
             ],
             [
              1,
              "#f0f921"
             ]
            ],
            "type": "histogram2d"
           }
          ],
          "histogram2dcontour": [
           {
            "colorbar": {
             "outlinewidth": 0,
             "ticks": ""
            },
            "colorscale": [
             [
              0,
              "#0d0887"
             ],
             [
              0.1111111111111111,
              "#46039f"
             ],
             [
              0.2222222222222222,
              "#7201a8"
             ],
             [
              0.3333333333333333,
              "#9c179e"
             ],
             [
              0.4444444444444444,
              "#bd3786"
             ],
             [
              0.5555555555555556,
              "#d8576b"
             ],
             [
              0.6666666666666666,
              "#ed7953"
             ],
             [
              0.7777777777777778,
              "#fb9f3a"
             ],
             [
              0.8888888888888888,
              "#fdca26"
             ],
             [
              1,
              "#f0f921"
             ]
            ],
            "type": "histogram2dcontour"
           }
          ],
          "mesh3d": [
           {
            "colorbar": {
             "outlinewidth": 0,
             "ticks": ""
            },
            "type": "mesh3d"
           }
          ],
          "parcoords": [
           {
            "line": {
             "colorbar": {
              "outlinewidth": 0,
              "ticks": ""
             }
            },
            "type": "parcoords"
           }
          ],
          "pie": [
           {
            "automargin": true,
            "type": "pie"
           }
          ],
          "scatter": [
           {
            "marker": {
             "colorbar": {
              "outlinewidth": 0,
              "ticks": ""
             }
            },
            "type": "scatter"
           }
          ],
          "scatter3d": [
           {
            "line": {
             "colorbar": {
              "outlinewidth": 0,
              "ticks": ""
             }
            },
            "marker": {
             "colorbar": {
              "outlinewidth": 0,
              "ticks": ""
             }
            },
            "type": "scatter3d"
           }
          ],
          "scattercarpet": [
           {
            "marker": {
             "colorbar": {
              "outlinewidth": 0,
              "ticks": ""
             }
            },
            "type": "scattercarpet"
           }
          ],
          "scattergeo": [
           {
            "marker": {
             "colorbar": {
              "outlinewidth": 0,
              "ticks": ""
             }
            },
            "type": "scattergeo"
           }
          ],
          "scattergl": [
           {
            "marker": {
             "colorbar": {
              "outlinewidth": 0,
              "ticks": ""
             }
            },
            "type": "scattergl"
           }
          ],
          "scattermapbox": [
           {
            "marker": {
             "colorbar": {
              "outlinewidth": 0,
              "ticks": ""
             }
            },
            "type": "scattermapbox"
           }
          ],
          "scatterpolar": [
           {
            "marker": {
             "colorbar": {
              "outlinewidth": 0,
              "ticks": ""
             }
            },
            "type": "scatterpolar"
           }
          ],
          "scatterpolargl": [
           {
            "marker": {
             "colorbar": {
              "outlinewidth": 0,
              "ticks": ""
             }
            },
            "type": "scatterpolargl"
           }
          ],
          "scatterternary": [
           {
            "marker": {
             "colorbar": {
              "outlinewidth": 0,
              "ticks": ""
             }
            },
            "type": "scatterternary"
           }
          ],
          "surface": [
           {
            "colorbar": {
             "outlinewidth": 0,
             "ticks": ""
            },
            "colorscale": [
             [
              0,
              "#0d0887"
             ],
             [
              0.1111111111111111,
              "#46039f"
             ],
             [
              0.2222222222222222,
              "#7201a8"
             ],
             [
              0.3333333333333333,
              "#9c179e"
             ],
             [
              0.4444444444444444,
              "#bd3786"
             ],
             [
              0.5555555555555556,
              "#d8576b"
             ],
             [
              0.6666666666666666,
              "#ed7953"
             ],
             [
              0.7777777777777778,
              "#fb9f3a"
             ],
             [
              0.8888888888888888,
              "#fdca26"
             ],
             [
              1,
              "#f0f921"
             ]
            ],
            "type": "surface"
           }
          ],
          "table": [
           {
            "cells": {
             "fill": {
              "color": "#EBF0F8"
             },
             "line": {
              "color": "white"
             }
            },
            "header": {
             "fill": {
              "color": "#C8D4E3"
             },
             "line": {
              "color": "white"
             }
            },
            "type": "table"
           }
          ]
         },
         "layout": {
          "annotationdefaults": {
           "arrowcolor": "#2a3f5f",
           "arrowhead": 0,
           "arrowwidth": 1
          },
          "autotypenumbers": "strict",
          "coloraxis": {
           "colorbar": {
            "outlinewidth": 0,
            "ticks": ""
           }
          },
          "colorscale": {
           "diverging": [
            [
             0,
             "#8e0152"
            ],
            [
             0.1,
             "#c51b7d"
            ],
            [
             0.2,
             "#de77ae"
            ],
            [
             0.3,
             "#f1b6da"
            ],
            [
             0.4,
             "#fde0ef"
            ],
            [
             0.5,
             "#f7f7f7"
            ],
            [
             0.6,
             "#e6f5d0"
            ],
            [
             0.7,
             "#b8e186"
            ],
            [
             0.8,
             "#7fbc41"
            ],
            [
             0.9,
             "#4d9221"
            ],
            [
             1,
             "#276419"
            ]
           ],
           "sequential": [
            [
             0,
             "#0d0887"
            ],
            [
             0.1111111111111111,
             "#46039f"
            ],
            [
             0.2222222222222222,
             "#7201a8"
            ],
            [
             0.3333333333333333,
             "#9c179e"
            ],
            [
             0.4444444444444444,
             "#bd3786"
            ],
            [
             0.5555555555555556,
             "#d8576b"
            ],
            [
             0.6666666666666666,
             "#ed7953"
            ],
            [
             0.7777777777777778,
             "#fb9f3a"
            ],
            [
             0.8888888888888888,
             "#fdca26"
            ],
            [
             1,
             "#f0f921"
            ]
           ],
           "sequentialminus": [
            [
             0,
             "#0d0887"
            ],
            [
             0.1111111111111111,
             "#46039f"
            ],
            [
             0.2222222222222222,
             "#7201a8"
            ],
            [
             0.3333333333333333,
             "#9c179e"
            ],
            [
             0.4444444444444444,
             "#bd3786"
            ],
            [
             0.5555555555555556,
             "#d8576b"
            ],
            [
             0.6666666666666666,
             "#ed7953"
            ],
            [
             0.7777777777777778,
             "#fb9f3a"
            ],
            [
             0.8888888888888888,
             "#fdca26"
            ],
            [
             1,
             "#f0f921"
            ]
           ]
          },
          "colorway": [
           "#636efa",
           "#EF553B",
           "#00cc96",
           "#ab63fa",
           "#FFA15A",
           "#19d3f3",
           "#FF6692",
           "#B6E880",
           "#FF97FF",
           "#FECB52"
          ],
          "font": {
           "color": "#2a3f5f"
          },
          "geo": {
           "bgcolor": "white",
           "lakecolor": "white",
           "landcolor": "#E5ECF6",
           "showlakes": true,
           "showland": true,
           "subunitcolor": "white"
          },
          "hoverlabel": {
           "align": "left"
          },
          "hovermode": "closest",
          "mapbox": {
           "style": "light"
          },
          "paper_bgcolor": "white",
          "plot_bgcolor": "#E5ECF6",
          "polar": {
           "angularaxis": {
            "gridcolor": "white",
            "linecolor": "white",
            "ticks": ""
           },
           "bgcolor": "#E5ECF6",
           "radialaxis": {
            "gridcolor": "white",
            "linecolor": "white",
            "ticks": ""
           }
          },
          "scene": {
           "xaxis": {
            "backgroundcolor": "#E5ECF6",
            "gridcolor": "white",
            "gridwidth": 2,
            "linecolor": "white",
            "showbackground": true,
            "ticks": "",
            "zerolinecolor": "white"
           },
           "yaxis": {
            "backgroundcolor": "#E5ECF6",
            "gridcolor": "white",
            "gridwidth": 2,
            "linecolor": "white",
            "showbackground": true,
            "ticks": "",
            "zerolinecolor": "white"
           },
           "zaxis": {
            "backgroundcolor": "#E5ECF6",
            "gridcolor": "white",
            "gridwidth": 2,
            "linecolor": "white",
            "showbackground": true,
            "ticks": "",
            "zerolinecolor": "white"
           }
          },
          "shapedefaults": {
           "line": {
            "color": "#2a3f5f"
           }
          },
          "ternary": {
           "aaxis": {
            "gridcolor": "white",
            "linecolor": "white",
            "ticks": ""
           },
           "baxis": {
            "gridcolor": "white",
            "linecolor": "white",
            "ticks": ""
           },
           "bgcolor": "#E5ECF6",
           "caxis": {
            "gridcolor": "white",
            "linecolor": "white",
            "ticks": ""
           }
          },
          "title": {
           "x": 0.05
          },
          "xaxis": {
           "automargin": true,
           "gridcolor": "white",
           "linecolor": "white",
           "ticks": "",
           "title": {
            "standoff": 15
           },
           "zerolinecolor": "white",
           "zerolinewidth": 2
          },
          "yaxis": {
           "automargin": true,
           "gridcolor": "white",
           "linecolor": "white",
           "ticks": "",
           "title": {
            "standoff": 15
           },
           "zerolinecolor": "white",
           "zerolinewidth": 2
          }
         }
        },
        "xaxis": {
         "anchor": "y",
         "categoryorder": "total descending",
         "domain": [
          0,
          1
         ],
         "title": {
          "text": "業種別"
         }
        },
        "yaxis": {
         "anchor": "x",
         "domain": [
          0,
          1
         ],
         "title": {
          "text": "IT関係諸経費内訳"
         }
        }
       }
      },
      "text/html": [
       "<div>                            <div id=\"689cf56b-f66c-48f2-922d-9ac0df8dbe84\" class=\"plotly-graph-div\" style=\"height:525px; width:100%;\"></div>            <script type=\"text/javascript\">                require([\"plotly\"], function(Plotly) {                    window.PLOTLYENV=window.PLOTLYENV || {};                                    if (document.getElementById(\"689cf56b-f66c-48f2-922d-9ac0df8dbe84\")) {                    Plotly.newPlot(                        \"689cf56b-f66c-48f2-922d-9ac0df8dbe84\",                        [{\"alignmentgroup\":\"True\",\"hovertemplate\":\"groupe=\\u30b3\\u30f3\\u30d4\\u30e5\\u30fc\\u30bf\\u30fb\\u5468\\u8fba\\u6a5f\\u5668\\u95a2\\u9023\\u8cbb\\u7528\\u5f53\\u671f\\u6e1b\\u4fa1\\u511f\\u5374\\u8cbb\\uff08\\u767e\\u4e07\\u5186\\uff09<br>\\u696d\\u7a2e\\u5225=%{x}<br>value=%{y}<extra></extra>\",\"legendgroup\":\"\\u30b3\\u30f3\\u30d4\\u30e5\\u30fc\\u30bf\\u30fb\\u5468\\u8fba\\u6a5f\\u5668\\u95a2\\u9023\\u8cbb\\u7528\\u5f53\\u671f\\u6e1b\\u4fa1\\u511f\\u5374\\u8cbb\\uff08\\u767e\\u4e07\\u5186\\uff09\",\"marker\":{\"color\":\"#636efa\",\"pattern\":{\"shape\":\"\"}},\"name\":\"\\u30b3\\u30f3\\u30d4\\u30e5\\u30fc\\u30bf\\u30fb\\u5468\\u8fba\\u6a5f\\u5668\\u95a2\\u9023\\u8cbb\\u7528\\u5f53\\u671f\\u6e1b\\u4fa1\\u511f\\u5374\\u8cbb\\uff08\\u767e\\u4e07\\u5186\\uff09\",\"offsetgroup\":\"\\u30b3\\u30f3\\u30d4\\u30e5\\u30fc\\u30bf\\u30fb\\u5468\\u8fba\\u6a5f\\u5668\\u95a2\\u9023\\u8cbb\\u7528\\u5f53\\u671f\\u6e1b\\u4fa1\\u511f\\u5374\\u8cbb\\uff08\\u767e\\u4e07\\u5186\\uff09\",\"orientation\":\"v\",\"showlegend\":true,\"textposition\":\"auto\",\"x\":[\"\\u98df\\u6599\\u54c1\\u3001\\u98f2\\u6599\\u30fb\\u305f\\u3070\\u3053\\u30fb\\u98fc\\u6599\\u88fd\\u9020\\u696d\",\"\\u7e4a\\u7dad\\u5de5\\u696d\",\"\\u30d1\\u30eb\\u30d7\\u30fb\\u7d19\\u30fb\\u7d19\\u52a0\\u5de5\\u54c1\\u88fd\\u9020\\u696d\",\"\\u5316\\u5b66\\u5de5\\u696d\",\"\\u77f3\\u6cb9\\u30fb\\u77f3\\u70ad\\u30fb\\uff8c\\uff9f\\uff97\\uff7d\\uff81\\uff6f\\uff78\\u88fd\\u54c1\\u88fd\\u9020\\u696d\",\"\\u7aaf\\u696d\\u30fb\\u571f\\u77f3\\u88fd\\u54c1\\u88fd\\u9020\\u696d\",\"\\u9244\\u92fc\\u696d\",\"\\u975e\\u9244\\u91d1\\u5c5e\\u88fd\\u54c1\\u30fb\\u91d1\\u5c5e\\u88fd\\u54c1\\u88fd\\u9020\\u696d\",\"\\u96fb\\u6c17\\u6a5f\\u68b0\\u5668\\u5177\\u88fd\\u9020\\u696d\",\"\\u60c5\\u5831\\u901a\\u4fe1\\u6a5f\\u68b0\\u5668\\u5177\\u88fd\\u9020\\u696d\",\"\\u8f38\\u9001\\u7528\\u6a5f\\u68b0\\u5668\\u5177\\u88fd\\u9020\\u696d\",\"\\u305d\\u306e\\u4ed6\\u6a5f\\u68b0\\u5668\\u5177\\u88fd\\u9020\\u696d\",\"\\u305d\\u306e\\u4ed6\\u306e\\u88fd\\u9020\\u696d\",\"\\u8fb2\\u6797\\u6f01\\u696d\\u30fb\\u540c\\u5354\\u540c\\u7d44\\u5408\\u3001\\u9271\\u696d\",\"\\u5efa\\u8a2d\\u696d\",\"\\u96fb\\u6c17\\u30fb\\u30ac\\u30b9\\u30fb\\u71b1\\u4f9b\\u7d66\\u30fb\\u6c34\\u9053\\u696d\",\"\\u6620\\u50cf\\u30fb\\u97f3\\u58f0\\u60c5\\u5831\\u5236\\u4f5c\\u30fb\\u653e\\u9001\\u30fb\\u901a\\u4fe1\\u696d\",\"\\u65b0\\u805e\\u30fb\\u51fa\\u7248\\u696d\",\"\\u60c5\\u5831\\u30b5\\u30fc\\u30d3\\u30b9\\u696d\",\"\\u904b\\u8f38\\u696d\\u30fb\\u90f5\\u4fbf\\u696d\",\"\\u5378\\u58f2\\u696d\",\"\\u5c0f\\u58f2\\u696d\",\"\\u91d1\\u878d\\u696d\\u30fb\\u4fdd\\u967a\\u696d\",\"\\u533b\\u7642\\u696d\\uff08\\u56fd\\u30fb\\u516c\\u7acb\\u9664\\u304f\\uff09\",\"\\u6559\\u80b2\\uff08\\u56fd\\u30fb\\u516c\\u7acb\\u9664\\u304f\\uff09\\u3001\\u5b66\\u7fd2\\u652f\\u63f4\\u696d\",\"\\u305d\\u306e\\u4ed6\\u306e\\u975e\\u88fd\\u9020\\u696d\"],\"xaxis\":\"x\",\"y\":[13.592857142857143,8.444444444444445,6.153846153846154,232.70833333333334,7.2727272727272725,10.444444444444445,153.94736842105263,23.141025641025642,43.52777777777778,180.66666666666666,336.76785714285717,68.41935483870968,76.55263157894737,1.25,10.779661016949152,6.2631578947368425,370.1363636363636,17,104.58947368421053,14.5,27.70921985815603,24.1625,206.07753623188404,11.333333333333334,2.5,25.015883668903804],\"yaxis\":\"y\",\"type\":\"bar\"},{\"alignmentgroup\":\"True\",\"hovertemplate\":\"groupe=\\u30b3\\u30f3\\u30d4\\u30e5\\u30fc\\u30bf\\u30fb\\u5468\\u8fba\\u6a5f\\u5668\\u95a2\\u9023\\u8cbb\\u7528\\u305d\\u306e\\u4ed6\\uff08\\u767e\\u4e07\\u5186\\uff09<br>\\u696d\\u7a2e\\u5225=%{x}<br>value=%{y}<extra></extra>\",\"legendgroup\":\"\\u30b3\\u30f3\\u30d4\\u30e5\\u30fc\\u30bf\\u30fb\\u5468\\u8fba\\u6a5f\\u5668\\u95a2\\u9023\\u8cbb\\u7528\\u305d\\u306e\\u4ed6\\uff08\\u767e\\u4e07\\u5186\\uff09\",\"marker\":{\"color\":\"#EF553B\",\"pattern\":{\"shape\":\"\"}},\"name\":\"\\u30b3\\u30f3\\u30d4\\u30e5\\u30fc\\u30bf\\u30fb\\u5468\\u8fba\\u6a5f\\u5668\\u95a2\\u9023\\u8cbb\\u7528\\u305d\\u306e\\u4ed6\\uff08\\u767e\\u4e07\\u5186\\uff09\",\"offsetgroup\":\"\\u30b3\\u30f3\\u30d4\\u30e5\\u30fc\\u30bf\\u30fb\\u5468\\u8fba\\u6a5f\\u5668\\u95a2\\u9023\\u8cbb\\u7528\\u305d\\u306e\\u4ed6\\uff08\\u767e\\u4e07\\u5186\\uff09\",\"orientation\":\"v\",\"showlegend\":true,\"textposition\":\"auto\",\"x\":[\"\\u98df\\u6599\\u54c1\\u3001\\u98f2\\u6599\\u30fb\\u305f\\u3070\\u3053\\u30fb\\u98fc\\u6599\\u88fd\\u9020\\u696d\",\"\\u7e4a\\u7dad\\u5de5\\u696d\",\"\\u30d1\\u30eb\\u30d7\\u30fb\\u7d19\\u30fb\\u7d19\\u52a0\\u5de5\\u54c1\\u88fd\\u9020\\u696d\",\"\\u5316\\u5b66\\u5de5\\u696d\",\"\\u77f3\\u6cb9\\u30fb\\u77f3\\u70ad\\u30fb\\uff8c\\uff9f\\uff97\\uff7d\\uff81\\uff6f\\uff78\\u88fd\\u54c1\\u88fd\\u9020\\u696d\",\"\\u7aaf\\u696d\\u30fb\\u571f\\u77f3\\u88fd\\u54c1\\u88fd\\u9020\\u696d\",\"\\u9244\\u92fc\\u696d\",\"\\u975e\\u9244\\u91d1\\u5c5e\\u88fd\\u54c1\\u30fb\\u91d1\\u5c5e\\u88fd\\u54c1\\u88fd\\u9020\\u696d\",\"\\u96fb\\u6c17\\u6a5f\\u68b0\\u5668\\u5177\\u88fd\\u9020\\u696d\",\"\\u60c5\\u5831\\u901a\\u4fe1\\u6a5f\\u68b0\\u5668\\u5177\\u88fd\\u9020\\u696d\",\"\\u8f38\\u9001\\u7528\\u6a5f\\u68b0\\u5668\\u5177\\u88fd\\u9020\\u696d\",\"\\u305d\\u306e\\u4ed6\\u6a5f\\u68b0\\u5668\\u5177\\u88fd\\u9020\\u696d\",\"\\u305d\\u306e\\u4ed6\\u306e\\u88fd\\u9020\\u696d\",\"\\u8fb2\\u6797\\u6f01\\u696d\\u30fb\\u540c\\u5354\\u540c\\u7d44\\u5408\\u3001\\u9271\\u696d\",\"\\u5efa\\u8a2d\\u696d\",\"\\u96fb\\u6c17\\u30fb\\u30ac\\u30b9\\u30fb\\u71b1\\u4f9b\\u7d66\\u30fb\\u6c34\\u9053\\u696d\",\"\\u6620\\u50cf\\u30fb\\u97f3\\u58f0\\u60c5\\u5831\\u5236\\u4f5c\\u30fb\\u653e\\u9001\\u30fb\\u901a\\u4fe1\\u696d\",\"\\u65b0\\u805e\\u30fb\\u51fa\\u7248\\u696d\",\"\\u60c5\\u5831\\u30b5\\u30fc\\u30d3\\u30b9\\u696d\",\"\\u904b\\u8f38\\u696d\\u30fb\\u90f5\\u4fbf\\u696d\",\"\\u5378\\u58f2\\u696d\",\"\\u5c0f\\u58f2\\u696d\",\"\\u91d1\\u878d\\u696d\\u30fb\\u4fdd\\u967a\\u696d\",\"\\u533b\\u7642\\u696d\\uff08\\u56fd\\u30fb\\u516c\\u7acb\\u9664\\u304f\\uff09\",\"\\u6559\\u80b2\\uff08\\u56fd\\u30fb\\u516c\\u7acb\\u9664\\u304f\\uff09\\u3001\\u5b66\\u7fd2\\u652f\\u63f4\\u696d\",\"\\u305d\\u306e\\u4ed6\\u306e\\u975e\\u88fd\\u9020\\u696d\"],\"xaxis\":\"x\",\"y\":[40.93571428571428,0.1111111111111111,20.923076923076923,52.145833333333336,6.181818181818182,7.888888888888889,219.21052631578948,19.641025641025642,24.38888888888889,46.916666666666664,142.21428571428572,22.080645161290324,9.18421052631579,1,26.146892655367232,52.10526315789474,89.54545454545455,8.642857142857142,30.526315789473685,31.8989898989899,11.46808510638298,38.33125,84.65942028985508,23.333333333333332,0.25,18.419686800894855],\"yaxis\":\"y\",\"type\":\"bar\"},{\"alignmentgroup\":\"True\",\"hovertemplate\":\"groupe=\\u901a\\u4fe1\\u6a5f\\u5668\\u95a2\\u9023\\u8cbb\\u7528\\u8a08\\u5f53\\u671f\\u6e1b\\u4fa1\\u511f\\u5374\\u8cbb\\uff08\\u767e\\u4e07\\u5186\\uff09<br>\\u696d\\u7a2e\\u5225=%{x}<br>value=%{y}<extra></extra>\",\"legendgroup\":\"\\u901a\\u4fe1\\u6a5f\\u5668\\u95a2\\u9023\\u8cbb\\u7528\\u8a08\\u5f53\\u671f\\u6e1b\\u4fa1\\u511f\\u5374\\u8cbb\\uff08\\u767e\\u4e07\\u5186\\uff09\",\"marker\":{\"color\":\"#00cc96\",\"pattern\":{\"shape\":\"\"}},\"name\":\"\\u901a\\u4fe1\\u6a5f\\u5668\\u95a2\\u9023\\u8cbb\\u7528\\u8a08\\u5f53\\u671f\\u6e1b\\u4fa1\\u511f\\u5374\\u8cbb\\uff08\\u767e\\u4e07\\u5186\\uff09\",\"offsetgroup\":\"\\u901a\\u4fe1\\u6a5f\\u5668\\u95a2\\u9023\\u8cbb\\u7528\\u8a08\\u5f53\\u671f\\u6e1b\\u4fa1\\u511f\\u5374\\u8cbb\\uff08\\u767e\\u4e07\\u5186\\uff09\",\"orientation\":\"v\",\"showlegend\":true,\"textposition\":\"auto\",\"x\":[\"\\u98df\\u6599\\u54c1\\u3001\\u98f2\\u6599\\u30fb\\u305f\\u3070\\u3053\\u30fb\\u98fc\\u6599\\u88fd\\u9020\\u696d\",\"\\u7e4a\\u7dad\\u5de5\\u696d\",\"\\u30d1\\u30eb\\u30d7\\u30fb\\u7d19\\u30fb\\u7d19\\u52a0\\u5de5\\u54c1\\u88fd\\u9020\\u696d\",\"\\u5316\\u5b66\\u5de5\\u696d\",\"\\u77f3\\u6cb9\\u30fb\\u77f3\\u70ad\\u30fb\\uff8c\\uff9f\\uff97\\uff7d\\uff81\\uff6f\\uff78\\u88fd\\u54c1\\u88fd\\u9020\\u696d\",\"\\u7aaf\\u696d\\u30fb\\u571f\\u77f3\\u88fd\\u54c1\\u88fd\\u9020\\u696d\",\"\\u9244\\u92fc\\u696d\",\"\\u975e\\u9244\\u91d1\\u5c5e\\u88fd\\u54c1\\u30fb\\u91d1\\u5c5e\\u88fd\\u54c1\\u88fd\\u9020\\u696d\",\"\\u96fb\\u6c17\\u6a5f\\u68b0\\u5668\\u5177\\u88fd\\u9020\\u696d\",\"\\u60c5\\u5831\\u901a\\u4fe1\\u6a5f\\u68b0\\u5668\\u5177\\u88fd\\u9020\\u696d\",\"\\u8f38\\u9001\\u7528\\u6a5f\\u68b0\\u5668\\u5177\\u88fd\\u9020\\u696d\",\"\\u305d\\u306e\\u4ed6\\u6a5f\\u68b0\\u5668\\u5177\\u88fd\\u9020\\u696d\",\"\\u305d\\u306e\\u4ed6\\u306e\\u88fd\\u9020\\u696d\",\"\\u8fb2\\u6797\\u6f01\\u696d\\u30fb\\u540c\\u5354\\u540c\\u7d44\\u5408\\u3001\\u9271\\u696d\",\"\\u5efa\\u8a2d\\u696d\",\"\\u96fb\\u6c17\\u30fb\\u30ac\\u30b9\\u30fb\\u71b1\\u4f9b\\u7d66\\u30fb\\u6c34\\u9053\\u696d\",\"\\u6620\\u50cf\\u30fb\\u97f3\\u58f0\\u60c5\\u5831\\u5236\\u4f5c\\u30fb\\u653e\\u9001\\u30fb\\u901a\\u4fe1\\u696d\",\"\\u65b0\\u805e\\u30fb\\u51fa\\u7248\\u696d\",\"\\u60c5\\u5831\\u30b5\\u30fc\\u30d3\\u30b9\\u696d\",\"\\u904b\\u8f38\\u696d\\u30fb\\u90f5\\u4fbf\\u696d\",\"\\u5378\\u58f2\\u696d\",\"\\u5c0f\\u58f2\\u696d\",\"\\u91d1\\u878d\\u696d\\u30fb\\u4fdd\\u967a\\u696d\",\"\\u533b\\u7642\\u696d\\uff08\\u56fd\\u30fb\\u516c\\u7acb\\u9664\\u304f\\uff09\",\"\\u6559\\u80b2\\uff08\\u56fd\\u30fb\\u516c\\u7acb\\u9664\\u304f\\uff09\\u3001\\u5b66\\u7fd2\\u652f\\u63f4\\u696d\",\"\\u305d\\u306e\\u4ed6\\u306e\\u975e\\u88fd\\u9020\\u696d\"],\"xaxis\":\"x\",\"y\":[0.19285714285714287,0.3333333333333333,0.23076923076923078,16.9375,1,3.7777777777777777,164.3684210526316,7.333333333333333,5.111111111111111,13.75,72.48214285714286,5.806451612903226,0.5263157894736842,0,1.5310734463276836,2.3684210526315788,72.72727272727273,7,6.252631578947368,3.461717171717172,2.645390070921986,3.05625,117.63115942028986,7,1.25,11.861297539149888],\"yaxis\":\"y\",\"type\":\"bar\"},{\"alignmentgroup\":\"True\",\"hovertemplate\":\"groupe=\\u901a\\u4fe1\\u6a5f\\u5668\\u95a2\\u9023\\u8cbb\\u7528\\u8a08\\u305d\\u306e\\u4ed6\\uff08\\u767e\\u4e07\\u5186\\uff09<br>\\u696d\\u7a2e\\u5225=%{x}<br>value=%{y}<extra></extra>\",\"legendgroup\":\"\\u901a\\u4fe1\\u6a5f\\u5668\\u95a2\\u9023\\u8cbb\\u7528\\u8a08\\u305d\\u306e\\u4ed6\\uff08\\u767e\\u4e07\\u5186\\uff09\",\"marker\":{\"color\":\"#ab63fa\",\"pattern\":{\"shape\":\"\"}},\"name\":\"\\u901a\\u4fe1\\u6a5f\\u5668\\u95a2\\u9023\\u8cbb\\u7528\\u8a08\\u305d\\u306e\\u4ed6\\uff08\\u767e\\u4e07\\u5186\\uff09\",\"offsetgroup\":\"\\u901a\\u4fe1\\u6a5f\\u5668\\u95a2\\u9023\\u8cbb\\u7528\\u8a08\\u305d\\u306e\\u4ed6\\uff08\\u767e\\u4e07\\u5186\\uff09\",\"orientation\":\"v\",\"showlegend\":true,\"textposition\":\"auto\",\"x\":[\"\\u98df\\u6599\\u54c1\\u3001\\u98f2\\u6599\\u30fb\\u305f\\u3070\\u3053\\u30fb\\u98fc\\u6599\\u88fd\\u9020\\u696d\",\"\\u7e4a\\u7dad\\u5de5\\u696d\",\"\\u30d1\\u30eb\\u30d7\\u30fb\\u7d19\\u30fb\\u7d19\\u52a0\\u5de5\\u54c1\\u88fd\\u9020\\u696d\",\"\\u5316\\u5b66\\u5de5\\u696d\",\"\\u77f3\\u6cb9\\u30fb\\u77f3\\u70ad\\u30fb\\uff8c\\uff9f\\uff97\\uff7d\\uff81\\uff6f\\uff78\\u88fd\\u54c1\\u88fd\\u9020\\u696d\",\"\\u7aaf\\u696d\\u30fb\\u571f\\u77f3\\u88fd\\u54c1\\u88fd\\u9020\\u696d\",\"\\u9244\\u92fc\\u696d\",\"\\u975e\\u9244\\u91d1\\u5c5e\\u88fd\\u54c1\\u30fb\\u91d1\\u5c5e\\u88fd\\u54c1\\u88fd\\u9020\\u696d\",\"\\u96fb\\u6c17\\u6a5f\\u68b0\\u5668\\u5177\\u88fd\\u9020\\u696d\",\"\\u60c5\\u5831\\u901a\\u4fe1\\u6a5f\\u68b0\\u5668\\u5177\\u88fd\\u9020\\u696d\",\"\\u8f38\\u9001\\u7528\\u6a5f\\u68b0\\u5668\\u5177\\u88fd\\u9020\\u696d\",\"\\u305d\\u306e\\u4ed6\\u6a5f\\u68b0\\u5668\\u5177\\u88fd\\u9020\\u696d\",\"\\u305d\\u306e\\u4ed6\\u306e\\u88fd\\u9020\\u696d\",\"\\u8fb2\\u6797\\u6f01\\u696d\\u30fb\\u540c\\u5354\\u540c\\u7d44\\u5408\\u3001\\u9271\\u696d\",\"\\u5efa\\u8a2d\\u696d\",\"\\u96fb\\u6c17\\u30fb\\u30ac\\u30b9\\u30fb\\u71b1\\u4f9b\\u7d66\\u30fb\\u6c34\\u9053\\u696d\",\"\\u6620\\u50cf\\u30fb\\u97f3\\u58f0\\u60c5\\u5831\\u5236\\u4f5c\\u30fb\\u653e\\u9001\\u30fb\\u901a\\u4fe1\\u696d\",\"\\u65b0\\u805e\\u30fb\\u51fa\\u7248\\u696d\",\"\\u60c5\\u5831\\u30b5\\u30fc\\u30d3\\u30b9\\u696d\",\"\\u904b\\u8f38\\u696d\\u30fb\\u90f5\\u4fbf\\u696d\",\"\\u5378\\u58f2\\u696d\",\"\\u5c0f\\u58f2\\u696d\",\"\\u91d1\\u878d\\u696d\\u30fb\\u4fdd\\u967a\\u696d\",\"\\u533b\\u7642\\u696d\\uff08\\u56fd\\u30fb\\u516c\\u7acb\\u9664\\u304f\\uff09\",\"\\u6559\\u80b2\\uff08\\u56fd\\u30fb\\u516c\\u7acb\\u9664\\u304f\\uff09\\u3001\\u5b66\\u7fd2\\u652f\\u63f4\\u696d\",\"\\u305d\\u306e\\u4ed6\\u306e\\u975e\\u88fd\\u9020\\u696d\"],\"xaxis\":\"x\",\"y\":[4.730142857142857,0,1.6923076923076923,13.75,2.3181818181818183,0.4444444444444444,32.73684210526316,0.3076923076923077,4.027777777777778,3.1041666666666665,23.714285714285715,1.8064516129032258,0.3157894736842105,0.25,9.915254237288135,62.473684210526315,2.6363636363636362,0.21428571428571427,2.694736842105263,2.011010101010101,3.5531914893617023,2.225,0.9927536231884058,2,0.25,2.49910514541387],\"yaxis\":\"y\",\"type\":\"bar\"},{\"alignmentgroup\":\"True\",\"hovertemplate\":\"groupe=\\u305d\\u306e\\u4ed6\\u306e\\u60c5\\u5831\\u6a5f\\u5668\\u95a2\\u9023\\u8cbb\\u7528\\u5f53\\u671f\\u6e1b\\u4fa1\\u511f\\u5374\\u8cbb\\uff08\\u767e\\u4e07\\u5186\\uff09<br>\\u696d\\u7a2e\\u5225=%{x}<br>value=%{y}<extra></extra>\",\"legendgroup\":\"\\u305d\\u306e\\u4ed6\\u306e\\u60c5\\u5831\\u6a5f\\u5668\\u95a2\\u9023\\u8cbb\\u7528\\u5f53\\u671f\\u6e1b\\u4fa1\\u511f\\u5374\\u8cbb\\uff08\\u767e\\u4e07\\u5186\\uff09\",\"marker\":{\"color\":\"#FFA15A\",\"pattern\":{\"shape\":\"\"}},\"name\":\"\\u305d\\u306e\\u4ed6\\u306e\\u60c5\\u5831\\u6a5f\\u5668\\u95a2\\u9023\\u8cbb\\u7528\\u5f53\\u671f\\u6e1b\\u4fa1\\u511f\\u5374\\u8cbb\\uff08\\u767e\\u4e07\\u5186\\uff09\",\"offsetgroup\":\"\\u305d\\u306e\\u4ed6\\u306e\\u60c5\\u5831\\u6a5f\\u5668\\u95a2\\u9023\\u8cbb\\u7528\\u5f53\\u671f\\u6e1b\\u4fa1\\u511f\\u5374\\u8cbb\\uff08\\u767e\\u4e07\\u5186\\uff09\",\"orientation\":\"v\",\"showlegend\":true,\"textposition\":\"auto\",\"x\":[\"\\u98df\\u6599\\u54c1\\u3001\\u98f2\\u6599\\u30fb\\u305f\\u3070\\u3053\\u30fb\\u98fc\\u6599\\u88fd\\u9020\\u696d\",\"\\u7e4a\\u7dad\\u5de5\\u696d\",\"\\u30d1\\u30eb\\u30d7\\u30fb\\u7d19\\u30fb\\u7d19\\u52a0\\u5de5\\u54c1\\u88fd\\u9020\\u696d\",\"\\u5316\\u5b66\\u5de5\\u696d\",\"\\u77f3\\u6cb9\\u30fb\\u77f3\\u70ad\\u30fb\\uff8c\\uff9f\\uff97\\uff7d\\uff81\\uff6f\\uff78\\u88fd\\u54c1\\u88fd\\u9020\\u696d\",\"\\u7aaf\\u696d\\u30fb\\u571f\\u77f3\\u88fd\\u54c1\\u88fd\\u9020\\u696d\",\"\\u9244\\u92fc\\u696d\",\"\\u975e\\u9244\\u91d1\\u5c5e\\u88fd\\u54c1\\u30fb\\u91d1\\u5c5e\\u88fd\\u54c1\\u88fd\\u9020\\u696d\",\"\\u96fb\\u6c17\\u6a5f\\u68b0\\u5668\\u5177\\u88fd\\u9020\\u696d\",\"\\u60c5\\u5831\\u901a\\u4fe1\\u6a5f\\u68b0\\u5668\\u5177\\u88fd\\u9020\\u696d\",\"\\u8f38\\u9001\\u7528\\u6a5f\\u68b0\\u5668\\u5177\\u88fd\\u9020\\u696d\",\"\\u305d\\u306e\\u4ed6\\u6a5f\\u68b0\\u5668\\u5177\\u88fd\\u9020\\u696d\",\"\\u305d\\u306e\\u4ed6\\u306e\\u88fd\\u9020\\u696d\",\"\\u8fb2\\u6797\\u6f01\\u696d\\u30fb\\u540c\\u5354\\u540c\\u7d44\\u5408\\u3001\\u9271\\u696d\",\"\\u5efa\\u8a2d\\u696d\",\"\\u96fb\\u6c17\\u30fb\\u30ac\\u30b9\\u30fb\\u71b1\\u4f9b\\u7d66\\u30fb\\u6c34\\u9053\\u696d\",\"\\u6620\\u50cf\\u30fb\\u97f3\\u58f0\\u60c5\\u5831\\u5236\\u4f5c\\u30fb\\u653e\\u9001\\u30fb\\u901a\\u4fe1\\u696d\",\"\\u65b0\\u805e\\u30fb\\u51fa\\u7248\\u696d\",\"\\u60c5\\u5831\\u30b5\\u30fc\\u30d3\\u30b9\\u696d\",\"\\u904b\\u8f38\\u696d\\u30fb\\u90f5\\u4fbf\\u696d\",\"\\u5378\\u58f2\\u696d\",\"\\u5c0f\\u58f2\\u696d\",\"\\u91d1\\u878d\\u696d\\u30fb\\u4fdd\\u967a\\u696d\",\"\\u533b\\u7642\\u696d\\uff08\\u56fd\\u30fb\\u516c\\u7acb\\u9664\\u304f\\uff09\",\"\\u6559\\u80b2\\uff08\\u56fd\\u30fb\\u516c\\u7acb\\u9664\\u304f\\uff09\\u3001\\u5b66\\u7fd2\\u652f\\u63f4\\u696d\",\"\\u305d\\u306e\\u4ed6\\u306e\\u975e\\u88fd\\u9020\\u696d\"],\"xaxis\":\"x\",\"y\":[38.53285714285715,0.2222222222222222,0,14.875,1.4545454545454546,15.555555555555555,2.473684210526316,16.23076923076923,0.16666666666666666,11.791666666666666,6.75,13.82258064516129,0.23684210526315788,0.25,1.7740112994350283,1.4736842105263157,65.18181818181819,1.3571428571428572,4.505263157894737,49.7979797979798,9.51063829787234,3.65,88.45942028985507,1.6666666666666667,0.625,6.449664429530201],\"yaxis\":\"y\",\"type\":\"bar\"},{\"alignmentgroup\":\"True\",\"hovertemplate\":\"groupe=\\u305d\\u306e\\u4ed6\\u306e\\u60c5\\u5831\\u6a5f\\u5668\\u95a2\\u9023\\u8cbb\\u7528\\u305d\\u306e\\u4ed6\\uff08\\u767e\\u4e07\\u5186\\uff09<br>\\u696d\\u7a2e\\u5225=%{x}<br>value=%{y}<extra></extra>\",\"legendgroup\":\"\\u305d\\u306e\\u4ed6\\u306e\\u60c5\\u5831\\u6a5f\\u5668\\u95a2\\u9023\\u8cbb\\u7528\\u305d\\u306e\\u4ed6\\uff08\\u767e\\u4e07\\u5186\\uff09\",\"marker\":{\"color\":\"#19d3f3\",\"pattern\":{\"shape\":\"\"}},\"name\":\"\\u305d\\u306e\\u4ed6\\u306e\\u60c5\\u5831\\u6a5f\\u5668\\u95a2\\u9023\\u8cbb\\u7528\\u305d\\u306e\\u4ed6\\uff08\\u767e\\u4e07\\u5186\\uff09\",\"offsetgroup\":\"\\u305d\\u306e\\u4ed6\\u306e\\u60c5\\u5831\\u6a5f\\u5668\\u95a2\\u9023\\u8cbb\\u7528\\u305d\\u306e\\u4ed6\\uff08\\u767e\\u4e07\\u5186\\uff09\",\"orientation\":\"v\",\"showlegend\":true,\"textposition\":\"auto\",\"x\":[\"\\u98df\\u6599\\u54c1\\u3001\\u98f2\\u6599\\u30fb\\u305f\\u3070\\u3053\\u30fb\\u98fc\\u6599\\u88fd\\u9020\\u696d\",\"\\u7e4a\\u7dad\\u5de5\\u696d\",\"\\u30d1\\u30eb\\u30d7\\u30fb\\u7d19\\u30fb\\u7d19\\u52a0\\u5de5\\u54c1\\u88fd\\u9020\\u696d\",\"\\u5316\\u5b66\\u5de5\\u696d\",\"\\u77f3\\u6cb9\\u30fb\\u77f3\\u70ad\\u30fb\\uff8c\\uff9f\\uff97\\uff7d\\uff81\\uff6f\\uff78\\u88fd\\u54c1\\u88fd\\u9020\\u696d\",\"\\u7aaf\\u696d\\u30fb\\u571f\\u77f3\\u88fd\\u54c1\\u88fd\\u9020\\u696d\",\"\\u9244\\u92fc\\u696d\",\"\\u975e\\u9244\\u91d1\\u5c5e\\u88fd\\u54c1\\u30fb\\u91d1\\u5c5e\\u88fd\\u54c1\\u88fd\\u9020\\u696d\",\"\\u96fb\\u6c17\\u6a5f\\u68b0\\u5668\\u5177\\u88fd\\u9020\\u696d\",\"\\u60c5\\u5831\\u901a\\u4fe1\\u6a5f\\u68b0\\u5668\\u5177\\u88fd\\u9020\\u696d\",\"\\u8f38\\u9001\\u7528\\u6a5f\\u68b0\\u5668\\u5177\\u88fd\\u9020\\u696d\",\"\\u305d\\u306e\\u4ed6\\u6a5f\\u68b0\\u5668\\u5177\\u88fd\\u9020\\u696d\",\"\\u305d\\u306e\\u4ed6\\u306e\\u88fd\\u9020\\u696d\",\"\\u8fb2\\u6797\\u6f01\\u696d\\u30fb\\u540c\\u5354\\u540c\\u7d44\\u5408\\u3001\\u9271\\u696d\",\"\\u5efa\\u8a2d\\u696d\",\"\\u96fb\\u6c17\\u30fb\\u30ac\\u30b9\\u30fb\\u71b1\\u4f9b\\u7d66\\u30fb\\u6c34\\u9053\\u696d\",\"\\u6620\\u50cf\\u30fb\\u97f3\\u58f0\\u60c5\\u5831\\u5236\\u4f5c\\u30fb\\u653e\\u9001\\u30fb\\u901a\\u4fe1\\u696d\",\"\\u65b0\\u805e\\u30fb\\u51fa\\u7248\\u696d\",\"\\u60c5\\u5831\\u30b5\\u30fc\\u30d3\\u30b9\\u696d\",\"\\u904b\\u8f38\\u696d\\u30fb\\u90f5\\u4fbf\\u696d\",\"\\u5378\\u58f2\\u696d\",\"\\u5c0f\\u58f2\\u696d\",\"\\u91d1\\u878d\\u696d\\u30fb\\u4fdd\\u967a\\u696d\",\"\\u533b\\u7642\\u696d\\uff08\\u56fd\\u30fb\\u516c\\u7acb\\u9664\\u304f\\uff09\",\"\\u6559\\u80b2\\uff08\\u56fd\\u30fb\\u516c\\u7acb\\u9664\\u304f\\uff09\\u3001\\u5b66\\u7fd2\\u652f\\u63f4\\u696d\",\"\\u305d\\u306e\\u4ed6\\u306e\\u975e\\u88fd\\u9020\\u696d\"],\"xaxis\":\"x\",\"y\":[6.087428571428571,0,0.46153846153846156,5.6875,0.09090909090909091,0.5555555555555556,0,2.717948717948718,0.8611111111111112,7.479166666666667,0.6964285714285714,0.6129032258064516,0.47368421052631576,0.625,3.0508474576271185,144.3684210526316,0.2727272727272727,2.857142857142857,0.6736842105263158,8.6010101010101,15.872340425531915,1.6125,4.77536231884058,0,0,21.838255033557047],\"yaxis\":\"y\",\"type\":\"bar\"},{\"alignmentgroup\":\"True\",\"hovertemplate\":\"groupe=\\u30bd\\u30d5\\u30c8\\u30a6\\u30a7\\u30a2\\u95a2\\u9023\\u8cbb\\u7528\\u5f53\\u671f\\u6e1b\\u4fa1\\u511f\\u5374\\u8cbb\\uff08\\u767e\\u4e07\\u5186\\uff09<br>\\u696d\\u7a2e\\u5225=%{x}<br>value=%{y}<extra></extra>\",\"legendgroup\":\"\\u30bd\\u30d5\\u30c8\\u30a6\\u30a7\\u30a2\\u95a2\\u9023\\u8cbb\\u7528\\u5f53\\u671f\\u6e1b\\u4fa1\\u511f\\u5374\\u8cbb\\uff08\\u767e\\u4e07\\u5186\\uff09\",\"marker\":{\"color\":\"#FF6692\",\"pattern\":{\"shape\":\"\"}},\"name\":\"\\u30bd\\u30d5\\u30c8\\u30a6\\u30a7\\u30a2\\u95a2\\u9023\\u8cbb\\u7528\\u5f53\\u671f\\u6e1b\\u4fa1\\u511f\\u5374\\u8cbb\\uff08\\u767e\\u4e07\\u5186\\uff09\",\"offsetgroup\":\"\\u30bd\\u30d5\\u30c8\\u30a6\\u30a7\\u30a2\\u95a2\\u9023\\u8cbb\\u7528\\u5f53\\u671f\\u6e1b\\u4fa1\\u511f\\u5374\\u8cbb\\uff08\\u767e\\u4e07\\u5186\\uff09\",\"orientation\":\"v\",\"showlegend\":true,\"textposition\":\"auto\",\"x\":[\"\\u98df\\u6599\\u54c1\\u3001\\u98f2\\u6599\\u30fb\\u305f\\u3070\\u3053\\u30fb\\u98fc\\u6599\\u88fd\\u9020\\u696d\",\"\\u7e4a\\u7dad\\u5de5\\u696d\",\"\\u30d1\\u30eb\\u30d7\\u30fb\\u7d19\\u30fb\\u7d19\\u52a0\\u5de5\\u54c1\\u88fd\\u9020\\u696d\",\"\\u5316\\u5b66\\u5de5\\u696d\",\"\\u77f3\\u6cb9\\u30fb\\u77f3\\u70ad\\u30fb\\uff8c\\uff9f\\uff97\\uff7d\\uff81\\uff6f\\uff78\\u88fd\\u54c1\\u88fd\\u9020\\u696d\",\"\\u7aaf\\u696d\\u30fb\\u571f\\u77f3\\u88fd\\u54c1\\u88fd\\u9020\\u696d\",\"\\u9244\\u92fc\\u696d\",\"\\u975e\\u9244\\u91d1\\u5c5e\\u88fd\\u54c1\\u30fb\\u91d1\\u5c5e\\u88fd\\u54c1\\u88fd\\u9020\\u696d\",\"\\u96fb\\u6c17\\u6a5f\\u68b0\\u5668\\u5177\\u88fd\\u9020\\u696d\",\"\\u60c5\\u5831\\u901a\\u4fe1\\u6a5f\\u68b0\\u5668\\u5177\\u88fd\\u9020\\u696d\",\"\\u8f38\\u9001\\u7528\\u6a5f\\u68b0\\u5668\\u5177\\u88fd\\u9020\\u696d\",\"\\u305d\\u306e\\u4ed6\\u6a5f\\u68b0\\u5668\\u5177\\u88fd\\u9020\\u696d\",\"\\u305d\\u306e\\u4ed6\\u306e\\u88fd\\u9020\\u696d\",\"\\u8fb2\\u6797\\u6f01\\u696d\\u30fb\\u540c\\u5354\\u540c\\u7d44\\u5408\\u3001\\u9271\\u696d\",\"\\u5efa\\u8a2d\\u696d\",\"\\u96fb\\u6c17\\u30fb\\u30ac\\u30b9\\u30fb\\u71b1\\u4f9b\\u7d66\\u30fb\\u6c34\\u9053\\u696d\",\"\\u6620\\u50cf\\u30fb\\u97f3\\u58f0\\u60c5\\u5831\\u5236\\u4f5c\\u30fb\\u653e\\u9001\\u30fb\\u901a\\u4fe1\\u696d\",\"\\u65b0\\u805e\\u30fb\\u51fa\\u7248\\u696d\",\"\\u60c5\\u5831\\u30b5\\u30fc\\u30d3\\u30b9\\u696d\",\"\\u904b\\u8f38\\u696d\\u30fb\\u90f5\\u4fbf\\u696d\",\"\\u5378\\u58f2\\u696d\",\"\\u5c0f\\u58f2\\u696d\",\"\\u91d1\\u878d\\u696d\\u30fb\\u4fdd\\u967a\\u696d\",\"\\u533b\\u7642\\u696d\\uff08\\u56fd\\u30fb\\u516c\\u7acb\\u9664\\u304f\\uff09\",\"\\u6559\\u80b2\\uff08\\u56fd\\u30fb\\u516c\\u7acb\\u9664\\u304f\\uff09\\u3001\\u5b66\\u7fd2\\u652f\\u63f4\\u696d\",\"\\u305d\\u306e\\u4ed6\\u306e\\u975e\\u88fd\\u9020\\u696d\"],\"xaxis\":\"x\",\"y\":[185.65,13,103.53846153846153,151.5,4634.636363636364,111.55555555555556,261.1578947368421,205.82051282051282,268.8611111111111,291.9583333333333,844.75,254.1290322580645,340.07894736842104,1.125,54.51412429378531,111.84210526315789,2147.5,205.57142857142858,207.41894736842104,122.27272727272727,183.0212765957447,101.25625,1103.0971014492752,29.333333333333332,10.125,104.42796420581656],\"yaxis\":\"y\",\"type\":\"bar\"},{\"alignmentgroup\":\"True\",\"hovertemplate\":\"groupe=\\u30bd\\u30d5\\u30c8\\u30a6\\u30a7\\u30a2\\u95a2\\u9023\\u8cbb\\u7528\\u305d\\u306e\\u4ed6\\uff08\\u767e\\u4e07\\u5186\\uff09<br>\\u696d\\u7a2e\\u5225=%{x}<br>value=%{y}<extra></extra>\",\"legendgroup\":\"\\u30bd\\u30d5\\u30c8\\u30a6\\u30a7\\u30a2\\u95a2\\u9023\\u8cbb\\u7528\\u305d\\u306e\\u4ed6\\uff08\\u767e\\u4e07\\u5186\\uff09\",\"marker\":{\"color\":\"#B6E880\",\"pattern\":{\"shape\":\"\"}},\"name\":\"\\u30bd\\u30d5\\u30c8\\u30a6\\u30a7\\u30a2\\u95a2\\u9023\\u8cbb\\u7528\\u305d\\u306e\\u4ed6\\uff08\\u767e\\u4e07\\u5186\\uff09\",\"offsetgroup\":\"\\u30bd\\u30d5\\u30c8\\u30a6\\u30a7\\u30a2\\u95a2\\u9023\\u8cbb\\u7528\\u305d\\u306e\\u4ed6\\uff08\\u767e\\u4e07\\u5186\\uff09\",\"orientation\":\"v\",\"showlegend\":true,\"textposition\":\"auto\",\"x\":[\"\\u98df\\u6599\\u54c1\\u3001\\u98f2\\u6599\\u30fb\\u305f\\u3070\\u3053\\u30fb\\u98fc\\u6599\\u88fd\\u9020\\u696d\",\"\\u7e4a\\u7dad\\u5de5\\u696d\",\"\\u30d1\\u30eb\\u30d7\\u30fb\\u7d19\\u30fb\\u7d19\\u52a0\\u5de5\\u54c1\\u88fd\\u9020\\u696d\",\"\\u5316\\u5b66\\u5de5\\u696d\",\"\\u77f3\\u6cb9\\u30fb\\u77f3\\u70ad\\u30fb\\uff8c\\uff9f\\uff97\\uff7d\\uff81\\uff6f\\uff78\\u88fd\\u54c1\\u88fd\\u9020\\u696d\",\"\\u7aaf\\u696d\\u30fb\\u571f\\u77f3\\u88fd\\u54c1\\u88fd\\u9020\\u696d\",\"\\u9244\\u92fc\\u696d\",\"\\u975e\\u9244\\u91d1\\u5c5e\\u88fd\\u54c1\\u30fb\\u91d1\\u5c5e\\u88fd\\u54c1\\u88fd\\u9020\\u696d\",\"\\u96fb\\u6c17\\u6a5f\\u68b0\\u5668\\u5177\\u88fd\\u9020\\u696d\",\"\\u60c5\\u5831\\u901a\\u4fe1\\u6a5f\\u68b0\\u5668\\u5177\\u88fd\\u9020\\u696d\",\"\\u8f38\\u9001\\u7528\\u6a5f\\u68b0\\u5668\\u5177\\u88fd\\u9020\\u696d\",\"\\u305d\\u306e\\u4ed6\\u6a5f\\u68b0\\u5668\\u5177\\u88fd\\u9020\\u696d\",\"\\u305d\\u306e\\u4ed6\\u306e\\u88fd\\u9020\\u696d\",\"\\u8fb2\\u6797\\u6f01\\u696d\\u30fb\\u540c\\u5354\\u540c\\u7d44\\u5408\\u3001\\u9271\\u696d\",\"\\u5efa\\u8a2d\\u696d\",\"\\u96fb\\u6c17\\u30fb\\u30ac\\u30b9\\u30fb\\u71b1\\u4f9b\\u7d66\\u30fb\\u6c34\\u9053\\u696d\",\"\\u6620\\u50cf\\u30fb\\u97f3\\u58f0\\u60c5\\u5831\\u5236\\u4f5c\\u30fb\\u653e\\u9001\\u30fb\\u901a\\u4fe1\\u696d\",\"\\u65b0\\u805e\\u30fb\\u51fa\\u7248\\u696d\",\"\\u60c5\\u5831\\u30b5\\u30fc\\u30d3\\u30b9\\u696d\",\"\\u904b\\u8f38\\u696d\\u30fb\\u90f5\\u4fbf\\u696d\",\"\\u5378\\u58f2\\u696d\",\"\\u5c0f\\u58f2\\u696d\",\"\\u91d1\\u878d\\u696d\\u30fb\\u4fdd\\u967a\\u696d\",\"\\u533b\\u7642\\u696d\\uff08\\u56fd\\u30fb\\u516c\\u7acb\\u9664\\u304f\\uff09\",\"\\u6559\\u80b2\\uff08\\u56fd\\u30fb\\u516c\\u7acb\\u9664\\u304f\\uff09\\u3001\\u5b66\\u7fd2\\u652f\\u63f4\\u696d\",\"\\u305d\\u306e\\u4ed6\\u306e\\u975e\\u88fd\\u9020\\u696d\"],\"xaxis\":\"x\",\"y\":[36.34285714285714,0.7777777777777778,66.46153846153847,94.66666666666667,9.818181818181818,0.2222222222222222,415.1578947368421,17.82051282051282,25.944444444444443,129.89583333333334,643.3392857142857,29.516129032258064,1.3421052631578947,2.125,27.559322033898304,966.0526315789474,88.72727272727273,2.142857142857143,14.157894736842104,9.535353535353535,18.45390070921986,6.95625,160.33333333333334,0.6666666666666666,0.375,3.3514541387024606],\"yaxis\":\"y\",\"type\":\"bar\"}],                        {\"template\":{\"data\":{\"bar\":[{\"error_x\":{\"color\":\"#2a3f5f\"},\"error_y\":{\"color\":\"#2a3f5f\"},\"marker\":{\"line\":{\"color\":\"#E5ECF6\",\"width\":0.5},\"pattern\":{\"fillmode\":\"overlay\",\"size\":10,\"solidity\":0.2}},\"type\":\"bar\"}],\"barpolar\":[{\"marker\":{\"line\":{\"color\":\"#E5ECF6\",\"width\":0.5},\"pattern\":{\"fillmode\":\"overlay\",\"size\":10,\"solidity\":0.2}},\"type\":\"barpolar\"}],\"carpet\":[{\"aaxis\":{\"endlinecolor\":\"#2a3f5f\",\"gridcolor\":\"white\",\"linecolor\":\"white\",\"minorgridcolor\":\"white\",\"startlinecolor\":\"#2a3f5f\"},\"baxis\":{\"endlinecolor\":\"#2a3f5f\",\"gridcolor\":\"white\",\"linecolor\":\"white\",\"minorgridcolor\":\"white\",\"startlinecolor\":\"#2a3f5f\"},\"type\":\"carpet\"}],\"choropleth\":[{\"colorbar\":{\"outlinewidth\":0,\"ticks\":\"\"},\"type\":\"choropleth\"}],\"contour\":[{\"colorbar\":{\"outlinewidth\":0,\"ticks\":\"\"},\"colorscale\":[[0.0,\"#0d0887\"],[0.1111111111111111,\"#46039f\"],[0.2222222222222222,\"#7201a8\"],[0.3333333333333333,\"#9c179e\"],[0.4444444444444444,\"#bd3786\"],[0.5555555555555556,\"#d8576b\"],[0.6666666666666666,\"#ed7953\"],[0.7777777777777778,\"#fb9f3a\"],[0.8888888888888888,\"#fdca26\"],[1.0,\"#f0f921\"]],\"type\":\"contour\"}],\"contourcarpet\":[{\"colorbar\":{\"outlinewidth\":0,\"ticks\":\"\"},\"type\":\"contourcarpet\"}],\"heatmap\":[{\"colorbar\":{\"outlinewidth\":0,\"ticks\":\"\"},\"colorscale\":[[0.0,\"#0d0887\"],[0.1111111111111111,\"#46039f\"],[0.2222222222222222,\"#7201a8\"],[0.3333333333333333,\"#9c179e\"],[0.4444444444444444,\"#bd3786\"],[0.5555555555555556,\"#d8576b\"],[0.6666666666666666,\"#ed7953\"],[0.7777777777777778,\"#fb9f3a\"],[0.8888888888888888,\"#fdca26\"],[1.0,\"#f0f921\"]],\"type\":\"heatmap\"}],\"heatmapgl\":[{\"colorbar\":{\"outlinewidth\":0,\"ticks\":\"\"},\"colorscale\":[[0.0,\"#0d0887\"],[0.1111111111111111,\"#46039f\"],[0.2222222222222222,\"#7201a8\"],[0.3333333333333333,\"#9c179e\"],[0.4444444444444444,\"#bd3786\"],[0.5555555555555556,\"#d8576b\"],[0.6666666666666666,\"#ed7953\"],[0.7777777777777778,\"#fb9f3a\"],[0.8888888888888888,\"#fdca26\"],[1.0,\"#f0f921\"]],\"type\":\"heatmapgl\"}],\"histogram\":[{\"marker\":{\"pattern\":{\"fillmode\":\"overlay\",\"size\":10,\"solidity\":0.2}},\"type\":\"histogram\"}],\"histogram2d\":[{\"colorbar\":{\"outlinewidth\":0,\"ticks\":\"\"},\"colorscale\":[[0.0,\"#0d0887\"],[0.1111111111111111,\"#46039f\"],[0.2222222222222222,\"#7201a8\"],[0.3333333333333333,\"#9c179e\"],[0.4444444444444444,\"#bd3786\"],[0.5555555555555556,\"#d8576b\"],[0.6666666666666666,\"#ed7953\"],[0.7777777777777778,\"#fb9f3a\"],[0.8888888888888888,\"#fdca26\"],[1.0,\"#f0f921\"]],\"type\":\"histogram2d\"}],\"histogram2dcontour\":[{\"colorbar\":{\"outlinewidth\":0,\"ticks\":\"\"},\"colorscale\":[[0.0,\"#0d0887\"],[0.1111111111111111,\"#46039f\"],[0.2222222222222222,\"#7201a8\"],[0.3333333333333333,\"#9c179e\"],[0.4444444444444444,\"#bd3786\"],[0.5555555555555556,\"#d8576b\"],[0.6666666666666666,\"#ed7953\"],[0.7777777777777778,\"#fb9f3a\"],[0.8888888888888888,\"#fdca26\"],[1.0,\"#f0f921\"]],\"type\":\"histogram2dcontour\"}],\"mesh3d\":[{\"colorbar\":{\"outlinewidth\":0,\"ticks\":\"\"},\"type\":\"mesh3d\"}],\"parcoords\":[{\"line\":{\"colorbar\":{\"outlinewidth\":0,\"ticks\":\"\"}},\"type\":\"parcoords\"}],\"pie\":[{\"automargin\":true,\"type\":\"pie\"}],\"scatter\":[{\"marker\":{\"colorbar\":{\"outlinewidth\":0,\"ticks\":\"\"}},\"type\":\"scatter\"}],\"scatter3d\":[{\"line\":{\"colorbar\":{\"outlinewidth\":0,\"ticks\":\"\"}},\"marker\":{\"colorbar\":{\"outlinewidth\":0,\"ticks\":\"\"}},\"type\":\"scatter3d\"}],\"scattercarpet\":[{\"marker\":{\"colorbar\":{\"outlinewidth\":0,\"ticks\":\"\"}},\"type\":\"scattercarpet\"}],\"scattergeo\":[{\"marker\":{\"colorbar\":{\"outlinewidth\":0,\"ticks\":\"\"}},\"type\":\"scattergeo\"}],\"scattergl\":[{\"marker\":{\"colorbar\":{\"outlinewidth\":0,\"ticks\":\"\"}},\"type\":\"scattergl\"}],\"scattermapbox\":[{\"marker\":{\"colorbar\":{\"outlinewidth\":0,\"ticks\":\"\"}},\"type\":\"scattermapbox\"}],\"scatterpolar\":[{\"marker\":{\"colorbar\":{\"outlinewidth\":0,\"ticks\":\"\"}},\"type\":\"scatterpolar\"}],\"scatterpolargl\":[{\"marker\":{\"colorbar\":{\"outlinewidth\":0,\"ticks\":\"\"}},\"type\":\"scatterpolargl\"}],\"scatterternary\":[{\"marker\":{\"colorbar\":{\"outlinewidth\":0,\"ticks\":\"\"}},\"type\":\"scatterternary\"}],\"surface\":[{\"colorbar\":{\"outlinewidth\":0,\"ticks\":\"\"},\"colorscale\":[[0.0,\"#0d0887\"],[0.1111111111111111,\"#46039f\"],[0.2222222222222222,\"#7201a8\"],[0.3333333333333333,\"#9c179e\"],[0.4444444444444444,\"#bd3786\"],[0.5555555555555556,\"#d8576b\"],[0.6666666666666666,\"#ed7953\"],[0.7777777777777778,\"#fb9f3a\"],[0.8888888888888888,\"#fdca26\"],[1.0,\"#f0f921\"]],\"type\":\"surface\"}],\"table\":[{\"cells\":{\"fill\":{\"color\":\"#EBF0F8\"},\"line\":{\"color\":\"white\"}},\"header\":{\"fill\":{\"color\":\"#C8D4E3\"},\"line\":{\"color\":\"white\"}},\"type\":\"table\"}]},\"layout\":{\"annotationdefaults\":{\"arrowcolor\":\"#2a3f5f\",\"arrowhead\":0,\"arrowwidth\":1},\"autotypenumbers\":\"strict\",\"coloraxis\":{\"colorbar\":{\"outlinewidth\":0,\"ticks\":\"\"}},\"colorscale\":{\"diverging\":[[0,\"#8e0152\"],[0.1,\"#c51b7d\"],[0.2,\"#de77ae\"],[0.3,\"#f1b6da\"],[0.4,\"#fde0ef\"],[0.5,\"#f7f7f7\"],[0.6,\"#e6f5d0\"],[0.7,\"#b8e186\"],[0.8,\"#7fbc41\"],[0.9,\"#4d9221\"],[1,\"#276419\"]],\"sequential\":[[0.0,\"#0d0887\"],[0.1111111111111111,\"#46039f\"],[0.2222222222222222,\"#7201a8\"],[0.3333333333333333,\"#9c179e\"],[0.4444444444444444,\"#bd3786\"],[0.5555555555555556,\"#d8576b\"],[0.6666666666666666,\"#ed7953\"],[0.7777777777777778,\"#fb9f3a\"],[0.8888888888888888,\"#fdca26\"],[1.0,\"#f0f921\"]],\"sequentialminus\":[[0.0,\"#0d0887\"],[0.1111111111111111,\"#46039f\"],[0.2222222222222222,\"#7201a8\"],[0.3333333333333333,\"#9c179e\"],[0.4444444444444444,\"#bd3786\"],[0.5555555555555556,\"#d8576b\"],[0.6666666666666666,\"#ed7953\"],[0.7777777777777778,\"#fb9f3a\"],[0.8888888888888888,\"#fdca26\"],[1.0,\"#f0f921\"]]},\"colorway\":[\"#636efa\",\"#EF553B\",\"#00cc96\",\"#ab63fa\",\"#FFA15A\",\"#19d3f3\",\"#FF6692\",\"#B6E880\",\"#FF97FF\",\"#FECB52\"],\"font\":{\"color\":\"#2a3f5f\"},\"geo\":{\"bgcolor\":\"white\",\"lakecolor\":\"white\",\"landcolor\":\"#E5ECF6\",\"showlakes\":true,\"showland\":true,\"subunitcolor\":\"white\"},\"hoverlabel\":{\"align\":\"left\"},\"hovermode\":\"closest\",\"mapbox\":{\"style\":\"light\"},\"paper_bgcolor\":\"white\",\"plot_bgcolor\":\"#E5ECF6\",\"polar\":{\"angularaxis\":{\"gridcolor\":\"white\",\"linecolor\":\"white\",\"ticks\":\"\"},\"bgcolor\":\"#E5ECF6\",\"radialaxis\":{\"gridcolor\":\"white\",\"linecolor\":\"white\",\"ticks\":\"\"}},\"scene\":{\"xaxis\":{\"backgroundcolor\":\"#E5ECF6\",\"gridcolor\":\"white\",\"gridwidth\":2,\"linecolor\":\"white\",\"showbackground\":true,\"ticks\":\"\",\"zerolinecolor\":\"white\"},\"yaxis\":{\"backgroundcolor\":\"#E5ECF6\",\"gridcolor\":\"white\",\"gridwidth\":2,\"linecolor\":\"white\",\"showbackground\":true,\"ticks\":\"\",\"zerolinecolor\":\"white\"},\"zaxis\":{\"backgroundcolor\":\"#E5ECF6\",\"gridcolor\":\"white\",\"gridwidth\":2,\"linecolor\":\"white\",\"showbackground\":true,\"ticks\":\"\",\"zerolinecolor\":\"white\"}},\"shapedefaults\":{\"line\":{\"color\":\"#2a3f5f\"}},\"ternary\":{\"aaxis\":{\"gridcolor\":\"white\",\"linecolor\":\"white\",\"ticks\":\"\"},\"baxis\":{\"gridcolor\":\"white\",\"linecolor\":\"white\",\"ticks\":\"\"},\"bgcolor\":\"#E5ECF6\",\"caxis\":{\"gridcolor\":\"white\",\"linecolor\":\"white\",\"ticks\":\"\"}},\"title\":{\"x\":0.05},\"xaxis\":{\"automargin\":true,\"gridcolor\":\"white\",\"linecolor\":\"white\",\"ticks\":\"\",\"title\":{\"standoff\":15},\"zerolinecolor\":\"white\",\"zerolinewidth\":2},\"yaxis\":{\"automargin\":true,\"gridcolor\":\"white\",\"linecolor\":\"white\",\"ticks\":\"\",\"title\":{\"standoff\":15},\"zerolinecolor\":\"white\",\"zerolinewidth\":2}}},\"xaxis\":{\"anchor\":\"y\",\"domain\":[0.0,1.0],\"title\":{\"text\":\"\\u696d\\u7a2e\\u5225\"},\"categoryorder\":\"total descending\"},\"yaxis\":{\"anchor\":\"x\",\"domain\":[0.0,1.0],\"title\":{\"text\":\"IT\\u95a2\\u4fc2\\u8af8\\u7d4c\\u8cbb\\u5185\\u8a33\"}},\"legend\":{\"title\":{\"text\":\"groupe\"},\"tracegroupgap\":0},\"margin\":{\"t\":60},\"barmode\":\"relative\"},                        {\"responsive\": true}                    ).then(function(){\n",
       "                            \n",
       "var gd = document.getElementById('689cf56b-f66c-48f2-922d-9ac0df8dbe84');\n",
       "var x = new MutationObserver(function (mutations, observer) {{\n",
       "        var display = window.getComputedStyle(gd).display;\n",
       "        if (!display || display === 'none') {{\n",
       "            console.log([gd, 'removed!']);\n",
       "            Plotly.purge(gd);\n",
       "            observer.disconnect();\n",
       "        }}\n",
       "}});\n",
       "\n",
       "// Listen for the removal of the full notebook cells\n",
       "var notebookContainer = gd.closest('#notebook-container');\n",
       "if (notebookContainer) {{\n",
       "    x.observe(notebookContainer, {childList: true});\n",
       "}}\n",
       "\n",
       "// Listen for the clearing of the current output cell\n",
       "var outputEl = gd.closest('.output');\n",
       "if (outputEl) {{\n",
       "    x.observe(outputEl, {childList: true});\n",
       "}}\n",
       "\n",
       "                        })                };                });            </script>        </div>"
      ]
     },
     "metadata": {},
     "output_type": "display_data"
    }
   ],
   "source": [
    "#可視化必要データへ整形\n",
    "#必要カラム抽出 産業における従業者一人当たりIT関係諸経費ムのみ抽出\n",
    "df_v4_1tbl_melt_v2 = df_v4_1tbl_melt[(df_v4_1tbl_melt['groupe'] == 'コンピュータ・周辺機器関連計（百万円）') | (\n",
    "        df_v4_1tbl_melt['groupe'] ==  '通信機器関連費用計（百万円）')  |(\n",
    "        df_v4_1tbl_melt['groupe'] ==  'その他の情報機器関連費用計（百万円）')|(\n",
    "        df_v4_1tbl_melt['groupe'] ==  'ソフトウェア関連費用計（百万円）')|(\n",
    "        df_v4_1tbl_melt['groupe'] ==  '処理サービス料（百万円）')|(\n",
    "        df_v4_1tbl_melt['groupe'] ==  '運用保守委託料（百万円）')|(\n",
    "        df_v4_1tbl_melt['groupe'] ==  '情報セキュリティ関連サービス料（百万円）')|(\n",
    "        df_v4_1tbl_melt['groupe'] ==  'その他サービス関連支出（百万円）')|(\n",
    "        df_v4_1tbl_melt['groupe'] ==  'その他費用（百万円）')\n",
    "     ]\n",
    "\n",
    "fig = px.bar(df_v4_1tbl_melt_v2, x='業種別',y ='value',color='groupe')\n",
    "\n",
    "fig.update_yaxes(title_text=\"IT関係諸経費内訳\")\n",
    "\n",
    "#データを並び替え\n",
    "fig.update_layout(xaxis={'categoryorder':'total descending'})\n",
    "\n",
    "#グラフの表示\n",
    "fig.show()\n",
    "\n",
    "fig2 = px.bar(df_v4_1tbl_melt_v2, x='groupe',y ='value',color='業種別')\n",
    "\n",
    "\n",
    "fig2.update_yaxes(title_text=\"IT関係諸経費内訳\")\n",
    "\n",
    "#データを並び替え\n",
    "fig2.update_layout(xaxis={'categoryorder':'total descending'})\n",
    "\n",
    "#グラフの表示\n",
    "fig2.show()\n",
    "\n",
    "#ソフトウェア費用など減価償却かそれ以外かを確認する。\n",
    "#必要カラ## 産業における従業者一人当たりIT関係諸経費のみ抽出\n",
    "df_v4_1tbl_melt_v3 = df_v4_1tbl_melt[(df_v4_1tbl_melt['groupe'] == 'コンピュータ・周辺機器関連費（％）') | (\n",
    "        df_v4_1tbl_melt['groupe'] ==  '通信機器関連費用（％）')  |(\n",
    "        df_v4_1tbl_melt['groupe'] ==  'その他の情報機器関連費用（％）')|(\n",
    "        df_v4_1tbl_melt['groupe'] ==  'ソフトウェア関連費用（％）')|(\n",
    "        df_v4_1tbl_melt['groupe'] ==  '処理サービス料（％）')|(\n",
    "        df_v4_1tbl_melt['groupe'] ==  '運用保守委託料（％）')|(\n",
    "        df_v4_1tbl_melt['groupe'] ==  '情報セキュリティ関連サービス料（％）')|(\n",
    "        df_v4_1tbl_melt['groupe'] ==  'その他サービス関連支出（％）')|(\n",
    "        df_v4_1tbl_melt['groupe'] ==  'その他費用（％）')\n",
    "     ]\n",
    "\n",
    "fig3 = px.bar(df_v4_1tbl_melt_v3, x='業種別',y ='value',color='groupe')\n",
    "\n",
    "fig3.update_yaxes(title_text=\"IT関係諸経費内訳\")\n",
    "\n",
    "#データを並び替え\n",
    "fig3.update_layout(xaxis={'categoryorder':'total descending'})\n",
    "\n",
    "#グラフの表示\n",
    "fig3.show()\n",
    "\n",
    "\n",
    "\n",
    "#必要カラム抽出　産業における従業者一人当たりIT関係諸経費ムのみ抽出\n",
    "df_v4_1tbl_melt_v4 = df_v4_1tbl_melt[(df_v4_1tbl_melt['groupe'] == 'コンピュータ・周辺機器関連費用当期減価償却費（百万円）') | (\n",
    "        df_v4_1tbl_melt['groupe'] ==  'コンピュータ・周辺機器関連費用その他（百万円）')  |(\n",
    "        df_v4_1tbl_melt['groupe'] ==  '通信機器関連費用計当期減価償却費（百万円）')|(\n",
    "        df_v4_1tbl_melt['groupe'] ==  '通信機器関連費用計その他（百万円）')|(\n",
    "        df_v4_1tbl_melt['groupe'] ==  'その他の情報機器関連費用当期減価償却費（百万円）')|(\n",
    "        df_v4_1tbl_melt['groupe'] ==  'その他の情報機器関連費用その他（百万円）')|(\n",
    "        df_v4_1tbl_melt['groupe'] ==  'ソフトウェア関連費用当期減価償却費（百万円）')|(\n",
    "        df_v4_1tbl_melt['groupe'] ==  'ソフトウェア関連費用その他（百万円）')\n",
    "     ]\n",
    "\n",
    "fig4 = px.bar(df_v4_1tbl_melt_v4, x='業種別',y ='value',color='groupe')\n",
    "\n",
    "fig4.update_yaxes(title_text=\"IT関係諸経費内訳\")\n",
    "\n",
    "#データを並び替え\n",
    "fig4.update_layout(xaxis={'categoryorder':'total descending'})\n",
    "\n",
    "#グラフの表示\n",
    "fig4.show()\n",
    "\n",
    "\n",
    "\n",
    "#１、２、３コンピュータや通信機器などハードでよりフトウェア関連費用と運用保守委託料の占める割合が高い\n",
    "#　　　石油石炭製造業でソフトウェアがダントツ高いのは何故？３でみるとほぼソフトウェアの減価償却なので、過去の大型ソフトウェアの償却で苦しめられてる？\n",
    "#４．電気・輸送・鉄鋼は、減価償却以外のソフトウェア関連費用が大きい"
   ]
  },
  {
   "cell_type": "markdown",
   "metadata": {},
   "source": [
    "## 産業における1企業当たりIT関係諸経費(table2)"
   ]
  },
  {
   "cell_type": "code",
   "execution_count": 32,
   "metadata": {},
   "outputs": [
    {
     "data": {
      "application/vnd.plotly.v1+json": {
       "config": {
        "plotlyServerURL": "https://plot.ly"
       },
       "data": [
        {
         "alignmentgroup": "True",
         "hovertemplate": "業種別=%{x}<br>value=%{y}<extra></extra>",
         "legendgroup": "食料品、飲料・たばこ・飼料製造業",
         "marker": {
          "color": "#636efa",
          "pattern": {
           "shape": ""
          }
         },
         "name": "食料品、飲料・たばこ・飼料製造業",
         "offsetgroup": "食料品、飲料・たばこ・飼料製造業",
         "orientation": "v",
         "showlegend": true,
         "textposition": "auto",
         "type": "bar",
         "x": [
          "食料品、飲料・たばこ・飼料製造業"
         ],
         "xaxis": "x",
         "y": [
          552.2835820895523
         ],
         "yaxis": "y"
        },
        {
         "alignmentgroup": "True",
         "hovertemplate": "業種別=%{x}<br>value=%{y}<extra></extra>",
         "legendgroup": "繊維工業",
         "marker": {
          "color": "#EF553B",
          "pattern": {
           "shape": ""
          }
         },
         "name": "繊維工業",
         "offsetgroup": "繊維工業",
         "orientation": "v",
         "showlegend": true,
         "textposition": "auto",
         "type": "bar",
         "x": [
          "繊維工業"
         ],
         "xaxis": "x",
         "y": [
          36.22222222222222
         ],
         "yaxis": "y"
        },
        {
         "alignmentgroup": "True",
         "hovertemplate": "業種別=%{x}<br>value=%{y}<extra></extra>",
         "legendgroup": "パルプ・紙・紙加工品製造業",
         "marker": {
          "color": "#00cc96",
          "pattern": {
           "shape": ""
          }
         },
         "name": "パルプ・紙・紙加工品製造業",
         "offsetgroup": "パルプ・紙・紙加工品製造業",
         "orientation": "v",
         "showlegend": true,
         "textposition": "auto",
         "type": "bar",
         "x": [
          "パルプ・紙・紙加工品製造業"
         ],
         "xaxis": "x",
         "y": [
          417.2
         ],
         "yaxis": "y"
        },
        {
         "alignmentgroup": "True",
         "hovertemplate": "業種別=%{x}<br>value=%{y}<extra></extra>",
         "legendgroup": "化学工業",
         "marker": {
          "color": "#ab63fa",
          "pattern": {
           "shape": ""
          }
         },
         "name": "化学工業",
         "offsetgroup": "化学工業",
         "orientation": "v",
         "showlegend": true,
         "textposition": "auto",
         "type": "bar",
         "x": [
          "化学工業"
         ],
         "xaxis": "x",
         "y": [
          1466.3478260869565
         ],
         "yaxis": "y"
        },
        {
         "alignmentgroup": "True",
         "hovertemplate": "業種別=%{x}<br>value=%{y}<extra></extra>",
         "legendgroup": "石油・石炭・ﾌﾟﾗｽﾁｯｸ製品製造業",
         "marker": {
          "color": "#FFA15A",
          "pattern": {
           "shape": ""
          }
         },
         "name": "石油・石炭・ﾌﾟﾗｽﾁｯｸ製品製造業",
         "offsetgroup": "石油・石炭・ﾌﾟﾗｽﾁｯｸ製品製造業",
         "orientation": "v",
         "showlegend": true,
         "textposition": "auto",
         "type": "bar",
         "x": [
          "石油・石炭・ﾌﾟﾗｽﾁｯｸ製品製造業"
         ],
         "xaxis": "x",
         "y": [
          4778.227272727273
         ],
         "yaxis": "y"
        },
        {
         "alignmentgroup": "True",
         "hovertemplate": "業種別=%{x}<br>value=%{y}<extra></extra>",
         "legendgroup": "窯業・土石製品製造業",
         "marker": {
          "color": "#19d3f3",
          "pattern": {
           "shape": ""
          }
         },
         "name": "窯業・土石製品製造業",
         "offsetgroup": "窯業・土石製品製造業",
         "orientation": "v",
         "showlegend": true,
         "textposition": "auto",
         "type": "bar",
         "x": [
          "窯業・土石製品製造業"
         ],
         "xaxis": "x",
         "y": [
          477.25
         ],
         "yaxis": "y"
        },
        {
         "alignmentgroup": "True",
         "hovertemplate": "業種別=%{x}<br>value=%{y}<extra></extra>",
         "legendgroup": "鉄鋼業",
         "marker": {
          "color": "#FF6692",
          "pattern": {
           "shape": ""
          }
         },
         "name": "鉄鋼業",
         "offsetgroup": "鉄鋼業",
         "orientation": "v",
         "showlegend": true,
         "textposition": "auto",
         "type": "bar",
         "x": [
          "鉄鋼業"
         ],
         "xaxis": "x",
         "y": [
          1842.2777777777778
         ],
         "yaxis": "y"
        },
        {
         "alignmentgroup": "True",
         "hovertemplate": "業種別=%{x}<br>value=%{y}<extra></extra>",
         "legendgroup": "非鉄金属製品・金属製品製造業",
         "marker": {
          "color": "#B6E880",
          "pattern": {
           "shape": ""
          }
         },
         "name": "非鉄金属製品・金属製品製造業",
         "offsetgroup": "非鉄金属製品・金属製品製造業",
         "orientation": "v",
         "showlegend": true,
         "textposition": "auto",
         "type": "bar",
         "x": [
          "非鉄金属製品・金属製品製造業"
         ],
         "xaxis": "x",
         "y": [
          622.4605263157895
         ],
         "yaxis": "y"
        },
        {
         "alignmentgroup": "True",
         "hovertemplate": "業種別=%{x}<br>value=%{y}<extra></extra>",
         "legendgroup": "電気機械器具製造業",
         "marker": {
          "color": "#FF97FF",
          "pattern": {
           "shape": ""
          }
         },
         "name": "電気機械器具製造業",
         "offsetgroup": "電気機械器具製造業",
         "orientation": "v",
         "showlegend": true,
         "textposition": "auto",
         "type": "bar",
         "x": [
          "電気機械器具製造業"
         ],
         "xaxis": "x",
         "y": [
          1203.2857142857142
         ],
         "yaxis": "y"
        },
        {
         "alignmentgroup": "True",
         "hovertemplate": "業種別=%{x}<br>value=%{y}<extra></extra>",
         "legendgroup": "情報通信機械器具製造業",
         "marker": {
          "color": "#FECB52",
          "pattern": {
           "shape": ""
          }
         },
         "name": "情報通信機械器具製造業",
         "offsetgroup": "情報通信機械器具製造業",
         "orientation": "v",
         "showlegend": true,
         "textposition": "auto",
         "type": "bar",
         "x": [
          "情報通信機械器具製造業"
         ],
         "xaxis": "x",
         "y": [
          2048.0045454545457
         ],
         "yaxis": "y"
        },
        {
         "alignmentgroup": "True",
         "hovertemplate": "業種別=%{x}<br>value=%{y}<extra></extra>",
         "legendgroup": "輸送用機械器具製造業",
         "marker": {
          "color": "#636efa",
          "pattern": {
           "shape": ""
          }
         },
         "name": "輸送用機械器具製造業",
         "offsetgroup": "輸送用機械器具製造業",
         "orientation": "v",
         "showlegend": true,
         "textposition": "auto",
         "type": "bar",
         "x": [
          "輸送用機械器具製造業"
         ],
         "xaxis": "x",
         "y": [
          3855.5178571428573
         ],
         "yaxis": "y"
        },
        {
         "alignmentgroup": "True",
         "hovertemplate": "業種別=%{x}<br>value=%{y}<extra></extra>",
         "legendgroup": "その他機械器具製造業",
         "marker": {
          "color": "#EF553B",
          "pattern": {
           "shape": ""
          }
         },
         "name": "その他機械器具製造業",
         "offsetgroup": "その他機械器具製造業",
         "orientation": "v",
         "showlegend": true,
         "textposition": "auto",
         "type": "bar",
         "x": [
          "その他機械器具製造業"
         ],
         "xaxis": "x",
         "y": [
          737.016129032258
         ],
         "yaxis": "y"
        },
        {
         "alignmentgroup": "True",
         "hovertemplate": "業種別=%{x}<br>value=%{y}<extra></extra>",
         "legendgroup": "その他の製造業",
         "marker": {
          "color": "#00cc96",
          "pattern": {
           "shape": ""
          }
         },
         "name": "その他の製造業",
         "offsetgroup": "その他の製造業",
         "orientation": "v",
         "showlegend": true,
         "textposition": "auto",
         "type": "bar",
         "x": [
          "その他の製造業"
         ],
         "xaxis": "x",
         "y": [
          709.078947368421
         ],
         "yaxis": "y"
        },
        {
         "alignmentgroup": "True",
         "hovertemplate": "業種別=%{x}<br>value=%{y}<extra></extra>",
         "legendgroup": "農林漁業・同協同組合、鉱業",
         "marker": {
          "color": "#ab63fa",
          "pattern": {
           "shape": ""
          }
         },
         "name": "農林漁業・同協同組合、鉱業",
         "offsetgroup": "農林漁業・同協同組合、鉱業",
         "orientation": "v",
         "showlegend": true,
         "textposition": "auto",
         "type": "bar",
         "x": [
          "農林漁業・同協同組合、鉱業"
         ],
         "xaxis": "x",
         "y": [
          14.75
         ],
         "yaxis": "y"
        },
        {
         "alignmentgroup": "True",
         "hovertemplate": "業種別=%{x}<br>value=%{y}<extra></extra>",
         "legendgroup": "建設業",
         "marker": {
          "color": "#FFA15A",
          "pattern": {
           "shape": ""
          }
         },
         "name": "建設業",
         "offsetgroup": "建設業",
         "orientation": "v",
         "showlegend": true,
         "textposition": "auto",
         "type": "bar",
         "x": [
          "建設業"
         ],
         "xaxis": "x",
         "y": [
          264.1046511627907
         ],
         "yaxis": "y"
        },
        {
         "alignmentgroup": "True",
         "hovertemplate": "業種別=%{x}<br>value=%{y}<extra></extra>",
         "legendgroup": "電気・ガス・熱供給・水道業",
         "marker": {
          "color": "#19d3f3",
          "pattern": {
           "shape": ""
          }
         },
         "name": "電気・ガス・熱供給・水道業",
         "offsetgroup": "電気・ガス・熱供給・水道業",
         "orientation": "v",
         "showlegend": true,
         "textposition": "auto",
         "type": "bar",
         "x": [
          "電気・ガス・熱供給・水道業"
         ],
         "xaxis": "x",
         "y": [
          2435.2105263157896
         ],
         "yaxis": "y"
        },
        {
         "alignmentgroup": "True",
         "hovertemplate": "業種別=%{x}<br>value=%{y}<extra></extra>",
         "legendgroup": "映像・音声情報制作・放送・通信業",
         "marker": {
          "color": "#FF6692",
          "pattern": {
           "shape": ""
          }
         },
         "name": "映像・音声情報制作・放送・通信業",
         "offsetgroup": "映像・音声情報制作・放送・通信業",
         "orientation": "v",
         "showlegend": true,
         "textposition": "auto",
         "type": "bar",
         "x": [
          "映像・音声情報制作・放送・通信業"
         ],
         "xaxis": "x",
         "y": [
          4634.857142857143
         ],
         "yaxis": "y"
        },
        {
         "alignmentgroup": "True",
         "hovertemplate": "業種別=%{x}<br>value=%{y}<extra></extra>",
         "legendgroup": "新聞・出版業",
         "marker": {
          "color": "#B6E880",
          "pattern": {
           "shape": ""
          }
         },
         "name": "新聞・出版業",
         "offsetgroup": "新聞・出版業",
         "orientation": "v",
         "showlegend": true,
         "textposition": "auto",
         "type": "bar",
         "x": [
          "新聞・出版業"
         ],
         "xaxis": "x",
         "y": [
          433.57142857142856
         ],
         "yaxis": "y"
        },
        {
         "alignmentgroup": "True",
         "hovertemplate": "業種別=%{x}<br>value=%{y}<extra></extra>",
         "legendgroup": "情報サービス業",
         "marker": {
          "color": "#FF97FF",
          "pattern": {
           "shape": ""
          }
         },
         "name": "情報サービス業",
         "offsetgroup": "情報サービス業",
         "orientation": "v",
         "showlegend": true,
         "textposition": "auto",
         "type": "bar",
         "x": [
          "情報サービス業"
         ],
         "xaxis": "x",
         "y": [
          722.6934782608696
         ],
         "yaxis": "y"
        },
        {
         "alignmentgroup": "True",
         "hovertemplate": "業種別=%{x}<br>value=%{y}<extra></extra>",
         "legendgroup": "運輸業・郵便業",
         "marker": {
          "color": "#FECB52",
          "pattern": {
           "shape": ""
          }
         },
         "name": "運輸業・郵便業",
         "offsetgroup": "運輸業・郵便業",
         "orientation": "v",
         "showlegend": true,
         "textposition": "auto",
         "type": "bar",
         "x": [
          "運輸業・郵便業"
         ],
         "xaxis": "x",
         "y": [
          635.659067357513
         ],
         "yaxis": "y"
        },
        {
         "alignmentgroup": "True",
         "hovertemplate": "業種別=%{x}<br>value=%{y}<extra></extra>",
         "legendgroup": "卸売業",
         "marker": {
          "color": "#636efa",
          "pattern": {
           "shape": ""
          }
         },
         "name": "卸売業",
         "offsetgroup": "卸売業",
         "orientation": "v",
         "showlegend": true,
         "textposition": "auto",
         "type": "bar",
         "x": [
          "卸売業"
         ],
         "xaxis": "x",
         "y": [
          687.3884892086331
         ],
         "yaxis": "y"
        },
        {
         "alignmentgroup": "True",
         "hovertemplate": "業種別=%{x}<br>value=%{y}<extra></extra>",
         "legendgroup": "小売業",
         "marker": {
          "color": "#EF553B",
          "pattern": {
           "shape": ""
          }
         },
         "name": "小売業",
         "offsetgroup": "小売業",
         "orientation": "v",
         "showlegend": true,
         "textposition": "auto",
         "type": "bar",
         "x": [
          "小売業"
         ],
         "xaxis": "x",
         "y": [
          424.77070063694265
         ],
         "yaxis": "y"
        },
        {
         "alignmentgroup": "True",
         "hovertemplate": "業種別=%{x}<br>value=%{y}<extra></extra>",
         "legendgroup": "金融業・保険業",
         "marker": {
          "color": "#00cc96",
          "pattern": {
           "shape": ""
          }
         },
         "name": "金融業・保険業",
         "offsetgroup": "金融業・保険業",
         "orientation": "v",
         "showlegend": true,
         "textposition": "auto",
         "type": "bar",
         "x": [
          "金融業・保険業"
         ],
         "xaxis": "x",
         "y": [
          3274.231818181818
         ],
         "yaxis": "y"
        },
        {
         "alignmentgroup": "True",
         "hovertemplate": "業種別=%{x}<br>value=%{y}<extra></extra>",
         "legendgroup": "医療業（国・公立除く）",
         "marker": {
          "color": "#ab63fa",
          "pattern": {
           "shape": ""
          }
         },
         "name": "医療業（国・公立除く）",
         "offsetgroup": "医療業（国・公立除く）",
         "orientation": "v",
         "showlegend": true,
         "textposition": "auto",
         "type": "bar",
         "x": [
          "医療業（国・公立除く）"
         ],
         "xaxis": "x",
         "y": [
          179.66666666666666
         ],
         "yaxis": "y"
        },
        {
         "alignmentgroup": "True",
         "hovertemplate": "業種別=%{x}<br>value=%{y}<extra></extra>",
         "legendgroup": "教育（国・公立除く）、学習支援業",
         "marker": {
          "color": "#FFA15A",
          "pattern": {
           "shape": ""
          }
         },
         "name": "教育（国・公立除く）、学習支援業",
         "offsetgroup": "教育（国・公立除く）、学習支援業",
         "orientation": "v",
         "showlegend": true,
         "textposition": "auto",
         "type": "bar",
         "x": [
          "教育（国・公立除く）、学習支援業"
         ],
         "xaxis": "x",
         "y": [
          26.5
         ],
         "yaxis": "y"
        },
        {
         "alignmentgroup": "True",
         "hovertemplate": "業種別=%{x}<br>value=%{y}<extra></extra>",
         "legendgroup": "その他の非製造業",
         "marker": {
          "color": "#19d3f3",
          "pattern": {
           "shape": ""
          }
         },
         "name": "その他の非製造業",
         "offsetgroup": "その他の非製造業",
         "orientation": "v",
         "showlegend": true,
         "textposition": "auto",
         "type": "bar",
         "x": [
          "その他の非製造業"
         ],
         "xaxis": "x",
         "y": [
          297.8621247113164
         ],
         "yaxis": "y"
        }
       ],
       "layout": {
        "barmode": "relative",
        "legend": {
         "title": {
          "text": "業種別"
         },
         "tracegroupgap": 0
        },
        "margin": {
         "t": 60
        },
        "template": {
         "data": {
          "bar": [
           {
            "error_x": {
             "color": "#2a3f5f"
            },
            "error_y": {
             "color": "#2a3f5f"
            },
            "marker": {
             "line": {
              "color": "#E5ECF6",
              "width": 0.5
             },
             "pattern": {
              "fillmode": "overlay",
              "size": 10,
              "solidity": 0.2
             }
            },
            "type": "bar"
           }
          ],
          "barpolar": [
           {
            "marker": {
             "line": {
              "color": "#E5ECF6",
              "width": 0.5
             },
             "pattern": {
              "fillmode": "overlay",
              "size": 10,
              "solidity": 0.2
             }
            },
            "type": "barpolar"
           }
          ],
          "carpet": [
           {
            "aaxis": {
             "endlinecolor": "#2a3f5f",
             "gridcolor": "white",
             "linecolor": "white",
             "minorgridcolor": "white",
             "startlinecolor": "#2a3f5f"
            },
            "baxis": {
             "endlinecolor": "#2a3f5f",
             "gridcolor": "white",
             "linecolor": "white",
             "minorgridcolor": "white",
             "startlinecolor": "#2a3f5f"
            },
            "type": "carpet"
           }
          ],
          "choropleth": [
           {
            "colorbar": {
             "outlinewidth": 0,
             "ticks": ""
            },
            "type": "choropleth"
           }
          ],
          "contour": [
           {
            "colorbar": {
             "outlinewidth": 0,
             "ticks": ""
            },
            "colorscale": [
             [
              0,
              "#0d0887"
             ],
             [
              0.1111111111111111,
              "#46039f"
             ],
             [
              0.2222222222222222,
              "#7201a8"
             ],
             [
              0.3333333333333333,
              "#9c179e"
             ],
             [
              0.4444444444444444,
              "#bd3786"
             ],
             [
              0.5555555555555556,
              "#d8576b"
             ],
             [
              0.6666666666666666,
              "#ed7953"
             ],
             [
              0.7777777777777778,
              "#fb9f3a"
             ],
             [
              0.8888888888888888,
              "#fdca26"
             ],
             [
              1,
              "#f0f921"
             ]
            ],
            "type": "contour"
           }
          ],
          "contourcarpet": [
           {
            "colorbar": {
             "outlinewidth": 0,
             "ticks": ""
            },
            "type": "contourcarpet"
           }
          ],
          "heatmap": [
           {
            "colorbar": {
             "outlinewidth": 0,
             "ticks": ""
            },
            "colorscale": [
             [
              0,
              "#0d0887"
             ],
             [
              0.1111111111111111,
              "#46039f"
             ],
             [
              0.2222222222222222,
              "#7201a8"
             ],
             [
              0.3333333333333333,
              "#9c179e"
             ],
             [
              0.4444444444444444,
              "#bd3786"
             ],
             [
              0.5555555555555556,
              "#d8576b"
             ],
             [
              0.6666666666666666,
              "#ed7953"
             ],
             [
              0.7777777777777778,
              "#fb9f3a"
             ],
             [
              0.8888888888888888,
              "#fdca26"
             ],
             [
              1,
              "#f0f921"
             ]
            ],
            "type": "heatmap"
           }
          ],
          "heatmapgl": [
           {
            "colorbar": {
             "outlinewidth": 0,
             "ticks": ""
            },
            "colorscale": [
             [
              0,
              "#0d0887"
             ],
             [
              0.1111111111111111,
              "#46039f"
             ],
             [
              0.2222222222222222,
              "#7201a8"
             ],
             [
              0.3333333333333333,
              "#9c179e"
             ],
             [
              0.4444444444444444,
              "#bd3786"
             ],
             [
              0.5555555555555556,
              "#d8576b"
             ],
             [
              0.6666666666666666,
              "#ed7953"
             ],
             [
              0.7777777777777778,
              "#fb9f3a"
             ],
             [
              0.8888888888888888,
              "#fdca26"
             ],
             [
              1,
              "#f0f921"
             ]
            ],
            "type": "heatmapgl"
           }
          ],
          "histogram": [
           {
            "marker": {
             "pattern": {
              "fillmode": "overlay",
              "size": 10,
              "solidity": 0.2
             }
            },
            "type": "histogram"
           }
          ],
          "histogram2d": [
           {
            "colorbar": {
             "outlinewidth": 0,
             "ticks": ""
            },
            "colorscale": [
             [
              0,
              "#0d0887"
             ],
             [
              0.1111111111111111,
              "#46039f"
             ],
             [
              0.2222222222222222,
              "#7201a8"
             ],
             [
              0.3333333333333333,
              "#9c179e"
             ],
             [
              0.4444444444444444,
              "#bd3786"
             ],
             [
              0.5555555555555556,
              "#d8576b"
             ],
             [
              0.6666666666666666,
              "#ed7953"
             ],
             [
              0.7777777777777778,
              "#fb9f3a"
             ],
             [
              0.8888888888888888,
              "#fdca26"
             ],
             [
              1,
              "#f0f921"
             ]
            ],
            "type": "histogram2d"
           }
          ],
          "histogram2dcontour": [
           {
            "colorbar": {
             "outlinewidth": 0,
             "ticks": ""
            },
            "colorscale": [
             [
              0,
              "#0d0887"
             ],
             [
              0.1111111111111111,
              "#46039f"
             ],
             [
              0.2222222222222222,
              "#7201a8"
             ],
             [
              0.3333333333333333,
              "#9c179e"
             ],
             [
              0.4444444444444444,
              "#bd3786"
             ],
             [
              0.5555555555555556,
              "#d8576b"
             ],
             [
              0.6666666666666666,
              "#ed7953"
             ],
             [
              0.7777777777777778,
              "#fb9f3a"
             ],
             [
              0.8888888888888888,
              "#fdca26"
             ],
             [
              1,
              "#f0f921"
             ]
            ],
            "type": "histogram2dcontour"
           }
          ],
          "mesh3d": [
           {
            "colorbar": {
             "outlinewidth": 0,
             "ticks": ""
            },
            "type": "mesh3d"
           }
          ],
          "parcoords": [
           {
            "line": {
             "colorbar": {
              "outlinewidth": 0,
              "ticks": ""
             }
            },
            "type": "parcoords"
           }
          ],
          "pie": [
           {
            "automargin": true,
            "type": "pie"
           }
          ],
          "scatter": [
           {
            "marker": {
             "colorbar": {
              "outlinewidth": 0,
              "ticks": ""
             }
            },
            "type": "scatter"
           }
          ],
          "scatter3d": [
           {
            "line": {
             "colorbar": {
              "outlinewidth": 0,
              "ticks": ""
             }
            },
            "marker": {
             "colorbar": {
              "outlinewidth": 0,
              "ticks": ""
             }
            },
            "type": "scatter3d"
           }
          ],
          "scattercarpet": [
           {
            "marker": {
             "colorbar": {
              "outlinewidth": 0,
              "ticks": ""
             }
            },
            "type": "scattercarpet"
           }
          ],
          "scattergeo": [
           {
            "marker": {
             "colorbar": {
              "outlinewidth": 0,
              "ticks": ""
             }
            },
            "type": "scattergeo"
           }
          ],
          "scattergl": [
           {
            "marker": {
             "colorbar": {
              "outlinewidth": 0,
              "ticks": ""
             }
            },
            "type": "scattergl"
           }
          ],
          "scattermapbox": [
           {
            "marker": {
             "colorbar": {
              "outlinewidth": 0,
              "ticks": ""
             }
            },
            "type": "scattermapbox"
           }
          ],
          "scatterpolar": [
           {
            "marker": {
             "colorbar": {
              "outlinewidth": 0,
              "ticks": ""
             }
            },
            "type": "scatterpolar"
           }
          ],
          "scatterpolargl": [
           {
            "marker": {
             "colorbar": {
              "outlinewidth": 0,
              "ticks": ""
             }
            },
            "type": "scatterpolargl"
           }
          ],
          "scatterternary": [
           {
            "marker": {
             "colorbar": {
              "outlinewidth": 0,
              "ticks": ""
             }
            },
            "type": "scatterternary"
           }
          ],
          "surface": [
           {
            "colorbar": {
             "outlinewidth": 0,
             "ticks": ""
            },
            "colorscale": [
             [
              0,
              "#0d0887"
             ],
             [
              0.1111111111111111,
              "#46039f"
             ],
             [
              0.2222222222222222,
              "#7201a8"
             ],
             [
              0.3333333333333333,
              "#9c179e"
             ],
             [
              0.4444444444444444,
              "#bd3786"
             ],
             [
              0.5555555555555556,
              "#d8576b"
             ],
             [
              0.6666666666666666,
              "#ed7953"
             ],
             [
              0.7777777777777778,
              "#fb9f3a"
             ],
             [
              0.8888888888888888,
              "#fdca26"
             ],
             [
              1,
              "#f0f921"
             ]
            ],
            "type": "surface"
           }
          ],
          "table": [
           {
            "cells": {
             "fill": {
              "color": "#EBF0F8"
             },
             "line": {
              "color": "white"
             }
            },
            "header": {
             "fill": {
              "color": "#C8D4E3"
             },
             "line": {
              "color": "white"
             }
            },
            "type": "table"
           }
          ]
         },
         "layout": {
          "annotationdefaults": {
           "arrowcolor": "#2a3f5f",
           "arrowhead": 0,
           "arrowwidth": 1
          },
          "autotypenumbers": "strict",
          "coloraxis": {
           "colorbar": {
            "outlinewidth": 0,
            "ticks": ""
           }
          },
          "colorscale": {
           "diverging": [
            [
             0,
             "#8e0152"
            ],
            [
             0.1,
             "#c51b7d"
            ],
            [
             0.2,
             "#de77ae"
            ],
            [
             0.3,
             "#f1b6da"
            ],
            [
             0.4,
             "#fde0ef"
            ],
            [
             0.5,
             "#f7f7f7"
            ],
            [
             0.6,
             "#e6f5d0"
            ],
            [
             0.7,
             "#b8e186"
            ],
            [
             0.8,
             "#7fbc41"
            ],
            [
             0.9,
             "#4d9221"
            ],
            [
             1,
             "#276419"
            ]
           ],
           "sequential": [
            [
             0,
             "#0d0887"
            ],
            [
             0.1111111111111111,
             "#46039f"
            ],
            [
             0.2222222222222222,
             "#7201a8"
            ],
            [
             0.3333333333333333,
             "#9c179e"
            ],
            [
             0.4444444444444444,
             "#bd3786"
            ],
            [
             0.5555555555555556,
             "#d8576b"
            ],
            [
             0.6666666666666666,
             "#ed7953"
            ],
            [
             0.7777777777777778,
             "#fb9f3a"
            ],
            [
             0.8888888888888888,
             "#fdca26"
            ],
            [
             1,
             "#f0f921"
            ]
           ],
           "sequentialminus": [
            [
             0,
             "#0d0887"
            ],
            [
             0.1111111111111111,
             "#46039f"
            ],
            [
             0.2222222222222222,
             "#7201a8"
            ],
            [
             0.3333333333333333,
             "#9c179e"
            ],
            [
             0.4444444444444444,
             "#bd3786"
            ],
            [
             0.5555555555555556,
             "#d8576b"
            ],
            [
             0.6666666666666666,
             "#ed7953"
            ],
            [
             0.7777777777777778,
             "#fb9f3a"
            ],
            [
             0.8888888888888888,
             "#fdca26"
            ],
            [
             1,
             "#f0f921"
            ]
           ]
          },
          "colorway": [
           "#636efa",
           "#EF553B",
           "#00cc96",
           "#ab63fa",
           "#FFA15A",
           "#19d3f3",
           "#FF6692",
           "#B6E880",
           "#FF97FF",
           "#FECB52"
          ],
          "font": {
           "color": "#2a3f5f"
          },
          "geo": {
           "bgcolor": "white",
           "lakecolor": "white",
           "landcolor": "#E5ECF6",
           "showlakes": true,
           "showland": true,
           "subunitcolor": "white"
          },
          "hoverlabel": {
           "align": "left"
          },
          "hovermode": "closest",
          "mapbox": {
           "style": "light"
          },
          "paper_bgcolor": "white",
          "plot_bgcolor": "#E5ECF6",
          "polar": {
           "angularaxis": {
            "gridcolor": "white",
            "linecolor": "white",
            "ticks": ""
           },
           "bgcolor": "#E5ECF6",
           "radialaxis": {
            "gridcolor": "white",
            "linecolor": "white",
            "ticks": ""
           }
          },
          "scene": {
           "xaxis": {
            "backgroundcolor": "#E5ECF6",
            "gridcolor": "white",
            "gridwidth": 2,
            "linecolor": "white",
            "showbackground": true,
            "ticks": "",
            "zerolinecolor": "white"
           },
           "yaxis": {
            "backgroundcolor": "#E5ECF6",
            "gridcolor": "white",
            "gridwidth": 2,
            "linecolor": "white",
            "showbackground": true,
            "ticks": "",
            "zerolinecolor": "white"
           },
           "zaxis": {
            "backgroundcolor": "#E5ECF6",
            "gridcolor": "white",
            "gridwidth": 2,
            "linecolor": "white",
            "showbackground": true,
            "ticks": "",
            "zerolinecolor": "white"
           }
          },
          "shapedefaults": {
           "line": {
            "color": "#2a3f5f"
           }
          },
          "ternary": {
           "aaxis": {
            "gridcolor": "white",
            "linecolor": "white",
            "ticks": ""
           },
           "baxis": {
            "gridcolor": "white",
            "linecolor": "white",
            "ticks": ""
           },
           "bgcolor": "#E5ECF6",
           "caxis": {
            "gridcolor": "white",
            "linecolor": "white",
            "ticks": ""
           }
          },
          "title": {
           "x": 0.05
          },
          "xaxis": {
           "automargin": true,
           "gridcolor": "white",
           "linecolor": "white",
           "ticks": "",
           "title": {
            "standoff": 15
           },
           "zerolinecolor": "white",
           "zerolinewidth": 2
          },
          "yaxis": {
           "automargin": true,
           "gridcolor": "white",
           "linecolor": "white",
           "ticks": "",
           "title": {
            "standoff": 15
           },
           "zerolinecolor": "white",
           "zerolinewidth": 2
          }
         }
        },
        "xaxis": {
         "anchor": "y",
         "categoryarray": [
          "食料品、飲料・たばこ・飼料製造業",
          "繊維工業",
          "パルプ・紙・紙加工品製造業",
          "化学工業",
          "石油・石炭・ﾌﾟﾗｽﾁｯｸ製品製造業",
          "窯業・土石製品製造業",
          "鉄鋼業",
          "非鉄金属製品・金属製品製造業",
          "電気機械器具製造業",
          "情報通信機械器具製造業",
          "輸送用機械器具製造業",
          "その他機械器具製造業",
          "その他の製造業",
          "農林漁業・同協同組合、鉱業",
          "建設業",
          "電気・ガス・熱供給・水道業",
          "映像・音声情報制作・放送・通信業",
          "新聞・出版業",
          "情報サービス業",
          "運輸業・郵便業",
          "卸売業",
          "小売業",
          "金融業・保険業",
          "医療業（国・公立除く）",
          "教育（国・公立除く）、学習支援業",
          "その他の非製造業"
         ],
         "categoryorder": "total descending",
         "domain": [
          0,
          1
         ],
         "title": {
          "text": "業種別"
         }
        },
        "yaxis": {
         "anchor": "x",
         "domain": [
          0,
          1
         ],
         "title": {
          "text": "百万円"
         }
        }
       }
      },
      "text/html": [
       "<div>                            <div id=\"24f6283c-0f37-4c3a-8e80-6625ae5d3fe1\" class=\"plotly-graph-div\" style=\"height:525px; width:100%;\"></div>            <script type=\"text/javascript\">                require([\"plotly\"], function(Plotly) {                    window.PLOTLYENV=window.PLOTLYENV || {};                                    if (document.getElementById(\"24f6283c-0f37-4c3a-8e80-6625ae5d3fe1\")) {                    Plotly.newPlot(                        \"24f6283c-0f37-4c3a-8e80-6625ae5d3fe1\",                        [{\"alignmentgroup\":\"True\",\"hovertemplate\":\"\\u696d\\u7a2e\\u5225=%{x}<br>value=%{y}<extra></extra>\",\"legendgroup\":\"\\u98df\\u6599\\u54c1\\u3001\\u98f2\\u6599\\u30fb\\u305f\\u3070\\u3053\\u30fb\\u98fc\\u6599\\u88fd\\u9020\\u696d\",\"marker\":{\"color\":\"#636efa\",\"pattern\":{\"shape\":\"\"}},\"name\":\"\\u98df\\u6599\\u54c1\\u3001\\u98f2\\u6599\\u30fb\\u305f\\u3070\\u3053\\u30fb\\u98fc\\u6599\\u88fd\\u9020\\u696d\",\"offsetgroup\":\"\\u98df\\u6599\\u54c1\\u3001\\u98f2\\u6599\\u30fb\\u305f\\u3070\\u3053\\u30fb\\u98fc\\u6599\\u88fd\\u9020\\u696d\",\"orientation\":\"v\",\"showlegend\":true,\"textposition\":\"auto\",\"x\":[\"\\u98df\\u6599\\u54c1\\u3001\\u98f2\\u6599\\u30fb\\u305f\\u3070\\u3053\\u30fb\\u98fc\\u6599\\u88fd\\u9020\\u696d\"],\"xaxis\":\"x\",\"y\":[552.2835820895523],\"yaxis\":\"y\",\"type\":\"bar\"},{\"alignmentgroup\":\"True\",\"hovertemplate\":\"\\u696d\\u7a2e\\u5225=%{x}<br>value=%{y}<extra></extra>\",\"legendgroup\":\"\\u7e4a\\u7dad\\u5de5\\u696d\",\"marker\":{\"color\":\"#EF553B\",\"pattern\":{\"shape\":\"\"}},\"name\":\"\\u7e4a\\u7dad\\u5de5\\u696d\",\"offsetgroup\":\"\\u7e4a\\u7dad\\u5de5\\u696d\",\"orientation\":\"v\",\"showlegend\":true,\"textposition\":\"auto\",\"x\":[\"\\u7e4a\\u7dad\\u5de5\\u696d\"],\"xaxis\":\"x\",\"y\":[36.22222222222222],\"yaxis\":\"y\",\"type\":\"bar\"},{\"alignmentgroup\":\"True\",\"hovertemplate\":\"\\u696d\\u7a2e\\u5225=%{x}<br>value=%{y}<extra></extra>\",\"legendgroup\":\"\\u30d1\\u30eb\\u30d7\\u30fb\\u7d19\\u30fb\\u7d19\\u52a0\\u5de5\\u54c1\\u88fd\\u9020\\u696d\",\"marker\":{\"color\":\"#00cc96\",\"pattern\":{\"shape\":\"\"}},\"name\":\"\\u30d1\\u30eb\\u30d7\\u30fb\\u7d19\\u30fb\\u7d19\\u52a0\\u5de5\\u54c1\\u88fd\\u9020\\u696d\",\"offsetgroup\":\"\\u30d1\\u30eb\\u30d7\\u30fb\\u7d19\\u30fb\\u7d19\\u52a0\\u5de5\\u54c1\\u88fd\\u9020\\u696d\",\"orientation\":\"v\",\"showlegend\":true,\"textposition\":\"auto\",\"x\":[\"\\u30d1\\u30eb\\u30d7\\u30fb\\u7d19\\u30fb\\u7d19\\u52a0\\u5de5\\u54c1\\u88fd\\u9020\\u696d\"],\"xaxis\":\"x\",\"y\":[417.2],\"yaxis\":\"y\",\"type\":\"bar\"},{\"alignmentgroup\":\"True\",\"hovertemplate\":\"\\u696d\\u7a2e\\u5225=%{x}<br>value=%{y}<extra></extra>\",\"legendgroup\":\"\\u5316\\u5b66\\u5de5\\u696d\",\"marker\":{\"color\":\"#ab63fa\",\"pattern\":{\"shape\":\"\"}},\"name\":\"\\u5316\\u5b66\\u5de5\\u696d\",\"offsetgroup\":\"\\u5316\\u5b66\\u5de5\\u696d\",\"orientation\":\"v\",\"showlegend\":true,\"textposition\":\"auto\",\"x\":[\"\\u5316\\u5b66\\u5de5\\u696d\"],\"xaxis\":\"x\",\"y\":[1466.3478260869565],\"yaxis\":\"y\",\"type\":\"bar\"},{\"alignmentgroup\":\"True\",\"hovertemplate\":\"\\u696d\\u7a2e\\u5225=%{x}<br>value=%{y}<extra></extra>\",\"legendgroup\":\"\\u77f3\\u6cb9\\u30fb\\u77f3\\u70ad\\u30fb\\uff8c\\uff9f\\uff97\\uff7d\\uff81\\uff6f\\uff78\\u88fd\\u54c1\\u88fd\\u9020\\u696d\",\"marker\":{\"color\":\"#FFA15A\",\"pattern\":{\"shape\":\"\"}},\"name\":\"\\u77f3\\u6cb9\\u30fb\\u77f3\\u70ad\\u30fb\\uff8c\\uff9f\\uff97\\uff7d\\uff81\\uff6f\\uff78\\u88fd\\u54c1\\u88fd\\u9020\\u696d\",\"offsetgroup\":\"\\u77f3\\u6cb9\\u30fb\\u77f3\\u70ad\\u30fb\\uff8c\\uff9f\\uff97\\uff7d\\uff81\\uff6f\\uff78\\u88fd\\u54c1\\u88fd\\u9020\\u696d\",\"orientation\":\"v\",\"showlegend\":true,\"textposition\":\"auto\",\"x\":[\"\\u77f3\\u6cb9\\u30fb\\u77f3\\u70ad\\u30fb\\uff8c\\uff9f\\uff97\\uff7d\\uff81\\uff6f\\uff78\\u88fd\\u54c1\\u88fd\\u9020\\u696d\"],\"xaxis\":\"x\",\"y\":[4778.227272727273],\"yaxis\":\"y\",\"type\":\"bar\"},{\"alignmentgroup\":\"True\",\"hovertemplate\":\"\\u696d\\u7a2e\\u5225=%{x}<br>value=%{y}<extra></extra>\",\"legendgroup\":\"\\u7aaf\\u696d\\u30fb\\u571f\\u77f3\\u88fd\\u54c1\\u88fd\\u9020\\u696d\",\"marker\":{\"color\":\"#19d3f3\",\"pattern\":{\"shape\":\"\"}},\"name\":\"\\u7aaf\\u696d\\u30fb\\u571f\\u77f3\\u88fd\\u54c1\\u88fd\\u9020\\u696d\",\"offsetgroup\":\"\\u7aaf\\u696d\\u30fb\\u571f\\u77f3\\u88fd\\u54c1\\u88fd\\u9020\\u696d\",\"orientation\":\"v\",\"showlegend\":true,\"textposition\":\"auto\",\"x\":[\"\\u7aaf\\u696d\\u30fb\\u571f\\u77f3\\u88fd\\u54c1\\u88fd\\u9020\\u696d\"],\"xaxis\":\"x\",\"y\":[477.25],\"yaxis\":\"y\",\"type\":\"bar\"},{\"alignmentgroup\":\"True\",\"hovertemplate\":\"\\u696d\\u7a2e\\u5225=%{x}<br>value=%{y}<extra></extra>\",\"legendgroup\":\"\\u9244\\u92fc\\u696d\",\"marker\":{\"color\":\"#FF6692\",\"pattern\":{\"shape\":\"\"}},\"name\":\"\\u9244\\u92fc\\u696d\",\"offsetgroup\":\"\\u9244\\u92fc\\u696d\",\"orientation\":\"v\",\"showlegend\":true,\"textposition\":\"auto\",\"x\":[\"\\u9244\\u92fc\\u696d\"],\"xaxis\":\"x\",\"y\":[1842.2777777777778],\"yaxis\":\"y\",\"type\":\"bar\"},{\"alignmentgroup\":\"True\",\"hovertemplate\":\"\\u696d\\u7a2e\\u5225=%{x}<br>value=%{y}<extra></extra>\",\"legendgroup\":\"\\u975e\\u9244\\u91d1\\u5c5e\\u88fd\\u54c1\\u30fb\\u91d1\\u5c5e\\u88fd\\u54c1\\u88fd\\u9020\\u696d\",\"marker\":{\"color\":\"#B6E880\",\"pattern\":{\"shape\":\"\"}},\"name\":\"\\u975e\\u9244\\u91d1\\u5c5e\\u88fd\\u54c1\\u30fb\\u91d1\\u5c5e\\u88fd\\u54c1\\u88fd\\u9020\\u696d\",\"offsetgroup\":\"\\u975e\\u9244\\u91d1\\u5c5e\\u88fd\\u54c1\\u30fb\\u91d1\\u5c5e\\u88fd\\u54c1\\u88fd\\u9020\\u696d\",\"orientation\":\"v\",\"showlegend\":true,\"textposition\":\"auto\",\"x\":[\"\\u975e\\u9244\\u91d1\\u5c5e\\u88fd\\u54c1\\u30fb\\u91d1\\u5c5e\\u88fd\\u54c1\\u88fd\\u9020\\u696d\"],\"xaxis\":\"x\",\"y\":[622.4605263157895],\"yaxis\":\"y\",\"type\":\"bar\"},{\"alignmentgroup\":\"True\",\"hovertemplate\":\"\\u696d\\u7a2e\\u5225=%{x}<br>value=%{y}<extra></extra>\",\"legendgroup\":\"\\u96fb\\u6c17\\u6a5f\\u68b0\\u5668\\u5177\\u88fd\\u9020\\u696d\",\"marker\":{\"color\":\"#FF97FF\",\"pattern\":{\"shape\":\"\"}},\"name\":\"\\u96fb\\u6c17\\u6a5f\\u68b0\\u5668\\u5177\\u88fd\\u9020\\u696d\",\"offsetgroup\":\"\\u96fb\\u6c17\\u6a5f\\u68b0\\u5668\\u5177\\u88fd\\u9020\\u696d\",\"orientation\":\"v\",\"showlegend\":true,\"textposition\":\"auto\",\"x\":[\"\\u96fb\\u6c17\\u6a5f\\u68b0\\u5668\\u5177\\u88fd\\u9020\\u696d\"],\"xaxis\":\"x\",\"y\":[1203.2857142857142],\"yaxis\":\"y\",\"type\":\"bar\"},{\"alignmentgroup\":\"True\",\"hovertemplate\":\"\\u696d\\u7a2e\\u5225=%{x}<br>value=%{y}<extra></extra>\",\"legendgroup\":\"\\u60c5\\u5831\\u901a\\u4fe1\\u6a5f\\u68b0\\u5668\\u5177\\u88fd\\u9020\\u696d\",\"marker\":{\"color\":\"#FECB52\",\"pattern\":{\"shape\":\"\"}},\"name\":\"\\u60c5\\u5831\\u901a\\u4fe1\\u6a5f\\u68b0\\u5668\\u5177\\u88fd\\u9020\\u696d\",\"offsetgroup\":\"\\u60c5\\u5831\\u901a\\u4fe1\\u6a5f\\u68b0\\u5668\\u5177\\u88fd\\u9020\\u696d\",\"orientation\":\"v\",\"showlegend\":true,\"textposition\":\"auto\",\"x\":[\"\\u60c5\\u5831\\u901a\\u4fe1\\u6a5f\\u68b0\\u5668\\u5177\\u88fd\\u9020\\u696d\"],\"xaxis\":\"x\",\"y\":[2048.0045454545457],\"yaxis\":\"y\",\"type\":\"bar\"},{\"alignmentgroup\":\"True\",\"hovertemplate\":\"\\u696d\\u7a2e\\u5225=%{x}<br>value=%{y}<extra></extra>\",\"legendgroup\":\"\\u8f38\\u9001\\u7528\\u6a5f\\u68b0\\u5668\\u5177\\u88fd\\u9020\\u696d\",\"marker\":{\"color\":\"#636efa\",\"pattern\":{\"shape\":\"\"}},\"name\":\"\\u8f38\\u9001\\u7528\\u6a5f\\u68b0\\u5668\\u5177\\u88fd\\u9020\\u696d\",\"offsetgroup\":\"\\u8f38\\u9001\\u7528\\u6a5f\\u68b0\\u5668\\u5177\\u88fd\\u9020\\u696d\",\"orientation\":\"v\",\"showlegend\":true,\"textposition\":\"auto\",\"x\":[\"\\u8f38\\u9001\\u7528\\u6a5f\\u68b0\\u5668\\u5177\\u88fd\\u9020\\u696d\"],\"xaxis\":\"x\",\"y\":[3855.5178571428573],\"yaxis\":\"y\",\"type\":\"bar\"},{\"alignmentgroup\":\"True\",\"hovertemplate\":\"\\u696d\\u7a2e\\u5225=%{x}<br>value=%{y}<extra></extra>\",\"legendgroup\":\"\\u305d\\u306e\\u4ed6\\u6a5f\\u68b0\\u5668\\u5177\\u88fd\\u9020\\u696d\",\"marker\":{\"color\":\"#EF553B\",\"pattern\":{\"shape\":\"\"}},\"name\":\"\\u305d\\u306e\\u4ed6\\u6a5f\\u68b0\\u5668\\u5177\\u88fd\\u9020\\u696d\",\"offsetgroup\":\"\\u305d\\u306e\\u4ed6\\u6a5f\\u68b0\\u5668\\u5177\\u88fd\\u9020\\u696d\",\"orientation\":\"v\",\"showlegend\":true,\"textposition\":\"auto\",\"x\":[\"\\u305d\\u306e\\u4ed6\\u6a5f\\u68b0\\u5668\\u5177\\u88fd\\u9020\\u696d\"],\"xaxis\":\"x\",\"y\":[737.016129032258],\"yaxis\":\"y\",\"type\":\"bar\"},{\"alignmentgroup\":\"True\",\"hovertemplate\":\"\\u696d\\u7a2e\\u5225=%{x}<br>value=%{y}<extra></extra>\",\"legendgroup\":\"\\u305d\\u306e\\u4ed6\\u306e\\u88fd\\u9020\\u696d\",\"marker\":{\"color\":\"#00cc96\",\"pattern\":{\"shape\":\"\"}},\"name\":\"\\u305d\\u306e\\u4ed6\\u306e\\u88fd\\u9020\\u696d\",\"offsetgroup\":\"\\u305d\\u306e\\u4ed6\\u306e\\u88fd\\u9020\\u696d\",\"orientation\":\"v\",\"showlegend\":true,\"textposition\":\"auto\",\"x\":[\"\\u305d\\u306e\\u4ed6\\u306e\\u88fd\\u9020\\u696d\"],\"xaxis\":\"x\",\"y\":[709.078947368421],\"yaxis\":\"y\",\"type\":\"bar\"},{\"alignmentgroup\":\"True\",\"hovertemplate\":\"\\u696d\\u7a2e\\u5225=%{x}<br>value=%{y}<extra></extra>\",\"legendgroup\":\"\\u8fb2\\u6797\\u6f01\\u696d\\u30fb\\u540c\\u5354\\u540c\\u7d44\\u5408\\u3001\\u9271\\u696d\",\"marker\":{\"color\":\"#ab63fa\",\"pattern\":{\"shape\":\"\"}},\"name\":\"\\u8fb2\\u6797\\u6f01\\u696d\\u30fb\\u540c\\u5354\\u540c\\u7d44\\u5408\\u3001\\u9271\\u696d\",\"offsetgroup\":\"\\u8fb2\\u6797\\u6f01\\u696d\\u30fb\\u540c\\u5354\\u540c\\u7d44\\u5408\\u3001\\u9271\\u696d\",\"orientation\":\"v\",\"showlegend\":true,\"textposition\":\"auto\",\"x\":[\"\\u8fb2\\u6797\\u6f01\\u696d\\u30fb\\u540c\\u5354\\u540c\\u7d44\\u5408\\u3001\\u9271\\u696d\"],\"xaxis\":\"x\",\"y\":[14.75],\"yaxis\":\"y\",\"type\":\"bar\"},{\"alignmentgroup\":\"True\",\"hovertemplate\":\"\\u696d\\u7a2e\\u5225=%{x}<br>value=%{y}<extra></extra>\",\"legendgroup\":\"\\u5efa\\u8a2d\\u696d\",\"marker\":{\"color\":\"#FFA15A\",\"pattern\":{\"shape\":\"\"}},\"name\":\"\\u5efa\\u8a2d\\u696d\",\"offsetgroup\":\"\\u5efa\\u8a2d\\u696d\",\"orientation\":\"v\",\"showlegend\":true,\"textposition\":\"auto\",\"x\":[\"\\u5efa\\u8a2d\\u696d\"],\"xaxis\":\"x\",\"y\":[264.1046511627907],\"yaxis\":\"y\",\"type\":\"bar\"},{\"alignmentgroup\":\"True\",\"hovertemplate\":\"\\u696d\\u7a2e\\u5225=%{x}<br>value=%{y}<extra></extra>\",\"legendgroup\":\"\\u96fb\\u6c17\\u30fb\\u30ac\\u30b9\\u30fb\\u71b1\\u4f9b\\u7d66\\u30fb\\u6c34\\u9053\\u696d\",\"marker\":{\"color\":\"#19d3f3\",\"pattern\":{\"shape\":\"\"}},\"name\":\"\\u96fb\\u6c17\\u30fb\\u30ac\\u30b9\\u30fb\\u71b1\\u4f9b\\u7d66\\u30fb\\u6c34\\u9053\\u696d\",\"offsetgroup\":\"\\u96fb\\u6c17\\u30fb\\u30ac\\u30b9\\u30fb\\u71b1\\u4f9b\\u7d66\\u30fb\\u6c34\\u9053\\u696d\",\"orientation\":\"v\",\"showlegend\":true,\"textposition\":\"auto\",\"x\":[\"\\u96fb\\u6c17\\u30fb\\u30ac\\u30b9\\u30fb\\u71b1\\u4f9b\\u7d66\\u30fb\\u6c34\\u9053\\u696d\"],\"xaxis\":\"x\",\"y\":[2435.2105263157896],\"yaxis\":\"y\",\"type\":\"bar\"},{\"alignmentgroup\":\"True\",\"hovertemplate\":\"\\u696d\\u7a2e\\u5225=%{x}<br>value=%{y}<extra></extra>\",\"legendgroup\":\"\\u6620\\u50cf\\u30fb\\u97f3\\u58f0\\u60c5\\u5831\\u5236\\u4f5c\\u30fb\\u653e\\u9001\\u30fb\\u901a\\u4fe1\\u696d\",\"marker\":{\"color\":\"#FF6692\",\"pattern\":{\"shape\":\"\"}},\"name\":\"\\u6620\\u50cf\\u30fb\\u97f3\\u58f0\\u60c5\\u5831\\u5236\\u4f5c\\u30fb\\u653e\\u9001\\u30fb\\u901a\\u4fe1\\u696d\",\"offsetgroup\":\"\\u6620\\u50cf\\u30fb\\u97f3\\u58f0\\u60c5\\u5831\\u5236\\u4f5c\\u30fb\\u653e\\u9001\\u30fb\\u901a\\u4fe1\\u696d\",\"orientation\":\"v\",\"showlegend\":true,\"textposition\":\"auto\",\"x\":[\"\\u6620\\u50cf\\u30fb\\u97f3\\u58f0\\u60c5\\u5831\\u5236\\u4f5c\\u30fb\\u653e\\u9001\\u30fb\\u901a\\u4fe1\\u696d\"],\"xaxis\":\"x\",\"y\":[4634.857142857143],\"yaxis\":\"y\",\"type\":\"bar\"},{\"alignmentgroup\":\"True\",\"hovertemplate\":\"\\u696d\\u7a2e\\u5225=%{x}<br>value=%{y}<extra></extra>\",\"legendgroup\":\"\\u65b0\\u805e\\u30fb\\u51fa\\u7248\\u696d\",\"marker\":{\"color\":\"#B6E880\",\"pattern\":{\"shape\":\"\"}},\"name\":\"\\u65b0\\u805e\\u30fb\\u51fa\\u7248\\u696d\",\"offsetgroup\":\"\\u65b0\\u805e\\u30fb\\u51fa\\u7248\\u696d\",\"orientation\":\"v\",\"showlegend\":true,\"textposition\":\"auto\",\"x\":[\"\\u65b0\\u805e\\u30fb\\u51fa\\u7248\\u696d\"],\"xaxis\":\"x\",\"y\":[433.57142857142856],\"yaxis\":\"y\",\"type\":\"bar\"},{\"alignmentgroup\":\"True\",\"hovertemplate\":\"\\u696d\\u7a2e\\u5225=%{x}<br>value=%{y}<extra></extra>\",\"legendgroup\":\"\\u60c5\\u5831\\u30b5\\u30fc\\u30d3\\u30b9\\u696d\",\"marker\":{\"color\":\"#FF97FF\",\"pattern\":{\"shape\":\"\"}},\"name\":\"\\u60c5\\u5831\\u30b5\\u30fc\\u30d3\\u30b9\\u696d\",\"offsetgroup\":\"\\u60c5\\u5831\\u30b5\\u30fc\\u30d3\\u30b9\\u696d\",\"orientation\":\"v\",\"showlegend\":true,\"textposition\":\"auto\",\"x\":[\"\\u60c5\\u5831\\u30b5\\u30fc\\u30d3\\u30b9\\u696d\"],\"xaxis\":\"x\",\"y\":[722.6934782608696],\"yaxis\":\"y\",\"type\":\"bar\"},{\"alignmentgroup\":\"True\",\"hovertemplate\":\"\\u696d\\u7a2e\\u5225=%{x}<br>value=%{y}<extra></extra>\",\"legendgroup\":\"\\u904b\\u8f38\\u696d\\u30fb\\u90f5\\u4fbf\\u696d\",\"marker\":{\"color\":\"#FECB52\",\"pattern\":{\"shape\":\"\"}},\"name\":\"\\u904b\\u8f38\\u696d\\u30fb\\u90f5\\u4fbf\\u696d\",\"offsetgroup\":\"\\u904b\\u8f38\\u696d\\u30fb\\u90f5\\u4fbf\\u696d\",\"orientation\":\"v\",\"showlegend\":true,\"textposition\":\"auto\",\"x\":[\"\\u904b\\u8f38\\u696d\\u30fb\\u90f5\\u4fbf\\u696d\"],\"xaxis\":\"x\",\"y\":[635.659067357513],\"yaxis\":\"y\",\"type\":\"bar\"},{\"alignmentgroup\":\"True\",\"hovertemplate\":\"\\u696d\\u7a2e\\u5225=%{x}<br>value=%{y}<extra></extra>\",\"legendgroup\":\"\\u5378\\u58f2\\u696d\",\"marker\":{\"color\":\"#636efa\",\"pattern\":{\"shape\":\"\"}},\"name\":\"\\u5378\\u58f2\\u696d\",\"offsetgroup\":\"\\u5378\\u58f2\\u696d\",\"orientation\":\"v\",\"showlegend\":true,\"textposition\":\"auto\",\"x\":[\"\\u5378\\u58f2\\u696d\"],\"xaxis\":\"x\",\"y\":[687.3884892086331],\"yaxis\":\"y\",\"type\":\"bar\"},{\"alignmentgroup\":\"True\",\"hovertemplate\":\"\\u696d\\u7a2e\\u5225=%{x}<br>value=%{y}<extra></extra>\",\"legendgroup\":\"\\u5c0f\\u58f2\\u696d\",\"marker\":{\"color\":\"#EF553B\",\"pattern\":{\"shape\":\"\"}},\"name\":\"\\u5c0f\\u58f2\\u696d\",\"offsetgroup\":\"\\u5c0f\\u58f2\\u696d\",\"orientation\":\"v\",\"showlegend\":true,\"textposition\":\"auto\",\"x\":[\"\\u5c0f\\u58f2\\u696d\"],\"xaxis\":\"x\",\"y\":[424.77070063694265],\"yaxis\":\"y\",\"type\":\"bar\"},{\"alignmentgroup\":\"True\",\"hovertemplate\":\"\\u696d\\u7a2e\\u5225=%{x}<br>value=%{y}<extra></extra>\",\"legendgroup\":\"\\u91d1\\u878d\\u696d\\u30fb\\u4fdd\\u967a\\u696d\",\"marker\":{\"color\":\"#00cc96\",\"pattern\":{\"shape\":\"\"}},\"name\":\"\\u91d1\\u878d\\u696d\\u30fb\\u4fdd\\u967a\\u696d\",\"offsetgroup\":\"\\u91d1\\u878d\\u696d\\u30fb\\u4fdd\\u967a\\u696d\",\"orientation\":\"v\",\"showlegend\":true,\"textposition\":\"auto\",\"x\":[\"\\u91d1\\u878d\\u696d\\u30fb\\u4fdd\\u967a\\u696d\"],\"xaxis\":\"x\",\"y\":[3274.231818181818],\"yaxis\":\"y\",\"type\":\"bar\"},{\"alignmentgroup\":\"True\",\"hovertemplate\":\"\\u696d\\u7a2e\\u5225=%{x}<br>value=%{y}<extra></extra>\",\"legendgroup\":\"\\u533b\\u7642\\u696d\\uff08\\u56fd\\u30fb\\u516c\\u7acb\\u9664\\u304f\\uff09\",\"marker\":{\"color\":\"#ab63fa\",\"pattern\":{\"shape\":\"\"}},\"name\":\"\\u533b\\u7642\\u696d\\uff08\\u56fd\\u30fb\\u516c\\u7acb\\u9664\\u304f\\uff09\",\"offsetgroup\":\"\\u533b\\u7642\\u696d\\uff08\\u56fd\\u30fb\\u516c\\u7acb\\u9664\\u304f\\uff09\",\"orientation\":\"v\",\"showlegend\":true,\"textposition\":\"auto\",\"x\":[\"\\u533b\\u7642\\u696d\\uff08\\u56fd\\u30fb\\u516c\\u7acb\\u9664\\u304f\\uff09\"],\"xaxis\":\"x\",\"y\":[179.66666666666666],\"yaxis\":\"y\",\"type\":\"bar\"},{\"alignmentgroup\":\"True\",\"hovertemplate\":\"\\u696d\\u7a2e\\u5225=%{x}<br>value=%{y}<extra></extra>\",\"legendgroup\":\"\\u6559\\u80b2\\uff08\\u56fd\\u30fb\\u516c\\u7acb\\u9664\\u304f\\uff09\\u3001\\u5b66\\u7fd2\\u652f\\u63f4\\u696d\",\"marker\":{\"color\":\"#FFA15A\",\"pattern\":{\"shape\":\"\"}},\"name\":\"\\u6559\\u80b2\\uff08\\u56fd\\u30fb\\u516c\\u7acb\\u9664\\u304f\\uff09\\u3001\\u5b66\\u7fd2\\u652f\\u63f4\\u696d\",\"offsetgroup\":\"\\u6559\\u80b2\\uff08\\u56fd\\u30fb\\u516c\\u7acb\\u9664\\u304f\\uff09\\u3001\\u5b66\\u7fd2\\u652f\\u63f4\\u696d\",\"orientation\":\"v\",\"showlegend\":true,\"textposition\":\"auto\",\"x\":[\"\\u6559\\u80b2\\uff08\\u56fd\\u30fb\\u516c\\u7acb\\u9664\\u304f\\uff09\\u3001\\u5b66\\u7fd2\\u652f\\u63f4\\u696d\"],\"xaxis\":\"x\",\"y\":[26.5],\"yaxis\":\"y\",\"type\":\"bar\"},{\"alignmentgroup\":\"True\",\"hovertemplate\":\"\\u696d\\u7a2e\\u5225=%{x}<br>value=%{y}<extra></extra>\",\"legendgroup\":\"\\u305d\\u306e\\u4ed6\\u306e\\u975e\\u88fd\\u9020\\u696d\",\"marker\":{\"color\":\"#19d3f3\",\"pattern\":{\"shape\":\"\"}},\"name\":\"\\u305d\\u306e\\u4ed6\\u306e\\u975e\\u88fd\\u9020\\u696d\",\"offsetgroup\":\"\\u305d\\u306e\\u4ed6\\u306e\\u975e\\u88fd\\u9020\\u696d\",\"orientation\":\"v\",\"showlegend\":true,\"textposition\":\"auto\",\"x\":[\"\\u305d\\u306e\\u4ed6\\u306e\\u975e\\u88fd\\u9020\\u696d\"],\"xaxis\":\"x\",\"y\":[297.8621247113164],\"yaxis\":\"y\",\"type\":\"bar\"}],                        {\"template\":{\"data\":{\"bar\":[{\"error_x\":{\"color\":\"#2a3f5f\"},\"error_y\":{\"color\":\"#2a3f5f\"},\"marker\":{\"line\":{\"color\":\"#E5ECF6\",\"width\":0.5},\"pattern\":{\"fillmode\":\"overlay\",\"size\":10,\"solidity\":0.2}},\"type\":\"bar\"}],\"barpolar\":[{\"marker\":{\"line\":{\"color\":\"#E5ECF6\",\"width\":0.5},\"pattern\":{\"fillmode\":\"overlay\",\"size\":10,\"solidity\":0.2}},\"type\":\"barpolar\"}],\"carpet\":[{\"aaxis\":{\"endlinecolor\":\"#2a3f5f\",\"gridcolor\":\"white\",\"linecolor\":\"white\",\"minorgridcolor\":\"white\",\"startlinecolor\":\"#2a3f5f\"},\"baxis\":{\"endlinecolor\":\"#2a3f5f\",\"gridcolor\":\"white\",\"linecolor\":\"white\",\"minorgridcolor\":\"white\",\"startlinecolor\":\"#2a3f5f\"},\"type\":\"carpet\"}],\"choropleth\":[{\"colorbar\":{\"outlinewidth\":0,\"ticks\":\"\"},\"type\":\"choropleth\"}],\"contour\":[{\"colorbar\":{\"outlinewidth\":0,\"ticks\":\"\"},\"colorscale\":[[0.0,\"#0d0887\"],[0.1111111111111111,\"#46039f\"],[0.2222222222222222,\"#7201a8\"],[0.3333333333333333,\"#9c179e\"],[0.4444444444444444,\"#bd3786\"],[0.5555555555555556,\"#d8576b\"],[0.6666666666666666,\"#ed7953\"],[0.7777777777777778,\"#fb9f3a\"],[0.8888888888888888,\"#fdca26\"],[1.0,\"#f0f921\"]],\"type\":\"contour\"}],\"contourcarpet\":[{\"colorbar\":{\"outlinewidth\":0,\"ticks\":\"\"},\"type\":\"contourcarpet\"}],\"heatmap\":[{\"colorbar\":{\"outlinewidth\":0,\"ticks\":\"\"},\"colorscale\":[[0.0,\"#0d0887\"],[0.1111111111111111,\"#46039f\"],[0.2222222222222222,\"#7201a8\"],[0.3333333333333333,\"#9c179e\"],[0.4444444444444444,\"#bd3786\"],[0.5555555555555556,\"#d8576b\"],[0.6666666666666666,\"#ed7953\"],[0.7777777777777778,\"#fb9f3a\"],[0.8888888888888888,\"#fdca26\"],[1.0,\"#f0f921\"]],\"type\":\"heatmap\"}],\"heatmapgl\":[{\"colorbar\":{\"outlinewidth\":0,\"ticks\":\"\"},\"colorscale\":[[0.0,\"#0d0887\"],[0.1111111111111111,\"#46039f\"],[0.2222222222222222,\"#7201a8\"],[0.3333333333333333,\"#9c179e\"],[0.4444444444444444,\"#bd3786\"],[0.5555555555555556,\"#d8576b\"],[0.6666666666666666,\"#ed7953\"],[0.7777777777777778,\"#fb9f3a\"],[0.8888888888888888,\"#fdca26\"],[1.0,\"#f0f921\"]],\"type\":\"heatmapgl\"}],\"histogram\":[{\"marker\":{\"pattern\":{\"fillmode\":\"overlay\",\"size\":10,\"solidity\":0.2}},\"type\":\"histogram\"}],\"histogram2d\":[{\"colorbar\":{\"outlinewidth\":0,\"ticks\":\"\"},\"colorscale\":[[0.0,\"#0d0887\"],[0.1111111111111111,\"#46039f\"],[0.2222222222222222,\"#7201a8\"],[0.3333333333333333,\"#9c179e\"],[0.4444444444444444,\"#bd3786\"],[0.5555555555555556,\"#d8576b\"],[0.6666666666666666,\"#ed7953\"],[0.7777777777777778,\"#fb9f3a\"],[0.8888888888888888,\"#fdca26\"],[1.0,\"#f0f921\"]],\"type\":\"histogram2d\"}],\"histogram2dcontour\":[{\"colorbar\":{\"outlinewidth\":0,\"ticks\":\"\"},\"colorscale\":[[0.0,\"#0d0887\"],[0.1111111111111111,\"#46039f\"],[0.2222222222222222,\"#7201a8\"],[0.3333333333333333,\"#9c179e\"],[0.4444444444444444,\"#bd3786\"],[0.5555555555555556,\"#d8576b\"],[0.6666666666666666,\"#ed7953\"],[0.7777777777777778,\"#fb9f3a\"],[0.8888888888888888,\"#fdca26\"],[1.0,\"#f0f921\"]],\"type\":\"histogram2dcontour\"}],\"mesh3d\":[{\"colorbar\":{\"outlinewidth\":0,\"ticks\":\"\"},\"type\":\"mesh3d\"}],\"parcoords\":[{\"line\":{\"colorbar\":{\"outlinewidth\":0,\"ticks\":\"\"}},\"type\":\"parcoords\"}],\"pie\":[{\"automargin\":true,\"type\":\"pie\"}],\"scatter\":[{\"marker\":{\"colorbar\":{\"outlinewidth\":0,\"ticks\":\"\"}},\"type\":\"scatter\"}],\"scatter3d\":[{\"line\":{\"colorbar\":{\"outlinewidth\":0,\"ticks\":\"\"}},\"marker\":{\"colorbar\":{\"outlinewidth\":0,\"ticks\":\"\"}},\"type\":\"scatter3d\"}],\"scattercarpet\":[{\"marker\":{\"colorbar\":{\"outlinewidth\":0,\"ticks\":\"\"}},\"type\":\"scattercarpet\"}],\"scattergeo\":[{\"marker\":{\"colorbar\":{\"outlinewidth\":0,\"ticks\":\"\"}},\"type\":\"scattergeo\"}],\"scattergl\":[{\"marker\":{\"colorbar\":{\"outlinewidth\":0,\"ticks\":\"\"}},\"type\":\"scattergl\"}],\"scattermapbox\":[{\"marker\":{\"colorbar\":{\"outlinewidth\":0,\"ticks\":\"\"}},\"type\":\"scattermapbox\"}],\"scatterpolar\":[{\"marker\":{\"colorbar\":{\"outlinewidth\":0,\"ticks\":\"\"}},\"type\":\"scatterpolar\"}],\"scatterpolargl\":[{\"marker\":{\"colorbar\":{\"outlinewidth\":0,\"ticks\":\"\"}},\"type\":\"scatterpolargl\"}],\"scatterternary\":[{\"marker\":{\"colorbar\":{\"outlinewidth\":0,\"ticks\":\"\"}},\"type\":\"scatterternary\"}],\"surface\":[{\"colorbar\":{\"outlinewidth\":0,\"ticks\":\"\"},\"colorscale\":[[0.0,\"#0d0887\"],[0.1111111111111111,\"#46039f\"],[0.2222222222222222,\"#7201a8\"],[0.3333333333333333,\"#9c179e\"],[0.4444444444444444,\"#bd3786\"],[0.5555555555555556,\"#d8576b\"],[0.6666666666666666,\"#ed7953\"],[0.7777777777777778,\"#fb9f3a\"],[0.8888888888888888,\"#fdca26\"],[1.0,\"#f0f921\"]],\"type\":\"surface\"}],\"table\":[{\"cells\":{\"fill\":{\"color\":\"#EBF0F8\"},\"line\":{\"color\":\"white\"}},\"header\":{\"fill\":{\"color\":\"#C8D4E3\"},\"line\":{\"color\":\"white\"}},\"type\":\"table\"}]},\"layout\":{\"annotationdefaults\":{\"arrowcolor\":\"#2a3f5f\",\"arrowhead\":0,\"arrowwidth\":1},\"autotypenumbers\":\"strict\",\"coloraxis\":{\"colorbar\":{\"outlinewidth\":0,\"ticks\":\"\"}},\"colorscale\":{\"diverging\":[[0,\"#8e0152\"],[0.1,\"#c51b7d\"],[0.2,\"#de77ae\"],[0.3,\"#f1b6da\"],[0.4,\"#fde0ef\"],[0.5,\"#f7f7f7\"],[0.6,\"#e6f5d0\"],[0.7,\"#b8e186\"],[0.8,\"#7fbc41\"],[0.9,\"#4d9221\"],[1,\"#276419\"]],\"sequential\":[[0.0,\"#0d0887\"],[0.1111111111111111,\"#46039f\"],[0.2222222222222222,\"#7201a8\"],[0.3333333333333333,\"#9c179e\"],[0.4444444444444444,\"#bd3786\"],[0.5555555555555556,\"#d8576b\"],[0.6666666666666666,\"#ed7953\"],[0.7777777777777778,\"#fb9f3a\"],[0.8888888888888888,\"#fdca26\"],[1.0,\"#f0f921\"]],\"sequentialminus\":[[0.0,\"#0d0887\"],[0.1111111111111111,\"#46039f\"],[0.2222222222222222,\"#7201a8\"],[0.3333333333333333,\"#9c179e\"],[0.4444444444444444,\"#bd3786\"],[0.5555555555555556,\"#d8576b\"],[0.6666666666666666,\"#ed7953\"],[0.7777777777777778,\"#fb9f3a\"],[0.8888888888888888,\"#fdca26\"],[1.0,\"#f0f921\"]]},\"colorway\":[\"#636efa\",\"#EF553B\",\"#00cc96\",\"#ab63fa\",\"#FFA15A\",\"#19d3f3\",\"#FF6692\",\"#B6E880\",\"#FF97FF\",\"#FECB52\"],\"font\":{\"color\":\"#2a3f5f\"},\"geo\":{\"bgcolor\":\"white\",\"lakecolor\":\"white\",\"landcolor\":\"#E5ECF6\",\"showlakes\":true,\"showland\":true,\"subunitcolor\":\"white\"},\"hoverlabel\":{\"align\":\"left\"},\"hovermode\":\"closest\",\"mapbox\":{\"style\":\"light\"},\"paper_bgcolor\":\"white\",\"plot_bgcolor\":\"#E5ECF6\",\"polar\":{\"angularaxis\":{\"gridcolor\":\"white\",\"linecolor\":\"white\",\"ticks\":\"\"},\"bgcolor\":\"#E5ECF6\",\"radialaxis\":{\"gridcolor\":\"white\",\"linecolor\":\"white\",\"ticks\":\"\"}},\"scene\":{\"xaxis\":{\"backgroundcolor\":\"#E5ECF6\",\"gridcolor\":\"white\",\"gridwidth\":2,\"linecolor\":\"white\",\"showbackground\":true,\"ticks\":\"\",\"zerolinecolor\":\"white\"},\"yaxis\":{\"backgroundcolor\":\"#E5ECF6\",\"gridcolor\":\"white\",\"gridwidth\":2,\"linecolor\":\"white\",\"showbackground\":true,\"ticks\":\"\",\"zerolinecolor\":\"white\"},\"zaxis\":{\"backgroundcolor\":\"#E5ECF6\",\"gridcolor\":\"white\",\"gridwidth\":2,\"linecolor\":\"white\",\"showbackground\":true,\"ticks\":\"\",\"zerolinecolor\":\"white\"}},\"shapedefaults\":{\"line\":{\"color\":\"#2a3f5f\"}},\"ternary\":{\"aaxis\":{\"gridcolor\":\"white\",\"linecolor\":\"white\",\"ticks\":\"\"},\"baxis\":{\"gridcolor\":\"white\",\"linecolor\":\"white\",\"ticks\":\"\"},\"bgcolor\":\"#E5ECF6\",\"caxis\":{\"gridcolor\":\"white\",\"linecolor\":\"white\",\"ticks\":\"\"}},\"title\":{\"x\":0.05},\"xaxis\":{\"automargin\":true,\"gridcolor\":\"white\",\"linecolor\":\"white\",\"ticks\":\"\",\"title\":{\"standoff\":15},\"zerolinecolor\":\"white\",\"zerolinewidth\":2},\"yaxis\":{\"automargin\":true,\"gridcolor\":\"white\",\"linecolor\":\"white\",\"ticks\":\"\",\"title\":{\"standoff\":15},\"zerolinecolor\":\"white\",\"zerolinewidth\":2}}},\"xaxis\":{\"anchor\":\"y\",\"domain\":[0.0,1.0],\"title\":{\"text\":\"\\u696d\\u7a2e\\u5225\"},\"categoryorder\":\"total descending\",\"categoryarray\":[\"\\u98df\\u6599\\u54c1\\u3001\\u98f2\\u6599\\u30fb\\u305f\\u3070\\u3053\\u30fb\\u98fc\\u6599\\u88fd\\u9020\\u696d\",\"\\u7e4a\\u7dad\\u5de5\\u696d\",\"\\u30d1\\u30eb\\u30d7\\u30fb\\u7d19\\u30fb\\u7d19\\u52a0\\u5de5\\u54c1\\u88fd\\u9020\\u696d\",\"\\u5316\\u5b66\\u5de5\\u696d\",\"\\u77f3\\u6cb9\\u30fb\\u77f3\\u70ad\\u30fb\\uff8c\\uff9f\\uff97\\uff7d\\uff81\\uff6f\\uff78\\u88fd\\u54c1\\u88fd\\u9020\\u696d\",\"\\u7aaf\\u696d\\u30fb\\u571f\\u77f3\\u88fd\\u54c1\\u88fd\\u9020\\u696d\",\"\\u9244\\u92fc\\u696d\",\"\\u975e\\u9244\\u91d1\\u5c5e\\u88fd\\u54c1\\u30fb\\u91d1\\u5c5e\\u88fd\\u54c1\\u88fd\\u9020\\u696d\",\"\\u96fb\\u6c17\\u6a5f\\u68b0\\u5668\\u5177\\u88fd\\u9020\\u696d\",\"\\u60c5\\u5831\\u901a\\u4fe1\\u6a5f\\u68b0\\u5668\\u5177\\u88fd\\u9020\\u696d\",\"\\u8f38\\u9001\\u7528\\u6a5f\\u68b0\\u5668\\u5177\\u88fd\\u9020\\u696d\",\"\\u305d\\u306e\\u4ed6\\u6a5f\\u68b0\\u5668\\u5177\\u88fd\\u9020\\u696d\",\"\\u305d\\u306e\\u4ed6\\u306e\\u88fd\\u9020\\u696d\",\"\\u8fb2\\u6797\\u6f01\\u696d\\u30fb\\u540c\\u5354\\u540c\\u7d44\\u5408\\u3001\\u9271\\u696d\",\"\\u5efa\\u8a2d\\u696d\",\"\\u96fb\\u6c17\\u30fb\\u30ac\\u30b9\\u30fb\\u71b1\\u4f9b\\u7d66\\u30fb\\u6c34\\u9053\\u696d\",\"\\u6620\\u50cf\\u30fb\\u97f3\\u58f0\\u60c5\\u5831\\u5236\\u4f5c\\u30fb\\u653e\\u9001\\u30fb\\u901a\\u4fe1\\u696d\",\"\\u65b0\\u805e\\u30fb\\u51fa\\u7248\\u696d\",\"\\u60c5\\u5831\\u30b5\\u30fc\\u30d3\\u30b9\\u696d\",\"\\u904b\\u8f38\\u696d\\u30fb\\u90f5\\u4fbf\\u696d\",\"\\u5378\\u58f2\\u696d\",\"\\u5c0f\\u58f2\\u696d\",\"\\u91d1\\u878d\\u696d\\u30fb\\u4fdd\\u967a\\u696d\",\"\\u533b\\u7642\\u696d\\uff08\\u56fd\\u30fb\\u516c\\u7acb\\u9664\\u304f\\uff09\",\"\\u6559\\u80b2\\uff08\\u56fd\\u30fb\\u516c\\u7acb\\u9664\\u304f\\uff09\\u3001\\u5b66\\u7fd2\\u652f\\u63f4\\u696d\",\"\\u305d\\u306e\\u4ed6\\u306e\\u975e\\u88fd\\u9020\\u696d\"]},\"yaxis\":{\"anchor\":\"x\",\"domain\":[0.0,1.0],\"title\":{\"text\":\"\\u767e\\u4e07\\u5186\"}},\"legend\":{\"title\":{\"text\":\"\\u696d\\u7a2e\\u5225\"},\"tracegroupgap\":0},\"margin\":{\"t\":60},\"barmode\":\"relative\"},                        {\"responsive\": true}                    ).then(function(){\n",
       "                            \n",
       "var gd = document.getElementById('24f6283c-0f37-4c3a-8e80-6625ae5d3fe1');\n",
       "var x = new MutationObserver(function (mutations, observer) {{\n",
       "        var display = window.getComputedStyle(gd).display;\n",
       "        if (!display || display === 'none') {{\n",
       "            console.log([gd, 'removed!']);\n",
       "            Plotly.purge(gd);\n",
       "            observer.disconnect();\n",
       "        }}\n",
       "}});\n",
       "\n",
       "// Listen for the removal of the full notebook cells\n",
       "var notebookContainer = gd.closest('#notebook-container');\n",
       "if (notebookContainer) {{\n",
       "    x.observe(notebookContainer, {childList: true});\n",
       "}}\n",
       "\n",
       "// Listen for the clearing of the current output cell\n",
       "var outputEl = gd.closest('.output');\n",
       "if (outputEl) {{\n",
       "    x.observe(outputEl, {childList: true});\n",
       "}}\n",
       "\n",
       "                        })                };                });            </script>        </div>"
      ]
     },
     "metadata": {},
     "output_type": "display_data"
    }
   ],
   "source": [
    "#2table　\n",
    "#table1のIT関係諸経費とさほど大差はないので、table1もtable2も信憑性はある。\n",
    "\n",
    "#可視化必要データへ整形\n",
    "df_v4_2tbl_melt_sales = df_v4_2tbl_melt[df_v4_2tbl_melt['groupe']=='年間事業収入（百万円）']\n",
    "df_v4_2tbl_melt_invst2 = df_v4_2tbl_melt[df_v4_2tbl_melt['groupe']=='IT関係諸経費(百万円)']\n",
    "df_v4_2tbl_melt_invst_rate_persales = df_v4_2tbl_melt[df_v4_2tbl_melt['groupe']=='対年間事業収入比（％）']\n",
    "\n",
    "\n",
    "fig = px.bar(df_v4_2tbl_melt_invst2, x=df_v4_2tbl_melt_invst2['業種別'],y =df_v4_2tbl_melt_invst2['value'],color=df_v4_2tbl_melt_invst2['業種別'])\n",
    "\n",
    "#軸の設定等 何故かエラー？？？\n",
    "# fig.update_layout(width=900,height=500,margin=dict(l=50,r=50,b=40,t=60),\n",
    "#                   yaxis=dict(range=[0,200]),xaxis=dict(dtick=1, autorange=True))\n",
    "\n",
    "fig.update_yaxes(title_text=\"百万円\")\n",
    "\n",
    "#データを並び替え\n",
    "fig.update_layout(xaxis={'categoryorder':'total descending'})\n",
    "\n",
    "#グラフの表示\n",
    "fig.show()\n",
    "\n"
   ]
  },
  {
   "cell_type": "code",
   "execution_count": 34,
   "metadata": {},
   "outputs": [
    {
     "data": {
      "application/vnd.plotly.v1+json": {
       "config": {
        "plotlyServerURL": "https://plot.ly"
       },
       "data": [
        {
         "type": "bar",
         "x": [
          "石油・石炭・ﾌﾟﾗｽﾁｯｸ製品製造業",
          "映像・音声情報制作・放送・通信業",
          "輸送用機械器具製造業",
          "金融業・保険業",
          "電気・ガス・熱供給・水道業",
          "情報通信機械器具製造業",
          "鉄鋼業",
          "化学工業",
          "電気機械器具製造業",
          "その他機械器具製造業",
          "情報サービス業",
          "その他の製造業",
          "卸売業",
          "運輸業・郵便業",
          "非鉄金属製品・金属製品製造業",
          "食料品、飲料・たばこ・飼料製造業",
          "窯業・土石製品製造業",
          "新聞・出版業",
          "小売業",
          "パルプ・紙・紙加工品製造業",
          "その他の非製造業",
          "建設業",
          "医療業（国・公立除く）",
          "繊維工業",
          "教育（国・公立除く）、学習支援業",
          "農林漁業・同協同組合、鉱業"
         ],
         "xaxis": "x",
         "y": [
          4778.227272727273,
          4634.857142857143,
          3855.5178571428573,
          3274.231818181818,
          2435.2105263157896,
          2048.0045454545457,
          1842.2777777777778,
          1466.3478260869565,
          1203.2857142857142,
          737.016129032258,
          722.6934782608696,
          709.078947368421,
          687.3884892086331,
          635.659067357513,
          622.4605263157895,
          552.2835820895523,
          477.25,
          433.57142857142856,
          424.77070063694265,
          417.2,
          297.8621247113164,
          264.1046511627907,
          179.66666666666666,
          36.22222222222222,
          26.5,
          14.75
         ],
         "yaxis": "y"
        },
        {
         "type": "bar",
         "x": [
          "輸送用機械器具製造業",
          "鉄鋼業",
          "映像・音声情報制作・放送・通信業",
          "電気・ガス・熱供給・水道業",
          "卸売業",
          "化学工業",
          "情報通信機械器具製造業",
          "電気機械器具製造業",
          "金融業・保険業",
          "食料品、飲料・たばこ・飼料製造業",
          "パルプ・紙・紙加工品製造業",
          "非鉄金属製品・金属製品製造業",
          "その他の製造業",
          "その他機械器具製造業",
          "窯業・土石製品製造業",
          "その他の非製造業",
          "建設業",
          "小売業",
          "石油・石炭・ﾌﾟﾗｽﾁｯｸ製品製造業",
          "運輸業・郵便業",
          "新聞・出版業",
          "繊維工業",
          "情報サービス業",
          "医療業（国・公立除く）",
          "教育（国・公立除く）、学習支援業",
          "農林漁業・同協同組合、鉱業"
         ],
         "xaxis": "x2",
         "y": [
          502414.78571428574,
          416577.94444444444,
          255855.33333333334,
          216057.84210526315,
          204424.89208633095,
          201764.28260869565,
          150257.72727272726,
          143205.11428571428,
          129803.15909090909,
          108692.67164179105,
          102359,
          97098,
          96179.65789473684,
          92155.64516129032,
          78355,
          75034.76212471131,
          64083.767441860466,
          63784.83439490446,
          46973.045454545456,
          38314.55958549223,
          28985.571428571428,
          25738.555555555555,
          23904.967391304348,
          5341,
          4181.75,
          4079
         ],
         "yaxis": "y2"
        },
        {
         "type": "bar",
         "x": [
          "石油・石炭・ﾌﾟﾗｽﾁｯｸ製品製造業",
          "医療業（国・公立除く）",
          "情報サービス業",
          "金融業・保険業",
          "映像・音声情報制作・放送・通信業",
          "運輸業・郵便業",
          "新聞・出版業",
          "情報通信機械器具製造業",
          "電気・ガス・熱供給・水道業",
          "電気機械器具製造業",
          "その他機械器具製造業",
          "輸送用機械器具製造業",
          "その他の製造業",
          "化学工業",
          "小売業",
          "非鉄金属製品・金属製品製造業",
          "教育（国・公立除く）、学習支援業",
          "窯業・土石製品製造業",
          "食料品、飲料・たばこ・飼料製造業",
          "鉄鋼業",
          "建設業",
          "パルプ・紙・紙加工品製造業",
          "その他の非製造業",
          "農林漁業・同協同組合、鉱業",
          "卸売業",
          "繊維工業"
         ],
         "xaxis": "x3",
         "y": [
          10.172274815247043,
          3.3639143730886847,
          3.023193742250224,
          2.5319024721406542,
          1.8115147659707997,
          1.6590535666713098,
          1.4958181164027422,
          1.362994491283159,
          1.127110454583434,
          0.8402533109851025,
          0.7997514723512992,
          0.767397371011175,
          0.7372441978785863,
          0.7267628378660118,
          0.6659430955124908,
          0.6410642096807241,
          0.6337059843367011,
          0.6090868483185502,
          0.5081148284860133,
          0.44224083448168894,
          0.4121241021018274,
          0.40758506824021334,
          0.3969655080884451,
          0.3616082373130669,
          0.33625478883380855,
          0.14073137144016543
         ],
         "yaxis": "y3"
        }
       ],
       "layout": {
        "annotations": [
         {
          "font": {
           "size": 16
          },
          "showarrow": false,
          "text": "1. IT関係諸経費",
          "x": 0.225,
          "xanchor": "center",
          "xref": "paper",
          "y": 1,
          "yanchor": "bottom",
          "yref": "paper"
         },
         {
          "font": {
           "size": 16
          },
          "showarrow": false,
          "text": "2. 年間事業収入",
          "x": 0.775,
          "xanchor": "center",
          "xref": "paper",
          "y": 1,
          "yanchor": "bottom",
          "yref": "paper"
         },
         {
          "font": {
           "size": 16
          },
          "showarrow": false,
          "text": "3. 対年間事業収入比",
          "x": 0.225,
          "xanchor": "center",
          "xref": "paper",
          "y": 0.375,
          "yanchor": "bottom",
          "yref": "paper"
         },
         {
          "font": {
           "size": 16
          },
          "showarrow": false,
          "text": "4. ",
          "x": 0.775,
          "xanchor": "center",
          "xref": "paper",
          "y": 0.375,
          "yanchor": "bottom",
          "yref": "paper"
         }
        ],
        "height": 1100,
        "template": {
         "data": {
          "bar": [
           {
            "error_x": {
             "color": "#2a3f5f"
            },
            "error_y": {
             "color": "#2a3f5f"
            },
            "marker": {
             "line": {
              "color": "#E5ECF6",
              "width": 0.5
             },
             "pattern": {
              "fillmode": "overlay",
              "size": 10,
              "solidity": 0.2
             }
            },
            "type": "bar"
           }
          ],
          "barpolar": [
           {
            "marker": {
             "line": {
              "color": "#E5ECF6",
              "width": 0.5
             },
             "pattern": {
              "fillmode": "overlay",
              "size": 10,
              "solidity": 0.2
             }
            },
            "type": "barpolar"
           }
          ],
          "carpet": [
           {
            "aaxis": {
             "endlinecolor": "#2a3f5f",
             "gridcolor": "white",
             "linecolor": "white",
             "minorgridcolor": "white",
             "startlinecolor": "#2a3f5f"
            },
            "baxis": {
             "endlinecolor": "#2a3f5f",
             "gridcolor": "white",
             "linecolor": "white",
             "minorgridcolor": "white",
             "startlinecolor": "#2a3f5f"
            },
            "type": "carpet"
           }
          ],
          "choropleth": [
           {
            "colorbar": {
             "outlinewidth": 0,
             "ticks": ""
            },
            "type": "choropleth"
           }
          ],
          "contour": [
           {
            "colorbar": {
             "outlinewidth": 0,
             "ticks": ""
            },
            "colorscale": [
             [
              0,
              "#0d0887"
             ],
             [
              0.1111111111111111,
              "#46039f"
             ],
             [
              0.2222222222222222,
              "#7201a8"
             ],
             [
              0.3333333333333333,
              "#9c179e"
             ],
             [
              0.4444444444444444,
              "#bd3786"
             ],
             [
              0.5555555555555556,
              "#d8576b"
             ],
             [
              0.6666666666666666,
              "#ed7953"
             ],
             [
              0.7777777777777778,
              "#fb9f3a"
             ],
             [
              0.8888888888888888,
              "#fdca26"
             ],
             [
              1,
              "#f0f921"
             ]
            ],
            "type": "contour"
           }
          ],
          "contourcarpet": [
           {
            "colorbar": {
             "outlinewidth": 0,
             "ticks": ""
            },
            "type": "contourcarpet"
           }
          ],
          "heatmap": [
           {
            "colorbar": {
             "outlinewidth": 0,
             "ticks": ""
            },
            "colorscale": [
             [
              0,
              "#0d0887"
             ],
             [
              0.1111111111111111,
              "#46039f"
             ],
             [
              0.2222222222222222,
              "#7201a8"
             ],
             [
              0.3333333333333333,
              "#9c179e"
             ],
             [
              0.4444444444444444,
              "#bd3786"
             ],
             [
              0.5555555555555556,
              "#d8576b"
             ],
             [
              0.6666666666666666,
              "#ed7953"
             ],
             [
              0.7777777777777778,
              "#fb9f3a"
             ],
             [
              0.8888888888888888,
              "#fdca26"
             ],
             [
              1,
              "#f0f921"
             ]
            ],
            "type": "heatmap"
           }
          ],
          "heatmapgl": [
           {
            "colorbar": {
             "outlinewidth": 0,
             "ticks": ""
            },
            "colorscale": [
             [
              0,
              "#0d0887"
             ],
             [
              0.1111111111111111,
              "#46039f"
             ],
             [
              0.2222222222222222,
              "#7201a8"
             ],
             [
              0.3333333333333333,
              "#9c179e"
             ],
             [
              0.4444444444444444,
              "#bd3786"
             ],
             [
              0.5555555555555556,
              "#d8576b"
             ],
             [
              0.6666666666666666,
              "#ed7953"
             ],
             [
              0.7777777777777778,
              "#fb9f3a"
             ],
             [
              0.8888888888888888,
              "#fdca26"
             ],
             [
              1,
              "#f0f921"
             ]
            ],
            "type": "heatmapgl"
           }
          ],
          "histogram": [
           {
            "marker": {
             "pattern": {
              "fillmode": "overlay",
              "size": 10,
              "solidity": 0.2
             }
            },
            "type": "histogram"
           }
          ],
          "histogram2d": [
           {
            "colorbar": {
             "outlinewidth": 0,
             "ticks": ""
            },
            "colorscale": [
             [
              0,
              "#0d0887"
             ],
             [
              0.1111111111111111,
              "#46039f"
             ],
             [
              0.2222222222222222,
              "#7201a8"
             ],
             [
              0.3333333333333333,
              "#9c179e"
             ],
             [
              0.4444444444444444,
              "#bd3786"
             ],
             [
              0.5555555555555556,
              "#d8576b"
             ],
             [
              0.6666666666666666,
              "#ed7953"
             ],
             [
              0.7777777777777778,
              "#fb9f3a"
             ],
             [
              0.8888888888888888,
              "#fdca26"
             ],
             [
              1,
              "#f0f921"
             ]
            ],
            "type": "histogram2d"
           }
          ],
          "histogram2dcontour": [
           {
            "colorbar": {
             "outlinewidth": 0,
             "ticks": ""
            },
            "colorscale": [
             [
              0,
              "#0d0887"
             ],
             [
              0.1111111111111111,
              "#46039f"
             ],
             [
              0.2222222222222222,
              "#7201a8"
             ],
             [
              0.3333333333333333,
              "#9c179e"
             ],
             [
              0.4444444444444444,
              "#bd3786"
             ],
             [
              0.5555555555555556,
              "#d8576b"
             ],
             [
              0.6666666666666666,
              "#ed7953"
             ],
             [
              0.7777777777777778,
              "#fb9f3a"
             ],
             [
              0.8888888888888888,
              "#fdca26"
             ],
             [
              1,
              "#f0f921"
             ]
            ],
            "type": "histogram2dcontour"
           }
          ],
          "mesh3d": [
           {
            "colorbar": {
             "outlinewidth": 0,
             "ticks": ""
            },
            "type": "mesh3d"
           }
          ],
          "parcoords": [
           {
            "line": {
             "colorbar": {
              "outlinewidth": 0,
              "ticks": ""
             }
            },
            "type": "parcoords"
           }
          ],
          "pie": [
           {
            "automargin": true,
            "type": "pie"
           }
          ],
          "scatter": [
           {
            "marker": {
             "colorbar": {
              "outlinewidth": 0,
              "ticks": ""
             }
            },
            "type": "scatter"
           }
          ],
          "scatter3d": [
           {
            "line": {
             "colorbar": {
              "outlinewidth": 0,
              "ticks": ""
             }
            },
            "marker": {
             "colorbar": {
              "outlinewidth": 0,
              "ticks": ""
             }
            },
            "type": "scatter3d"
           }
          ],
          "scattercarpet": [
           {
            "marker": {
             "colorbar": {
              "outlinewidth": 0,
              "ticks": ""
             }
            },
            "type": "scattercarpet"
           }
          ],
          "scattergeo": [
           {
            "marker": {
             "colorbar": {
              "outlinewidth": 0,
              "ticks": ""
             }
            },
            "type": "scattergeo"
           }
          ],
          "scattergl": [
           {
            "marker": {
             "colorbar": {
              "outlinewidth": 0,
              "ticks": ""
             }
            },
            "type": "scattergl"
           }
          ],
          "scattermapbox": [
           {
            "marker": {
             "colorbar": {
              "outlinewidth": 0,
              "ticks": ""
             }
            },
            "type": "scattermapbox"
           }
          ],
          "scatterpolar": [
           {
            "marker": {
             "colorbar": {
              "outlinewidth": 0,
              "ticks": ""
             }
            },
            "type": "scatterpolar"
           }
          ],
          "scatterpolargl": [
           {
            "marker": {
             "colorbar": {
              "outlinewidth": 0,
              "ticks": ""
             }
            },
            "type": "scatterpolargl"
           }
          ],
          "scatterternary": [
           {
            "marker": {
             "colorbar": {
              "outlinewidth": 0,
              "ticks": ""
             }
            },
            "type": "scatterternary"
           }
          ],
          "surface": [
           {
            "colorbar": {
             "outlinewidth": 0,
             "ticks": ""
            },
            "colorscale": [
             [
              0,
              "#0d0887"
             ],
             [
              0.1111111111111111,
              "#46039f"
             ],
             [
              0.2222222222222222,
              "#7201a8"
             ],
             [
              0.3333333333333333,
              "#9c179e"
             ],
             [
              0.4444444444444444,
              "#bd3786"
             ],
             [
              0.5555555555555556,
              "#d8576b"
             ],
             [
              0.6666666666666666,
              "#ed7953"
             ],
             [
              0.7777777777777778,
              "#fb9f3a"
             ],
             [
              0.8888888888888888,
              "#fdca26"
             ],
             [
              1,
              "#f0f921"
             ]
            ],
            "type": "surface"
           }
          ],
          "table": [
           {
            "cells": {
             "fill": {
              "color": "#EBF0F8"
             },
             "line": {
              "color": "white"
             }
            },
            "header": {
             "fill": {
              "color": "#C8D4E3"
             },
             "line": {
              "color": "white"
             }
            },
            "type": "table"
           }
          ]
         },
         "layout": {
          "annotationdefaults": {
           "arrowcolor": "#2a3f5f",
           "arrowhead": 0,
           "arrowwidth": 1
          },
          "autotypenumbers": "strict",
          "coloraxis": {
           "colorbar": {
            "outlinewidth": 0,
            "ticks": ""
           }
          },
          "colorscale": {
           "diverging": [
            [
             0,
             "#8e0152"
            ],
            [
             0.1,
             "#c51b7d"
            ],
            [
             0.2,
             "#de77ae"
            ],
            [
             0.3,
             "#f1b6da"
            ],
            [
             0.4,
             "#fde0ef"
            ],
            [
             0.5,
             "#f7f7f7"
            ],
            [
             0.6,
             "#e6f5d0"
            ],
            [
             0.7,
             "#b8e186"
            ],
            [
             0.8,
             "#7fbc41"
            ],
            [
             0.9,
             "#4d9221"
            ],
            [
             1,
             "#276419"
            ]
           ],
           "sequential": [
            [
             0,
             "#0d0887"
            ],
            [
             0.1111111111111111,
             "#46039f"
            ],
            [
             0.2222222222222222,
             "#7201a8"
            ],
            [
             0.3333333333333333,
             "#9c179e"
            ],
            [
             0.4444444444444444,
             "#bd3786"
            ],
            [
             0.5555555555555556,
             "#d8576b"
            ],
            [
             0.6666666666666666,
             "#ed7953"
            ],
            [
             0.7777777777777778,
             "#fb9f3a"
            ],
            [
             0.8888888888888888,
             "#fdca26"
            ],
            [
             1,
             "#f0f921"
            ]
           ],
           "sequentialminus": [
            [
             0,
             "#0d0887"
            ],
            [
             0.1111111111111111,
             "#46039f"
            ],
            [
             0.2222222222222222,
             "#7201a8"
            ],
            [
             0.3333333333333333,
             "#9c179e"
            ],
            [
             0.4444444444444444,
             "#bd3786"
            ],
            [
             0.5555555555555556,
             "#d8576b"
            ],
            [
             0.6666666666666666,
             "#ed7953"
            ],
            [
             0.7777777777777778,
             "#fb9f3a"
            ],
            [
             0.8888888888888888,
             "#fdca26"
            ],
            [
             1,
             "#f0f921"
            ]
           ]
          },
          "colorway": [
           "#636efa",
           "#EF553B",
           "#00cc96",
           "#ab63fa",
           "#FFA15A",
           "#19d3f3",
           "#FF6692",
           "#B6E880",
           "#FF97FF",
           "#FECB52"
          ],
          "font": {
           "color": "#2a3f5f"
          },
          "geo": {
           "bgcolor": "white",
           "lakecolor": "white",
           "landcolor": "#E5ECF6",
           "showlakes": true,
           "showland": true,
           "subunitcolor": "white"
          },
          "hoverlabel": {
           "align": "left"
          },
          "hovermode": "closest",
          "mapbox": {
           "style": "light"
          },
          "paper_bgcolor": "white",
          "plot_bgcolor": "#E5ECF6",
          "polar": {
           "angularaxis": {
            "gridcolor": "white",
            "linecolor": "white",
            "ticks": ""
           },
           "bgcolor": "#E5ECF6",
           "radialaxis": {
            "gridcolor": "white",
            "linecolor": "white",
            "ticks": ""
           }
          },
          "scene": {
           "xaxis": {
            "backgroundcolor": "#E5ECF6",
            "gridcolor": "white",
            "gridwidth": 2,
            "linecolor": "white",
            "showbackground": true,
            "ticks": "",
            "zerolinecolor": "white"
           },
           "yaxis": {
            "backgroundcolor": "#E5ECF6",
            "gridcolor": "white",
            "gridwidth": 2,
            "linecolor": "white",
            "showbackground": true,
            "ticks": "",
            "zerolinecolor": "white"
           },
           "zaxis": {
            "backgroundcolor": "#E5ECF6",
            "gridcolor": "white",
            "gridwidth": 2,
            "linecolor": "white",
            "showbackground": true,
            "ticks": "",
            "zerolinecolor": "white"
           }
          },
          "shapedefaults": {
           "line": {
            "color": "#2a3f5f"
           }
          },
          "ternary": {
           "aaxis": {
            "gridcolor": "white",
            "linecolor": "white",
            "ticks": ""
           },
           "baxis": {
            "gridcolor": "white",
            "linecolor": "white",
            "ticks": ""
           },
           "bgcolor": "#E5ECF6",
           "caxis": {
            "gridcolor": "white",
            "linecolor": "white",
            "ticks": ""
           }
          },
          "title": {
           "x": 0.05
          },
          "xaxis": {
           "automargin": true,
           "gridcolor": "white",
           "linecolor": "white",
           "ticks": "",
           "title": {
            "standoff": 15
           },
           "zerolinecolor": "white",
           "zerolinewidth": 2
          },
          "yaxis": {
           "automargin": true,
           "gridcolor": "white",
           "linecolor": "white",
           "ticks": "",
           "title": {
            "standoff": 15
           },
           "zerolinecolor": "white",
           "zerolinewidth": 2
          }
         }
        },
        "title": {
         "text": "table2 年間収入との比率"
        },
        "width": 1000,
        "xaxis": {
         "anchor": "y",
         "domain": [
          0,
          0.45
         ]
        },
        "xaxis2": {
         "anchor": "y2",
         "domain": [
          0.55,
          1
         ]
        },
        "xaxis3": {
         "anchor": "y3",
         "domain": [
          0,
          0.45
         ]
        },
        "xaxis4": {
         "anchor": "y4",
         "domain": [
          0.55,
          1
         ]
        },
        "yaxis": {
         "anchor": "x",
         "domain": [
          0.625,
          1
         ],
         "title": {
          "text": "百万円"
         }
        },
        "yaxis2": {
         "anchor": "x2",
         "domain": [
          0.625,
          1
         ],
         "title": {
          "text": "百万円"
         }
        },
        "yaxis3": {
         "anchor": "x3",
         "domain": [
          0,
          0.375
         ],
         "title": {
          "text": "％"
         }
        },
        "yaxis4": {
         "anchor": "x4",
         "domain": [
          0,
          0.375
         ]
        }
       }
      },
      "text/html": [
       "<div>                            <div id=\"ab60491d-683d-4cc9-bd47-a697f49a2c97\" class=\"plotly-graph-div\" style=\"height:1100px; width:1000px;\"></div>            <script type=\"text/javascript\">                require([\"plotly\"], function(Plotly) {                    window.PLOTLYENV=window.PLOTLYENV || {};                                    if (document.getElementById(\"ab60491d-683d-4cc9-bd47-a697f49a2c97\")) {                    Plotly.newPlot(                        \"ab60491d-683d-4cc9-bd47-a697f49a2c97\",                        [{\"x\":[\"\\u77f3\\u6cb9\\u30fb\\u77f3\\u70ad\\u30fb\\uff8c\\uff9f\\uff97\\uff7d\\uff81\\uff6f\\uff78\\u88fd\\u54c1\\u88fd\\u9020\\u696d\",\"\\u6620\\u50cf\\u30fb\\u97f3\\u58f0\\u60c5\\u5831\\u5236\\u4f5c\\u30fb\\u653e\\u9001\\u30fb\\u901a\\u4fe1\\u696d\",\"\\u8f38\\u9001\\u7528\\u6a5f\\u68b0\\u5668\\u5177\\u88fd\\u9020\\u696d\",\"\\u91d1\\u878d\\u696d\\u30fb\\u4fdd\\u967a\\u696d\",\"\\u96fb\\u6c17\\u30fb\\u30ac\\u30b9\\u30fb\\u71b1\\u4f9b\\u7d66\\u30fb\\u6c34\\u9053\\u696d\",\"\\u60c5\\u5831\\u901a\\u4fe1\\u6a5f\\u68b0\\u5668\\u5177\\u88fd\\u9020\\u696d\",\"\\u9244\\u92fc\\u696d\",\"\\u5316\\u5b66\\u5de5\\u696d\",\"\\u96fb\\u6c17\\u6a5f\\u68b0\\u5668\\u5177\\u88fd\\u9020\\u696d\",\"\\u305d\\u306e\\u4ed6\\u6a5f\\u68b0\\u5668\\u5177\\u88fd\\u9020\\u696d\",\"\\u60c5\\u5831\\u30b5\\u30fc\\u30d3\\u30b9\\u696d\",\"\\u305d\\u306e\\u4ed6\\u306e\\u88fd\\u9020\\u696d\",\"\\u5378\\u58f2\\u696d\",\"\\u904b\\u8f38\\u696d\\u30fb\\u90f5\\u4fbf\\u696d\",\"\\u975e\\u9244\\u91d1\\u5c5e\\u88fd\\u54c1\\u30fb\\u91d1\\u5c5e\\u88fd\\u54c1\\u88fd\\u9020\\u696d\",\"\\u98df\\u6599\\u54c1\\u3001\\u98f2\\u6599\\u30fb\\u305f\\u3070\\u3053\\u30fb\\u98fc\\u6599\\u88fd\\u9020\\u696d\",\"\\u7aaf\\u696d\\u30fb\\u571f\\u77f3\\u88fd\\u54c1\\u88fd\\u9020\\u696d\",\"\\u65b0\\u805e\\u30fb\\u51fa\\u7248\\u696d\",\"\\u5c0f\\u58f2\\u696d\",\"\\u30d1\\u30eb\\u30d7\\u30fb\\u7d19\\u30fb\\u7d19\\u52a0\\u5de5\\u54c1\\u88fd\\u9020\\u696d\",\"\\u305d\\u306e\\u4ed6\\u306e\\u975e\\u88fd\\u9020\\u696d\",\"\\u5efa\\u8a2d\\u696d\",\"\\u533b\\u7642\\u696d\\uff08\\u56fd\\u30fb\\u516c\\u7acb\\u9664\\u304f\\uff09\",\"\\u7e4a\\u7dad\\u5de5\\u696d\",\"\\u6559\\u80b2\\uff08\\u56fd\\u30fb\\u516c\\u7acb\\u9664\\u304f\\uff09\\u3001\\u5b66\\u7fd2\\u652f\\u63f4\\u696d\",\"\\u8fb2\\u6797\\u6f01\\u696d\\u30fb\\u540c\\u5354\\u540c\\u7d44\\u5408\\u3001\\u9271\\u696d\"],\"y\":[4778.227272727273,4634.857142857143,3855.5178571428573,3274.231818181818,2435.2105263157896,2048.0045454545457,1842.2777777777778,1466.3478260869565,1203.2857142857142,737.016129032258,722.6934782608696,709.078947368421,687.3884892086331,635.659067357513,622.4605263157895,552.2835820895523,477.25,433.57142857142856,424.77070063694265,417.2,297.8621247113164,264.1046511627907,179.66666666666666,36.22222222222222,26.5,14.75],\"type\":\"bar\",\"xaxis\":\"x\",\"yaxis\":\"y\"},{\"x\":[\"\\u8f38\\u9001\\u7528\\u6a5f\\u68b0\\u5668\\u5177\\u88fd\\u9020\\u696d\",\"\\u9244\\u92fc\\u696d\",\"\\u6620\\u50cf\\u30fb\\u97f3\\u58f0\\u60c5\\u5831\\u5236\\u4f5c\\u30fb\\u653e\\u9001\\u30fb\\u901a\\u4fe1\\u696d\",\"\\u96fb\\u6c17\\u30fb\\u30ac\\u30b9\\u30fb\\u71b1\\u4f9b\\u7d66\\u30fb\\u6c34\\u9053\\u696d\",\"\\u5378\\u58f2\\u696d\",\"\\u5316\\u5b66\\u5de5\\u696d\",\"\\u60c5\\u5831\\u901a\\u4fe1\\u6a5f\\u68b0\\u5668\\u5177\\u88fd\\u9020\\u696d\",\"\\u96fb\\u6c17\\u6a5f\\u68b0\\u5668\\u5177\\u88fd\\u9020\\u696d\",\"\\u91d1\\u878d\\u696d\\u30fb\\u4fdd\\u967a\\u696d\",\"\\u98df\\u6599\\u54c1\\u3001\\u98f2\\u6599\\u30fb\\u305f\\u3070\\u3053\\u30fb\\u98fc\\u6599\\u88fd\\u9020\\u696d\",\"\\u30d1\\u30eb\\u30d7\\u30fb\\u7d19\\u30fb\\u7d19\\u52a0\\u5de5\\u54c1\\u88fd\\u9020\\u696d\",\"\\u975e\\u9244\\u91d1\\u5c5e\\u88fd\\u54c1\\u30fb\\u91d1\\u5c5e\\u88fd\\u54c1\\u88fd\\u9020\\u696d\",\"\\u305d\\u306e\\u4ed6\\u306e\\u88fd\\u9020\\u696d\",\"\\u305d\\u306e\\u4ed6\\u6a5f\\u68b0\\u5668\\u5177\\u88fd\\u9020\\u696d\",\"\\u7aaf\\u696d\\u30fb\\u571f\\u77f3\\u88fd\\u54c1\\u88fd\\u9020\\u696d\",\"\\u305d\\u306e\\u4ed6\\u306e\\u975e\\u88fd\\u9020\\u696d\",\"\\u5efa\\u8a2d\\u696d\",\"\\u5c0f\\u58f2\\u696d\",\"\\u77f3\\u6cb9\\u30fb\\u77f3\\u70ad\\u30fb\\uff8c\\uff9f\\uff97\\uff7d\\uff81\\uff6f\\uff78\\u88fd\\u54c1\\u88fd\\u9020\\u696d\",\"\\u904b\\u8f38\\u696d\\u30fb\\u90f5\\u4fbf\\u696d\",\"\\u65b0\\u805e\\u30fb\\u51fa\\u7248\\u696d\",\"\\u7e4a\\u7dad\\u5de5\\u696d\",\"\\u60c5\\u5831\\u30b5\\u30fc\\u30d3\\u30b9\\u696d\",\"\\u533b\\u7642\\u696d\\uff08\\u56fd\\u30fb\\u516c\\u7acb\\u9664\\u304f\\uff09\",\"\\u6559\\u80b2\\uff08\\u56fd\\u30fb\\u516c\\u7acb\\u9664\\u304f\\uff09\\u3001\\u5b66\\u7fd2\\u652f\\u63f4\\u696d\",\"\\u8fb2\\u6797\\u6f01\\u696d\\u30fb\\u540c\\u5354\\u540c\\u7d44\\u5408\\u3001\\u9271\\u696d\"],\"y\":[502414.78571428574,416577.94444444444,255855.33333333334,216057.84210526315,204424.89208633095,201764.28260869565,150257.72727272726,143205.11428571428,129803.15909090909,108692.67164179105,102359,97098,96179.65789473684,92155.64516129032,78355,75034.76212471131,64083.767441860466,63784.83439490446,46973.045454545456,38314.55958549223,28985.571428571428,25738.555555555555,23904.967391304348,5341,4181.75,4079],\"type\":\"bar\",\"xaxis\":\"x2\",\"yaxis\":\"y2\"},{\"x\":[\"\\u77f3\\u6cb9\\u30fb\\u77f3\\u70ad\\u30fb\\uff8c\\uff9f\\uff97\\uff7d\\uff81\\uff6f\\uff78\\u88fd\\u54c1\\u88fd\\u9020\\u696d\",\"\\u533b\\u7642\\u696d\\uff08\\u56fd\\u30fb\\u516c\\u7acb\\u9664\\u304f\\uff09\",\"\\u60c5\\u5831\\u30b5\\u30fc\\u30d3\\u30b9\\u696d\",\"\\u91d1\\u878d\\u696d\\u30fb\\u4fdd\\u967a\\u696d\",\"\\u6620\\u50cf\\u30fb\\u97f3\\u58f0\\u60c5\\u5831\\u5236\\u4f5c\\u30fb\\u653e\\u9001\\u30fb\\u901a\\u4fe1\\u696d\",\"\\u904b\\u8f38\\u696d\\u30fb\\u90f5\\u4fbf\\u696d\",\"\\u65b0\\u805e\\u30fb\\u51fa\\u7248\\u696d\",\"\\u60c5\\u5831\\u901a\\u4fe1\\u6a5f\\u68b0\\u5668\\u5177\\u88fd\\u9020\\u696d\",\"\\u96fb\\u6c17\\u30fb\\u30ac\\u30b9\\u30fb\\u71b1\\u4f9b\\u7d66\\u30fb\\u6c34\\u9053\\u696d\",\"\\u96fb\\u6c17\\u6a5f\\u68b0\\u5668\\u5177\\u88fd\\u9020\\u696d\",\"\\u305d\\u306e\\u4ed6\\u6a5f\\u68b0\\u5668\\u5177\\u88fd\\u9020\\u696d\",\"\\u8f38\\u9001\\u7528\\u6a5f\\u68b0\\u5668\\u5177\\u88fd\\u9020\\u696d\",\"\\u305d\\u306e\\u4ed6\\u306e\\u88fd\\u9020\\u696d\",\"\\u5316\\u5b66\\u5de5\\u696d\",\"\\u5c0f\\u58f2\\u696d\",\"\\u975e\\u9244\\u91d1\\u5c5e\\u88fd\\u54c1\\u30fb\\u91d1\\u5c5e\\u88fd\\u54c1\\u88fd\\u9020\\u696d\",\"\\u6559\\u80b2\\uff08\\u56fd\\u30fb\\u516c\\u7acb\\u9664\\u304f\\uff09\\u3001\\u5b66\\u7fd2\\u652f\\u63f4\\u696d\",\"\\u7aaf\\u696d\\u30fb\\u571f\\u77f3\\u88fd\\u54c1\\u88fd\\u9020\\u696d\",\"\\u98df\\u6599\\u54c1\\u3001\\u98f2\\u6599\\u30fb\\u305f\\u3070\\u3053\\u30fb\\u98fc\\u6599\\u88fd\\u9020\\u696d\",\"\\u9244\\u92fc\\u696d\",\"\\u5efa\\u8a2d\\u696d\",\"\\u30d1\\u30eb\\u30d7\\u30fb\\u7d19\\u30fb\\u7d19\\u52a0\\u5de5\\u54c1\\u88fd\\u9020\\u696d\",\"\\u305d\\u306e\\u4ed6\\u306e\\u975e\\u88fd\\u9020\\u696d\",\"\\u8fb2\\u6797\\u6f01\\u696d\\u30fb\\u540c\\u5354\\u540c\\u7d44\\u5408\\u3001\\u9271\\u696d\",\"\\u5378\\u58f2\\u696d\",\"\\u7e4a\\u7dad\\u5de5\\u696d\"],\"y\":[10.172274815247043,3.3639143730886847,3.023193742250224,2.5319024721406542,1.8115147659707997,1.6590535666713098,1.4958181164027422,1.362994491283159,1.127110454583434,0.8402533109851025,0.7997514723512992,0.767397371011175,0.7372441978785863,0.7267628378660118,0.6659430955124908,0.6410642096807241,0.6337059843367011,0.6090868483185502,0.5081148284860133,0.44224083448168894,0.4121241021018274,0.40758506824021334,0.3969655080884451,0.3616082373130669,0.33625478883380855,0.14073137144016543],\"type\":\"bar\",\"xaxis\":\"x3\",\"yaxis\":\"y3\"}],                        {\"template\":{\"data\":{\"bar\":[{\"error_x\":{\"color\":\"#2a3f5f\"},\"error_y\":{\"color\":\"#2a3f5f\"},\"marker\":{\"line\":{\"color\":\"#E5ECF6\",\"width\":0.5},\"pattern\":{\"fillmode\":\"overlay\",\"size\":10,\"solidity\":0.2}},\"type\":\"bar\"}],\"barpolar\":[{\"marker\":{\"line\":{\"color\":\"#E5ECF6\",\"width\":0.5},\"pattern\":{\"fillmode\":\"overlay\",\"size\":10,\"solidity\":0.2}},\"type\":\"barpolar\"}],\"carpet\":[{\"aaxis\":{\"endlinecolor\":\"#2a3f5f\",\"gridcolor\":\"white\",\"linecolor\":\"white\",\"minorgridcolor\":\"white\",\"startlinecolor\":\"#2a3f5f\"},\"baxis\":{\"endlinecolor\":\"#2a3f5f\",\"gridcolor\":\"white\",\"linecolor\":\"white\",\"minorgridcolor\":\"white\",\"startlinecolor\":\"#2a3f5f\"},\"type\":\"carpet\"}],\"choropleth\":[{\"colorbar\":{\"outlinewidth\":0,\"ticks\":\"\"},\"type\":\"choropleth\"}],\"contour\":[{\"colorbar\":{\"outlinewidth\":0,\"ticks\":\"\"},\"colorscale\":[[0.0,\"#0d0887\"],[0.1111111111111111,\"#46039f\"],[0.2222222222222222,\"#7201a8\"],[0.3333333333333333,\"#9c179e\"],[0.4444444444444444,\"#bd3786\"],[0.5555555555555556,\"#d8576b\"],[0.6666666666666666,\"#ed7953\"],[0.7777777777777778,\"#fb9f3a\"],[0.8888888888888888,\"#fdca26\"],[1.0,\"#f0f921\"]],\"type\":\"contour\"}],\"contourcarpet\":[{\"colorbar\":{\"outlinewidth\":0,\"ticks\":\"\"},\"type\":\"contourcarpet\"}],\"heatmap\":[{\"colorbar\":{\"outlinewidth\":0,\"ticks\":\"\"},\"colorscale\":[[0.0,\"#0d0887\"],[0.1111111111111111,\"#46039f\"],[0.2222222222222222,\"#7201a8\"],[0.3333333333333333,\"#9c179e\"],[0.4444444444444444,\"#bd3786\"],[0.5555555555555556,\"#d8576b\"],[0.6666666666666666,\"#ed7953\"],[0.7777777777777778,\"#fb9f3a\"],[0.8888888888888888,\"#fdca26\"],[1.0,\"#f0f921\"]],\"type\":\"heatmap\"}],\"heatmapgl\":[{\"colorbar\":{\"outlinewidth\":0,\"ticks\":\"\"},\"colorscale\":[[0.0,\"#0d0887\"],[0.1111111111111111,\"#46039f\"],[0.2222222222222222,\"#7201a8\"],[0.3333333333333333,\"#9c179e\"],[0.4444444444444444,\"#bd3786\"],[0.5555555555555556,\"#d8576b\"],[0.6666666666666666,\"#ed7953\"],[0.7777777777777778,\"#fb9f3a\"],[0.8888888888888888,\"#fdca26\"],[1.0,\"#f0f921\"]],\"type\":\"heatmapgl\"}],\"histogram\":[{\"marker\":{\"pattern\":{\"fillmode\":\"overlay\",\"size\":10,\"solidity\":0.2}},\"type\":\"histogram\"}],\"histogram2d\":[{\"colorbar\":{\"outlinewidth\":0,\"ticks\":\"\"},\"colorscale\":[[0.0,\"#0d0887\"],[0.1111111111111111,\"#46039f\"],[0.2222222222222222,\"#7201a8\"],[0.3333333333333333,\"#9c179e\"],[0.4444444444444444,\"#bd3786\"],[0.5555555555555556,\"#d8576b\"],[0.6666666666666666,\"#ed7953\"],[0.7777777777777778,\"#fb9f3a\"],[0.8888888888888888,\"#fdca26\"],[1.0,\"#f0f921\"]],\"type\":\"histogram2d\"}],\"histogram2dcontour\":[{\"colorbar\":{\"outlinewidth\":0,\"ticks\":\"\"},\"colorscale\":[[0.0,\"#0d0887\"],[0.1111111111111111,\"#46039f\"],[0.2222222222222222,\"#7201a8\"],[0.3333333333333333,\"#9c179e\"],[0.4444444444444444,\"#bd3786\"],[0.5555555555555556,\"#d8576b\"],[0.6666666666666666,\"#ed7953\"],[0.7777777777777778,\"#fb9f3a\"],[0.8888888888888888,\"#fdca26\"],[1.0,\"#f0f921\"]],\"type\":\"histogram2dcontour\"}],\"mesh3d\":[{\"colorbar\":{\"outlinewidth\":0,\"ticks\":\"\"},\"type\":\"mesh3d\"}],\"parcoords\":[{\"line\":{\"colorbar\":{\"outlinewidth\":0,\"ticks\":\"\"}},\"type\":\"parcoords\"}],\"pie\":[{\"automargin\":true,\"type\":\"pie\"}],\"scatter\":[{\"marker\":{\"colorbar\":{\"outlinewidth\":0,\"ticks\":\"\"}},\"type\":\"scatter\"}],\"scatter3d\":[{\"line\":{\"colorbar\":{\"outlinewidth\":0,\"ticks\":\"\"}},\"marker\":{\"colorbar\":{\"outlinewidth\":0,\"ticks\":\"\"}},\"type\":\"scatter3d\"}],\"scattercarpet\":[{\"marker\":{\"colorbar\":{\"outlinewidth\":0,\"ticks\":\"\"}},\"type\":\"scattercarpet\"}],\"scattergeo\":[{\"marker\":{\"colorbar\":{\"outlinewidth\":0,\"ticks\":\"\"}},\"type\":\"scattergeo\"}],\"scattergl\":[{\"marker\":{\"colorbar\":{\"outlinewidth\":0,\"ticks\":\"\"}},\"type\":\"scattergl\"}],\"scattermapbox\":[{\"marker\":{\"colorbar\":{\"outlinewidth\":0,\"ticks\":\"\"}},\"type\":\"scattermapbox\"}],\"scatterpolar\":[{\"marker\":{\"colorbar\":{\"outlinewidth\":0,\"ticks\":\"\"}},\"type\":\"scatterpolar\"}],\"scatterpolargl\":[{\"marker\":{\"colorbar\":{\"outlinewidth\":0,\"ticks\":\"\"}},\"type\":\"scatterpolargl\"}],\"scatterternary\":[{\"marker\":{\"colorbar\":{\"outlinewidth\":0,\"ticks\":\"\"}},\"type\":\"scatterternary\"}],\"surface\":[{\"colorbar\":{\"outlinewidth\":0,\"ticks\":\"\"},\"colorscale\":[[0.0,\"#0d0887\"],[0.1111111111111111,\"#46039f\"],[0.2222222222222222,\"#7201a8\"],[0.3333333333333333,\"#9c179e\"],[0.4444444444444444,\"#bd3786\"],[0.5555555555555556,\"#d8576b\"],[0.6666666666666666,\"#ed7953\"],[0.7777777777777778,\"#fb9f3a\"],[0.8888888888888888,\"#fdca26\"],[1.0,\"#f0f921\"]],\"type\":\"surface\"}],\"table\":[{\"cells\":{\"fill\":{\"color\":\"#EBF0F8\"},\"line\":{\"color\":\"white\"}},\"header\":{\"fill\":{\"color\":\"#C8D4E3\"},\"line\":{\"color\":\"white\"}},\"type\":\"table\"}]},\"layout\":{\"annotationdefaults\":{\"arrowcolor\":\"#2a3f5f\",\"arrowhead\":0,\"arrowwidth\":1},\"autotypenumbers\":\"strict\",\"coloraxis\":{\"colorbar\":{\"outlinewidth\":0,\"ticks\":\"\"}},\"colorscale\":{\"diverging\":[[0,\"#8e0152\"],[0.1,\"#c51b7d\"],[0.2,\"#de77ae\"],[0.3,\"#f1b6da\"],[0.4,\"#fde0ef\"],[0.5,\"#f7f7f7\"],[0.6,\"#e6f5d0\"],[0.7,\"#b8e186\"],[0.8,\"#7fbc41\"],[0.9,\"#4d9221\"],[1,\"#276419\"]],\"sequential\":[[0.0,\"#0d0887\"],[0.1111111111111111,\"#46039f\"],[0.2222222222222222,\"#7201a8\"],[0.3333333333333333,\"#9c179e\"],[0.4444444444444444,\"#bd3786\"],[0.5555555555555556,\"#d8576b\"],[0.6666666666666666,\"#ed7953\"],[0.7777777777777778,\"#fb9f3a\"],[0.8888888888888888,\"#fdca26\"],[1.0,\"#f0f921\"]],\"sequentialminus\":[[0.0,\"#0d0887\"],[0.1111111111111111,\"#46039f\"],[0.2222222222222222,\"#7201a8\"],[0.3333333333333333,\"#9c179e\"],[0.4444444444444444,\"#bd3786\"],[0.5555555555555556,\"#d8576b\"],[0.6666666666666666,\"#ed7953\"],[0.7777777777777778,\"#fb9f3a\"],[0.8888888888888888,\"#fdca26\"],[1.0,\"#f0f921\"]]},\"colorway\":[\"#636efa\",\"#EF553B\",\"#00cc96\",\"#ab63fa\",\"#FFA15A\",\"#19d3f3\",\"#FF6692\",\"#B6E880\",\"#FF97FF\",\"#FECB52\"],\"font\":{\"color\":\"#2a3f5f\"},\"geo\":{\"bgcolor\":\"white\",\"lakecolor\":\"white\",\"landcolor\":\"#E5ECF6\",\"showlakes\":true,\"showland\":true,\"subunitcolor\":\"white\"},\"hoverlabel\":{\"align\":\"left\"},\"hovermode\":\"closest\",\"mapbox\":{\"style\":\"light\"},\"paper_bgcolor\":\"white\",\"plot_bgcolor\":\"#E5ECF6\",\"polar\":{\"angularaxis\":{\"gridcolor\":\"white\",\"linecolor\":\"white\",\"ticks\":\"\"},\"bgcolor\":\"#E5ECF6\",\"radialaxis\":{\"gridcolor\":\"white\",\"linecolor\":\"white\",\"ticks\":\"\"}},\"scene\":{\"xaxis\":{\"backgroundcolor\":\"#E5ECF6\",\"gridcolor\":\"white\",\"gridwidth\":2,\"linecolor\":\"white\",\"showbackground\":true,\"ticks\":\"\",\"zerolinecolor\":\"white\"},\"yaxis\":{\"backgroundcolor\":\"#E5ECF6\",\"gridcolor\":\"white\",\"gridwidth\":2,\"linecolor\":\"white\",\"showbackground\":true,\"ticks\":\"\",\"zerolinecolor\":\"white\"},\"zaxis\":{\"backgroundcolor\":\"#E5ECF6\",\"gridcolor\":\"white\",\"gridwidth\":2,\"linecolor\":\"white\",\"showbackground\":true,\"ticks\":\"\",\"zerolinecolor\":\"white\"}},\"shapedefaults\":{\"line\":{\"color\":\"#2a3f5f\"}},\"ternary\":{\"aaxis\":{\"gridcolor\":\"white\",\"linecolor\":\"white\",\"ticks\":\"\"},\"baxis\":{\"gridcolor\":\"white\",\"linecolor\":\"white\",\"ticks\":\"\"},\"bgcolor\":\"#E5ECF6\",\"caxis\":{\"gridcolor\":\"white\",\"linecolor\":\"white\",\"ticks\":\"\"}},\"title\":{\"x\":0.05},\"xaxis\":{\"automargin\":true,\"gridcolor\":\"white\",\"linecolor\":\"white\",\"ticks\":\"\",\"title\":{\"standoff\":15},\"zerolinecolor\":\"white\",\"zerolinewidth\":2},\"yaxis\":{\"automargin\":true,\"gridcolor\":\"white\",\"linecolor\":\"white\",\"ticks\":\"\",\"title\":{\"standoff\":15},\"zerolinecolor\":\"white\",\"zerolinewidth\":2}}},\"xaxis\":{\"anchor\":\"y\",\"domain\":[0.0,0.45]},\"yaxis\":{\"anchor\":\"x\",\"domain\":[0.625,1.0],\"title\":{\"text\":\"\\u767e\\u4e07\\u5186\"}},\"xaxis2\":{\"anchor\":\"y2\",\"domain\":[0.55,1.0]},\"yaxis2\":{\"anchor\":\"x2\",\"domain\":[0.625,1.0],\"title\":{\"text\":\"\\u767e\\u4e07\\u5186\"}},\"xaxis3\":{\"anchor\":\"y3\",\"domain\":[0.0,0.45]},\"yaxis3\":{\"anchor\":\"x3\",\"domain\":[0.0,0.375],\"title\":{\"text\":\"\\uff05\"}},\"xaxis4\":{\"anchor\":\"y4\",\"domain\":[0.55,1.0]},\"yaxis4\":{\"anchor\":\"x4\",\"domain\":[0.0,0.375]},\"annotations\":[{\"font\":{\"size\":16},\"showarrow\":false,\"text\":\"1. IT\\u95a2\\u4fc2\\u8af8\\u7d4c\\u8cbb\",\"x\":0.225,\"xanchor\":\"center\",\"xref\":\"paper\",\"y\":1.0,\"yanchor\":\"bottom\",\"yref\":\"paper\"},{\"font\":{\"size\":16},\"showarrow\":false,\"text\":\"2. \\u5e74\\u9593\\u4e8b\\u696d\\u53ce\\u5165\",\"x\":0.775,\"xanchor\":\"center\",\"xref\":\"paper\",\"y\":1.0,\"yanchor\":\"bottom\",\"yref\":\"paper\"},{\"font\":{\"size\":16},\"showarrow\":false,\"text\":\"3. \\u5bfe\\u5e74\\u9593\\u4e8b\\u696d\\u53ce\\u5165\\u6bd4\",\"x\":0.225,\"xanchor\":\"center\",\"xref\":\"paper\",\"y\":0.375,\"yanchor\":\"bottom\",\"yref\":\"paper\"},{\"font\":{\"size\":16},\"showarrow\":false,\"text\":\"4. \",\"x\":0.775,\"xanchor\":\"center\",\"xref\":\"paper\",\"y\":0.375,\"yanchor\":\"bottom\",\"yref\":\"paper\"}],\"title\":{\"text\":\"table2 \\u5e74\\u9593\\u53ce\\u5165\\u3068\\u306e\\u6bd4\\u7387\"},\"height\":1100,\"width\":1000},                        {\"responsive\": true}                    ).then(function(){\n",
       "                            \n",
       "var gd = document.getElementById('ab60491d-683d-4cc9-bd47-a697f49a2c97');\n",
       "var x = new MutationObserver(function (mutations, observer) {{\n",
       "        var display = window.getComputedStyle(gd).display;\n",
       "        if (!display || display === 'none') {{\n",
       "            console.log([gd, 'removed!']);\n",
       "            Plotly.purge(gd);\n",
       "            observer.disconnect();\n",
       "        }}\n",
       "}});\n",
       "\n",
       "// Listen for the removal of the full notebook cells\n",
       "var notebookContainer = gd.closest('#notebook-container');\n",
       "if (notebookContainer) {{\n",
       "    x.observe(notebookContainer, {childList: true});\n",
       "}}\n",
       "\n",
       "// Listen for the clearing of the current output cell\n",
       "var outputEl = gd.closest('.output');\n",
       "if (outputEl) {{\n",
       "    x.observe(outputEl, {childList: true});\n",
       "}}\n",
       "\n",
       "                        })                };                });            </script>        </div>"
      ]
     },
     "metadata": {},
     "output_type": "display_data"
    }
   ],
   "source": [
    "\n",
    "uriage_fig= make_subplots(rows=2, cols=2,\n",
    "                          #column_widths=[0.7, 0.3],\n",
    "                          subplot_titles=(\"1. IT関係諸経費\", \"2. 年間事業収入\" ,\"3. 対年間事業収入比\", \"4. \"),\n",
    "                          #specs=[[{\"secondary_y\":True},{\"secondary_y\": True}],[{\"secondary_y\":True},{\"secondary_y\": True}]]\n",
    "                         ) \n",
    "\n",
    "uriage_fig.update_layout(title_text=\"table2 年間収入とIT関連書経費の比率\", height=1100,width=1000)\n",
    "\n",
    "\n",
    "#可視化必要データへ整形\n",
    "df_v4_2tbl_melt_invst2 = df_v4_2tbl_melt[df_v4_2tbl_melt['groupe']=='IT関係諸経費(百万円)']\n",
    "df_v4_2tbl_melt_invst2 = df_v4_2tbl_melt_invst2.sort_values('value',ascending=False)\n",
    "\n",
    "df_v4_2tbl_melt_sales = df_v4_2tbl_melt[df_v4_2tbl_melt['groupe']=='年間事業収入（百万円）']\n",
    "df_v4_2tbl_melt_sales = df_v4_2tbl_melt_sales.sort_values('value',ascending=False)\n",
    "\n",
    "df_v4_2tbl_melt_invst_rate_persales = df_v4_2tbl_melt[df_v4_2tbl_melt['groupe']=='対年間事業収入比（％）']\n",
    "df_v4_2tbl_melt_invst_rate_persales = df_v4_2tbl_melt_invst_rate_persales.sort_values('value',ascending=False)\n",
    "\n",
    "#subplots 1-1\n",
    "uriage_fig.add_trace(go.Bar(x = df_v4_2tbl_melt_invst2['業種別'],y=df_v4_2tbl_melt_invst2['value']),row=1, col=1)\n",
    "\n",
    "#subplots 1-2\n",
    "uriage_fig.add_trace(go.Bar(x = df_v4_2tbl_melt_sales['業種別'],y=df_v4_2tbl_melt_sales['value'],),row=1, col=2)\n",
    "\n",
    "#subplots 2-1\n",
    "uriage_fig.add_trace(go.Bar(x = df_v4_2tbl_melt_invst_rate_persales['業種別'],y=df_v4_2tbl_melt_invst_rate_persales['value']),row=2, col=1)\n",
    "\n",
    "#subplots 2-2\n",
    "\n",
    "\n",
    "\n",
    "#データを並び替え 1つ目のグラフのみしかソートできないので、使わない。。。\n",
    "#uriage_fig.update_layout(xaxis={'categoryorder':'total descending'})\n",
    "\n",
    "#layout\n",
    "uriage_fig.update_yaxes(title=\"百万円\",row=1, col=1)\n",
    "uriage_fig.update_yaxes(title=\"百万円\",row=1, col=2)\n",
    "uriage_fig.update_yaxes(title=\"％\", row=2, col=1)\n",
    "\n",
    "##　石油石炭製品製造業は売上の中でのIT投資比率がダントツ高い。これは何故？？？\n",
    "#その他の医療、情報サービス、金融業、メディア・放送はわかる。"
   ]
  },
  {
   "cell_type": "code",
   "execution_count": null,
   "metadata": {},
   "outputs": [],
   "source": []
  },
  {
   "cell_type": "code",
   "execution_count": null,
   "metadata": {},
   "outputs": [],
   "source": []
  },
  {
   "cell_type": "code",
   "execution_count": null,
   "metadata": {},
   "outputs": [],
   "source": []
  },
  {
   "cell_type": "code",
   "execution_count": null,
   "metadata": {},
   "outputs": [],
   "source": []
  },
  {
   "cell_type": "code",
   "execution_count": null,
   "metadata": {},
   "outputs": [],
   "source": []
  }
 ],
 "metadata": {
  "colab": {
   "name": "plotly_py.ipynb",
   "provenance": []
  },
  "kernelspec": {
   "display_name": "Python 3 (ipykernel)",
   "language": "python",
   "name": "python3"
  },
  "language_info": {
   "codemirror_mode": {
    "name": "ipython",
    "version": 3
   },
   "file_extension": ".py",
   "mimetype": "text/x-python",
   "name": "python",
   "nbconvert_exporter": "python",
   "pygments_lexer": "ipython3",
   "version": "3.9.7"
  }
 },
 "nbformat": 4,
 "nbformat_minor": 1
}
