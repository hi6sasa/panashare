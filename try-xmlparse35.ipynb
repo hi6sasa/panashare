{
 "cells": [
  {
   "cell_type": "code",
   "execution_count": 16,
   "id": "b4da01aa",
   "metadata": {
    "scrolled": false
   },
   "outputs": [
    {
     "name": "stdout",
     "output_type": "stream",
     "text": [
      "############# DWH_ora_23288_20231213100338343742161532.xml\n",
      "file 8 rows have been appended to output_data.csv.\n",
      "############# DWH_ora_24378_20231213100830368940366409.xml\n",
      "file 315 rows have been appended to output_data.csv.\n",
      "############# DWH_ora_24203_20231213100736371452344179.xml\n",
      "file 330 rows have been appended to output_data.csv.\n",
      "Total 330 rows have been appended to output_data.csv.\n"
     ]
    }
   ],
   "source": [
    "import os\n",
    "import xmltodict\n",
    "import csv\n",
    "\n",
    "# CSVファイルの出力先\n",
    "output_file = \"output_data.csv\"\n",
    "\n",
    "# 抽出したい文字列\n",
    "user_name_to_extract = \"HANBAI\"\n",
    "timestamp_to_extract_s = \"2023-12-13T01:00:25.744452Z\"\n",
    "timestamp_to_extract_e = \"2023-12-13T01:09:50.744452Z\"\n",
    "\n",
    "# 抽出する要素の指定\n",
    "#elements_to_extract = ['Session_Id','EntryId','DB_User', 'Userhost','Extended_Timestamp','Comment_Text','DBID']\n",
    "elements_to_extract = ['Session_Id','EntryId','DB_User', 'Userhost','Extended_Timestamp','Comment_Text','DBID','Sql_Text']\n",
    "\n",
    "# CSVファイルへの追記関数\n",
    "def append_to_csv(extracted_data, processed_rows):\n",
    "    with open(output_file, 'a', newline='') as csvfile:\n",
    "        fieldnames = elements_to_extract\n",
    "        writer = csv.DictWriter(csvfile, fieldnames=fieldnames)\n",
    "\n",
    "        # ヘッダーの追記\n",
    "        if csvfile.tell() == 0:  \n",
    "            writer.writeheader()\n",
    "\n",
    "        # CSVファイルへの書き込み\n",
    "        row = {}\n",
    "        for field in fieldnames:\n",
    "            row[field] = extracted_data.get(field, '')  \n",
    "        writer.writerow(row)\n",
    "\n",
    "# 処理した行数をカウントする変数\n",
    "processed_rows = 0\n",
    "\n",
    "# 指定されたフォルダ内のすべてのXMLファイルを処理\n",
    "folder_path = \"./data\"\n",
    "for filename in os.listdir(folder_path):\n",
    "    if filename.endswith(\".xml\"):\n",
    "        # XMLファイルを読み込み、XML_DATAに追加\n",
    "        with open(os.path.join(folder_path, filename), \"r\") as xml_file:\n",
    "            XML_DATA = xml_file.read()\n",
    "\n",
    "        parsed = xmltodict.parse(XML_DATA)\n",
    "\n",
    "        print('#############',filename)\n",
    "        # 指定された文字列の場合にデータを抽出する\n",
    "        for rdata in parsed['Audit']['AuditRecord']:\n",
    "            extracted_data = {}\n",
    "            for element in elements_to_extract:\n",
    "                extracted_data[element] = rdata.get(element, '')  \n",
    "\n",
    "            if (rdata['DB_User'] == user_name_to_extract) and \\\n",
    "                rdata['Extended_Timestamp'] >= timestamp_to_extract_s and \\\n",
    "                rdata['Extended_Timestamp'] <= timestamp_to_extract_e:\n",
    "                # CSVファイルへの追記\n",
    "                append_to_csv(extracted_data, processed_rows)\n",
    "                processed_rows += 1  \n",
    "\n",
    "                #print(f\"{', '.join(elements_to_extract)} data for {user_name_to_extract} from {filename} has been appended to {output_file}\")\n",
    "\n",
    "        # 処理した行数を出力\n",
    "        print(f\"file {processed_rows} rows have been appended to {output_file}.\")\n",
    "\n",
    "print(f\"Total {processed_rows} rows have been appended to {output_file}.\")\n",
    "# 処理した行数もCSVファイルに追記\n",
    "with open(output_file, 'a', newline='') as csvfile:\n",
    "    writer = csv.writer(csvfile)\n",
    "    writer.writerow([f\"Processed Rows:{processed_rows} finished!\"])\n"
   ]
  },
  {
   "cell_type": "code",
   "execution_count": 17,
   "id": "98c64c68",
   "metadata": {},
   "outputs": [],
   "source": [
    "import pandas as pd\n",
    "# CSVファイルの読み込み\n",
    "df = pd.read_csv(\"output_data.csv\")\n",
    "df = df.reset_index()\n",
    "df = df.rename(columns = {\"index\":\"parsedlog_num\"})\n",
    "#df.info(),df.head(10)"
   ]
  },
  {
   "cell_type": "markdown",
   "id": "ff2fd6be",
   "metadata": {},
   "source": [
    "## date cleazing"
   ]
  },
  {
   "cell_type": "code",
   "execution_count": 18,
   "id": "7eb288fe",
   "metadata": {},
   "outputs": [],
   "source": [
    "#結合キーparsedlog_numとSQLのみ抽出したdf2を生成\n",
    "#データクレンジングしたdf3を生成\n",
    "df2 = df.loc[:,[\"parsedlog_num\",\"Sql_Text\"]]\n",
    "#print(df2.head())\n",
    "#print(df2['Sql_Text'].isnull().any())\n",
    "#print(df2['Sql_Text'].isnull())\n",
    "#print(df2['Sql_Text'].dropna(how='any'))\n",
    "df3 = df2.dropna(how='any')\n",
    "#df3.head(10)\n",
    "# dfs = df3['Sql_Text']\n",
    "# print(dfs.isnull().any())\n",
    "# dfs.info(),dfs\n",
    "\n",
    "# for i,v in dfs.items():\n",
    "#    print(i,v)"
   ]
  },
  {
   "cell_type": "markdown",
   "id": "848930c2",
   "metadata": {},
   "source": [
    "## 正規表現で取得\n",
    "- スキーマ名とエイリアス無しのスキーマ名.テーブル名も取得可能\n",
    "- where区なくても取得可能\n",
    "- 最後に\"A1\"'の場合は、エイリアス取得できない。\"A1\" 'なら取得可能。\n",
    "    sql99 = 'SELECT COUNT(*) FROM \"全社大_自社需要_ビＳ\".\"料金内訳履歴\" \"A1\"'\n",
    "- 解釈\n",
    "table_names_with_aliases = re.findall(r'(?:\\s*\"([^\"]+)\"\\s*\\.)?\\s*\"([^\"]+)\"(?:\\s+\"([^\"]+)\")?', from_section)\n",
    "(?: ... )? は、グループ全体がオプションであることを示します。すなわち、グループ内のパターンが0回または1回の繰り返しとなります。\n",
    "\": ダブルクォート（\"）をマッチします。([^\"]+): ダブルクォート以外の文字列（\"を含まない）をキャプチャします。[^\"]はダブルクォート以外の文字を表し、+は1回以上の繰り返しを表します。\n",
    "\\s*: 0個以上の空白文字（空白、タブ、改行）をマッチします。\n",
    "\\.: ピリオド（.）をマッチします。\n",
    "\\s*: 0個以上の空白文字（空白、タブ、改行）をマッチします。\n",
    "\"([^\"]+)\": 同様にダブルクォートで囲まれた文字列をキャプチャします。\n",
    "(?:\\s+\"([^\"]+)\")?: オプションの部分グループです。0回または1回の繰り返しを表します。これは、スペースに続いてダブルクォートで囲まれた文字列をキャプチャします。\n",
    "\n"
   ]
  },
  {
   "cell_type": "code",
   "execution_count": 19,
   "id": "aba7f18b",
   "metadata": {},
   "outputs": [],
   "source": [
    "#SQL解析　閲覧テーブル抽出\n",
    "import re\n",
    "\n",
    "c = 1\n",
    "hist_tables = []\n",
    "#print(df3.info(),df3.head())\n",
    "for row in df3.itertuples(): \n",
    "    #print(row[0],row[1],row[2])\n",
    "    #print(\"i====\",i,\"v=====\",type(v),v.info())\n",
    "    sql_text = row[2]\n",
    "    #sql_text = df['Sql_Text'][1]\n",
    "    # sql_text = 'SELECT * FROM \\\n",
    "    #  \"全社大_自社需要_ビＳ\".\"需給単位\" \"A3\"\\\n",
    "    #  , \"全社大_自社需要_ビＳ\".\"需給契約\" \"A2\"\\\n",
    "    #  ,\"全社大_自社需要_ビＳ\".\"料金内訳履歴\" \"A1\" \\\n",
    "    #  WHERE = 1;'\n",
    "    #sql_text = 'SELECT DISTINCT \"A1\".\"営業所コード\",\"A1\".\"需給単位一連番号\",\"A1\".\"需給単位枝番号\",\"A1\".\"需給契約一連番号\",\"A3\".\"契約種別コード\",\"A2\".\"業種コード\",\"A2\".\"使用者_お客さま名漢字\",\"A2\".\"使用者_お客さま名カナ\",\"A3\".\"使用場所_住所\",\"A3\".\"使用場所_住所コード\",\"A3\".\"標準住所補足_街区_番地\",\"A3\".\"標準住所補足_番号_枝\",\"A3\".\"標準住所補足_アパートビル名\",\"A3\".\"標準住所補足_部屋番号\",\"A3\".\"非標準住所補足\",\"A1\".\"支払方法コード\",\"A1\".\"支払者番号\",\"A2\".\"支払お客さま番号\",\"A1\".\"支払者肩書漢字名\",\"A1\".\"支払者肩書カナ名\",\"A1\".\"支払者漢字名\",\"A1\".\"支払者カナ名\",\"A1\".\"郵便番号\",\"A1\".\"住所コード\",\"A1\".\"支払場所漢字\",\"A1\".\"住所補足街区漢字\",\"A1\".\"住所補足枝番漢字\",\"A1\".\"アパートビル名\",\"A1\".\"部屋番号\",\"A1\".\"非標準住所補足漢字\",\"A1\".\"金融機関コード\",\"A1\".\"店舗コード\",\"A1\".\"預金種別コード\",\"A1\".\"口座番号\",\"A1\".\"単価パターンコード\" FROM \"sasa2全社大_自社需要_ビＳ\".\"sasa2需給単位\",\"sasa全社大_自社需要_ビＳ\".\"sasa需給単位\" \"sasaA3\",\"全社大_自社需要_ビＳ\".\"需給単位\" \"A3\",\"全社大_自社需要_ビＳ\".\"需給契約\" \"A2\",\"全社大_自社需要_ビＳ\".\"料金内訳履歴\" \"A1\" WHERE \"A3\".\"営業所コード\"=\"A2\".\"営業所コード\" AND \"A3\".\"需給単位一連番号\"=\"A2\".\"需給単位一連番号\" AND \"A3\".\"需給単位枝番号\"=\"A2\".\"需給単位枝番号\" AND \"A2\".\"営業所コード\"=\"A1\".\"営業所コード\" AND \"A2\".\"需給単位一連番号\"=\"A1\".\"需給単位一連番号\" AND \"A2\".\"需給単位枝番号\"=\"A1\".\"需給単位枝番号\" AND \"A2\".\"需給契約一連番号\"=\"A1\".\"需給契約一連番号\" AND (\"A3\".\"需給単位一連番号\"=\\'61975180\\' AND \"A3\".\"需給単位枝番号\"=\\'1\\' OR \"A3\".\"需給単位一連番号\"=\\'61975201\\' AND \"A3\".\"需給単位枝番号\"=\\'2\\' OR \"A3\".\"需給単位一連番号\"=\\'61975201\\' AND \"A3\".\"需給単位枝番号\"=\\'3\\' OR \"A3\".\"需給単位一連番号\"=\\'61975203\\' AND \"A3\".\"需給単位枝番号\"=\\'1\\' OR \"A3\".\"需給単位一連番号\"=\\'61975203\\' AND \"A3\".\"需給単位枝番号\"=\\'2\\' OR \"A3\".\"需給単位一連番号\"=\\'62300361\\' AND \"A3\".\"需給単位枝番号\"=\\'1\\' OR \"A3\".\"需給単位一連番号\"=\\'20502220\\' AND \"A3\".\"需給単位枝番号\"=\\'1\\' OR \"A3\".\"需給単位一連番号\"=\\'20502220\\' AND \"A3\".\"需給単位枝番号\"=\\'2\\' OR \"A3\".\"需給単位一連番号\"=\\'67853548\\' AND \"A3\".\"需給単位枝番号\"=\\'1\\' OR \"A3\".\"需給単位一連番号\"=\\'67853548\\' AND \"A3\".\"需給単位枝番号\"=\\'2\\' OR \"A3\".\"需給単位一連番号\"=\\'66861640\\' AND \"A3\".\"需給単位枝番号\"=\\'1\\' OR \"A3\".\"需給単位一連番号\"=\\'66861640\\' AND \"A3\".\"需給単位枝番号\"=\\'2\\' OR \"A3\".\"需給単位一連番号\"=\\'67873728\\' AND \"A3\".\"需給単位枝番号\"=\\'2\\' OR \"A3\".\"需給単位一連番号\"=\\'64691547\\' AND \"A3\".\"需給単位枝番号\"=\\'1\\' OR \"A3\".\"需給単位一連番号\"=\\'52972553\\' AND \"A3\".\"需給単位枝番号\"=\\'1\\' OR \"A3\".\"需給単位一連番号\"=\\'64729950\\' AND \"A3\".\"需給単位枝番号\"=\\'1\\' OR \"A3\".\"需給単位一連番号\"=\\'64729951\\' AND \"A3\".\"需給単位枝番号\"=\\'1\\' OR \"A3\".\"需給単位一連番号\"=\\'64729952\\' AND \"A3\".\"需給単位枝番号\"=\\'1\\' OR \"A3\".\"需給単位一連番号\"=\\'10364800\\' AND \"A3\".\"需給単位枝番号\"=\\'1\\' OR \"A3\".\"需給単位一連番号\"=\\'10364809\\' AND \"A3\".\"需給単位枝番号\"=\\'2\\' OR \"A3\".\"需給単位一連番号\"=\\'10817789\\' AND \"A3\".\"需給単位枝番号\"=\\'1\\' OR \"A3\".\"需給単位一連番号\"=\\'10817790\\' AND \"A3\".\"需給単位枝番号\"=\\'1\\') AND \"A1\".\"料金計算年月\"=TO_CHAR(ADD_MONTHS(SYSDATE@!,(-1)),\\'yyyymm\\') AND \"A3\".\"契約廃止コード\"=\\'0\\' ORDER BY CASE  WHEN (\"A3\".\"契約種別コード\"=05 OR \"A3\".\"契約種別コード\"=07 OR \"A3\".\"契約種別コード\"=09 OR \"A3\".\"契約種別コード\"=10 OR \"A3\".\"契約種別コード\"=11 OR \"A3\".\"契約種別コード\"=19 OR \"A3\".\"契約種別コード\"=31 OR \"A3\".\"契約種別コード\"=83 OR \"A3\".\"契約種別コード\"=85) THEN 1 ELSE 2 END ,\"A3\".\"使用場所_住所\",\"A3\".\"使用場所_住所コード\",\"A3\".\"標準住所補足_街区_番地\",\"A3\".\"標準住所補足_番号_枝\",\"A3\".\"標準住所補足_アパートビル名\",\"A3\".\"標準住所補足_部屋番号\",\"A3\".\"非標準住所補足\",\"A1\".\"営業所コード\",\"A1\".\"需給単位一連番号\",\"A1\".\"需給単位枝番号\"'\n",
    "    #sql_text = 'select * FROM \"全社大\".\"sasa\" '\n",
    "    #sql_text = 'select * FROM \"sasa\" :'\n",
    "    # sql_text = 'select * FROM \"sasa\" \"A2\" :'\n",
    "\n",
    "    from_index = sql_text.find('FROM')\n",
    "    #print('from_index',from_index)\n",
    "    where_index = sql_text.find('WHERE') if 'WHERE' in sql_text else sql_text.find(';')\n",
    "    #print('where_index',where_index)\n",
    "    from_section = sql_text[from_index:where_index]\n",
    "    #print('from_section',from_section)\n",
    "\n",
    "    #スキーマ名.テーブル名は取得可能\n",
    "    table_names_with_aliases = re.findall(r'(?:\\s*\"([^\"]+)\"\\s*\\.)?\\s*\"([^\"]+)\"(?:\\s+\"([^\"]+)\")?', from_section)\n",
    "\n",
    "    #print('table_names_with_aliases',table_names_with_aliases)\n",
    "\n",
    "    temp_tables = []\n",
    "    for schema, table, alias in table_names_with_aliases:\n",
    "        temp_tables.append((row[1],schema, table, alias))\n",
    "        hist_tables.append((row[1],schema, table, alias))\n",
    "\n",
    "    #print(temp_tables)\n",
    "    #print(\"抽出されたテーブル:\"+f\"ループのカウント{c}\")\n",
    "#     for i, (row1,schema, table, alias) in enumerate(temp_tables, start=1):\n",
    "#         print(f\"parsedlog_num='{row1}' テーブル {i}: スキーマ名='{schema}', テーブル名='{table}', エイリアス名='{alias}'\")\n",
    "    \n",
    "    c = c+1\n",
    "        "
   ]
  },
  {
   "cell_type": "code",
   "execution_count": 20,
   "id": "9a247ad4",
   "metadata": {},
   "outputs": [
    {
     "name": "stdout",
     "output_type": "stream",
     "text": [
      "     parsedlog_num       schema   table alias\n",
      "0                1  全社大_自社需要_ビＳ    需給単位    A3\n",
      "1                1  全社大_自社需要_ビＳ    需給契約    A2\n",
      "2                1  全社大_自社需要_ビＳ  料金内訳履歴    A1\n",
      "3                2  全社大_自社需要_ビＳ    需給単位    A3\n",
      "4                2  全社大_自社需要_ビＳ    需給契約    A2\n",
      "..             ...          ...     ...   ...\n",
      "357            327  全社大_自社需要_ビＳ    需給単位    A3\n",
      "358            327  全社大_自社需要_ビＳ    需給契約    A2\n",
      "359            327  全社大_自社需要_ビＳ  料金内訳履歴    A1\n",
      "360            328  全社大_自社需要_ビＳ  料金内訳履歴      \n",
      "361            329  全社大_自社需要_ビＳ  料金内訳履歴      \n",
      "\n",
      "[362 rows x 4 columns]\n"
     ]
    }
   ],
   "source": [
    "#抽出した閲覧テーブルを元表へ結合しdf4を生成\n",
    "df_hist = pd.DataFrame(hist_tables,columns=['parsedlog_num', 'schema', 'table','alias'])\n",
    "print(df_hist)\n",
    "\n",
    "#完全外部結合でも差分は出ず、parsedlog_numで全行一致。\n",
    "df4 = pd.merge(df, df_hist, on='parsedlog_num', how='outer')\n",
    "#print(df4.info())\n",
    "#df4.tail(30)\n",
    "#df4.head(30)\n"
   ]
  },
  {
   "cell_type": "code",
   "execution_count": 22,
   "id": "d02289eb",
   "metadata": {},
   "outputs": [],
   "source": [
    "df5 = df4.dropna(how='any')\n",
    "#df5.head(10)"
   ]
  },
  {
   "cell_type": "code",
   "execution_count": 21,
   "id": "41caab72",
   "metadata": {},
   "outputs": [
    {
     "data": {
      "application/vnd.plotly.v1+json": {
       "config": {
        "plotlyServerURL": "https://plot.ly"
       },
       "data": [
        {
         "customdata": [
          [
           "HANBAI",
           "eigyt",
           null,
           null
          ],
          [
           "HANBAI",
           "eigyt",
           "全社大_自社需要_ビＳ",
           "需給単位"
          ],
          [
           "HANBAI",
           "eigyt",
           "全社大_自社需要_ビＳ",
           "需給契約"
          ],
          [
           "HANBAI",
           "eigyt",
           "全社大_自社需要_ビＳ",
           "料金内訳履歴"
          ],
          [
           "HANBAI",
           "eigyt",
           "全社大_自社需要_ビＳ",
           "需給単位"
          ],
          [
           "HANBAI",
           "eigyt",
           "全社大_自社需要_ビＳ",
           "需給契約"
          ],
          [
           "HANBAI",
           "eigyt",
           "全社大_自社需要_ビＳ",
           "料金内訳履歴"
          ],
          [
           "HANBAI",
           "eigyt",
           "全社大_自社需要_ビＳ",
           "需給単位"
          ],
          [
           "HANBAI",
           "eigyt",
           "全社大_自社需要_ビＳ",
           "需給契約"
          ],
          [
           "HANBAI",
           "eigyt",
           "全社大_自社需要_ビＳ",
           "料金内訳履歴"
          ],
          [
           "HANBAI",
           "eigyt",
           "全社大_自社需要_ビＳ",
           "需給単位"
          ],
          [
           "HANBAI",
           "eigyt",
           "全社大_自社需要_ビＳ",
           "需給契約"
          ],
          [
           "HANBAI",
           "eigyt",
           "全社大_自社需要_ビＳ",
           "料金内訳履歴"
          ],
          [
           "HANBAI",
           "eigyt",
           "全社大_自社需要_ビＳ",
           "需給単位"
          ],
          [
           "HANBAI",
           "eigyt",
           "全社大_自社需要_ビＳ",
           "需給契約"
          ],
          [
           "HANBAI",
           "eigyt",
           "全社大_自社需要_ビＳ",
           "料金内訳履歴"
          ],
          [
           "HANBAI",
           "eigyt",
           "全社大_自社需要_ビＳ",
           "需給単位"
          ],
          [
           "HANBAI",
           "eigyt",
           "全社大_自社需要_ビＳ",
           "需給契約"
          ],
          [
           "HANBAI",
           "eigyt",
           "全社大_自社需要_ビＳ",
           "料金内訳履歴"
          ],
          [
           "HANBAI",
           "eigyt",
           null,
           null
          ]
         ],
         "hovertemplate": "<b>%{hovertext}</b><br><br>Session_Id=246681550<br>Extended_Timestamp=%{x}<br>index=%{y}<br>DB_User=%{customdata[0]}<br>Userhost=%{customdata[1]}<br>schema=%{customdata[2]}<br>table=%{customdata[3]}<extra></extra>",
         "hovertext": [
          null,
          "需給単位",
          "需給契約",
          "料金内訳履歴",
          "需給単位",
          "需給契約",
          "料金内訳履歴",
          "需給単位",
          "需給契約",
          "料金内訳履歴",
          "需給単位",
          "需給契約",
          "料金内訳履歴",
          "需給単位",
          "需給契約",
          "料金内訳履歴",
          "需給単位",
          "需給契約",
          "料金内訳履歴",
          null
         ],
         "legendgroup": "246681550",
         "marker": {
          "color": "#636efa",
          "symbol": "circle"
         },
         "mode": "markers",
         "name": "246681550",
         "orientation": "v",
         "showlegend": true,
         "type": "scatter",
         "x": [
          "2023-12-13T01:03:38.343978Z",
          "2023-12-13T01:03:38.460576Z",
          "2023-12-13T01:03:38.460576Z",
          "2023-12-13T01:03:38.460576Z",
          "2023-12-13T01:03:38.460729Z",
          "2023-12-13T01:03:38.460729Z",
          "2023-12-13T01:03:38.460729Z",
          "2023-12-13T01:03:38.460827Z",
          "2023-12-13T01:03:38.460827Z",
          "2023-12-13T01:03:38.460827Z",
          "2023-12-13T01:03:38.460930Z",
          "2023-12-13T01:03:38.460930Z",
          "2023-12-13T01:03:38.460930Z",
          "2023-12-13T01:03:38.461026Z",
          "2023-12-13T01:03:38.461026Z",
          "2023-12-13T01:03:38.461026Z",
          "2023-12-13T01:03:38.461132Z",
          "2023-12-13T01:03:38.461132Z",
          "2023-12-13T01:03:38.461132Z",
          "2023-12-13T01:06:01.930066Z"
         ],
         "xaxis": "x",
         "y": [
          0,
          1,
          2,
          3,
          4,
          5,
          6,
          7,
          8,
          9,
          10,
          11,
          12,
          13,
          14,
          15,
          16,
          17,
          18,
          19
         ],
         "yaxis": "y"
        },
        {
         "customdata": [
          [
           "HANBAI",
           "eigyt",
           null,
           null
          ],
          [
           "HANBAI",
           "eigyt",
           "全社大_自社需要_ビＳ",
           "需給契約"
          ],
          [
           "HANBAI",
           "eigyt",
           "全社大_自社需要_ビＳ",
           "需給契約"
          ],
          [
           "HANBAI",
           "eigyt",
           "全社大_自社需要_ビＳ",
           "料金内訳履歴"
          ],
          [
           "HANBAI",
           "eigyt",
           "全社大_自社需要_ビＳ",
           "料金内訳履歴"
          ],
          [
           "HANBAI",
           "eigyt",
           "全社大_自社需要_ビＳ",
           "料金内訳履歴"
          ],
          [
           "HANBAI",
           "eigyt",
           "全社大_自社需要_ビＳ",
           "料金内訳履歴"
          ],
          [
           "HANBAI",
           "eigyt",
           "全社大_自社需要_ビＳ",
           "料金内訳履歴"
          ],
          [
           "HANBAI",
           "eigyt",
           "全社大_自社需要_ビＳ",
           "料金内訳履歴"
          ],
          [
           "HANBAI",
           "eigyt",
           "全社大_自社需要_ビＳ",
           "料金内訳履歴"
          ],
          [
           "HANBAI",
           "eigyt",
           "全社大_自社需要_ビＳ",
           "料金内訳履歴"
          ],
          [
           "HANBAI",
           "eigyt",
           "全社大_自社需要_ビＳ",
           "料金内訳履歴"
          ],
          [
           "HANBAI",
           "eigyt",
           "全社大_自社需要_ビＳ",
           "料金内訳履歴"
          ],
          [
           "HANBAI",
           "eigyt",
           "全社大_自社需要_ビＳ",
           "料金内訳履歴"
          ],
          [
           "HANBAI",
           "eigyt",
           "全社大_自社需要_ビＳ",
           "料金内訳履歴"
          ],
          [
           "HANBAI",
           "eigyt",
           "全社大_自社需要_ビＳ",
           "料金内訳履歴"
          ],
          [
           "HANBAI",
           "eigyt",
           "全社大_自社需要_ビＳ",
           "料金内訳履歴"
          ],
          [
           "HANBAI",
           "eigyt",
           "全社大_自社需要_ビＳ",
           "料金内訳履歴"
          ],
          [
           "HANBAI",
           "eigyt",
           "全社大_自社需要_ビＳ",
           "料金内訳履歴"
          ],
          [
           "HANBAI",
           "eigyt",
           "全社大_自社需要_ビＳ",
           "料金内訳履歴"
          ],
          [
           "HANBAI",
           "eigyt",
           "全社大_自社需要_ビＳ",
           "料金内訳履歴"
          ],
          [
           "HANBAI",
           "eigyt",
           "全社大_自社需要_ビＳ",
           "料金内訳履歴"
          ],
          [
           "HANBAI",
           "eigyt",
           "全社大_自社需要_ビＳ",
           "料金内訳履歴"
          ],
          [
           "HANBAI",
           "eigyt",
           "全社大_自社需要_ビＳ",
           "料金内訳履歴"
          ],
          [
           "HANBAI",
           "eigyt",
           "全社大_自社需要_ビＳ",
           "料金内訳履歴"
          ],
          [
           "HANBAI",
           "eigyt",
           "全社大_自社需要_ビＳ",
           "料金内訳履歴"
          ],
          [
           "HANBAI",
           "eigyt",
           "全社大_自社需要_ビＳ",
           "料金内訳履歴"
          ],
          [
           "HANBAI",
           "eigyt",
           "全社大_自社需要_ビＳ",
           "料金内訳履歴"
          ],
          [
           "HANBAI",
           "eigyt",
           "全社大_自社需要_ビＳ",
           "料金内訳履歴"
          ],
          [
           "HANBAI",
           "eigyt",
           "全社大_自社需要_ビＳ",
           "料金内訳履歴"
          ],
          [
           "HANBAI",
           "eigyt",
           "全社大_自社需要_ビＳ",
           "料金内訳履歴"
          ],
          [
           "HANBAI",
           "eigyt",
           "全社大_自社需要_ビＳ",
           "料金内訳履歴"
          ],
          [
           "HANBAI",
           "eigyt",
           "全社大_自社需要_ビＳ",
           "料金内訳履歴"
          ],
          [
           "HANBAI",
           "eigyt",
           "全社大_自社需要_ビＳ",
           "料金内訳履歴"
          ],
          [
           "HANBAI",
           "eigyt",
           "全社大_自社需要_ビＳ",
           "料金内訳履歴"
          ],
          [
           "HANBAI",
           "eigyt",
           "全社大_自社需要_ビＳ",
           "料金内訳履歴"
          ],
          [
           "HANBAI",
           "eigyt",
           "全社大_自社需要_ビＳ",
           "料金内訳履歴"
          ],
          [
           "HANBAI",
           "eigyt",
           "全社大_自社需要_ビＳ",
           "料金内訳履歴"
          ],
          [
           "HANBAI",
           "eigyt",
           "全社大_自社需要_ビＳ",
           "料金内訳履歴"
          ],
          [
           "HANBAI",
           "eigyt",
           "全社大_自社需要_ビＳ",
           "料金内訳履歴"
          ],
          [
           "HANBAI",
           "eigyt",
           "全社大_自社需要_ビＳ",
           "料金内訳履歴"
          ],
          [
           "HANBAI",
           "eigyt",
           "全社大_自社需要_ビＳ",
           "料金内訳履歴"
          ],
          [
           "HANBAI",
           "eigyt",
           "全社大_自社需要_ビＳ",
           "料金内訳履歴"
          ],
          [
           "HANBAI",
           "eigyt",
           "全社大_自社需要_ビＳ",
           "料金内訳履歴"
          ],
          [
           "HANBAI",
           "eigyt",
           "全社大_自社需要_ビＳ",
           "料金内訳履歴"
          ],
          [
           "HANBAI",
           "eigyt",
           "全社大_自社需要_ビＳ",
           "料金内訳履歴"
          ],
          [
           "HANBAI",
           "eigyt",
           "全社大_自社需要_ビＳ",
           "料金内訳履歴"
          ],
          [
           "HANBAI",
           "eigyt",
           "全社大_自社需要_ビＳ",
           "料金内訳履歴"
          ],
          [
           "HANBAI",
           "eigyt",
           "全社大_自社需要_ビＳ",
           "料金内訳履歴"
          ],
          [
           "HANBAI",
           "eigyt",
           "全社大_自社需要_ビＳ",
           "料金内訳履歴"
          ],
          [
           "HANBAI",
           "eigyt",
           "全社大_自社需要_ビＳ",
           "料金内訳履歴"
          ],
          [
           "HANBAI",
           "eigyt",
           "全社大_自社需要_ビＳ",
           "料金内訳履歴"
          ],
          [
           "HANBAI",
           "eigyt",
           "全社大_自社需要_ビＳ",
           "料金内訳履歴"
          ],
          [
           "HANBAI",
           "eigyt",
           "全社大_自社需要_ビＳ",
           "料金内訳履歴"
          ],
          [
           "HANBAI",
           "eigyt",
           "全社大_自社需要_ビＳ",
           "料金内訳履歴"
          ],
          [
           "HANBAI",
           "eigyt",
           "全社大_自社需要_ビＳ",
           "料金内訳履歴"
          ],
          [
           "HANBAI",
           "eigyt",
           "全社大_自社需要_ビＳ",
           "料金内訳履歴"
          ],
          [
           "HANBAI",
           "eigyt",
           "全社大_自社需要_ビＳ",
           "料金内訳履歴"
          ],
          [
           "HANBAI",
           "eigyt",
           "全社大_自社需要_ビＳ",
           "料金内訳履歴"
          ],
          [
           "HANBAI",
           "eigyt",
           "全社大_自社需要_ビＳ",
           "料金内訳履歴"
          ],
          [
           "HANBAI",
           "eigyt",
           "全社大_自社需要_ビＳ",
           "料金内訳履歴"
          ],
          [
           "HANBAI",
           "eigyt",
           "全社大_自社需要_ビＳ",
           "料金内訳履歴"
          ],
          [
           "HANBAI",
           "eigyt",
           "全社大_自社需要_ビＳ",
           "料金内訳履歴"
          ],
          [
           "HANBAI",
           "eigyt",
           "全社大_自社需要_ビＳ",
           "料金内訳履歴"
          ],
          [
           "HANBAI",
           "eigyt",
           "全社大_自社需要_ビＳ",
           "料金内訳履歴"
          ],
          [
           "HANBAI",
           "eigyt",
           "全社大_自社需要_ビＳ",
           "料金内訳履歴"
          ],
          [
           "HANBAI",
           "eigyt",
           "全社大_自社需要_ビＳ",
           "料金内訳履歴"
          ],
          [
           "HANBAI",
           "eigyt",
           "全社大_自社需要_ビＳ",
           "料金内訳履歴"
          ],
          [
           "HANBAI",
           "eigyt",
           "全社大_自社需要_ビＳ",
           "料金内訳履歴"
          ],
          [
           "HANBAI",
           "eigyt",
           "全社大_自社需要_ビＳ",
           "料金内訳履歴"
          ],
          [
           "HANBAI",
           "eigyt",
           "全社大_自社需要_ビＳ",
           "料金内訳履歴"
          ],
          [
           "HANBAI",
           "eigyt",
           "全社大_自社需要_ビＳ",
           "料金内訳履歴"
          ],
          [
           "HANBAI",
           "eigyt",
           "全社大_自社需要_ビＳ",
           "料金内訳履歴"
          ],
          [
           "HANBAI",
           "eigyt",
           "全社大_自社需要_ビＳ",
           "料金内訳履歴"
          ],
          [
           "HANBAI",
           "eigyt",
           "全社大_自社需要_ビＳ",
           "料金内訳履歴"
          ],
          [
           "HANBAI",
           "eigyt",
           "全社大_自社需要_ビＳ",
           "料金内訳履歴"
          ],
          [
           "HANBAI",
           "eigyt",
           "全社大_自社需要_ビＳ",
           "料金内訳履歴"
          ],
          [
           "HANBAI",
           "eigyt",
           "全社大_自社需要_ビＳ",
           "料金内訳履歴"
          ],
          [
           "HANBAI",
           "eigyt",
           "全社大_自社需要_ビＳ",
           "料金内訳履歴"
          ],
          [
           "HANBAI",
           "eigyt",
           "全社大_自社需要_ビＳ",
           "料金内訳履歴"
          ],
          [
           "HANBAI",
           "eigyt",
           "全社大_自社需要_ビＳ",
           "料金内訳履歴"
          ],
          [
           "HANBAI",
           "eigyt",
           "全社大_自社需要_ビＳ",
           "料金内訳履歴"
          ],
          [
           "HANBAI",
           "eigyt",
           "全社大_自社需要_ビＳ",
           "料金内訳履歴"
          ],
          [
           "HANBAI",
           "eigyt",
           "全社大_自社需要_ビＳ",
           "料金内訳履歴"
          ],
          [
           "HANBAI",
           "eigyt",
           "全社大_自社需要_ビＳ",
           "料金内訳履歴"
          ],
          [
           "HANBAI",
           "eigyt",
           "全社大_自社需要_ビＳ",
           "料金内訳履歴"
          ],
          [
           "HANBAI",
           "eigyt",
           "全社大_自社需要_ビＳ",
           "料金内訳履歴"
          ],
          [
           "HANBAI",
           "eigyt",
           "全社大_自社需要_ビＳ",
           "料金内訳履歴"
          ],
          [
           "HANBAI",
           "eigyt",
           "全社大_自社需要_ビＳ",
           "料金内訳履歴"
          ],
          [
           "HANBAI",
           "eigyt",
           "全社大_自社需要_ビＳ",
           "料金内訳履歴"
          ],
          [
           "HANBAI",
           "eigyt",
           "全社大_自社需要_ビＳ",
           "料金内訳履歴"
          ],
          [
           "HANBAI",
           "eigyt",
           "全社大_自社需要_ビＳ",
           "料金内訳履歴"
          ],
          [
           "HANBAI",
           "eigyt",
           "全社大_自社需要_ビＳ",
           "料金内訳履歴"
          ],
          [
           "HANBAI",
           "eigyt",
           "全社大_自社需要_ビＳ",
           "料金内訳履歴"
          ],
          [
           "HANBAI",
           "eigyt",
           "全社大_自社需要_ビＳ",
           "料金内訳履歴"
          ],
          [
           "HANBAI",
           "eigyt",
           "全社大_自社需要_ビＳ",
           "料金内訳履歴"
          ],
          [
           "HANBAI",
           "eigyt",
           "全社大_自社需要_ビＳ",
           "料金内訳履歴"
          ],
          [
           "HANBAI",
           "eigyt",
           "全社大_自社需要_ビＳ",
           "料金内訳履歴"
          ],
          [
           "HANBAI",
           "eigyt",
           "全社大_自社需要_ビＳ",
           "料金内訳履歴"
          ],
          [
           "HANBAI",
           "eigyt",
           "全社大_自社需要_ビＳ",
           "料金内訳履歴"
          ],
          [
           "HANBAI",
           "eigyt",
           "全社大_自社需要_ビＳ",
           "料金内訳履歴"
          ],
          [
           "HANBAI",
           "eigyt",
           "全社大_自社需要_ビＳ",
           "料金内訳履歴"
          ],
          [
           "HANBAI",
           "eigyt",
           "全社大_自社需要_ビＳ",
           "料金内訳履歴"
          ],
          [
           "HANBAI",
           "eigyt",
           "全社大_自社需要_ビＳ",
           "料金内訳履歴"
          ],
          [
           "HANBAI",
           "eigyt",
           "全社大_自社需要_ビＳ",
           "料金内訳履歴"
          ],
          [
           "HANBAI",
           "eigyt",
           "全社大_自社需要_ビＳ",
           "料金内訳履歴"
          ],
          [
           "HANBAI",
           "eigyt",
           "全社大_自社需要_ビＳ",
           "料金内訳履歴"
          ],
          [
           "HANBAI",
           "eigyt",
           "全社大_自社需要_ビＳ",
           "料金内訳履歴"
          ],
          [
           "HANBAI",
           "eigyt",
           "全社大_自社需要_ビＳ",
           "料金内訳履歴"
          ],
          [
           "HANBAI",
           "eigyt",
           "全社大_自社需要_ビＳ",
           "料金内訳履歴"
          ],
          [
           "HANBAI",
           "eigyt",
           "全社大_自社需要_ビＳ",
           "料金内訳履歴"
          ],
          [
           "HANBAI",
           "eigyt",
           "全社大_自社需要_ビＳ",
           "料金内訳履歴"
          ],
          [
           "HANBAI",
           "eigyt",
           "全社大_自社需要_ビＳ",
           "料金内訳履歴"
          ],
          [
           "HANBAI",
           "eigyt",
           "全社大_自社需要_ビＳ",
           "料金内訳履歴"
          ],
          [
           "HANBAI",
           "eigyt",
           "全社大_自社需要_ビＳ",
           "料金内訳履歴"
          ],
          [
           "HANBAI",
           "eigyt",
           "全社大_自社需要_ビＳ",
           "料金内訳履歴"
          ],
          [
           "HANBAI",
           "eigyt",
           "全社大_自社需要_ビＳ",
           "料金内訳履歴"
          ],
          [
           "HANBAI",
           "eigyt",
           "全社大_自社需要_ビＳ",
           "料金内訳履歴"
          ],
          [
           "HANBAI",
           "eigyt",
           "全社大_自社需要_ビＳ",
           "料金内訳履歴"
          ],
          [
           "HANBAI",
           "eigyt",
           "全社大_自社需要_ビＳ",
           "料金内訳履歴"
          ],
          [
           "HANBAI",
           "eigyt",
           "全社大_自社需要_ビＳ",
           "料金内訳履歴"
          ],
          [
           "HANBAI",
           "eigyt",
           "全社大_自社需要_ビＳ",
           "料金内訳履歴"
          ],
          [
           "HANBAI",
           "eigyt",
           "全社大_自社需要_ビＳ",
           "料金内訳履歴"
          ],
          [
           "HANBAI",
           "eigyt",
           "全社大_自社需要_ビＳ",
           "料金内訳履歴"
          ],
          [
           "HANBAI",
           "eigyt",
           "全社大_自社需要_ビＳ",
           "料金内訳履歴"
          ],
          [
           "HANBAI",
           "eigyt",
           "全社大_自社需要_ビＳ",
           "料金内訳履歴"
          ],
          [
           "HANBAI",
           "eigyt",
           "全社大_自社需要_ビＳ",
           "料金内訳履歴"
          ],
          [
           "HANBAI",
           "eigyt",
           "全社大_自社需要_ビＳ",
           "料金内訳履歴"
          ],
          [
           "HANBAI",
           "eigyt",
           "全社大_自社需要_ビＳ",
           "料金内訳履歴"
          ],
          [
           "HANBAI",
           "eigyt",
           "全社大_自社需要_ビＳ",
           "料金内訳履歴"
          ],
          [
           "HANBAI",
           "eigyt",
           "全社大_自社需要_ビＳ",
           "料金内訳履歴"
          ],
          [
           "HANBAI",
           "eigyt",
           "全社大_自社需要_ビＳ",
           "料金内訳履歴"
          ],
          [
           "HANBAI",
           "eigyt",
           "全社大_自社需要_ビＳ",
           "料金内訳履歴"
          ],
          [
           "HANBAI",
           "eigyt",
           "全社大_自社需要_ビＳ",
           "料金内訳履歴"
          ],
          [
           "HANBAI",
           "eigyt",
           "全社大_自社需要_ビＳ",
           "料金内訳履歴"
          ],
          [
           "HANBAI",
           "eigyt",
           "全社大_自社需要_ビＳ",
           "料金内訳履歴"
          ],
          [
           "HANBAI",
           "eigyt",
           "全社大_自社需要_ビＳ",
           "料金内訳履歴"
          ],
          [
           "HANBAI",
           "eigyt",
           "全社大_自社需要_ビＳ",
           "料金内訳履歴"
          ],
          [
           "HANBAI",
           "eigyt",
           "全社大_自社需要_ビＳ",
           "料金内訳履歴"
          ],
          [
           "HANBAI",
           "eigyt",
           "全社大_自社需要_ビＳ",
           "料金内訳履歴"
          ],
          [
           "HANBAI",
           "eigyt",
           "全社大_自社需要_ビＳ",
           "料金内訳履歴"
          ],
          [
           "HANBAI",
           "eigyt",
           "全社大_自社需要_ビＳ",
           "料金内訳履歴"
          ],
          [
           "HANBAI",
           "eigyt",
           "全社大_自社需要_ビＳ",
           "料金内訳履歴"
          ],
          [
           "HANBAI",
           "eigyt",
           "全社大_自社需要_ビＳ",
           "料金内訳履歴"
          ],
          [
           "HANBAI",
           "eigyt",
           "全社大_自社需要_ビＳ",
           "料金内訳履歴"
          ],
          [
           "HANBAI",
           "eigyt",
           "全社大_自社需要_ビＳ",
           "料金内訳履歴"
          ],
          [
           "HANBAI",
           "eigyt",
           "全社大_自社需要_ビＳ",
           "料金内訳履歴"
          ],
          [
           "HANBAI",
           "eigyt",
           "全社大_自社需要_ビＳ",
           "料金内訳履歴"
          ],
          [
           "HANBAI",
           "eigyt",
           "全社大_自社需要_ビＳ",
           "料金内訳履歴"
          ],
          [
           "HANBAI",
           "eigyt",
           "全社大_自社需要_ビＳ",
           "料金内訳履歴"
          ],
          [
           "HANBAI",
           "eigyt",
           "全社大_自社需要_ビＳ",
           "料金内訳履歴"
          ],
          [
           "HANBAI",
           "eigyt",
           "全社大_自社需要_ビＳ",
           "料金内訳履歴"
          ],
          [
           "HANBAI",
           "eigyt",
           "全社大_自社需要_ビＳ",
           "料金内訳履歴"
          ],
          [
           "HANBAI",
           "eigyt",
           "全社大_自社需要_ビＳ",
           "料金内訳履歴"
          ],
          [
           "HANBAI",
           "eigyt",
           "全社大_自社需要_ビＳ",
           "料金内訳履歴"
          ],
          [
           "HANBAI",
           "eigyt",
           "全社大_自社需要_ビＳ",
           "料金内訳履歴"
          ],
          [
           "HANBAI",
           "eigyt",
           "全社大_自社需要_ビＳ",
           "料金内訳履歴"
          ],
          [
           "HANBAI",
           "eigyt",
           "全社大_自社需要_ビＳ",
           "料金内訳履歴"
          ],
          [
           "HANBAI",
           "eigyt",
           "全社大_自社需要_ビＳ",
           "料金内訳履歴"
          ],
          [
           "HANBAI",
           "eigyt",
           "全社大_自社需要_ビＳ",
           "料金内訳履歴"
          ],
          [
           "HANBAI",
           "eigyt",
           "全社大_自社需要_ビＳ",
           "料金内訳履歴"
          ],
          [
           "HANBAI",
           "eigyt",
           "全社大_自社需要_ビＳ",
           "料金内訳履歴"
          ],
          [
           "HANBAI",
           "eigyt",
           "全社大_自社需要_ビＳ",
           "料金内訳履歴"
          ],
          [
           "HANBAI",
           "eigyt",
           "全社大_自社需要_ビＳ",
           "料金内訳履歴"
          ],
          [
           "HANBAI",
           "eigyt",
           "全社大_自社需要_ビＳ",
           "料金内訳履歴"
          ],
          [
           "HANBAI",
           "eigyt",
           "全社大_自社需要_ビＳ",
           "料金内訳履歴"
          ],
          [
           "HANBAI",
           "eigyt",
           "全社大_自社需要_ビＳ",
           "料金内訳履歴"
          ],
          [
           "HANBAI",
           "eigyt",
           "全社大_自社需要_ビＳ",
           "料金内訳履歴"
          ],
          [
           "HANBAI",
           "eigyt",
           "全社大_自社需要_ビＳ",
           "料金内訳履歴"
          ],
          [
           "HANBAI",
           "eigyt",
           "全社大_自社需要_ビＳ",
           "料金内訳履歴"
          ],
          [
           "HANBAI",
           "eigyt",
           "全社大_自社需要_ビＳ",
           "料金内訳履歴"
          ],
          [
           "HANBAI",
           "eigyt",
           "全社大_自社需要_ビＳ",
           "料金内訳履歴"
          ],
          [
           "HANBAI",
           "eigyt",
           "全社大_自社需要_ビＳ",
           "料金内訳履歴"
          ],
          [
           "HANBAI",
           "eigyt",
           "全社大_自社需要_ビＳ",
           "料金内訳履歴"
          ],
          [
           "HANBAI",
           "eigyt",
           "全社大_自社需要_ビＳ",
           "料金内訳履歴"
          ],
          [
           "HANBAI",
           "eigyt",
           "全社大_自社需要_ビＳ",
           "料金内訳履歴"
          ],
          [
           "HANBAI",
           "eigyt",
           "全社大_自社需要_ビＳ",
           "料金内訳履歴"
          ],
          [
           "HANBAI",
           "eigyt",
           "全社大_自社需要_ビＳ",
           "料金内訳履歴"
          ],
          [
           "HANBAI",
           "eigyt",
           "全社大_自社需要_ビＳ",
           "料金内訳履歴"
          ],
          [
           "HANBAI",
           "eigyt",
           "全社大_自社需要_ビＳ",
           "料金内訳履歴"
          ],
          [
           "HANBAI",
           "eigyt",
           "全社大_自社需要_ビＳ",
           "料金内訳履歴"
          ],
          [
           "HANBAI",
           "eigyt",
           "全社大_自社需要_ビＳ",
           "料金内訳履歴"
          ],
          [
           "HANBAI",
           "eigyt",
           "全社大_自社需要_ビＳ",
           "料金内訳履歴"
          ],
          [
           "HANBAI",
           "eigyt",
           "全社大_自社需要_ビＳ",
           "料金内訳履歴"
          ],
          [
           "HANBAI",
           "eigyt",
           "全社大_自社需要_ビＳ",
           "料金内訳履歴"
          ],
          [
           "HANBAI",
           "eigyt",
           "全社大_自社需要_ビＳ",
           "料金内訳履歴"
          ],
          [
           "HANBAI",
           "eigyt",
           "全社大_自社需要_ビＳ",
           "料金内訳履歴"
          ],
          [
           "HANBAI",
           "eigyt",
           "全社大_自社需要_ビＳ",
           "料金内訳履歴"
          ],
          [
           "HANBAI",
           "eigyt",
           "全社大_自社需要_ビＳ",
           "料金内訳履歴"
          ],
          [
           "HANBAI",
           "eigyt",
           "全社大_自社需要_ビＳ",
           "料金内訳履歴"
          ],
          [
           "HANBAI",
           "eigyt",
           "全社大_自社需要_ビＳ",
           "料金内訳履歴"
          ],
          [
           "HANBAI",
           "eigyt",
           "全社大_自社需要_ビＳ",
           "料金内訳履歴"
          ],
          [
           "HANBAI",
           "eigyt",
           "全社大_自社需要_ビＳ",
           "料金内訳履歴"
          ],
          [
           "HANBAI",
           "eigyt",
           "全社大_自社需要_ビＳ",
           "料金内訳履歴"
          ],
          [
           "HANBAI",
           "eigyt",
           "全社大_自社需要_ビＳ",
           "料金内訳履歴"
          ],
          [
           "HANBAI",
           "eigyt",
           "全社大_自社需要_ビＳ",
           "料金内訳履歴"
          ],
          [
           "HANBAI",
           "eigyt",
           "全社大_自社需要_ビＳ",
           "料金内訳履歴"
          ],
          [
           "HANBAI",
           "eigyt",
           "全社大_自社需要_ビＳ",
           "料金内訳履歴"
          ],
          [
           "HANBAI",
           "eigyt",
           "全社大_自社需要_ビＳ",
           "料金内訳履歴"
          ],
          [
           "HANBAI",
           "eigyt",
           "全社大_自社需要_ビＳ",
           "料金内訳履歴"
          ],
          [
           "HANBAI",
           "eigyt",
           "全社大_自社需要_ビＳ",
           "料金内訳履歴"
          ],
          [
           "HANBAI",
           "eigyt",
           "全社大_自社需要_ビＳ",
           "料金内訳履歴"
          ],
          [
           "HANBAI",
           "eigyt",
           "全社大_自社需要_ビＳ",
           "料金内訳履歴"
          ],
          [
           "HANBAI",
           "eigyt",
           "全社大_自社需要_ビＳ",
           "料金内訳履歴"
          ],
          [
           "HANBAI",
           "eigyt",
           "全社大_自社需要_ビＳ",
           "料金内訳履歴"
          ],
          [
           "HANBAI",
           "eigyt",
           "全社大_自社需要_ビＳ",
           "料金内訳履歴"
          ],
          [
           "HANBAI",
           "eigyt",
           "全社大_自社需要_ビＳ",
           "料金内訳履歴"
          ],
          [
           "HANBAI",
           "eigyt",
           "全社大_自社需要_ビＳ",
           "料金内訳履歴"
          ],
          [
           "HANBAI",
           "eigyt",
           "全社大_自社需要_ビＳ",
           "料金内訳履歴"
          ],
          [
           "HANBAI",
           "eigyt",
           "全社大_自社需要_ビＳ",
           "料金内訳履歴"
          ],
          [
           "HANBAI",
           "eigyt",
           "全社大_自社需要_ビＳ",
           "料金内訳履歴"
          ],
          [
           "HANBAI",
           "eigyt",
           "全社大_自社需要_ビＳ",
           "料金内訳履歴"
          ],
          [
           "HANBAI",
           "eigyt",
           "全社大_自社需要_ビＳ",
           "料金内訳履歴"
          ],
          [
           "HANBAI",
           "eigyt",
           "全社大_自社需要_ビＳ",
           "料金内訳履歴"
          ],
          [
           "HANBAI",
           "eigyt",
           "全社大_自社需要_ビＳ",
           "料金内訳履歴"
          ],
          [
           "HANBAI",
           "eigyt",
           "全社大_自社需要_ビＳ",
           "料金内訳履歴"
          ],
          [
           "HANBAI",
           "eigyt",
           "全社大_自社需要_ビＳ",
           "料金内訳履歴"
          ],
          [
           "HANBAI",
           "eigyt",
           "全社大_自社需要_ビＳ",
           "料金内訳履歴"
          ],
          [
           "HANBAI",
           "eigyt",
           "全社大_自社需要_ビＳ",
           "料金内訳履歴"
          ],
          [
           "HANBAI",
           "eigyt",
           "全社大_自社需要_ビＳ",
           "料金内訳履歴"
          ],
          [
           "HANBAI",
           "eigyt",
           "全社大_自社需要_ビＳ",
           "料金内訳履歴"
          ],
          [
           "HANBAI",
           "eigyt",
           "全社大_自社需要_ビＳ",
           "料金内訳履歴"
          ],
          [
           "HANBAI",
           "eigyt",
           "全社大_自社需要_ビＳ",
           "料金内訳履歴"
          ],
          [
           "HANBAI",
           "eigyt",
           "全社大_自社需要_ビＳ",
           "料金内訳履歴"
          ],
          [
           "HANBAI",
           "eigyt",
           "全社大_自社需要_ビＳ",
           "料金内訳履歴"
          ],
          [
           "HANBAI",
           "eigyt",
           "全社大_自社需要_ビＳ",
           "料金内訳履歴"
          ],
          [
           "HANBAI",
           "eigyt",
           "全社大_自社需要_ビＳ",
           "料金内訳履歴"
          ],
          [
           "HANBAI",
           "eigyt",
           "全社大_自社需要_ビＳ",
           "料金内訳履歴"
          ],
          [
           "HANBAI",
           "eigyt",
           "全社大_自社需要_ビＳ",
           "料金内訳履歴"
          ],
          [
           "HANBAI",
           "eigyt",
           "全社大_自社需要_ビＳ",
           "料金内訳履歴"
          ],
          [
           "HANBAI",
           "eigyt",
           "全社大_自社需要_ビＳ",
           "料金内訳履歴"
          ],
          [
           "HANBAI",
           "eigyt",
           "全社大_自社需要_ビＳ",
           "料金内訳履歴"
          ],
          [
           "HANBAI",
           "eigyt",
           "全社大_自社需要_ビＳ",
           "料金内訳履歴"
          ],
          [
           "HANBAI",
           "eigyt",
           "全社大_自社需要_ビＳ",
           "料金内訳履歴"
          ],
          [
           "HANBAI",
           "eigyt",
           "全社大_自社需要_ビＳ",
           "料金内訳履歴"
          ],
          [
           "HANBAI",
           "eigyt",
           "全社大_自社需要_ビＳ",
           "料金内訳履歴"
          ],
          [
           "HANBAI",
           "eigyt",
           "全社大_自社需要_ビＳ",
           "料金内訳履歴"
          ],
          [
           "HANBAI",
           "eigyt",
           "全社大_自社需要_ビＳ",
           "料金内訳履歴"
          ],
          [
           "HANBAI",
           "eigyt",
           "全社大_自社需要_ビＳ",
           "料金内訳履歴"
          ],
          [
           "HANBAI",
           "eigyt",
           "全社大_自社需要_ビＳ",
           "料金内訳履歴"
          ],
          [
           "HANBAI",
           "eigyt",
           "全社大_自社需要_ビＳ",
           "料金内訳履歴"
          ],
          [
           "HANBAI",
           "eigyt",
           "全社大_自社需要_ビＳ",
           "料金内訳履歴"
          ],
          [
           "HANBAI",
           "eigyt",
           "全社大_自社需要_ビＳ",
           "料金内訳履歴"
          ],
          [
           "HANBAI",
           "eigyt",
           "全社大_自社需要_ビＳ",
           "料金内訳履歴"
          ],
          [
           "HANBAI",
           "eigyt",
           "全社大_自社需要_ビＳ",
           "料金内訳履歴"
          ],
          [
           "HANBAI",
           "eigyt",
           "全社大_自社需要_ビＳ",
           "料金内訳履歴"
          ],
          [
           "HANBAI",
           "eigyt",
           "全社大_自社需要_ビＳ",
           "料金内訳履歴"
          ],
          [
           "HANBAI",
           "eigyt",
           "全社大_自社需要_ビＳ",
           "料金内訳履歴"
          ],
          [
           "HANBAI",
           "eigyt",
           "全社大_自社需要_ビＳ",
           "料金内訳履歴"
          ],
          [
           "HANBAI",
           "eigyt",
           "全社大_自社需要_ビＳ",
           "料金内訳履歴"
          ],
          [
           "HANBAI",
           "eigyt",
           "全社大_自社需要_ビＳ",
           "料金内訳履歴"
          ],
          [
           "HANBAI",
           "eigyt",
           "全社大_自社需要_ビＳ",
           "料金内訳履歴"
          ],
          [
           "HANBAI",
           "eigyt",
           "全社大_自社需要_ビＳ",
           "料金内訳履歴"
          ],
          [
           "HANBAI",
           "eigyt",
           "全社大_自社需要_ビＳ",
           "料金内訳履歴"
          ],
          [
           "HANBAI",
           "eigyt",
           "全社大_自社需要_ビＳ",
           "料金内訳履歴"
          ],
          [
           "HANBAI",
           "eigyt",
           "全社大_自社需要_ビＳ",
           "料金内訳履歴"
          ],
          [
           "HANBAI",
           "eigyt",
           "全社大_自社需要_ビＳ",
           "料金内訳履歴"
          ],
          [
           "HANBAI",
           "eigyt",
           "全社大_自社需要_ビＳ",
           "料金内訳履歴"
          ],
          [
           "HANBAI",
           "eigyt",
           "全社大_自社需要_ビＳ",
           "料金内訳履歴"
          ],
          [
           "HANBAI",
           "eigyt",
           "全社大_自社需要_ビＳ",
           "料金内訳履歴"
          ],
          [
           "HANBAI",
           "eigyt",
           "全社大_自社需要_ビＳ",
           "料金内訳履歴"
          ],
          [
           "HANBAI",
           "eigyt",
           "全社大_自社需要_ビＳ",
           "料金内訳履歴"
          ],
          [
           "HANBAI",
           "eigyt",
           "全社大_自社需要_ビＳ",
           "料金内訳履歴"
          ],
          [
           "HANBAI",
           "eigyt",
           "全社大_自社需要_ビＳ",
           "料金内訳履歴"
          ],
          [
           "HANBAI",
           "eigyt",
           "全社大_自社需要_ビＳ",
           "料金内訳履歴"
          ],
          [
           "HANBAI",
           "eigyt",
           "全社大_自社需要_ビＳ",
           "料金内訳履歴"
          ],
          [
           "HANBAI",
           "eigyt",
           "全社大_自社需要_ビＳ",
           "料金内訳履歴"
          ],
          [
           "HANBAI",
           "eigyt",
           "全社大_自社需要_ビＳ",
           "料金内訳履歴"
          ],
          [
           "HANBAI",
           "eigyt",
           "全社大_自社需要_ビＳ",
           "料金内訳履歴"
          ],
          [
           "HANBAI",
           "eigyt",
           "全社大_自社需要_ビＳ",
           "料金内訳履歴"
          ],
          [
           "HANBAI",
           "eigyt",
           "全社大_自社需要_ビＳ",
           "料金内訳履歴"
          ],
          [
           "HANBAI",
           "eigyt",
           "全社大_自社需要_ビＳ",
           "料金内訳履歴"
          ],
          [
           "HANBAI",
           "eigyt",
           "全社大_自社需要_ビＳ",
           "料金内訳履歴"
          ],
          [
           "HANBAI",
           "eigyt",
           "全社大_自社需要_ビＳ",
           "料金内訳履歴"
          ],
          [
           "HANBAI",
           "eigyt",
           "全社大_自社需要_ビＳ",
           "料金内訳履歴"
          ],
          [
           "HANBAI",
           "eigyt",
           "全社大_自社需要_ビＳ",
           "料金内訳履歴"
          ],
          [
           "HANBAI",
           "eigyt",
           "全社大_自社需要_ビＳ",
           "料金内訳履歴"
          ],
          [
           "HANBAI",
           "eigyt",
           "全社大_自社需要_ビＳ",
           "料金内訳履歴"
          ],
          [
           "HANBAI",
           "eigyt",
           "全社大_自社需要_ビＳ",
           "料金内訳履歴"
          ],
          [
           "HANBAI",
           "eigyt",
           "全社大_自社需要_ビＳ",
           "料金内訳履歴"
          ],
          [
           "HANBAI",
           "eigyt",
           "全社大_自社需要_ビＳ",
           "料金内訳履歴"
          ],
          [
           "HANBAI",
           "eigyt",
           "全社大_自社需要_ビＳ",
           "料金内訳履歴"
          ],
          [
           "HANBAI",
           "eigyt",
           "全社大_自社需要_ビＳ",
           "料金内訳履歴"
          ],
          [
           "HANBAI",
           "eigyt",
           "全社大_自社需要_ビＳ",
           "料金内訳履歴"
          ],
          [
           "HANBAI",
           "eigyt",
           "全社大_自社需要_ビＳ",
           "料金内訳履歴"
          ],
          [
           "HANBAI",
           "eigyt",
           "全社大_自社需要_ビＳ",
           "料金内訳履歴"
          ],
          [
           "HANBAI",
           "eigyt",
           "全社大_自社需要_ビＳ",
           "料金内訳履歴"
          ],
          [
           "HANBAI",
           "eigyt",
           "全社大_自社需要_ビＳ",
           "料金内訳履歴"
          ],
          [
           "HANBAI",
           "eigyt",
           "全社大_自社需要_ビＳ",
           "料金内訳履歴"
          ],
          [
           "HANBAI",
           "eigyt",
           "全社大_自社需要_ビＳ",
           "料金内訳履歴"
          ],
          [
           "HANBAI",
           "eigyt",
           "全社大_自社需要_ビＳ",
           "料金内訳履歴"
          ],
          [
           "HANBAI",
           "eigyt",
           "全社大_自社需要_ビＳ",
           "料金内訳履歴"
          ],
          [
           "HANBAI",
           "eigyt",
           "全社大_自社需要_ビＳ",
           "料金内訳履歴"
          ],
          [
           "HANBAI",
           "eigyt",
           "全社大_自社需要_ビＳ",
           "料金内訳履歴"
          ],
          [
           "HANBAI",
           "eigyt",
           "全社大_自社需要_ビＳ",
           "料金内訳履歴"
          ],
          [
           "HANBAI",
           "eigyt",
           "全社大_自社需要_ビＳ",
           "料金内訳履歴"
          ],
          [
           "HANBAI",
           "eigyt",
           "全社大_自社需要_ビＳ",
           "料金内訳履歴"
          ],
          [
           "HANBAI",
           "eigyt",
           "全社大_自社需要_ビＳ",
           "料金内訳履歴"
          ],
          [
           "HANBAI",
           "eigyt",
           "全社大_自社需要_ビＳ",
           "料金内訳履歴"
          ],
          [
           "HANBAI",
           "eigyt",
           "全社大_自社需要_ビＳ",
           "料金内訳履歴"
          ],
          [
           "HANBAI",
           "eigyt",
           "全社大_自社需要_ビＳ",
           "料金内訳履歴"
          ],
          [
           "HANBAI",
           "eigyt",
           "全社大_自社需要_ビＳ",
           "料金内訳履歴"
          ],
          [
           "HANBAI",
           "eigyt",
           "全社大_自社需要_ビＳ",
           "料金内訳履歴"
          ],
          [
           "HANBAI",
           "eigyt",
           "全社大_自社需要_ビＳ",
           "料金内訳履歴"
          ],
          [
           "HANBAI",
           "eigyt",
           "全社大_自社需要_ビＳ",
           "料金内訳履歴"
          ],
          [
           "HANBAI",
           "eigyt",
           "全社大_自社需要_ビＳ",
           "料金内訳履歴"
          ],
          [
           "HANBAI",
           "eigyt",
           "全社大_自社需要_ビＳ",
           "料金内訳履歴"
          ]
         ],
         "hovertemplate": "<b>%{hovertext}</b><br><br>Session_Id=246681793<br>Extended_Timestamp=%{x}<br>index=%{y}<br>DB_User=%{customdata[0]}<br>Userhost=%{customdata[1]}<br>schema=%{customdata[2]}<br>table=%{customdata[3]}<extra></extra>",
         "hovertext": [
          null,
          "需給契約",
          "需給契約",
          "料金内訳履歴",
          "料金内訳履歴",
          "料金内訳履歴",
          "料金内訳履歴",
          "料金内訳履歴",
          "料金内訳履歴",
          "料金内訳履歴",
          "料金内訳履歴",
          "料金内訳履歴",
          "料金内訳履歴",
          "料金内訳履歴",
          "料金内訳履歴",
          "料金内訳履歴",
          "料金内訳履歴",
          "料金内訳履歴",
          "料金内訳履歴",
          "料金内訳履歴",
          "料金内訳履歴",
          "料金内訳履歴",
          "料金内訳履歴",
          "料金内訳履歴",
          "料金内訳履歴",
          "料金内訳履歴",
          "料金内訳履歴",
          "料金内訳履歴",
          "料金内訳履歴",
          "料金内訳履歴",
          "料金内訳履歴",
          "料金内訳履歴",
          "料金内訳履歴",
          "料金内訳履歴",
          "料金内訳履歴",
          "料金内訳履歴",
          "料金内訳履歴",
          "料金内訳履歴",
          "料金内訳履歴",
          "料金内訳履歴",
          "料金内訳履歴",
          "料金内訳履歴",
          "料金内訳履歴",
          "料金内訳履歴",
          "料金内訳履歴",
          "料金内訳履歴",
          "料金内訳履歴",
          "料金内訳履歴",
          "料金内訳履歴",
          "料金内訳履歴",
          "料金内訳履歴",
          "料金内訳履歴",
          "料金内訳履歴",
          "料金内訳履歴",
          "料金内訳履歴",
          "料金内訳履歴",
          "料金内訳履歴",
          "料金内訳履歴",
          "料金内訳履歴",
          "料金内訳履歴",
          "料金内訳履歴",
          "料金内訳履歴",
          "料金内訳履歴",
          "料金内訳履歴",
          "料金内訳履歴",
          "料金内訳履歴",
          "料金内訳履歴",
          "料金内訳履歴",
          "料金内訳履歴",
          "料金内訳履歴",
          "料金内訳履歴",
          "料金内訳履歴",
          "料金内訳履歴",
          "料金内訳履歴",
          "料金内訳履歴",
          "料金内訳履歴",
          "料金内訳履歴",
          "料金内訳履歴",
          "料金内訳履歴",
          "料金内訳履歴",
          "料金内訳履歴",
          "料金内訳履歴",
          "料金内訳履歴",
          "料金内訳履歴",
          "料金内訳履歴",
          "料金内訳履歴",
          "料金内訳履歴",
          "料金内訳履歴",
          "料金内訳履歴",
          "料金内訳履歴",
          "料金内訳履歴",
          "料金内訳履歴",
          "料金内訳履歴",
          "料金内訳履歴",
          "料金内訳履歴",
          "料金内訳履歴",
          "料金内訳履歴",
          "料金内訳履歴",
          "料金内訳履歴",
          "料金内訳履歴",
          "料金内訳履歴",
          "料金内訳履歴",
          "料金内訳履歴",
          "料金内訳履歴",
          "料金内訳履歴",
          "料金内訳履歴",
          "料金内訳履歴",
          "料金内訳履歴",
          "料金内訳履歴",
          "料金内訳履歴",
          "料金内訳履歴",
          "料金内訳履歴",
          "料金内訳履歴",
          "料金内訳履歴",
          "料金内訳履歴",
          "料金内訳履歴",
          "料金内訳履歴",
          "料金内訳履歴",
          "料金内訳履歴",
          "料金内訳履歴",
          "料金内訳履歴",
          "料金内訳履歴",
          "料金内訳履歴",
          "料金内訳履歴",
          "料金内訳履歴",
          "料金内訳履歴",
          "料金内訳履歴",
          "料金内訳履歴",
          "料金内訳履歴",
          "料金内訳履歴",
          "料金内訳履歴",
          "料金内訳履歴",
          "料金内訳履歴",
          "料金内訳履歴",
          "料金内訳履歴",
          "料金内訳履歴",
          "料金内訳履歴",
          "料金内訳履歴",
          "料金内訳履歴",
          "料金内訳履歴",
          "料金内訳履歴",
          "料金内訳履歴",
          "料金内訳履歴",
          "料金内訳履歴",
          "料金内訳履歴",
          "料金内訳履歴",
          "料金内訳履歴",
          "料金内訳履歴",
          "料金内訳履歴",
          "料金内訳履歴",
          "料金内訳履歴",
          "料金内訳履歴",
          "料金内訳履歴",
          "料金内訳履歴",
          "料金内訳履歴",
          "料金内訳履歴",
          "料金内訳履歴",
          "料金内訳履歴",
          "料金内訳履歴",
          "料金内訳履歴",
          "料金内訳履歴",
          "料金内訳履歴",
          "料金内訳履歴",
          "料金内訳履歴",
          "料金内訳履歴",
          "料金内訳履歴",
          "料金内訳履歴",
          "料金内訳履歴",
          "料金内訳履歴",
          "料金内訳履歴",
          "料金内訳履歴",
          "料金内訳履歴",
          "料金内訳履歴",
          "料金内訳履歴",
          "料金内訳履歴",
          "料金内訳履歴",
          "料金内訳履歴",
          "料金内訳履歴",
          "料金内訳履歴",
          "料金内訳履歴",
          "料金内訳履歴",
          "料金内訳履歴",
          "料金内訳履歴",
          "料金内訳履歴",
          "料金内訳履歴",
          "料金内訳履歴",
          "料金内訳履歴",
          "料金内訳履歴",
          "料金内訳履歴",
          "料金内訳履歴",
          "料金内訳履歴",
          "料金内訳履歴",
          "料金内訳履歴",
          "料金内訳履歴",
          "料金内訳履歴",
          "料金内訳履歴",
          "料金内訳履歴",
          "料金内訳履歴",
          "料金内訳履歴",
          "料金内訳履歴",
          "料金内訳履歴",
          "料金内訳履歴",
          "料金内訳履歴",
          "料金内訳履歴",
          "料金内訳履歴",
          "料金内訳履歴",
          "料金内訳履歴",
          "料金内訳履歴",
          "料金内訳履歴",
          "料金内訳履歴",
          "料金内訳履歴",
          "料金内訳履歴",
          "料金内訳履歴",
          "料金内訳履歴",
          "料金内訳履歴",
          "料金内訳履歴",
          "料金内訳履歴",
          "料金内訳履歴",
          "料金内訳履歴",
          "料金内訳履歴",
          "料金内訳履歴",
          "料金内訳履歴",
          "料金内訳履歴",
          "料金内訳履歴",
          "料金内訳履歴",
          "料金内訳履歴",
          "料金内訳履歴",
          "料金内訳履歴",
          "料金内訳履歴",
          "料金内訳履歴",
          "料金内訳履歴",
          "料金内訳履歴",
          "料金内訳履歴",
          "料金内訳履歴",
          "料金内訳履歴",
          "料金内訳履歴",
          "料金内訳履歴",
          "料金内訳履歴",
          "料金内訳履歴",
          "料金内訳履歴",
          "料金内訳履歴",
          "料金内訳履歴",
          "料金内訳履歴",
          "料金内訳履歴",
          "料金内訳履歴",
          "料金内訳履歴",
          "料金内訳履歴",
          "料金内訳履歴",
          "料金内訳履歴",
          "料金内訳履歴",
          "料金内訳履歴",
          "料金内訳履歴",
          "料金内訳履歴",
          "料金内訳履歴",
          "料金内訳履歴",
          "料金内訳履歴",
          "料金内訳履歴",
          "料金内訳履歴",
          "料金内訳履歴",
          "料金内訳履歴",
          "料金内訳履歴",
          "料金内訳履歴",
          "料金内訳履歴",
          "料金内訳履歴",
          "料金内訳履歴",
          "料金内訳履歴",
          "料金内訳履歴",
          "料金内訳履歴",
          "料金内訳履歴",
          "料金内訳履歴",
          "料金内訳履歴",
          "料金内訳履歴",
          "料金内訳履歴",
          "料金内訳履歴",
          "料金内訳履歴",
          "料金内訳履歴",
          "料金内訳履歴",
          "料金内訳履歴",
          "料金内訳履歴",
          "料金内訳履歴",
          "料金内訳履歴",
          "料金内訳履歴",
          "料金内訳履歴",
          "料金内訳履歴",
          "料金内訳履歴",
          "料金内訳履歴",
          "料金内訳履歴",
          "料金内訳履歴",
          "料金内訳履歴",
          "料金内訳履歴",
          "料金内訳履歴",
          "料金内訳履歴",
          "料金内訳履歴",
          "料金内訳履歴",
          "料金内訳履歴",
          "料金内訳履歴",
          "料金内訳履歴",
          "料金内訳履歴",
          "料金内訳履歴",
          "料金内訳履歴",
          "料金内訳履歴",
          "料金内訳履歴",
          "料金内訳履歴",
          "料金内訳履歴",
          "料金内訳履歴",
          "料金内訳履歴",
          "料金内訳履歴"
         ],
         "legendgroup": "246681793",
         "marker": {
          "color": "#EF553B",
          "symbol": "circle"
         },
         "mode": "markers",
         "name": "246681793",
         "orientation": "v",
         "showlegend": true,
         "type": "scatter",
         "x": [
          "2023-12-13T01:08:30.369211Z",
          "2023-12-13T01:08:30.376374Z",
          "2023-12-13T01:08:30.376481Z",
          "2023-12-13T01:09:22.637510Z",
          "2023-12-13T01:09:22.637717Z",
          "2023-12-13T01:09:22.647862Z",
          "2023-12-13T01:09:22.647992Z",
          "2023-12-13T01:09:22.649663Z",
          "2023-12-13T01:09:22.649787Z",
          "2023-12-13T01:09:22.650905Z",
          "2023-12-13T01:09:22.651010Z",
          "2023-12-13T01:09:22.655125Z",
          "2023-12-13T01:09:22.655312Z",
          "2023-12-13T01:09:22.659657Z",
          "2023-12-13T01:09:22.659766Z",
          "2023-12-13T01:09:22.665461Z",
          "2023-12-13T01:09:22.665592Z",
          "2023-12-13T01:09:22.666045Z",
          "2023-12-13T01:09:22.666146Z",
          "2023-12-13T01:09:22.668826Z",
          "2023-12-13T01:09:22.668944Z",
          "2023-12-13T01:09:22.671300Z",
          "2023-12-13T01:09:22.671412Z",
          "2023-12-13T01:09:22.675930Z",
          "2023-12-13T01:09:22.676030Z",
          "2023-12-13T01:09:22.676454Z",
          "2023-12-13T01:09:22.676560Z",
          "2023-12-13T01:09:22.678500Z",
          "2023-12-13T01:09:22.678599Z",
          "2023-12-13T01:09:22.685003Z",
          "2023-12-13T01:09:22.685121Z",
          "2023-12-13T01:09:22.686342Z",
          "2023-12-13T01:09:22.686449Z",
          "2023-12-13T01:09:22.687308Z",
          "2023-12-13T01:09:22.687405Z",
          "2023-12-13T01:09:22.693206Z",
          "2023-12-13T01:09:22.693318Z",
          "2023-12-13T01:09:22.704154Z",
          "2023-12-13T01:09:22.704277Z",
          "2023-12-13T01:09:22.704782Z",
          "2023-12-13T01:09:22.704891Z",
          "2023-12-13T01:09:22.705277Z",
          "2023-12-13T01:09:22.705430Z",
          "2023-12-13T01:09:22.706830Z",
          "2023-12-13T01:09:22.706997Z",
          "2023-12-13T01:09:22.707450Z",
          "2023-12-13T01:09:22.707561Z",
          "2023-12-13T01:09:22.707987Z",
          "2023-12-13T01:09:22.708082Z",
          "2023-12-13T01:09:22.710307Z",
          "2023-12-13T01:09:22.710413Z",
          "2023-12-13T01:09:22.711357Z",
          "2023-12-13T01:09:22.711488Z",
          "2023-12-13T01:09:22.711882Z",
          "2023-12-13T01:09:22.712017Z",
          "2023-12-13T01:09:22.712486Z",
          "2023-12-13T01:09:22.712616Z",
          "2023-12-13T01:09:22.713837Z",
          "2023-12-13T01:09:22.714005Z",
          "2023-12-13T01:09:22.715262Z",
          "2023-12-13T01:09:22.715430Z",
          "2023-12-13T01:09:22.716666Z",
          "2023-12-13T01:09:22.716774Z",
          "2023-12-13T01:09:22.718017Z",
          "2023-12-13T01:09:22.718146Z",
          "2023-12-13T01:09:22.722022Z",
          "2023-12-13T01:09:22.722127Z",
          "2023-12-13T01:09:22.722557Z",
          "2023-12-13T01:09:22.722718Z",
          "2023-12-13T01:09:22.723660Z",
          "2023-12-13T01:09:22.723789Z",
          "2023-12-13T01:09:22.725762Z",
          "2023-12-13T01:09:22.725932Z",
          "2023-12-13T01:09:22.730807Z",
          "2023-12-13T01:09:22.730923Z",
          "2023-12-13T01:09:22.731314Z",
          "2023-12-13T01:09:22.731413Z",
          "2023-12-13T01:09:22.732221Z",
          "2023-12-13T01:09:22.732332Z",
          "2023-12-13T01:09:22.733877Z",
          "2023-12-13T01:09:22.733975Z",
          "2023-12-13T01:09:22.735008Z",
          "2023-12-13T01:09:22.735102Z",
          "2023-12-13T01:09:22.737180Z",
          "2023-12-13T01:09:22.737282Z",
          "2023-12-13T01:09:22.737667Z",
          "2023-12-13T01:09:22.737776Z",
          "2023-12-13T01:09:22.738268Z",
          "2023-12-13T01:09:22.738360Z",
          "2023-12-13T01:09:22.739003Z",
          "2023-12-13T01:09:22.739091Z",
          "2023-12-13T01:09:22.739664Z",
          "2023-12-13T01:09:22.739758Z",
          "2023-12-13T01:09:22.740168Z",
          "2023-12-13T01:09:22.740266Z",
          "2023-12-13T01:09:22.740655Z",
          "2023-12-13T01:09:22.740752Z",
          "2023-12-13T01:09:22.741125Z",
          "2023-12-13T01:09:22.741215Z",
          "2023-12-13T01:09:22.741556Z",
          "2023-12-13T01:09:22.741651Z",
          "2023-12-13T01:09:22.742055Z",
          "2023-12-13T01:09:22.742157Z",
          "2023-12-13T01:09:22.742482Z",
          "2023-12-13T01:09:22.742602Z",
          "2023-12-13T01:09:22.743015Z",
          "2023-12-13T01:09:22.743118Z",
          "2023-12-13T01:09:22.744326Z",
          "2023-12-13T01:09:22.744452Z",
          "2023-12-13T01:09:22.744819Z",
          "2023-12-13T01:09:22.744934Z",
          "2023-12-13T01:09:22.745313Z",
          "2023-12-13T01:09:22.745418Z",
          "2023-12-13T01:09:22.749466Z",
          "2023-12-13T01:09:22.749624Z",
          "2023-12-13T01:09:22.750077Z",
          "2023-12-13T01:09:22.750180Z",
          "2023-12-13T01:09:22.755217Z",
          "2023-12-13T01:09:22.755326Z",
          "2023-12-13T01:09:22.756346Z",
          "2023-12-13T01:09:22.756447Z",
          "2023-12-13T01:09:22.756839Z",
          "2023-12-13T01:09:22.756941Z",
          "2023-12-13T01:09:22.757365Z",
          "2023-12-13T01:09:22.757460Z",
          "2023-12-13T01:09:22.757884Z",
          "2023-12-13T01:09:22.758012Z",
          "2023-12-13T01:09:22.758415Z",
          "2023-12-13T01:09:22.758516Z",
          "2023-12-13T01:09:22.758961Z",
          "2023-12-13T01:09:22.759057Z",
          "2023-12-13T01:09:22.759444Z",
          "2023-12-13T01:09:22.759545Z",
          "2023-12-13T01:09:22.760037Z",
          "2023-12-13T01:09:22.760140Z",
          "2023-12-13T01:09:22.763720Z",
          "2023-12-13T01:09:22.763821Z",
          "2023-12-13T01:09:22.764203Z",
          "2023-12-13T01:09:22.764311Z",
          "2023-12-13T01:09:22.764688Z",
          "2023-12-13T01:09:22.764781Z",
          "2023-12-13T01:09:22.765147Z",
          "2023-12-13T01:09:22.765241Z",
          "2023-12-13T01:09:22.766809Z",
          "2023-12-13T01:09:22.766919Z",
          "2023-12-13T01:09:22.767392Z",
          "2023-12-13T01:09:22.767521Z",
          "2023-12-13T01:09:22.767988Z",
          "2023-12-13T01:09:22.768109Z",
          "2023-12-13T01:09:22.768519Z",
          "2023-12-13T01:09:22.768612Z",
          "2023-12-13T01:09:22.769954Z",
          "2023-12-13T01:09:22.770054Z",
          "2023-12-13T01:09:22.773692Z",
          "2023-12-13T01:09:22.773799Z",
          "2023-12-13T01:09:22.777193Z",
          "2023-12-13T01:09:22.777319Z",
          "2023-12-13T01:09:22.778322Z",
          "2023-12-13T01:09:22.778480Z",
          "2023-12-13T01:09:22.778929Z",
          "2023-12-13T01:09:22.779083Z",
          "2023-12-13T01:09:22.780350Z",
          "2023-12-13T01:09:22.780503Z",
          "2023-12-13T01:09:22.781123Z",
          "2023-12-13T01:09:22.781227Z",
          "2023-12-13T01:09:22.781684Z",
          "2023-12-13T01:09:22.781873Z",
          "2023-12-13T01:09:22.782311Z",
          "2023-12-13T01:09:22.782459Z",
          "2023-12-13T01:09:22.784110Z",
          "2023-12-13T01:09:22.784216Z",
          "2023-12-13T01:09:22.784674Z",
          "2023-12-13T01:09:22.784773Z",
          "2023-12-13T01:09:22.785315Z",
          "2023-12-13T01:09:22.785497Z",
          "2023-12-13T01:09:22.788778Z",
          "2023-12-13T01:09:22.788894Z",
          "2023-12-13T01:09:22.789271Z",
          "2023-12-13T01:09:22.789429Z",
          "2023-12-13T01:09:22.797006Z",
          "2023-12-13T01:09:22.797122Z",
          "2023-12-13T01:09:22.798700Z",
          "2023-12-13T01:09:22.798796Z",
          "2023-12-13T01:09:22.808294Z",
          "2023-12-13T01:09:22.808414Z",
          "2023-12-13T01:09:22.808845Z",
          "2023-12-13T01:09:22.808963Z",
          "2023-12-13T01:09:22.809350Z",
          "2023-12-13T01:09:22.809446Z",
          "2023-12-13T01:09:22.810028Z",
          "2023-12-13T01:09:22.810123Z",
          "2023-12-13T01:09:22.810705Z",
          "2023-12-13T01:09:22.810824Z",
          "2023-12-13T01:09:22.811231Z",
          "2023-12-13T01:09:22.811324Z",
          "2023-12-13T01:09:22.811951Z",
          "2023-12-13T01:09:22.812041Z",
          "2023-12-13T01:09:22.812910Z",
          "2023-12-13T01:09:22.813012Z",
          "2023-12-13T01:09:22.813362Z",
          "2023-12-13T01:09:22.813453Z",
          "2023-12-13T01:09:22.813874Z",
          "2023-12-13T01:09:22.813983Z",
          "2023-12-13T01:09:22.825299Z",
          "2023-12-13T01:09:22.825405Z",
          "2023-12-13T01:09:22.825811Z",
          "2023-12-13T01:09:22.825911Z",
          "2023-12-13T01:09:22.826296Z",
          "2023-12-13T01:09:22.826406Z",
          "2023-12-13T01:09:22.831498Z",
          "2023-12-13T01:09:22.831604Z",
          "2023-12-13T01:09:22.833878Z",
          "2023-12-13T01:09:22.833996Z",
          "2023-12-13T01:09:22.834447Z",
          "2023-12-13T01:09:22.834541Z",
          "2023-12-13T01:09:22.835192Z",
          "2023-12-13T01:09:22.835284Z",
          "2023-12-13T01:09:22.835804Z",
          "2023-12-13T01:09:22.835907Z",
          "2023-12-13T01:09:22.836879Z",
          "2023-12-13T01:09:22.836979Z",
          "2023-12-13T01:09:22.837394Z",
          "2023-12-13T01:09:22.837481Z",
          "2023-12-13T01:09:22.839484Z",
          "2023-12-13T01:09:22.839591Z",
          "2023-12-13T01:09:22.841277Z",
          "2023-12-13T01:09:22.841373Z",
          "2023-12-13T01:09:22.841728Z",
          "2023-12-13T01:09:22.841824Z",
          "2023-12-13T01:09:22.842337Z",
          "2023-12-13T01:09:22.842425Z",
          "2023-12-13T01:09:22.842772Z",
          "2023-12-13T01:09:22.842867Z",
          "2023-12-13T01:09:22.843213Z",
          "2023-12-13T01:09:22.843307Z",
          "2023-12-13T01:09:22.843663Z",
          "2023-12-13T01:09:22.843771Z",
          "2023-12-13T01:09:22.852024Z",
          "2023-12-13T01:09:22.852119Z",
          "2023-12-13T01:09:22.858325Z",
          "2023-12-13T01:09:22.858432Z",
          "2023-12-13T01:09:22.859652Z",
          "2023-12-13T01:09:22.859755Z",
          "2023-12-13T01:09:22.860112Z",
          "2023-12-13T01:09:22.860218Z",
          "2023-12-13T01:09:22.860923Z",
          "2023-12-13T01:09:22.861014Z",
          "2023-12-13T01:09:22.862084Z",
          "2023-12-13T01:09:22.862190Z",
          "2023-12-13T01:09:22.863275Z",
          "2023-12-13T01:09:22.863382Z",
          "2023-12-13T01:09:22.863761Z",
          "2023-12-13T01:09:22.863863Z",
          "2023-12-13T01:09:22.870071Z",
          "2023-12-13T01:09:22.870171Z",
          "2023-12-13T01:09:22.871053Z",
          "2023-12-13T01:09:22.871146Z",
          "2023-12-13T01:09:22.872655Z",
          "2023-12-13T01:09:22.872749Z",
          "2023-12-13T01:09:22.875932Z",
          "2023-12-13T01:09:22.876032Z",
          "2023-12-13T01:09:22.876396Z",
          "2023-12-13T01:09:22.876486Z",
          "2023-12-13T01:09:22.878350Z",
          "2023-12-13T01:09:22.878442Z",
          "2023-12-13T01:09:22.878783Z",
          "2023-12-13T01:09:22.878881Z",
          "2023-12-13T01:09:22.879189Z",
          "2023-12-13T01:09:22.879279Z",
          "2023-12-13T01:09:22.879612Z",
          "2023-12-13T01:09:22.879704Z",
          "2023-12-13T01:09:22.880480Z",
          "2023-12-13T01:09:22.880573Z",
          "2023-12-13T01:09:22.882475Z",
          "2023-12-13T01:09:22.882581Z",
          "2023-12-13T01:09:22.885081Z",
          "2023-12-13T01:09:22.885183Z",
          "2023-12-13T01:09:22.886885Z",
          "2023-12-13T01:09:22.886988Z",
          "2023-12-13T01:09:22.887331Z",
          "2023-12-13T01:09:22.887421Z",
          "2023-12-13T01:09:22.887754Z",
          "2023-12-13T01:09:22.887867Z",
          "2023-12-13T01:09:22.888192Z",
          "2023-12-13T01:09:22.888293Z",
          "2023-12-13T01:09:22.893013Z",
          "2023-12-13T01:09:22.893112Z",
          "2023-12-13T01:09:22.893451Z",
          "2023-12-13T01:09:22.893541Z",
          "2023-12-13T01:09:22.893919Z",
          "2023-12-13T01:09:22.894016Z",
          "2023-12-13T01:09:22.899641Z",
          "2023-12-13T01:09:22.899751Z",
          "2023-12-13T01:09:22.901332Z",
          "2023-12-13T01:09:22.901429Z",
          "2023-12-13T01:09:22.901788Z",
          "2023-12-13T01:09:22.901895Z",
          "2023-12-13T01:09:22.903177Z",
          "2023-12-13T01:09:22.903267Z",
          "2023-12-13T01:09:22.904649Z",
          "2023-12-13T01:09:22.904772Z",
          "2023-12-13T01:09:22.905244Z",
          "2023-12-13T01:09:22.905339Z",
          "2023-12-13T01:09:22.905691Z",
          "2023-12-13T01:09:22.905781Z",
          "2023-12-13T01:09:22.906107Z",
          "2023-12-13T01:09:22.906215Z"
         ],
         "xaxis": "x",
         "y": [
          20,
          21,
          22,
          23,
          24,
          25,
          26,
          27,
          28,
          29,
          30,
          31,
          32,
          33,
          34,
          35,
          36,
          37,
          38,
          39,
          40,
          41,
          42,
          43,
          44,
          45,
          46,
          47,
          48,
          49,
          50,
          51,
          52,
          53,
          54,
          55,
          56,
          57,
          58,
          59,
          60,
          61,
          62,
          63,
          64,
          65,
          66,
          67,
          68,
          69,
          70,
          71,
          72,
          73,
          74,
          75,
          76,
          77,
          78,
          79,
          80,
          81,
          82,
          83,
          84,
          85,
          86,
          87,
          88,
          89,
          90,
          91,
          92,
          93,
          94,
          95,
          96,
          97,
          98,
          99,
          100,
          101,
          102,
          103,
          104,
          105,
          106,
          107,
          108,
          109,
          110,
          111,
          112,
          113,
          114,
          115,
          116,
          117,
          118,
          119,
          120,
          121,
          122,
          123,
          124,
          125,
          126,
          127,
          128,
          129,
          130,
          131,
          132,
          133,
          134,
          135,
          136,
          137,
          138,
          139,
          140,
          141,
          142,
          143,
          144,
          145,
          146,
          147,
          148,
          149,
          150,
          151,
          152,
          153,
          154,
          155,
          156,
          157,
          158,
          159,
          160,
          161,
          162,
          163,
          164,
          165,
          166,
          167,
          168,
          169,
          170,
          171,
          172,
          173,
          174,
          175,
          176,
          177,
          178,
          179,
          180,
          181,
          182,
          183,
          184,
          185,
          186,
          187,
          188,
          189,
          190,
          191,
          192,
          193,
          194,
          195,
          196,
          197,
          198,
          199,
          200,
          201,
          202,
          203,
          204,
          205,
          206,
          207,
          208,
          209,
          210,
          211,
          212,
          213,
          214,
          215,
          216,
          217,
          218,
          219,
          220,
          221,
          222,
          223,
          224,
          225,
          226,
          227,
          228,
          229,
          230,
          231,
          232,
          233,
          234,
          235,
          236,
          237,
          238,
          239,
          240,
          241,
          242,
          243,
          244,
          245,
          246,
          247,
          248,
          249,
          250,
          251,
          252,
          253,
          254,
          255,
          256,
          257,
          258,
          259,
          260,
          261,
          262,
          263,
          264,
          265,
          266,
          267,
          268,
          269,
          270,
          271,
          272,
          273,
          274,
          275,
          276,
          277,
          278,
          279,
          280,
          281,
          282,
          283,
          284,
          285,
          286,
          287,
          288,
          289,
          290,
          291,
          292,
          293,
          294,
          295,
          296,
          297,
          298,
          299,
          300,
          301,
          302,
          303,
          304,
          305,
          306,
          307,
          308,
          309,
          310,
          311,
          312,
          313,
          314,
          315,
          316,
          317,
          318,
          319,
          320,
          321,
          322,
          323,
          324,
          325,
          326
         ],
         "yaxis": "y"
        },
        {
         "customdata": [
          [
           "HANBAI",
           "eigyt",
           null,
           null
          ],
          [
           "HANBAI",
           "eigyt",
           "全社大_自社需要_ビＳ",
           "需給単位"
          ],
          [
           "HANBAI",
           "eigyt",
           "全社大_自社需要_ビＳ",
           "需給契約"
          ],
          [
           "HANBAI",
           "eigyt",
           "全社大_自社需要_ビＳ",
           "料金内訳履歴"
          ],
          [
           "HANBAI",
           "eigyt",
           "全社大_自社需要_ビＳ",
           "需給単位"
          ],
          [
           "HANBAI",
           "eigyt",
           "全社大_自社需要_ビＳ",
           "需給契約"
          ],
          [
           "HANBAI",
           "eigyt",
           "全社大_自社需要_ビＳ",
           "料金内訳履歴"
          ],
          [
           "HANBAI",
           "eigyt",
           "全社大_自社需要_ビＳ",
           "需給単位"
          ],
          [
           "HANBAI",
           "eigyt",
           "全社大_自社需要_ビＳ",
           "需給契約"
          ],
          [
           "HANBAI",
           "eigyt",
           "全社大_自社需要_ビＳ",
           "料金内訳履歴"
          ],
          [
           "HANBAI",
           "eigyt",
           "全社大_自社需要_ビＳ",
           "需給単位"
          ],
          [
           "HANBAI",
           "eigyt",
           "全社大_自社需要_ビＳ",
           "需給契約"
          ],
          [
           "HANBAI",
           "eigyt",
           "全社大_自社需要_ビＳ",
           "料金内訳履歴"
          ],
          [
           "HANBAI",
           "eigyt",
           "全社大_自社需要_ビＳ",
           "需給単位"
          ],
          [
           "HANBAI",
           "eigyt",
           "全社大_自社需要_ビＳ",
           "需給契約"
          ],
          [
           "HANBAI",
           "eigyt",
           "全社大_自社需要_ビＳ",
           "料金内訳履歴"
          ],
          [
           "HANBAI",
           "eigyt",
           "全社大_自社需要_ビＳ",
           "需給単位"
          ],
          [
           "HANBAI",
           "eigyt",
           "全社大_自社需要_ビＳ",
           "需給契約"
          ],
          [
           "HANBAI",
           "eigyt",
           "全社大_自社需要_ビＳ",
           "料金内訳履歴"
          ],
          [
           "HANBAI",
           "eigyt",
           "全社大_自社需要_ビＳ",
           "需給単位"
          ],
          [
           "HANBAI",
           "eigyt",
           "全社大_自社需要_ビＳ",
           "需給契約"
          ],
          [
           "HANBAI",
           "eigyt",
           "全社大_自社需要_ビＳ",
           "料金内訳履歴"
          ],
          [
           "HANBAI",
           "eigyt",
           "全社大_自社需要_ビＳ",
           "需給単位"
          ],
          [
           "HANBAI",
           "eigyt",
           "全社大_自社需要_ビＳ",
           "需給契約"
          ],
          [
           "HANBAI",
           "eigyt",
           "全社大_自社需要_ビＳ",
           "料金内訳履歴"
          ],
          [
           "HANBAI",
           "eigyt",
           "全社大_自社需要_ビＳ",
           "需給単位"
          ],
          [
           "HANBAI",
           "eigyt",
           "全社大_自社需要_ビＳ",
           "需給契約"
          ],
          [
           "HANBAI",
           "eigyt",
           "全社大_自社需要_ビＳ",
           "料金内訳履歴"
          ],
          [
           "HANBAI",
           "eigyt",
           "全社大_自社需要_ビＳ",
           "需給単位"
          ],
          [
           "HANBAI",
           "eigyt",
           "全社大_自社需要_ビＳ",
           "需給契約"
          ],
          [
           "HANBAI",
           "eigyt",
           "全社大_自社需要_ビＳ",
           "料金内訳履歴"
          ],
          [
           "HANBAI",
           "eigyt",
           "全社大_自社需要_ビＳ",
           "需給単位"
          ],
          [
           "HANBAI",
           "eigyt",
           "全社大_自社需要_ビＳ",
           "需給契約"
          ],
          [
           "HANBAI",
           "eigyt",
           "全社大_自社需要_ビＳ",
           "料金内訳履歴"
          ],
          [
           "HANBAI",
           "eigyt",
           "全社大_自社需要_ビＳ",
           "需給単位"
          ],
          [
           "HANBAI",
           "eigyt",
           "全社大_自社需要_ビＳ",
           "需給契約"
          ],
          [
           "HANBAI",
           "eigyt",
           "全社大_自社需要_ビＳ",
           "料金内訳履歴"
          ],
          [
           "HANBAI",
           "eigyt",
           "全社大_自社需要_ビＳ",
           "料金内訳履歴"
          ],
          [
           "HANBAI",
           "eigyt",
           "全社大_自社需要_ビＳ",
           "料金内訳履歴"
          ]
         ],
         "hovertemplate": "<b>%{hovertext}</b><br><br>Session_Id=246681746<br>Extended_Timestamp=%{x}<br>index=%{y}<br>DB_User=%{customdata[0]}<br>Userhost=%{customdata[1]}<br>schema=%{customdata[2]}<br>table=%{customdata[3]}<extra></extra>",
         "hovertext": [
          null,
          "需給単位",
          "需給契約",
          "料金内訳履歴",
          "需給単位",
          "需給契約",
          "料金内訳履歴",
          "需給単位",
          "需給契約",
          "料金内訳履歴",
          "需給単位",
          "需給契約",
          "料金内訳履歴",
          "需給単位",
          "需給契約",
          "料金内訳履歴",
          "需給単位",
          "需給契約",
          "料金内訳履歴",
          "需給単位",
          "需給契約",
          "料金内訳履歴",
          "需給単位",
          "需給契約",
          "料金内訳履歴",
          "需給単位",
          "需給契約",
          "料金内訳履歴",
          "需給単位",
          "需給契約",
          "料金内訳履歴",
          "需給単位",
          "需給契約",
          "料金内訳履歴",
          "需給単位",
          "需給契約",
          "料金内訳履歴",
          "料金内訳履歴",
          "料金内訳履歴"
         ],
         "legendgroup": "246681746",
         "marker": {
          "color": "#00cc96",
          "symbol": "circle"
         },
         "mode": "markers",
         "name": "246681746",
         "orientation": "v",
         "showlegend": true,
         "type": "scatter",
         "x": [
          "2023-12-13T01:07:36.371653Z",
          "2023-12-13T01:07:36.377169Z",
          "2023-12-13T01:07:36.377169Z",
          "2023-12-13T01:07:36.377169Z",
          "2023-12-13T01:07:36.377304Z",
          "2023-12-13T01:07:36.377304Z",
          "2023-12-13T01:07:36.377304Z",
          "2023-12-13T01:07:36.377401Z",
          "2023-12-13T01:07:36.377401Z",
          "2023-12-13T01:07:36.377401Z",
          "2023-12-13T01:07:36.377497Z",
          "2023-12-13T01:07:36.377497Z",
          "2023-12-13T01:07:36.377497Z",
          "2023-12-13T01:07:36.377592Z",
          "2023-12-13T01:07:36.377592Z",
          "2023-12-13T01:07:36.377592Z",
          "2023-12-13T01:07:36.377686Z",
          "2023-12-13T01:07:36.377686Z",
          "2023-12-13T01:07:36.377686Z",
          "2023-12-13T01:08:44.466335Z",
          "2023-12-13T01:08:44.466335Z",
          "2023-12-13T01:08:44.466335Z",
          "2023-12-13T01:08:44.466559Z",
          "2023-12-13T01:08:44.466559Z",
          "2023-12-13T01:08:44.466559Z",
          "2023-12-13T01:08:44.466737Z",
          "2023-12-13T01:08:44.466737Z",
          "2023-12-13T01:08:44.466737Z",
          "2023-12-13T01:08:44.466910Z",
          "2023-12-13T01:08:44.466910Z",
          "2023-12-13T01:08:44.466910Z",
          "2023-12-13T01:08:44.467081Z",
          "2023-12-13T01:08:44.467081Z",
          "2023-12-13T01:08:44.467081Z",
          "2023-12-13T01:08:44.467252Z",
          "2023-12-13T01:08:44.467252Z",
          "2023-12-13T01:08:44.467252Z",
          "2023-12-13T01:09:36.339984Z",
          "2023-12-13T01:09:36.340096Z"
         ],
         "xaxis": "x",
         "y": [
          327,
          328,
          329,
          330,
          331,
          332,
          333,
          334,
          335,
          336,
          337,
          338,
          339,
          340,
          341,
          342,
          343,
          344,
          345,
          346,
          347,
          348,
          349,
          350,
          351,
          352,
          353,
          354,
          355,
          356,
          357,
          358,
          359,
          360,
          361,
          362,
          363,
          364,
          365
         ],
         "yaxis": "y"
        },
        {
         "customdata": [
          [
           null,
           null,
           null,
           null
          ]
         ],
         "hovertemplate": "<b>%{hovertext}</b><br><br>Session_Id=Processed Rows:330 finished!<br>Extended_Timestamp=%{x}<br>index=%{y}<br>DB_User=%{customdata[0]}<br>Userhost=%{customdata[1]}<br>schema=%{customdata[2]}<br>table=%{customdata[3]}<extra></extra>",
         "hovertext": [
          null
         ],
         "legendgroup": "Processed Rows:330 finished!",
         "marker": {
          "color": "#ab63fa",
          "symbol": "circle"
         },
         "mode": "markers",
         "name": "Processed Rows:330 finished!",
         "orientation": "v",
         "showlegend": true,
         "type": "scatter",
         "x": [
          null
         ],
         "xaxis": "x",
         "y": [
          366
         ],
         "yaxis": "y"
        }
       ],
       "layout": {
        "legend": {
         "title": {
          "text": "Session_Id"
         },
         "tracegroupgap": 0
        },
        "template": {
         "data": {
          "bar": [
           {
            "error_x": {
             "color": "#2a3f5f"
            },
            "error_y": {
             "color": "#2a3f5f"
            },
            "marker": {
             "line": {
              "color": "#E5ECF6",
              "width": 0.5
             },
             "pattern": {
              "fillmode": "overlay",
              "size": 10,
              "solidity": 0.2
             }
            },
            "type": "bar"
           }
          ],
          "barpolar": [
           {
            "marker": {
             "line": {
              "color": "#E5ECF6",
              "width": 0.5
             },
             "pattern": {
              "fillmode": "overlay",
              "size": 10,
              "solidity": 0.2
             }
            },
            "type": "barpolar"
           }
          ],
          "carpet": [
           {
            "aaxis": {
             "endlinecolor": "#2a3f5f",
             "gridcolor": "white",
             "linecolor": "white",
             "minorgridcolor": "white",
             "startlinecolor": "#2a3f5f"
            },
            "baxis": {
             "endlinecolor": "#2a3f5f",
             "gridcolor": "white",
             "linecolor": "white",
             "minorgridcolor": "white",
             "startlinecolor": "#2a3f5f"
            },
            "type": "carpet"
           }
          ],
          "choropleth": [
           {
            "colorbar": {
             "outlinewidth": 0,
             "ticks": ""
            },
            "type": "choropleth"
           }
          ],
          "contour": [
           {
            "colorbar": {
             "outlinewidth": 0,
             "ticks": ""
            },
            "colorscale": [
             [
              0,
              "#0d0887"
             ],
             [
              0.1111111111111111,
              "#46039f"
             ],
             [
              0.2222222222222222,
              "#7201a8"
             ],
             [
              0.3333333333333333,
              "#9c179e"
             ],
             [
              0.4444444444444444,
              "#bd3786"
             ],
             [
              0.5555555555555556,
              "#d8576b"
             ],
             [
              0.6666666666666666,
              "#ed7953"
             ],
             [
              0.7777777777777778,
              "#fb9f3a"
             ],
             [
              0.8888888888888888,
              "#fdca26"
             ],
             [
              1,
              "#f0f921"
             ]
            ],
            "type": "contour"
           }
          ],
          "contourcarpet": [
           {
            "colorbar": {
             "outlinewidth": 0,
             "ticks": ""
            },
            "type": "contourcarpet"
           }
          ],
          "heatmap": [
           {
            "colorbar": {
             "outlinewidth": 0,
             "ticks": ""
            },
            "colorscale": [
             [
              0,
              "#0d0887"
             ],
             [
              0.1111111111111111,
              "#46039f"
             ],
             [
              0.2222222222222222,
              "#7201a8"
             ],
             [
              0.3333333333333333,
              "#9c179e"
             ],
             [
              0.4444444444444444,
              "#bd3786"
             ],
             [
              0.5555555555555556,
              "#d8576b"
             ],
             [
              0.6666666666666666,
              "#ed7953"
             ],
             [
              0.7777777777777778,
              "#fb9f3a"
             ],
             [
              0.8888888888888888,
              "#fdca26"
             ],
             [
              1,
              "#f0f921"
             ]
            ],
            "type": "heatmap"
           }
          ],
          "heatmapgl": [
           {
            "colorbar": {
             "outlinewidth": 0,
             "ticks": ""
            },
            "colorscale": [
             [
              0,
              "#0d0887"
             ],
             [
              0.1111111111111111,
              "#46039f"
             ],
             [
              0.2222222222222222,
              "#7201a8"
             ],
             [
              0.3333333333333333,
              "#9c179e"
             ],
             [
              0.4444444444444444,
              "#bd3786"
             ],
             [
              0.5555555555555556,
              "#d8576b"
             ],
             [
              0.6666666666666666,
              "#ed7953"
             ],
             [
              0.7777777777777778,
              "#fb9f3a"
             ],
             [
              0.8888888888888888,
              "#fdca26"
             ],
             [
              1,
              "#f0f921"
             ]
            ],
            "type": "heatmapgl"
           }
          ],
          "histogram": [
           {
            "marker": {
             "pattern": {
              "fillmode": "overlay",
              "size": 10,
              "solidity": 0.2
             }
            },
            "type": "histogram"
           }
          ],
          "histogram2d": [
           {
            "colorbar": {
             "outlinewidth": 0,
             "ticks": ""
            },
            "colorscale": [
             [
              0,
              "#0d0887"
             ],
             [
              0.1111111111111111,
              "#46039f"
             ],
             [
              0.2222222222222222,
              "#7201a8"
             ],
             [
              0.3333333333333333,
              "#9c179e"
             ],
             [
              0.4444444444444444,
              "#bd3786"
             ],
             [
              0.5555555555555556,
              "#d8576b"
             ],
             [
              0.6666666666666666,
              "#ed7953"
             ],
             [
              0.7777777777777778,
              "#fb9f3a"
             ],
             [
              0.8888888888888888,
              "#fdca26"
             ],
             [
              1,
              "#f0f921"
             ]
            ],
            "type": "histogram2d"
           }
          ],
          "histogram2dcontour": [
           {
            "colorbar": {
             "outlinewidth": 0,
             "ticks": ""
            },
            "colorscale": [
             [
              0,
              "#0d0887"
             ],
             [
              0.1111111111111111,
              "#46039f"
             ],
             [
              0.2222222222222222,
              "#7201a8"
             ],
             [
              0.3333333333333333,
              "#9c179e"
             ],
             [
              0.4444444444444444,
              "#bd3786"
             ],
             [
              0.5555555555555556,
              "#d8576b"
             ],
             [
              0.6666666666666666,
              "#ed7953"
             ],
             [
              0.7777777777777778,
              "#fb9f3a"
             ],
             [
              0.8888888888888888,
              "#fdca26"
             ],
             [
              1,
              "#f0f921"
             ]
            ],
            "type": "histogram2dcontour"
           }
          ],
          "mesh3d": [
           {
            "colorbar": {
             "outlinewidth": 0,
             "ticks": ""
            },
            "type": "mesh3d"
           }
          ],
          "parcoords": [
           {
            "line": {
             "colorbar": {
              "outlinewidth": 0,
              "ticks": ""
             }
            },
            "type": "parcoords"
           }
          ],
          "pie": [
           {
            "automargin": true,
            "type": "pie"
           }
          ],
          "scatter": [
           {
            "fillpattern": {
             "fillmode": "overlay",
             "size": 10,
             "solidity": 0.2
            },
            "type": "scatter"
           }
          ],
          "scatter3d": [
           {
            "line": {
             "colorbar": {
              "outlinewidth": 0,
              "ticks": ""
             }
            },
            "marker": {
             "colorbar": {
              "outlinewidth": 0,
              "ticks": ""
             }
            },
            "type": "scatter3d"
           }
          ],
          "scattercarpet": [
           {
            "marker": {
             "colorbar": {
              "outlinewidth": 0,
              "ticks": ""
             }
            },
            "type": "scattercarpet"
           }
          ],
          "scattergeo": [
           {
            "marker": {
             "colorbar": {
              "outlinewidth": 0,
              "ticks": ""
             }
            },
            "type": "scattergeo"
           }
          ],
          "scattergl": [
           {
            "marker": {
             "colorbar": {
              "outlinewidth": 0,
              "ticks": ""
             }
            },
            "type": "scattergl"
           }
          ],
          "scattermapbox": [
           {
            "marker": {
             "colorbar": {
              "outlinewidth": 0,
              "ticks": ""
             }
            },
            "type": "scattermapbox"
           }
          ],
          "scatterpolar": [
           {
            "marker": {
             "colorbar": {
              "outlinewidth": 0,
              "ticks": ""
             }
            },
            "type": "scatterpolar"
           }
          ],
          "scatterpolargl": [
           {
            "marker": {
             "colorbar": {
              "outlinewidth": 0,
              "ticks": ""
             }
            },
            "type": "scatterpolargl"
           }
          ],
          "scatterternary": [
           {
            "marker": {
             "colorbar": {
              "outlinewidth": 0,
              "ticks": ""
             }
            },
            "type": "scatterternary"
           }
          ],
          "surface": [
           {
            "colorbar": {
             "outlinewidth": 0,
             "ticks": ""
            },
            "colorscale": [
             [
              0,
              "#0d0887"
             ],
             [
              0.1111111111111111,
              "#46039f"
             ],
             [
              0.2222222222222222,
              "#7201a8"
             ],
             [
              0.3333333333333333,
              "#9c179e"
             ],
             [
              0.4444444444444444,
              "#bd3786"
             ],
             [
              0.5555555555555556,
              "#d8576b"
             ],
             [
              0.6666666666666666,
              "#ed7953"
             ],
             [
              0.7777777777777778,
              "#fb9f3a"
             ],
             [
              0.8888888888888888,
              "#fdca26"
             ],
             [
              1,
              "#f0f921"
             ]
            ],
            "type": "surface"
           }
          ],
          "table": [
           {
            "cells": {
             "fill": {
              "color": "#EBF0F8"
             },
             "line": {
              "color": "white"
             }
            },
            "header": {
             "fill": {
              "color": "#C8D4E3"
             },
             "line": {
              "color": "white"
             }
            },
            "type": "table"
           }
          ]
         },
         "layout": {
          "annotationdefaults": {
           "arrowcolor": "#2a3f5f",
           "arrowhead": 0,
           "arrowwidth": 1
          },
          "autotypenumbers": "strict",
          "coloraxis": {
           "colorbar": {
            "outlinewidth": 0,
            "ticks": ""
           }
          },
          "colorscale": {
           "diverging": [
            [
             0,
             "#8e0152"
            ],
            [
             0.1,
             "#c51b7d"
            ],
            [
             0.2,
             "#de77ae"
            ],
            [
             0.3,
             "#f1b6da"
            ],
            [
             0.4,
             "#fde0ef"
            ],
            [
             0.5,
             "#f7f7f7"
            ],
            [
             0.6,
             "#e6f5d0"
            ],
            [
             0.7,
             "#b8e186"
            ],
            [
             0.8,
             "#7fbc41"
            ],
            [
             0.9,
             "#4d9221"
            ],
            [
             1,
             "#276419"
            ]
           ],
           "sequential": [
            [
             0,
             "#0d0887"
            ],
            [
             0.1111111111111111,
             "#46039f"
            ],
            [
             0.2222222222222222,
             "#7201a8"
            ],
            [
             0.3333333333333333,
             "#9c179e"
            ],
            [
             0.4444444444444444,
             "#bd3786"
            ],
            [
             0.5555555555555556,
             "#d8576b"
            ],
            [
             0.6666666666666666,
             "#ed7953"
            ],
            [
             0.7777777777777778,
             "#fb9f3a"
            ],
            [
             0.8888888888888888,
             "#fdca26"
            ],
            [
             1,
             "#f0f921"
            ]
           ],
           "sequentialminus": [
            [
             0,
             "#0d0887"
            ],
            [
             0.1111111111111111,
             "#46039f"
            ],
            [
             0.2222222222222222,
             "#7201a8"
            ],
            [
             0.3333333333333333,
             "#9c179e"
            ],
            [
             0.4444444444444444,
             "#bd3786"
            ],
            [
             0.5555555555555556,
             "#d8576b"
            ],
            [
             0.6666666666666666,
             "#ed7953"
            ],
            [
             0.7777777777777778,
             "#fb9f3a"
            ],
            [
             0.8888888888888888,
             "#fdca26"
            ],
            [
             1,
             "#f0f921"
            ]
           ]
          },
          "colorway": [
           "#636efa",
           "#EF553B",
           "#00cc96",
           "#ab63fa",
           "#FFA15A",
           "#19d3f3",
           "#FF6692",
           "#B6E880",
           "#FF97FF",
           "#FECB52"
          ],
          "font": {
           "color": "#2a3f5f"
          },
          "geo": {
           "bgcolor": "white",
           "lakecolor": "white",
           "landcolor": "#E5ECF6",
           "showlakes": true,
           "showland": true,
           "subunitcolor": "white"
          },
          "hoverlabel": {
           "align": "left"
          },
          "hovermode": "closest",
          "mapbox": {
           "style": "light"
          },
          "paper_bgcolor": "white",
          "plot_bgcolor": "#E5ECF6",
          "polar": {
           "angularaxis": {
            "gridcolor": "white",
            "linecolor": "white",
            "ticks": ""
           },
           "bgcolor": "#E5ECF6",
           "radialaxis": {
            "gridcolor": "white",
            "linecolor": "white",
            "ticks": ""
           }
          },
          "scene": {
           "xaxis": {
            "backgroundcolor": "#E5ECF6",
            "gridcolor": "white",
            "gridwidth": 2,
            "linecolor": "white",
            "showbackground": true,
            "ticks": "",
            "zerolinecolor": "white"
           },
           "yaxis": {
            "backgroundcolor": "#E5ECF6",
            "gridcolor": "white",
            "gridwidth": 2,
            "linecolor": "white",
            "showbackground": true,
            "ticks": "",
            "zerolinecolor": "white"
           },
           "zaxis": {
            "backgroundcolor": "#E5ECF6",
            "gridcolor": "white",
            "gridwidth": 2,
            "linecolor": "white",
            "showbackground": true,
            "ticks": "",
            "zerolinecolor": "white"
           }
          },
          "shapedefaults": {
           "line": {
            "color": "#2a3f5f"
           }
          },
          "ternary": {
           "aaxis": {
            "gridcolor": "white",
            "linecolor": "white",
            "ticks": ""
           },
           "baxis": {
            "gridcolor": "white",
            "linecolor": "white",
            "ticks": ""
           },
           "bgcolor": "#E5ECF6",
           "caxis": {
            "gridcolor": "white",
            "linecolor": "white",
            "ticks": ""
           }
          },
          "title": {
           "x": 0.05
          },
          "xaxis": {
           "automargin": true,
           "gridcolor": "white",
           "linecolor": "white",
           "ticks": "",
           "title": {
            "standoff": 15
           },
           "zerolinecolor": "white",
           "zerolinewidth": 2
          },
          "yaxis": {
           "automargin": true,
           "gridcolor": "white",
           "linecolor": "white",
           "ticks": "",
           "title": {
            "standoff": 15
           },
           "zerolinecolor": "white",
           "zerolinewidth": 2
          }
         }
        },
        "title": {
         "text": "count(df4.index)"
        },
        "xaxis": {
         "anchor": "y",
         "domain": [
          0,
          1
         ],
         "title": {
          "text": "Extended_Timestamp"
         }
        },
        "yaxis": {
         "anchor": "x",
         "domain": [
          0,
          1
         ],
         "title": {
          "text": "index"
         }
        }
       }
      },
      "text/html": [
       "<div>                            <div id=\"935f81ce-4516-42cd-9289-b397782c9900\" class=\"plotly-graph-div\" style=\"height:525px; width:100%;\"></div>            <script type=\"text/javascript\">                require([\"plotly\"], function(Plotly) {                    window.PLOTLYENV=window.PLOTLYENV || {};                                    if (document.getElementById(\"935f81ce-4516-42cd-9289-b397782c9900\")) {                    Plotly.newPlot(                        \"935f81ce-4516-42cd-9289-b397782c9900\",                        [{\"customdata\":[[\"HANBAI\",\"eigyt\",null,null],[\"HANBAI\",\"eigyt\",\"\\u5168\\u793e\\u5927_\\u81ea\\u793e\\u9700\\u8981_\\u30d3\\uff33\",\"\\u9700\\u7d66\\u5358\\u4f4d\"],[\"HANBAI\",\"eigyt\",\"\\u5168\\u793e\\u5927_\\u81ea\\u793e\\u9700\\u8981_\\u30d3\\uff33\",\"\\u9700\\u7d66\\u5951\\u7d04\"],[\"HANBAI\",\"eigyt\",\"\\u5168\\u793e\\u5927_\\u81ea\\u793e\\u9700\\u8981_\\u30d3\\uff33\",\"\\u6599\\u91d1\\u5185\\u8a33\\u5c65\\u6b74\"],[\"HANBAI\",\"eigyt\",\"\\u5168\\u793e\\u5927_\\u81ea\\u793e\\u9700\\u8981_\\u30d3\\uff33\",\"\\u9700\\u7d66\\u5358\\u4f4d\"],[\"HANBAI\",\"eigyt\",\"\\u5168\\u793e\\u5927_\\u81ea\\u793e\\u9700\\u8981_\\u30d3\\uff33\",\"\\u9700\\u7d66\\u5951\\u7d04\"],[\"HANBAI\",\"eigyt\",\"\\u5168\\u793e\\u5927_\\u81ea\\u793e\\u9700\\u8981_\\u30d3\\uff33\",\"\\u6599\\u91d1\\u5185\\u8a33\\u5c65\\u6b74\"],[\"HANBAI\",\"eigyt\",\"\\u5168\\u793e\\u5927_\\u81ea\\u793e\\u9700\\u8981_\\u30d3\\uff33\",\"\\u9700\\u7d66\\u5358\\u4f4d\"],[\"HANBAI\",\"eigyt\",\"\\u5168\\u793e\\u5927_\\u81ea\\u793e\\u9700\\u8981_\\u30d3\\uff33\",\"\\u9700\\u7d66\\u5951\\u7d04\"],[\"HANBAI\",\"eigyt\",\"\\u5168\\u793e\\u5927_\\u81ea\\u793e\\u9700\\u8981_\\u30d3\\uff33\",\"\\u6599\\u91d1\\u5185\\u8a33\\u5c65\\u6b74\"],[\"HANBAI\",\"eigyt\",\"\\u5168\\u793e\\u5927_\\u81ea\\u793e\\u9700\\u8981_\\u30d3\\uff33\",\"\\u9700\\u7d66\\u5358\\u4f4d\"],[\"HANBAI\",\"eigyt\",\"\\u5168\\u793e\\u5927_\\u81ea\\u793e\\u9700\\u8981_\\u30d3\\uff33\",\"\\u9700\\u7d66\\u5951\\u7d04\"],[\"HANBAI\",\"eigyt\",\"\\u5168\\u793e\\u5927_\\u81ea\\u793e\\u9700\\u8981_\\u30d3\\uff33\",\"\\u6599\\u91d1\\u5185\\u8a33\\u5c65\\u6b74\"],[\"HANBAI\",\"eigyt\",\"\\u5168\\u793e\\u5927_\\u81ea\\u793e\\u9700\\u8981_\\u30d3\\uff33\",\"\\u9700\\u7d66\\u5358\\u4f4d\"],[\"HANBAI\",\"eigyt\",\"\\u5168\\u793e\\u5927_\\u81ea\\u793e\\u9700\\u8981_\\u30d3\\uff33\",\"\\u9700\\u7d66\\u5951\\u7d04\"],[\"HANBAI\",\"eigyt\",\"\\u5168\\u793e\\u5927_\\u81ea\\u793e\\u9700\\u8981_\\u30d3\\uff33\",\"\\u6599\\u91d1\\u5185\\u8a33\\u5c65\\u6b74\"],[\"HANBAI\",\"eigyt\",\"\\u5168\\u793e\\u5927_\\u81ea\\u793e\\u9700\\u8981_\\u30d3\\uff33\",\"\\u9700\\u7d66\\u5358\\u4f4d\"],[\"HANBAI\",\"eigyt\",\"\\u5168\\u793e\\u5927_\\u81ea\\u793e\\u9700\\u8981_\\u30d3\\uff33\",\"\\u9700\\u7d66\\u5951\\u7d04\"],[\"HANBAI\",\"eigyt\",\"\\u5168\\u793e\\u5927_\\u81ea\\u793e\\u9700\\u8981_\\u30d3\\uff33\",\"\\u6599\\u91d1\\u5185\\u8a33\\u5c65\\u6b74\"],[\"HANBAI\",\"eigyt\",null,null]],\"hovertemplate\":\"<b>%{hovertext}</b><br><br>Session_Id=246681550<br>Extended_Timestamp=%{x}<br>index=%{y}<br>DB_User=%{customdata[0]}<br>Userhost=%{customdata[1]}<br>schema=%{customdata[2]}<br>table=%{customdata[3]}<extra></extra>\",\"hovertext\":[null,\"\\u9700\\u7d66\\u5358\\u4f4d\",\"\\u9700\\u7d66\\u5951\\u7d04\",\"\\u6599\\u91d1\\u5185\\u8a33\\u5c65\\u6b74\",\"\\u9700\\u7d66\\u5358\\u4f4d\",\"\\u9700\\u7d66\\u5951\\u7d04\",\"\\u6599\\u91d1\\u5185\\u8a33\\u5c65\\u6b74\",\"\\u9700\\u7d66\\u5358\\u4f4d\",\"\\u9700\\u7d66\\u5951\\u7d04\",\"\\u6599\\u91d1\\u5185\\u8a33\\u5c65\\u6b74\",\"\\u9700\\u7d66\\u5358\\u4f4d\",\"\\u9700\\u7d66\\u5951\\u7d04\",\"\\u6599\\u91d1\\u5185\\u8a33\\u5c65\\u6b74\",\"\\u9700\\u7d66\\u5358\\u4f4d\",\"\\u9700\\u7d66\\u5951\\u7d04\",\"\\u6599\\u91d1\\u5185\\u8a33\\u5c65\\u6b74\",\"\\u9700\\u7d66\\u5358\\u4f4d\",\"\\u9700\\u7d66\\u5951\\u7d04\",\"\\u6599\\u91d1\\u5185\\u8a33\\u5c65\\u6b74\",null],\"legendgroup\":\"246681550\",\"marker\":{\"color\":\"#636efa\",\"symbol\":\"circle\"},\"mode\":\"markers\",\"name\":\"246681550\",\"orientation\":\"v\",\"showlegend\":true,\"x\":[\"2023-12-13T01:03:38.343978Z\",\"2023-12-13T01:03:38.460576Z\",\"2023-12-13T01:03:38.460576Z\",\"2023-12-13T01:03:38.460576Z\",\"2023-12-13T01:03:38.460729Z\",\"2023-12-13T01:03:38.460729Z\",\"2023-12-13T01:03:38.460729Z\",\"2023-12-13T01:03:38.460827Z\",\"2023-12-13T01:03:38.460827Z\",\"2023-12-13T01:03:38.460827Z\",\"2023-12-13T01:03:38.460930Z\",\"2023-12-13T01:03:38.460930Z\",\"2023-12-13T01:03:38.460930Z\",\"2023-12-13T01:03:38.461026Z\",\"2023-12-13T01:03:38.461026Z\",\"2023-12-13T01:03:38.461026Z\",\"2023-12-13T01:03:38.461132Z\",\"2023-12-13T01:03:38.461132Z\",\"2023-12-13T01:03:38.461132Z\",\"2023-12-13T01:06:01.930066Z\"],\"xaxis\":\"x\",\"y\":[0,1,2,3,4,5,6,7,8,9,10,11,12,13,14,15,16,17,18,19],\"yaxis\":\"y\",\"type\":\"scatter\"},{\"customdata\":[[\"HANBAI\",\"eigyt\",null,null],[\"HANBAI\",\"eigyt\",\"\\u5168\\u793e\\u5927_\\u81ea\\u793e\\u9700\\u8981_\\u30d3\\uff33\",\"\\u9700\\u7d66\\u5951\\u7d04\"],[\"HANBAI\",\"eigyt\",\"\\u5168\\u793e\\u5927_\\u81ea\\u793e\\u9700\\u8981_\\u30d3\\uff33\",\"\\u9700\\u7d66\\u5951\\u7d04\"],[\"HANBAI\",\"eigyt\",\"\\u5168\\u793e\\u5927_\\u81ea\\u793e\\u9700\\u8981_\\u30d3\\uff33\",\"\\u6599\\u91d1\\u5185\\u8a33\\u5c65\\u6b74\"],[\"HANBAI\",\"eigyt\",\"\\u5168\\u793e\\u5927_\\u81ea\\u793e\\u9700\\u8981_\\u30d3\\uff33\",\"\\u6599\\u91d1\\u5185\\u8a33\\u5c65\\u6b74\"],[\"HANBAI\",\"eigyt\",\"\\u5168\\u793e\\u5927_\\u81ea\\u793e\\u9700\\u8981_\\u30d3\\uff33\",\"\\u6599\\u91d1\\u5185\\u8a33\\u5c65\\u6b74\"],[\"HANBAI\",\"eigyt\",\"\\u5168\\u793e\\u5927_\\u81ea\\u793e\\u9700\\u8981_\\u30d3\\uff33\",\"\\u6599\\u91d1\\u5185\\u8a33\\u5c65\\u6b74\"],[\"HANBAI\",\"eigyt\",\"\\u5168\\u793e\\u5927_\\u81ea\\u793e\\u9700\\u8981_\\u30d3\\uff33\",\"\\u6599\\u91d1\\u5185\\u8a33\\u5c65\\u6b74\"],[\"HANBAI\",\"eigyt\",\"\\u5168\\u793e\\u5927_\\u81ea\\u793e\\u9700\\u8981_\\u30d3\\uff33\",\"\\u6599\\u91d1\\u5185\\u8a33\\u5c65\\u6b74\"],[\"HANBAI\",\"eigyt\",\"\\u5168\\u793e\\u5927_\\u81ea\\u793e\\u9700\\u8981_\\u30d3\\uff33\",\"\\u6599\\u91d1\\u5185\\u8a33\\u5c65\\u6b74\"],[\"HANBAI\",\"eigyt\",\"\\u5168\\u793e\\u5927_\\u81ea\\u793e\\u9700\\u8981_\\u30d3\\uff33\",\"\\u6599\\u91d1\\u5185\\u8a33\\u5c65\\u6b74\"],[\"HANBAI\",\"eigyt\",\"\\u5168\\u793e\\u5927_\\u81ea\\u793e\\u9700\\u8981_\\u30d3\\uff33\",\"\\u6599\\u91d1\\u5185\\u8a33\\u5c65\\u6b74\"],[\"HANBAI\",\"eigyt\",\"\\u5168\\u793e\\u5927_\\u81ea\\u793e\\u9700\\u8981_\\u30d3\\uff33\",\"\\u6599\\u91d1\\u5185\\u8a33\\u5c65\\u6b74\"],[\"HANBAI\",\"eigyt\",\"\\u5168\\u793e\\u5927_\\u81ea\\u793e\\u9700\\u8981_\\u30d3\\uff33\",\"\\u6599\\u91d1\\u5185\\u8a33\\u5c65\\u6b74\"],[\"HANBAI\",\"eigyt\",\"\\u5168\\u793e\\u5927_\\u81ea\\u793e\\u9700\\u8981_\\u30d3\\uff33\",\"\\u6599\\u91d1\\u5185\\u8a33\\u5c65\\u6b74\"],[\"HANBAI\",\"eigyt\",\"\\u5168\\u793e\\u5927_\\u81ea\\u793e\\u9700\\u8981_\\u30d3\\uff33\",\"\\u6599\\u91d1\\u5185\\u8a33\\u5c65\\u6b74\"],[\"HANBAI\",\"eigyt\",\"\\u5168\\u793e\\u5927_\\u81ea\\u793e\\u9700\\u8981_\\u30d3\\uff33\",\"\\u6599\\u91d1\\u5185\\u8a33\\u5c65\\u6b74\"],[\"HANBAI\",\"eigyt\",\"\\u5168\\u793e\\u5927_\\u81ea\\u793e\\u9700\\u8981_\\u30d3\\uff33\",\"\\u6599\\u91d1\\u5185\\u8a33\\u5c65\\u6b74\"],[\"HANBAI\",\"eigyt\",\"\\u5168\\u793e\\u5927_\\u81ea\\u793e\\u9700\\u8981_\\u30d3\\uff33\",\"\\u6599\\u91d1\\u5185\\u8a33\\u5c65\\u6b74\"],[\"HANBAI\",\"eigyt\",\"\\u5168\\u793e\\u5927_\\u81ea\\u793e\\u9700\\u8981_\\u30d3\\uff33\",\"\\u6599\\u91d1\\u5185\\u8a33\\u5c65\\u6b74\"],[\"HANBAI\",\"eigyt\",\"\\u5168\\u793e\\u5927_\\u81ea\\u793e\\u9700\\u8981_\\u30d3\\uff33\",\"\\u6599\\u91d1\\u5185\\u8a33\\u5c65\\u6b74\"],[\"HANBAI\",\"eigyt\",\"\\u5168\\u793e\\u5927_\\u81ea\\u793e\\u9700\\u8981_\\u30d3\\uff33\",\"\\u6599\\u91d1\\u5185\\u8a33\\u5c65\\u6b74\"],[\"HANBAI\",\"eigyt\",\"\\u5168\\u793e\\u5927_\\u81ea\\u793e\\u9700\\u8981_\\u30d3\\uff33\",\"\\u6599\\u91d1\\u5185\\u8a33\\u5c65\\u6b74\"],[\"HANBAI\",\"eigyt\",\"\\u5168\\u793e\\u5927_\\u81ea\\u793e\\u9700\\u8981_\\u30d3\\uff33\",\"\\u6599\\u91d1\\u5185\\u8a33\\u5c65\\u6b74\"],[\"HANBAI\",\"eigyt\",\"\\u5168\\u793e\\u5927_\\u81ea\\u793e\\u9700\\u8981_\\u30d3\\uff33\",\"\\u6599\\u91d1\\u5185\\u8a33\\u5c65\\u6b74\"],[\"HANBAI\",\"eigyt\",\"\\u5168\\u793e\\u5927_\\u81ea\\u793e\\u9700\\u8981_\\u30d3\\uff33\",\"\\u6599\\u91d1\\u5185\\u8a33\\u5c65\\u6b74\"],[\"HANBAI\",\"eigyt\",\"\\u5168\\u793e\\u5927_\\u81ea\\u793e\\u9700\\u8981_\\u30d3\\uff33\",\"\\u6599\\u91d1\\u5185\\u8a33\\u5c65\\u6b74\"],[\"HANBAI\",\"eigyt\",\"\\u5168\\u793e\\u5927_\\u81ea\\u793e\\u9700\\u8981_\\u30d3\\uff33\",\"\\u6599\\u91d1\\u5185\\u8a33\\u5c65\\u6b74\"],[\"HANBAI\",\"eigyt\",\"\\u5168\\u793e\\u5927_\\u81ea\\u793e\\u9700\\u8981_\\u30d3\\uff33\",\"\\u6599\\u91d1\\u5185\\u8a33\\u5c65\\u6b74\"],[\"HANBAI\",\"eigyt\",\"\\u5168\\u793e\\u5927_\\u81ea\\u793e\\u9700\\u8981_\\u30d3\\uff33\",\"\\u6599\\u91d1\\u5185\\u8a33\\u5c65\\u6b74\"],[\"HANBAI\",\"eigyt\",\"\\u5168\\u793e\\u5927_\\u81ea\\u793e\\u9700\\u8981_\\u30d3\\uff33\",\"\\u6599\\u91d1\\u5185\\u8a33\\u5c65\\u6b74\"],[\"HANBAI\",\"eigyt\",\"\\u5168\\u793e\\u5927_\\u81ea\\u793e\\u9700\\u8981_\\u30d3\\uff33\",\"\\u6599\\u91d1\\u5185\\u8a33\\u5c65\\u6b74\"],[\"HANBAI\",\"eigyt\",\"\\u5168\\u793e\\u5927_\\u81ea\\u793e\\u9700\\u8981_\\u30d3\\uff33\",\"\\u6599\\u91d1\\u5185\\u8a33\\u5c65\\u6b74\"],[\"HANBAI\",\"eigyt\",\"\\u5168\\u793e\\u5927_\\u81ea\\u793e\\u9700\\u8981_\\u30d3\\uff33\",\"\\u6599\\u91d1\\u5185\\u8a33\\u5c65\\u6b74\"],[\"HANBAI\",\"eigyt\",\"\\u5168\\u793e\\u5927_\\u81ea\\u793e\\u9700\\u8981_\\u30d3\\uff33\",\"\\u6599\\u91d1\\u5185\\u8a33\\u5c65\\u6b74\"],[\"HANBAI\",\"eigyt\",\"\\u5168\\u793e\\u5927_\\u81ea\\u793e\\u9700\\u8981_\\u30d3\\uff33\",\"\\u6599\\u91d1\\u5185\\u8a33\\u5c65\\u6b74\"],[\"HANBAI\",\"eigyt\",\"\\u5168\\u793e\\u5927_\\u81ea\\u793e\\u9700\\u8981_\\u30d3\\uff33\",\"\\u6599\\u91d1\\u5185\\u8a33\\u5c65\\u6b74\"],[\"HANBAI\",\"eigyt\",\"\\u5168\\u793e\\u5927_\\u81ea\\u793e\\u9700\\u8981_\\u30d3\\uff33\",\"\\u6599\\u91d1\\u5185\\u8a33\\u5c65\\u6b74\"],[\"HANBAI\",\"eigyt\",\"\\u5168\\u793e\\u5927_\\u81ea\\u793e\\u9700\\u8981_\\u30d3\\uff33\",\"\\u6599\\u91d1\\u5185\\u8a33\\u5c65\\u6b74\"],[\"HANBAI\",\"eigyt\",\"\\u5168\\u793e\\u5927_\\u81ea\\u793e\\u9700\\u8981_\\u30d3\\uff33\",\"\\u6599\\u91d1\\u5185\\u8a33\\u5c65\\u6b74\"],[\"HANBAI\",\"eigyt\",\"\\u5168\\u793e\\u5927_\\u81ea\\u793e\\u9700\\u8981_\\u30d3\\uff33\",\"\\u6599\\u91d1\\u5185\\u8a33\\u5c65\\u6b74\"],[\"HANBAI\",\"eigyt\",\"\\u5168\\u793e\\u5927_\\u81ea\\u793e\\u9700\\u8981_\\u30d3\\uff33\",\"\\u6599\\u91d1\\u5185\\u8a33\\u5c65\\u6b74\"],[\"HANBAI\",\"eigyt\",\"\\u5168\\u793e\\u5927_\\u81ea\\u793e\\u9700\\u8981_\\u30d3\\uff33\",\"\\u6599\\u91d1\\u5185\\u8a33\\u5c65\\u6b74\"],[\"HANBAI\",\"eigyt\",\"\\u5168\\u793e\\u5927_\\u81ea\\u793e\\u9700\\u8981_\\u30d3\\uff33\",\"\\u6599\\u91d1\\u5185\\u8a33\\u5c65\\u6b74\"],[\"HANBAI\",\"eigyt\",\"\\u5168\\u793e\\u5927_\\u81ea\\u793e\\u9700\\u8981_\\u30d3\\uff33\",\"\\u6599\\u91d1\\u5185\\u8a33\\u5c65\\u6b74\"],[\"HANBAI\",\"eigyt\",\"\\u5168\\u793e\\u5927_\\u81ea\\u793e\\u9700\\u8981_\\u30d3\\uff33\",\"\\u6599\\u91d1\\u5185\\u8a33\\u5c65\\u6b74\"],[\"HANBAI\",\"eigyt\",\"\\u5168\\u793e\\u5927_\\u81ea\\u793e\\u9700\\u8981_\\u30d3\\uff33\",\"\\u6599\\u91d1\\u5185\\u8a33\\u5c65\\u6b74\"],[\"HANBAI\",\"eigyt\",\"\\u5168\\u793e\\u5927_\\u81ea\\u793e\\u9700\\u8981_\\u30d3\\uff33\",\"\\u6599\\u91d1\\u5185\\u8a33\\u5c65\\u6b74\"],[\"HANBAI\",\"eigyt\",\"\\u5168\\u793e\\u5927_\\u81ea\\u793e\\u9700\\u8981_\\u30d3\\uff33\",\"\\u6599\\u91d1\\u5185\\u8a33\\u5c65\\u6b74\"],[\"HANBAI\",\"eigyt\",\"\\u5168\\u793e\\u5927_\\u81ea\\u793e\\u9700\\u8981_\\u30d3\\uff33\",\"\\u6599\\u91d1\\u5185\\u8a33\\u5c65\\u6b74\"],[\"HANBAI\",\"eigyt\",\"\\u5168\\u793e\\u5927_\\u81ea\\u793e\\u9700\\u8981_\\u30d3\\uff33\",\"\\u6599\\u91d1\\u5185\\u8a33\\u5c65\\u6b74\"],[\"HANBAI\",\"eigyt\",\"\\u5168\\u793e\\u5927_\\u81ea\\u793e\\u9700\\u8981_\\u30d3\\uff33\",\"\\u6599\\u91d1\\u5185\\u8a33\\u5c65\\u6b74\"],[\"HANBAI\",\"eigyt\",\"\\u5168\\u793e\\u5927_\\u81ea\\u793e\\u9700\\u8981_\\u30d3\\uff33\",\"\\u6599\\u91d1\\u5185\\u8a33\\u5c65\\u6b74\"],[\"HANBAI\",\"eigyt\",\"\\u5168\\u793e\\u5927_\\u81ea\\u793e\\u9700\\u8981_\\u30d3\\uff33\",\"\\u6599\\u91d1\\u5185\\u8a33\\u5c65\\u6b74\"],[\"HANBAI\",\"eigyt\",\"\\u5168\\u793e\\u5927_\\u81ea\\u793e\\u9700\\u8981_\\u30d3\\uff33\",\"\\u6599\\u91d1\\u5185\\u8a33\\u5c65\\u6b74\"],[\"HANBAI\",\"eigyt\",\"\\u5168\\u793e\\u5927_\\u81ea\\u793e\\u9700\\u8981_\\u30d3\\uff33\",\"\\u6599\\u91d1\\u5185\\u8a33\\u5c65\\u6b74\"],[\"HANBAI\",\"eigyt\",\"\\u5168\\u793e\\u5927_\\u81ea\\u793e\\u9700\\u8981_\\u30d3\\uff33\",\"\\u6599\\u91d1\\u5185\\u8a33\\u5c65\\u6b74\"],[\"HANBAI\",\"eigyt\",\"\\u5168\\u793e\\u5927_\\u81ea\\u793e\\u9700\\u8981_\\u30d3\\uff33\",\"\\u6599\\u91d1\\u5185\\u8a33\\u5c65\\u6b74\"],[\"HANBAI\",\"eigyt\",\"\\u5168\\u793e\\u5927_\\u81ea\\u793e\\u9700\\u8981_\\u30d3\\uff33\",\"\\u6599\\u91d1\\u5185\\u8a33\\u5c65\\u6b74\"],[\"HANBAI\",\"eigyt\",\"\\u5168\\u793e\\u5927_\\u81ea\\u793e\\u9700\\u8981_\\u30d3\\uff33\",\"\\u6599\\u91d1\\u5185\\u8a33\\u5c65\\u6b74\"],[\"HANBAI\",\"eigyt\",\"\\u5168\\u793e\\u5927_\\u81ea\\u793e\\u9700\\u8981_\\u30d3\\uff33\",\"\\u6599\\u91d1\\u5185\\u8a33\\u5c65\\u6b74\"],[\"HANBAI\",\"eigyt\",\"\\u5168\\u793e\\u5927_\\u81ea\\u793e\\u9700\\u8981_\\u30d3\\uff33\",\"\\u6599\\u91d1\\u5185\\u8a33\\u5c65\\u6b74\"],[\"HANBAI\",\"eigyt\",\"\\u5168\\u793e\\u5927_\\u81ea\\u793e\\u9700\\u8981_\\u30d3\\uff33\",\"\\u6599\\u91d1\\u5185\\u8a33\\u5c65\\u6b74\"],[\"HANBAI\",\"eigyt\",\"\\u5168\\u793e\\u5927_\\u81ea\\u793e\\u9700\\u8981_\\u30d3\\uff33\",\"\\u6599\\u91d1\\u5185\\u8a33\\u5c65\\u6b74\"],[\"HANBAI\",\"eigyt\",\"\\u5168\\u793e\\u5927_\\u81ea\\u793e\\u9700\\u8981_\\u30d3\\uff33\",\"\\u6599\\u91d1\\u5185\\u8a33\\u5c65\\u6b74\"],[\"HANBAI\",\"eigyt\",\"\\u5168\\u793e\\u5927_\\u81ea\\u793e\\u9700\\u8981_\\u30d3\\uff33\",\"\\u6599\\u91d1\\u5185\\u8a33\\u5c65\\u6b74\"],[\"HANBAI\",\"eigyt\",\"\\u5168\\u793e\\u5927_\\u81ea\\u793e\\u9700\\u8981_\\u30d3\\uff33\",\"\\u6599\\u91d1\\u5185\\u8a33\\u5c65\\u6b74\"],[\"HANBAI\",\"eigyt\",\"\\u5168\\u793e\\u5927_\\u81ea\\u793e\\u9700\\u8981_\\u30d3\\uff33\",\"\\u6599\\u91d1\\u5185\\u8a33\\u5c65\\u6b74\"],[\"HANBAI\",\"eigyt\",\"\\u5168\\u793e\\u5927_\\u81ea\\u793e\\u9700\\u8981_\\u30d3\\uff33\",\"\\u6599\\u91d1\\u5185\\u8a33\\u5c65\\u6b74\"],[\"HANBAI\",\"eigyt\",\"\\u5168\\u793e\\u5927_\\u81ea\\u793e\\u9700\\u8981_\\u30d3\\uff33\",\"\\u6599\\u91d1\\u5185\\u8a33\\u5c65\\u6b74\"],[\"HANBAI\",\"eigyt\",\"\\u5168\\u793e\\u5927_\\u81ea\\u793e\\u9700\\u8981_\\u30d3\\uff33\",\"\\u6599\\u91d1\\u5185\\u8a33\\u5c65\\u6b74\"],[\"HANBAI\",\"eigyt\",\"\\u5168\\u793e\\u5927_\\u81ea\\u793e\\u9700\\u8981_\\u30d3\\uff33\",\"\\u6599\\u91d1\\u5185\\u8a33\\u5c65\\u6b74\"],[\"HANBAI\",\"eigyt\",\"\\u5168\\u793e\\u5927_\\u81ea\\u793e\\u9700\\u8981_\\u30d3\\uff33\",\"\\u6599\\u91d1\\u5185\\u8a33\\u5c65\\u6b74\"],[\"HANBAI\",\"eigyt\",\"\\u5168\\u793e\\u5927_\\u81ea\\u793e\\u9700\\u8981_\\u30d3\\uff33\",\"\\u6599\\u91d1\\u5185\\u8a33\\u5c65\\u6b74\"],[\"HANBAI\",\"eigyt\",\"\\u5168\\u793e\\u5927_\\u81ea\\u793e\\u9700\\u8981_\\u30d3\\uff33\",\"\\u6599\\u91d1\\u5185\\u8a33\\u5c65\\u6b74\"],[\"HANBAI\",\"eigyt\",\"\\u5168\\u793e\\u5927_\\u81ea\\u793e\\u9700\\u8981_\\u30d3\\uff33\",\"\\u6599\\u91d1\\u5185\\u8a33\\u5c65\\u6b74\"],[\"HANBAI\",\"eigyt\",\"\\u5168\\u793e\\u5927_\\u81ea\\u793e\\u9700\\u8981_\\u30d3\\uff33\",\"\\u6599\\u91d1\\u5185\\u8a33\\u5c65\\u6b74\"],[\"HANBAI\",\"eigyt\",\"\\u5168\\u793e\\u5927_\\u81ea\\u793e\\u9700\\u8981_\\u30d3\\uff33\",\"\\u6599\\u91d1\\u5185\\u8a33\\u5c65\\u6b74\"],[\"HANBAI\",\"eigyt\",\"\\u5168\\u793e\\u5927_\\u81ea\\u793e\\u9700\\u8981_\\u30d3\\uff33\",\"\\u6599\\u91d1\\u5185\\u8a33\\u5c65\\u6b74\"],[\"HANBAI\",\"eigyt\",\"\\u5168\\u793e\\u5927_\\u81ea\\u793e\\u9700\\u8981_\\u30d3\\uff33\",\"\\u6599\\u91d1\\u5185\\u8a33\\u5c65\\u6b74\"],[\"HANBAI\",\"eigyt\",\"\\u5168\\u793e\\u5927_\\u81ea\\u793e\\u9700\\u8981_\\u30d3\\uff33\",\"\\u6599\\u91d1\\u5185\\u8a33\\u5c65\\u6b74\"],[\"HANBAI\",\"eigyt\",\"\\u5168\\u793e\\u5927_\\u81ea\\u793e\\u9700\\u8981_\\u30d3\\uff33\",\"\\u6599\\u91d1\\u5185\\u8a33\\u5c65\\u6b74\"],[\"HANBAI\",\"eigyt\",\"\\u5168\\u793e\\u5927_\\u81ea\\u793e\\u9700\\u8981_\\u30d3\\uff33\",\"\\u6599\\u91d1\\u5185\\u8a33\\u5c65\\u6b74\"],[\"HANBAI\",\"eigyt\",\"\\u5168\\u793e\\u5927_\\u81ea\\u793e\\u9700\\u8981_\\u30d3\\uff33\",\"\\u6599\\u91d1\\u5185\\u8a33\\u5c65\\u6b74\"],[\"HANBAI\",\"eigyt\",\"\\u5168\\u793e\\u5927_\\u81ea\\u793e\\u9700\\u8981_\\u30d3\\uff33\",\"\\u6599\\u91d1\\u5185\\u8a33\\u5c65\\u6b74\"],[\"HANBAI\",\"eigyt\",\"\\u5168\\u793e\\u5927_\\u81ea\\u793e\\u9700\\u8981_\\u30d3\\uff33\",\"\\u6599\\u91d1\\u5185\\u8a33\\u5c65\\u6b74\"],[\"HANBAI\",\"eigyt\",\"\\u5168\\u793e\\u5927_\\u81ea\\u793e\\u9700\\u8981_\\u30d3\\uff33\",\"\\u6599\\u91d1\\u5185\\u8a33\\u5c65\\u6b74\"],[\"HANBAI\",\"eigyt\",\"\\u5168\\u793e\\u5927_\\u81ea\\u793e\\u9700\\u8981_\\u30d3\\uff33\",\"\\u6599\\u91d1\\u5185\\u8a33\\u5c65\\u6b74\"],[\"HANBAI\",\"eigyt\",\"\\u5168\\u793e\\u5927_\\u81ea\\u793e\\u9700\\u8981_\\u30d3\\uff33\",\"\\u6599\\u91d1\\u5185\\u8a33\\u5c65\\u6b74\"],[\"HANBAI\",\"eigyt\",\"\\u5168\\u793e\\u5927_\\u81ea\\u793e\\u9700\\u8981_\\u30d3\\uff33\",\"\\u6599\\u91d1\\u5185\\u8a33\\u5c65\\u6b74\"],[\"HANBAI\",\"eigyt\",\"\\u5168\\u793e\\u5927_\\u81ea\\u793e\\u9700\\u8981_\\u30d3\\uff33\",\"\\u6599\\u91d1\\u5185\\u8a33\\u5c65\\u6b74\"],[\"HANBAI\",\"eigyt\",\"\\u5168\\u793e\\u5927_\\u81ea\\u793e\\u9700\\u8981_\\u30d3\\uff33\",\"\\u6599\\u91d1\\u5185\\u8a33\\u5c65\\u6b74\"],[\"HANBAI\",\"eigyt\",\"\\u5168\\u793e\\u5927_\\u81ea\\u793e\\u9700\\u8981_\\u30d3\\uff33\",\"\\u6599\\u91d1\\u5185\\u8a33\\u5c65\\u6b74\"],[\"HANBAI\",\"eigyt\",\"\\u5168\\u793e\\u5927_\\u81ea\\u793e\\u9700\\u8981_\\u30d3\\uff33\",\"\\u6599\\u91d1\\u5185\\u8a33\\u5c65\\u6b74\"],[\"HANBAI\",\"eigyt\",\"\\u5168\\u793e\\u5927_\\u81ea\\u793e\\u9700\\u8981_\\u30d3\\uff33\",\"\\u6599\\u91d1\\u5185\\u8a33\\u5c65\\u6b74\"],[\"HANBAI\",\"eigyt\",\"\\u5168\\u793e\\u5927_\\u81ea\\u793e\\u9700\\u8981_\\u30d3\\uff33\",\"\\u6599\\u91d1\\u5185\\u8a33\\u5c65\\u6b74\"],[\"HANBAI\",\"eigyt\",\"\\u5168\\u793e\\u5927_\\u81ea\\u793e\\u9700\\u8981_\\u30d3\\uff33\",\"\\u6599\\u91d1\\u5185\\u8a33\\u5c65\\u6b74\"],[\"HANBAI\",\"eigyt\",\"\\u5168\\u793e\\u5927_\\u81ea\\u793e\\u9700\\u8981_\\u30d3\\uff33\",\"\\u6599\\u91d1\\u5185\\u8a33\\u5c65\\u6b74\"],[\"HANBAI\",\"eigyt\",\"\\u5168\\u793e\\u5927_\\u81ea\\u793e\\u9700\\u8981_\\u30d3\\uff33\",\"\\u6599\\u91d1\\u5185\\u8a33\\u5c65\\u6b74\"],[\"HANBAI\",\"eigyt\",\"\\u5168\\u793e\\u5927_\\u81ea\\u793e\\u9700\\u8981_\\u30d3\\uff33\",\"\\u6599\\u91d1\\u5185\\u8a33\\u5c65\\u6b74\"],[\"HANBAI\",\"eigyt\",\"\\u5168\\u793e\\u5927_\\u81ea\\u793e\\u9700\\u8981_\\u30d3\\uff33\",\"\\u6599\\u91d1\\u5185\\u8a33\\u5c65\\u6b74\"],[\"HANBAI\",\"eigyt\",\"\\u5168\\u793e\\u5927_\\u81ea\\u793e\\u9700\\u8981_\\u30d3\\uff33\",\"\\u6599\\u91d1\\u5185\\u8a33\\u5c65\\u6b74\"],[\"HANBAI\",\"eigyt\",\"\\u5168\\u793e\\u5927_\\u81ea\\u793e\\u9700\\u8981_\\u30d3\\uff33\",\"\\u6599\\u91d1\\u5185\\u8a33\\u5c65\\u6b74\"],[\"HANBAI\",\"eigyt\",\"\\u5168\\u793e\\u5927_\\u81ea\\u793e\\u9700\\u8981_\\u30d3\\uff33\",\"\\u6599\\u91d1\\u5185\\u8a33\\u5c65\\u6b74\"],[\"HANBAI\",\"eigyt\",\"\\u5168\\u793e\\u5927_\\u81ea\\u793e\\u9700\\u8981_\\u30d3\\uff33\",\"\\u6599\\u91d1\\u5185\\u8a33\\u5c65\\u6b74\"],[\"HANBAI\",\"eigyt\",\"\\u5168\\u793e\\u5927_\\u81ea\\u793e\\u9700\\u8981_\\u30d3\\uff33\",\"\\u6599\\u91d1\\u5185\\u8a33\\u5c65\\u6b74\"],[\"HANBAI\",\"eigyt\",\"\\u5168\\u793e\\u5927_\\u81ea\\u793e\\u9700\\u8981_\\u30d3\\uff33\",\"\\u6599\\u91d1\\u5185\\u8a33\\u5c65\\u6b74\"],[\"HANBAI\",\"eigyt\",\"\\u5168\\u793e\\u5927_\\u81ea\\u793e\\u9700\\u8981_\\u30d3\\uff33\",\"\\u6599\\u91d1\\u5185\\u8a33\\u5c65\\u6b74\"],[\"HANBAI\",\"eigyt\",\"\\u5168\\u793e\\u5927_\\u81ea\\u793e\\u9700\\u8981_\\u30d3\\uff33\",\"\\u6599\\u91d1\\u5185\\u8a33\\u5c65\\u6b74\"],[\"HANBAI\",\"eigyt\",\"\\u5168\\u793e\\u5927_\\u81ea\\u793e\\u9700\\u8981_\\u30d3\\uff33\",\"\\u6599\\u91d1\\u5185\\u8a33\\u5c65\\u6b74\"],[\"HANBAI\",\"eigyt\",\"\\u5168\\u793e\\u5927_\\u81ea\\u793e\\u9700\\u8981_\\u30d3\\uff33\",\"\\u6599\\u91d1\\u5185\\u8a33\\u5c65\\u6b74\"],[\"HANBAI\",\"eigyt\",\"\\u5168\\u793e\\u5927_\\u81ea\\u793e\\u9700\\u8981_\\u30d3\\uff33\",\"\\u6599\\u91d1\\u5185\\u8a33\\u5c65\\u6b74\"],[\"HANBAI\",\"eigyt\",\"\\u5168\\u793e\\u5927_\\u81ea\\u793e\\u9700\\u8981_\\u30d3\\uff33\",\"\\u6599\\u91d1\\u5185\\u8a33\\u5c65\\u6b74\"],[\"HANBAI\",\"eigyt\",\"\\u5168\\u793e\\u5927_\\u81ea\\u793e\\u9700\\u8981_\\u30d3\\uff33\",\"\\u6599\\u91d1\\u5185\\u8a33\\u5c65\\u6b74\"],[\"HANBAI\",\"eigyt\",\"\\u5168\\u793e\\u5927_\\u81ea\\u793e\\u9700\\u8981_\\u30d3\\uff33\",\"\\u6599\\u91d1\\u5185\\u8a33\\u5c65\\u6b74\"],[\"HANBAI\",\"eigyt\",\"\\u5168\\u793e\\u5927_\\u81ea\\u793e\\u9700\\u8981_\\u30d3\\uff33\",\"\\u6599\\u91d1\\u5185\\u8a33\\u5c65\\u6b74\"],[\"HANBAI\",\"eigyt\",\"\\u5168\\u793e\\u5927_\\u81ea\\u793e\\u9700\\u8981_\\u30d3\\uff33\",\"\\u6599\\u91d1\\u5185\\u8a33\\u5c65\\u6b74\"],[\"HANBAI\",\"eigyt\",\"\\u5168\\u793e\\u5927_\\u81ea\\u793e\\u9700\\u8981_\\u30d3\\uff33\",\"\\u6599\\u91d1\\u5185\\u8a33\\u5c65\\u6b74\"],[\"HANBAI\",\"eigyt\",\"\\u5168\\u793e\\u5927_\\u81ea\\u793e\\u9700\\u8981_\\u30d3\\uff33\",\"\\u6599\\u91d1\\u5185\\u8a33\\u5c65\\u6b74\"],[\"HANBAI\",\"eigyt\",\"\\u5168\\u793e\\u5927_\\u81ea\\u793e\\u9700\\u8981_\\u30d3\\uff33\",\"\\u6599\\u91d1\\u5185\\u8a33\\u5c65\\u6b74\"],[\"HANBAI\",\"eigyt\",\"\\u5168\\u793e\\u5927_\\u81ea\\u793e\\u9700\\u8981_\\u30d3\\uff33\",\"\\u6599\\u91d1\\u5185\\u8a33\\u5c65\\u6b74\"],[\"HANBAI\",\"eigyt\",\"\\u5168\\u793e\\u5927_\\u81ea\\u793e\\u9700\\u8981_\\u30d3\\uff33\",\"\\u6599\\u91d1\\u5185\\u8a33\\u5c65\\u6b74\"],[\"HANBAI\",\"eigyt\",\"\\u5168\\u793e\\u5927_\\u81ea\\u793e\\u9700\\u8981_\\u30d3\\uff33\",\"\\u6599\\u91d1\\u5185\\u8a33\\u5c65\\u6b74\"],[\"HANBAI\",\"eigyt\",\"\\u5168\\u793e\\u5927_\\u81ea\\u793e\\u9700\\u8981_\\u30d3\\uff33\",\"\\u6599\\u91d1\\u5185\\u8a33\\u5c65\\u6b74\"],[\"HANBAI\",\"eigyt\",\"\\u5168\\u793e\\u5927_\\u81ea\\u793e\\u9700\\u8981_\\u30d3\\uff33\",\"\\u6599\\u91d1\\u5185\\u8a33\\u5c65\\u6b74\"],[\"HANBAI\",\"eigyt\",\"\\u5168\\u793e\\u5927_\\u81ea\\u793e\\u9700\\u8981_\\u30d3\\uff33\",\"\\u6599\\u91d1\\u5185\\u8a33\\u5c65\\u6b74\"],[\"HANBAI\",\"eigyt\",\"\\u5168\\u793e\\u5927_\\u81ea\\u793e\\u9700\\u8981_\\u30d3\\uff33\",\"\\u6599\\u91d1\\u5185\\u8a33\\u5c65\\u6b74\"],[\"HANBAI\",\"eigyt\",\"\\u5168\\u793e\\u5927_\\u81ea\\u793e\\u9700\\u8981_\\u30d3\\uff33\",\"\\u6599\\u91d1\\u5185\\u8a33\\u5c65\\u6b74\"],[\"HANBAI\",\"eigyt\",\"\\u5168\\u793e\\u5927_\\u81ea\\u793e\\u9700\\u8981_\\u30d3\\uff33\",\"\\u6599\\u91d1\\u5185\\u8a33\\u5c65\\u6b74\"],[\"HANBAI\",\"eigyt\",\"\\u5168\\u793e\\u5927_\\u81ea\\u793e\\u9700\\u8981_\\u30d3\\uff33\",\"\\u6599\\u91d1\\u5185\\u8a33\\u5c65\\u6b74\"],[\"HANBAI\",\"eigyt\",\"\\u5168\\u793e\\u5927_\\u81ea\\u793e\\u9700\\u8981_\\u30d3\\uff33\",\"\\u6599\\u91d1\\u5185\\u8a33\\u5c65\\u6b74\"],[\"HANBAI\",\"eigyt\",\"\\u5168\\u793e\\u5927_\\u81ea\\u793e\\u9700\\u8981_\\u30d3\\uff33\",\"\\u6599\\u91d1\\u5185\\u8a33\\u5c65\\u6b74\"],[\"HANBAI\",\"eigyt\",\"\\u5168\\u793e\\u5927_\\u81ea\\u793e\\u9700\\u8981_\\u30d3\\uff33\",\"\\u6599\\u91d1\\u5185\\u8a33\\u5c65\\u6b74\"],[\"HANBAI\",\"eigyt\",\"\\u5168\\u793e\\u5927_\\u81ea\\u793e\\u9700\\u8981_\\u30d3\\uff33\",\"\\u6599\\u91d1\\u5185\\u8a33\\u5c65\\u6b74\"],[\"HANBAI\",\"eigyt\",\"\\u5168\\u793e\\u5927_\\u81ea\\u793e\\u9700\\u8981_\\u30d3\\uff33\",\"\\u6599\\u91d1\\u5185\\u8a33\\u5c65\\u6b74\"],[\"HANBAI\",\"eigyt\",\"\\u5168\\u793e\\u5927_\\u81ea\\u793e\\u9700\\u8981_\\u30d3\\uff33\",\"\\u6599\\u91d1\\u5185\\u8a33\\u5c65\\u6b74\"],[\"HANBAI\",\"eigyt\",\"\\u5168\\u793e\\u5927_\\u81ea\\u793e\\u9700\\u8981_\\u30d3\\uff33\",\"\\u6599\\u91d1\\u5185\\u8a33\\u5c65\\u6b74\"],[\"HANBAI\",\"eigyt\",\"\\u5168\\u793e\\u5927_\\u81ea\\u793e\\u9700\\u8981_\\u30d3\\uff33\",\"\\u6599\\u91d1\\u5185\\u8a33\\u5c65\\u6b74\"],[\"HANBAI\",\"eigyt\",\"\\u5168\\u793e\\u5927_\\u81ea\\u793e\\u9700\\u8981_\\u30d3\\uff33\",\"\\u6599\\u91d1\\u5185\\u8a33\\u5c65\\u6b74\"],[\"HANBAI\",\"eigyt\",\"\\u5168\\u793e\\u5927_\\u81ea\\u793e\\u9700\\u8981_\\u30d3\\uff33\",\"\\u6599\\u91d1\\u5185\\u8a33\\u5c65\\u6b74\"],[\"HANBAI\",\"eigyt\",\"\\u5168\\u793e\\u5927_\\u81ea\\u793e\\u9700\\u8981_\\u30d3\\uff33\",\"\\u6599\\u91d1\\u5185\\u8a33\\u5c65\\u6b74\"],[\"HANBAI\",\"eigyt\",\"\\u5168\\u793e\\u5927_\\u81ea\\u793e\\u9700\\u8981_\\u30d3\\uff33\",\"\\u6599\\u91d1\\u5185\\u8a33\\u5c65\\u6b74\"],[\"HANBAI\",\"eigyt\",\"\\u5168\\u793e\\u5927_\\u81ea\\u793e\\u9700\\u8981_\\u30d3\\uff33\",\"\\u6599\\u91d1\\u5185\\u8a33\\u5c65\\u6b74\"],[\"HANBAI\",\"eigyt\",\"\\u5168\\u793e\\u5927_\\u81ea\\u793e\\u9700\\u8981_\\u30d3\\uff33\",\"\\u6599\\u91d1\\u5185\\u8a33\\u5c65\\u6b74\"],[\"HANBAI\",\"eigyt\",\"\\u5168\\u793e\\u5927_\\u81ea\\u793e\\u9700\\u8981_\\u30d3\\uff33\",\"\\u6599\\u91d1\\u5185\\u8a33\\u5c65\\u6b74\"],[\"HANBAI\",\"eigyt\",\"\\u5168\\u793e\\u5927_\\u81ea\\u793e\\u9700\\u8981_\\u30d3\\uff33\",\"\\u6599\\u91d1\\u5185\\u8a33\\u5c65\\u6b74\"],[\"HANBAI\",\"eigyt\",\"\\u5168\\u793e\\u5927_\\u81ea\\u793e\\u9700\\u8981_\\u30d3\\uff33\",\"\\u6599\\u91d1\\u5185\\u8a33\\u5c65\\u6b74\"],[\"HANBAI\",\"eigyt\",\"\\u5168\\u793e\\u5927_\\u81ea\\u793e\\u9700\\u8981_\\u30d3\\uff33\",\"\\u6599\\u91d1\\u5185\\u8a33\\u5c65\\u6b74\"],[\"HANBAI\",\"eigyt\",\"\\u5168\\u793e\\u5927_\\u81ea\\u793e\\u9700\\u8981_\\u30d3\\uff33\",\"\\u6599\\u91d1\\u5185\\u8a33\\u5c65\\u6b74\"],[\"HANBAI\",\"eigyt\",\"\\u5168\\u793e\\u5927_\\u81ea\\u793e\\u9700\\u8981_\\u30d3\\uff33\",\"\\u6599\\u91d1\\u5185\\u8a33\\u5c65\\u6b74\"],[\"HANBAI\",\"eigyt\",\"\\u5168\\u793e\\u5927_\\u81ea\\u793e\\u9700\\u8981_\\u30d3\\uff33\",\"\\u6599\\u91d1\\u5185\\u8a33\\u5c65\\u6b74\"],[\"HANBAI\",\"eigyt\",\"\\u5168\\u793e\\u5927_\\u81ea\\u793e\\u9700\\u8981_\\u30d3\\uff33\",\"\\u6599\\u91d1\\u5185\\u8a33\\u5c65\\u6b74\"],[\"HANBAI\",\"eigyt\",\"\\u5168\\u793e\\u5927_\\u81ea\\u793e\\u9700\\u8981_\\u30d3\\uff33\",\"\\u6599\\u91d1\\u5185\\u8a33\\u5c65\\u6b74\"],[\"HANBAI\",\"eigyt\",\"\\u5168\\u793e\\u5927_\\u81ea\\u793e\\u9700\\u8981_\\u30d3\\uff33\",\"\\u6599\\u91d1\\u5185\\u8a33\\u5c65\\u6b74\"],[\"HANBAI\",\"eigyt\",\"\\u5168\\u793e\\u5927_\\u81ea\\u793e\\u9700\\u8981_\\u30d3\\uff33\",\"\\u6599\\u91d1\\u5185\\u8a33\\u5c65\\u6b74\"],[\"HANBAI\",\"eigyt\",\"\\u5168\\u793e\\u5927_\\u81ea\\u793e\\u9700\\u8981_\\u30d3\\uff33\",\"\\u6599\\u91d1\\u5185\\u8a33\\u5c65\\u6b74\"],[\"HANBAI\",\"eigyt\",\"\\u5168\\u793e\\u5927_\\u81ea\\u793e\\u9700\\u8981_\\u30d3\\uff33\",\"\\u6599\\u91d1\\u5185\\u8a33\\u5c65\\u6b74\"],[\"HANBAI\",\"eigyt\",\"\\u5168\\u793e\\u5927_\\u81ea\\u793e\\u9700\\u8981_\\u30d3\\uff33\",\"\\u6599\\u91d1\\u5185\\u8a33\\u5c65\\u6b74\"],[\"HANBAI\",\"eigyt\",\"\\u5168\\u793e\\u5927_\\u81ea\\u793e\\u9700\\u8981_\\u30d3\\uff33\",\"\\u6599\\u91d1\\u5185\\u8a33\\u5c65\\u6b74\"],[\"HANBAI\",\"eigyt\",\"\\u5168\\u793e\\u5927_\\u81ea\\u793e\\u9700\\u8981_\\u30d3\\uff33\",\"\\u6599\\u91d1\\u5185\\u8a33\\u5c65\\u6b74\"],[\"HANBAI\",\"eigyt\",\"\\u5168\\u793e\\u5927_\\u81ea\\u793e\\u9700\\u8981_\\u30d3\\uff33\",\"\\u6599\\u91d1\\u5185\\u8a33\\u5c65\\u6b74\"],[\"HANBAI\",\"eigyt\",\"\\u5168\\u793e\\u5927_\\u81ea\\u793e\\u9700\\u8981_\\u30d3\\uff33\",\"\\u6599\\u91d1\\u5185\\u8a33\\u5c65\\u6b74\"],[\"HANBAI\",\"eigyt\",\"\\u5168\\u793e\\u5927_\\u81ea\\u793e\\u9700\\u8981_\\u30d3\\uff33\",\"\\u6599\\u91d1\\u5185\\u8a33\\u5c65\\u6b74\"],[\"HANBAI\",\"eigyt\",\"\\u5168\\u793e\\u5927_\\u81ea\\u793e\\u9700\\u8981_\\u30d3\\uff33\",\"\\u6599\\u91d1\\u5185\\u8a33\\u5c65\\u6b74\"],[\"HANBAI\",\"eigyt\",\"\\u5168\\u793e\\u5927_\\u81ea\\u793e\\u9700\\u8981_\\u30d3\\uff33\",\"\\u6599\\u91d1\\u5185\\u8a33\\u5c65\\u6b74\"],[\"HANBAI\",\"eigyt\",\"\\u5168\\u793e\\u5927_\\u81ea\\u793e\\u9700\\u8981_\\u30d3\\uff33\",\"\\u6599\\u91d1\\u5185\\u8a33\\u5c65\\u6b74\"],[\"HANBAI\",\"eigyt\",\"\\u5168\\u793e\\u5927_\\u81ea\\u793e\\u9700\\u8981_\\u30d3\\uff33\",\"\\u6599\\u91d1\\u5185\\u8a33\\u5c65\\u6b74\"],[\"HANBAI\",\"eigyt\",\"\\u5168\\u793e\\u5927_\\u81ea\\u793e\\u9700\\u8981_\\u30d3\\uff33\",\"\\u6599\\u91d1\\u5185\\u8a33\\u5c65\\u6b74\"],[\"HANBAI\",\"eigyt\",\"\\u5168\\u793e\\u5927_\\u81ea\\u793e\\u9700\\u8981_\\u30d3\\uff33\",\"\\u6599\\u91d1\\u5185\\u8a33\\u5c65\\u6b74\"],[\"HANBAI\",\"eigyt\",\"\\u5168\\u793e\\u5927_\\u81ea\\u793e\\u9700\\u8981_\\u30d3\\uff33\",\"\\u6599\\u91d1\\u5185\\u8a33\\u5c65\\u6b74\"],[\"HANBAI\",\"eigyt\",\"\\u5168\\u793e\\u5927_\\u81ea\\u793e\\u9700\\u8981_\\u30d3\\uff33\",\"\\u6599\\u91d1\\u5185\\u8a33\\u5c65\\u6b74\"],[\"HANBAI\",\"eigyt\",\"\\u5168\\u793e\\u5927_\\u81ea\\u793e\\u9700\\u8981_\\u30d3\\uff33\",\"\\u6599\\u91d1\\u5185\\u8a33\\u5c65\\u6b74\"],[\"HANBAI\",\"eigyt\",\"\\u5168\\u793e\\u5927_\\u81ea\\u793e\\u9700\\u8981_\\u30d3\\uff33\",\"\\u6599\\u91d1\\u5185\\u8a33\\u5c65\\u6b74\"],[\"HANBAI\",\"eigyt\",\"\\u5168\\u793e\\u5927_\\u81ea\\u793e\\u9700\\u8981_\\u30d3\\uff33\",\"\\u6599\\u91d1\\u5185\\u8a33\\u5c65\\u6b74\"],[\"HANBAI\",\"eigyt\",\"\\u5168\\u793e\\u5927_\\u81ea\\u793e\\u9700\\u8981_\\u30d3\\uff33\",\"\\u6599\\u91d1\\u5185\\u8a33\\u5c65\\u6b74\"],[\"HANBAI\",\"eigyt\",\"\\u5168\\u793e\\u5927_\\u81ea\\u793e\\u9700\\u8981_\\u30d3\\uff33\",\"\\u6599\\u91d1\\u5185\\u8a33\\u5c65\\u6b74\"],[\"HANBAI\",\"eigyt\",\"\\u5168\\u793e\\u5927_\\u81ea\\u793e\\u9700\\u8981_\\u30d3\\uff33\",\"\\u6599\\u91d1\\u5185\\u8a33\\u5c65\\u6b74\"],[\"HANBAI\",\"eigyt\",\"\\u5168\\u793e\\u5927_\\u81ea\\u793e\\u9700\\u8981_\\u30d3\\uff33\",\"\\u6599\\u91d1\\u5185\\u8a33\\u5c65\\u6b74\"],[\"HANBAI\",\"eigyt\",\"\\u5168\\u793e\\u5927_\\u81ea\\u793e\\u9700\\u8981_\\u30d3\\uff33\",\"\\u6599\\u91d1\\u5185\\u8a33\\u5c65\\u6b74\"],[\"HANBAI\",\"eigyt\",\"\\u5168\\u793e\\u5927_\\u81ea\\u793e\\u9700\\u8981_\\u30d3\\uff33\",\"\\u6599\\u91d1\\u5185\\u8a33\\u5c65\\u6b74\"],[\"HANBAI\",\"eigyt\",\"\\u5168\\u793e\\u5927_\\u81ea\\u793e\\u9700\\u8981_\\u30d3\\uff33\",\"\\u6599\\u91d1\\u5185\\u8a33\\u5c65\\u6b74\"],[\"HANBAI\",\"eigyt\",\"\\u5168\\u793e\\u5927_\\u81ea\\u793e\\u9700\\u8981_\\u30d3\\uff33\",\"\\u6599\\u91d1\\u5185\\u8a33\\u5c65\\u6b74\"],[\"HANBAI\",\"eigyt\",\"\\u5168\\u793e\\u5927_\\u81ea\\u793e\\u9700\\u8981_\\u30d3\\uff33\",\"\\u6599\\u91d1\\u5185\\u8a33\\u5c65\\u6b74\"],[\"HANBAI\",\"eigyt\",\"\\u5168\\u793e\\u5927_\\u81ea\\u793e\\u9700\\u8981_\\u30d3\\uff33\",\"\\u6599\\u91d1\\u5185\\u8a33\\u5c65\\u6b74\"],[\"HANBAI\",\"eigyt\",\"\\u5168\\u793e\\u5927_\\u81ea\\u793e\\u9700\\u8981_\\u30d3\\uff33\",\"\\u6599\\u91d1\\u5185\\u8a33\\u5c65\\u6b74\"],[\"HANBAI\",\"eigyt\",\"\\u5168\\u793e\\u5927_\\u81ea\\u793e\\u9700\\u8981_\\u30d3\\uff33\",\"\\u6599\\u91d1\\u5185\\u8a33\\u5c65\\u6b74\"],[\"HANBAI\",\"eigyt\",\"\\u5168\\u793e\\u5927_\\u81ea\\u793e\\u9700\\u8981_\\u30d3\\uff33\",\"\\u6599\\u91d1\\u5185\\u8a33\\u5c65\\u6b74\"],[\"HANBAI\",\"eigyt\",\"\\u5168\\u793e\\u5927_\\u81ea\\u793e\\u9700\\u8981_\\u30d3\\uff33\",\"\\u6599\\u91d1\\u5185\\u8a33\\u5c65\\u6b74\"],[\"HANBAI\",\"eigyt\",\"\\u5168\\u793e\\u5927_\\u81ea\\u793e\\u9700\\u8981_\\u30d3\\uff33\",\"\\u6599\\u91d1\\u5185\\u8a33\\u5c65\\u6b74\"],[\"HANBAI\",\"eigyt\",\"\\u5168\\u793e\\u5927_\\u81ea\\u793e\\u9700\\u8981_\\u30d3\\uff33\",\"\\u6599\\u91d1\\u5185\\u8a33\\u5c65\\u6b74\"],[\"HANBAI\",\"eigyt\",\"\\u5168\\u793e\\u5927_\\u81ea\\u793e\\u9700\\u8981_\\u30d3\\uff33\",\"\\u6599\\u91d1\\u5185\\u8a33\\u5c65\\u6b74\"],[\"HANBAI\",\"eigyt\",\"\\u5168\\u793e\\u5927_\\u81ea\\u793e\\u9700\\u8981_\\u30d3\\uff33\",\"\\u6599\\u91d1\\u5185\\u8a33\\u5c65\\u6b74\"],[\"HANBAI\",\"eigyt\",\"\\u5168\\u793e\\u5927_\\u81ea\\u793e\\u9700\\u8981_\\u30d3\\uff33\",\"\\u6599\\u91d1\\u5185\\u8a33\\u5c65\\u6b74\"],[\"HANBAI\",\"eigyt\",\"\\u5168\\u793e\\u5927_\\u81ea\\u793e\\u9700\\u8981_\\u30d3\\uff33\",\"\\u6599\\u91d1\\u5185\\u8a33\\u5c65\\u6b74\"],[\"HANBAI\",\"eigyt\",\"\\u5168\\u793e\\u5927_\\u81ea\\u793e\\u9700\\u8981_\\u30d3\\uff33\",\"\\u6599\\u91d1\\u5185\\u8a33\\u5c65\\u6b74\"],[\"HANBAI\",\"eigyt\",\"\\u5168\\u793e\\u5927_\\u81ea\\u793e\\u9700\\u8981_\\u30d3\\uff33\",\"\\u6599\\u91d1\\u5185\\u8a33\\u5c65\\u6b74\"],[\"HANBAI\",\"eigyt\",\"\\u5168\\u793e\\u5927_\\u81ea\\u793e\\u9700\\u8981_\\u30d3\\uff33\",\"\\u6599\\u91d1\\u5185\\u8a33\\u5c65\\u6b74\"],[\"HANBAI\",\"eigyt\",\"\\u5168\\u793e\\u5927_\\u81ea\\u793e\\u9700\\u8981_\\u30d3\\uff33\",\"\\u6599\\u91d1\\u5185\\u8a33\\u5c65\\u6b74\"],[\"HANBAI\",\"eigyt\",\"\\u5168\\u793e\\u5927_\\u81ea\\u793e\\u9700\\u8981_\\u30d3\\uff33\",\"\\u6599\\u91d1\\u5185\\u8a33\\u5c65\\u6b74\"],[\"HANBAI\",\"eigyt\",\"\\u5168\\u793e\\u5927_\\u81ea\\u793e\\u9700\\u8981_\\u30d3\\uff33\",\"\\u6599\\u91d1\\u5185\\u8a33\\u5c65\\u6b74\"],[\"HANBAI\",\"eigyt\",\"\\u5168\\u793e\\u5927_\\u81ea\\u793e\\u9700\\u8981_\\u30d3\\uff33\",\"\\u6599\\u91d1\\u5185\\u8a33\\u5c65\\u6b74\"],[\"HANBAI\",\"eigyt\",\"\\u5168\\u793e\\u5927_\\u81ea\\u793e\\u9700\\u8981_\\u30d3\\uff33\",\"\\u6599\\u91d1\\u5185\\u8a33\\u5c65\\u6b74\"],[\"HANBAI\",\"eigyt\",\"\\u5168\\u793e\\u5927_\\u81ea\\u793e\\u9700\\u8981_\\u30d3\\uff33\",\"\\u6599\\u91d1\\u5185\\u8a33\\u5c65\\u6b74\"],[\"HANBAI\",\"eigyt\",\"\\u5168\\u793e\\u5927_\\u81ea\\u793e\\u9700\\u8981_\\u30d3\\uff33\",\"\\u6599\\u91d1\\u5185\\u8a33\\u5c65\\u6b74\"],[\"HANBAI\",\"eigyt\",\"\\u5168\\u793e\\u5927_\\u81ea\\u793e\\u9700\\u8981_\\u30d3\\uff33\",\"\\u6599\\u91d1\\u5185\\u8a33\\u5c65\\u6b74\"],[\"HANBAI\",\"eigyt\",\"\\u5168\\u793e\\u5927_\\u81ea\\u793e\\u9700\\u8981_\\u30d3\\uff33\",\"\\u6599\\u91d1\\u5185\\u8a33\\u5c65\\u6b74\"],[\"HANBAI\",\"eigyt\",\"\\u5168\\u793e\\u5927_\\u81ea\\u793e\\u9700\\u8981_\\u30d3\\uff33\",\"\\u6599\\u91d1\\u5185\\u8a33\\u5c65\\u6b74\"],[\"HANBAI\",\"eigyt\",\"\\u5168\\u793e\\u5927_\\u81ea\\u793e\\u9700\\u8981_\\u30d3\\uff33\",\"\\u6599\\u91d1\\u5185\\u8a33\\u5c65\\u6b74\"],[\"HANBAI\",\"eigyt\",\"\\u5168\\u793e\\u5927_\\u81ea\\u793e\\u9700\\u8981_\\u30d3\\uff33\",\"\\u6599\\u91d1\\u5185\\u8a33\\u5c65\\u6b74\"],[\"HANBAI\",\"eigyt\",\"\\u5168\\u793e\\u5927_\\u81ea\\u793e\\u9700\\u8981_\\u30d3\\uff33\",\"\\u6599\\u91d1\\u5185\\u8a33\\u5c65\\u6b74\"],[\"HANBAI\",\"eigyt\",\"\\u5168\\u793e\\u5927_\\u81ea\\u793e\\u9700\\u8981_\\u30d3\\uff33\",\"\\u6599\\u91d1\\u5185\\u8a33\\u5c65\\u6b74\"],[\"HANBAI\",\"eigyt\",\"\\u5168\\u793e\\u5927_\\u81ea\\u793e\\u9700\\u8981_\\u30d3\\uff33\",\"\\u6599\\u91d1\\u5185\\u8a33\\u5c65\\u6b74\"],[\"HANBAI\",\"eigyt\",\"\\u5168\\u793e\\u5927_\\u81ea\\u793e\\u9700\\u8981_\\u30d3\\uff33\",\"\\u6599\\u91d1\\u5185\\u8a33\\u5c65\\u6b74\"],[\"HANBAI\",\"eigyt\",\"\\u5168\\u793e\\u5927_\\u81ea\\u793e\\u9700\\u8981_\\u30d3\\uff33\",\"\\u6599\\u91d1\\u5185\\u8a33\\u5c65\\u6b74\"],[\"HANBAI\",\"eigyt\",\"\\u5168\\u793e\\u5927_\\u81ea\\u793e\\u9700\\u8981_\\u30d3\\uff33\",\"\\u6599\\u91d1\\u5185\\u8a33\\u5c65\\u6b74\"],[\"HANBAI\",\"eigyt\",\"\\u5168\\u793e\\u5927_\\u81ea\\u793e\\u9700\\u8981_\\u30d3\\uff33\",\"\\u6599\\u91d1\\u5185\\u8a33\\u5c65\\u6b74\"],[\"HANBAI\",\"eigyt\",\"\\u5168\\u793e\\u5927_\\u81ea\\u793e\\u9700\\u8981_\\u30d3\\uff33\",\"\\u6599\\u91d1\\u5185\\u8a33\\u5c65\\u6b74\"],[\"HANBAI\",\"eigyt\",\"\\u5168\\u793e\\u5927_\\u81ea\\u793e\\u9700\\u8981_\\u30d3\\uff33\",\"\\u6599\\u91d1\\u5185\\u8a33\\u5c65\\u6b74\"],[\"HANBAI\",\"eigyt\",\"\\u5168\\u793e\\u5927_\\u81ea\\u793e\\u9700\\u8981_\\u30d3\\uff33\",\"\\u6599\\u91d1\\u5185\\u8a33\\u5c65\\u6b74\"],[\"HANBAI\",\"eigyt\",\"\\u5168\\u793e\\u5927_\\u81ea\\u793e\\u9700\\u8981_\\u30d3\\uff33\",\"\\u6599\\u91d1\\u5185\\u8a33\\u5c65\\u6b74\"],[\"HANBAI\",\"eigyt\",\"\\u5168\\u793e\\u5927_\\u81ea\\u793e\\u9700\\u8981_\\u30d3\\uff33\",\"\\u6599\\u91d1\\u5185\\u8a33\\u5c65\\u6b74\"],[\"HANBAI\",\"eigyt\",\"\\u5168\\u793e\\u5927_\\u81ea\\u793e\\u9700\\u8981_\\u30d3\\uff33\",\"\\u6599\\u91d1\\u5185\\u8a33\\u5c65\\u6b74\"],[\"HANBAI\",\"eigyt\",\"\\u5168\\u793e\\u5927_\\u81ea\\u793e\\u9700\\u8981_\\u30d3\\uff33\",\"\\u6599\\u91d1\\u5185\\u8a33\\u5c65\\u6b74\"],[\"HANBAI\",\"eigyt\",\"\\u5168\\u793e\\u5927_\\u81ea\\u793e\\u9700\\u8981_\\u30d3\\uff33\",\"\\u6599\\u91d1\\u5185\\u8a33\\u5c65\\u6b74\"],[\"HANBAI\",\"eigyt\",\"\\u5168\\u793e\\u5927_\\u81ea\\u793e\\u9700\\u8981_\\u30d3\\uff33\",\"\\u6599\\u91d1\\u5185\\u8a33\\u5c65\\u6b74\"],[\"HANBAI\",\"eigyt\",\"\\u5168\\u793e\\u5927_\\u81ea\\u793e\\u9700\\u8981_\\u30d3\\uff33\",\"\\u6599\\u91d1\\u5185\\u8a33\\u5c65\\u6b74\"],[\"HANBAI\",\"eigyt\",\"\\u5168\\u793e\\u5927_\\u81ea\\u793e\\u9700\\u8981_\\u30d3\\uff33\",\"\\u6599\\u91d1\\u5185\\u8a33\\u5c65\\u6b74\"],[\"HANBAI\",\"eigyt\",\"\\u5168\\u793e\\u5927_\\u81ea\\u793e\\u9700\\u8981_\\u30d3\\uff33\",\"\\u6599\\u91d1\\u5185\\u8a33\\u5c65\\u6b74\"],[\"HANBAI\",\"eigyt\",\"\\u5168\\u793e\\u5927_\\u81ea\\u793e\\u9700\\u8981_\\u30d3\\uff33\",\"\\u6599\\u91d1\\u5185\\u8a33\\u5c65\\u6b74\"],[\"HANBAI\",\"eigyt\",\"\\u5168\\u793e\\u5927_\\u81ea\\u793e\\u9700\\u8981_\\u30d3\\uff33\",\"\\u6599\\u91d1\\u5185\\u8a33\\u5c65\\u6b74\"],[\"HANBAI\",\"eigyt\",\"\\u5168\\u793e\\u5927_\\u81ea\\u793e\\u9700\\u8981_\\u30d3\\uff33\",\"\\u6599\\u91d1\\u5185\\u8a33\\u5c65\\u6b74\"],[\"HANBAI\",\"eigyt\",\"\\u5168\\u793e\\u5927_\\u81ea\\u793e\\u9700\\u8981_\\u30d3\\uff33\",\"\\u6599\\u91d1\\u5185\\u8a33\\u5c65\\u6b74\"],[\"HANBAI\",\"eigyt\",\"\\u5168\\u793e\\u5927_\\u81ea\\u793e\\u9700\\u8981_\\u30d3\\uff33\",\"\\u6599\\u91d1\\u5185\\u8a33\\u5c65\\u6b74\"],[\"HANBAI\",\"eigyt\",\"\\u5168\\u793e\\u5927_\\u81ea\\u793e\\u9700\\u8981_\\u30d3\\uff33\",\"\\u6599\\u91d1\\u5185\\u8a33\\u5c65\\u6b74\"],[\"HANBAI\",\"eigyt\",\"\\u5168\\u793e\\u5927_\\u81ea\\u793e\\u9700\\u8981_\\u30d3\\uff33\",\"\\u6599\\u91d1\\u5185\\u8a33\\u5c65\\u6b74\"],[\"HANBAI\",\"eigyt\",\"\\u5168\\u793e\\u5927_\\u81ea\\u793e\\u9700\\u8981_\\u30d3\\uff33\",\"\\u6599\\u91d1\\u5185\\u8a33\\u5c65\\u6b74\"],[\"HANBAI\",\"eigyt\",\"\\u5168\\u793e\\u5927_\\u81ea\\u793e\\u9700\\u8981_\\u30d3\\uff33\",\"\\u6599\\u91d1\\u5185\\u8a33\\u5c65\\u6b74\"],[\"HANBAI\",\"eigyt\",\"\\u5168\\u793e\\u5927_\\u81ea\\u793e\\u9700\\u8981_\\u30d3\\uff33\",\"\\u6599\\u91d1\\u5185\\u8a33\\u5c65\\u6b74\"],[\"HANBAI\",\"eigyt\",\"\\u5168\\u793e\\u5927_\\u81ea\\u793e\\u9700\\u8981_\\u30d3\\uff33\",\"\\u6599\\u91d1\\u5185\\u8a33\\u5c65\\u6b74\"],[\"HANBAI\",\"eigyt\",\"\\u5168\\u793e\\u5927_\\u81ea\\u793e\\u9700\\u8981_\\u30d3\\uff33\",\"\\u6599\\u91d1\\u5185\\u8a33\\u5c65\\u6b74\"],[\"HANBAI\",\"eigyt\",\"\\u5168\\u793e\\u5927_\\u81ea\\u793e\\u9700\\u8981_\\u30d3\\uff33\",\"\\u6599\\u91d1\\u5185\\u8a33\\u5c65\\u6b74\"],[\"HANBAI\",\"eigyt\",\"\\u5168\\u793e\\u5927_\\u81ea\\u793e\\u9700\\u8981_\\u30d3\\uff33\",\"\\u6599\\u91d1\\u5185\\u8a33\\u5c65\\u6b74\"],[\"HANBAI\",\"eigyt\",\"\\u5168\\u793e\\u5927_\\u81ea\\u793e\\u9700\\u8981_\\u30d3\\uff33\",\"\\u6599\\u91d1\\u5185\\u8a33\\u5c65\\u6b74\"],[\"HANBAI\",\"eigyt\",\"\\u5168\\u793e\\u5927_\\u81ea\\u793e\\u9700\\u8981_\\u30d3\\uff33\",\"\\u6599\\u91d1\\u5185\\u8a33\\u5c65\\u6b74\"],[\"HANBAI\",\"eigyt\",\"\\u5168\\u793e\\u5927_\\u81ea\\u793e\\u9700\\u8981_\\u30d3\\uff33\",\"\\u6599\\u91d1\\u5185\\u8a33\\u5c65\\u6b74\"],[\"HANBAI\",\"eigyt\",\"\\u5168\\u793e\\u5927_\\u81ea\\u793e\\u9700\\u8981_\\u30d3\\uff33\",\"\\u6599\\u91d1\\u5185\\u8a33\\u5c65\\u6b74\"],[\"HANBAI\",\"eigyt\",\"\\u5168\\u793e\\u5927_\\u81ea\\u793e\\u9700\\u8981_\\u30d3\\uff33\",\"\\u6599\\u91d1\\u5185\\u8a33\\u5c65\\u6b74\"],[\"HANBAI\",\"eigyt\",\"\\u5168\\u793e\\u5927_\\u81ea\\u793e\\u9700\\u8981_\\u30d3\\uff33\",\"\\u6599\\u91d1\\u5185\\u8a33\\u5c65\\u6b74\"],[\"HANBAI\",\"eigyt\",\"\\u5168\\u793e\\u5927_\\u81ea\\u793e\\u9700\\u8981_\\u30d3\\uff33\",\"\\u6599\\u91d1\\u5185\\u8a33\\u5c65\\u6b74\"],[\"HANBAI\",\"eigyt\",\"\\u5168\\u793e\\u5927_\\u81ea\\u793e\\u9700\\u8981_\\u30d3\\uff33\",\"\\u6599\\u91d1\\u5185\\u8a33\\u5c65\\u6b74\"],[\"HANBAI\",\"eigyt\",\"\\u5168\\u793e\\u5927_\\u81ea\\u793e\\u9700\\u8981_\\u30d3\\uff33\",\"\\u6599\\u91d1\\u5185\\u8a33\\u5c65\\u6b74\"],[\"HANBAI\",\"eigyt\",\"\\u5168\\u793e\\u5927_\\u81ea\\u793e\\u9700\\u8981_\\u30d3\\uff33\",\"\\u6599\\u91d1\\u5185\\u8a33\\u5c65\\u6b74\"],[\"HANBAI\",\"eigyt\",\"\\u5168\\u793e\\u5927_\\u81ea\\u793e\\u9700\\u8981_\\u30d3\\uff33\",\"\\u6599\\u91d1\\u5185\\u8a33\\u5c65\\u6b74\"],[\"HANBAI\",\"eigyt\",\"\\u5168\\u793e\\u5927_\\u81ea\\u793e\\u9700\\u8981_\\u30d3\\uff33\",\"\\u6599\\u91d1\\u5185\\u8a33\\u5c65\\u6b74\"],[\"HANBAI\",\"eigyt\",\"\\u5168\\u793e\\u5927_\\u81ea\\u793e\\u9700\\u8981_\\u30d3\\uff33\",\"\\u6599\\u91d1\\u5185\\u8a33\\u5c65\\u6b74\"],[\"HANBAI\",\"eigyt\",\"\\u5168\\u793e\\u5927_\\u81ea\\u793e\\u9700\\u8981_\\u30d3\\uff33\",\"\\u6599\\u91d1\\u5185\\u8a33\\u5c65\\u6b74\"],[\"HANBAI\",\"eigyt\",\"\\u5168\\u793e\\u5927_\\u81ea\\u793e\\u9700\\u8981_\\u30d3\\uff33\",\"\\u6599\\u91d1\\u5185\\u8a33\\u5c65\\u6b74\"],[\"HANBAI\",\"eigyt\",\"\\u5168\\u793e\\u5927_\\u81ea\\u793e\\u9700\\u8981_\\u30d3\\uff33\",\"\\u6599\\u91d1\\u5185\\u8a33\\u5c65\\u6b74\"],[\"HANBAI\",\"eigyt\",\"\\u5168\\u793e\\u5927_\\u81ea\\u793e\\u9700\\u8981_\\u30d3\\uff33\",\"\\u6599\\u91d1\\u5185\\u8a33\\u5c65\\u6b74\"],[\"HANBAI\",\"eigyt\",\"\\u5168\\u793e\\u5927_\\u81ea\\u793e\\u9700\\u8981_\\u30d3\\uff33\",\"\\u6599\\u91d1\\u5185\\u8a33\\u5c65\\u6b74\"],[\"HANBAI\",\"eigyt\",\"\\u5168\\u793e\\u5927_\\u81ea\\u793e\\u9700\\u8981_\\u30d3\\uff33\",\"\\u6599\\u91d1\\u5185\\u8a33\\u5c65\\u6b74\"],[\"HANBAI\",\"eigyt\",\"\\u5168\\u793e\\u5927_\\u81ea\\u793e\\u9700\\u8981_\\u30d3\\uff33\",\"\\u6599\\u91d1\\u5185\\u8a33\\u5c65\\u6b74\"],[\"HANBAI\",\"eigyt\",\"\\u5168\\u793e\\u5927_\\u81ea\\u793e\\u9700\\u8981_\\u30d3\\uff33\",\"\\u6599\\u91d1\\u5185\\u8a33\\u5c65\\u6b74\"],[\"HANBAI\",\"eigyt\",\"\\u5168\\u793e\\u5927_\\u81ea\\u793e\\u9700\\u8981_\\u30d3\\uff33\",\"\\u6599\\u91d1\\u5185\\u8a33\\u5c65\\u6b74\"],[\"HANBAI\",\"eigyt\",\"\\u5168\\u793e\\u5927_\\u81ea\\u793e\\u9700\\u8981_\\u30d3\\uff33\",\"\\u6599\\u91d1\\u5185\\u8a33\\u5c65\\u6b74\"],[\"HANBAI\",\"eigyt\",\"\\u5168\\u793e\\u5927_\\u81ea\\u793e\\u9700\\u8981_\\u30d3\\uff33\",\"\\u6599\\u91d1\\u5185\\u8a33\\u5c65\\u6b74\"],[\"HANBAI\",\"eigyt\",\"\\u5168\\u793e\\u5927_\\u81ea\\u793e\\u9700\\u8981_\\u30d3\\uff33\",\"\\u6599\\u91d1\\u5185\\u8a33\\u5c65\\u6b74\"],[\"HANBAI\",\"eigyt\",\"\\u5168\\u793e\\u5927_\\u81ea\\u793e\\u9700\\u8981_\\u30d3\\uff33\",\"\\u6599\\u91d1\\u5185\\u8a33\\u5c65\\u6b74\"],[\"HANBAI\",\"eigyt\",\"\\u5168\\u793e\\u5927_\\u81ea\\u793e\\u9700\\u8981_\\u30d3\\uff33\",\"\\u6599\\u91d1\\u5185\\u8a33\\u5c65\\u6b74\"],[\"HANBAI\",\"eigyt\",\"\\u5168\\u793e\\u5927_\\u81ea\\u793e\\u9700\\u8981_\\u30d3\\uff33\",\"\\u6599\\u91d1\\u5185\\u8a33\\u5c65\\u6b74\"],[\"HANBAI\",\"eigyt\",\"\\u5168\\u793e\\u5927_\\u81ea\\u793e\\u9700\\u8981_\\u30d3\\uff33\",\"\\u6599\\u91d1\\u5185\\u8a33\\u5c65\\u6b74\"],[\"HANBAI\",\"eigyt\",\"\\u5168\\u793e\\u5927_\\u81ea\\u793e\\u9700\\u8981_\\u30d3\\uff33\",\"\\u6599\\u91d1\\u5185\\u8a33\\u5c65\\u6b74\"],[\"HANBAI\",\"eigyt\",\"\\u5168\\u793e\\u5927_\\u81ea\\u793e\\u9700\\u8981_\\u30d3\\uff33\",\"\\u6599\\u91d1\\u5185\\u8a33\\u5c65\\u6b74\"],[\"HANBAI\",\"eigyt\",\"\\u5168\\u793e\\u5927_\\u81ea\\u793e\\u9700\\u8981_\\u30d3\\uff33\",\"\\u6599\\u91d1\\u5185\\u8a33\\u5c65\\u6b74\"],[\"HANBAI\",\"eigyt\",\"\\u5168\\u793e\\u5927_\\u81ea\\u793e\\u9700\\u8981_\\u30d3\\uff33\",\"\\u6599\\u91d1\\u5185\\u8a33\\u5c65\\u6b74\"],[\"HANBAI\",\"eigyt\",\"\\u5168\\u793e\\u5927_\\u81ea\\u793e\\u9700\\u8981_\\u30d3\\uff33\",\"\\u6599\\u91d1\\u5185\\u8a33\\u5c65\\u6b74\"],[\"HANBAI\",\"eigyt\",\"\\u5168\\u793e\\u5927_\\u81ea\\u793e\\u9700\\u8981_\\u30d3\\uff33\",\"\\u6599\\u91d1\\u5185\\u8a33\\u5c65\\u6b74\"],[\"HANBAI\",\"eigyt\",\"\\u5168\\u793e\\u5927_\\u81ea\\u793e\\u9700\\u8981_\\u30d3\\uff33\",\"\\u6599\\u91d1\\u5185\\u8a33\\u5c65\\u6b74\"],[\"HANBAI\",\"eigyt\",\"\\u5168\\u793e\\u5927_\\u81ea\\u793e\\u9700\\u8981_\\u30d3\\uff33\",\"\\u6599\\u91d1\\u5185\\u8a33\\u5c65\\u6b74\"],[\"HANBAI\",\"eigyt\",\"\\u5168\\u793e\\u5927_\\u81ea\\u793e\\u9700\\u8981_\\u30d3\\uff33\",\"\\u6599\\u91d1\\u5185\\u8a33\\u5c65\\u6b74\"],[\"HANBAI\",\"eigyt\",\"\\u5168\\u793e\\u5927_\\u81ea\\u793e\\u9700\\u8981_\\u30d3\\uff33\",\"\\u6599\\u91d1\\u5185\\u8a33\\u5c65\\u6b74\"],[\"HANBAI\",\"eigyt\",\"\\u5168\\u793e\\u5927_\\u81ea\\u793e\\u9700\\u8981_\\u30d3\\uff33\",\"\\u6599\\u91d1\\u5185\\u8a33\\u5c65\\u6b74\"],[\"HANBAI\",\"eigyt\",\"\\u5168\\u793e\\u5927_\\u81ea\\u793e\\u9700\\u8981_\\u30d3\\uff33\",\"\\u6599\\u91d1\\u5185\\u8a33\\u5c65\\u6b74\"],[\"HANBAI\",\"eigyt\",\"\\u5168\\u793e\\u5927_\\u81ea\\u793e\\u9700\\u8981_\\u30d3\\uff33\",\"\\u6599\\u91d1\\u5185\\u8a33\\u5c65\\u6b74\"],[\"HANBAI\",\"eigyt\",\"\\u5168\\u793e\\u5927_\\u81ea\\u793e\\u9700\\u8981_\\u30d3\\uff33\",\"\\u6599\\u91d1\\u5185\\u8a33\\u5c65\\u6b74\"],[\"HANBAI\",\"eigyt\",\"\\u5168\\u793e\\u5927_\\u81ea\\u793e\\u9700\\u8981_\\u30d3\\uff33\",\"\\u6599\\u91d1\\u5185\\u8a33\\u5c65\\u6b74\"],[\"HANBAI\",\"eigyt\",\"\\u5168\\u793e\\u5927_\\u81ea\\u793e\\u9700\\u8981_\\u30d3\\uff33\",\"\\u6599\\u91d1\\u5185\\u8a33\\u5c65\\u6b74\"],[\"HANBAI\",\"eigyt\",\"\\u5168\\u793e\\u5927_\\u81ea\\u793e\\u9700\\u8981_\\u30d3\\uff33\",\"\\u6599\\u91d1\\u5185\\u8a33\\u5c65\\u6b74\"],[\"HANBAI\",\"eigyt\",\"\\u5168\\u793e\\u5927_\\u81ea\\u793e\\u9700\\u8981_\\u30d3\\uff33\",\"\\u6599\\u91d1\\u5185\\u8a33\\u5c65\\u6b74\"],[\"HANBAI\",\"eigyt\",\"\\u5168\\u793e\\u5927_\\u81ea\\u793e\\u9700\\u8981_\\u30d3\\uff33\",\"\\u6599\\u91d1\\u5185\\u8a33\\u5c65\\u6b74\"],[\"HANBAI\",\"eigyt\",\"\\u5168\\u793e\\u5927_\\u81ea\\u793e\\u9700\\u8981_\\u30d3\\uff33\",\"\\u6599\\u91d1\\u5185\\u8a33\\u5c65\\u6b74\"],[\"HANBAI\",\"eigyt\",\"\\u5168\\u793e\\u5927_\\u81ea\\u793e\\u9700\\u8981_\\u30d3\\uff33\",\"\\u6599\\u91d1\\u5185\\u8a33\\u5c65\\u6b74\"],[\"HANBAI\",\"eigyt\",\"\\u5168\\u793e\\u5927_\\u81ea\\u793e\\u9700\\u8981_\\u30d3\\uff33\",\"\\u6599\\u91d1\\u5185\\u8a33\\u5c65\\u6b74\"],[\"HANBAI\",\"eigyt\",\"\\u5168\\u793e\\u5927_\\u81ea\\u793e\\u9700\\u8981_\\u30d3\\uff33\",\"\\u6599\\u91d1\\u5185\\u8a33\\u5c65\\u6b74\"],[\"HANBAI\",\"eigyt\",\"\\u5168\\u793e\\u5927_\\u81ea\\u793e\\u9700\\u8981_\\u30d3\\uff33\",\"\\u6599\\u91d1\\u5185\\u8a33\\u5c65\\u6b74\"],[\"HANBAI\",\"eigyt\",\"\\u5168\\u793e\\u5927_\\u81ea\\u793e\\u9700\\u8981_\\u30d3\\uff33\",\"\\u6599\\u91d1\\u5185\\u8a33\\u5c65\\u6b74\"],[\"HANBAI\",\"eigyt\",\"\\u5168\\u793e\\u5927_\\u81ea\\u793e\\u9700\\u8981_\\u30d3\\uff33\",\"\\u6599\\u91d1\\u5185\\u8a33\\u5c65\\u6b74\"],[\"HANBAI\",\"eigyt\",\"\\u5168\\u793e\\u5927_\\u81ea\\u793e\\u9700\\u8981_\\u30d3\\uff33\",\"\\u6599\\u91d1\\u5185\\u8a33\\u5c65\\u6b74\"],[\"HANBAI\",\"eigyt\",\"\\u5168\\u793e\\u5927_\\u81ea\\u793e\\u9700\\u8981_\\u30d3\\uff33\",\"\\u6599\\u91d1\\u5185\\u8a33\\u5c65\\u6b74\"],[\"HANBAI\",\"eigyt\",\"\\u5168\\u793e\\u5927_\\u81ea\\u793e\\u9700\\u8981_\\u30d3\\uff33\",\"\\u6599\\u91d1\\u5185\\u8a33\\u5c65\\u6b74\"],[\"HANBAI\",\"eigyt\",\"\\u5168\\u793e\\u5927_\\u81ea\\u793e\\u9700\\u8981_\\u30d3\\uff33\",\"\\u6599\\u91d1\\u5185\\u8a33\\u5c65\\u6b74\"],[\"HANBAI\",\"eigyt\",\"\\u5168\\u793e\\u5927_\\u81ea\\u793e\\u9700\\u8981_\\u30d3\\uff33\",\"\\u6599\\u91d1\\u5185\\u8a33\\u5c65\\u6b74\"],[\"HANBAI\",\"eigyt\",\"\\u5168\\u793e\\u5927_\\u81ea\\u793e\\u9700\\u8981_\\u30d3\\uff33\",\"\\u6599\\u91d1\\u5185\\u8a33\\u5c65\\u6b74\"],[\"HANBAI\",\"eigyt\",\"\\u5168\\u793e\\u5927_\\u81ea\\u793e\\u9700\\u8981_\\u30d3\\uff33\",\"\\u6599\\u91d1\\u5185\\u8a33\\u5c65\\u6b74\"],[\"HANBAI\",\"eigyt\",\"\\u5168\\u793e\\u5927_\\u81ea\\u793e\\u9700\\u8981_\\u30d3\\uff33\",\"\\u6599\\u91d1\\u5185\\u8a33\\u5c65\\u6b74\"],[\"HANBAI\",\"eigyt\",\"\\u5168\\u793e\\u5927_\\u81ea\\u793e\\u9700\\u8981_\\u30d3\\uff33\",\"\\u6599\\u91d1\\u5185\\u8a33\\u5c65\\u6b74\"],[\"HANBAI\",\"eigyt\",\"\\u5168\\u793e\\u5927_\\u81ea\\u793e\\u9700\\u8981_\\u30d3\\uff33\",\"\\u6599\\u91d1\\u5185\\u8a33\\u5c65\\u6b74\"]],\"hovertemplate\":\"<b>%{hovertext}</b><br><br>Session_Id=246681793<br>Extended_Timestamp=%{x}<br>index=%{y}<br>DB_User=%{customdata[0]}<br>Userhost=%{customdata[1]}<br>schema=%{customdata[2]}<br>table=%{customdata[3]}<extra></extra>\",\"hovertext\":[null,\"\\u9700\\u7d66\\u5951\\u7d04\",\"\\u9700\\u7d66\\u5951\\u7d04\",\"\\u6599\\u91d1\\u5185\\u8a33\\u5c65\\u6b74\",\"\\u6599\\u91d1\\u5185\\u8a33\\u5c65\\u6b74\",\"\\u6599\\u91d1\\u5185\\u8a33\\u5c65\\u6b74\",\"\\u6599\\u91d1\\u5185\\u8a33\\u5c65\\u6b74\",\"\\u6599\\u91d1\\u5185\\u8a33\\u5c65\\u6b74\",\"\\u6599\\u91d1\\u5185\\u8a33\\u5c65\\u6b74\",\"\\u6599\\u91d1\\u5185\\u8a33\\u5c65\\u6b74\",\"\\u6599\\u91d1\\u5185\\u8a33\\u5c65\\u6b74\",\"\\u6599\\u91d1\\u5185\\u8a33\\u5c65\\u6b74\",\"\\u6599\\u91d1\\u5185\\u8a33\\u5c65\\u6b74\",\"\\u6599\\u91d1\\u5185\\u8a33\\u5c65\\u6b74\",\"\\u6599\\u91d1\\u5185\\u8a33\\u5c65\\u6b74\",\"\\u6599\\u91d1\\u5185\\u8a33\\u5c65\\u6b74\",\"\\u6599\\u91d1\\u5185\\u8a33\\u5c65\\u6b74\",\"\\u6599\\u91d1\\u5185\\u8a33\\u5c65\\u6b74\",\"\\u6599\\u91d1\\u5185\\u8a33\\u5c65\\u6b74\",\"\\u6599\\u91d1\\u5185\\u8a33\\u5c65\\u6b74\",\"\\u6599\\u91d1\\u5185\\u8a33\\u5c65\\u6b74\",\"\\u6599\\u91d1\\u5185\\u8a33\\u5c65\\u6b74\",\"\\u6599\\u91d1\\u5185\\u8a33\\u5c65\\u6b74\",\"\\u6599\\u91d1\\u5185\\u8a33\\u5c65\\u6b74\",\"\\u6599\\u91d1\\u5185\\u8a33\\u5c65\\u6b74\",\"\\u6599\\u91d1\\u5185\\u8a33\\u5c65\\u6b74\",\"\\u6599\\u91d1\\u5185\\u8a33\\u5c65\\u6b74\",\"\\u6599\\u91d1\\u5185\\u8a33\\u5c65\\u6b74\",\"\\u6599\\u91d1\\u5185\\u8a33\\u5c65\\u6b74\",\"\\u6599\\u91d1\\u5185\\u8a33\\u5c65\\u6b74\",\"\\u6599\\u91d1\\u5185\\u8a33\\u5c65\\u6b74\",\"\\u6599\\u91d1\\u5185\\u8a33\\u5c65\\u6b74\",\"\\u6599\\u91d1\\u5185\\u8a33\\u5c65\\u6b74\",\"\\u6599\\u91d1\\u5185\\u8a33\\u5c65\\u6b74\",\"\\u6599\\u91d1\\u5185\\u8a33\\u5c65\\u6b74\",\"\\u6599\\u91d1\\u5185\\u8a33\\u5c65\\u6b74\",\"\\u6599\\u91d1\\u5185\\u8a33\\u5c65\\u6b74\",\"\\u6599\\u91d1\\u5185\\u8a33\\u5c65\\u6b74\",\"\\u6599\\u91d1\\u5185\\u8a33\\u5c65\\u6b74\",\"\\u6599\\u91d1\\u5185\\u8a33\\u5c65\\u6b74\",\"\\u6599\\u91d1\\u5185\\u8a33\\u5c65\\u6b74\",\"\\u6599\\u91d1\\u5185\\u8a33\\u5c65\\u6b74\",\"\\u6599\\u91d1\\u5185\\u8a33\\u5c65\\u6b74\",\"\\u6599\\u91d1\\u5185\\u8a33\\u5c65\\u6b74\",\"\\u6599\\u91d1\\u5185\\u8a33\\u5c65\\u6b74\",\"\\u6599\\u91d1\\u5185\\u8a33\\u5c65\\u6b74\",\"\\u6599\\u91d1\\u5185\\u8a33\\u5c65\\u6b74\",\"\\u6599\\u91d1\\u5185\\u8a33\\u5c65\\u6b74\",\"\\u6599\\u91d1\\u5185\\u8a33\\u5c65\\u6b74\",\"\\u6599\\u91d1\\u5185\\u8a33\\u5c65\\u6b74\",\"\\u6599\\u91d1\\u5185\\u8a33\\u5c65\\u6b74\",\"\\u6599\\u91d1\\u5185\\u8a33\\u5c65\\u6b74\",\"\\u6599\\u91d1\\u5185\\u8a33\\u5c65\\u6b74\",\"\\u6599\\u91d1\\u5185\\u8a33\\u5c65\\u6b74\",\"\\u6599\\u91d1\\u5185\\u8a33\\u5c65\\u6b74\",\"\\u6599\\u91d1\\u5185\\u8a33\\u5c65\\u6b74\",\"\\u6599\\u91d1\\u5185\\u8a33\\u5c65\\u6b74\",\"\\u6599\\u91d1\\u5185\\u8a33\\u5c65\\u6b74\",\"\\u6599\\u91d1\\u5185\\u8a33\\u5c65\\u6b74\",\"\\u6599\\u91d1\\u5185\\u8a33\\u5c65\\u6b74\",\"\\u6599\\u91d1\\u5185\\u8a33\\u5c65\\u6b74\",\"\\u6599\\u91d1\\u5185\\u8a33\\u5c65\\u6b74\",\"\\u6599\\u91d1\\u5185\\u8a33\\u5c65\\u6b74\",\"\\u6599\\u91d1\\u5185\\u8a33\\u5c65\\u6b74\",\"\\u6599\\u91d1\\u5185\\u8a33\\u5c65\\u6b74\",\"\\u6599\\u91d1\\u5185\\u8a33\\u5c65\\u6b74\",\"\\u6599\\u91d1\\u5185\\u8a33\\u5c65\\u6b74\",\"\\u6599\\u91d1\\u5185\\u8a33\\u5c65\\u6b74\",\"\\u6599\\u91d1\\u5185\\u8a33\\u5c65\\u6b74\",\"\\u6599\\u91d1\\u5185\\u8a33\\u5c65\\u6b74\",\"\\u6599\\u91d1\\u5185\\u8a33\\u5c65\\u6b74\",\"\\u6599\\u91d1\\u5185\\u8a33\\u5c65\\u6b74\",\"\\u6599\\u91d1\\u5185\\u8a33\\u5c65\\u6b74\",\"\\u6599\\u91d1\\u5185\\u8a33\\u5c65\\u6b74\",\"\\u6599\\u91d1\\u5185\\u8a33\\u5c65\\u6b74\",\"\\u6599\\u91d1\\u5185\\u8a33\\u5c65\\u6b74\",\"\\u6599\\u91d1\\u5185\\u8a33\\u5c65\\u6b74\",\"\\u6599\\u91d1\\u5185\\u8a33\\u5c65\\u6b74\",\"\\u6599\\u91d1\\u5185\\u8a33\\u5c65\\u6b74\",\"\\u6599\\u91d1\\u5185\\u8a33\\u5c65\\u6b74\",\"\\u6599\\u91d1\\u5185\\u8a33\\u5c65\\u6b74\",\"\\u6599\\u91d1\\u5185\\u8a33\\u5c65\\u6b74\",\"\\u6599\\u91d1\\u5185\\u8a33\\u5c65\\u6b74\",\"\\u6599\\u91d1\\u5185\\u8a33\\u5c65\\u6b74\",\"\\u6599\\u91d1\\u5185\\u8a33\\u5c65\\u6b74\",\"\\u6599\\u91d1\\u5185\\u8a33\\u5c65\\u6b74\",\"\\u6599\\u91d1\\u5185\\u8a33\\u5c65\\u6b74\",\"\\u6599\\u91d1\\u5185\\u8a33\\u5c65\\u6b74\",\"\\u6599\\u91d1\\u5185\\u8a33\\u5c65\\u6b74\",\"\\u6599\\u91d1\\u5185\\u8a33\\u5c65\\u6b74\",\"\\u6599\\u91d1\\u5185\\u8a33\\u5c65\\u6b74\",\"\\u6599\\u91d1\\u5185\\u8a33\\u5c65\\u6b74\",\"\\u6599\\u91d1\\u5185\\u8a33\\u5c65\\u6b74\",\"\\u6599\\u91d1\\u5185\\u8a33\\u5c65\\u6b74\",\"\\u6599\\u91d1\\u5185\\u8a33\\u5c65\\u6b74\",\"\\u6599\\u91d1\\u5185\\u8a33\\u5c65\\u6b74\",\"\\u6599\\u91d1\\u5185\\u8a33\\u5c65\\u6b74\",\"\\u6599\\u91d1\\u5185\\u8a33\\u5c65\\u6b74\",\"\\u6599\\u91d1\\u5185\\u8a33\\u5c65\\u6b74\",\"\\u6599\\u91d1\\u5185\\u8a33\\u5c65\\u6b74\",\"\\u6599\\u91d1\\u5185\\u8a33\\u5c65\\u6b74\",\"\\u6599\\u91d1\\u5185\\u8a33\\u5c65\\u6b74\",\"\\u6599\\u91d1\\u5185\\u8a33\\u5c65\\u6b74\",\"\\u6599\\u91d1\\u5185\\u8a33\\u5c65\\u6b74\",\"\\u6599\\u91d1\\u5185\\u8a33\\u5c65\\u6b74\",\"\\u6599\\u91d1\\u5185\\u8a33\\u5c65\\u6b74\",\"\\u6599\\u91d1\\u5185\\u8a33\\u5c65\\u6b74\",\"\\u6599\\u91d1\\u5185\\u8a33\\u5c65\\u6b74\",\"\\u6599\\u91d1\\u5185\\u8a33\\u5c65\\u6b74\",\"\\u6599\\u91d1\\u5185\\u8a33\\u5c65\\u6b74\",\"\\u6599\\u91d1\\u5185\\u8a33\\u5c65\\u6b74\",\"\\u6599\\u91d1\\u5185\\u8a33\\u5c65\\u6b74\",\"\\u6599\\u91d1\\u5185\\u8a33\\u5c65\\u6b74\",\"\\u6599\\u91d1\\u5185\\u8a33\\u5c65\\u6b74\",\"\\u6599\\u91d1\\u5185\\u8a33\\u5c65\\u6b74\",\"\\u6599\\u91d1\\u5185\\u8a33\\u5c65\\u6b74\",\"\\u6599\\u91d1\\u5185\\u8a33\\u5c65\\u6b74\",\"\\u6599\\u91d1\\u5185\\u8a33\\u5c65\\u6b74\",\"\\u6599\\u91d1\\u5185\\u8a33\\u5c65\\u6b74\",\"\\u6599\\u91d1\\u5185\\u8a33\\u5c65\\u6b74\",\"\\u6599\\u91d1\\u5185\\u8a33\\u5c65\\u6b74\",\"\\u6599\\u91d1\\u5185\\u8a33\\u5c65\\u6b74\",\"\\u6599\\u91d1\\u5185\\u8a33\\u5c65\\u6b74\",\"\\u6599\\u91d1\\u5185\\u8a33\\u5c65\\u6b74\",\"\\u6599\\u91d1\\u5185\\u8a33\\u5c65\\u6b74\",\"\\u6599\\u91d1\\u5185\\u8a33\\u5c65\\u6b74\",\"\\u6599\\u91d1\\u5185\\u8a33\\u5c65\\u6b74\",\"\\u6599\\u91d1\\u5185\\u8a33\\u5c65\\u6b74\",\"\\u6599\\u91d1\\u5185\\u8a33\\u5c65\\u6b74\",\"\\u6599\\u91d1\\u5185\\u8a33\\u5c65\\u6b74\",\"\\u6599\\u91d1\\u5185\\u8a33\\u5c65\\u6b74\",\"\\u6599\\u91d1\\u5185\\u8a33\\u5c65\\u6b74\",\"\\u6599\\u91d1\\u5185\\u8a33\\u5c65\\u6b74\",\"\\u6599\\u91d1\\u5185\\u8a33\\u5c65\\u6b74\",\"\\u6599\\u91d1\\u5185\\u8a33\\u5c65\\u6b74\",\"\\u6599\\u91d1\\u5185\\u8a33\\u5c65\\u6b74\",\"\\u6599\\u91d1\\u5185\\u8a33\\u5c65\\u6b74\",\"\\u6599\\u91d1\\u5185\\u8a33\\u5c65\\u6b74\",\"\\u6599\\u91d1\\u5185\\u8a33\\u5c65\\u6b74\",\"\\u6599\\u91d1\\u5185\\u8a33\\u5c65\\u6b74\",\"\\u6599\\u91d1\\u5185\\u8a33\\u5c65\\u6b74\",\"\\u6599\\u91d1\\u5185\\u8a33\\u5c65\\u6b74\",\"\\u6599\\u91d1\\u5185\\u8a33\\u5c65\\u6b74\",\"\\u6599\\u91d1\\u5185\\u8a33\\u5c65\\u6b74\",\"\\u6599\\u91d1\\u5185\\u8a33\\u5c65\\u6b74\",\"\\u6599\\u91d1\\u5185\\u8a33\\u5c65\\u6b74\",\"\\u6599\\u91d1\\u5185\\u8a33\\u5c65\\u6b74\",\"\\u6599\\u91d1\\u5185\\u8a33\\u5c65\\u6b74\",\"\\u6599\\u91d1\\u5185\\u8a33\\u5c65\\u6b74\",\"\\u6599\\u91d1\\u5185\\u8a33\\u5c65\\u6b74\",\"\\u6599\\u91d1\\u5185\\u8a33\\u5c65\\u6b74\",\"\\u6599\\u91d1\\u5185\\u8a33\\u5c65\\u6b74\",\"\\u6599\\u91d1\\u5185\\u8a33\\u5c65\\u6b74\",\"\\u6599\\u91d1\\u5185\\u8a33\\u5c65\\u6b74\",\"\\u6599\\u91d1\\u5185\\u8a33\\u5c65\\u6b74\",\"\\u6599\\u91d1\\u5185\\u8a33\\u5c65\\u6b74\",\"\\u6599\\u91d1\\u5185\\u8a33\\u5c65\\u6b74\",\"\\u6599\\u91d1\\u5185\\u8a33\\u5c65\\u6b74\",\"\\u6599\\u91d1\\u5185\\u8a33\\u5c65\\u6b74\",\"\\u6599\\u91d1\\u5185\\u8a33\\u5c65\\u6b74\",\"\\u6599\\u91d1\\u5185\\u8a33\\u5c65\\u6b74\",\"\\u6599\\u91d1\\u5185\\u8a33\\u5c65\\u6b74\",\"\\u6599\\u91d1\\u5185\\u8a33\\u5c65\\u6b74\",\"\\u6599\\u91d1\\u5185\\u8a33\\u5c65\\u6b74\",\"\\u6599\\u91d1\\u5185\\u8a33\\u5c65\\u6b74\",\"\\u6599\\u91d1\\u5185\\u8a33\\u5c65\\u6b74\",\"\\u6599\\u91d1\\u5185\\u8a33\\u5c65\\u6b74\",\"\\u6599\\u91d1\\u5185\\u8a33\\u5c65\\u6b74\",\"\\u6599\\u91d1\\u5185\\u8a33\\u5c65\\u6b74\",\"\\u6599\\u91d1\\u5185\\u8a33\\u5c65\\u6b74\",\"\\u6599\\u91d1\\u5185\\u8a33\\u5c65\\u6b74\",\"\\u6599\\u91d1\\u5185\\u8a33\\u5c65\\u6b74\",\"\\u6599\\u91d1\\u5185\\u8a33\\u5c65\\u6b74\",\"\\u6599\\u91d1\\u5185\\u8a33\\u5c65\\u6b74\",\"\\u6599\\u91d1\\u5185\\u8a33\\u5c65\\u6b74\",\"\\u6599\\u91d1\\u5185\\u8a33\\u5c65\\u6b74\",\"\\u6599\\u91d1\\u5185\\u8a33\\u5c65\\u6b74\",\"\\u6599\\u91d1\\u5185\\u8a33\\u5c65\\u6b74\",\"\\u6599\\u91d1\\u5185\\u8a33\\u5c65\\u6b74\",\"\\u6599\\u91d1\\u5185\\u8a33\\u5c65\\u6b74\",\"\\u6599\\u91d1\\u5185\\u8a33\\u5c65\\u6b74\",\"\\u6599\\u91d1\\u5185\\u8a33\\u5c65\\u6b74\",\"\\u6599\\u91d1\\u5185\\u8a33\\u5c65\\u6b74\",\"\\u6599\\u91d1\\u5185\\u8a33\\u5c65\\u6b74\",\"\\u6599\\u91d1\\u5185\\u8a33\\u5c65\\u6b74\",\"\\u6599\\u91d1\\u5185\\u8a33\\u5c65\\u6b74\",\"\\u6599\\u91d1\\u5185\\u8a33\\u5c65\\u6b74\",\"\\u6599\\u91d1\\u5185\\u8a33\\u5c65\\u6b74\",\"\\u6599\\u91d1\\u5185\\u8a33\\u5c65\\u6b74\",\"\\u6599\\u91d1\\u5185\\u8a33\\u5c65\\u6b74\",\"\\u6599\\u91d1\\u5185\\u8a33\\u5c65\\u6b74\",\"\\u6599\\u91d1\\u5185\\u8a33\\u5c65\\u6b74\",\"\\u6599\\u91d1\\u5185\\u8a33\\u5c65\\u6b74\",\"\\u6599\\u91d1\\u5185\\u8a33\\u5c65\\u6b74\",\"\\u6599\\u91d1\\u5185\\u8a33\\u5c65\\u6b74\",\"\\u6599\\u91d1\\u5185\\u8a33\\u5c65\\u6b74\",\"\\u6599\\u91d1\\u5185\\u8a33\\u5c65\\u6b74\",\"\\u6599\\u91d1\\u5185\\u8a33\\u5c65\\u6b74\",\"\\u6599\\u91d1\\u5185\\u8a33\\u5c65\\u6b74\",\"\\u6599\\u91d1\\u5185\\u8a33\\u5c65\\u6b74\",\"\\u6599\\u91d1\\u5185\\u8a33\\u5c65\\u6b74\",\"\\u6599\\u91d1\\u5185\\u8a33\\u5c65\\u6b74\",\"\\u6599\\u91d1\\u5185\\u8a33\\u5c65\\u6b74\",\"\\u6599\\u91d1\\u5185\\u8a33\\u5c65\\u6b74\",\"\\u6599\\u91d1\\u5185\\u8a33\\u5c65\\u6b74\",\"\\u6599\\u91d1\\u5185\\u8a33\\u5c65\\u6b74\",\"\\u6599\\u91d1\\u5185\\u8a33\\u5c65\\u6b74\",\"\\u6599\\u91d1\\u5185\\u8a33\\u5c65\\u6b74\",\"\\u6599\\u91d1\\u5185\\u8a33\\u5c65\\u6b74\",\"\\u6599\\u91d1\\u5185\\u8a33\\u5c65\\u6b74\",\"\\u6599\\u91d1\\u5185\\u8a33\\u5c65\\u6b74\",\"\\u6599\\u91d1\\u5185\\u8a33\\u5c65\\u6b74\",\"\\u6599\\u91d1\\u5185\\u8a33\\u5c65\\u6b74\",\"\\u6599\\u91d1\\u5185\\u8a33\\u5c65\\u6b74\",\"\\u6599\\u91d1\\u5185\\u8a33\\u5c65\\u6b74\",\"\\u6599\\u91d1\\u5185\\u8a33\\u5c65\\u6b74\",\"\\u6599\\u91d1\\u5185\\u8a33\\u5c65\\u6b74\",\"\\u6599\\u91d1\\u5185\\u8a33\\u5c65\\u6b74\",\"\\u6599\\u91d1\\u5185\\u8a33\\u5c65\\u6b74\",\"\\u6599\\u91d1\\u5185\\u8a33\\u5c65\\u6b74\",\"\\u6599\\u91d1\\u5185\\u8a33\\u5c65\\u6b74\",\"\\u6599\\u91d1\\u5185\\u8a33\\u5c65\\u6b74\",\"\\u6599\\u91d1\\u5185\\u8a33\\u5c65\\u6b74\",\"\\u6599\\u91d1\\u5185\\u8a33\\u5c65\\u6b74\",\"\\u6599\\u91d1\\u5185\\u8a33\\u5c65\\u6b74\",\"\\u6599\\u91d1\\u5185\\u8a33\\u5c65\\u6b74\",\"\\u6599\\u91d1\\u5185\\u8a33\\u5c65\\u6b74\",\"\\u6599\\u91d1\\u5185\\u8a33\\u5c65\\u6b74\",\"\\u6599\\u91d1\\u5185\\u8a33\\u5c65\\u6b74\",\"\\u6599\\u91d1\\u5185\\u8a33\\u5c65\\u6b74\",\"\\u6599\\u91d1\\u5185\\u8a33\\u5c65\\u6b74\",\"\\u6599\\u91d1\\u5185\\u8a33\\u5c65\\u6b74\",\"\\u6599\\u91d1\\u5185\\u8a33\\u5c65\\u6b74\",\"\\u6599\\u91d1\\u5185\\u8a33\\u5c65\\u6b74\",\"\\u6599\\u91d1\\u5185\\u8a33\\u5c65\\u6b74\",\"\\u6599\\u91d1\\u5185\\u8a33\\u5c65\\u6b74\",\"\\u6599\\u91d1\\u5185\\u8a33\\u5c65\\u6b74\",\"\\u6599\\u91d1\\u5185\\u8a33\\u5c65\\u6b74\",\"\\u6599\\u91d1\\u5185\\u8a33\\u5c65\\u6b74\",\"\\u6599\\u91d1\\u5185\\u8a33\\u5c65\\u6b74\",\"\\u6599\\u91d1\\u5185\\u8a33\\u5c65\\u6b74\",\"\\u6599\\u91d1\\u5185\\u8a33\\u5c65\\u6b74\",\"\\u6599\\u91d1\\u5185\\u8a33\\u5c65\\u6b74\",\"\\u6599\\u91d1\\u5185\\u8a33\\u5c65\\u6b74\",\"\\u6599\\u91d1\\u5185\\u8a33\\u5c65\\u6b74\",\"\\u6599\\u91d1\\u5185\\u8a33\\u5c65\\u6b74\",\"\\u6599\\u91d1\\u5185\\u8a33\\u5c65\\u6b74\",\"\\u6599\\u91d1\\u5185\\u8a33\\u5c65\\u6b74\",\"\\u6599\\u91d1\\u5185\\u8a33\\u5c65\\u6b74\",\"\\u6599\\u91d1\\u5185\\u8a33\\u5c65\\u6b74\",\"\\u6599\\u91d1\\u5185\\u8a33\\u5c65\\u6b74\",\"\\u6599\\u91d1\\u5185\\u8a33\\u5c65\\u6b74\",\"\\u6599\\u91d1\\u5185\\u8a33\\u5c65\\u6b74\",\"\\u6599\\u91d1\\u5185\\u8a33\\u5c65\\u6b74\",\"\\u6599\\u91d1\\u5185\\u8a33\\u5c65\\u6b74\",\"\\u6599\\u91d1\\u5185\\u8a33\\u5c65\\u6b74\",\"\\u6599\\u91d1\\u5185\\u8a33\\u5c65\\u6b74\",\"\\u6599\\u91d1\\u5185\\u8a33\\u5c65\\u6b74\",\"\\u6599\\u91d1\\u5185\\u8a33\\u5c65\\u6b74\",\"\\u6599\\u91d1\\u5185\\u8a33\\u5c65\\u6b74\",\"\\u6599\\u91d1\\u5185\\u8a33\\u5c65\\u6b74\",\"\\u6599\\u91d1\\u5185\\u8a33\\u5c65\\u6b74\",\"\\u6599\\u91d1\\u5185\\u8a33\\u5c65\\u6b74\",\"\\u6599\\u91d1\\u5185\\u8a33\\u5c65\\u6b74\",\"\\u6599\\u91d1\\u5185\\u8a33\\u5c65\\u6b74\",\"\\u6599\\u91d1\\u5185\\u8a33\\u5c65\\u6b74\",\"\\u6599\\u91d1\\u5185\\u8a33\\u5c65\\u6b74\",\"\\u6599\\u91d1\\u5185\\u8a33\\u5c65\\u6b74\",\"\\u6599\\u91d1\\u5185\\u8a33\\u5c65\\u6b74\",\"\\u6599\\u91d1\\u5185\\u8a33\\u5c65\\u6b74\",\"\\u6599\\u91d1\\u5185\\u8a33\\u5c65\\u6b74\",\"\\u6599\\u91d1\\u5185\\u8a33\\u5c65\\u6b74\",\"\\u6599\\u91d1\\u5185\\u8a33\\u5c65\\u6b74\",\"\\u6599\\u91d1\\u5185\\u8a33\\u5c65\\u6b74\",\"\\u6599\\u91d1\\u5185\\u8a33\\u5c65\\u6b74\",\"\\u6599\\u91d1\\u5185\\u8a33\\u5c65\\u6b74\",\"\\u6599\\u91d1\\u5185\\u8a33\\u5c65\\u6b74\",\"\\u6599\\u91d1\\u5185\\u8a33\\u5c65\\u6b74\",\"\\u6599\\u91d1\\u5185\\u8a33\\u5c65\\u6b74\",\"\\u6599\\u91d1\\u5185\\u8a33\\u5c65\\u6b74\",\"\\u6599\\u91d1\\u5185\\u8a33\\u5c65\\u6b74\",\"\\u6599\\u91d1\\u5185\\u8a33\\u5c65\\u6b74\",\"\\u6599\\u91d1\\u5185\\u8a33\\u5c65\\u6b74\",\"\\u6599\\u91d1\\u5185\\u8a33\\u5c65\\u6b74\",\"\\u6599\\u91d1\\u5185\\u8a33\\u5c65\\u6b74\",\"\\u6599\\u91d1\\u5185\\u8a33\\u5c65\\u6b74\",\"\\u6599\\u91d1\\u5185\\u8a33\\u5c65\\u6b74\",\"\\u6599\\u91d1\\u5185\\u8a33\\u5c65\\u6b74\",\"\\u6599\\u91d1\\u5185\\u8a33\\u5c65\\u6b74\",\"\\u6599\\u91d1\\u5185\\u8a33\\u5c65\\u6b74\",\"\\u6599\\u91d1\\u5185\\u8a33\\u5c65\\u6b74\",\"\\u6599\\u91d1\\u5185\\u8a33\\u5c65\\u6b74\",\"\\u6599\\u91d1\\u5185\\u8a33\\u5c65\\u6b74\",\"\\u6599\\u91d1\\u5185\\u8a33\\u5c65\\u6b74\",\"\\u6599\\u91d1\\u5185\\u8a33\\u5c65\\u6b74\",\"\\u6599\\u91d1\\u5185\\u8a33\\u5c65\\u6b74\",\"\\u6599\\u91d1\\u5185\\u8a33\\u5c65\\u6b74\",\"\\u6599\\u91d1\\u5185\\u8a33\\u5c65\\u6b74\",\"\\u6599\\u91d1\\u5185\\u8a33\\u5c65\\u6b74\",\"\\u6599\\u91d1\\u5185\\u8a33\\u5c65\\u6b74\",\"\\u6599\\u91d1\\u5185\\u8a33\\u5c65\\u6b74\",\"\\u6599\\u91d1\\u5185\\u8a33\\u5c65\\u6b74\",\"\\u6599\\u91d1\\u5185\\u8a33\\u5c65\\u6b74\",\"\\u6599\\u91d1\\u5185\\u8a33\\u5c65\\u6b74\",\"\\u6599\\u91d1\\u5185\\u8a33\\u5c65\\u6b74\",\"\\u6599\\u91d1\\u5185\\u8a33\\u5c65\\u6b74\",\"\\u6599\\u91d1\\u5185\\u8a33\\u5c65\\u6b74\"],\"legendgroup\":\"246681793\",\"marker\":{\"color\":\"#EF553B\",\"symbol\":\"circle\"},\"mode\":\"markers\",\"name\":\"246681793\",\"orientation\":\"v\",\"showlegend\":true,\"x\":[\"2023-12-13T01:08:30.369211Z\",\"2023-12-13T01:08:30.376374Z\",\"2023-12-13T01:08:30.376481Z\",\"2023-12-13T01:09:22.637510Z\",\"2023-12-13T01:09:22.637717Z\",\"2023-12-13T01:09:22.647862Z\",\"2023-12-13T01:09:22.647992Z\",\"2023-12-13T01:09:22.649663Z\",\"2023-12-13T01:09:22.649787Z\",\"2023-12-13T01:09:22.650905Z\",\"2023-12-13T01:09:22.651010Z\",\"2023-12-13T01:09:22.655125Z\",\"2023-12-13T01:09:22.655312Z\",\"2023-12-13T01:09:22.659657Z\",\"2023-12-13T01:09:22.659766Z\",\"2023-12-13T01:09:22.665461Z\",\"2023-12-13T01:09:22.665592Z\",\"2023-12-13T01:09:22.666045Z\",\"2023-12-13T01:09:22.666146Z\",\"2023-12-13T01:09:22.668826Z\",\"2023-12-13T01:09:22.668944Z\",\"2023-12-13T01:09:22.671300Z\",\"2023-12-13T01:09:22.671412Z\",\"2023-12-13T01:09:22.675930Z\",\"2023-12-13T01:09:22.676030Z\",\"2023-12-13T01:09:22.676454Z\",\"2023-12-13T01:09:22.676560Z\",\"2023-12-13T01:09:22.678500Z\",\"2023-12-13T01:09:22.678599Z\",\"2023-12-13T01:09:22.685003Z\",\"2023-12-13T01:09:22.685121Z\",\"2023-12-13T01:09:22.686342Z\",\"2023-12-13T01:09:22.686449Z\",\"2023-12-13T01:09:22.687308Z\",\"2023-12-13T01:09:22.687405Z\",\"2023-12-13T01:09:22.693206Z\",\"2023-12-13T01:09:22.693318Z\",\"2023-12-13T01:09:22.704154Z\",\"2023-12-13T01:09:22.704277Z\",\"2023-12-13T01:09:22.704782Z\",\"2023-12-13T01:09:22.704891Z\",\"2023-12-13T01:09:22.705277Z\",\"2023-12-13T01:09:22.705430Z\",\"2023-12-13T01:09:22.706830Z\",\"2023-12-13T01:09:22.706997Z\",\"2023-12-13T01:09:22.707450Z\",\"2023-12-13T01:09:22.707561Z\",\"2023-12-13T01:09:22.707987Z\",\"2023-12-13T01:09:22.708082Z\",\"2023-12-13T01:09:22.710307Z\",\"2023-12-13T01:09:22.710413Z\",\"2023-12-13T01:09:22.711357Z\",\"2023-12-13T01:09:22.711488Z\",\"2023-12-13T01:09:22.711882Z\",\"2023-12-13T01:09:22.712017Z\",\"2023-12-13T01:09:22.712486Z\",\"2023-12-13T01:09:22.712616Z\",\"2023-12-13T01:09:22.713837Z\",\"2023-12-13T01:09:22.714005Z\",\"2023-12-13T01:09:22.715262Z\",\"2023-12-13T01:09:22.715430Z\",\"2023-12-13T01:09:22.716666Z\",\"2023-12-13T01:09:22.716774Z\",\"2023-12-13T01:09:22.718017Z\",\"2023-12-13T01:09:22.718146Z\",\"2023-12-13T01:09:22.722022Z\",\"2023-12-13T01:09:22.722127Z\",\"2023-12-13T01:09:22.722557Z\",\"2023-12-13T01:09:22.722718Z\",\"2023-12-13T01:09:22.723660Z\",\"2023-12-13T01:09:22.723789Z\",\"2023-12-13T01:09:22.725762Z\",\"2023-12-13T01:09:22.725932Z\",\"2023-12-13T01:09:22.730807Z\",\"2023-12-13T01:09:22.730923Z\",\"2023-12-13T01:09:22.731314Z\",\"2023-12-13T01:09:22.731413Z\",\"2023-12-13T01:09:22.732221Z\",\"2023-12-13T01:09:22.732332Z\",\"2023-12-13T01:09:22.733877Z\",\"2023-12-13T01:09:22.733975Z\",\"2023-12-13T01:09:22.735008Z\",\"2023-12-13T01:09:22.735102Z\",\"2023-12-13T01:09:22.737180Z\",\"2023-12-13T01:09:22.737282Z\",\"2023-12-13T01:09:22.737667Z\",\"2023-12-13T01:09:22.737776Z\",\"2023-12-13T01:09:22.738268Z\",\"2023-12-13T01:09:22.738360Z\",\"2023-12-13T01:09:22.739003Z\",\"2023-12-13T01:09:22.739091Z\",\"2023-12-13T01:09:22.739664Z\",\"2023-12-13T01:09:22.739758Z\",\"2023-12-13T01:09:22.740168Z\",\"2023-12-13T01:09:22.740266Z\",\"2023-12-13T01:09:22.740655Z\",\"2023-12-13T01:09:22.740752Z\",\"2023-12-13T01:09:22.741125Z\",\"2023-12-13T01:09:22.741215Z\",\"2023-12-13T01:09:22.741556Z\",\"2023-12-13T01:09:22.741651Z\",\"2023-12-13T01:09:22.742055Z\",\"2023-12-13T01:09:22.742157Z\",\"2023-12-13T01:09:22.742482Z\",\"2023-12-13T01:09:22.742602Z\",\"2023-12-13T01:09:22.743015Z\",\"2023-12-13T01:09:22.743118Z\",\"2023-12-13T01:09:22.744326Z\",\"2023-12-13T01:09:22.744452Z\",\"2023-12-13T01:09:22.744819Z\",\"2023-12-13T01:09:22.744934Z\",\"2023-12-13T01:09:22.745313Z\",\"2023-12-13T01:09:22.745418Z\",\"2023-12-13T01:09:22.749466Z\",\"2023-12-13T01:09:22.749624Z\",\"2023-12-13T01:09:22.750077Z\",\"2023-12-13T01:09:22.750180Z\",\"2023-12-13T01:09:22.755217Z\",\"2023-12-13T01:09:22.755326Z\",\"2023-12-13T01:09:22.756346Z\",\"2023-12-13T01:09:22.756447Z\",\"2023-12-13T01:09:22.756839Z\",\"2023-12-13T01:09:22.756941Z\",\"2023-12-13T01:09:22.757365Z\",\"2023-12-13T01:09:22.757460Z\",\"2023-12-13T01:09:22.757884Z\",\"2023-12-13T01:09:22.758012Z\",\"2023-12-13T01:09:22.758415Z\",\"2023-12-13T01:09:22.758516Z\",\"2023-12-13T01:09:22.758961Z\",\"2023-12-13T01:09:22.759057Z\",\"2023-12-13T01:09:22.759444Z\",\"2023-12-13T01:09:22.759545Z\",\"2023-12-13T01:09:22.760037Z\",\"2023-12-13T01:09:22.760140Z\",\"2023-12-13T01:09:22.763720Z\",\"2023-12-13T01:09:22.763821Z\",\"2023-12-13T01:09:22.764203Z\",\"2023-12-13T01:09:22.764311Z\",\"2023-12-13T01:09:22.764688Z\",\"2023-12-13T01:09:22.764781Z\",\"2023-12-13T01:09:22.765147Z\",\"2023-12-13T01:09:22.765241Z\",\"2023-12-13T01:09:22.766809Z\",\"2023-12-13T01:09:22.766919Z\",\"2023-12-13T01:09:22.767392Z\",\"2023-12-13T01:09:22.767521Z\",\"2023-12-13T01:09:22.767988Z\",\"2023-12-13T01:09:22.768109Z\",\"2023-12-13T01:09:22.768519Z\",\"2023-12-13T01:09:22.768612Z\",\"2023-12-13T01:09:22.769954Z\",\"2023-12-13T01:09:22.770054Z\",\"2023-12-13T01:09:22.773692Z\",\"2023-12-13T01:09:22.773799Z\",\"2023-12-13T01:09:22.777193Z\",\"2023-12-13T01:09:22.777319Z\",\"2023-12-13T01:09:22.778322Z\",\"2023-12-13T01:09:22.778480Z\",\"2023-12-13T01:09:22.778929Z\",\"2023-12-13T01:09:22.779083Z\",\"2023-12-13T01:09:22.780350Z\",\"2023-12-13T01:09:22.780503Z\",\"2023-12-13T01:09:22.781123Z\",\"2023-12-13T01:09:22.781227Z\",\"2023-12-13T01:09:22.781684Z\",\"2023-12-13T01:09:22.781873Z\",\"2023-12-13T01:09:22.782311Z\",\"2023-12-13T01:09:22.782459Z\",\"2023-12-13T01:09:22.784110Z\",\"2023-12-13T01:09:22.784216Z\",\"2023-12-13T01:09:22.784674Z\",\"2023-12-13T01:09:22.784773Z\",\"2023-12-13T01:09:22.785315Z\",\"2023-12-13T01:09:22.785497Z\",\"2023-12-13T01:09:22.788778Z\",\"2023-12-13T01:09:22.788894Z\",\"2023-12-13T01:09:22.789271Z\",\"2023-12-13T01:09:22.789429Z\",\"2023-12-13T01:09:22.797006Z\",\"2023-12-13T01:09:22.797122Z\",\"2023-12-13T01:09:22.798700Z\",\"2023-12-13T01:09:22.798796Z\",\"2023-12-13T01:09:22.808294Z\",\"2023-12-13T01:09:22.808414Z\",\"2023-12-13T01:09:22.808845Z\",\"2023-12-13T01:09:22.808963Z\",\"2023-12-13T01:09:22.809350Z\",\"2023-12-13T01:09:22.809446Z\",\"2023-12-13T01:09:22.810028Z\",\"2023-12-13T01:09:22.810123Z\",\"2023-12-13T01:09:22.810705Z\",\"2023-12-13T01:09:22.810824Z\",\"2023-12-13T01:09:22.811231Z\",\"2023-12-13T01:09:22.811324Z\",\"2023-12-13T01:09:22.811951Z\",\"2023-12-13T01:09:22.812041Z\",\"2023-12-13T01:09:22.812910Z\",\"2023-12-13T01:09:22.813012Z\",\"2023-12-13T01:09:22.813362Z\",\"2023-12-13T01:09:22.813453Z\",\"2023-12-13T01:09:22.813874Z\",\"2023-12-13T01:09:22.813983Z\",\"2023-12-13T01:09:22.825299Z\",\"2023-12-13T01:09:22.825405Z\",\"2023-12-13T01:09:22.825811Z\",\"2023-12-13T01:09:22.825911Z\",\"2023-12-13T01:09:22.826296Z\",\"2023-12-13T01:09:22.826406Z\",\"2023-12-13T01:09:22.831498Z\",\"2023-12-13T01:09:22.831604Z\",\"2023-12-13T01:09:22.833878Z\",\"2023-12-13T01:09:22.833996Z\",\"2023-12-13T01:09:22.834447Z\",\"2023-12-13T01:09:22.834541Z\",\"2023-12-13T01:09:22.835192Z\",\"2023-12-13T01:09:22.835284Z\",\"2023-12-13T01:09:22.835804Z\",\"2023-12-13T01:09:22.835907Z\",\"2023-12-13T01:09:22.836879Z\",\"2023-12-13T01:09:22.836979Z\",\"2023-12-13T01:09:22.837394Z\",\"2023-12-13T01:09:22.837481Z\",\"2023-12-13T01:09:22.839484Z\",\"2023-12-13T01:09:22.839591Z\",\"2023-12-13T01:09:22.841277Z\",\"2023-12-13T01:09:22.841373Z\",\"2023-12-13T01:09:22.841728Z\",\"2023-12-13T01:09:22.841824Z\",\"2023-12-13T01:09:22.842337Z\",\"2023-12-13T01:09:22.842425Z\",\"2023-12-13T01:09:22.842772Z\",\"2023-12-13T01:09:22.842867Z\",\"2023-12-13T01:09:22.843213Z\",\"2023-12-13T01:09:22.843307Z\",\"2023-12-13T01:09:22.843663Z\",\"2023-12-13T01:09:22.843771Z\",\"2023-12-13T01:09:22.852024Z\",\"2023-12-13T01:09:22.852119Z\",\"2023-12-13T01:09:22.858325Z\",\"2023-12-13T01:09:22.858432Z\",\"2023-12-13T01:09:22.859652Z\",\"2023-12-13T01:09:22.859755Z\",\"2023-12-13T01:09:22.860112Z\",\"2023-12-13T01:09:22.860218Z\",\"2023-12-13T01:09:22.860923Z\",\"2023-12-13T01:09:22.861014Z\",\"2023-12-13T01:09:22.862084Z\",\"2023-12-13T01:09:22.862190Z\",\"2023-12-13T01:09:22.863275Z\",\"2023-12-13T01:09:22.863382Z\",\"2023-12-13T01:09:22.863761Z\",\"2023-12-13T01:09:22.863863Z\",\"2023-12-13T01:09:22.870071Z\",\"2023-12-13T01:09:22.870171Z\",\"2023-12-13T01:09:22.871053Z\",\"2023-12-13T01:09:22.871146Z\",\"2023-12-13T01:09:22.872655Z\",\"2023-12-13T01:09:22.872749Z\",\"2023-12-13T01:09:22.875932Z\",\"2023-12-13T01:09:22.876032Z\",\"2023-12-13T01:09:22.876396Z\",\"2023-12-13T01:09:22.876486Z\",\"2023-12-13T01:09:22.878350Z\",\"2023-12-13T01:09:22.878442Z\",\"2023-12-13T01:09:22.878783Z\",\"2023-12-13T01:09:22.878881Z\",\"2023-12-13T01:09:22.879189Z\",\"2023-12-13T01:09:22.879279Z\",\"2023-12-13T01:09:22.879612Z\",\"2023-12-13T01:09:22.879704Z\",\"2023-12-13T01:09:22.880480Z\",\"2023-12-13T01:09:22.880573Z\",\"2023-12-13T01:09:22.882475Z\",\"2023-12-13T01:09:22.882581Z\",\"2023-12-13T01:09:22.885081Z\",\"2023-12-13T01:09:22.885183Z\",\"2023-12-13T01:09:22.886885Z\",\"2023-12-13T01:09:22.886988Z\",\"2023-12-13T01:09:22.887331Z\",\"2023-12-13T01:09:22.887421Z\",\"2023-12-13T01:09:22.887754Z\",\"2023-12-13T01:09:22.887867Z\",\"2023-12-13T01:09:22.888192Z\",\"2023-12-13T01:09:22.888293Z\",\"2023-12-13T01:09:22.893013Z\",\"2023-12-13T01:09:22.893112Z\",\"2023-12-13T01:09:22.893451Z\",\"2023-12-13T01:09:22.893541Z\",\"2023-12-13T01:09:22.893919Z\",\"2023-12-13T01:09:22.894016Z\",\"2023-12-13T01:09:22.899641Z\",\"2023-12-13T01:09:22.899751Z\",\"2023-12-13T01:09:22.901332Z\",\"2023-12-13T01:09:22.901429Z\",\"2023-12-13T01:09:22.901788Z\",\"2023-12-13T01:09:22.901895Z\",\"2023-12-13T01:09:22.903177Z\",\"2023-12-13T01:09:22.903267Z\",\"2023-12-13T01:09:22.904649Z\",\"2023-12-13T01:09:22.904772Z\",\"2023-12-13T01:09:22.905244Z\",\"2023-12-13T01:09:22.905339Z\",\"2023-12-13T01:09:22.905691Z\",\"2023-12-13T01:09:22.905781Z\",\"2023-12-13T01:09:22.906107Z\",\"2023-12-13T01:09:22.906215Z\"],\"xaxis\":\"x\",\"y\":[20,21,22,23,24,25,26,27,28,29,30,31,32,33,34,35,36,37,38,39,40,41,42,43,44,45,46,47,48,49,50,51,52,53,54,55,56,57,58,59,60,61,62,63,64,65,66,67,68,69,70,71,72,73,74,75,76,77,78,79,80,81,82,83,84,85,86,87,88,89,90,91,92,93,94,95,96,97,98,99,100,101,102,103,104,105,106,107,108,109,110,111,112,113,114,115,116,117,118,119,120,121,122,123,124,125,126,127,128,129,130,131,132,133,134,135,136,137,138,139,140,141,142,143,144,145,146,147,148,149,150,151,152,153,154,155,156,157,158,159,160,161,162,163,164,165,166,167,168,169,170,171,172,173,174,175,176,177,178,179,180,181,182,183,184,185,186,187,188,189,190,191,192,193,194,195,196,197,198,199,200,201,202,203,204,205,206,207,208,209,210,211,212,213,214,215,216,217,218,219,220,221,222,223,224,225,226,227,228,229,230,231,232,233,234,235,236,237,238,239,240,241,242,243,244,245,246,247,248,249,250,251,252,253,254,255,256,257,258,259,260,261,262,263,264,265,266,267,268,269,270,271,272,273,274,275,276,277,278,279,280,281,282,283,284,285,286,287,288,289,290,291,292,293,294,295,296,297,298,299,300,301,302,303,304,305,306,307,308,309,310,311,312,313,314,315,316,317,318,319,320,321,322,323,324,325,326],\"yaxis\":\"y\",\"type\":\"scatter\"},{\"customdata\":[[\"HANBAI\",\"eigyt\",null,null],[\"HANBAI\",\"eigyt\",\"\\u5168\\u793e\\u5927_\\u81ea\\u793e\\u9700\\u8981_\\u30d3\\uff33\",\"\\u9700\\u7d66\\u5358\\u4f4d\"],[\"HANBAI\",\"eigyt\",\"\\u5168\\u793e\\u5927_\\u81ea\\u793e\\u9700\\u8981_\\u30d3\\uff33\",\"\\u9700\\u7d66\\u5951\\u7d04\"],[\"HANBAI\",\"eigyt\",\"\\u5168\\u793e\\u5927_\\u81ea\\u793e\\u9700\\u8981_\\u30d3\\uff33\",\"\\u6599\\u91d1\\u5185\\u8a33\\u5c65\\u6b74\"],[\"HANBAI\",\"eigyt\",\"\\u5168\\u793e\\u5927_\\u81ea\\u793e\\u9700\\u8981_\\u30d3\\uff33\",\"\\u9700\\u7d66\\u5358\\u4f4d\"],[\"HANBAI\",\"eigyt\",\"\\u5168\\u793e\\u5927_\\u81ea\\u793e\\u9700\\u8981_\\u30d3\\uff33\",\"\\u9700\\u7d66\\u5951\\u7d04\"],[\"HANBAI\",\"eigyt\",\"\\u5168\\u793e\\u5927_\\u81ea\\u793e\\u9700\\u8981_\\u30d3\\uff33\",\"\\u6599\\u91d1\\u5185\\u8a33\\u5c65\\u6b74\"],[\"HANBAI\",\"eigyt\",\"\\u5168\\u793e\\u5927_\\u81ea\\u793e\\u9700\\u8981_\\u30d3\\uff33\",\"\\u9700\\u7d66\\u5358\\u4f4d\"],[\"HANBAI\",\"eigyt\",\"\\u5168\\u793e\\u5927_\\u81ea\\u793e\\u9700\\u8981_\\u30d3\\uff33\",\"\\u9700\\u7d66\\u5951\\u7d04\"],[\"HANBAI\",\"eigyt\",\"\\u5168\\u793e\\u5927_\\u81ea\\u793e\\u9700\\u8981_\\u30d3\\uff33\",\"\\u6599\\u91d1\\u5185\\u8a33\\u5c65\\u6b74\"],[\"HANBAI\",\"eigyt\",\"\\u5168\\u793e\\u5927_\\u81ea\\u793e\\u9700\\u8981_\\u30d3\\uff33\",\"\\u9700\\u7d66\\u5358\\u4f4d\"],[\"HANBAI\",\"eigyt\",\"\\u5168\\u793e\\u5927_\\u81ea\\u793e\\u9700\\u8981_\\u30d3\\uff33\",\"\\u9700\\u7d66\\u5951\\u7d04\"],[\"HANBAI\",\"eigyt\",\"\\u5168\\u793e\\u5927_\\u81ea\\u793e\\u9700\\u8981_\\u30d3\\uff33\",\"\\u6599\\u91d1\\u5185\\u8a33\\u5c65\\u6b74\"],[\"HANBAI\",\"eigyt\",\"\\u5168\\u793e\\u5927_\\u81ea\\u793e\\u9700\\u8981_\\u30d3\\uff33\",\"\\u9700\\u7d66\\u5358\\u4f4d\"],[\"HANBAI\",\"eigyt\",\"\\u5168\\u793e\\u5927_\\u81ea\\u793e\\u9700\\u8981_\\u30d3\\uff33\",\"\\u9700\\u7d66\\u5951\\u7d04\"],[\"HANBAI\",\"eigyt\",\"\\u5168\\u793e\\u5927_\\u81ea\\u793e\\u9700\\u8981_\\u30d3\\uff33\",\"\\u6599\\u91d1\\u5185\\u8a33\\u5c65\\u6b74\"],[\"HANBAI\",\"eigyt\",\"\\u5168\\u793e\\u5927_\\u81ea\\u793e\\u9700\\u8981_\\u30d3\\uff33\",\"\\u9700\\u7d66\\u5358\\u4f4d\"],[\"HANBAI\",\"eigyt\",\"\\u5168\\u793e\\u5927_\\u81ea\\u793e\\u9700\\u8981_\\u30d3\\uff33\",\"\\u9700\\u7d66\\u5951\\u7d04\"],[\"HANBAI\",\"eigyt\",\"\\u5168\\u793e\\u5927_\\u81ea\\u793e\\u9700\\u8981_\\u30d3\\uff33\",\"\\u6599\\u91d1\\u5185\\u8a33\\u5c65\\u6b74\"],[\"HANBAI\",\"eigyt\",\"\\u5168\\u793e\\u5927_\\u81ea\\u793e\\u9700\\u8981_\\u30d3\\uff33\",\"\\u9700\\u7d66\\u5358\\u4f4d\"],[\"HANBAI\",\"eigyt\",\"\\u5168\\u793e\\u5927_\\u81ea\\u793e\\u9700\\u8981_\\u30d3\\uff33\",\"\\u9700\\u7d66\\u5951\\u7d04\"],[\"HANBAI\",\"eigyt\",\"\\u5168\\u793e\\u5927_\\u81ea\\u793e\\u9700\\u8981_\\u30d3\\uff33\",\"\\u6599\\u91d1\\u5185\\u8a33\\u5c65\\u6b74\"],[\"HANBAI\",\"eigyt\",\"\\u5168\\u793e\\u5927_\\u81ea\\u793e\\u9700\\u8981_\\u30d3\\uff33\",\"\\u9700\\u7d66\\u5358\\u4f4d\"],[\"HANBAI\",\"eigyt\",\"\\u5168\\u793e\\u5927_\\u81ea\\u793e\\u9700\\u8981_\\u30d3\\uff33\",\"\\u9700\\u7d66\\u5951\\u7d04\"],[\"HANBAI\",\"eigyt\",\"\\u5168\\u793e\\u5927_\\u81ea\\u793e\\u9700\\u8981_\\u30d3\\uff33\",\"\\u6599\\u91d1\\u5185\\u8a33\\u5c65\\u6b74\"],[\"HANBAI\",\"eigyt\",\"\\u5168\\u793e\\u5927_\\u81ea\\u793e\\u9700\\u8981_\\u30d3\\uff33\",\"\\u9700\\u7d66\\u5358\\u4f4d\"],[\"HANBAI\",\"eigyt\",\"\\u5168\\u793e\\u5927_\\u81ea\\u793e\\u9700\\u8981_\\u30d3\\uff33\",\"\\u9700\\u7d66\\u5951\\u7d04\"],[\"HANBAI\",\"eigyt\",\"\\u5168\\u793e\\u5927_\\u81ea\\u793e\\u9700\\u8981_\\u30d3\\uff33\",\"\\u6599\\u91d1\\u5185\\u8a33\\u5c65\\u6b74\"],[\"HANBAI\",\"eigyt\",\"\\u5168\\u793e\\u5927_\\u81ea\\u793e\\u9700\\u8981_\\u30d3\\uff33\",\"\\u9700\\u7d66\\u5358\\u4f4d\"],[\"HANBAI\",\"eigyt\",\"\\u5168\\u793e\\u5927_\\u81ea\\u793e\\u9700\\u8981_\\u30d3\\uff33\",\"\\u9700\\u7d66\\u5951\\u7d04\"],[\"HANBAI\",\"eigyt\",\"\\u5168\\u793e\\u5927_\\u81ea\\u793e\\u9700\\u8981_\\u30d3\\uff33\",\"\\u6599\\u91d1\\u5185\\u8a33\\u5c65\\u6b74\"],[\"HANBAI\",\"eigyt\",\"\\u5168\\u793e\\u5927_\\u81ea\\u793e\\u9700\\u8981_\\u30d3\\uff33\",\"\\u9700\\u7d66\\u5358\\u4f4d\"],[\"HANBAI\",\"eigyt\",\"\\u5168\\u793e\\u5927_\\u81ea\\u793e\\u9700\\u8981_\\u30d3\\uff33\",\"\\u9700\\u7d66\\u5951\\u7d04\"],[\"HANBAI\",\"eigyt\",\"\\u5168\\u793e\\u5927_\\u81ea\\u793e\\u9700\\u8981_\\u30d3\\uff33\",\"\\u6599\\u91d1\\u5185\\u8a33\\u5c65\\u6b74\"],[\"HANBAI\",\"eigyt\",\"\\u5168\\u793e\\u5927_\\u81ea\\u793e\\u9700\\u8981_\\u30d3\\uff33\",\"\\u9700\\u7d66\\u5358\\u4f4d\"],[\"HANBAI\",\"eigyt\",\"\\u5168\\u793e\\u5927_\\u81ea\\u793e\\u9700\\u8981_\\u30d3\\uff33\",\"\\u9700\\u7d66\\u5951\\u7d04\"],[\"HANBAI\",\"eigyt\",\"\\u5168\\u793e\\u5927_\\u81ea\\u793e\\u9700\\u8981_\\u30d3\\uff33\",\"\\u6599\\u91d1\\u5185\\u8a33\\u5c65\\u6b74\"],[\"HANBAI\",\"eigyt\",\"\\u5168\\u793e\\u5927_\\u81ea\\u793e\\u9700\\u8981_\\u30d3\\uff33\",\"\\u6599\\u91d1\\u5185\\u8a33\\u5c65\\u6b74\"],[\"HANBAI\",\"eigyt\",\"\\u5168\\u793e\\u5927_\\u81ea\\u793e\\u9700\\u8981_\\u30d3\\uff33\",\"\\u6599\\u91d1\\u5185\\u8a33\\u5c65\\u6b74\"]],\"hovertemplate\":\"<b>%{hovertext}</b><br><br>Session_Id=246681746<br>Extended_Timestamp=%{x}<br>index=%{y}<br>DB_User=%{customdata[0]}<br>Userhost=%{customdata[1]}<br>schema=%{customdata[2]}<br>table=%{customdata[3]}<extra></extra>\",\"hovertext\":[null,\"\\u9700\\u7d66\\u5358\\u4f4d\",\"\\u9700\\u7d66\\u5951\\u7d04\",\"\\u6599\\u91d1\\u5185\\u8a33\\u5c65\\u6b74\",\"\\u9700\\u7d66\\u5358\\u4f4d\",\"\\u9700\\u7d66\\u5951\\u7d04\",\"\\u6599\\u91d1\\u5185\\u8a33\\u5c65\\u6b74\",\"\\u9700\\u7d66\\u5358\\u4f4d\",\"\\u9700\\u7d66\\u5951\\u7d04\",\"\\u6599\\u91d1\\u5185\\u8a33\\u5c65\\u6b74\",\"\\u9700\\u7d66\\u5358\\u4f4d\",\"\\u9700\\u7d66\\u5951\\u7d04\",\"\\u6599\\u91d1\\u5185\\u8a33\\u5c65\\u6b74\",\"\\u9700\\u7d66\\u5358\\u4f4d\",\"\\u9700\\u7d66\\u5951\\u7d04\",\"\\u6599\\u91d1\\u5185\\u8a33\\u5c65\\u6b74\",\"\\u9700\\u7d66\\u5358\\u4f4d\",\"\\u9700\\u7d66\\u5951\\u7d04\",\"\\u6599\\u91d1\\u5185\\u8a33\\u5c65\\u6b74\",\"\\u9700\\u7d66\\u5358\\u4f4d\",\"\\u9700\\u7d66\\u5951\\u7d04\",\"\\u6599\\u91d1\\u5185\\u8a33\\u5c65\\u6b74\",\"\\u9700\\u7d66\\u5358\\u4f4d\",\"\\u9700\\u7d66\\u5951\\u7d04\",\"\\u6599\\u91d1\\u5185\\u8a33\\u5c65\\u6b74\",\"\\u9700\\u7d66\\u5358\\u4f4d\",\"\\u9700\\u7d66\\u5951\\u7d04\",\"\\u6599\\u91d1\\u5185\\u8a33\\u5c65\\u6b74\",\"\\u9700\\u7d66\\u5358\\u4f4d\",\"\\u9700\\u7d66\\u5951\\u7d04\",\"\\u6599\\u91d1\\u5185\\u8a33\\u5c65\\u6b74\",\"\\u9700\\u7d66\\u5358\\u4f4d\",\"\\u9700\\u7d66\\u5951\\u7d04\",\"\\u6599\\u91d1\\u5185\\u8a33\\u5c65\\u6b74\",\"\\u9700\\u7d66\\u5358\\u4f4d\",\"\\u9700\\u7d66\\u5951\\u7d04\",\"\\u6599\\u91d1\\u5185\\u8a33\\u5c65\\u6b74\",\"\\u6599\\u91d1\\u5185\\u8a33\\u5c65\\u6b74\",\"\\u6599\\u91d1\\u5185\\u8a33\\u5c65\\u6b74\"],\"legendgroup\":\"246681746\",\"marker\":{\"color\":\"#00cc96\",\"symbol\":\"circle\"},\"mode\":\"markers\",\"name\":\"246681746\",\"orientation\":\"v\",\"showlegend\":true,\"x\":[\"2023-12-13T01:07:36.371653Z\",\"2023-12-13T01:07:36.377169Z\",\"2023-12-13T01:07:36.377169Z\",\"2023-12-13T01:07:36.377169Z\",\"2023-12-13T01:07:36.377304Z\",\"2023-12-13T01:07:36.377304Z\",\"2023-12-13T01:07:36.377304Z\",\"2023-12-13T01:07:36.377401Z\",\"2023-12-13T01:07:36.377401Z\",\"2023-12-13T01:07:36.377401Z\",\"2023-12-13T01:07:36.377497Z\",\"2023-12-13T01:07:36.377497Z\",\"2023-12-13T01:07:36.377497Z\",\"2023-12-13T01:07:36.377592Z\",\"2023-12-13T01:07:36.377592Z\",\"2023-12-13T01:07:36.377592Z\",\"2023-12-13T01:07:36.377686Z\",\"2023-12-13T01:07:36.377686Z\",\"2023-12-13T01:07:36.377686Z\",\"2023-12-13T01:08:44.466335Z\",\"2023-12-13T01:08:44.466335Z\",\"2023-12-13T01:08:44.466335Z\",\"2023-12-13T01:08:44.466559Z\",\"2023-12-13T01:08:44.466559Z\",\"2023-12-13T01:08:44.466559Z\",\"2023-12-13T01:08:44.466737Z\",\"2023-12-13T01:08:44.466737Z\",\"2023-12-13T01:08:44.466737Z\",\"2023-12-13T01:08:44.466910Z\",\"2023-12-13T01:08:44.466910Z\",\"2023-12-13T01:08:44.466910Z\",\"2023-12-13T01:08:44.467081Z\",\"2023-12-13T01:08:44.467081Z\",\"2023-12-13T01:08:44.467081Z\",\"2023-12-13T01:08:44.467252Z\",\"2023-12-13T01:08:44.467252Z\",\"2023-12-13T01:08:44.467252Z\",\"2023-12-13T01:09:36.339984Z\",\"2023-12-13T01:09:36.340096Z\"],\"xaxis\":\"x\",\"y\":[327,328,329,330,331,332,333,334,335,336,337,338,339,340,341,342,343,344,345,346,347,348,349,350,351,352,353,354,355,356,357,358,359,360,361,362,363,364,365],\"yaxis\":\"y\",\"type\":\"scatter\"},{\"customdata\":[[null,null,null,null]],\"hovertemplate\":\"<b>%{hovertext}</b><br><br>Session_Id=Processed Rows:330 finished!<br>Extended_Timestamp=%{x}<br>index=%{y}<br>DB_User=%{customdata[0]}<br>Userhost=%{customdata[1]}<br>schema=%{customdata[2]}<br>table=%{customdata[3]}<extra></extra>\",\"hovertext\":[null],\"legendgroup\":\"Processed Rows:330 finished!\",\"marker\":{\"color\":\"#ab63fa\",\"symbol\":\"circle\"},\"mode\":\"markers\",\"name\":\"Processed Rows:330 finished!\",\"orientation\":\"v\",\"showlegend\":true,\"x\":[null],\"xaxis\":\"x\",\"y\":[366],\"yaxis\":\"y\",\"type\":\"scatter\"}],                        {\"template\":{\"data\":{\"histogram2dcontour\":[{\"type\":\"histogram2dcontour\",\"colorbar\":{\"outlinewidth\":0,\"ticks\":\"\"},\"colorscale\":[[0.0,\"#0d0887\"],[0.1111111111111111,\"#46039f\"],[0.2222222222222222,\"#7201a8\"],[0.3333333333333333,\"#9c179e\"],[0.4444444444444444,\"#bd3786\"],[0.5555555555555556,\"#d8576b\"],[0.6666666666666666,\"#ed7953\"],[0.7777777777777778,\"#fb9f3a\"],[0.8888888888888888,\"#fdca26\"],[1.0,\"#f0f921\"]]}],\"choropleth\":[{\"type\":\"choropleth\",\"colorbar\":{\"outlinewidth\":0,\"ticks\":\"\"}}],\"histogram2d\":[{\"type\":\"histogram2d\",\"colorbar\":{\"outlinewidth\":0,\"ticks\":\"\"},\"colorscale\":[[0.0,\"#0d0887\"],[0.1111111111111111,\"#46039f\"],[0.2222222222222222,\"#7201a8\"],[0.3333333333333333,\"#9c179e\"],[0.4444444444444444,\"#bd3786\"],[0.5555555555555556,\"#d8576b\"],[0.6666666666666666,\"#ed7953\"],[0.7777777777777778,\"#fb9f3a\"],[0.8888888888888888,\"#fdca26\"],[1.0,\"#f0f921\"]]}],\"heatmap\":[{\"type\":\"heatmap\",\"colorbar\":{\"outlinewidth\":0,\"ticks\":\"\"},\"colorscale\":[[0.0,\"#0d0887\"],[0.1111111111111111,\"#46039f\"],[0.2222222222222222,\"#7201a8\"],[0.3333333333333333,\"#9c179e\"],[0.4444444444444444,\"#bd3786\"],[0.5555555555555556,\"#d8576b\"],[0.6666666666666666,\"#ed7953\"],[0.7777777777777778,\"#fb9f3a\"],[0.8888888888888888,\"#fdca26\"],[1.0,\"#f0f921\"]]}],\"heatmapgl\":[{\"type\":\"heatmapgl\",\"colorbar\":{\"outlinewidth\":0,\"ticks\":\"\"},\"colorscale\":[[0.0,\"#0d0887\"],[0.1111111111111111,\"#46039f\"],[0.2222222222222222,\"#7201a8\"],[0.3333333333333333,\"#9c179e\"],[0.4444444444444444,\"#bd3786\"],[0.5555555555555556,\"#d8576b\"],[0.6666666666666666,\"#ed7953\"],[0.7777777777777778,\"#fb9f3a\"],[0.8888888888888888,\"#fdca26\"],[1.0,\"#f0f921\"]]}],\"contourcarpet\":[{\"type\":\"contourcarpet\",\"colorbar\":{\"outlinewidth\":0,\"ticks\":\"\"}}],\"contour\":[{\"type\":\"contour\",\"colorbar\":{\"outlinewidth\":0,\"ticks\":\"\"},\"colorscale\":[[0.0,\"#0d0887\"],[0.1111111111111111,\"#46039f\"],[0.2222222222222222,\"#7201a8\"],[0.3333333333333333,\"#9c179e\"],[0.4444444444444444,\"#bd3786\"],[0.5555555555555556,\"#d8576b\"],[0.6666666666666666,\"#ed7953\"],[0.7777777777777778,\"#fb9f3a\"],[0.8888888888888888,\"#fdca26\"],[1.0,\"#f0f921\"]]}],\"surface\":[{\"type\":\"surface\",\"colorbar\":{\"outlinewidth\":0,\"ticks\":\"\"},\"colorscale\":[[0.0,\"#0d0887\"],[0.1111111111111111,\"#46039f\"],[0.2222222222222222,\"#7201a8\"],[0.3333333333333333,\"#9c179e\"],[0.4444444444444444,\"#bd3786\"],[0.5555555555555556,\"#d8576b\"],[0.6666666666666666,\"#ed7953\"],[0.7777777777777778,\"#fb9f3a\"],[0.8888888888888888,\"#fdca26\"],[1.0,\"#f0f921\"]]}],\"mesh3d\":[{\"type\":\"mesh3d\",\"colorbar\":{\"outlinewidth\":0,\"ticks\":\"\"}}],\"scatter\":[{\"fillpattern\":{\"fillmode\":\"overlay\",\"size\":10,\"solidity\":0.2},\"type\":\"scatter\"}],\"parcoords\":[{\"type\":\"parcoords\",\"line\":{\"colorbar\":{\"outlinewidth\":0,\"ticks\":\"\"}}}],\"scatterpolargl\":[{\"type\":\"scatterpolargl\",\"marker\":{\"colorbar\":{\"outlinewidth\":0,\"ticks\":\"\"}}}],\"bar\":[{\"error_x\":{\"color\":\"#2a3f5f\"},\"error_y\":{\"color\":\"#2a3f5f\"},\"marker\":{\"line\":{\"color\":\"#E5ECF6\",\"width\":0.5},\"pattern\":{\"fillmode\":\"overlay\",\"size\":10,\"solidity\":0.2}},\"type\":\"bar\"}],\"scattergeo\":[{\"type\":\"scattergeo\",\"marker\":{\"colorbar\":{\"outlinewidth\":0,\"ticks\":\"\"}}}],\"scatterpolar\":[{\"type\":\"scatterpolar\",\"marker\":{\"colorbar\":{\"outlinewidth\":0,\"ticks\":\"\"}}}],\"histogram\":[{\"marker\":{\"pattern\":{\"fillmode\":\"overlay\",\"size\":10,\"solidity\":0.2}},\"type\":\"histogram\"}],\"scattergl\":[{\"type\":\"scattergl\",\"marker\":{\"colorbar\":{\"outlinewidth\":0,\"ticks\":\"\"}}}],\"scatter3d\":[{\"type\":\"scatter3d\",\"line\":{\"colorbar\":{\"outlinewidth\":0,\"ticks\":\"\"}},\"marker\":{\"colorbar\":{\"outlinewidth\":0,\"ticks\":\"\"}}}],\"scattermapbox\":[{\"type\":\"scattermapbox\",\"marker\":{\"colorbar\":{\"outlinewidth\":0,\"ticks\":\"\"}}}],\"scatterternary\":[{\"type\":\"scatterternary\",\"marker\":{\"colorbar\":{\"outlinewidth\":0,\"ticks\":\"\"}}}],\"scattercarpet\":[{\"type\":\"scattercarpet\",\"marker\":{\"colorbar\":{\"outlinewidth\":0,\"ticks\":\"\"}}}],\"carpet\":[{\"aaxis\":{\"endlinecolor\":\"#2a3f5f\",\"gridcolor\":\"white\",\"linecolor\":\"white\",\"minorgridcolor\":\"white\",\"startlinecolor\":\"#2a3f5f\"},\"baxis\":{\"endlinecolor\":\"#2a3f5f\",\"gridcolor\":\"white\",\"linecolor\":\"white\",\"minorgridcolor\":\"white\",\"startlinecolor\":\"#2a3f5f\"},\"type\":\"carpet\"}],\"table\":[{\"cells\":{\"fill\":{\"color\":\"#EBF0F8\"},\"line\":{\"color\":\"white\"}},\"header\":{\"fill\":{\"color\":\"#C8D4E3\"},\"line\":{\"color\":\"white\"}},\"type\":\"table\"}],\"barpolar\":[{\"marker\":{\"line\":{\"color\":\"#E5ECF6\",\"width\":0.5},\"pattern\":{\"fillmode\":\"overlay\",\"size\":10,\"solidity\":0.2}},\"type\":\"barpolar\"}],\"pie\":[{\"automargin\":true,\"type\":\"pie\"}]},\"layout\":{\"autotypenumbers\":\"strict\",\"colorway\":[\"#636efa\",\"#EF553B\",\"#00cc96\",\"#ab63fa\",\"#FFA15A\",\"#19d3f3\",\"#FF6692\",\"#B6E880\",\"#FF97FF\",\"#FECB52\"],\"font\":{\"color\":\"#2a3f5f\"},\"hovermode\":\"closest\",\"hoverlabel\":{\"align\":\"left\"},\"paper_bgcolor\":\"white\",\"plot_bgcolor\":\"#E5ECF6\",\"polar\":{\"bgcolor\":\"#E5ECF6\",\"angularaxis\":{\"gridcolor\":\"white\",\"linecolor\":\"white\",\"ticks\":\"\"},\"radialaxis\":{\"gridcolor\":\"white\",\"linecolor\":\"white\",\"ticks\":\"\"}},\"ternary\":{\"bgcolor\":\"#E5ECF6\",\"aaxis\":{\"gridcolor\":\"white\",\"linecolor\":\"white\",\"ticks\":\"\"},\"baxis\":{\"gridcolor\":\"white\",\"linecolor\":\"white\",\"ticks\":\"\"},\"caxis\":{\"gridcolor\":\"white\",\"linecolor\":\"white\",\"ticks\":\"\"}},\"coloraxis\":{\"colorbar\":{\"outlinewidth\":0,\"ticks\":\"\"}},\"colorscale\":{\"sequential\":[[0.0,\"#0d0887\"],[0.1111111111111111,\"#46039f\"],[0.2222222222222222,\"#7201a8\"],[0.3333333333333333,\"#9c179e\"],[0.4444444444444444,\"#bd3786\"],[0.5555555555555556,\"#d8576b\"],[0.6666666666666666,\"#ed7953\"],[0.7777777777777778,\"#fb9f3a\"],[0.8888888888888888,\"#fdca26\"],[1.0,\"#f0f921\"]],\"sequentialminus\":[[0.0,\"#0d0887\"],[0.1111111111111111,\"#46039f\"],[0.2222222222222222,\"#7201a8\"],[0.3333333333333333,\"#9c179e\"],[0.4444444444444444,\"#bd3786\"],[0.5555555555555556,\"#d8576b\"],[0.6666666666666666,\"#ed7953\"],[0.7777777777777778,\"#fb9f3a\"],[0.8888888888888888,\"#fdca26\"],[1.0,\"#f0f921\"]],\"diverging\":[[0,\"#8e0152\"],[0.1,\"#c51b7d\"],[0.2,\"#de77ae\"],[0.3,\"#f1b6da\"],[0.4,\"#fde0ef\"],[0.5,\"#f7f7f7\"],[0.6,\"#e6f5d0\"],[0.7,\"#b8e186\"],[0.8,\"#7fbc41\"],[0.9,\"#4d9221\"],[1,\"#276419\"]]},\"xaxis\":{\"gridcolor\":\"white\",\"linecolor\":\"white\",\"ticks\":\"\",\"title\":{\"standoff\":15},\"zerolinecolor\":\"white\",\"automargin\":true,\"zerolinewidth\":2},\"yaxis\":{\"gridcolor\":\"white\",\"linecolor\":\"white\",\"ticks\":\"\",\"title\":{\"standoff\":15},\"zerolinecolor\":\"white\",\"automargin\":true,\"zerolinewidth\":2},\"scene\":{\"xaxis\":{\"backgroundcolor\":\"#E5ECF6\",\"gridcolor\":\"white\",\"linecolor\":\"white\",\"showbackground\":true,\"ticks\":\"\",\"zerolinecolor\":\"white\",\"gridwidth\":2},\"yaxis\":{\"backgroundcolor\":\"#E5ECF6\",\"gridcolor\":\"white\",\"linecolor\":\"white\",\"showbackground\":true,\"ticks\":\"\",\"zerolinecolor\":\"white\",\"gridwidth\":2},\"zaxis\":{\"backgroundcolor\":\"#E5ECF6\",\"gridcolor\":\"white\",\"linecolor\":\"white\",\"showbackground\":true,\"ticks\":\"\",\"zerolinecolor\":\"white\",\"gridwidth\":2}},\"shapedefaults\":{\"line\":{\"color\":\"#2a3f5f\"}},\"annotationdefaults\":{\"arrowcolor\":\"#2a3f5f\",\"arrowhead\":0,\"arrowwidth\":1},\"geo\":{\"bgcolor\":\"white\",\"landcolor\":\"#E5ECF6\",\"subunitcolor\":\"white\",\"showland\":true,\"showlakes\":true,\"lakecolor\":\"white\"},\"title\":{\"x\":0.05},\"mapbox\":{\"style\":\"light\"}}},\"xaxis\":{\"anchor\":\"y\",\"domain\":[0.0,1.0],\"title\":{\"text\":\"Extended_Timestamp\"}},\"yaxis\":{\"anchor\":\"x\",\"domain\":[0.0,1.0],\"title\":{\"text\":\"index\"}},\"legend\":{\"title\":{\"text\":\"Session_Id\"},\"tracegroupgap\":0},\"title\":{\"text\":\"count(df4.index)\"}},                        {\"responsive\": true}                    ).then(function(){\n",
       "                            \n",
       "var gd = document.getElementById('935f81ce-4516-42cd-9289-b397782c9900');\n",
       "var x = new MutationObserver(function (mutations, observer) {{\n",
       "        var display = window.getComputedStyle(gd).display;\n",
       "        if (!display || display === 'none') {{\n",
       "            console.log([gd, 'removed!']);\n",
       "            Plotly.purge(gd);\n",
       "            observer.disconnect();\n",
       "        }}\n",
       "}});\n",
       "\n",
       "// Listen for the removal of the full notebook cells\n",
       "var notebookContainer = gd.closest('#notebook-container');\n",
       "if (notebookContainer) {{\n",
       "    x.observe(notebookContainer, {childList: true});\n",
       "}}\n",
       "\n",
       "// Listen for the clearing of the current output cell\n",
       "var outputEl = gd.closest('.output');\n",
       "if (outputEl) {{\n",
       "    x.observe(outputEl, {childList: true});\n",
       "}}\n",
       "\n",
       "                        })                };                });            </script>        </div>"
      ]
     },
     "metadata": {},
     "output_type": "display_data"
    }
   ],
   "source": [
    "import plotly.express as px\n",
    "\n",
    "# Plotlyを使用してデータをプロット\n",
    "# fig = px.scatter(df, x='Extended_Timestamp', y='EntryId', title=f\"count(EntryId)\",color='Session_Id')\n",
    "fig = px.scatter(df4, x='Extended_Timestamp', y=df4.index, title=f\"count(df4.index)\",color='Session_Id',hover_name=\"table\", hover_data=[\"DB_User\",\"Userhost\",\"schema\",\"table\"])\n",
    "fig.show()\n"
   ]
  },
  {
   "cell_type": "code",
   "execution_count": 23,
   "id": "a935d7bb",
   "metadata": {},
   "outputs": [
    {
     "data": {
      "application/vnd.plotly.v1+json": {
       "config": {
        "plotlyServerURL": "https://plot.ly"
       },
       "data": [
        {
         "branchvalues": "total",
         "customdata": [
          [
           "HANBAI",
           "eigyt",
           "全社大_自社需要_ビＳ",
           "料金内訳履歴"
          ],
          [
           "HANBAI",
           "eigyt",
           "全社大_自社需要_ビＳ",
           "需給単位"
          ],
          [
           "HANBAI",
           "eigyt",
           "全社大_自社需要_ビＳ",
           "需給契約"
          ],
          [
           "HANBAI",
           "eigyt",
           "全社大_自社需要_ビＳ",
           "料金内訳履歴"
          ],
          [
           "HANBAI",
           "eigyt",
           "全社大_自社需要_ビＳ",
           "需給単位"
          ],
          [
           "HANBAI",
           "eigyt",
           "全社大_自社需要_ビＳ",
           "需給契約"
          ],
          [
           "HANBAI",
           "eigyt",
           "全社大_自社需要_ビＳ",
           "料金内訳履歴"
          ],
          [
           "HANBAI",
           "eigyt",
           "全社大_自社需要_ビＳ",
           "需給契約"
          ],
          [
           "HANBAI",
           "eigyt",
           "全社大_自社需要_ビＳ",
           "料金内訳履歴"
          ],
          [
           "HANBAI",
           "eigyt",
           "全社大_自社需要_ビＳ",
           "需給単位"
          ],
          [
           "HANBAI",
           "eigyt",
           "全社大_自社需要_ビＳ",
           "需給契約"
          ],
          [
           "HANBAI",
           "eigyt",
           "全社大_自社需要_ビＳ",
           "料金内訳履歴"
          ],
          [
           "HANBAI",
           "eigyt",
           "全社大_自社需要_ビＳ",
           "需給単位"
          ],
          [
           "HANBAI",
           "eigyt",
           "全社大_自社需要_ビＳ",
           "需給契約"
          ]
         ],
         "domain": {
          "x": [
           0,
           1
          ],
          "y": [
           0,
           1
          ]
         },
         "hovertemplate": "<b>%{hovertext}</b><br><br>labels=%{label}<br>index=%{value}<br>parent=%{parent}<br>id=%{id}<br>DB_User=%{customdata[0]}<br>Userhost=%{customdata[1]}<br>schema=%{customdata[2]}<br>table=%{customdata[3]}<extra></extra>",
         "hovertext": [
          "eigyt",
          "eigyt",
          "eigyt",
          "eigyt",
          "eigyt",
          "eigyt",
          "eigyt",
          "eigyt",
          "eigyt",
          "eigyt",
          "eigyt",
          "eigyt",
          "eigyt",
          "eigyt"
         ],
         "ids": [
          "料金内訳履歴/全社大_自社需要_ビＳ/246681550",
          "需給単位/全社大_自社需要_ビＳ/246681550",
          "需給契約/全社大_自社需要_ビＳ/246681550",
          "料金内訳履歴/全社大_自社需要_ビＳ/246681746",
          "需給単位/全社大_自社需要_ビＳ/246681746",
          "需給契約/全社大_自社需要_ビＳ/246681746",
          "料金内訳履歴/全社大_自社需要_ビＳ/246681793",
          "需給契約/全社大_自社需要_ビＳ/246681793",
          "料金内訳履歴/全社大_自社需要_ビＳ",
          "需給単位/全社大_自社需要_ビＳ",
          "需給契約/全社大_自社需要_ビＳ",
          "料金内訳履歴",
          "需給単位",
          "需給契約"
         ],
         "labels": [
          "246681550",
          "246681550",
          "246681550",
          "246681746",
          "246681746",
          "246681746",
          "246681793",
          "246681793",
          "全社大_自社需要_ビＳ",
          "全社大_自社需要_ビＳ",
          "全社大_自社需要_ビＳ",
          "料金内訳履歴",
          "需給単位",
          "需給契約"
         ],
         "name": "",
         "parents": [
          "料金内訳履歴/全社大_自社需要_ビＳ",
          "需給単位/全社大_自社需要_ビＳ",
          "需給契約/全社大_自社需要_ビＳ",
          "料金内訳履歴/全社大_自社需要_ビＳ",
          "需給単位/全社大_自社需要_ビＳ",
          "需給契約/全社大_自社需要_ビＳ",
          "料金内訳履歴/全社大_自社需要_ビＳ",
          "需給契約/全社大_自社需要_ビＳ",
          "料金内訳履歴",
          "需給単位",
          "需給契約",
          "",
          "",
          ""
         ],
         "type": "treemap",
         "values": [
          63,
          51,
          57,
          4887,
          4134,
          4146,
          53048,
          43,
          57998,
          4185,
          4246,
          57998,
          4185,
          4246
         ]
        }
       ],
       "layout": {
        "legend": {
         "tracegroupgap": 0
        },
        "margin": {
         "t": 60
        },
        "template": {
         "data": {
          "bar": [
           {
            "error_x": {
             "color": "#2a3f5f"
            },
            "error_y": {
             "color": "#2a3f5f"
            },
            "marker": {
             "line": {
              "color": "#E5ECF6",
              "width": 0.5
             },
             "pattern": {
              "fillmode": "overlay",
              "size": 10,
              "solidity": 0.2
             }
            },
            "type": "bar"
           }
          ],
          "barpolar": [
           {
            "marker": {
             "line": {
              "color": "#E5ECF6",
              "width": 0.5
             },
             "pattern": {
              "fillmode": "overlay",
              "size": 10,
              "solidity": 0.2
             }
            },
            "type": "barpolar"
           }
          ],
          "carpet": [
           {
            "aaxis": {
             "endlinecolor": "#2a3f5f",
             "gridcolor": "white",
             "linecolor": "white",
             "minorgridcolor": "white",
             "startlinecolor": "#2a3f5f"
            },
            "baxis": {
             "endlinecolor": "#2a3f5f",
             "gridcolor": "white",
             "linecolor": "white",
             "minorgridcolor": "white",
             "startlinecolor": "#2a3f5f"
            },
            "type": "carpet"
           }
          ],
          "choropleth": [
           {
            "colorbar": {
             "outlinewidth": 0,
             "ticks": ""
            },
            "type": "choropleth"
           }
          ],
          "contour": [
           {
            "colorbar": {
             "outlinewidth": 0,
             "ticks": ""
            },
            "colorscale": [
             [
              0,
              "#0d0887"
             ],
             [
              0.1111111111111111,
              "#46039f"
             ],
             [
              0.2222222222222222,
              "#7201a8"
             ],
             [
              0.3333333333333333,
              "#9c179e"
             ],
             [
              0.4444444444444444,
              "#bd3786"
             ],
             [
              0.5555555555555556,
              "#d8576b"
             ],
             [
              0.6666666666666666,
              "#ed7953"
             ],
             [
              0.7777777777777778,
              "#fb9f3a"
             ],
             [
              0.8888888888888888,
              "#fdca26"
             ],
             [
              1,
              "#f0f921"
             ]
            ],
            "type": "contour"
           }
          ],
          "contourcarpet": [
           {
            "colorbar": {
             "outlinewidth": 0,
             "ticks": ""
            },
            "type": "contourcarpet"
           }
          ],
          "heatmap": [
           {
            "colorbar": {
             "outlinewidth": 0,
             "ticks": ""
            },
            "colorscale": [
             [
              0,
              "#0d0887"
             ],
             [
              0.1111111111111111,
              "#46039f"
             ],
             [
              0.2222222222222222,
              "#7201a8"
             ],
             [
              0.3333333333333333,
              "#9c179e"
             ],
             [
              0.4444444444444444,
              "#bd3786"
             ],
             [
              0.5555555555555556,
              "#d8576b"
             ],
             [
              0.6666666666666666,
              "#ed7953"
             ],
             [
              0.7777777777777778,
              "#fb9f3a"
             ],
             [
              0.8888888888888888,
              "#fdca26"
             ],
             [
              1,
              "#f0f921"
             ]
            ],
            "type": "heatmap"
           }
          ],
          "heatmapgl": [
           {
            "colorbar": {
             "outlinewidth": 0,
             "ticks": ""
            },
            "colorscale": [
             [
              0,
              "#0d0887"
             ],
             [
              0.1111111111111111,
              "#46039f"
             ],
             [
              0.2222222222222222,
              "#7201a8"
             ],
             [
              0.3333333333333333,
              "#9c179e"
             ],
             [
              0.4444444444444444,
              "#bd3786"
             ],
             [
              0.5555555555555556,
              "#d8576b"
             ],
             [
              0.6666666666666666,
              "#ed7953"
             ],
             [
              0.7777777777777778,
              "#fb9f3a"
             ],
             [
              0.8888888888888888,
              "#fdca26"
             ],
             [
              1,
              "#f0f921"
             ]
            ],
            "type": "heatmapgl"
           }
          ],
          "histogram": [
           {
            "marker": {
             "pattern": {
              "fillmode": "overlay",
              "size": 10,
              "solidity": 0.2
             }
            },
            "type": "histogram"
           }
          ],
          "histogram2d": [
           {
            "colorbar": {
             "outlinewidth": 0,
             "ticks": ""
            },
            "colorscale": [
             [
              0,
              "#0d0887"
             ],
             [
              0.1111111111111111,
              "#46039f"
             ],
             [
              0.2222222222222222,
              "#7201a8"
             ],
             [
              0.3333333333333333,
              "#9c179e"
             ],
             [
              0.4444444444444444,
              "#bd3786"
             ],
             [
              0.5555555555555556,
              "#d8576b"
             ],
             [
              0.6666666666666666,
              "#ed7953"
             ],
             [
              0.7777777777777778,
              "#fb9f3a"
             ],
             [
              0.8888888888888888,
              "#fdca26"
             ],
             [
              1,
              "#f0f921"
             ]
            ],
            "type": "histogram2d"
           }
          ],
          "histogram2dcontour": [
           {
            "colorbar": {
             "outlinewidth": 0,
             "ticks": ""
            },
            "colorscale": [
             [
              0,
              "#0d0887"
             ],
             [
              0.1111111111111111,
              "#46039f"
             ],
             [
              0.2222222222222222,
              "#7201a8"
             ],
             [
              0.3333333333333333,
              "#9c179e"
             ],
             [
              0.4444444444444444,
              "#bd3786"
             ],
             [
              0.5555555555555556,
              "#d8576b"
             ],
             [
              0.6666666666666666,
              "#ed7953"
             ],
             [
              0.7777777777777778,
              "#fb9f3a"
             ],
             [
              0.8888888888888888,
              "#fdca26"
             ],
             [
              1,
              "#f0f921"
             ]
            ],
            "type": "histogram2dcontour"
           }
          ],
          "mesh3d": [
           {
            "colorbar": {
             "outlinewidth": 0,
             "ticks": ""
            },
            "type": "mesh3d"
           }
          ],
          "parcoords": [
           {
            "line": {
             "colorbar": {
              "outlinewidth": 0,
              "ticks": ""
             }
            },
            "type": "parcoords"
           }
          ],
          "pie": [
           {
            "automargin": true,
            "type": "pie"
           }
          ],
          "scatter": [
           {
            "fillpattern": {
             "fillmode": "overlay",
             "size": 10,
             "solidity": 0.2
            },
            "type": "scatter"
           }
          ],
          "scatter3d": [
           {
            "line": {
             "colorbar": {
              "outlinewidth": 0,
              "ticks": ""
             }
            },
            "marker": {
             "colorbar": {
              "outlinewidth": 0,
              "ticks": ""
             }
            },
            "type": "scatter3d"
           }
          ],
          "scattercarpet": [
           {
            "marker": {
             "colorbar": {
              "outlinewidth": 0,
              "ticks": ""
             }
            },
            "type": "scattercarpet"
           }
          ],
          "scattergeo": [
           {
            "marker": {
             "colorbar": {
              "outlinewidth": 0,
              "ticks": ""
             }
            },
            "type": "scattergeo"
           }
          ],
          "scattergl": [
           {
            "marker": {
             "colorbar": {
              "outlinewidth": 0,
              "ticks": ""
             }
            },
            "type": "scattergl"
           }
          ],
          "scattermapbox": [
           {
            "marker": {
             "colorbar": {
              "outlinewidth": 0,
              "ticks": ""
             }
            },
            "type": "scattermapbox"
           }
          ],
          "scatterpolar": [
           {
            "marker": {
             "colorbar": {
              "outlinewidth": 0,
              "ticks": ""
             }
            },
            "type": "scatterpolar"
           }
          ],
          "scatterpolargl": [
           {
            "marker": {
             "colorbar": {
              "outlinewidth": 0,
              "ticks": ""
             }
            },
            "type": "scatterpolargl"
           }
          ],
          "scatterternary": [
           {
            "marker": {
             "colorbar": {
              "outlinewidth": 0,
              "ticks": ""
             }
            },
            "type": "scatterternary"
           }
          ],
          "surface": [
           {
            "colorbar": {
             "outlinewidth": 0,
             "ticks": ""
            },
            "colorscale": [
             [
              0,
              "#0d0887"
             ],
             [
              0.1111111111111111,
              "#46039f"
             ],
             [
              0.2222222222222222,
              "#7201a8"
             ],
             [
              0.3333333333333333,
              "#9c179e"
             ],
             [
              0.4444444444444444,
              "#bd3786"
             ],
             [
              0.5555555555555556,
              "#d8576b"
             ],
             [
              0.6666666666666666,
              "#ed7953"
             ],
             [
              0.7777777777777778,
              "#fb9f3a"
             ],
             [
              0.8888888888888888,
              "#fdca26"
             ],
             [
              1,
              "#f0f921"
             ]
            ],
            "type": "surface"
           }
          ],
          "table": [
           {
            "cells": {
             "fill": {
              "color": "#EBF0F8"
             },
             "line": {
              "color": "white"
             }
            },
            "header": {
             "fill": {
              "color": "#C8D4E3"
             },
             "line": {
              "color": "white"
             }
            },
            "type": "table"
           }
          ]
         },
         "layout": {
          "annotationdefaults": {
           "arrowcolor": "#2a3f5f",
           "arrowhead": 0,
           "arrowwidth": 1
          },
          "autotypenumbers": "strict",
          "coloraxis": {
           "colorbar": {
            "outlinewidth": 0,
            "ticks": ""
           }
          },
          "colorscale": {
           "diverging": [
            [
             0,
             "#8e0152"
            ],
            [
             0.1,
             "#c51b7d"
            ],
            [
             0.2,
             "#de77ae"
            ],
            [
             0.3,
             "#f1b6da"
            ],
            [
             0.4,
             "#fde0ef"
            ],
            [
             0.5,
             "#f7f7f7"
            ],
            [
             0.6,
             "#e6f5d0"
            ],
            [
             0.7,
             "#b8e186"
            ],
            [
             0.8,
             "#7fbc41"
            ],
            [
             0.9,
             "#4d9221"
            ],
            [
             1,
             "#276419"
            ]
           ],
           "sequential": [
            [
             0,
             "#0d0887"
            ],
            [
             0.1111111111111111,
             "#46039f"
            ],
            [
             0.2222222222222222,
             "#7201a8"
            ],
            [
             0.3333333333333333,
             "#9c179e"
            ],
            [
             0.4444444444444444,
             "#bd3786"
            ],
            [
             0.5555555555555556,
             "#d8576b"
            ],
            [
             0.6666666666666666,
             "#ed7953"
            ],
            [
             0.7777777777777778,
             "#fb9f3a"
            ],
            [
             0.8888888888888888,
             "#fdca26"
            ],
            [
             1,
             "#f0f921"
            ]
           ],
           "sequentialminus": [
            [
             0,
             "#0d0887"
            ],
            [
             0.1111111111111111,
             "#46039f"
            ],
            [
             0.2222222222222222,
             "#7201a8"
            ],
            [
             0.3333333333333333,
             "#9c179e"
            ],
            [
             0.4444444444444444,
             "#bd3786"
            ],
            [
             0.5555555555555556,
             "#d8576b"
            ],
            [
             0.6666666666666666,
             "#ed7953"
            ],
            [
             0.7777777777777778,
             "#fb9f3a"
            ],
            [
             0.8888888888888888,
             "#fdca26"
            ],
            [
             1,
             "#f0f921"
            ]
           ]
          },
          "colorway": [
           "#636efa",
           "#EF553B",
           "#00cc96",
           "#ab63fa",
           "#FFA15A",
           "#19d3f3",
           "#FF6692",
           "#B6E880",
           "#FF97FF",
           "#FECB52"
          ],
          "font": {
           "color": "#2a3f5f"
          },
          "geo": {
           "bgcolor": "white",
           "lakecolor": "white",
           "landcolor": "#E5ECF6",
           "showlakes": true,
           "showland": true,
           "subunitcolor": "white"
          },
          "hoverlabel": {
           "align": "left"
          },
          "hovermode": "closest",
          "mapbox": {
           "style": "light"
          },
          "paper_bgcolor": "white",
          "plot_bgcolor": "#E5ECF6",
          "polar": {
           "angularaxis": {
            "gridcolor": "white",
            "linecolor": "white",
            "ticks": ""
           },
           "bgcolor": "#E5ECF6",
           "radialaxis": {
            "gridcolor": "white",
            "linecolor": "white",
            "ticks": ""
           }
          },
          "scene": {
           "xaxis": {
            "backgroundcolor": "#E5ECF6",
            "gridcolor": "white",
            "gridwidth": 2,
            "linecolor": "white",
            "showbackground": true,
            "ticks": "",
            "zerolinecolor": "white"
           },
           "yaxis": {
            "backgroundcolor": "#E5ECF6",
            "gridcolor": "white",
            "gridwidth": 2,
            "linecolor": "white",
            "showbackground": true,
            "ticks": "",
            "zerolinecolor": "white"
           },
           "zaxis": {
            "backgroundcolor": "#E5ECF6",
            "gridcolor": "white",
            "gridwidth": 2,
            "linecolor": "white",
            "showbackground": true,
            "ticks": "",
            "zerolinecolor": "white"
           }
          },
          "shapedefaults": {
           "line": {
            "color": "#2a3f5f"
           }
          },
          "ternary": {
           "aaxis": {
            "gridcolor": "white",
            "linecolor": "white",
            "ticks": ""
           },
           "baxis": {
            "gridcolor": "white",
            "linecolor": "white",
            "ticks": ""
           },
           "bgcolor": "#E5ECF6",
           "caxis": {
            "gridcolor": "white",
            "linecolor": "white",
            "ticks": ""
           }
          },
          "title": {
           "x": 0.05
          },
          "xaxis": {
           "automargin": true,
           "gridcolor": "white",
           "linecolor": "white",
           "ticks": "",
           "title": {
            "standoff": 15
           },
           "zerolinecolor": "white",
           "zerolinewidth": 2
          },
          "yaxis": {
           "automargin": true,
           "gridcolor": "white",
           "linecolor": "white",
           "ticks": "",
           "title": {
            "standoff": 15
           },
           "zerolinecolor": "white",
           "zerolinewidth": 2
          }
         }
        }
       }
      },
      "text/html": [
       "<div>                            <div id=\"7b6f84be-9fb4-4043-aca7-3f38d465668e\" class=\"plotly-graph-div\" style=\"height:525px; width:100%;\"></div>            <script type=\"text/javascript\">                require([\"plotly\"], function(Plotly) {                    window.PLOTLYENV=window.PLOTLYENV || {};                                    if (document.getElementById(\"7b6f84be-9fb4-4043-aca7-3f38d465668e\")) {                    Plotly.newPlot(                        \"7b6f84be-9fb4-4043-aca7-3f38d465668e\",                        [{\"branchvalues\":\"total\",\"customdata\":[[\"HANBAI\",\"eigyt\",\"\\u5168\\u793e\\u5927_\\u81ea\\u793e\\u9700\\u8981_\\u30d3\\uff33\",\"\\u6599\\u91d1\\u5185\\u8a33\\u5c65\\u6b74\"],[\"HANBAI\",\"eigyt\",\"\\u5168\\u793e\\u5927_\\u81ea\\u793e\\u9700\\u8981_\\u30d3\\uff33\",\"\\u9700\\u7d66\\u5358\\u4f4d\"],[\"HANBAI\",\"eigyt\",\"\\u5168\\u793e\\u5927_\\u81ea\\u793e\\u9700\\u8981_\\u30d3\\uff33\",\"\\u9700\\u7d66\\u5951\\u7d04\"],[\"HANBAI\",\"eigyt\",\"\\u5168\\u793e\\u5927_\\u81ea\\u793e\\u9700\\u8981_\\u30d3\\uff33\",\"\\u6599\\u91d1\\u5185\\u8a33\\u5c65\\u6b74\"],[\"HANBAI\",\"eigyt\",\"\\u5168\\u793e\\u5927_\\u81ea\\u793e\\u9700\\u8981_\\u30d3\\uff33\",\"\\u9700\\u7d66\\u5358\\u4f4d\"],[\"HANBAI\",\"eigyt\",\"\\u5168\\u793e\\u5927_\\u81ea\\u793e\\u9700\\u8981_\\u30d3\\uff33\",\"\\u9700\\u7d66\\u5951\\u7d04\"],[\"HANBAI\",\"eigyt\",\"\\u5168\\u793e\\u5927_\\u81ea\\u793e\\u9700\\u8981_\\u30d3\\uff33\",\"\\u6599\\u91d1\\u5185\\u8a33\\u5c65\\u6b74\"],[\"HANBAI\",\"eigyt\",\"\\u5168\\u793e\\u5927_\\u81ea\\u793e\\u9700\\u8981_\\u30d3\\uff33\",\"\\u9700\\u7d66\\u5951\\u7d04\"],[\"HANBAI\",\"eigyt\",\"\\u5168\\u793e\\u5927_\\u81ea\\u793e\\u9700\\u8981_\\u30d3\\uff33\",\"\\u6599\\u91d1\\u5185\\u8a33\\u5c65\\u6b74\"],[\"HANBAI\",\"eigyt\",\"\\u5168\\u793e\\u5927_\\u81ea\\u793e\\u9700\\u8981_\\u30d3\\uff33\",\"\\u9700\\u7d66\\u5358\\u4f4d\"],[\"HANBAI\",\"eigyt\",\"\\u5168\\u793e\\u5927_\\u81ea\\u793e\\u9700\\u8981_\\u30d3\\uff33\",\"\\u9700\\u7d66\\u5951\\u7d04\"],[\"HANBAI\",\"eigyt\",\"\\u5168\\u793e\\u5927_\\u81ea\\u793e\\u9700\\u8981_\\u30d3\\uff33\",\"\\u6599\\u91d1\\u5185\\u8a33\\u5c65\\u6b74\"],[\"HANBAI\",\"eigyt\",\"\\u5168\\u793e\\u5927_\\u81ea\\u793e\\u9700\\u8981_\\u30d3\\uff33\",\"\\u9700\\u7d66\\u5358\\u4f4d\"],[\"HANBAI\",\"eigyt\",\"\\u5168\\u793e\\u5927_\\u81ea\\u793e\\u9700\\u8981_\\u30d3\\uff33\",\"\\u9700\\u7d66\\u5951\\u7d04\"]],\"domain\":{\"x\":[0.0,1.0],\"y\":[0.0,1.0]},\"hovertemplate\":\"<b>%{hovertext}</b><br><br>labels=%{label}<br>index=%{value}<br>parent=%{parent}<br>id=%{id}<br>DB_User=%{customdata[0]}<br>Userhost=%{customdata[1]}<br>schema=%{customdata[2]}<br>table=%{customdata[3]}<extra></extra>\",\"hovertext\":[\"eigyt\",\"eigyt\",\"eigyt\",\"eigyt\",\"eigyt\",\"eigyt\",\"eigyt\",\"eigyt\",\"eigyt\",\"eigyt\",\"eigyt\",\"eigyt\",\"eigyt\",\"eigyt\"],\"ids\":[\"\\u6599\\u91d1\\u5185\\u8a33\\u5c65\\u6b74/\\u5168\\u793e\\u5927_\\u81ea\\u793e\\u9700\\u8981_\\u30d3\\uff33/246681550\",\"\\u9700\\u7d66\\u5358\\u4f4d/\\u5168\\u793e\\u5927_\\u81ea\\u793e\\u9700\\u8981_\\u30d3\\uff33/246681550\",\"\\u9700\\u7d66\\u5951\\u7d04/\\u5168\\u793e\\u5927_\\u81ea\\u793e\\u9700\\u8981_\\u30d3\\uff33/246681550\",\"\\u6599\\u91d1\\u5185\\u8a33\\u5c65\\u6b74/\\u5168\\u793e\\u5927_\\u81ea\\u793e\\u9700\\u8981_\\u30d3\\uff33/246681746\",\"\\u9700\\u7d66\\u5358\\u4f4d/\\u5168\\u793e\\u5927_\\u81ea\\u793e\\u9700\\u8981_\\u30d3\\uff33/246681746\",\"\\u9700\\u7d66\\u5951\\u7d04/\\u5168\\u793e\\u5927_\\u81ea\\u793e\\u9700\\u8981_\\u30d3\\uff33/246681746\",\"\\u6599\\u91d1\\u5185\\u8a33\\u5c65\\u6b74/\\u5168\\u793e\\u5927_\\u81ea\\u793e\\u9700\\u8981_\\u30d3\\uff33/246681793\",\"\\u9700\\u7d66\\u5951\\u7d04/\\u5168\\u793e\\u5927_\\u81ea\\u793e\\u9700\\u8981_\\u30d3\\uff33/246681793\",\"\\u6599\\u91d1\\u5185\\u8a33\\u5c65\\u6b74/\\u5168\\u793e\\u5927_\\u81ea\\u793e\\u9700\\u8981_\\u30d3\\uff33\",\"\\u9700\\u7d66\\u5358\\u4f4d/\\u5168\\u793e\\u5927_\\u81ea\\u793e\\u9700\\u8981_\\u30d3\\uff33\",\"\\u9700\\u7d66\\u5951\\u7d04/\\u5168\\u793e\\u5927_\\u81ea\\u793e\\u9700\\u8981_\\u30d3\\uff33\",\"\\u6599\\u91d1\\u5185\\u8a33\\u5c65\\u6b74\",\"\\u9700\\u7d66\\u5358\\u4f4d\",\"\\u9700\\u7d66\\u5951\\u7d04\"],\"labels\":[\"246681550\",\"246681550\",\"246681550\",\"246681746\",\"246681746\",\"246681746\",\"246681793\",\"246681793\",\"\\u5168\\u793e\\u5927_\\u81ea\\u793e\\u9700\\u8981_\\u30d3\\uff33\",\"\\u5168\\u793e\\u5927_\\u81ea\\u793e\\u9700\\u8981_\\u30d3\\uff33\",\"\\u5168\\u793e\\u5927_\\u81ea\\u793e\\u9700\\u8981_\\u30d3\\uff33\",\"\\u6599\\u91d1\\u5185\\u8a33\\u5c65\\u6b74\",\"\\u9700\\u7d66\\u5358\\u4f4d\",\"\\u9700\\u7d66\\u5951\\u7d04\"],\"name\":\"\",\"parents\":[\"\\u6599\\u91d1\\u5185\\u8a33\\u5c65\\u6b74/\\u5168\\u793e\\u5927_\\u81ea\\u793e\\u9700\\u8981_\\u30d3\\uff33\",\"\\u9700\\u7d66\\u5358\\u4f4d/\\u5168\\u793e\\u5927_\\u81ea\\u793e\\u9700\\u8981_\\u30d3\\uff33\",\"\\u9700\\u7d66\\u5951\\u7d04/\\u5168\\u793e\\u5927_\\u81ea\\u793e\\u9700\\u8981_\\u30d3\\uff33\",\"\\u6599\\u91d1\\u5185\\u8a33\\u5c65\\u6b74/\\u5168\\u793e\\u5927_\\u81ea\\u793e\\u9700\\u8981_\\u30d3\\uff33\",\"\\u9700\\u7d66\\u5358\\u4f4d/\\u5168\\u793e\\u5927_\\u81ea\\u793e\\u9700\\u8981_\\u30d3\\uff33\",\"\\u9700\\u7d66\\u5951\\u7d04/\\u5168\\u793e\\u5927_\\u81ea\\u793e\\u9700\\u8981_\\u30d3\\uff33\",\"\\u6599\\u91d1\\u5185\\u8a33\\u5c65\\u6b74/\\u5168\\u793e\\u5927_\\u81ea\\u793e\\u9700\\u8981_\\u30d3\\uff33\",\"\\u9700\\u7d66\\u5951\\u7d04/\\u5168\\u793e\\u5927_\\u81ea\\u793e\\u9700\\u8981_\\u30d3\\uff33\",\"\\u6599\\u91d1\\u5185\\u8a33\\u5c65\\u6b74\",\"\\u9700\\u7d66\\u5358\\u4f4d\",\"\\u9700\\u7d66\\u5951\\u7d04\",\"\",\"\",\"\"],\"values\":[63,51,57,4887,4134,4146,53048,43,57998,4185,4246,57998,4185,4246],\"type\":\"treemap\"}],                        {\"template\":{\"data\":{\"histogram2dcontour\":[{\"type\":\"histogram2dcontour\",\"colorbar\":{\"outlinewidth\":0,\"ticks\":\"\"},\"colorscale\":[[0.0,\"#0d0887\"],[0.1111111111111111,\"#46039f\"],[0.2222222222222222,\"#7201a8\"],[0.3333333333333333,\"#9c179e\"],[0.4444444444444444,\"#bd3786\"],[0.5555555555555556,\"#d8576b\"],[0.6666666666666666,\"#ed7953\"],[0.7777777777777778,\"#fb9f3a\"],[0.8888888888888888,\"#fdca26\"],[1.0,\"#f0f921\"]]}],\"choropleth\":[{\"type\":\"choropleth\",\"colorbar\":{\"outlinewidth\":0,\"ticks\":\"\"}}],\"histogram2d\":[{\"type\":\"histogram2d\",\"colorbar\":{\"outlinewidth\":0,\"ticks\":\"\"},\"colorscale\":[[0.0,\"#0d0887\"],[0.1111111111111111,\"#46039f\"],[0.2222222222222222,\"#7201a8\"],[0.3333333333333333,\"#9c179e\"],[0.4444444444444444,\"#bd3786\"],[0.5555555555555556,\"#d8576b\"],[0.6666666666666666,\"#ed7953\"],[0.7777777777777778,\"#fb9f3a\"],[0.8888888888888888,\"#fdca26\"],[1.0,\"#f0f921\"]]}],\"heatmap\":[{\"type\":\"heatmap\",\"colorbar\":{\"outlinewidth\":0,\"ticks\":\"\"},\"colorscale\":[[0.0,\"#0d0887\"],[0.1111111111111111,\"#46039f\"],[0.2222222222222222,\"#7201a8\"],[0.3333333333333333,\"#9c179e\"],[0.4444444444444444,\"#bd3786\"],[0.5555555555555556,\"#d8576b\"],[0.6666666666666666,\"#ed7953\"],[0.7777777777777778,\"#fb9f3a\"],[0.8888888888888888,\"#fdca26\"],[1.0,\"#f0f921\"]]}],\"heatmapgl\":[{\"type\":\"heatmapgl\",\"colorbar\":{\"outlinewidth\":0,\"ticks\":\"\"},\"colorscale\":[[0.0,\"#0d0887\"],[0.1111111111111111,\"#46039f\"],[0.2222222222222222,\"#7201a8\"],[0.3333333333333333,\"#9c179e\"],[0.4444444444444444,\"#bd3786\"],[0.5555555555555556,\"#d8576b\"],[0.6666666666666666,\"#ed7953\"],[0.7777777777777778,\"#fb9f3a\"],[0.8888888888888888,\"#fdca26\"],[1.0,\"#f0f921\"]]}],\"contourcarpet\":[{\"type\":\"contourcarpet\",\"colorbar\":{\"outlinewidth\":0,\"ticks\":\"\"}}],\"contour\":[{\"type\":\"contour\",\"colorbar\":{\"outlinewidth\":0,\"ticks\":\"\"},\"colorscale\":[[0.0,\"#0d0887\"],[0.1111111111111111,\"#46039f\"],[0.2222222222222222,\"#7201a8\"],[0.3333333333333333,\"#9c179e\"],[0.4444444444444444,\"#bd3786\"],[0.5555555555555556,\"#d8576b\"],[0.6666666666666666,\"#ed7953\"],[0.7777777777777778,\"#fb9f3a\"],[0.8888888888888888,\"#fdca26\"],[1.0,\"#f0f921\"]]}],\"surface\":[{\"type\":\"surface\",\"colorbar\":{\"outlinewidth\":0,\"ticks\":\"\"},\"colorscale\":[[0.0,\"#0d0887\"],[0.1111111111111111,\"#46039f\"],[0.2222222222222222,\"#7201a8\"],[0.3333333333333333,\"#9c179e\"],[0.4444444444444444,\"#bd3786\"],[0.5555555555555556,\"#d8576b\"],[0.6666666666666666,\"#ed7953\"],[0.7777777777777778,\"#fb9f3a\"],[0.8888888888888888,\"#fdca26\"],[1.0,\"#f0f921\"]]}],\"mesh3d\":[{\"type\":\"mesh3d\",\"colorbar\":{\"outlinewidth\":0,\"ticks\":\"\"}}],\"scatter\":[{\"fillpattern\":{\"fillmode\":\"overlay\",\"size\":10,\"solidity\":0.2},\"type\":\"scatter\"}],\"parcoords\":[{\"type\":\"parcoords\",\"line\":{\"colorbar\":{\"outlinewidth\":0,\"ticks\":\"\"}}}],\"scatterpolargl\":[{\"type\":\"scatterpolargl\",\"marker\":{\"colorbar\":{\"outlinewidth\":0,\"ticks\":\"\"}}}],\"bar\":[{\"error_x\":{\"color\":\"#2a3f5f\"},\"error_y\":{\"color\":\"#2a3f5f\"},\"marker\":{\"line\":{\"color\":\"#E5ECF6\",\"width\":0.5},\"pattern\":{\"fillmode\":\"overlay\",\"size\":10,\"solidity\":0.2}},\"type\":\"bar\"}],\"scattergeo\":[{\"type\":\"scattergeo\",\"marker\":{\"colorbar\":{\"outlinewidth\":0,\"ticks\":\"\"}}}],\"scatterpolar\":[{\"type\":\"scatterpolar\",\"marker\":{\"colorbar\":{\"outlinewidth\":0,\"ticks\":\"\"}}}],\"histogram\":[{\"marker\":{\"pattern\":{\"fillmode\":\"overlay\",\"size\":10,\"solidity\":0.2}},\"type\":\"histogram\"}],\"scattergl\":[{\"type\":\"scattergl\",\"marker\":{\"colorbar\":{\"outlinewidth\":0,\"ticks\":\"\"}}}],\"scatter3d\":[{\"type\":\"scatter3d\",\"line\":{\"colorbar\":{\"outlinewidth\":0,\"ticks\":\"\"}},\"marker\":{\"colorbar\":{\"outlinewidth\":0,\"ticks\":\"\"}}}],\"scattermapbox\":[{\"type\":\"scattermapbox\",\"marker\":{\"colorbar\":{\"outlinewidth\":0,\"ticks\":\"\"}}}],\"scatterternary\":[{\"type\":\"scatterternary\",\"marker\":{\"colorbar\":{\"outlinewidth\":0,\"ticks\":\"\"}}}],\"scattercarpet\":[{\"type\":\"scattercarpet\",\"marker\":{\"colorbar\":{\"outlinewidth\":0,\"ticks\":\"\"}}}],\"carpet\":[{\"aaxis\":{\"endlinecolor\":\"#2a3f5f\",\"gridcolor\":\"white\",\"linecolor\":\"white\",\"minorgridcolor\":\"white\",\"startlinecolor\":\"#2a3f5f\"},\"baxis\":{\"endlinecolor\":\"#2a3f5f\",\"gridcolor\":\"white\",\"linecolor\":\"white\",\"minorgridcolor\":\"white\",\"startlinecolor\":\"#2a3f5f\"},\"type\":\"carpet\"}],\"table\":[{\"cells\":{\"fill\":{\"color\":\"#EBF0F8\"},\"line\":{\"color\":\"white\"}},\"header\":{\"fill\":{\"color\":\"#C8D4E3\"},\"line\":{\"color\":\"white\"}},\"type\":\"table\"}],\"barpolar\":[{\"marker\":{\"line\":{\"color\":\"#E5ECF6\",\"width\":0.5},\"pattern\":{\"fillmode\":\"overlay\",\"size\":10,\"solidity\":0.2}},\"type\":\"barpolar\"}],\"pie\":[{\"automargin\":true,\"type\":\"pie\"}]},\"layout\":{\"autotypenumbers\":\"strict\",\"colorway\":[\"#636efa\",\"#EF553B\",\"#00cc96\",\"#ab63fa\",\"#FFA15A\",\"#19d3f3\",\"#FF6692\",\"#B6E880\",\"#FF97FF\",\"#FECB52\"],\"font\":{\"color\":\"#2a3f5f\"},\"hovermode\":\"closest\",\"hoverlabel\":{\"align\":\"left\"},\"paper_bgcolor\":\"white\",\"plot_bgcolor\":\"#E5ECF6\",\"polar\":{\"bgcolor\":\"#E5ECF6\",\"angularaxis\":{\"gridcolor\":\"white\",\"linecolor\":\"white\",\"ticks\":\"\"},\"radialaxis\":{\"gridcolor\":\"white\",\"linecolor\":\"white\",\"ticks\":\"\"}},\"ternary\":{\"bgcolor\":\"#E5ECF6\",\"aaxis\":{\"gridcolor\":\"white\",\"linecolor\":\"white\",\"ticks\":\"\"},\"baxis\":{\"gridcolor\":\"white\",\"linecolor\":\"white\",\"ticks\":\"\"},\"caxis\":{\"gridcolor\":\"white\",\"linecolor\":\"white\",\"ticks\":\"\"}},\"coloraxis\":{\"colorbar\":{\"outlinewidth\":0,\"ticks\":\"\"}},\"colorscale\":{\"sequential\":[[0.0,\"#0d0887\"],[0.1111111111111111,\"#46039f\"],[0.2222222222222222,\"#7201a8\"],[0.3333333333333333,\"#9c179e\"],[0.4444444444444444,\"#bd3786\"],[0.5555555555555556,\"#d8576b\"],[0.6666666666666666,\"#ed7953\"],[0.7777777777777778,\"#fb9f3a\"],[0.8888888888888888,\"#fdca26\"],[1.0,\"#f0f921\"]],\"sequentialminus\":[[0.0,\"#0d0887\"],[0.1111111111111111,\"#46039f\"],[0.2222222222222222,\"#7201a8\"],[0.3333333333333333,\"#9c179e\"],[0.4444444444444444,\"#bd3786\"],[0.5555555555555556,\"#d8576b\"],[0.6666666666666666,\"#ed7953\"],[0.7777777777777778,\"#fb9f3a\"],[0.8888888888888888,\"#fdca26\"],[1.0,\"#f0f921\"]],\"diverging\":[[0,\"#8e0152\"],[0.1,\"#c51b7d\"],[0.2,\"#de77ae\"],[0.3,\"#f1b6da\"],[0.4,\"#fde0ef\"],[0.5,\"#f7f7f7\"],[0.6,\"#e6f5d0\"],[0.7,\"#b8e186\"],[0.8,\"#7fbc41\"],[0.9,\"#4d9221\"],[1,\"#276419\"]]},\"xaxis\":{\"gridcolor\":\"white\",\"linecolor\":\"white\",\"ticks\":\"\",\"title\":{\"standoff\":15},\"zerolinecolor\":\"white\",\"automargin\":true,\"zerolinewidth\":2},\"yaxis\":{\"gridcolor\":\"white\",\"linecolor\":\"white\",\"ticks\":\"\",\"title\":{\"standoff\":15},\"zerolinecolor\":\"white\",\"automargin\":true,\"zerolinewidth\":2},\"scene\":{\"xaxis\":{\"backgroundcolor\":\"#E5ECF6\",\"gridcolor\":\"white\",\"linecolor\":\"white\",\"showbackground\":true,\"ticks\":\"\",\"zerolinecolor\":\"white\",\"gridwidth\":2},\"yaxis\":{\"backgroundcolor\":\"#E5ECF6\",\"gridcolor\":\"white\",\"linecolor\":\"white\",\"showbackground\":true,\"ticks\":\"\",\"zerolinecolor\":\"white\",\"gridwidth\":2},\"zaxis\":{\"backgroundcolor\":\"#E5ECF6\",\"gridcolor\":\"white\",\"linecolor\":\"white\",\"showbackground\":true,\"ticks\":\"\",\"zerolinecolor\":\"white\",\"gridwidth\":2}},\"shapedefaults\":{\"line\":{\"color\":\"#2a3f5f\"}},\"annotationdefaults\":{\"arrowcolor\":\"#2a3f5f\",\"arrowhead\":0,\"arrowwidth\":1},\"geo\":{\"bgcolor\":\"white\",\"landcolor\":\"#E5ECF6\",\"subunitcolor\":\"white\",\"showland\":true,\"showlakes\":true,\"lakecolor\":\"white\"},\"title\":{\"x\":0.05},\"mapbox\":{\"style\":\"light\"}}},\"legend\":{\"tracegroupgap\":0},\"margin\":{\"t\":60}},                        {\"responsive\": true}                    ).then(function(){\n",
       "                            \n",
       "var gd = document.getElementById('7b6f84be-9fb4-4043-aca7-3f38d465668e');\n",
       "var x = new MutationObserver(function (mutations, observer) {{\n",
       "        var display = window.getComputedStyle(gd).display;\n",
       "        if (!display || display === 'none') {{\n",
       "            console.log([gd, 'removed!']);\n",
       "            Plotly.purge(gd);\n",
       "            observer.disconnect();\n",
       "        }}\n",
       "}});\n",
       "\n",
       "// Listen for the removal of the full notebook cells\n",
       "var notebookContainer = gd.closest('#notebook-container');\n",
       "if (notebookContainer) {{\n",
       "    x.observe(notebookContainer, {childList: true});\n",
       "}}\n",
       "\n",
       "// Listen for the clearing of the current output cell\n",
       "var outputEl = gd.closest('.output');\n",
       "if (outputEl) {{\n",
       "    x.observe(outputEl, {childList: true});\n",
       "}}\n",
       "\n",
       "                        })                };                });            </script>        </div>"
      ]
     },
     "metadata": {},
     "output_type": "display_data"
    }
   ],
   "source": [
    "import plotly.express as px\n",
    "\n",
    "# Plotlyを使用してデータをプロット\n",
    "fig = px.treemap(df5, path=[\"table\",\"schema\",\"Session_Id\"],values= df5.index,hover_name=\"Userhost\", hover_data=[\"DB_User\",\"Userhost\",\"schema\",\"table\"])\n",
    "#fig = px.treemap(df5, path=[\"Session_Id\",\"table\"],values =df5.index,hover_name=\"Userhost\", hover_data=[\"DB_User\",\"Userhost\",\"schema\",\"table\"])\n",
    "\n",
    "fig.show()"
   ]
  },
  {
   "cell_type": "code",
   "execution_count": null,
   "id": "747adbe4",
   "metadata": {},
   "outputs": [],
   "source": []
  }
 ],
 "metadata": {
  "kernelspec": {
   "display_name": "Python 3 (ipykernel)",
   "language": "python",
   "name": "python3"
  },
  "language_info": {
   "codemirror_mode": {
    "name": "ipython",
    "version": 3
   },
   "file_extension": ".py",
   "mimetype": "text/x-python",
   "name": "python",
   "nbconvert_exporter": "python",
   "pygments_lexer": "ipython3",
   "version": "3.11.5"
  }
 },
 "nbformat": 4,
 "nbformat_minor": 5
}
