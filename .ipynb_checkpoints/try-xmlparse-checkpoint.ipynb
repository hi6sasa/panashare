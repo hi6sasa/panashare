{
 "cells": [
  {
   "cell_type": "code",
   "execution_count": 44,
   "id": "c29d1b45",
   "metadata": {},
   "outputs": [
    {
     "name": "stdout",
     "output_type": "stream",
     "text": [
      "year, neighbor data for Singapore has been appended to Singapore_data.csv in reverse order\n"
     ]
    }
   ],
   "source": [
    "import xmltodict\n",
    "import csv\n",
    "\n",
    "XML_DATA = '''<?xml version=\"1.0\"?>\n",
    "<data>\n",
    "  <country name=\"Liechtenstein\">\n",
    "      <rank>1</rank>\n",
    "      <year>2008</year>\n",
    "      <gdppc>141100</gdppc>\n",
    "      <neighbor name=\"Austria\" direction=\"E\"/>\n",
    "      <neighbor name=\"Switzerland\" direction=\"W\"/>\n",
    "  </country>\n",
    "  <country name=\"Singapore\">\n",
    "      <rank>4</rank>\n",
    "      <year>2011</year>\n",
    "      <gdppc>59900</gdppc>\n",
    "      <neighbor name=\"Malaysia\" direction=\"N\"/>\n",
    "  </country>\n",
    "  <country name=\"Panama\">\n",
    "      <rank>68</rank>\n",
    "      <year>2011</year>\n",
    "      <gdppc>13600</gdppc>\n",
    "      <neighbor name=\"Costa Rica\" direction=\"W\"/>\n",
    "      <neighbor name=\"Colombia\" direction=\"E\"/>\n",
    "  </country>\n",
    "</data>'''\n",
    "\n",
    "parsed = xmltodict.parse(XML_DATA)\n",
    "\n",
    "# 抽出したいcountry_name\n",
    "country_name_to_extract = \"Singapore\"\n",
    "\n",
    "# 抽出する要素の指定\n",
    "elements_to_extract = ['year', 'neighbor']\n",
    "\n",
    "# country_nameが指定された文字列の場合にデータを抽出する\n",
    "for country_data in parsed['data']['country']:\n",
    "    if country_data['@name'] == country_name_to_extract:\n",
    "        # 抽出するデータのみを辞書に格納\n",
    "        extracted_data = {element: country_data[element] for element in elements_to_extract}\n",
    "\n",
    "        # ファイル名\n",
    "        output_file = f\"{country_name_to_extract}_data.csv\"\n",
    "\n",
    "        # CSVファイルへの逆順追記\n",
    "        with open(output_file, 'a', newline='') as csvfile:\n",
    "            fieldnames = extracted_data.keys()\n",
    "            writer = csv.DictWriter(csvfile, fieldnames=fieldnames)\n",
    "\n",
    "            # ヘッダーの追記\n",
    "            if csvfile.tell() == 0:  # ファイルが空の場合のみヘッダーを追記\n",
    "                writer.writeheader()\n",
    "\n",
    "            writer.writerow(extracted_data)\n",
    "\n",
    "        print(f\"{', '.join(elements_to_extract)} data for {country_name_to_extract} has been appended to {output_file} in reverse order\")\n"
   ]
  },
  {
   "cell_type": "code",
   "execution_count": null,
   "id": "a361fb85",
   "metadata": {},
   "outputs": [],
   "source": [
    "import os\n",
    "import xmltodict\n",
    "\n",
    "# XMLファイルが含まれるフォルダのパス\n",
    "folder_path = \"./data\"\n",
    "\n",
    "# フォルダ内のXMLファイルを読み込んで1つのXMLデータとして結合する\n",
    "XML_DATA = \"\"\n",
    "for filename in os.listdir(folder_path):\n",
    "    if filename.endswith(\".xml\"):\n",
    "        with open(os.path.join(folder_path, filename), \"r\") as xml_file:\n",
    "            XML_DATA += xml_file.read()\n",
    "\n",
    "parsed = xmltodict.parse(XML_DATA)"
   ]
  }
 ],
 "metadata": {
  "kernelspec": {
   "display_name": "Python 3 (ipykernel)",
   "language": "python",
   "name": "python3"
  },
  "language_info": {
   "codemirror_mode": {
    "name": "ipython",
    "version": 3
   },
   "file_extension": ".py",
   "mimetype": "text/x-python",
   "name": "python",
   "nbconvert_exporter": "python",
   "pygments_lexer": "ipython3",
   "version": "3.11.5"
  }
 },
 "nbformat": 4,
 "nbformat_minor": 5
}
